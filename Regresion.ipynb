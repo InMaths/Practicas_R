{
 "cells": [
  {
   "cell_type": "markdown",
   "id": "89e4c580-7cb7-400e-8549-44c7af4a6d65",
   "metadata": {},
   "source": [
    "<div style=\"text-align: center; font-size: 30px;\">\n",
    "Prácticas de Estadística<br/>\n",
    "</div>\n",
    "<div style=\"text-align: center; font-size: 30px;\">\n",
    "Análisis bidimensional y Regresión\n",
    "</div>\n",
    "<div style=\"text-align: center; font-size: 16px; font-style: italic\">\n",
    "Material elaborado por M. Dolores Frías, Jesús Fernández y Carmen M. Sordo profesores del Departamento de Matemática Aplicada y Ciencias de la Computación de la Universidad de Cantabria.\n",
    "</div>"
   ]
  },
  {
   "cell_type": "markdown",
   "id": "b77abfbd-c549-4202-82df-802ce74d5f59",
   "metadata": {},
   "source": [
    "# Objetivos\n",
    "\n",
    "R permite realizar estudios de más de una variable. En particular en esta práctica nos centraremos\n",
    "en el caso de 2 variables con el fin de estudiar el comportamiento de una de ellas a partir de otra.\n",
    "\n",
    "# Análisis descriptivo de variables bidimensionales\n",
    "\n",
    "## Tablas de doble entrada\n",
    "\n",
    "En primer lugar construimos la tabla de doble entrada con dos variables no numéricas que seleccionamos del fichero *Pulsaciones.rda* como son *Actividad* que debemos ordenar de menos a más actividad y *Fumar*."
   ]
  },
  {
   "cell_type": "code",
   "execution_count": null,
   "id": "6c529025-5488-4377-895c-480aa0c383e0",
   "metadata": {
    "editable": true,
    "slideshow": {
     "slide_type": ""
    },
    "tags": []
   },
   "outputs": [],
   "source": [
    "# Establecemos el directorio donde se almacenan los ficheros de datos en GitHub\n",
    "setwd(\"data/\") \n",
    "# Carga de lo datos del fichero\n",
    "load(\"Pulsaciones.rda\") \n",
    "attach(Pulsaciones)\n",
    "# Ordenamos Actividad\n",
    "actividad.order <- ordered(Actividad, levels=c( \"baja\", \"media\", \"alta\"))\n",
    "# Tabla de doble entrada\n",
    "table(\"Actividad fisica\"=actividad.order, \"Tabaco\"=Fumar)"
   ]
  },
  {
   "cell_type": "markdown",
   "id": "ef739da9-3d5c-4fc7-8379-6f6d7c9e794f",
   "metadata": {
    "editable": true,
    "slideshow": {
     "slide_type": ""
    },
    "tags": []
   },
   "source": [
    "Del resultado de la tabla podemos ver por ejemplo, que hay 16 personas que realizaron una actividad alta que son no fumadoras.\n",
    "\n",
    "Los valores que se muestran son frecuencias absolutas, pero podríamos obtener las frecuencias relativas sin más que dividir entre el tamaño de la muestra. Vemos en la siguiente tabla que esas 16 personas representan el 17.4% de la muestra.\n",
    "\n",
    "Notar que se ha aplicado la función `round` a la salida de `table` para obtener los resultados con 3 decimales. "
   ]
  },
  {
   "cell_type": "code",
   "execution_count": null,
   "id": "04ff92ce-cd35-48f1-9126-41e4967b781d",
   "metadata": {},
   "outputs": [],
   "source": [
    "n <- sum(table(\"Actividad fisica\"=actividad.order, \"Tabaco\"=Fumar))\n",
    "round(table(\"Actividad fisica\"=actividad.order, \"Tabaco\"=Fumar)/n, 3)"
   ]
  },
  {
   "cell_type": "markdown",
   "id": "433c5789-b109-4017-8243-a4dc89befe29",
   "metadata": {},
   "source": [
    "Como ocurría en el caso unidimensional, si queremos agrupar los datos de variables continuas o discretas con muchos valores posibles debemos agrupar primero los valores en intervalos con la función `cut` indicando de donde a donde va cada uno de los intervalos y si estos se deben cerrar por la derecha o por la izquierda. Así, sabiendo que el criterio de Sturges nos indica que debemos definir 8 intervalos, la tabla de doble entrada para las variables *Pulso1* y *Pulso2* se puede obtener como:"
   ]
  },
  {
   "cell_type": "code",
   "execution_count": null,
   "id": "436e3caa-cabc-4eb6-97dd-8f8280d72058",
   "metadata": {},
   "outputs": [],
   "source": [
    "n <- length(Pulso1)\n",
    "# Criterio de Sturges\n",
    "floor(3/2+log(n)/log(2)) \n",
    "range(Pulso1)\n",
    "range(Pulso2)\n",
    "# Tabla de doble entrada\n",
    "table(\"Pulso 1\"=cut(Pulso1, seq(44, 105, 7)), \"Pulso 2\"=cut(Pulso2, seq(50, 150, 12), right=FALSE))"
   ]
  },
  {
   "cell_type": "markdown",
   "id": "40fe9cc2-6648-4d47-bf46-bf9bdc60620f",
   "metadata": {
    "editable": true,
    "slideshow": {
     "slide_type": ""
    },
    "tags": []
   },
   "source": [
    "Vemos por ejemplo que hay 16 personas con una pulso antes de la prueba entre (65,72] y un pulso después de la actividad entre [62,74)."
   ]
  },
  {
   "cell_type": "markdown",
   "id": "d56dac86-73cf-4784-96eb-c6288c1662d9",
   "metadata": {},
   "source": [
    "## Diagrama de dispersión\n",
    "\n",
    "Con el fin de analizar la relación entre dos variables también resulta\n",
    "interesante la realización de distintos tipos de gráficos como es el\n",
    "diagrama de dispersión analizado en clase. En este caso vamos a estudiar la\n",
    "relación que existe entre las variables *Peso* y *Altura* del fichero *Pulsaciones.rda*:"
   ]
  },
  {
   "cell_type": "code",
   "execution_count": null,
   "id": "f53b8617-6767-40cd-9d59-792c4ea2c903",
   "metadata": {},
   "outputs": [],
   "source": [
    "plot(Altura, Peso, main=\"Diagrama de dispersion\", pch=19, xlab=\"Altura (cm)\", ylab=\"Peso (Kg)\")"
   ]
  },
  {
   "cell_type": "markdown",
   "id": "c93120fe-f0ac-4d6f-ac69-4fc0eae78dec",
   "metadata": {},
   "source": [
    "Podemos mejorar la representación anterior utilizando la función `scatterplot`\n",
    "de la librería `car` que debemos instalar (este proceso solo se realiza una\n",
    "vez con la orden `install.packages(\"car\")`) y cargar con la función `library`. Recordar que debemos cargar esta\n",
    "librería cada vez que iniciemos R y queramos utilizar alguna función\n",
    "contenida en este paquete. "
   ]
  },
  {
   "cell_type": "code",
   "execution_count": null,
   "id": "2f89baf4-af5d-4e10-a0de-e4796077911e",
   "metadata": {},
   "outputs": [],
   "source": [
    "library(car)\n",
    "scatterplot(Peso~Altura, smooth=FALSE, xlab=\"Altura (cm)\", ylab=\"Peso (Kg)\")"
   ]
  },
  {
   "cell_type": "markdown",
   "id": "13ee9c45-1189-4f12-85bd-bfc07fb02a29",
   "metadata": {},
   "source": [
    "La función `scatterplot` dibuja la recta de\n",
    "regresión que mejor se ajuste a la nube de puntos considerando el criterio de\n",
    "mínimos cuadrados. Además también dibuja los boxplots de cada variable en\n",
    "su eje correspondiente. Consultar la ayuda de la función `scatterplot` para\n",
    "ver todas las opciones que ofrece.\n",
    "\n",
    "A la vista de la figura, se deduce que existe una relación lineal directa entre ambas variables. Lineal porque la nube de puntos se concentra alrededor de una recta y directa porque cuando una variable aumenta la otra también (pendiente de la recta positiva). Para cuantificar\n",
    "esta relación lineal entre las dos variables vamos a calcular el coeficiente de correlación lineal. La función `cor.test` o `cor` nos proporcionan este valor:"
   ]
  },
  {
   "cell_type": "code",
   "execution_count": null,
   "id": "1e4ce049-b18e-4fe2-b3e3-4372db11fe98",
   "metadata": {},
   "outputs": [],
   "source": [
    "# Coeficiente de correlacion lineal\n",
    "cor(Altura, Peso)"
   ]
  },
  {
   "cell_type": "markdown",
   "id": "1f19febe-a95a-4ded-abe2-f1db07f05557",
   "metadata": {},
   "source": [
    "que por defecto calcula el coeficiente de correlación de Pearson aunque como se indica en la ayuda de esta función también puede calcular el de Kendall o Spearman.\n",
    "\n",
    "Como ya esperábamos el coeficiente de correlación lineal es relativamente alto y positivo (0.77) lo que confirma la relación lineal directa entre las variables que ya observábamos en el diagrama de dispersión."
   ]
  },
  {
   "cell_type": "markdown",
   "id": "e7efa099-fc37-49a4-9dc0-2f63b7f37694",
   "metadata": {},
   "source": [
    "<div class=\"alert alert-block alert-info\">\n",
    "<strong>PRACTICA TÚ MISMO</strong>\n",
    "\n",
    "- Representar un diagrama de dispersión de *Pulso1* frente al *Pulso2*.\n",
    "  1. Añadir un título apropiado.\n",
    "  2. ¿Qué sugiere el gráfico sobre la relación entre estas dos variables? \n",
    "  3. Añadir *Correr* como variable de agrupamiento.\n",
    "  4. ¿Difiere mucho la relación entre *Pulso1* y *Pulso2* entre los que corrieron y los que no?\n",
    "\n",
    "</n>\n",
    "\n",
    "- Hacer un diagrama de dispersión de la *Altura* frente al *Peso* separando por sexos y responder a las siguientes preguntas:\n",
    "  1. ¿Aumenta en la misma proporción la altura con el peso en los hombres y en las mujeres?\n",
    "  2. ¿Cuál de los dos grupos presenta un valor de la correlación mayor? Indicar el valor en cada caso. Nota: En este caso se necesita filtrar los datos por *Sexo* antes de calcular el coeficiente de correlación.\n",
    "</div>"
   ]
  },
  {
   "cell_type": "markdown",
   "id": "de968d71-6579-4383-82d9-c10af3528e9d",
   "metadata": {},
   "source": [
    "# Regresión lineal\n",
    "\n",
    "La función `lm` de R es la que nos permite ajustar un modelo de regresión\n",
    "lineal ya sea simple ($\\hat{y}=a+bx$) con la orden `lm(y~x)` o\n",
    "múltiple ($\\hat{y}=\\beta_0+\\beta_1x_1+...+\\beta_px_p$) con la orden\n",
    "`lm(y~x1+x2+...+xp)`. \n",
    "\n",
    "A modo de ejemplo podemos aplicar un modelo de regresión lineal simple\n",
    "considerando la variable *Peso* en función de la *Altura*. La\n",
    "relación lineal entre estas variables ya la estudiamos con el gráfico de\n",
    "dispersión  y el coeficiente de\n",
    "correlación, considerando que este tipo de modelo es adecuado. En primer\n",
    "lugar se indica la variable dependiente (*Peso*), seguido de la variable\n",
    "independiente (*Altura*), separadas por el carácter `~`. "
   ]
  },
  {
   "cell_type": "code",
   "execution_count": null,
   "id": "5be55fae-058c-4f51-ab58-2a91a918e1ec",
   "metadata": {},
   "outputs": [],
   "source": [
    "# Regresion lineal\n",
    "lm(Peso~Altura)"
   ]
  },
  {
   "cell_type": "markdown",
   "id": "bcf59e57-d0cd-4425-9a12-b80c3d416ba6",
   "metadata": {},
   "source": [
    "como resultado obtenemos los valores de los parámetros a y b:\n",
    "\n",
    "$\\hat{y}=-93.89492 + 0.91516x$ \n",
    "\n",
    "Para trabajar mejor con esos valores podemos guardar la salida de `lm` en una variable. Eso nos permite obtener distintos resultados calculados en el ajuste de la forma:"
   ]
  },
  {
   "cell_type": "code",
   "execution_count": null,
   "id": "641543b1-1e2f-47a1-9eba-df8f29fdeeaf",
   "metadata": {},
   "outputs": [],
   "source": [
    "# Regresion lineal\n",
    "RegMod <- lm(Peso~Altura)\n",
    "# Parametros del ajuste\n",
    "coef(RegMod)\n",
    "# Estadistica del modelo lineal\n",
    "summary(RegMod)"
   ]
  },
  {
   "cell_type": "markdown",
   "id": "9fb5e6f1-f444-4de0-9151-eaca290956fd",
   "metadata": {},
   "source": [
    "La orden `summary` que se ha ejecutado nos da información adicional\n",
    "sobre los residuos (su mínimo, máximo y cuartiles), los valores del corte con el eje y la pendiente, el error estándar de la estimación ($S_e=\\sqrt{\\frac{E^2}{n-2}}$), el coeficiente de determinación (*R-squared*) y el coeficiente de determinación ajustado (*Adjusted R-squared*), entre otros. \n",
    "\n",
    "Como ya sabemos, el valor del coeficiente de determinación está confinado en el intervalo [0,1] y da información de la bondad del ajuste. Cuanto más próximo esté el valor a 1 mejor se ajusta el modelo a los datos. Normalmente este valor se da en tanto por ciento. En este caso, al tratarse de un modelo de regresión lineal simple, el dato del coeficiente de determinación *R-squared*, se puede calcular como $r^2=\\frac{S^2_n(\\hat y)}{S^2_n(y)}$, e indica la proporción de la variación total de la variable dependiente Y que es explicada por el modelo de regresión o que se debe a la variación en la variable independiente X. \n",
    "\n",
    "En R, el coeficiente de determinación ajustado se calcula como:\n",
    "\n",
    "$R^2_{ajustado} = 1 - \\frac{n-1}{n-(p+1)} (1 - R^2)$\n",
    "\n",
    "siendo n el tamaño de la muestra y p el número de predictores considerados en el modelo. Es decir, penaliza la bondad del ajuste en aquellos casos en los que haya más predictores y el tamaño de la muestra sea pequeño. La diferencia entre ambos coeficientes indica por tanto que hay demasiados predictores en relación con el tamaño de la muestra considerado y por tanto el ajuste del modelo es peor si se considera otro conjunto de datos. \n",
    "\n",
    "Al haber guardado la salida de la función `lm` en una variable, también es posible obtener las series de los residuos $\\epsilon=(y_i-\\hat{y}_i)$ y de los datos ajustados $(\\hat{y}_i)$ con el modelo lineal ejecutando los comandos:"
   ]
  },
  {
   "cell_type": "code",
   "execution_count": null,
   "id": "dbddbe6b-09b9-470d-8959-9284f22e5b94",
   "metadata": {},
   "outputs": [],
   "source": [
    "# Residuos\n",
    "residuals(RegMod)"
   ]
  },
  {
   "cell_type": "code",
   "execution_count": null,
   "id": "cd19a81e-20d0-4541-b11e-5f56554e1924",
   "metadata": {},
   "outputs": [],
   "source": [
    "# Valores estimados de la variable dependiente\n",
    "fitted(RegMod)"
   ]
  },
  {
   "cell_type": "markdown",
   "id": "831bddf6-150b-4914-9407-bc86204285f1",
   "metadata": {},
   "source": [
    "Con esas series sería posible analizar el ajuste del modelo estudiando el comportamiento de los residuos. Para ello podemos dibujar los residuos frente a los datos estimados y ver como se comporta su media y varianza. "
   ]
  },
  {
   "cell_type": "code",
   "execution_count": null,
   "id": "26f35d04-4ffb-4e25-a9c2-24885a153528",
   "metadata": {},
   "outputs": [],
   "source": [
    "# Analsis de los residuos\n",
    "plot(RegMod$fitted.values, RegMod$residuals, xlab=\"Peso estimado (Kg)\", ylab=\"Residuos (Kg)\")"
   ]
  },
  {
   "cell_type": "markdown",
   "id": "9d8d7522-a9e5-4793-a0d1-8c12c7adb281",
   "metadata": {},
   "source": [
    "Recordar que el caso ideal es que la media de los residuos sea cero y la varianza constante. Además la distribución de los puntos debe ser totalmente aleatoria, es decir no debe aparecer ningún patrón en ese gráfico ya que sino indicaría que no hemos modelizado bien los datos. En este caso en particular vemos que los datos no se ajustan a una recta y podemos considerar también que la media de los residuos es cero y su varianza constante. Por tanto el análisis de los residuos también nos indica que el modelo lineal es adecuado en este caso. \n",
    "\n",
    "R nos proporciona una serie de gráficos de ajuste del modelo (incluido el anterior) a través de las siguientes órdenes:"
   ]
  },
  {
   "cell_type": "code",
   "execution_count": null,
   "id": "78f5b1e9-fd39-405a-a009-a807a9b76367",
   "metadata": {},
   "outputs": [],
   "source": [
    "# Divimos la ventana de graficos en 4 partes: 2 filas y 2 columnas\n",
    "layout(matrix(c(1,2,3,4),2,2))\n",
    "# Graficos de ajuste del modelo lineal\n",
    "plot(RegMod)"
   ]
  },
  {
   "cell_type": "markdown",
   "id": "08092c19-46b2-4e7c-8253-e174fd4647ff",
   "metadata": {},
   "source": [
    "Por ejemplo la primera figura muestra el gráfico de los residuos frente a los valores ajustados que hemos analizado antes. También nos muestra en la parte inferior izquierda un gráfico Q-Q, que es útil para determinar si los residuos siguen una distribución normal. Si los valores de los datos en ese gráfico caen a lo largo de una línea aproximadamente recta en un ángulo de 45 grados, entonces los datos se distribuyen normalmente. \n",
    "\n",
    "Una vez analizada la bondad de ajuste del modelo y estudiado el comportamiento de los residuos, si consideramos que el modelo es adecuado podemos predecir el valor de la variable dependiente (Ŷ) para un valor concreto de la variable independiente (X). En este caso, podemos obtener el valor del peso para un valor de la altura de 185.7 cm con la orden `predict`:"
   ]
  },
  {
   "cell_type": "code",
   "execution_count": null,
   "id": "10736481-ad63-4c91-851a-b76c567be7d4",
   "metadata": {},
   "outputs": [],
   "source": [
    "# Data frame con el valor de la variable independiente\n",
    "newdata <- data.frame(Altura=185.7)\n",
    "# Prediccion de la variable dependiente\n",
    "predict(RegMod, newdata)"
   ]
  },
  {
   "cell_type": "markdown",
   "id": "59173c71-4b49-494d-805f-9d521550f48c",
   "metadata": {},
   "source": [
    "A partir del modelo ajustado obtenemos que el valor estimado del peso para una\n",
    "altura de 185.7 cm es de 76.05 Kg. \n",
    "\n",
    "En la ayuda de la función `predict`, se indica que es preciso pasarle los\n",
    "datos que se quieren usar para predecir como un data frame con el mismo nombre de la variable que el usado para ajustar el modelo. En otro caso la sentencia\n",
    "anterior dará un error. "
   ]
  },
  {
   "cell_type": "markdown",
   "id": "2c5fb98e-aac0-4fbe-ad22-22411fda9d08",
   "metadata": {},
   "source": [
    "<div class=\"alert alert-block alert-info\">\n",
    "<strong>PRACTICA TÚ MISMO</strong>\n",
    "\n",
    "- Calcular la ecuaciones de la recta de ajuste del *Peso* en función de la *Altura* agrupados por *Sexo* y contestar a las siguientes preguntas:\n",
    "  1. Escribir la ecuación resultante para las mujeres.\n",
    "  2. ¿Cuál es la pendiente de la recta obtenida en el caso de los hombres?\n",
    "  3. ¿Para que *Sexo* el modelo se ajusta mejor? ¿Por qué? \n",
    "\n",
    "</n>\n",
    "\n",
    "- Un ciclista se desplaza en línea recta con un movimiento uniforme para el\n",
    "cual según las leyes de la mecánica su posición x en un instante t\n",
    "vendrá dada por la ecuación $x=x_0+vt$ donde $x_0$ es la posición inicial\n",
    "y v la velocidad.</n>\n",
    "\n",
    "  Se han tomado los siguientes valores de su posición x en metros y el tiempo t en segundos:\n",
    "  \n",
    "    x (metros)  14 26.2 37.7 51 61.8 76 84.2\n",
    "  \n",
    "    t (segundos) 2 4 6 8 10 12 14\n",
    "  </n>\n",
    "\n",
    "    A partir de estos datos estimar:\n",
    "  1. el coeficiente de correlación\n",
    "  2. los valores de la posición inicial y la velocidad del ciclista por medio de una regresión lineal.\n",
    "  3. el espacio recorrido por el ciclista transcurridos 9 segundos.\n",
    "  4. el error estandar de la estimación y la fracción de varianza explicada por el modelo.\n",
    "\n",
    "</div>"
   ]
  }
 ],
 "metadata": {
  "kernelspec": {
   "display_name": "R",
   "language": "R",
   "name": "ir"
  },
  "language_info": {
   "codemirror_mode": "r",
   "file_extension": ".r",
   "mimetype": "text/x-r-source",
   "name": "R",
   "pygments_lexer": "r",
   "version": "4.3.3"
  }
 },
 "nbformat": 4,
 "nbformat_minor": 5
}
