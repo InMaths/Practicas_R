{
 "cells": [
  {
   "cell_type": "markdown",
   "id": "ee5433b9-7510-403d-9c29-ffad96c51ac5",
   "metadata": {},
   "source": [
    "<div style=\"text-align: center; font-size: 30px;\">\n",
    "Statistics Labs<br/>\n",
    "</div>\n",
    "<div style=\"text-align: center; font-size: 30px;\">\n",
    "Inference and Hypothesis Testing\n",
    "</div>\n",
    "<div style=\"text-align: center; font-size: 16px; font-style: italic\">\n",
    "Material prepared by M. Dolores Frías, Jesús Fernández, and Carmen M. Sordo, senior lectures from the Department of Applied Mathematics and Computer Science at the University of Cantabria.\n",
    "</div>"
   ]
  },
  {
   "cell_type": "markdown",
   "id": "b77abfbd-c549-4202-82df-802ce74d5f59",
   "metadata": {},
   "source": [
    "# Objectives\n",
    "\n",
    "In this practice, we will use R options to apply inferential analysis, either to calculate confidence\n",
    "intervals or to solve hypothesis tests. As we have already seen in class, we will study a small and\n",
    "representative sample from the population to draw conclusions about population parameters. Specif-\n",
    "ically, we will focus on obtaining information about the main characteristics of the population, such\n",
    "as proportion, mean, and variance.\n",
    "Regarding the calculation of confidence intervals, there is no specific function in R for this purpose;\n",
    "instead, it is part of the information generated when programming a hypothesis test\n",
    "\n",
    "# Meaning of the confidence interval\n",
    "\n",
    "We will begin by analyzing the meaning of the confidence interval. The purpose of the confidence\n",
    "interval is to provide a certain guarantee regarding the presence of a population parameter within an\n",
    "interval constructed from a sample.\n",
    "\n",
    "Let’s consider the following question: Is the probability of getting heads when flipping a coin 0.5?\n",
    "\n",
    "To answer this question, we will conduct the following experiment:\n",
    "\n",
    "We toss a coin 30 times and estimate the value of the proportion of getting heads (P) based on the\n",
    "proportion of heads obtained (p=pest) in those 30 tosses. As we’ve seen in previous practices, we\n",
    "can simulate the coin tosses using the `rbinom` function since we have 30 independent Bernoulli\n",
    "trials with the same success probability (P=0.5):"
   ]
  },
  {
   "cell_type": "code",
   "execution_count": null,
   "id": "436e3caa-cabc-4eb6-97dd-8f8280d72058",
   "metadata": {},
   "outputs": [],
   "source": [
    "n <- 30 # 30 coin tosses\n",
    "P <- 0.5 # Probability of getting head on a throw\n",
    "pest <- rbinom(1,n,P)/n; pest # Proportion of the sample"
   ]
  },
  {
   "cell_type": "markdown",
   "id": "40fe9cc2-6648-4d47-bf46-bf9bdc60620f",
   "metadata": {
    "editable": true,
    "slideshow": {
     "slide_type": ""
    },
    "tags": []
   },
   "source": [
    "We repeat 50 times (m=50) the experiment of tossing the coin 30 times, and calculate the\n",
    "proportion of heads obtained for each of the m samples:"
   ]
  },
  {
   "cell_type": "code",
   "execution_count": null,
   "id": "bbf7a2c1-8d38-4e85-a5cf-5225a643b385",
   "metadata": {},
   "outputs": [],
   "source": [
    "m <- 50  # number of times the experiment is repeated\n",
    "pest <- rbinom(m,n,P)/n; pest # Sample proportion for each experiment"
   ]
  },
  {
   "cell_type": "markdown",
   "id": "d56dac86-73cf-4784-96eb-c6288c1662d9",
   "metadata": {},
   "source": [
    "The variable `pest` stores the proportion of heads obtained when tossing 30 coins in each of the\n",
    "50 experiments.\n",
    "\n",
    "We set the confidence level to $1-\\alpha = 0.95$ and, assuming that the distribution of sample proportions follows a Normal distribution (since n is sufficiently large), we calculate the corresponding\n",
    "confidence interval for each of the 50 samples using the following expression:\n",
    "\n",
    "$p \\pm z_{\\alpha/2} \\sqrt {{{p(1-p)} \\over n}}$ \n",
    "\n",
    "Lets do this with R: "
   ]
  },
  {
   "cell_type": "code",
   "execution_count": null,
   "id": "567ad8fb-b2ca-4930-b13c-d66306832536",
   "metadata": {
    "scrolled": true
   },
   "outputs": [],
   "source": [
    "alfa <- 0.05 \n",
    "z <- qnorm(1-alfa/2)\n",
    "e <- z*sqrt(pest*(1-pest)/n); e # Values of the error for each experiment. "
   ]
  },
  {
   "cell_type": "markdown",
   "id": "23e64808-c3fb-46f4-97c2-462df3c0c5a7",
   "metadata": {},
   "source": [
    "We represent the m = 50 resulting confidence intervals with the command:"
   ]
  },
  {
   "cell_type": "code",
   "execution_count": null,
   "id": "f53b8617-6767-40cd-9d59-792c4ea2c903",
   "metadata": {},
   "outputs": [],
   "source": [
    "# Confidence intervals\n",
    "matplot(rbind(pest-e, pest+e),rbind(1:m,1:m),type=\"l\",lty=1, xlim=c(0,1),\n",
    "        ylab=\"m\", xlab=\"[p-e, p+e]\", main=\"Confidence intervals of P\")"
   ]
  },
  {
   "cell_type": "markdown",
   "id": "c93120fe-f0ac-4d6f-ac69-4fc0eae78dec",
   "metadata": {},
   "source": [
    "We mark with a vertical line the value P=0.5"
   ]
  },
  {
   "cell_type": "code",
   "execution_count": null,
   "id": "2f89baf4-af5d-4e10-a0de-e4796077911e",
   "metadata": {},
   "outputs": [],
   "source": [
    "# Confidence intervals\n",
    "matplot(rbind(pest-e, pest+e),rbind(1:m,1:m),type=\"l\",lty=1, xlim=c(0,1),\n",
    "        ylab=\"m\", xlab=\"[p-e, p+e]\", main=\"Confidence intervals of P\")\n",
    "# Vertical line\n",
    "abline(v=P)"
   ]
  },
  {
   "cell_type": "markdown",
   "id": "13ee9c45-1189-4f12-85bd-bfc07fb02a29",
   "metadata": {},
   "source": [
    "What do you observe? Does the confidence interval depend on the chosen sample?\n",
    "\n",
    "Do all the confidence intervals drawn capture the population proportion (P)?"
   ]
  },
  {
   "cell_type": "markdown",
   "id": "04cd981a-36a9-4556-b9a1-835bbe96ccf1",
   "metadata": {},
   "source": [
    "<div class=\"alert alert-block alert-info\">\n",
    "<strong>PRACTICE ON YOUR OWN</strong>\n",
    "\n",
    "Perform the same experiment 10000 times and check with what probability the value of the population proportion falls within the confidence interval calculated for each sample. You should\n",
    "program this calculation with R, determining the number of intervals obtained that contain P.\n",
    "Try for different confidence levels (90% and 99%). \n",
    "\n",
    "What happens to the confidence intervals obtained if the confidence level is increased or decreased?\n",
    "\n",
    "What percentage of intervals contain the value of the proportion 0.5? What relationship exists between that percentage and the considered confidence level?\n",
    "\n",
    "Now try the following. For a given confidence level (for example, 0.95), what happens to the confidence interval when you increase the sample size? Try with values such as n = 100 and n = 300, for example.\n",
    "\n",
    "</div>"
   ]
  },
  {
   "cell_type": "markdown",
   "id": "1f19febe-a95a-4ded-abe2-f1db07f05557",
   "metadata": {},
   "source": [
    "# Inference and hypothesis testing based on a single sample. \n",
    "\n",
    "We are going to see how to perform parameter estimation and hypothesis testing for a single population using R. We will focus specifically on three parameters: the population proportion, mean, and variance.\n",
    "\n",
    "## 1. Proportions\n",
    "\n",
    "### Confidence interval for a population proportion\n",
    "\n",
    "As we know, in order to calculate proportions, we need a dataset with a categorical variable. This\n",
    "allows us to group individuals based on that factor or category. It is also possible to calculate proportions for a numerical variable by determining how many elements meet a specific condition, such as\n",
    "whether the variable is less than or greater than a certain value.\n",
    "\n",
    "The data file *pulsations.rda*, which we have worked with before, contains several columns that\n",
    "are categorical variables and allow us to compute values for the proportion. Specifically, the columns\n",
    "*Run*, *Smoke* and *Sex* classify individuals based on certain properties (e.g., having participated in the race or not, being a smoker or not, being male or female). With this information, we can estimate\n",
    "the proportion of people with a specific property in our sample (point estimate) and calculate the\n",
    "confidence interval for that proportion in the population.\n",
    "\n",
    "To do so, you must first correctly load the data from that file, as we have done in previous practical sessions. Once the data is loaded in R, we will calculate the point estimate of the proportion of individuals in the population who smoke (P)."
   ]
  },
  {
   "cell_type": "code",
   "execution_count": null,
   "id": "5be55fae-058c-4f51-ab58-2a91a918e1ec",
   "metadata": {},
   "outputs": [],
   "source": [
    "# Set the working directory\n",
    "setwd(\"data/\") \n",
    "# Load the data\n",
    "load(\"pulsations.rda\")\n",
    "attach(pulsations)\n",
    "# Calculate the sample proportion\n",
    "smokers <- sum(Smoke==\"Yes\")\n",
    "n <- length(Smoke)\n",
    "p <- smokers/n; p"
   ]
  },
  {
   "cell_type": "markdown",
   "id": "bcf59e57-d0cd-4425-9a12-b80c3d416ba6",
   "metadata": {},
   "source": [
    "From the previous result, we obtain the point estimate of the proportion of smokers in the population, which is 0.304.\n",
    "\n",
    "As we know, the point estimate does not provide information about the accuracy of the estimate for P. To address this, we will estimate P using a confidence interval, which does provide information about the confidence we have in estimating the population parameter.\n",
    "\n",
    "We will now program in R the calculation of the confidence interval for the proportion of individuals in the population who smoke, with a 95% confidence level, using the formula covered in class:\n",
    "\n",
    "$p \\pm z_{\\alpha/2} \\sqrt {{{p(1-p)} \\over n}}$"
   ]
  },
  {
   "cell_type": "code",
   "execution_count": null,
   "id": "641543b1-1e2f-47a1-9eba-df8f29fdeeaf",
   "metadata": {},
   "outputs": [],
   "source": [
    "# Confidence interval for the proportion of smokers in the population\n",
    "alfa <- 0.05\n",
    "z <- qnorm(1-alfa/2)\n",
    "e <- z*sqrt(p*(1-p)/n)\n",
    "conclusion <- \"The proportion of smokers in the population lies within the interval\"\n",
    "sprintf(\"%s [%6.3f, %6.3f] with a confidence of %2d%s\", conclusion, p-e, p+e, (1-alfa)*100, \"%\")"
   ]
  },
  {
   "cell_type": "markdown",
   "id": "9fb5e6f1-f444-4de0-9151-eaca290956fd",
   "metadata": {},
   "source": [
    "With the `sprintf` function, we can write a final conclusion by mixing characters (`strings` indicated with `%s`) with numerical values, whether real numbers (`%6.3f`) or integers (`%2d`). For example, `%6.3f` would include in the output a floating-point number (the f stands for float) with 6 total characters, 3 of which are decimal places. The numerical values or characters assigned to each placeholder (those starting with %) are the ones listed at the end, separated by commas.\n",
    "\n",
    "In R there is a function called (`prop.test`) that allows you to calculate the point estimate and\n",
    "confidence intervals for P. Additionally, this function is used to perform hypothesis tests of proportions as we will see later."
   ]
  },
  {
   "cell_type": "code",
   "execution_count": null,
   "id": "c0131db1-a848-4139-a1ce-8fd4ffd8db9b",
   "metadata": {},
   "outputs": [],
   "source": [
    "prop.test(smokers, n, conf.level=1-alfa)"
   ]
  },
  {
   "cell_type": "markdown",
   "id": "0757ef45-457b-42e5-8489-03c45aaac7e3",
   "metadata": {},
   "source": [
    "The result provides a large amount of information. However, since we are interested in the point\n",
    "estimate and confidence intervals of P, we are only concerned with the outcome obtained from the\n",
    "confidence interval for the given confidence level (`95 percent confidence interval:`), which turns\n",
    "out to be [0.2149697, 0.4102950], and the point estimate of the proportion of smokers in the population\n",
    "(`sample estimates: p`) with a value of 0.3043478.\n",
    "\n",
    "Compare this result obtained for the confidence interval with the value calculated earlier using the\n",
    "formula provided in class. The difference you observe is because in R, the formula implemented in\n",
    "the `prop.test` function for calculating the confidence interval of a proportion is given by the *Wilson\n",
    "interval*:\n",
    "\n",
    "$\\frac{{{p + \\frac{{1}}{{2n}}  z_{\\alpha / 2}^2  \\pm z_{\\alpha / 2} \\sqrt {\\frac{{p\\left( {1 - p} \\right)}}{n} + \\frac{{z_{\\alpha / 2}^2}} {{4n^2}} }} }} {{ {1 + \\frac{{1}}{n}} z_{\\alpha / 2}^2 }}$\n",
    "\n",
    "This is an improved version of the normal approximation we have seen in theory. Whereas the estimate discussed in theory should only be considered under the conditions we are aware of, the *Wilson\n",
    "interval* yields good results even with small sample sizes. \n",
    "\n",
    "Additionally, as shown in the `prop.test` documentation, this function applies *Yates’s continuity*\n",
    "correction by default (`correct=TRUE`) which we also did not consider in theory."
   ]
  },
  {
   "cell_type": "markdown",
   "id": "3b02e7ca-4ffd-46d6-8386-814cacccb28f",
   "metadata": {},
   "source": [
    "### Hypothesis test on a population proportion\n",
    "\n",
    "As mentioned before, `prop.test` also allows us to conduct hypothesis tests for proportions by appropriately configuring the different arguments of the function. Consult the `prop.test` help documentation\n",
    "to see what other arguments it accepts.\n",
    "\n",
    "In this regard, we can determine whether, based on the sample, the null hypothesis that the\n",
    "proportion of smokers is equal to that of non-smokers is accepted or not, i.e., $H_0: P=0.5$ and\n",
    "therefore the alternative hypothesis is that the proportion of smokers in the population is different\n",
    "from that value $H_1: P\\neq 0.5$. It is therefore a two-sided test of proportions, which is programmed\n",
    "in the `prop.test` function with the argument `alternative=\"two.sided\"`. Additionally, we must\n",
    "include that the value to be tested is 0.5 with the argument `p=0.5`."
   ]
  },
  {
   "cell_type": "code",
   "execution_count": null,
   "id": "688423d5-d006-42e7-b641-3f231c2276b7",
   "metadata": {},
   "outputs": [],
   "source": [
    "prop.test(smokers, n, alternative = \"two.sided\", p=0.5, conf.level=1-alfa)"
   ]
  },
  {
   "cell_type": "markdown",
   "id": "6e171a1e-0f68-4c73-83a9-fb157729f966",
   "metadata": {},
   "source": [
    "The arguments `alternative=\"two.sided\"` and `p=0.5` are taken by default by the function, so the result we obtain is exactly the same as before when we calculated the confidence interval. In other words, by calculating the previous confidence interval, we were also resolving that two-sided test.\n",
    "\n",
    "Let’s focus now on the result obtained for the p-value, which will allow us to decide whether\n",
    "to accept or reject the null hypothesis. According to the hypothesis test proposed, which questions\n",
    "whether the proportion of smokers in the population is equal to that of non-smokers ($H_0:P=0.5$, $H_1:P \\neq 0.5$), we observe that the sample we have worked with has provided sufficient evidence to\n",
    "reject the null hypothesis with a confidence level of 95%, since the p-value (`p-value = 0.0002633`) is less than the considered $\\alpha$, and therefore the alternative hypothesis is accepted. In other words, we accept that 50% of the\n",
    "population are non-smokers with a confidence level of 95%.\n",
    "\n",
    "We reach the same conclusion if, instead of analyzing the p-value, we consider the result obtained\n",
    "for the confidence interval, since in this example a two-sided test is proposed. It is observed that the\n",
    "confidence interval obtained does not include the value $P=0.5$, so, as it could not be otherwise, the\n",
    "same conclusion is reached. The null hypothesis is rejected with a confidence level of 95%.\n",
    "\n",
    "In the same way that we have applied the test for this example in which the alternative hypothesis\n",
    "is one of inequality, we could define hypotheses for a one-sided test (either left-sided or right-sided),\n",
    "according to the problem analyzed, simply by defining the type of alternative hypothesis appropriately\n",
    "in the `alternative` option and assigning the corresponding value to be tested. \n",
    "\n",
    "Consult the `prop.test` help to determine the possible values of the `alternative` option depending on the type of test. In particular, the `alternative` argument should be set equal to the *less* value to indicate that it is a\n",
    "left-sided test or to the *greater* value to indicate a right-sided test."
   ]
  },
  {
   "cell_type": "markdown",
   "id": "8e03a8fb-2fed-4d9a-b66a-2c7833e5744a",
   "metadata": {},
   "source": [
    "<div class=\"alert alert-block alert-info\">\n",
    "<strong>PRACTICE ON YOUR OWN</strong>\n",
    "    \n",
    "- Using the data in *pulsations.rda*:\n",
    "  1. Calculate the confidence interval for the proportion of women who smoke with a confidence level of 95%.\n",
    "  2. According to the previous result, it can be assumed that the proportion of women who smoke is the same as those who do not smoke. Justify your answer.\n",
    "  3. Calculate the confidence interval for the proportion of individuals with a Pulse2 exceeding 100 beats among those who ran, with a confidence level of 95%.\n",
    "  4. Calculate the confidence interval for the proportion of individuals with a height exceeding 180 cm and weight exceeding 85 kg, with a confidence level of 99%.\n",
    "   \n",
    "<br>\n",
    "\n",
    "- A certain tablet medicine has been tested effective in relieving an allergy in at least 60% of patients. The manufacturer has developed a soluble version of the product and wants to check if the medicine in this form is equally effective. A sample of 40 people with the allergy is taken. The new product relieved 19 of them. Is there enough evidence to suggest that the introduction of the soluble version has altered the effectiveness of the medicine? Perform the test using $\\alpha=0.01$ and find the p-value of the test.\n",
    "\n",
    "</div>\n"
   ]
  },
  {
   "cell_type": "markdown",
   "id": "5abc78d5-538d-4510-9a8d-88dd1ddb7009",
   "metadata": {},
   "source": [
    "## 2. Means\n",
    "\n",
    "### Confidence interval for a population mean\n",
    "\n",
    "The confidence interval for means in R is also obtained using the function that solves hypothesis\n",
    "tests for means `t.test`, by setting up a two-sided contrast. Consult the help documentation for this\n",
    "function to learn about its accepted arguments. \n",
    "\n",
    "To familiarize ourselves with the `t.test` function, let’s continue working with the data from the *pulsations.rda* file to estimate the confidence interval for the population mean height at a significance level of $\\alpha=0.05$. The command to execute in this case would be:"
   ]
  },
  {
   "cell_type": "code",
   "execution_count": null,
   "id": "dbddbe6b-09b9-470d-8959-9284f22e5b94",
   "metadata": {},
   "outputs": [],
   "source": [
    "alfa <- 0.05\n",
    "t.test(Height, conf.level=1-alfa)"
   ]
  },
  {
   "cell_type": "markdown",
   "id": "831bddf6-150b-4914-9407-bc86204285f1",
   "metadata": {},
   "source": [
    "Among other calculated values, the two that interest us are: the confidence interval for the population\n",
    "mean (*95 percent confidence interval*) and its point estimator (the sample mean, *mean of x*).\n",
    "\n",
    "R computes the confidence interval using the expression $\\bar{x} \\pm t_{n-1,\\alpha/2}\\frac{S}{\\sqrt{n}}$ , which is most appropriate when the population variance is unknown (the most common case). \n",
    "\n",
    "The quantile $t_{n-1,\\alpha/2}$ can be calculated as `qt(1-alfa/2,n-1)`. In other words, we could have obtained the same confidence interval result by executing the following commands:"
   ]
  },
  {
   "cell_type": "code",
   "execution_count": null,
   "id": "26f35d04-4ffb-4e25-a9c2-24885a153528",
   "metadata": {},
   "outputs": [],
   "source": [
    "# Confidence interval for a mean\n",
    "n <- length(Height)\n",
    "t <- qt(1-alfa/2,n-1)\n",
    "lim.inf <- mean(Height) - t*sd(Height)/sqrt(n)\n",
    "lim.sup <- mean(Height) + t*sd(Height)/sqrt(n)\n",
    "conclusion <- \"The population mean height lies within the interval\"\n",
    "sprintf(\"%s [%6.3f, %6.3f] with a confidence of %2d%s\", conclusion, lim.inf, lim.sup, (1-alfa)*100, \"%\")"
   ]
  },
  {
   "cell_type": "markdown",
   "id": "9d8d7522-a9e5-4793-a0d1-8c12c7adb281",
   "metadata": {},
   "source": [
    "However, the `t.test` function simplifies the calculation (just one line of code) and also provides us\n",
    "with much more information.\n",
    "\n",
    "### Hypothesis test on a population mean\n",
    "\n",
    "Let’s analyze an example now to see how to solve hypothesis tests for a mean using the `t.test` function, based on the p-value.\n",
    "\n",
    "*Recent studies claim that the height of the population under study is greater than 180 cm. Given\n",
    "the sample collected in the pulsations.rda file, can we accept this hypothesis with a 99% confidence\n",
    "level?*\n",
    "\n",
    "In this case, the contrast being considered is as follows:\n",
    "\n",
    "$H_0: \\mu\\geq 180$\n",
    "\n",
    "$H_1: \\mu< 180$\n",
    "\n",
    "As we can see, this is a one-sided left-tailed test in which the value of $\\mu$ to be tested is $180$ cm.\n",
    "Therefore, the command to execute will be:"
   ]
  },
  {
   "cell_type": "code",
   "execution_count": null,
   "id": "78f5b1e9-fd39-405a-a009-a807a9b76367",
   "metadata": {},
   "outputs": [],
   "source": [
    "alfa <- 0.01\n",
    "t.test(Height, alternative='less', mu=180, conf.level=1-alfa)"
   ]
  },
  {
   "cell_type": "markdown",
   "id": "59173c71-4b49-494d-805f-9d521550f48c",
   "metadata": {},
   "source": [
    "The *alternative* option is now set to *less* to indicate that this is a one-tailed test on the left side. Additionally, the argument *mu = 180* has been included with the value to be tested.\n",
    "\n",
    "In the console, we obtain the value of the contrast statistic (t), the number of degrees of freedom\n",
    "(df), and the p-value, among others. Based on the obtained p-value, we can conclude that the analyzed sample provides sufficient evidence to reject the null hypothesis with 99% confidence. Specifically, the p-value (`p-value = 6.845e-08`) is less than the significance level considered in this example (0.01). Therefore, we accept that the population height under study is less than 180 cm with 99% confidence."
   ]
  },
  {
   "cell_type": "markdown",
   "id": "2c5fb98e-aac0-4fbe-ad22-22411fda9d08",
   "metadata": {},
   "source": [
    "<div class=\"alert alert-block alert-info\">\n",
    "<strong>PRACTICE ON YOUR OWN</strong>\n",
    " \n",
    "- With the data in *pulsations.rda* calculate:\n",
    "  1. The confidence interval for the average weight of women with $\\alpha=0.05$.\n",
    "  2. The confidence interval for the mean pulse increment (Pulse2 - Pulse1) for individuals who ran with $\\alpha=0.1$.\n",
    "  3. Additionally, recent studies claim that the average height of women in this population is $\\mu=167$\n",
    "cm. Based on our sample, can we accept this hypothesis with a confidence level of 99%? Justify\n",
    "the result.\n",
    "     \n",
    "</n>\n",
    "\n",
    "- Over fifty consecutive school days and at the same time, the number of terminals connected to\n",
    "the internet at a university has been observed. The results are in the file *terminales.dat*. Based on this data,\n",
    "  1. Provide 95% and 99.5% confidence intervals for the mean number of terminals connected to the\n",
    "internet. Comment the results. \n",
    "  2. Assuming the population follows a Normal distribution, calculate 90% and 95% confidence intervals for the variance of the number of terminals connected to the internet. **Note**: In R Base\n",
    "package, there is no function that calculates confidence intervals for a variance, so you should\n",
    "program a function that returns the lower and upper bounds of the confidence interval according\n",
    "to the formulation seen in class. Have it available to apply in any other example.\n",
    "\n",
    "</n>\n",
    "\n",
    "- The soil pH is an important variable when designing structures that will be in contact with the\n",
    "ground. The owner of a potential construction site claims that the soil pH is not higher than 6.5.\n",
    "Nine soil samples have been taken from the land: 7.3  6.5  6.4  6.1  6  6.5  6.2  5.8  6.7.\n",
    "\n",
    "   Assuming that the pH variable follows a Normal distribution, answer the following questions:\n",
    "  1. Find a confidence interval for the mean pH with a significance level of 10%.\n",
    "  2. Is the owner’s claim accepted with a risk of $\\alpha=0.05$?\n",
    "\n",
    "</div>"
   ]
  }
 ],
 "metadata": {
  "kernelspec": {
   "display_name": "R",
   "language": "R",
   "name": "ir"
  },
  "language_info": {
   "codemirror_mode": "r",
   "file_extension": ".r",
   "mimetype": "text/x-r-source",
   "name": "R",
   "pygments_lexer": "r",
   "version": "4.3.3"
  }
 },
 "nbformat": 4,
 "nbformat_minor": 5
}
