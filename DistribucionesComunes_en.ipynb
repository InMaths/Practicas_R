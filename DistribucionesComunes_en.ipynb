{
 "cells": [
  {
   "cell_type": "markdown",
   "id": "ee5433b9-7510-403d-9c29-ffad96c51ac5",
   "metadata": {},
   "source": [
    "<div style=\"text-align: center; font-size: 30px;\">\n",
    "Statistics Labs<br/>\n",
    "</div>\n",
    "<div style=\"text-align: center; font-size: 30px;\">\n",
    "Common probability distributions\n",
    "</div>\n",
    "<div style=\"text-align: center; font-size: 16px; font-style: italic\">\n",
    "Material prepared by M. Dolores Frías, Jesús Fernández, and Carmen M. Sordo, senior lectures from the Department of Applied Mathematics and Computer Science at the University of Cantabria.\n",
    "</div>"
   ]
  },
  {
   "cell_type": "markdown",
   "id": "b77abfbd-c549-4202-82df-802ce74d5f59",
   "metadata": {},
   "source": [
    "# Objectives\n",
    "\n",
    "The concept of a random variable allows us to mathematically work with the outcomes of a random experiment and fully characterize the probability of occurrence of any event associated with the experiment. In practice, many situations are characterized by the same random variables (except for some parameters that need to be defined to adjust the distribution function to the specific situation). These common random variables enable us to approach numerous practical situations and solve realistic problems.\n",
    "\n",
    "The use of computers, and R in particular, will allow us to evaluate the probabilities of events associated with common random experiments, including situations for which we have not seen a simple analytical expression in theory. Additionally, it will enable us to simulate random samples from these common experiments and represent probability mass functions (PMF), probability density functions (PDF), or cumulative distribution functions (CDF) of these distributions.\n",
    "\n",
    "# Probability distributions in R\n",
    "\n",
    "In theory, we have seen analytical formulas for probability functions ($p_X(x)$) or probability density functions ($f_X(x)$) for several common distribution models. There are distributions for which the cumulative distribution function ($F_X(x)$), despite being easily computable through a summation or an integral, is too laborious to calculate manually or with a basic calculator.\n",
    "\n",
    "R's base package provides PMFs, PDFs and CDFs for all the common random variables covered in class, as well as some additional ones.\n",
    "\n",
    "The following table highlights in bold the distributions covered in class, along with their names in R and the parameters that can be passed to the functions. As you can see, the table includes more common distributions beyond those studied in class."
   ]
  },
  {
   "cell_type": "markdown",
   "id": "057a020b-4432-4e4e-bc8e-313e497968d4",
   "metadata": {},
   "source": [
    "<div><img alt=\"Resumen distribuciones comunes\" src=\"./figuras/tabla_distcomunes_en.png\" width=\"400\"/></div>"
   ]
  },
  {
   "cell_type": "markdown",
   "id": "ef739da9-3d5c-4fc7-8379-6f6d7c9e794f",
   "metadata": {
    "editable": true,
    "slideshow": {
     "slide_type": ""
    },
    "tags": []
   },
   "source": [
    "## Probability Mass Function (PMF) and Probability Density Function (PDF)\n",
    "\n",
    "For each of these random variables, R provides a probability mass function if the variable is discrete or a probability density function if the variable is continuous, by adding the prefix `d` to the name that R assigns to that common distribution in both cases. \n",
    "\n",
    "In each case, at a minimum, the value of the variable for which the probability or probability density is to be calculated must be provided, along with the parameters of the common distribution, in a manner very similar to the notation we use in class.\n",
    "\n",
    "As observed in the previous table, the input parameters vary for each distribution, so it is recommended to check the help documentation in each case.  \n",
    "For example, the command `?dbinom` provides information on how to use this function."
   ]
  },
  {
   "cell_type": "code",
   "execution_count": null,
   "id": "436e3caa-cabc-4eb6-97dd-8f8280d72058",
   "metadata": {},
   "outputs": [],
   "source": [
    "?dbinom"
   ]
  },
  {
   "cell_type": "markdown",
   "id": "40fe9cc2-6648-4d47-bf46-bf9bdc60620f",
   "metadata": {
    "editable": true,
    "slideshow": {
     "slide_type": ""
    },
    "tags": []
   },
   "source": [
    "As shown in the help, `x` represents the value of the random variable for which the probability function is to be evaluated ($p_X(x)=P(X=x)$), `size` is the sample size (n), and `prob` is the probability of success (p) of the Bernoulli trial.\n",
    "\n",
    "For example, to calculate the binomial probability function evaluated at 7, where we have 20 independent Bernoulli trials, each with the same success probability of 0.5, that is:\n",
    "\n",
    "$p_{B(20;0;5)}(7)\\equiv p_{B(7; 20 ; 0 ; 5)}$ \n",
    "\n",
    "we execute the following command:"
   ]
  },
  {
   "cell_type": "code",
   "execution_count": null,
   "id": "bbf7a2c1-8d38-4e85-a5cf-5225a643b385",
   "metadata": {},
   "outputs": [],
   "source": [
    "# P(X=7) with X ~ B(20, 0.5)\n",
    "n <- 20\n",
    "p <- 0.5\n",
    "dbinom(7, n, p)"
   ]
  },
  {
   "cell_type": "markdown",
   "id": "d56dac86-73cf-4784-96eb-c6288c1662d9",
   "metadata": {},
   "source": [
    "As we know, this probability would correspond, for example, to the probability of getting 7 heads in 20 coin flips, since in this random experiment, the probability of success is 0.5.\n",
    "\n",
    "When the variable under study is a continuous random variable, the prefix `d` provides the value of the probability density function evaluated at a specific value of that random variable. For example:"
   ]
  },
  {
   "cell_type": "code",
   "execution_count": null,
   "id": "567ad8fb-b2ca-4930-b13c-d66306832536",
   "metadata": {
    "scrolled": true
   },
   "outputs": [],
   "source": [
    "dnorm(170, 150, 0.8)"
   ]
  },
  {
   "cell_type": "markdown",
   "id": "23e64808-c3fb-46f4-97c2-462df3c0c5a7",
   "metadata": {},
   "source": [
    "provides the density function value of a normal random variable ($F_{N(150,0.8^2)}(170)$) with a mean of 150 and a standard deviation of 0.8, evaluated at 170.  \n",
    "\n",
    "## Cumulative Distribution Function (CDF)\n",
    "\n",
    "Similarly, by using the prefix `p`, we obtain the cumulative distribution function.\n",
    "\n",
    "For example, the probability of getting 7 heads or fewer in 20 coin flips:\n",
    "\n",
    "$F_{B(20;0;5)}(7)\\equiv F_{B(7;20;0;5)}$\n",
    "\n",
    "is obtained in R as:"
   ]
  },
  {
   "cell_type": "code",
   "execution_count": null,
   "id": "f53b8617-6767-40cd-9d59-792c4ea2c903",
   "metadata": {},
   "outputs": [],
   "source": [
    "# P(X<=7) with X ~ B(20, 0.5)\n",
    "pbinom(7, 20, 0.5)"
   ]
  },
  {
   "cell_type": "markdown",
   "id": "c93120fe-f0ac-4d6f-ac69-4fc0eae78dec",
   "metadata": {},
   "source": [
    "Note that, once again, the first argument of the function is the value of the random variable at which we want to evaluate the cumulative distribution function, followed by the necessary parameters in the order they appear in the previous table.\n",
    "\n",
    "To better understand how to compute the different options in R, let's solve a typical exercise similar to those discussed in class. This way, we can use R to verify the results obtained by applying the formulas covered in class.\n",
    "\n",
    "*A batch of computer processors contains 40% defective units. Since the error is detected only after all processors from the batch have been installed in computers, the quality control manager decides to inspect some computers that include a processor from this batch. A computer will be considered defective if the processor is faulty.*\n",
    "\n",
    "1. *Calculate the probability that fewer than 4 computers have a defective processor out of a total of 20 inspected computers.*\n",
    "\n",
    "The random variable X represents the number of defective computers out of the 20 inspected. This variable follows a binomial distribution, B(n=20, p=0.4), since the experiment consists of repeating Bernoulli trials (analyzing a computer results in two possible outcomes: success (it has a defective processor) or failure (the processor is functioning properly)). Additionally, these trials are independent and share the same probability of success, p=0.4.\n",
    "\n",
    "Thus, the required probability is $P(X\\leq 3) = F_{B(20,0.4)}(3)$: "
   ]
  },
  {
   "cell_type": "code",
   "execution_count": null,
   "id": "2f89baf4-af5d-4e10-a0de-e4796077911e",
   "metadata": {},
   "outputs": [],
   "source": [
    "# P(X<=3) with X ~ B(20, 0.4)\n",
    "n <- 20\n",
    "p <- 0.4\n",
    "pbinom(3,n,p)"
   ]
  },
  {
   "cell_type": "markdown",
   "id": "13ee9c45-1189-4f12-85bd-bfc07fb02a29",
   "metadata": {},
   "source": [
    "That is, the probability that fewer than 4 computers have a defective processor out of a total of 20 inspected computers is 0.01596116.\n",
    "\n",
    "Note that the first argument of the function is the value of the random variable at which we want to evaluate the cumulative distribution function, followed by the necessary parameters in the order they appear in the previous table (`size, prob`).\n",
    "\n",
    "2. *And what is the probability that more than 3 are defective?*\n",
    "\n",
    "Our random variable X remains the same, representing the number of defective computers out of 20 inspected, and it still follows a binomial distribution, B(n=20, p=0.4). \n",
    "\n",
    "In this case, the probability we need to compute is: $P(X>3) = 1-F_{B(20,0.4)}(3)$ which is given by:"
   ]
  },
  {
   "cell_type": "code",
   "execution_count": null,
   "id": "1e4ce049-b18e-4fe2-b3e3-4372db11fe98",
   "metadata": {},
   "outputs": [],
   "source": [
    "# P(X>3) with X ~ B(20, 0.4)\n",
    "1-pbinom(3,n,p)"
   ]
  },
  {
   "cell_type": "markdown",
   "id": "1f19febe-a95a-4ded-abe2-f1db07f05557",
   "metadata": {},
   "source": [
    "We obtain that the probability that more than 3 computers have a defective processor out of a total of 20 inspected computers is 0.98.\n",
    "\n",
    "If we look at the help documentation mentioned earlier, this function allows us to calculate P(X > 3) directly by setting the argument `lower.tail` to `FALSE`."
   ]
  },
  {
   "cell_type": "code",
   "execution_count": null,
   "id": "5be55fae-058c-4f51-ab58-2a91a918e1ec",
   "metadata": {},
   "outputs": [],
   "source": [
    "pbinom(3,n,p, lower.tail=FALSE)"
   ]
  },
  {
   "cell_type": "markdown",
   "id": "bcf59e57-d0cd-4425-9a12-b80c3d416ba6",
   "metadata": {},
   "source": [
    "3. *And what is the probability that exactly 5 out of the 20 inspected computers are defective?*\n",
    "\n",
    "Our random variable X remains the same, representing the number of defective computers out of a total of 20 inspected, following a binomial distribution, B(n=20, p=0.4). However, in this case, we need to calculate $P(X=5) = p_{B(20,0.4)}(5)$, which is given by:"
   ]
  },
  {
   "cell_type": "code",
   "execution_count": null,
   "id": "641543b1-1e2f-47a1-9eba-df8f29fdeeaf",
   "metadata": {},
   "outputs": [],
   "source": [
    "# P(X=5) with X ~ B(20, 0.4)\n",
    "dbinom(5,n,p)"
   ]
  },
  {
   "cell_type": "markdown",
   "id": "9fb5e6f1-f444-4de0-9151-eaca290956fd",
   "metadata": {},
   "source": [
    "Therefore, the probability that exactly 5 computers out of 20 inspected have a defective processor is 0.075.\n",
    "\n",
    "4. *Calculate the probability of finding the first defective computer when inspecting the seventh unit.*\n",
    "\n",
    "In this case, the random variable changes since we are now interested in counting the number of computers inspected until the first defective one is found. This new variable, which we will call Y, follows a geometric distribution, G(p=0.4), as it counts the number of independent Bernoulli trials, each with the same probability of success, until the first success (defective processor) occurs.\n",
    "\n",
    "The probability we need to calculate is $P(Y = 7) = p_{G(0,4)}(7)$, which, using the formula seen in class, results in 0.0186624.\n",
    "\n",
    "As you will see in the help documentation for the geometric distribution (`?dgeom`), R defines the geometric variable differently from how we did in class. In R, the random variable K represents the number of failures before the first success in a series of independent Bernoulli trials with the same probability of success.\n",
    "\n",
    "In theory, we defined the geometric variable as the one that counts the number of trials up to and including the first success. That is, $Y = K + 1$ (since K does not count the success). The probability function seen in theory can be obtained from R's definition using:\n",
    "\n",
    "$p_Y(y) = P(Y = y) = P(K + 1 = y) = P(K = y − 1) = p_K(y − 1)$\n",
    "\n",
    "According to this definition, if K is the random variable representing the number of failures until the first success, in R the probability we need to calculate  ($P(K = 6)$) is given by:"
   ]
  },
  {
   "cell_type": "code",
   "execution_count": null,
   "id": "c0131db1-a848-4139-a1ce-8fd4ffd8db9b",
   "metadata": {},
   "outputs": [],
   "source": [
    "# P(Y=7) with Y ~ G(0.4)\n",
    "dgeom(6,0.4)"
   ]
  },
  {
   "cell_type": "markdown",
   "id": "0757ef45-457b-42e5-8489-03c45aaac7e3",
   "metadata": {},
   "source": [
    "As we can see, this is a shifted version of the definition we used in theory. We could define new R functions that allow us to perform the calculations according to the definition of the geometric random variable used in theory as follows:"
   ]
  },
  {
   "cell_type": "code",
   "execution_count": null,
   "id": "95d6abe3-4561-4031-ae2f-6355dd5b85af",
   "metadata": {},
   "outputs": [],
   "source": [
    "# Probabiltiy mass function of G(p)\n",
    "dG <- function(x,p) {dgeom(x-1,p)}\n",
    "# Cumulative distribution function of G(p)\n",
    "pG <- function(x,p) {pgeom(x-1,p)}"
   ]
  },
  {
   "cell_type": "markdown",
   "id": "aa4b9f3d-a332-4235-9a89-49637dd0961a",
   "metadata": {},
   "source": [
    "And in this way, the value of the probability we are asked to calculate, $P(Y = 7)$, would be computed as:"
   ]
  },
  {
   "cell_type": "code",
   "execution_count": null,
   "id": "748819b3-f2d2-434c-8630-450a9048fa8d",
   "metadata": {},
   "outputs": [],
   "source": [
    "# P(Y=7) with Y ~ G(0.4)\n",
    "dG(7,0.4)"
   ]
  },
  {
   "cell_type": "markdown",
   "id": "3b02e7ca-4ffd-46d6-8386-814cacccb28f",
   "metadata": {},
   "source": [
    "As we see, the probability of finding the first defective processor on the seventh computer is 0.0187.\n",
    "\n",
    "5. *Calculate the probability that the tenth reviewed computer is the fourth non-defective one.*\n",
    "\n",
    "In this case, we define a new random variable W, which will represent the number of computers reviewed until the fourth non-defective computer is found. This variable follows a negative binomial distribution, BN(r=4, p=0.6), since we are counting the number of independent Bernoulli trials, each with the same probability of success, until the fourth success (defective processor) occurs.\n",
    "\n",
    "The probability we need to calculate is $P(W = 10) = p_{BN(4,0,6)}(10)$, which, calculated using the formulation seen in class, results in 0.04459069.\n",
    "\n",
    "If you consult the help for the Negative Binomial distribution provided by R (`?dnbinom`), you will notice that this distribution defines the random variable K as the number of failures before obtaining r successes, rather than the definition we used in class for the negative binomial variable, which counts the number of trials until reaching r successes. In other words, W = K + r.\n",
    "\n",
    "The variable K also follows a negative binomial distribution, and its probability function is as follows:\n",
    "\n",
    "$ p_K(k)=\\left(\\begin{array}{c}\n",
    "k+r-1\\\\r-1\n",
    "\\end{array}\\right) p^r (1-p)^k,\\;\\; k\\geq 0\n",
    "$\n",
    "\n",
    "According to this definition, in R the probability we need to calculate will be given by:"
   ]
  },
  {
   "cell_type": "code",
   "execution_count": null,
   "id": "688423d5-d006-42e7-b641-3f231c2276b7",
   "metadata": {},
   "outputs": [],
   "source": [
    "# P(W=10) with W ~ BN(4,0.4)\n",
    "dnbinom(6,4,0.6)"
   ]
  },
  {
   "cell_type": "markdown",
   "id": "6e171a1e-0f68-4c73-83a9-fb157729f966",
   "metadata": {},
   "source": [
    "Resulting that the probability that the tenth computer reviewed is the fourth non-defective one is 0.045."
   ]
  },
  {
   "cell_type": "markdown",
   "id": "8e03a8fb-2fed-4d9a-b66a-2c7833e5744a",
   "metadata": {},
   "source": [
    "The definition of the hypergeometric random variable in R is also not identical to the one we saw in class. Just like we did for the geometric variable, functions can be defined in R to represent the definitions of the negative binomial and hypergeometric variables as seen in theory. Use R's help to view the definitions of these two variables (`?dhyper` and `?dnbinom`)."
   ]
  },
  {
   "cell_type": "markdown",
   "id": "5abc78d5-538d-4510-9a8d-88dd1ddb7009",
   "metadata": {},
   "source": [
    "## Quantile Function\n",
    "\n",
    "For each of the given random variables, the quantile function ($F_X^{-1}(p)$) can be obtained using the prefix `q`.  \n",
    "\n",
    "Taking as an example the first part of the processor exercise, where we found that $P(X\\leq 3) = F_{B(20,0.4)}(3)=0.01596116$, we can obtain the smallest value $X$ ($c$) such that $P(X\\le c)> 0.01596116$, given that $X\\sim B(20,0.4)$:"
   ]
  },
  {
   "cell_type": "code",
   "execution_count": null,
   "id": "dbddbe6b-09b9-470d-8959-9284f22e5b94",
   "metadata": {},
   "outputs": [],
   "source": [
    "# P(X<=c) with X ~ B(20, 0.4)\n",
    "qbinom(0.01596116,n,p)"
   ]
  },
  {
   "cell_type": "markdown",
   "id": "831bddf6-150b-4914-9407-bc86204285f1",
   "metadata": {},
   "source": [
    "which turns out to be 3 computers. Note that, in this case, the first argument is the probability, followed by the parameters in the order specified in the table.\n",
    "\n",
    "The first quartile of that same distribution is given by:"
   ]
  },
  {
   "cell_type": "code",
   "execution_count": null,
   "id": "26f35d04-4ffb-4e25-a9c2-24885a153528",
   "metadata": {},
   "outputs": [],
   "source": [
    "# Q1 with X ~ B(20, 0.4)\n",
    "qbinom(0.25,n,p)"
   ]
  },
  {
   "cell_type": "markdown",
   "id": "9d8d7522-a9e5-4793-a0d1-8c12c7adb281",
   "metadata": {},
   "source": [
    "It can be verified that the value of the variable x=6 is indeed the first quartile:"
   ]
  },
  {
   "cell_type": "code",
   "execution_count": null,
   "id": "78f5b1e9-fd39-405a-a009-a807a9b76367",
   "metadata": {},
   "outputs": [],
   "source": [
    "# P(X<=5) with X ~ B(20, 0.4)\n",
    "pbinom(5,n,p)"
   ]
  },
  {
   "cell_type": "markdown",
   "id": "08092c19-46b2-4e7c-8253-e174fd4647ff",
   "metadata": {},
   "source": [
    "For x=5, the value of the distribution function is less than 0.25. Then, we calculate what happens with x=6: "
   ]
  },
  {
   "cell_type": "code",
   "execution_count": null,
   "id": "10736481-ad63-4c91-851a-b76c567be7d4",
   "metadata": {},
   "outputs": [],
   "source": [
    "# P(X<=6) with X ~ B(20, 0.4)\n",
    "pbinom(6,n,p)"
   ]
  },
  {
   "cell_type": "markdown",
   "id": "59173c71-4b49-494d-805f-9d521550f48c",
   "metadata": {},
   "source": [
    "Here, the value exceeds 0.25, so Q1=6 computers.\n",
    "\n",
    "As we mentioned before, in R, the definition of a geometric variable is a shifted version of the one used in theory. Therefore, we could also define a new R function to compute the quantiles for this distribution according to the class definition:"
   ]
  },
  {
   "cell_type": "code",
   "execution_count": null,
   "id": "06ce225f-33ed-4daa-9fbb-07d22346dae2",
   "metadata": {},
   "outputs": [],
   "source": [
    "# Quantil function for G(p)\n",
    "qG <- function(x,p) {1+qgeom(x,p)}"
   ]
  },
  {
   "cell_type": "markdown",
   "id": "8e93a744-3100-4f60-8f6c-928afaa08605",
   "metadata": {},
   "source": [
    "Which we could use, for example, to determine the median ($C_{0.5}$) of a G(0.4) distribution."
   ]
  },
  {
   "cell_type": "code",
   "execution_count": null,
   "id": "0d9fe2fe-e5be-414a-91b2-68d71e4fa81e",
   "metadata": {},
   "outputs": [],
   "source": [
    "# P(Y<=y)>=0.5 with Y ~ G(0.4)\n",
    "qG(0.5,0.4)"
   ]
  },
  {
   "cell_type": "markdown",
   "id": "2c5fb98e-aac0-4fbe-ad22-22411fda9d08",
   "metadata": {},
   "source": [
    "<div class=\"alert alert-block alert-info\">\n",
    "<strong>PRACTICE ON YOUR OWN</strong>\n",
    "\n",
    "- Define new functions (BN and HG, with prefixes d, p, and q) that correspond to the definitions seen in class for the negative binomial and hypergeometric distributions.\n",
    "    \n",
    "- Given a random variable X that follows a B(200,0.4), solve the following:\n",
    "  1. $P(X<71)$\n",
    "  2. $P(X\\geq 90)$\n",
    "  3. $F_X(100)$\n",
    "  4. $P(X\\leq x)\\geq0.4$\n",
    "  5. $P(X\\geq x)\\geq0.8$\n",
    "  6. $P(X=60)$\n",
    "     \n",
    "</n>\n",
    "\n",
    "- A random variable X is uniformly distributed in the interval (2,4). Solve the following:\n",
    "  1. $P(X<2.5)$\n",
    "  2. $P(X\\geq 3.2)$\n",
    "  3. $P(2.2 < X < 3.5)$\n",
    "  4. $P(X\\leq x)=0.4$\n",
    "  5. $P(X\\geq x)=0.8$\n",
    "  6. $F_X(2.7)$\n",
    "\n",
    "</n>\n",
    "\n",
    "- The telephone switchboard of a hotel receives calls per minute following a Poisson distribution with parameter $\\lambda=0.5$. Determine the probability that in a randomly chosen minute:\n",
    "    1. Exactly one call is received.\n",
    "    2. At most two calls are received.\n",
    "    3. The switchboard gets blocked, knowing that it cannot handle more than three connections per minute.\n",
    "\n",
    "</div>"
   ]
  },
  {
   "cell_type": "markdown",
   "id": "3c94765b-9456-41df-b2c6-9132c506c465",
   "metadata": {},
   "source": [
    "## Random samples\n",
    "\n",
    "Finally, the prefix `r` (short for random) allows us to obtain random values from a given random variable. In other words, it enables us to generate specific values $x$ from a random variable $X$. Put differently, it simulates an experiment that follows a certain distribution.\n",
    "\n",
    "With common distribution functions, we can simulate experiments with both continuous and discrete variables that have a countably infinite sample space.\n",
    "\n",
    "For example, we can obtain a random sample from a binomial distribution $B(20,0.5)$:"
   ]
  },
  {
   "cell_type": "code",
   "execution_count": null,
   "id": "486bbd09-c634-45e8-a231-ae667ca2afa0",
   "metadata": {},
   "outputs": [],
   "source": [
    "# Random values from a B(20,0.5)\n",
    "n <- 20\n",
    "p <- 0.5\n",
    "rbinom(10,n,p)"
   ]
  },
  {
   "cell_type": "markdown",
   "id": "beba0d8a-bb24-4ca9-a70a-d23750ee695c",
   "metadata": {},
   "source": [
    "These would be 10 possible outcomes of a binomial experiment in which 20 Bernoulli trials are conducted with a success probability of 0.5. That is, the first value indicates the number of successes obtained after performing 20 Bernoulli trials. Each time the previous command is repeated, the obtained values change since this is a random experiment.\n",
    "\n",
    "Similarly, random samples can be obtained from any other distribution:"
   ]
  },
  {
   "cell_type": "code",
   "execution_count": null,
   "id": "d236713c-208c-48ee-884a-3769165697fe",
   "metadata": {},
   "outputs": [],
   "source": [
    "rnorm(15)          # Sample of size 15 from N(0,1)\n",
    "rnorm(10, 165, 5)  # Sample of size 10 from N(165,sd=5)\n",
    "rpois(10, 5)       # Sample of size 10 from Po(5)"
   ]
  },
  {
   "cell_type": "markdown",
   "id": "75344bd2-f5b5-4b82-84f9-de7938efc23b",
   "metadata": {},
   "source": [
    "As you can see, the R functions corresponding to the normal distribution take the mean and standard deviation as parameters, not the variance. Additionally, when working with the standard normal distribution (N(0,1)), it is not necessary to specify these two parameters, as they are set by default.\n",
    "\n",
    "# Representing probability distributions\n",
    "\n",
    "In R, it is possible to plot distribution functions (or any other function) using the `curve` function. For example, to plot the standard normal density function between -4 and 4, we use:"
   ]
  },
  {
   "cell_type": "code",
   "execution_count": null,
   "id": "6c744088-43c2-4622-8467-d7efb8306743",
   "metadata": {},
   "outputs": [],
   "source": [
    "# N(0,1)\n",
    "curve(dnorm(x), -4, 4)"
   ]
  },
  {
   "cell_type": "markdown",
   "id": "8ebf3555-153c-4972-b922-01adaadf52f5",
   "metadata": {},
   "source": [
    "The name `x`, which we use as the first argument, is interpreted by the `curve` function as the independent variable to be represented.\n",
    "\n",
    "We can improve the appearance of the plot by using common arguments in plotting functions. For example, we can label the axes (with `xlab` and `ylab`), change the color (`col`) or the line width (`lwd`), or add a title (`main`) to the plot:"
   ]
  },
  {
   "cell_type": "code",
   "execution_count": null,
   "id": "62d82504-5072-4dc2-a667-8512f5ae068d",
   "metadata": {},
   "outputs": [],
   "source": [
    "curve(dnorm(x), from=-4, to=4, col=\"red\", lwd=3, ylab=\"Probability density\", main=\"Probability density function of a a N(0,1)\")"
   ]
  },
  {
   "cell_type": "markdown",
   "id": "904a7b15-f46d-494f-9dc7-21933c38d513",
   "metadata": {},
   "source": [
    "We can add another curve to the same plot using the argument `add=TRUE` :"
   ]
  },
  {
   "cell_type": "code",
   "execution_count": null,
   "id": "858b296f-51b0-44bf-8c72-e384f8c415be",
   "metadata": {},
   "outputs": [],
   "source": [
    "# N(0,1)\n",
    "curve(dnorm(x), from=-4, to=4, col=\"red\", lwd=3, ylab=\"Probability density\")\n",
    "# t(4)\n",
    "curve(dt(x, 4), col=\"blue\", lwd=3, add=TRUE)"
   ]
  },
  {
   "cell_type": "markdown",
   "id": "e350c72c-9eaf-403a-81c2-8b6db9897c72",
   "metadata": {},
   "source": [
    "In this case, we have added the probability density function of the Student's t-distribution with 4 degrees of freedom. This is another common bell-shaped distribution.\n",
    "\n",
    "Since there are two lines in the same plot, we should distinguish them using a legend:"
   ]
  },
  {
   "cell_type": "code",
   "execution_count": null,
   "id": "b904cbc5-6406-477d-9164-eb2844211f3e",
   "metadata": {},
   "outputs": [],
   "source": [
    "# N(0,1)\n",
    "curve(dnorm(x), from=-4, to=4, col=\"red\", lwd=3, ylab=\"Probability density\")\n",
    "# t(4)\n",
    "curve(dt(x, 4), col=\"blue\", lwd=3, add=TRUE)\n",
    "legend(-4, 0.4, legend=c(\"N(0,1)\", \"t(4)\"), col=c(\"red\",\"blue\"), lwd=3)"
   ]
  },
  {
   "cell_type": "markdown",
   "id": "5ab63720-34a1-4128-af99-ea5365f0b768",
   "metadata": {},
   "source": [
    "The first two arguments of the `legend` function specify the position of the upper-left corner of the legend. The resulting plot displays the two density functions: the N(0,1) distribution in red and the Student's t-distribution with 4 degrees of freedom in blue.\n",
    "\n",
    "By changing the degrees of freedom, we can observe how the Student's t-distribution approaches the standard normal distribution as the degrees of freedom increase.\n",
    "\n",
    "To plot a discrete probability function, we can use the `plot` function. For example, to represent the probability mass function of a binomial distribution B(n=30,p=0.5) (which could describe the probability function of a random variable counting the number of heads when flipping a coin 30 times), we can run the following commands:"
   ]
  },
  {
   "cell_type": "code",
   "execution_count": null,
   "id": "297b06bf-dc99-43d0-a01f-45ca58ca2036",
   "metadata": {},
   "outputs": [],
   "source": [
    "# PDF of B(30,0.5)\n",
    "n <- 30\n",
    "p <- 0.5\n",
    "x.i <- 0:n\n",
    "plot(x.i, dbinom(x.i,n,p), type=\"h\", lwd=4, xlab=\"x\", \n",
    "     ylab=expression('p'[B(n,p)]*'(x)'), main=\"Probability mass function of a B(30,0.5)\")"
   ]
  },
  {
   "cell_type": "markdown",
   "id": "2bc73ded-a35d-4fe5-91a4-a7f29760a4a8",
   "metadata": {},
   "source": [
    "In the previous figure, as expected, we observe that there is a higher probability of obtaining an equal number of heads and tails, while it is very unlikely to get all or almost all heads, as well as none or almost no heads.\n",
    "\n",
    "Try changing the value of p in the previous code to values close to 0 or close to 1 and observe the changes in the graph.\n",
    "\n",
    "It is worth noting that in the previous code, the argument `type=\"h\"` was used so that the `plot` function draws vertical impulses at each value instead of connecting the points with lines.\n",
    "\n",
    "The cumulative distribution functions of discrete variables can be plotted with their jumps by defining the following function:"
   ]
  },
  {
   "cell_type": "code",
   "execution_count": null,
   "id": "df2f57f1-322b-4960-a0fb-862e4d2a1664",
   "metadata": {},
   "outputs": [],
   "source": [
    "plot.FX.discrete <- function(pdist, rng, ...){\n",
    "x.i <- seq(floor(rng[1]),ceiling(rng[2]))\n",
    "x.i <- x.i[pdist(x.i, ...)-pdist(x.i-1, ...)!=0]\n",
    "y.i <- pdist(x.i, ...)\n",
    "ym1.i <- pdist(x.i-1, ...)\n",
    "plot(2,xlim=rng, ylim=c(0,1),xlab=\"x\",ylab=\"Cumulative distribution function\")\n",
    "segments(x.i, y.i, x.i+1, y.i, lwd=2)\n",
    "segments(rng[1],0,x.i[1],0, lwd=2)\n",
    "segments(x.i[length(x.i)], 1, rng[2],1, lwd=2)\n",
    "segments(x.i, ym1.i, x.i, y.i, lty=\"dotted\")\n",
    "points(x.i, y.i, pch=20)\n",
    "}"
   ]
  },
  {
   "cell_type": "markdown",
   "id": "aa6ac2fc-53d2-4f7e-b465-9e82a9d86e3d",
   "metadata": {},
   "source": [
    "which we will call in the following code that represents the cumulative distribution function of a B(10,0.8):"
   ]
  },
  {
   "cell_type": "code",
   "execution_count": null,
   "id": "8d52198d-d630-4c49-9f4e-7dbf4e76fb05",
   "metadata": {},
   "outputs": [],
   "source": [
    "xlimits <- c(-1,15) # Range to plot\n",
    "# FX(x) with X~B(10,0.8)\n",
    "plot.FX.discrete(pbinom, xlimits, 10,0.8)"
   ]
  },
  {
   "cell_type": "markdown",
   "id": "8bbb5982-40ea-497a-b0cb-bbc3824bed2b",
   "metadata": {},
   "source": [
    "Or to represent the cumulative distribution function of a Po(5):"
   ]
  },
  {
   "cell_type": "code",
   "execution_count": null,
   "id": "375c3124-8e74-41f7-897a-2841eaa16924",
   "metadata": {},
   "outputs": [],
   "source": [
    "# FX(x) with X~Po(5)\n",
    "plot.FX.discrete(ppois, xlimits, 5)"
   ]
  },
  {
   "cell_type": "markdown",
   "id": "7c1f5939-a72a-40e5-abec-9b3a1ff4976a",
   "metadata": {},
   "source": [
    "We can combine the previous function with the `curve` function to verify how the binomial distribution tends to the normal distribution when n is sufficiently large and p is not close to 0 or 1:"
   ]
  },
  {
   "cell_type": "code",
   "execution_count": null,
   "id": "6818c81c-8fab-48ea-8021-26da6db0272b",
   "metadata": {},
   "outputs": [],
   "source": [
    "# B(30,0.5)\n",
    "n <- 30\n",
    "p <- 0.5\n",
    "xlimits <- c(5,25)\n",
    "mean_val <- n*p\n",
    "std_val <- sqrt(n*p*(1-p))\n",
    "# FX(x) with X~B(30,0.5)\n",
    "plot.FX.discrete(pbinom, xlimits, n, p)\n",
    "# Normal approximation \n",
    "curve(pnorm(x,mean_val,std_val), col=\"red\", add=TRUE)\n",
    "# Normal approximation with continuity correction\n",
    "curve(pnorm(x+0.5,mean_val,std_val), col=\"blue\", add=TRUE)\n",
    "# Error\n",
    "lines(0:n, abs(pbinom(0:n,n,p)-pnorm(0:n,mean_val,std_val)), type=\"h\",lwd=3)"
   ]
  },
  {
   "cell_type": "markdown",
   "id": "c27c5bc9-d3ac-442a-a59b-221ea61c8654",
   "metadata": {},
   "source": [
    "In the resulting graph, the distribution function of a B(30,0.5) variable is represented in black, while its approximation using the normal distribution with and without continuity correction is shown in blue and red, respectively.\n",
    "\n",
    "The vertical bars drawn at the bottom of the graph indicate the error introduced when approximating this binomial distribution with a normal distribution. This error is computed within the `lines` function in the previous code."
   ]
  },
  {
   "cell_type": "markdown",
   "id": "8089c26e-c7a1-45fa-8297-0069a9842a12",
   "metadata": {},
   "source": [
    "<div class=\"alert alert-block alert-info\">\n",
    "<strong>PRACTICA ON YOUR OWN</strong>\n",
    "\n",
    "- If we roll a die 288 times, calculate the probability of obtaining a 5 or 6 more than 90 times and less than 120 times.\n",
    "Verify the obtained value by representing the distribution function associated with this experiment.\n",
    "     \n",
    "</n>\n",
    "\n",
    "- An engineer has a probability of 0.02 of making a significant mistake when carrying out a project. \n",
    "  1. Determine the probability of making 2 mistakes if they complete 20 projects.\n",
    "  2. Calculate the probability of making the first mistake on the sixth project.\n",
    "  3. If making 10 mistakes leads to dismissal from the company, calculate the probability of being dismissed if they complete 40 projects.\n",
    "  4. And what about being dismissed after completing the 15th project?\n",
    "\n",
    "</n>\n",
    "\n",
    "- The height of 1000 high school students follows a normal distribution with a mean of 168 cm and a standard deviation of 5 cm.\n",
    "    1. Represent the probability density function of this distribution.\n",
    "    2. The range of values around the mean that contains 95% of the students.\n",
    "    3. The range of values around the mean that contains 50% of the students.\n",
    "    4. The minimum height of the top 15% of the tallest students.\n",
    "    5. The minimum height of the top 5% of the tallest students.\n",
    "\n",
    "</div>"
   ]
  }
 ],
 "metadata": {
  "kernelspec": {
   "display_name": "R",
   "language": "R",
   "name": "ir"
  },
  "language_info": {
   "codemirror_mode": "r",
   "file_extension": ".r",
   "mimetype": "text/x-r-source",
   "name": "R",
   "pygments_lexer": "r",
   "version": "4.3.3"
  }
 },
 "nbformat": 4,
 "nbformat_minor": 5
}
