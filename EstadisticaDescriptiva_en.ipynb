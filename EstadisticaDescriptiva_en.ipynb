{
 "cells": [
  {
   "cell_type": "markdown",
   "id": "89e4c580-7cb7-400e-8549-44c7af4a6d65",
   "metadata": {},
   "source": [
    "<div style=\"text-align: center; font-size: 30px;\">\n",
    "Statistics Labs<br/>\n",
    "</div>\n",
    "<div style=\"text-align: center; font-size: 30px;\">\n",
    "Descriptive Statistics\n",
    "</div>\n",
    "<div style=\"text-align: center; font-size: 16px; font-style: italic\">\n",
    "Material prepared by M. Dolores Frías, Jesús Fernández, and Carmen M. Sordo, senior lectures from the Department of Applied Mathematics and Computer Science at the University of Cantabria.\n",
    "</div>"
   ]
  },
  {
   "cell_type": "markdown",
   "id": "b77abfbd-c549-4202-82df-802ce74d5f59",
   "metadata": {},
   "source": [
    "# Objectives\n",
    "\n",
    "Applying a descriptive statistical analysis to a dataset is often the first step before considering more complex methods, as it allows summarizing information from the data while identifying potential patterns and unique characteristics.\n",
    "\n",
    "In this exercise, we will learn how to perform a descriptive analysis of data using R. To achieve this, we will calculate certain statistical measures covered in class, summarize the data in frequency tables, and generate some of the most common types of graphs. It is important to remember that the applied methodology will vary depending on the nature of the studied data: qualitative, ordinal, discrete, or continuous.\n",
    "\n",
    "Keep in mind that R is merely a tool that allows us to explore different datasets. To use it properly, we must understand which statistical methods to apply in each case and have the ability to analyze and interpret the obtained results.\n",
    "\n",
    "We will focus mainly on unidimensional analysis, but we will also look at some highlights of the two-variable study."
   ]
  },
  {
   "cell_type": "markdown",
   "id": "be9fce17-ff4c-44c6-aa43-476635725c50",
   "metadata": {
    "editable": true,
    "slideshow": {
     "slide_type": ""
    },
    "tags": []
   },
   "source": [
    "\n",
    "# Frequency Tables\n",
    "\n",
    "Tables are a widely used tool for obtaining summarized information from a dataset, as they show the frequency of each possible value (or category) that a variable can take. \n",
    "\n",
    "We will start by analyzing one-dimensional frequency tables and at the end of the section we will see how to construct two-dimensional tables.\n",
    "\n",
    "## One-dimensional table\n",
    "\n",
    "A complete frequency table for one variable includes information on absolute frequency, relative frequency, cumulative absolute frequency, and cumulative relative frequency. \n",
    "\n",
    "Remember that tables are constructed differently depending on the nature of the variable. If the variable is continuous or discrete with many possible values, then the data must be classified into intervals. Let's see how to obtain frequency tables in each case using R.\n",
    "\n",
    "To begin, we will load the file *pulsations.rda*, available on the course webpage, which we will use in this exercise. This file contains records of 92 individuals across different variables. We can view its content using the command `head(pulsations)`. \n",
    "\n",
    "Some individuals in this sample were asked to run for a period, while others were not. The first column (*Pulse1*) contains each individual's heart rate at the beginning of the test, while the second column (*Pulse2*) records the heart rate at the end of the test. The third column (*Run*) indicates whether the individual was in the running group or not. The fourth column (*Smoke*) specifies whether the individual smokes or not, and the fifth column (*Sex*) indicates whether the individual is male or female. The sixth (*Height*) and seventh (*Weight*) columns record the individual's height (cm) and weight (kg), respectively. Finally, the eighth column (*Activity*) indicates the type of physical activity the individual usually engages in daily: none, low, medium, or high.\n",
    "\n",
    "As always, we will first set the working directory using the `setwd` command. For example, if we have created the folder *C:/Desktop/Statistics/P1* on our computer and downloaded the necessary data files for this exercise, we should write and execute the following command in RStudio at the beginning of the program:\n",
    "```R\n",
    "setwd(\"C:/Desktop/Statistics/P1\")\n",
    "\n",
    "```"
   ]
  },
  {
   "cell_type": "code",
   "execution_count": null,
   "id": "436e3caa-cabc-4eb6-97dd-8f8280d72058",
   "metadata": {},
   "outputs": [],
   "source": [
    "# Set working directory\n",
    "setwd(\"data/\") "
   ]
  },
  {
   "cell_type": "code",
   "execution_count": null,
   "id": "221d1b99-2ef2-44a1-9c85-855a56a443a1",
   "metadata": {},
   "outputs": [],
   "source": [
    "# Load the data\n",
    "load(\"pulsations.rda\") \n",
    "# Data frame structure\n",
    "str(pulsations)\n",
    "# First records of the data frame\n",
    "head(pulsations)\n",
    "attach(pulsations)"
   ]
  },
  {
   "cell_type": "markdown",
   "id": "40fe9cc2-6648-4d47-bf46-bf9bdc60620f",
   "metadata": {
    "editable": true,
    "slideshow": {
     "slide_type": ""
    },
    "tags": []
   },
   "source": [
    "As we can see, the file contains variables of different types, as shown by the command `str(pulsations)`. \n",
    "\n",
    "Remember that the `attach` command allows us to treat the columns of a data frame as vectors, making it possible to apply any command directly to the variable name instead of referencing the data frame explicitly. For example, we can now execute `length(Height)` instead of writing `length(pulsations$Height)`. The command `detach` undoes the `attach` action. \n",
    "\n",
    "Absolute frequencies for qualitative, semi-quantitative (factor), or discrete variables with a limited number of possible values can be obtained directly by applying the `table` function to the variable. This function generates a table where the possible values of the variable are displayed along with the number of times each value appears in the sample (absolute frequencies). \n",
    "\n",
    "We will apply this function to the *Sex* variable as follows:"
   ]
  },
  {
   "cell_type": "code",
   "execution_count": null,
   "id": "bbf7a2c1-8d38-4e85-a5cf-5225a643b385",
   "metadata": {},
   "outputs": [],
   "source": [
    "table(Sex)"
   ]
  },
  {
   "cell_type": "markdown",
   "id": "d56dac86-73cf-4784-96eb-c6288c1662d9",
   "metadata": {},
   "source": [
    "Since this is a qualitative variable, it only makes sense to obtain absolute and relative frequencies in the frequency table."
   ]
  },
  {
   "cell_type": "code",
   "execution_count": null,
   "id": "f53b8617-6767-40cd-9d59-792c4ea2c903",
   "metadata": {},
   "outputs": [],
   "source": [
    "xi <- levels(Sex) # Categories\n",
    "ni <- as.vector(table(Sex)) # Absolute frequency\n",
    "fi <- ni/sum(ni) # Relative frequency\n",
    "# Display the table in a formatted manner by creating a data frame.\n",
    "data.frame(xi=xi, ni=ni, fi=fi)"
   ]
  },
  {
   "cell_type": "markdown",
   "id": "c93120fe-f0ac-4d6f-ac69-4fc0eae78dec",
   "metadata": {},
   "source": [
    "The `as.vector` command used in the previous code allows us to extract only the absolute frequencies from the output of `table`, which we store in the variable `ni`, representing absolute frequency. \n",
    "\n",
    "Additionally, we can use the `levels` function to retrieve the categories of the *Sex* variable, as it is a qualitative variable defined as a factor in R. You can run `class(Sex)` to check the variable type.\n",
    "\n",
    "We can also improve the table output by rounding the relative frequencies to two decimal places using the `round` function."
   ]
  },
  {
   "cell_type": "code",
   "execution_count": null,
   "id": "0362e057-cf68-44ed-84ff-32ac1bfc59f4",
   "metadata": {},
   "outputs": [],
   "source": [
    "fi <- round(ni/sum(ni),2) # Relative frequency\n",
    "# Display the data in a formatted manner by creating a data frame.\n",
    "data.frame(xi=xi, ni=ni, fi=fi)"
   ]
  },
  {
   "cell_type": "markdown",
   "id": "13ee9c45-1189-4f12-85bd-bfc07fb02a29",
   "metadata": {},
   "source": [
    "Analyzing the previous table, we see that the 57 men in the sample represent 62% of the total data.\n",
    "\n",
    "Now, let's see how to obtain the frequency table for an ordinal variable such as *Activity*. In this case, it makes sense to analyze cumulative frequencies (*Ni*, *Fi*), as the categories of the variable indicate an order."
   ]
  },
  {
   "cell_type": "code",
   "execution_count": null,
   "id": "1e4ce049-b18e-4fe2-b3e3-4372db11fe98",
   "metadata": {},
   "outputs": [],
   "source": [
    "table(Activity)"
   ]
  },
  {
   "cell_type": "markdown",
   "id": "8c1a40c4-9f16-46bc-83ab-bfc1c59d2d6a",
   "metadata": {},
   "source": [
    "Observing the result, we see that R, by default, orders the categories of this variable alphabetically (*High, Low, Medium*) when it should be arranged from least to most activity. \n",
    "\n",
    "To correctly interpret the cumulative frequencies, we must reorder these categories properly as follows:"
   ]
  },
  {
   "cell_type": "code",
   "execution_count": null,
   "id": "4473e31f-7e7c-431a-9355-ef63d421fd4b",
   "metadata": {},
   "outputs": [],
   "source": [
    "activity.order <- ordered(Activity, levels=c( \"Low\", \"Medium\", \"High\"))\n",
    "levels(activity.order) "
   ]
  },
  {
   "cell_type": "markdown",
   "id": "926962f5-880e-4004-bdc1-9e9eeb03a293",
   "metadata": {},
   "source": [
    "With this correction, we obtain the complete frequency table."
   ]
  },
  {
   "cell_type": "code",
   "execution_count": null,
   "id": "9ec658f1-7b67-4136-bb18-5a8c1d01190f",
   "metadata": {
    "editable": true,
    "slideshow": {
     "slide_type": ""
    },
    "tags": []
   },
   "outputs": [],
   "source": [
    "xi <- levels(activity.order) # Categories\n",
    "ni <- as.vector(table(activity.order)) # Absolute frequency\n",
    "Ni <- cumsum(ni) # Cumulative absolute frequency\n",
    "fi <- round(ni/sum(ni),2) # Relative frequency\n",
    "Fi <- cumsum(fi) # Cumulative relative frequency\n",
    "# Display the table in a formatted manner by creating a data frame.\n",
    "data.frame(xi=xi, ni=ni, Ni=Ni, fi=fi, Fi=Fi) "
   ]
  },
  {
   "cell_type": "markdown",
   "id": "1f19febe-a95a-4ded-abe2-f1db07f05557",
   "metadata": {},
   "source": [
    "Once we have the full table, it is important to analyze the results, as it contains a lot of information about the sample. For example, in this case, we see that only 9 people (10% of the sample) have a low activity level. Additionally, we observe that 76% of individuals engaged in low or moderate physical activity.\n",
    "\n",
    "The `table` function can also be applied to quantitative variables, returning the absolute frequencies for each value of the variable. For example:"
   ]
  },
  {
   "cell_type": "code",
   "execution_count": null,
   "id": "d60efeea-1d3b-4218-bf97-780bdf6ae88b",
   "metadata": {},
   "outputs": [],
   "source": [
    "ni <- as.vector(table(Pulse1))\n",
    "xi <- sort(unique(Pulse1)) # Sort the possible values of the variable.\n",
    "Ni <- cumsum(ni)\n",
    "fi <- ni/sum(ni)\n",
    "Fi <- cumsum(fi)\n",
    "# Display the table in a formatted manner by creating a data frame.\n",
    "data.frame(xi=xi, ni=ni, Ni=Ni, fi=fi, Fi=Fi)"
   ]
  },
  {
   "cell_type": "markdown",
   "id": "34885ac4-deba-4d65-a40a-db10256cdcd7",
   "metadata": {},
   "source": [
    "We can see that the frequency table for the variable *Pulse1* does not effectively summarize the information, as there are many values with very low absolute frequencies (only 1 or 2 individuals with that pulse rate). \n",
    "\n",
    "As we already know, when dealing with continuous data or discrete data with many different values (as in the case of *Pulse1*), it is necessary to group them into classes. \n",
    "\n",
    "In our case, we will implement Sturges' rule in R to determine the number of classes to define. Then, we will use the `cut` function, which groups data into intervals, allowing us to specify the classes we want to create."
   ]
  },
  {
   "cell_type": "code",
   "execution_count": null,
   "id": "8abc3eef-2570-406c-b578-92be702b20ab",
   "metadata": {},
   "outputs": [],
   "source": [
    "n <- length(Pulse1) # Sample size\n",
    "# Sturges criteria. The floor function rounds the value down.\n",
    "nclass <- floor(3/2+log(n)/log(2)); nclass \n",
    "# Range\n",
    "range(Pulse1) "
   ]
  },
  {
   "cell_type": "code",
   "execution_count": null,
   "id": "b6196dd2-0d25-42fb-9316-ed43430984a7",
   "metadata": {},
   "outputs": [],
   "source": [
    "# Interval limits\n",
    "interval_boundaries <- seq(44, 105, 7)\n",
    "# Classification of data into intervals.\n",
    "data_class <- cut(Pulse1, breaks=interval_boundaries); data_class\n",
    "# Absolute frequency\n",
    "ni <- as.vector(table(data_class))"
   ]
  },
  {
   "cell_type": "markdown",
   "id": "73ce9b57-495f-4e1b-a70b-f00d9385933a",
   "metadata": {},
   "source": [
    "Observe the output of *data_class*, as it corresponds to the classified data in intervals. That is, each value of *Pulse1* has been assigned to one of the defined intervals.\n",
    "\n",
    "From the *ni* vector, the remaining frequencies can be calculated to complete the frequency table using the following commands:"
   ]
  },
  {
   "cell_type": "code",
   "execution_count": null,
   "id": "3c2a87d8-cf7e-472f-b3f0-c63af6276a44",
   "metadata": {},
   "outputs": [],
   "source": [
    "# Intervals and class mark\n",
    "intervals <- levels(data_class)\n",
    "xi <- interval_boundaries[1:nclass]+diff(interval_boundaries)/2\n",
    "# Acumulated absolute frequency\n",
    "Ni <- cumsum(ni)\n",
    "# Relative frequency\n",
    "fi <- ni / sum(ni)\n",
    "# Acumulated relative frequency\n",
    "Fi <- cumsum(fi)\n",
    "# Display the table in a formatted manner by creating a data frame.\n",
    "data.frame(\"(Li-1,Li]\"=intervals,xi,ni,Ni,fi,Fi, check.names=FALSE)"
   ]
  },
  {
   "cell_type": "markdown",
   "id": "5bb01e11-94aa-4cf4-8a9e-bd79314dc5cb",
   "metadata": {},
   "source": [
    "By default, the `cut` function closes intervals on the right (see the variable `data_class`). This function has an argument that allows changing this option, which you can verify by checking the function's help documentation.\n",
    "\n",
    "We can improve the presentation of the table results by rounding the values of $f_i$ and $F_i$ to two decimal places using the `round` function as follows:"
   ]
  },
  {
   "cell_type": "code",
   "execution_count": null,
   "id": "d0e792f5-f13c-4bc3-96b8-6e0e590272ae",
   "metadata": {},
   "outputs": [],
   "source": [
    "data.frame(\"(Li-1,Li]\"=intervals,xi,ni,Ni,fi=round(fi,2),Fi=round(Fi,2), check.names=FALSE)"
   ]
  },
  {
   "cell_type": "markdown",
   "id": "24a6aee2-2840-426f-891e-eab65681d7cb",
   "metadata": {},
   "source": [
    "Among many other insights, we can see that the modal class corresponds to the interval (65,72], which has the highest absolute/relative frequency. Additionally, we observe that 57% of the individuals in the sample have a resting pulse rate of 72 or lower before engaging in physical activity."
   ]
  },
  {
   "cell_type": "markdown",
   "id": "e7efa099-fc37-49a4-9dc0-2f63b7f37694",
   "metadata": {},
   "source": [
    "<div class=\"alert alert-block alert-info\">\n",
    "<strong>PRACTICE ON YOUR OWN <br></strong>\n",
    "\n",
    "<br>\n",
    "Using the data from the *pulsations.rda* file, answer the following questions:\n",
    "\n",
    "1. Calculate the absolute frequency of women.\n",
    "2. Obtain the percentage of smokers.\n",
    "3. Calculate the percentage of women who are smokers.\n",
    "4. Determine the relative frequency of individuals who are shorter than 183 cm.\n",
    "5. Determine the relative frequency of individuals who are women.\n",
    "6. Determine the relative frequency of men whose usual sports practice is low.\n",
    "7. Determine the relative frequency of men who smoke.\n",
    "8. Among women, determine the relative frequency of those who are shorter than 170 cm.\n",
    "9. Determine the relative frequency of individuals whose resting pulse rate (*Pulse1*) is higher than 84.\n",
    "10. Determine the relative frequency of individuals whose resting pulse rate is higher than 84 and whose usual sports practice is not high.\n",
    "11. Determine the relative frequency of individuals with a resting pulse rate higher than 84, who smoke, and are women.\n",
    "12. Among smokers, determine the relative frequency of those whose *Pulse1* is higher than 84.\n",
    "</div>"
   ]
  },
  {
   "cell_type": "markdown",
   "id": "c367d109-7ff4-4b30-b3bc-378658035301",
   "metadata": {},
   "source": [
    "## Two-dimensional table\n",
    "\n",
    "We will now focus on how to build with R two-dimensional tables. As an example we construct the two-way table with two non-numeric variables selected from the pulsations file, such as *Activity* and *Smoke*."
   ]
  },
  {
   "cell_type": "code",
   "execution_count": null,
   "id": "75c649d6-415d-4fc3-be33-a2beb8d376f2",
   "metadata": {},
   "outputs": [],
   "source": [
    "table(\"Activity\"=activity.order, \"Smoke\"=Smoke)"
   ]
  },
  {
   "cell_type": "markdown",
   "id": "d04317af-3d03-4972-a173-5ebb190a8570",
   "metadata": {},
   "source": [
    "From the results of the table, we can see, for example, that 16 individuals who engage in high levels of physical activity are non-smokers. \n",
    "\n",
    "The values shown are absolute frequencies, but we could obtain the relative frequencies simply by dividing by the sample size. Those 16 individuals represent 17.4% of the sample."
   ]
  },
  {
   "cell_type": "code",
   "execution_count": null,
   "id": "b89d9ce2-2e96-4fc2-9a15-98fbd1d9856e",
   "metadata": {},
   "outputs": [],
   "source": [
    "round(table(\"Activity\"=activity.order, \"Smoke\"=Smoke)/n,3)"
   ]
  },
  {
   "cell_type": "markdown",
   "id": "dcaeb930-763f-489c-8a6f-c3e98a8f6d54",
   "metadata": {},
   "source": [
    "As in the unidimensional case, if we want to group data from continuous or discrete variables with many possible values, we must first classify the values into intervals using the `cut` function. This function allows us to define the range of each interval and specify whether the intervals should be closed on the right or the left.\n",
    "\n",
    "Thus, knowing that Sturges' rule suggests defining 8 intervals, the contingency table for the variables *Pulse1* and *Pulse2* can be obtained as follows:"
   ]
  },
  {
   "cell_type": "code",
   "execution_count": null,
   "id": "3a654f28-55c9-4b21-b7a7-dcdd2683cd69",
   "metadata": {},
   "outputs": [],
   "source": [
    "range(Pulse1)\n",
    "range(Pulse2)\n",
    "# Two dimensional table\n",
    "table(\"Pulse 1\"=cut(Pulse1, seq(44, 105, 7)), \"Pulse 2\"=cut(Pulse2, seq(50, 150, 12), right=FALSE))"
   ]
  },
  {
   "cell_type": "markdown",
   "id": "f52a0d7c-066e-4ecb-907d-fbffbdafce46",
   "metadata": {},
   "source": [
    "We observe for instance that there are 16 individuals with a resting pulse rate between (65,72] and a pulse after the activity between [62,74). "
   ]
  },
  {
   "cell_type": "markdown",
   "id": "9d96b659-4690-4d71-bdd7-f0b063eb5b24",
   "metadata": {
    "editable": true,
    "slideshow": {
     "slide_type": ""
    },
    "tags": []
   },
   "source": [
    "# Statistics\n",
    "\n",
    "There are several functions that allow us to summarize information from a dataset, with each function providing insight into a different aspect of the sample in a single value.\n",
    "\n",
    "In this exercise, we will learn how to compute different statistical measures in R, focusing on a single variable. We will continue working with the data from the *pulsations.rda* file.\n",
    "\n",
    "The `summary` command provides a brief descriptive analysis for each variable contained in this data frame. Note that statistics exist only for quantitative variables. For them, this function displays values corresponding to the maximum, minimum, quartiles, and mean. Meanwhile, for qualitative or ordinal variables (referred to as factors in R), it only shows the absolute frequency of each category in which the variable is classified (along with the count of missing values, if any)."
   ]
  },
  {
   "cell_type": "code",
   "execution_count": null,
   "id": "34b4610f-2d4b-4a8d-b23d-235d5aba66f1",
   "metadata": {},
   "outputs": [],
   "source": [
    "summary(pulsations)"
   ]
  },
  {
   "cell_type": "markdown",
   "id": "8358fd34-18d1-44bd-8b50-dee44ba2562b",
   "metadata": {},
   "source": [
    "If there are more than ten variables in the dataset, R requests confirmation, as the large amount of information may be difficult to display on the screen.\n",
    "\n",
    "We can also filter individuals from the sample who meet a specific condition. For example, in this case, we compute the basic statistics of the *Height* variable for individuals who smoke:"
   ]
  },
  {
   "cell_type": "code",
   "execution_count": null,
   "id": "4e295079-033b-4a5a-921b-6491eff52a43",
   "metadata": {},
   "outputs": [],
   "source": [
    "summary(Height) # Brief descriptive analysis for the variable Height\n",
    "HeightSmoke <- Height[Smoke==\"Yes\"]\n",
    "summary(HeightSmoke) # Basic statistics of the Height variable for individuals who smoke"
   ]
  },
  {
   "cell_type": "markdown",
   "id": "2199ecc0-aedf-4ef6-8718-bd9d5f9adc6e",
   "metadata": {},
   "source": [
    "For example, we can see that the range of heights among smokers is reduced.\n",
    "\n",
    "Now, let's outline the functions that compute the most important statistical measures. As we know, these measures are divided into four major groups: location, dispersion, position, and shape."
   ]
  },
  {
   "cell_type": "markdown",
   "id": "e8a8d47b-a5a8-49b7-9d49-bb37f7dc7db6",
   "metadata": {},
   "source": [
    "## Location Statistics\n",
    "\n",
    "Location statistics, also known as measures of central tendency, provide information about the central tendency or the value around which the data clusters. The most important measures are the mean, median, and mode.\n",
    "\n",
    "### Mean\n",
    "The arithmetic mean is calculated using the `mean` function:"
   ]
  },
  {
   "cell_type": "code",
   "execution_count": null,
   "id": "a1eec8b5-d18a-4989-96b8-8e59b272218a",
   "metadata": {},
   "outputs": [],
   "source": [
    "mean(Height, na.rm=TRUE)"
   ]
  },
  {
   "cell_type": "markdown",
   "id": "2def27ba-b5a2-4d3f-9c10-e429baefcc1b",
   "metadata": {},
   "source": [
    "The argument `na.rm=TRUE` is optional and is used to indicate that missing data should not be considered when calculating the statistic. This option is available in many other R functions.\n",
    "\n",
    "Calculate the mean of the vector `c(2,2,2,NA)` both with and without the `na.rm=TRUE` option to observe the difference in the result. The value `NA` stands for *Not Available*, meaning that no data is recorded for that entry. \n",
    "\n",
    "In some cases, a dataset may contain the value `NaN`, which stands for *Not a Number*. The `NaN` value arises from operations such as `0/0`. The `na.rm=TRUE` option excludes both cases from the mean calculation.\n",
    "\n",
    "### Median \n",
    "\n",
    "This statistic can be computed using two functions: the `quantile` function, specifying the quantile order (0.5 in this case), or using the `median` function:"
   ]
  },
  {
   "cell_type": "code",
   "execution_count": null,
   "id": "8222482f-1acf-40dc-bd79-e09cb502536a",
   "metadata": {},
   "outputs": [],
   "source": [
    "quantile(Height, c(0.5))\n",
    "median(Height)"
   ]
  },
  {
   "cell_type": "markdown",
   "id": "fb4096b5-45e5-4c5a-890a-4123dec4384c",
   "metadata": {},
   "source": [
    "### Mode\n",
    "\n",
    "There is no a function in R to compute the mode of a sample. So, we can create our function. The function should take the vector as input and give the mode or modes as output. An example can be:"
   ]
  },
  {
   "cell_type": "code",
   "execution_count": null,
   "id": "d1459b25-087c-4083-9a56-1e92547c0baf",
   "metadata": {},
   "outputs": [],
   "source": [
    "compute.mode <- function(x) {\n",
    "  return(as.numeric(names(which(table(x)==max(table(x))))))\n",
    "}"
   ]
  },
  {
   "cell_type": "markdown",
   "id": "08dde711-c545-4af1-868b-e4cdd226d56d",
   "metadata": {},
   "source": [
    "Let's check the use of this function for the *Pulse1* variable:"
   ]
  },
  {
   "cell_type": "code",
   "execution_count": null,
   "id": "791b4d60-c892-42d7-a1f4-bbb99d54ab84",
   "metadata": {},
   "outputs": [],
   "source": [
    "compute.mode(Pulse1)"
   ]
  },
  {
   "cell_type": "markdown",
   "id": "9152116f-1555-4671-9ff4-3faae11e2d34",
   "metadata": {},
   "source": [
    "## Dispersion Statistics\n",
    "\n",
    "This group of statistics provides information about the spread of the data.\n",
    "\n",
    "### Quasi-variance and Quasi-standard deviation\n",
    "\n",
    "It is important to note that the `var` and `sd` functions in R compute the **quasi-variance** and **quasi-standard deviation**, respectively. Specifically, these functions calculate the following formulas:"
   ]
  },
  {
   "cell_type": "markdown",
   "id": "e5d531d4-74d7-4d7c-a509-13e34079d7ae",
   "metadata": {},
   "source": [
    "<div><img alt=\"\" src=\"./figuras/formula_cuasivar_cuasdesv.png\" width=\"400\"/></div>"
   ]
  },
  {
   "cell_type": "markdown",
   "id": "223c3728-ff9a-4719-8352-2a172aeb3839",
   "metadata": {},
   "source": [
    "Variance and standard deviation can be obtained from these results by recalling that:\n",
    "<div><img alt=\"\" src=\"./figuras/formula_var.png\" width=\"150\"/></div>\n",
    "\n",
    "Create two functions that directly compute variance and standard deviation.\n",
    "\n",
    "### Range or Amplitude\n",
    "\n",
    "The range is the difference between the maximum and minimum values. In R, this requires combining two commands:"
   ]
  },
  {
   "cell_type": "code",
   "execution_count": null,
   "id": "8184cbed-c9a9-4d21-af4f-38f43cda8095",
   "metadata": {},
   "outputs": [],
   "source": [
    "diff(range(Height))"
   ]
  },
  {
   "cell_type": "markdown",
   "id": "7a8c448f-8aad-4063-b686-bd661dbabd19",
   "metadata": {},
   "source": [
    "If this function will be used multiple times, it is better to define a function that performs this calculation, which we can call ``:\n",
    "\n",
    "Si esta función se va a utilizar varias veces, es mejor definir una función que haga este cálculo, la cual podemos llamar por ejemplo `range_value`:"
   ]
  },
  {
   "cell_type": "code",
   "execution_count": null,
   "id": "fa2ebd60-135d-4f6c-9e91-ecfe1f0cc5e9",
   "metadata": {},
   "outputs": [],
   "source": [
    "range_value <- function(x){diff(range(x))}\n",
    "range_value(Height)"
   ]
  },
  {
   "cell_type": "markdown",
   "id": "1e317cef-33e4-4efb-a595-f7a7c158f88a",
   "metadata": {},
   "source": [
    "### Interquartile Range (IQR)\n",
    "\n",
    "The interquartile range quantifies the dispersion of the central 50% of the data after sorting them from lowest to highest. To calculate this statistic, we use the `IQR` function:"
   ]
  },
  {
   "cell_type": "code",
   "execution_count": null,
   "id": "b183942f-3de8-45e4-9751-d7101be3c21e",
   "metadata": {},
   "outputs": [],
   "source": [
    "IQR(Height)"
   ]
  },
  {
   "cell_type": "markdown",
   "id": "3672d1e3-52c9-46ff-aba3-bc7ef8523e49",
   "metadata": {},
   "source": [
    "### Coefficient of Variation\n",
    "\n",
    "There is no built-in function in R's base package to compute this statistic, but we can define the function `CV` in its simplest form by dividing the sample standard deviation by the mean:"
   ]
  },
  {
   "cell_type": "code",
   "execution_count": null,
   "id": "3ee0a0b0-21aa-4530-b41d-cb9cc32d7ad4",
   "metadata": {},
   "outputs": [],
   "source": [
    "CV <- function(x) {sd(x)/mean(x)}\n",
    "CV(Height)"
   ]
  },
  {
   "cell_type": "markdown",
   "id": "9c8ff5ff-5872-4a02-af59-7089b806830d",
   "metadata": {},
   "source": [
    "or, to obtain a numerical value even when there are missing data,"
   ]
  },
  {
   "cell_type": "code",
   "execution_count": null,
   "id": "aa60b6d9-02b9-40eb-94e5-24b4265185ed",
   "metadata": {},
   "outputs": [],
   "source": [
    "CV <- function(x) {sd(x, na.rm=TRUE) / mean(x, na.rm=TRUE)}\n",
    "CV(c(Height, NA))"
   ]
  },
  {
   "cell_type": "markdown",
   "id": "0f8ef32a-cc60-46bc-9158-c4f7b02c3c72",
   "metadata": {},
   "source": [
    "## Measures of position\n",
    "\n",
    "These measures indicate the value of the variable that occupies a specific position in an ordered distribution, from smallest to largest.\n",
    "\n",
    "### Maximum and Minimum\n",
    "\n",
    "In R, they are calculated using the `max` and `min` functions."
   ]
  },
  {
   "cell_type": "code",
   "execution_count": null,
   "id": "f17bf812-924b-43e5-a655-224e558a891e",
   "metadata": {},
   "outputs": [],
   "source": [
    "max(Height)\n",
    "min(Height)\n",
    "range(Height) # Show both values with just one command."
   ]
  },
  {
   "cell_type": "markdown",
   "id": "0a9acb2b-07e0-44e4-b4ec-2441ef321585",
   "metadata": {},
   "source": [
    "### Quantiles\n",
    "\n",
    "As mentioned earlier, any quantile can be calculated using the `quantile` function."
   ]
  },
  {
   "cell_type": "code",
   "execution_count": null,
   "id": "0e286495-c61b-4bdc-8855-3c958bbb0971",
   "metadata": {},
   "outputs": [],
   "source": [
    "quantile(Height, c(0.25,0.5,0.75)) # Quartiles"
   ]
  },
  {
   "cell_type": "code",
   "execution_count": null,
   "id": "07f0205c-b70b-4cfd-b4aa-80bdd1b63ebf",
   "metadata": {},
   "outputs": [],
   "source": [
    "quantile(Height, c(1/3,2/3)) # Terciles"
   ]
  },
  {
   "cell_type": "markdown",
   "id": "2f705b5d-9e64-4675-9aa4-82e061d896c7",
   "metadata": {},
   "source": [
    "Check the help documentation for the `quantile` function, as it includes 9 different algorithms for calculating quantiles based on the `type` option.\n",
    "\n",
    "## Shape Statistics\n",
    "\n",
    "### Skewness and Kurtosis\n",
    "\n",
    "R's base package does not include functions to compute skewness or kurtosis. However, we can install the `moments` package, which provides these functions (`kurtosis`, `skewness`), or alternatively, we can implement our own functions to compute these statistics based on the formulas covered in class."
   ]
  },
  {
   "cell_type": "markdown",
   "id": "06d03bf1-c3c1-4b18-92c0-29957b93627b",
   "metadata": {},
   "source": [
    "<div class=\"alert alert-block alert-info\">\n",
    "<strong>PRACTICE ON YOUR OWN</strong>\n",
    "\n",
    "- Create the functions *kurtosis* and *skewness* to compute kurtosis and skewness, respectively.\n",
    "\n",
    "- Answer the following questions using the dataset from *pulsations.rda*:\n",
    "  1. Interquartile range of *Weight*.\n",
    "  2. Variance of *Weight*.\n",
    "  3. Is the distribution of *Weight* symmetric?\n",
    "  4. How many men are in the sample?\n",
    "  5. Is the distribution of *Weight* platykurtic, mesokurtic, or leptokurtic?\n",
    "  6. Which of the two variables, *Weight* or *Height*, shows greater dispersion?\n",
    "  7. Compute the kurtosis of the *Weight* variable for non-smokers.\n",
    "  8. Compute the cuasi-standard deviation of the height of the women.\n",
    "\n",
    "<br>\n",
    "\n",
    "- Throughout the year, your monthly mobile phone bills were:\n",
    "\n",
    "     23, 33, 25, 45, 10, 28, 39, 27, 15, 38, 34, 29\n",
    "\n",
    "    1. How much did you spend in total over the year?\n",
    "    2. What was the minimum expense?\n",
    "    3. What was the maximum expense?\n",
    "    4. In which months was the expense lower than the average expense?\n",
    "    5. Is there a lot of variation in expenses from month to month? How would you estimate this variation?\n",
    "\n",
    "<br>\n",
    "\n",
    "- The data file *santander.txt* contains monthly average temperature records in Santander from 1950 to 2003. The task is:\n",
    "    1. Compute the median, mean, and standard deviation of the monthly average temperatures for January and July between the years 1950 and 1980. Comment on the differences.\n",
    "    2. Determine the skewness and kurtosis coefficients of the monthly average temperatures for June, July, and August between 1950 and 1980. In which case does the series show the greatest asymmetry?\n",
    "</div>"
   ]
  },
  {
   "cell_type": "markdown",
   "id": "0e714e75-38f2-48cb-8e42-dbf852ee166d",
   "metadata": {},
   "source": [
    "# Graphical Representations\n",
    "\n",
    "Plots are tools to visualize the distribution of a variable. They allow us to quickly and effortlessly capture the main characteristics of a dataset being a complementary andy crucial tool for conducting a descriptive statistical analysis of a data sample.\n",
    "\n",
    "We describe here only those graphs of interest in our course but there are more.\n",
    "\n",
    "## Unidimensional Graphical Representations\n",
    "\n",
    "First we analyze those plots that consider just one variable: Pie chart, bar plot, histogram and box plots.  \n",
    "\n",
    "### Pie Chart\n",
    "\n",
    "A pie chart is recommended for qualitative variables. This type of representation displays the relative sizes of absolute or relative frequencies for each category of the variable. \n",
    "\n",
    "In cases where categories have similar frequencies, this may not be the best way to present the information, as it can be difficult for the eye to distinguish relative areas.\n",
    "\n",
    "The command in R to create a pie chart is `pie`:"
   ]
  },
  {
   "cell_type": "code",
   "execution_count": null,
   "id": "60ae09e4-8708-42fe-b0b6-2e0125464d54",
   "metadata": {},
   "outputs": [],
   "source": [
    "pie(table(Smoke), main=\"Yes\")"
   ]
  },
  {
   "cell_type": "markdown",
   "id": "60562cf5-8659-4169-9af0-189415882e15",
   "metadata": {},
   "source": [
    "Note that to create a pie chart, you first need to calculate the absolute frequencies of the variable using the `table` function.\n",
    "\n",
    "In this case, with only two categories, the chart clearly shows that the number of non-smokers is substantially higher than the number of smokers.\n",
    "\n",
    "The appearance of this type of chart can be improved using additional parameters in the `pie` function. Some options include `main` to add a title, `col` to define colors, `labels` to add labels, etc. Check the function's help documentation for more details."
   ]
  },
  {
   "cell_type": "code",
   "execution_count": null,
   "id": "78d368ed-83b9-4361-9e95-d52a05803dd5",
   "metadata": {},
   "outputs": [],
   "source": [
    "pie(table(Smoke), labels=c(paste(\"No (\",table(Smoke)[1],\"%)\"), \n",
    "                           paste(\"Yes (\",table(Smoke)[2],\"%)\")),\n",
    "                  main=\"Tobacco consumption\") "
   ]
  },
  {
   "cell_type": "markdown",
   "id": "a0ad1208-92cb-43d2-8343-baeeec522909",
   "metadata": {},
   "source": [
    "As shown below, a bar plot is an easier type of graph to analyze, as the human eye is better at distinguishing linear measurements than relative sizes.\n",
    "\n",
    "### Bar plot\n",
    "\n",
    "A bar chart is a tool that allows us to visualize the distribution of qualitative, semi-quantitative, or discrete variables with a small number of possible values. The command to generate this type of chart in R is `barplot`."
   ]
  },
  {
   "cell_type": "code",
   "execution_count": null,
   "id": "b7c0cbc7-baef-4849-bac7-c443d60dd56b",
   "metadata": {},
   "outputs": [],
   "source": [
    "barplot(table(Smoke))"
   ]
  },
  {
   "cell_type": "markdown",
   "id": "7e93211f-b115-43d2-bd9d-81632c9074eb",
   "metadata": {},
   "source": [
    "Again, within the function, it is necessary to calculate the absolute frequencies of the variable using the `table` command. \n",
    "\n",
    "In this case, we have represented the absolute frequency, but it is also possible to display the relative frequency. \n",
    "\n",
    "If we compare the obtained bar chart with the previous pie chart, we can see that it is much easier for the eye to determine the frequency for each category (smokers and non-smokers) in the bar chart than in the pie chart. \n",
    "\n",
    "Additionally, this type of chart can be optimized by adding more arguments to the function. Some of the most commonly used options include:\n",
    "- `main` to add a title to the chart,\n",
    "- `xlab` and `ylab` to provide labels for the axes,\n",
    "- `xlim` and `ylim` to specify a range of values for the axes,\n",
    "- `col` to define the color of the bars, etc.\n",
    "\n",
    "Check the function’s help documentation to explore all available options. Here is the improved chart, making it easier to interpret the results as all details of the analyzed variable are displayed."
   ]
  },
  {
   "cell_type": "code",
   "execution_count": null,
   "id": "ab7db4f3-b615-4188-a51d-0efe264e251e",
   "metadata": {},
   "outputs": [],
   "source": [
    "bplot_smoke <- barplot(table(Smoke), ylab=\"ni\", ylim=c(0,70), main=\"Tobacco consumption\", \n",
    "                       col=\"lightblue\")\n",
    "text(x = bplot_smoke, y=as.vector(table(Smoke))+2, labels = as.vector(table(Smoke)))"
   ]
  },
  {
   "cell_type": "markdown",
   "id": "cc8c0572-cdd9-4531-82f7-2969db223edf",
   "metadata": {},
   "source": [
    "Additionally, we have added a label displaying the absolute frequency of each category on each bar using the `text` function. We can observe that 64 individuals in the sample do not smoke, compared to 28 who do.\n",
    "\n",
    "Let's analyze another example. In this case, we generate the bar plot for the ordinal variable *Activity*:"
   ]
  },
  {
   "cell_type": "code",
   "execution_count": null,
   "id": "ed8f84c8-23d8-4a69-a3bd-250cf9cee264",
   "metadata": {},
   "outputs": [],
   "source": [
    "barplot(table(Activity), xlab=\"Activity\", ylab=\"ni\")   "
   ]
  },
  {
   "cell_type": "markdown",
   "id": "b0fefb07-b1f5-4d15-9ce2-74ea2e282e57",
   "metadata": {},
   "source": [
    "Again, if we consider the original variable, we observe that the order of the categories in this chart is incorrect. Since this is an ordinal variable, the categories should be arranged from lower to higher activity levels. \n",
    "\n",
    "We encountered this same issue when calculating the frequency table for this variable. Just as we did then, we should use the ordered variable we previously created:"
   ]
  },
  {
   "cell_type": "code",
   "execution_count": null,
   "id": "a23a68a0-4218-4e8d-b3b2-1bdfcc670a05",
   "metadata": {},
   "outputs": [],
   "source": [
    "bplot_act <- barplot(table(activity.order), ylab=\"ni\", xlab=\"Activity\", ylim=c(0,70)) \n",
    "text(x = bplot_act, y=as.vector(table(activity.order))+2, labels = as.vector(table(activity.order)))"
   ]
  },
  {
   "cell_type": "markdown",
   "id": "95eadf5a-bb40-4ccd-8231-1913ef94ca74",
   "metadata": {},
   "source": [
    "### Histogram\n",
    "\n",
    "A histogram is a visual representation of the frequency distribution of a sample. It allows us to identify the values around which a relatively large portion of the data is clustered and where fewer data points are located. \n",
    "\n",
    "This type of graph is used to represent the distribution of quantitative variables grouped into class intervals, which explains why the bars are adjacent to each other. \n",
    "\n",
    "In R, the function `hist` is used to generate a histogram from a dataset."
   ]
  },
  {
   "cell_type": "code",
   "execution_count": null,
   "id": "131ff4d2-b507-423b-9d38-092253ae9095",
   "metadata": {},
   "outputs": [],
   "source": [
    "hist(Height)"
   ]
  },
  {
   "cell_type": "markdown",
   "id": "a06a88de-0a54-4e47-88c6-84d6ecb265e7",
   "metadata": {},
   "source": [
    "This function accepts various arguments to optimize the histogram. For example, we can manually define the intervals or classes of the histogram, or choose one of the available methods to determine the number of classes, including Sturges' rule. \n",
    "\n",
    "Additionally, we can specify whether the interval should be closed on the right `(,]` or on the left `[,)` using the argument `right=TRUE` or `right=FALSE`.\n",
    "\n",
    "As with the previously discussed charts, it is highly recommended to include a title and axis labels in the graph to clearly indicate the variables being represented. \n",
    "\n",
    "Thus, we can improve the previous histogram of the *Height* variable as follows:"
   ]
  },
  {
   "cell_type": "code",
   "execution_count": null,
   "id": "a474abaa-bb85-4acf-9d16-287ba9ee4f16",
   "metadata": {
    "scrolled": true
   },
   "outputs": [],
   "source": [
    "# Stablish the breaks for the intervals\n",
    "interval_boundaries <- seq(153,193,5); interval_boundaries\n",
    "# Histogram\n",
    "hist(Height, breaks=interval_boundaries, col=\"darkgray\", main=\"Histogram of Height\", \n",
    "     xlim=c(150, 200), xlab=\"Height (cm)\", ylab=\"ni\")"
   ]
  },
  {
   "cell_type": "markdown",
   "id": "de635925-7640-473c-9a80-373087e12436",
   "metadata": {},
   "source": [
    "From the obtained histogram, we can see that the heights of most individuals in the study are concentrated around 175 cm, with very few individuals below 158 cm or above 188 cm. The shape of the histogram also indicates that the data distribution is left-skewed.\n",
    "\n",
    "By default, the `hist` function represents absolute frequency, but we can determine the probability of a given range of values in the sample by displaying the probability density instead of the absolute value. To do this, we set the argument `freq` to `FALSE`. In this case, the total area of the histogram equals 1. \n",
    "\n",
    "Refer to the function’s help documentation for more details."
   ]
  },
  {
   "cell_type": "code",
   "execution_count": null,
   "id": "e0d782aa-2226-4bcc-8c60-b1edad56da7b",
   "metadata": {},
   "outputs": [],
   "source": [
    "hist(Height, freq=FALSE, breaks=interval_boundaries, col=\"darkgray\", \n",
    "     main=\"Density of probability\", xlim=c(150, 200), xlab=\"Height (cm)\", \n",
    "     ylab=\"Density\")"
   ]
  },
  {
   "cell_type": "markdown",
   "id": "493c6f85-9137-4066-b944-af32391350c5",
   "metadata": {},
   "source": [
    "Observe how the values on the vertical axis change in this case. For example, from this new histogram, we can see that around 2% of individuals in this sample have a height between 158 and 163 cm.\n",
    "\n",
    "Additionally, the `hist` function allows us to store its output in a variable, enabling further calculations. One example of using this stored output is to generate a frequency table for the variable with fewer lines of code compared to the approach we implemented in the *Frequency Tables* section."
   ]
  },
  {
   "cell_type": "code",
   "execution_count": null,
   "id": "fc7b8959-07cc-4b01-af95-6879fb6c3d8a",
   "metadata": {},
   "outputs": [],
   "source": [
    "h <- hist(Height, breaks=interval_boundaries, plot=F); h"
   ]
  },
  {
   "cell_type": "markdown",
   "id": "6b33e292-045a-40ca-b627-180a03056194",
   "metadata": {},
   "source": [
    "Note that the histogram object created (`h`) is a list containing five components:\n",
    "- `breaks` stores the interval boundaries.\n",
    "- `counts` holds the number of observations in each interval, representing the absolute frequencies.\n",
    "- `density` stores the probability density values for each interval.\n",
    "- `mids` contains the class midpoints.\n",
    "- `xname` saves the variable name.\n",
    "- `equidist` is a logical value indicating whether the intervals are equally spaced.\n",
    "\n",
    "In this case, we will use `mids`, `breaks`, and `counts` to complete the table of frequencies for the *Height* variable."
   ]
  },
  {
   "cell_type": "code",
   "execution_count": null,
   "id": "a05f8ea5-2a3b-480c-bdf7-6342488e737f",
   "metadata": {},
   "outputs": [],
   "source": [
    "# Number of intervals\n",
    "c <- length(h$mids)\n",
    "# Table of frequencies\n",
    "data.frame(\"(Li-1\"=h$breaks[1:c], \"Li]\"=h$breaks[2:(c+1)], xi=h$mids,\n",
    "            ni=h$counts, check.names=F)"
   ]
  },
  {
   "cell_type": "markdown",
   "id": "ff764b57-5af7-4bf5-8cd8-0ef628e2a6a4",
   "metadata": {},
   "source": [
    "<div class=\"alert alert-block alert-info\">\n",
    "<strong>PRACTICE ON YOUR OWN<br></strong>\n",
    "\n",
    "<br>\n",
    "\n",
    "Using the data from the *pulsations.rda* file, plot the histogram for the *Weight* variable. What do you observe? \n",
    "\n",
    "Overlay the histograms for men (in red) and women (in blue) on top of the overall histogram. \n",
    "\n",
    "**Note:** To add a histogram to an already displayed plot, use the argument `add=TRUE`.\n",
    "</div>"
   ]
  },
  {
   "cell_type": "markdown",
   "id": "ca5998f9-aefc-40ac-b23f-560ac5c4778a",
   "metadata": {},
   "source": [
    "### Box Plot\n",
    "\n",
    "Box plots are very useful for representing the distribution of quantitative variables. In R, they are generated using the `boxplot` function. \n",
    "\n",
    "For example, if we want to create a box plot for the *Height* variable, we should execute the following command:"
   ]
  },
  {
   "cell_type": "code",
   "execution_count": null,
   "id": "fc7f29db-3a46-4eda-be23-9e5fe2aeb384",
   "metadata": {},
   "outputs": [],
   "source": [
    "boxplot(Height, ylab=\"Height (cm)\", main=\"Box plot of Height\")"
   ]
  },
  {
   "cell_type": "markdown",
   "id": "1af2cd7a-7862-4730-810b-553fa97e708d",
   "metadata": {},
   "source": [
    "In this case, we have added a title to the figure using the `main` argument.\n",
    "\n",
    "The `boxplot` function also allows us to create box plots for a specific variable classified by groups. For example, we can generate a box plot for the *Height* variable, separated by *Sex*, using the following command:"
   ]
  },
  {
   "cell_type": "code",
   "execution_count": null,
   "id": "b2541d33-9fa2-4d8e-8e20-2c543105caa8",
   "metadata": {},
   "outputs": [],
   "source": [
    "boxplot(Height~Sex, xlab=\"Sex\", ylab=\"Height (cm)\", main=\"Box plot of Height by Sex\")"
   ]
  },
  {
   "cell_type": "markdown",
   "id": "5cf74886-b00e-4a51-8e57-32ecaa1cf7af",
   "metadata": {},
   "source": [
    "From the previous figure, we can observe considerably differences in height between men and women. For example, the lowest height among men in this sample corresponds to the median height of women, meaning that 50% of women are shorter than the minimum height of the men's group.\n",
    "\n",
    "If a variable contains outliers, these will also appear in the box plot as circles above the upper whisker or below the lower whisker.\n",
    "\n",
    "In some cases, it is useful to display two figures in a single window to facilitate comparison. For instance, we might be interested in comparing the box plot of the *Heiht* variable classified by both sex and smoking status."
   ]
  },
  {
   "cell_type": "code",
   "execution_count": null,
   "id": "bcc11741-655d-44be-a83e-847030b35e4f",
   "metadata": {},
   "outputs": [],
   "source": [
    "# Split the graphics window into two sections\n",
    "par(mfrow=c(1,2), mar=c(5,4,1,1))\n",
    "boxplot(Height~Sex, ylab=\"Height (cm)\")\n",
    "boxplot(Height~Smoke, ylab=\"Height (cm)\")"
   ]
  },
  {
   "cell_type": "markdown",
   "id": "00fe4c0a-2f64-4d2a-88d8-eb5cb655eb9e",
   "metadata": {},
   "source": [
    "The `mfrow` argument used in the `par` function specifies the number of figures and the order in which they will be arranged in the graphics window. In this example, *c(1,2)* sets up 1 row and 2 columns.\n",
    "\n",
    "The `mar` parameter controls the margin size in a clockwise direction, starting from the bottom of the graphics window. Modify these numbers to see the diferences. "
   ]
  },
  {
   "cell_type": "markdown",
   "id": "b880cfc4-ce47-4ea4-8073-029ff548419f",
   "metadata": {},
   "source": [
    "Many of the graphical functions we have seen also allow adding a new plot to an existing one. To do this, we must include the option `add=TRUE` (or the abbreviated form `add=T`) in the R commands we execute."
   ]
  },
  {
   "cell_type": "code",
   "execution_count": null,
   "id": "363e2de8-4759-4739-8385-b7deb413fdce",
   "metadata": {},
   "outputs": [],
   "source": [
    "par(mfrow=c(1,1)) # Reset the graphics window in RStudio to display a single panel\n",
    "hist(Height, main=\"Histogram of Height\", xlab=\"Height (cm)\", ylab=\"ni\")\n",
    "boxplot(Height, add=T, horizontal=T, boxwex=5, border=\"red\",col=\"pink\", lwd=3)"
   ]
  },
  {
   "cell_type": "markdown",
   "id": "14b0e7ba-a312-4bb1-9dce-0deaf5412da8",
   "metadata": {},
   "source": [
    "In this case, the histogram of the *Height* variable has been drawn with a box plot overlaid on it. The combination of both figures allows for a more detailed statistical analysis of the dataset, providing insights into aspects such as the interquartile range, skewness, and more."
   ]
  },
  {
   "cell_type": "markdown",
   "id": "437a0f41-7630-43c9-8013-2fca20404e21",
   "metadata": {},
   "source": [
    "<div class=\"alert alert-block alert-info\">\n",
    "<strong>PRACTICE ON YOUR OWN<br></strong>\n",
    "\n",
    "<br>\n",
    "\n",
    "\n",
    "Using the data from the *pulsations.rda* file:\n",
    "\n",
    "1. Create a box plot for the *Pulse1* variable. By analyzing the graph, estimate the approximate values for the minimum pulse, maximum pulse, first quartile, median, and third quartile.\n",
    "2. Compute a new variable that represents the difference between *Pulse2* and *Pulse1*, then create a box plot of this new variable against *Run*.\n",
    "3. Group the data by physical activity level (*Activity*) and represent the pulse difference for individuals who ran.\n",
    "</div>"
   ]
  },
  {
   "cell_type": "markdown",
   "id": "3b5f909e-1363-4d25-bd9b-fc0414aff8c6",
   "metadata": {},
   "source": [
    "## Two-dimensional Graphical Representations\n",
    "\n",
    "We can analyze the relationship between two variables through a plot. Here we will focus on the scatter plot\n",
    "\n",
    "### Scatter plot\n",
    "\n",
    "Scatter plots visualize the relationship between two numeric variables, where one variable is displayed on the x-axis, and the other variable is displayed on the y-axis. Each point represents an observation, with its position determined by the values of the two variables. Scatter plots are useful for identifying trends, correlations, clusters, and potential outliers in data.\n",
    "\n",
    "In R we can obtain this graph using the `plot` function. As an example, we will study the relationship between the variables *Height* and *Weight* from the file *pulsations.rda*:"
   ]
  },
  {
   "cell_type": "code",
   "execution_count": null,
   "id": "a510eb26-7a0d-4b03-90dc-c042d1cc8831",
   "metadata": {},
   "outputs": [],
   "source": [
    "plot(Height, Weight, main=\"Scatter plot\", pch=19, xlab=\"Height (cm)\", ylab=\"Weight (Kg)\")"
   ]
  },
  {
   "cell_type": "markdown",
   "id": "bb3fe4e1-9583-46ea-9823-4890d9fefb50",
   "metadata": {},
   "source": [
    "We can improve the previous representation using the `scatterplot` function from the `car` library, which we need to install (this process is done only once) and load with the `library` function. Remember that we should load this library every time we start R and want to use a function from this package:"
   ]
  },
  {
   "cell_type": "code",
   "execution_count": null,
   "id": "a4c105c4-ffca-44d7-a284-8a66cb169e6a",
   "metadata": {},
   "outputs": [],
   "source": [
    "install.packages(\"car\")\n",
    "library(car)\n",
    "scatterplot(Weight~Height, smooth=FALSE)"
   ]
  },
  {
   "cell_type": "markdown",
   "id": "bb98f91e-3b9a-459a-bf15-d8a2e2b2f573",
   "metadata": {},
   "source": [
    "The `scatterplot` function draws the regression line that best fits the data points considering the least squares criterion. Additionally, it also plots the boxplots of each variable on its corresponding axis. Consult the help documentation of this\n",
    "function to see all the options it offers.\n",
    "\n",
    "From the figure, it is evident that there is a direct linear relationship between both variables. It is linear because the data points cluster around a line, and it’s direct because when one variable increases, the other also increases (positive slope of the line). \n",
    "\n",
    "To quantify this linear relationship between the two variables, we can calculate the coefficient of linear correlation. The `cor.test` or `cor` functions provide this value:"
   ]
  },
  {
   "cell_type": "code",
   "execution_count": null,
   "id": "9e327e3d-9d15-4b42-aea8-a283e82df8c5",
   "metadata": {},
   "outputs": [],
   "source": [
    "cor(Height, Weight)"
   ]
  },
  {
   "cell_type": "markdown",
   "id": "d9b0b743-7d06-4929-a293-09c798228768",
   "metadata": {},
   "source": [
    "By default, it calculates the Pearson correlation coefficient, although, as indicated in the documentation of this function, it can also calculate the Kendall or Spearman correlation coefficients.\n",
    "\n",
    "As expected, the coefficient of linear correlation is relatively high and positive, confirming the direct linear relationship between the variables observed in the scatter plot."
   ]
  },
  {
   "cell_type": "markdown",
   "id": "b3aca41d-cea1-4963-b583-00478e4c3f07",
   "metadata": {},
   "source": [
    "<div class=\"alert alert-block alert-info\">\n",
    "<strong>PRACTICE ON YOUR OWN<br></strong>\n",
    "\n",
    "<br>\n",
    "\n",
    "Make a scatter plot of *Height* versus *Weight* separated by *Sex* and answer the following questions:\n",
    "- Does height increase in the same proportion as weight in men and women?\n",
    "- Which of the two groups has a higher correlation value? Indicate the value in each case.\n",
    "  \n",
    "Note that it is necessary to filter the data by gender before calculating the correlation coefficient.\n",
    "</div>"
   ]
  }
 ],
 "metadata": {
  "kernelspec": {
   "display_name": "R",
   "language": "R",
   "name": "ir"
  },
  "language_info": {
   "codemirror_mode": "r",
   "file_extension": ".r",
   "mimetype": "text/x-r-source",
   "name": "R",
   "pygments_lexer": "r",
   "version": "4.3.3"
  }
 },
 "nbformat": 4,
 "nbformat_minor": 5
}
