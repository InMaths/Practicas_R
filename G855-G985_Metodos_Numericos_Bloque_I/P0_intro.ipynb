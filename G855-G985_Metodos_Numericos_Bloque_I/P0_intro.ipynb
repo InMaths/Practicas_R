{
 "cells": [
  {
   "cell_type": "markdown",
   "id": "89e4c580-7cb7-400e-8549-44c7af4a6d65",
   "metadata": {},
   "source": [
    "<div style=\"text-align: center; font-size: 30px;\">\n",
    "Métodos Matemáticos para la Ingeniería<br/>\n",
    "</div>\n",
    "<div style=\"text-align: center; font-size: 24px;\">\n",
    "Grado en Ingeniería Eléctrica\n",
    "</div>\n",
    "<div style=\"text-align: center; font-size: 24px;\">\n",
    "Grado en Ingeniería Electrónica Industrial y Automática \n",
    "</div>\n",
    "<div style=\"text-align: center; font-size: 24px;\">\n",
    "Universidad de Cantabria\n",
    "</div>\n",
    "<div style=\"text-align: center; font-style: italic\">\n",
    "Material elaborado por M. Dolores Frías, Jesús Fernández, Sixto Herrera y Carmen M. Sordo profesores del Departamento de Matemática Aplicada y Ciencias de la Computación.\n",
    "</div>"
   ]
  },
  {
   "cell_type": "markdown",
   "id": "b77abfbd-c549-4202-82df-802ce74d5f59",
   "metadata": {},
   "source": [
    "# Introducción a R\n",
    "\n",
    "[R](http://www.r-project.org) es un lenguaje de programación de código abierto formado por una colección de programas\n",
    "libres (en el sentido [GNU](http://gnu.org/philosophy/free-sw.es.html)) diseñada para el\n",
    "análisis estadístico de datos. Permite realizar desde análisis\n",
    "descriptivos sencillos (como tablas de frecuencias, cálculo de\n",
    "la media, correlaciones, etc) a procedimientos más complejos (como contraste\n",
    "de hipótesis, análisis de la varianza, análisis de componentes\n",
    "principales, etc). Solo unas pocas de las posibilidades de análisis que\n",
    "ofrece R serán abordadas en este curso.\n",
    "\n",
    "R permite realizar tres funciones esenciales: (1) leer datos, (2) especificar\n",
    "el tipo de análisis que se quiere realizar con esos datos y (3) mostrar los\n",
    "resultados obtenidos tras los análisis. La selección de una metodología\n",
    "apropiada al caso de estudio, así como la interpretación de los resultados\n",
    "es tarea del investigador o usuario del software. Por este motivo resulta\n",
    "necesario que el usuario conozca el fundamento teórico de los distintos\n",
    "métodos estadísticos disponibles con el objeto de que la aplicación del\n",
    "análisis y la interpretación de los resultados se realice de forma\n",
    "satisfactoria.\n",
    "\n",
    "Se trata de un lenguaje que se ha consolidado en las últimas décadas tanto a nivel académico como a nivel científico. Además, actualmente son muchas las empresas que lo utilizan para ciencia de datos (Facebook, Twiter, Google, Airbnb, IBM etc) ya que permite realizar análisis más avanzados que las tradicionales hojas de cálculo. "
   ]
  },
  {
   "cell_type": "markdown",
   "id": "be9fce17-ff4c-44c6-aa43-476635725c50",
   "metadata": {},
   "source": [
    "<div><img alt=\"Página web del proyecto R\" src=\"./figuras/RStudioWeb.png\" width=\"600\"/></div>\n",
    "\n",
    "*Figura 1: Página web del projecto R. R Core Team. (2023). R: A language and environment for statistical computing. R Foundation for Statistical Computing. https://www.R-project.org/* \n",
    "\n",
    "## Objetivos del curso\n",
    "\n",
    "Con este manual se pretende que el alumnado se familiarice con el lenguaje R y sea\n",
    "capaz de utilizarlo como una herramienta de aplicaciones estadísticas a\n",
    "través de las prácticas que se plantean en la asignatura. Para ello se\n",
    "propone al estudiante que ejecute cada una de las órdenes de R que se van\n",
    "introduciendo en cada guión de prácticas, así como la realización de\n",
    "los ejercicios propuestos en las secciones \n",
    "<span style=\"color:blue\">\n",
    "<strong>PRACTICA TÚ MISMO</strong>\n",
    "</span>, los cuáles servirán para asimilar contenidos.\n",
    "\n",
    "Todos los ficheros utilizados en este manual se pueden descargar de la web de\n",
    "la asignatura en la plataforma de Moodle de la Universidad de Cantabria."
   ]
  },
  {
   "cell_type": "markdown",
   "id": "9f150303-34d5-4548-a084-0c8d1a15b864",
   "metadata": {},
   "source": [
    "# Instalación de R\n",
    "\n",
    "Una de las ventajas de R es que es multiplataforma. A continuación se muestran los principales pasos para su instalación en los distintos sistemas operativos.  \n",
    "\n",
    "## Microsoft Windows\n",
    "\n",
    "Sigue los siguientes pasos para la instalación del software:\n",
    "\n",
    " 1. Descarga el fichero ejecutable desde la página del projecto [R](http://cran.r-project.org/bin/windows/base/)\n",
    " 2. Ejecuta el fichero descargado, teniendo en cuenta:\n",
    "     * Cuando pregunta si deseamos establecer opciones de configuración, escoge *Sí*.\n",
    "     * Para el modo de presentación (MDI o SDI), escoge *SDI*\n",
    " 3. Ejecuta el programa R, ya instalado.\n",
    "\n",
    "\n",
    "## Linux\n",
    "\n",
    "A través de la página inicial de R se accede a la\n",
    "descarga para diferentes versiones de [Linux](http://cran.r-project.org/bin/linux/): Debian, Fedora, Redhat, Suse y Ubuntu. Se recomienda seguir las instrucciones que se indican en la web en cada uno de los casos. \n",
    "\n",
    "## MacOS\n",
    "\n",
    "Antes de procecer a la instalación de R, repasar en la siguiente [web](http://r.research.att.com/tools/) los requisitos necesarios.\n",
    "A través de este [enlace](http://cran.r-project.org/bin/macosx/) se accede a la instalación de R para MacOS. Seguid las instrucciones indicadas en la misma página web. "
   ]
  },
  {
   "attachments": {},
   "cell_type": "markdown",
   "id": "35398c98-20de-4c63-8577-c25c0ddbb8ac",
   "metadata": {},
   "source": [
    "# Empezando con R\n",
    "\n",
    "El objetivo de esta primera práctica es que el alumno aprenda a manejar el\n",
    "programa R. \n",
    "\n",
    "## Comienzo de sesión\n",
    "\n",
    "Tras arrancar el programa, la interfaz de usuario de R (R GUI, Graphical User Interface) contiene a la *R Console* en la que se indica la versión de R y cómo obtener información acerca de la licencia de uso.\n",
    "\n",
    "<div><img alt=\"R Console\" src=\"./figuras/RConsole.png\" width=\"600\"/></div>\n",
    "\n",
    "*Figura 2: R Console* "
   ]
  },
  {
   "cell_type": "markdown",
   "id": "5309316b-c1d8-496d-ac48-4fe5a0590ca9",
   "metadata": {},
   "source": [
    "Además en la consola se especifican varias órdenes muy útiles para obtener ayuda acerca de las distintas funciones de R como `help()` o `help.start()`.\n",
    "También nos indica como salir de R con la función `q()`.\n",
    "\n",
    "R es interactivo, ya que responde a través de un intérprete a las entradas que recibe en  consola. Como se indica en la Figura anterior, probar por ejemplo a ejecutar la orden *help(mean)* en la consola. Toda la ayuda de la función `mean` se abre en un navegador.  \n",
    "\n"
   ]
  },
  {
   "cell_type": "markdown",
   "id": "40fe9cc2-6648-4d47-bf46-bf9bdc60620f",
   "metadata": {},
   "source": [
    "# RStudio\n",
    "\n",
    "La consola no es la forma más eficiente para trabajar con R, ya que en muchos\n",
    "casos nos interesará corregir entradas de código ya ejecutadas, retocarlas,\n",
    "repetirlas, crear nuestras propias funciones, etc. Existen varias herramientas\n",
    "que permiten trabajar con R de una forma mucho más amigable, creando nuestros\n",
    "propios archivos de código o scripts que podremos guardar en un fichero y\n",
    "recuperar posteriormente. En nuestro caso vamos a utilizar el entorno de desarrollo *Rstudio Desktop* que permite trabajar con R (siempre que hayamos instalado R antes) pero que incluye muchas más funcionalidades. \n",
    "\n",
    "RStudio es una GUI (Graphical User Interface) para R programada en C, multiplataforma (Windows, Linux y Mac) y también libre desarrollada y mantenida por la compañía Posit PBC. Esta herramienta aúna todos los entornos y guarda la filosofía de los comandos aportando\n",
    "algunas ayudas que hacen mas llevadera la programación con R. Otra definición de RStudio es la de un entorno libre y de código abierto de desarrollo integrado (IDE) de R. \n",
    "\n",
    "Entre otras cosas encontramos que RStudio nos permite:\n",
    "1. Abrir varios scripts a la vez.\n",
    "2. Ejecutar pedazos de código con solo marcarlo en los script.\n",
    "3. Mostrar el workspace.\n",
    "4. Mostrar los objetos del workspace.\n",
    "5. Integra la ayuda.\n",
    "6. Integra librerías adicionales que podemos activar en cada sesión.\n",
    "\n",
    "Una vez instalado R en nuestro ordenador, podemos instalar RStudio de forma muy sencilla sin más que ejecutar el archivo que se descarga de su página web: [http://rstudio.org/](http://rstudio.org/). Además, RStudio se puede ejecutar también en la nube a través del siguiente enlace [https://posit.cloud/](https://posit.cloud/). \n",
    "\n",
    "<div><img alt=\"RStudio Desktop\" src=\"./figuras/RStudio.png\" width=\"600\"/></div>\n",
    "\n",
    "*Figura 3: RStudio Desktop* \n",
    "\n",
    "Como se muestra en la figura anterior, desde RStudio podemos generar nuestro propio archivo de código (ventana de\n",
    "edición de comandos que aparece en el cuadrante superior izquierdo) donde iremos escribiendo todas las órdenes de R y que podremos guardar y cerrar en cualquier momento y volver a abrir y usar posteriormente. Si al iniciar\n",
    "RStudio no aparece esta ventana de edición de comandos, podemos abrirla sin\n",
    "más que ir al menu *File -> New File -> R script*\n",
    "o bien clicando en el primer icono de la izquierda que representa un folio en\n",
    "blanco con un símbolo +. De esta manera nos aparecera un editor de texto en\n",
    "blanco donde empezar a escribir los comandos de R que queramos ejecutar. En ese\n",
    "primer cuadrante del entorno de RStudio podemos tener abiertas más de una\n",
    "script de R. "
   ]
  },
  {
   "cell_type": "markdown",
   "id": "a0cef577-bfec-4b04-8135-7fb66f199698",
   "metadata": {
    "editable": true,
    "slideshow": {
     "slide_type": ""
    },
    "tags": []
   },
   "source": [
    "Para trabajar de manera más ordenada, siempre que useis el RStudio instalado en vuestro ordenador, se recomienda primero\n",
    "crear una carpeta de trabajo para las prácticas de esta asignatura. Como norma de buenas prácticas recordar que los nombres de directorios o ficheros no deben contener carácteres extraños como ñ, acentos o espacios en blanco ya que posteriormente al intentar abrirlos desde cualquier lenguaje de programación pueden dar problemas. \n",
    "\n",
    "En la carpeta de trabajo creada iremos guardando los ficheros con el código de R que generemos (scripts), ficheros de datos, gráficas, etc. Una vez creado ese directorio en vuestro ordenador, debemos abrir RStudio e indicar al principio del programa que ese es el directorio de trabajo. Para ello, en la ventana de comandos debemos ejecutar la función `setwd` (**set** **w**orking **d**irectory) indicando el path o la ruta completa del directorio que habéis creado previamente, por ejemplo:\n",
    "\n",
    "```R\n",
    "setwd(\"C:/Escritorio/Estadistica/P0\")\n",
    "\n",
    "```\n",
    "\n",
    "Siempre podemos consultar el contenido del directorio en el que estamos trabajando desde el propio RStudio ejecutando la orden `dir()`. En la ventana de ejecución (cuadrante inferior izquierdo de RStudio. Ver Figura anterior) aparecerá una lista con todos los ficheros incluidos en ese directorio. \n",
    "\n",
    "Los ficheros con comandos de R tienen extensión .R, por lo que siempre que generermos una script de R debemos guardarla con esa extensión. Desde RStudio ir al menú *File -> Save As...*. \n",
    "\n",
    "Aunque para un mejor seguimiento de este guión de prácticas se propone ejecutar en este entorno el código de R, siempre podeis ejecutar esos mismos comandos en el RStudio que habéis instalado en vuestro ordenador. Para ello debeis copiar las líneas de código que aquí se proponen y pegarlas en la ventana de comandos de RStudio. Seleccionando esas líneas con el ratón y clicando en el icono `Run` de RStudio o bien con Ctrl+Enter, se ejecutan las órdenes apareciendo el resultado en la ventana de ejecución. Durante las horas de prácticas en el aula trabajareis directamente en RStudio por lo que debeis instalar R y RStudio en vuestro ordenador y acostumbraros a trabajar desde RStudio por ejemplo resolviendo siempre alli los ejercicios que se proponen en este guión.   \n",
    "\n",
    "En cualquier programa creado con cualquier lenguaje de programación debemos añadir comentarios cortos que indiquen que se hace en cada parte del código. En R podemos añadir comentarios empezando la línea con el comando #. \n",
    "\n",
    "Como un ejemplo vamos a ejecutar aquí directamente las siguientes líneas de código que proporcionan el valor medio de un vector formado por los valores 1, 2 y 3. Fijaros como se escriben los comentarios (iniciando cada línea con #) y como se genera un vector de datos en R. Tener en cuenta que R es *sensible a mayúsculas y minúsculas* por lo que x y X serán vectores distintos. \n"
   ]
  },
  {
   "cell_type": "code",
   "execution_count": null,
   "id": "9ec658f1-7b67-4136-bb18-5a8c1d01190f",
   "metadata": {},
   "outputs": [],
   "source": [
    "# Crear vector\n",
    "x <- c(1,2,3)\n",
    "# Calcular la media\n",
    "mean(x)"
   ]
  },
  {
   "cell_type": "markdown",
   "id": "1f19febe-a95a-4ded-abe2-f1db07f05557",
   "metadata": {},
   "source": [
    "Si ejecutais ese código en el RStudio instalado en vuestro ordenador, en el cuadrante superior derecho (pestaña Environment) nos aparecerán las variables que vayamos creando al ir ejecutando el código de R. Por ejemplo una vez ejecutado el código anterior nos debe aparecer `x` que es el nombre del vector que hemos generado, indicando además que es una variable numérica (*num*) y que tiene tres elementos (*[1:3]*).\n",
    "\n",
    "Notar que el operador de asignación, `<-`, no es el operador habitual en otros lenguajes de programación, (en\n",
    "R el `=` se reserva para otro propósito). La asignación en R consiste en dos caracteres, `<` (menor que) y `-` (guión), que obligatoriamente deben ir unidos y apuntan hacia el objeto que recibe el valor de la expresión (x en este caso). La asignación puede realizarse también mediante la función `assign()`.\n",
    "\n",
    "Una forma equivalente de realizar la asignación anterior es:"
   ]
  },
  {
   "cell_type": "code",
   "execution_count": null,
   "id": "d60efeea-1d3b-4218-bf97-780bdf6ae88b",
   "metadata": {},
   "outputs": [],
   "source": [
    "assign(\"x\", c(11.2, 4.5, 12.3, 7.8, 10.3))"
   ]
  },
  {
   "cell_type": "markdown",
   "id": "34885ac4-deba-4d65-a40a-db10256cdcd7",
   "metadata": {},
   "source": [
    "El operador usual, `<-`, puede interpretarse como una abreviatura de la función `assign()`. \n",
    "\n",
    "Además cuando se realiza una asignación, el resultado no aparece en la consola como ocurre con el código que acabamos de ejecutar. Para verlo hay que escribir el\n",
    "nombre de la variable y ejecutar esa línea con el nombre o bien al crear una variable escribir todo en\n",
    "la misma línea. Vemos los dos casos:"
   ]
  },
  {
   "cell_type": "code",
   "execution_count": null,
   "id": "8abc3eef-2570-406c-b578-92be702b20ab",
   "metadata": {},
   "outputs": [],
   "source": [
    "# Creamos el vector\n",
    "assign(\"x\", c(11.2, 4.5, 12.3, 7.8, 10.3))\n",
    "# Muestra el contenido de x\n",
    "x\n",
    "# Creamos el vector y muestra el contenido en una única línea\n",
    "y <- c(1,2,3); y"
   ]
  },
  {
   "cell_type": "markdown",
   "id": "73ce9b57-495f-4e1b-a70b-f00d9385933a",
   "metadata": {},
   "source": [
    "Observar que para ejecutar varias órdenes en la misma línea estas van separadas con un `;`.\n",
    "\n",
    "Si una expresión se utiliza como una orden por si misma (es decir no se asigna a un nombre de variable), su valor se imprime por pantalla y se pierde ya que no se ha guardado en ninguna variable.\n",
    "\n",
    "Así pues, al ejecutar la orden: "
   ]
  },
  {
   "cell_type": "code",
   "execution_count": null,
   "id": "3c2a87d8-cf7e-472f-b3f0-c63af6276a44",
   "metadata": {},
   "outputs": [],
   "source": [
    "1/y"
   ]
  },
  {
   "cell_type": "markdown",
   "id": "5bb01e11-94aa-4cf4-8a9e-bd79314dc5cb",
   "metadata": {},
   "source": [
    "simplemente se muestra en pantalla los inversos de los cinco valores del vector y, \n",
    "al no haberle asignado ningún nombre de variable al resultado, este no queda guardado \n",
    "(no aparece ninguna nueva variable en la pestaña Environment de RStudio). \n",
    "Por supuesto, el valor de y no se modifica."
   ]
  },
  {
   "cell_type": "markdown",
   "id": "e7efa099-fc37-49a4-9dc0-2f63b7f37694",
   "metadata": {},
   "source": [
    "En la esquina inferior derecha de RStudio (ver figura anterior) tenemos varias pestañas que nos muestran \n",
    "diferentes opciones: \n",
    "\n",
    "1. Files: muestra una lista de los directorios y ficheros contenidos en el directorio \n",
    "          en el que estamos trabajando). \n",
    "2. Plot: ventana en la que se muestran los gráficos que generemos. \n",
    "3. Packages: lista de paquetes activados de R, aquellos marcados con un tick, y otros \n",
    "             adicionales que no están activos pero que se podrían activar en caso de necesitar otras funciones no disponibles en los paquetes que trae R por defecto. Ver *Sección de Instalación y utilización de librerías de R* para más detalles.\n",
    "4. Help: Muestra la ayuda de funciones de R.\n",
    "5. Viewer: En esta ventana se mostrarán mapas y otros elementos como resultado del \n",
    "código ejecutado.\n",
    "6. Presentation: Muestra presentaciones HTML. "
   ]
  },
  {
   "cell_type": "markdown",
   "id": "9d96b659-4690-4d71-bdd7-f0b063eb5b24",
   "metadata": {},
   "source": [
    "# Ayuda en R\n",
    "\n",
    "R ofrece distintas formas de buscar ayuda dependiendo de nuestras necesidades. Todas las opciones de ayuda se mostrarán en la ventana del cuadrante inferior derecho de RStudio, en la pestaña *Ayuda*. Por ejemplo, probar a ejecutar las siguientes opciones de ayuda en la ventana de ejecución de RStudio: "
   ]
  },
  {
   "cell_type": "markdown",
   "id": "4ffb21ff-c189-462e-99ae-1ebc58c73344",
   "metadata": {},
   "source": [
    "`help()` Muestra una ventana de ayuda general sobre R\n",
    "\n",
    "`help.start()` Arranca un manual de ayuda completo en formato html, utilizando el navegador del sistema.\n",
    "\n",
    "`help(mean)` Muestra una ventana de ayuda sobre la función `mean` que calcula la media aritmética.\n",
    "\n",
    "`?mean` Lo mismo que el ejemplo anterior.\n",
    "\n",
    "`help(\"[\")` Muestra una ayuda sobre el carácter [, que es un carácter especial que forma parte del lenguaje R.\n",
    "\n",
    "`apropos(\"mean\")` Muestra las funciones cuyo nombre contenga la cadena de caracteres que se escribe entre comillas, en este caso `mean`.\n",
    "\n",
    "`help.search(\"mean\")` Busca información sobre objetos o funciones que tengan relación con la cadena de caracteres escrita entre comillas en el propio nombre o en las palabras clave de su documentación."
   ]
  },
  {
   "cell_type": "markdown",
   "id": "8358fd34-18d1-44bd-8b50-dee44ba2562b",
   "metadata": {},
   "source": [
    "# Instalación y utilización de librerías en R\n",
    "\n",
    "La instalación básica de R, la que se instala por defecto, contiene un número\n",
    "limitado de librerías que nos permiten aplicar las funciones más\n",
    "habituales. Sin embargo, en muchas ocasiones nos encontramos ante la necesidad\n",
    "de aplicar otro tipo de análisis que no están incluidos en este paquete\n",
    "básico. Dado el caracter libre y colaborativo de este software, en la mayoria\n",
    "de los casos nuestro problema ya ha sido abordado y resuelto por otro usuario\n",
    "el cual ha aportado su solución en forma de librería y la ha puesto a\n",
    "disposición del resto de la comunidad de usuarios de R totalmente libre. Gracias a la filosofía abierta y colaborativa de R, nosotros podemos directamente instalar esas librerías y usarlas. \n",
    "\n",
    "El primer paso, y normalmente el más complejo, es buscar en la red alguna solución a nuestro problema que esté disponible en alguna librería de R. En caso de encontrarla, podemos estar en alguna de estas situaciones:\n",
    "\n",
    "1. El paquete se encuentra en el repositorio denominado **CRAN** (*Comprehensive R Archive Network*). Este sería el caso más sencillo ya que se podría instalar directamente desde RStudio ejecutando la orden `install.packages(\"NombreLibreria\")` donde el nombre de la librería va entre comillas. Una vez instalado el paquete, este se cargará con el comando `library(\"NombreLibreria\")` en la script de R donde se quiera utilizar. La instalación de una librería sólo sería necesaria la primera vez, mientras que la activación o carga de la misma con el comando `library()` debe realizarse siempre que iniciemos una sesión de R en la que queramos aplicar las funciones de una determinada librería ya instalada que no estaba incluida en el paquete básico.\n",
    "2. Si el paquete no está en el repositorio oficial de R, debemos descargar el paquete en local desde la página web que lo ofrece. En el caso de tener que descargar el paquete comprimido, la función de instalación permite también cargar el paquete desde la carpeta local en la que tengamos el archivo comprimido. Dependiendo del Sistema Operativo, el archivo comprimido tendrá una extensión (p.e. .zip en windows), aunque normalmente se define explícitamente a cual corresponde cada una. En este caso debemos ejecutar la orden \n",
    "`install.packages(\"NombreLibreria.tar.gz\",repos=NULL,type=\"source\")`\n",
    "3. Finalmente, podemos querer cargar una función que hayamos programado nosotros mismos o nos hayamos descargado en local, pero que no sea una librería. Para ello podemos usar el comando `source(\"NuestraFuncion.R\")`. El problema de este comando es que hay que volver a aplicarlo siempre que hagamos un cambio en la propia función.\n",
    "\n",
    "Como ejemplo de lo explicado en esta sección, desde RStudio instalaros la librería *ISLR* contenida en CRAN: "
   ]
  },
  {
   "cell_type": "code",
   "execution_count": null,
   "id": "4e295079-033b-4a5a-921b-6491eff52a43",
   "metadata": {},
   "outputs": [],
   "source": [
    "# Instalamos la librería\n",
    "install.packages(\"ISLR\") "
   ]
  },
  {
   "cell_type": "code",
   "execution_count": null,
   "id": "9a7e48b7-b385-4ed6-bdfc-caf59c83e2e0",
   "metadata": {},
   "outputs": [],
   "source": [
    "# Cargamos la libreria\n",
    "library(\"ISLR\")"
   ]
  },
  {
   "cell_type": "markdown",
   "id": "2199ecc0-aedf-4ef6-8718-bd9d5f9adc6e",
   "metadata": {},
   "source": [
    "Esta librería contiene una colección de bases de datos que se utilizan en el libro *An Introduction to Statistical Learning with Applications in R* de G. James. Una vez instalada y cargada la librería podeis ver los datos que por ejemplo contiene la base de datos *Auto* ejecutando la orden `Auto` o bien la orden `help(Auto)`, para ver la descripción de los datos contenidos\n",
    "en esa base. \n",
    "\n"
   ]
  },
  {
   "cell_type": "code",
   "execution_count": null,
   "id": "22a1177c-f5fb-4c93-8575-39388799043d",
   "metadata": {},
   "outputs": [],
   "source": [
    "Auto"
   ]
  },
  {
   "cell_type": "code",
   "execution_count": null,
   "id": "8c6078db-3bdd-419e-b374-03aa76d2bb33",
   "metadata": {},
   "outputs": [],
   "source": [
    "help(Auto)"
   ]
  },
  {
   "cell_type": "markdown",
   "id": "e8a8d47b-a5a8-49b7-9d49-bb37f7dc7db6",
   "metadata": {},
   "source": [
    "Como se describe en la ayuda, se trata de una base de datos de 392\n",
    "vehículos de 9 variables distintas. Usaremos esta base de datos en un ejemplo posterior.  "
   ]
  },
  {
   "cell_type": "markdown",
   "id": "7fc4c65b-5473-42d2-a763-d4c01e199297",
   "metadata": {},
   "source": [
    "# Tipos y estructuras de datos en R\n",
    "\n",
    "Los tipos de datos más comunes en R son:\n",
    "\n",
    "1. Numérico: Datos que contienen números reales.\n",
    "2. Lógico: Datos que sólo permiten valores lógicos de verdadero (TRUE) o falso (FALSE).\n",
    "3. Complejos: Datos que contienen números complejos. \n",
    "4. Carácter: Datos que contienen cualquier tipo de carácter. \n",
    "\n",
    "Con la función `mode()` de R podemos saber el tipo de datos de los siguientes\n",
    "elementos que vamos a crear: "
   ]
  },
  {
   "cell_type": "code",
   "execution_count": null,
   "id": "a1eec8b5-d18a-4989-96b8-8e59b272218a",
   "metadata": {},
   "outputs": [],
   "source": [
    "# Tipo numerico\n",
    "x1 <- 2\n",
    "mode(x1)  # numeric"
   ]
  },
  {
   "cell_type": "code",
   "execution_count": null,
   "id": "cccd3047-2dc5-4fe8-b611-6e6b2d96a2e4",
   "metadata": {},
   "outputs": [],
   "source": [
    "# Tipo logico\n",
    "x2 <- TRUE  \n",
    "mode(x2)  # logical"
   ]
  },
  {
   "cell_type": "code",
   "execution_count": null,
   "id": "a2299d1c-ac6c-464c-8cb3-35564b71c5ac",
   "metadata": {},
   "outputs": [],
   "source": [
    "# Tipo complejo\n",
    "x3 <- 3+4i  \n",
    "mode(x3)  # complex"
   ]
  },
  {
   "cell_type": "code",
   "execution_count": null,
   "id": "70ea43ac-db1e-47a2-a56b-ec745751b7f6",
   "metadata": {},
   "outputs": [],
   "source": [
    "# Tipo caracter\n",
    "x4 <- \"Ana\"\n",
    "mode(x4)  # character"
   ]
  },
  {
   "cell_type": "markdown",
   "id": "2def27ba-b5a2-4d3f-9c10-e429baefcc1b",
   "metadata": {},
   "source": [
    "R utiliza diferentes estructuras de datos que veremos en detalle en las secciones siguientes:\n",
    " \n",
    "1. **Vectores**: Son matrices de una dimensión que únicamente pueden contener valores del mismo tipo ya sean numéricos, alfanuméricos o valores lógicos. Como ya sabemos para formar vectores se emplea la función `c()` (contracción de la función `combine()`). \n",
    "2. **Matrices**: Estructura bidimensional con el atributo *dim*, que define el número de filas y columnas. Se crean con la funcion `matrix()`.\n",
    "3. **Arrays**: Similar a las matrices pero pueden tener más de dos dimensiones.\n",
    "4. **Factores**: Es un tipo de vector especial para representar variables categóricas. \n",
    "5. **Listas**: Colección ordenada de datos donde los elementos almacenados pueden ser de diferente tipo y tamaño.\n",
    "6. **Tabla de datos** (*Data frame*): Generalización de las matrices, donde cada columna puede almacenar un tipo de dato diferente. Todas las columnas deben tener la misma longitud.\n",
    "\n",
    "La función `class()` que utilizaremos en las siguientes secciones, nos indica la clase a la que pertenece cada uno de estos objetos. "
   ]
  },
  {
   "cell_type": "markdown",
   "id": "f8cec81c-f3de-4b11-b400-d62d99975400",
   "metadata": {},
   "source": [
    "## Vectores\n",
    "\n",
    "La estructura más simple en R es el vector, que es una colección de elementos del mismo tipo. Para crear un vector, x, consistente en cinco números, por ejemplo 11.2, 4.5, 12.3, 7.8 y 10.3, usamos la función `c()` separando los elementos por comas: "
   ]
  },
  {
   "cell_type": "code",
   "execution_count": null,
   "id": "8222482f-1acf-40dc-bd79-e09cb502536a",
   "metadata": {},
   "outputs": [],
   "source": [
    "x <- c(11.2, 4.5, 12.3, 7.8, 10.3); x"
   ]
  },
  {
   "cell_type": "markdown",
   "id": "fb4096b5-45e5-4c5a-890a-4123dec4384c",
   "metadata": {},
   "source": [
    "Un número, por si mismo, se considera un vector de longitud uno.\n",
    "\n",
    "Si a continuación se hace la asignación:"
   ]
  },
  {
   "cell_type": "code",
   "execution_count": null,
   "id": "d1459b25-087c-4083-9a56-1e92547c0baf",
   "metadata": {},
   "outputs": [],
   "source": [
    "y <- c(x, 0, x)"
   ]
  },
  {
   "cell_type": "markdown",
   "id": "08dde711-c545-4af1-868b-e4cdd226d56d",
   "metadata": {},
   "source": [
    "se creará un vector, y, con 11 elementos, consistentes en dos copias de x con un cero entre ambas. Recordar que si se realiza una asignación, el resultado no se imprime en pantalla. Para verlo hay que llamar a la nueva variable creada:"
   ]
  },
  {
   "cell_type": "code",
   "execution_count": null,
   "id": "791b4d60-c892-42d7-a1f4-bbb99d54ab84",
   "metadata": {},
   "outputs": [],
   "source": [
    "y"
   ]
  },
  {
   "cell_type": "markdown",
   "id": "9152116f-1555-4671-9ff4-3faae11e2d34",
   "metadata": {},
   "source": [
    "Se puede estar interesado en seleccionar un determinado valor del vector, por ejemplo el valor 12.3 del vector x. Para ello únicamente tendremos que saber la posición de dicho elemento en el vector y escribir la orden: "
   ]
  },
  {
   "cell_type": "code",
   "execution_count": null,
   "id": "351fc7fc-661e-426b-8544-e64ce97ed784",
   "metadata": {},
   "outputs": [],
   "source": [
    "x[3]"
   ]
  },
  {
   "cell_type": "markdown",
   "id": "223c3728-ff9a-4719-8352-2a172aeb3839",
   "metadata": {},
   "source": [
    "O bien obtener los tres primeros elementos de ese vector x como:"
   ]
  },
  {
   "cell_type": "code",
   "execution_count": null,
   "id": "8184cbed-c9a9-4d21-af4f-38f43cda8095",
   "metadata": {},
   "outputs": [],
   "source": [
    "x[1:3]"
   ]
  },
  {
   "cell_type": "markdown",
   "id": "7a8c448f-8aad-4063-b686-bd661dbabd19",
   "metadata": {},
   "source": [
    "Notar que a diferencia de otros lenguajes de programación, R reserva los\n",
    "paréntesis para ejecutar funciones, mientras que los corchetes nos permiten\n",
    "acceder a elementos de un vector o como veremos más tarde de una matriz o\n",
    "array. "
   ]
  },
  {
   "cell_type": "markdown",
   "id": "5cde8ad7-ff08-4fbe-930e-75aac7be521c",
   "metadata": {},
   "source": [
    "<span style=\"color:blue\">\n",
    "<strong>PRACTICA TÚ MISMO</strong>\n",
    "</span> \n",
    "\n",
    "- Abre una script en RStudio y utiliza la función `seq()` (consulta la ayuda para ver como se ejecuta esta función) para crear los siguientes vectores:\n",
    "    55, 56, 57, 58, 59\n",
    "    1, 3, 5, 7, 9, 11\n",
    "\n",
    "- Crea un vector x con los siguientes elementos 1, 3, 5, 7 y 9 e intenta adivinar los resultados de las siguientes instrucciones antes de ejecutarlas:\n",
    "    1. x>5\n",
    "    2. which(x>5)\n",
    "    3. sum(x>5)\n",
    "    4. sum(x[x>5])\n",
    "      \n",
    "- A partir de ese vector x creado en el ejercicio anterior:\n",
    "    1. Extrae el elemento de x que ocupa la posición 2.\n",
    "    2. Extrae utilizando un único comando, los 3 elementos de x que ocupan las posiciones de la 2 a la 4."
   ]
  },
  {
   "cell_type": "markdown",
   "id": "a0cd07f5-2aa4-4759-99b1-f3f0ec1dbab0",
   "metadata": {},
   "source": [
    "### Vectores logicos\n",
    "\n",
    "Además de los vectores numéricos, R permite la manipulación de cantidades\n",
    "lógicas. Los elementos de un vector lógico pueden tener los valores VERDADERO,\n",
    "FALSO y NA (para \"Not Available\")."
   ]
  },
  {
   "cell_type": "code",
   "execution_count": null,
   "id": "fa2ebd60-135d-4f6c-9e91-ecfe1f0cc5e9",
   "metadata": {},
   "outputs": [],
   "source": [
    "x <- seq(1,10,2); x\n",
    "class(x)"
   ]
  },
  {
   "cell_type": "code",
   "execution_count": null,
   "id": "13484b07-e3b7-4091-bd1c-66f1e98fb742",
   "metadata": {},
   "outputs": [],
   "source": [
    "c1 <- x>6; c1 # Vector logico. Indica que valores de x cumplen o no la condicion"
   ]
  },
  {
   "cell_type": "code",
   "execution_count": null,
   "id": "f35428a3-62a6-4d4f-a1b9-dba44fb8ded4",
   "metadata": {},
   "outputs": [],
   "source": [
    "c2 <- x==7; c2"
   ]
  },
  {
   "cell_type": "markdown",
   "id": "1e317cef-33e4-4efb-a595-f7a7c158f88a",
   "metadata": {},
   "source": [
    "Los operadores lógicos son <, <=, >, >=, == para igualdad exacta y != para\n",
    "desigualdad. Además, si c1 y c2 son expresiones lógicas, entonces `c1 & c2` es\n",
    "su intersección (es decir elementos en c1 \"y\" en c2), `c1 | c2` es su unión (es decir elementos en c1 \"o\" en c2), y `!c1` es la negación de c1."
   ]
  },
  {
   "cell_type": "code",
   "execution_count": null,
   "id": "b183942f-3de8-45e4-9751-d7101be3c21e",
   "metadata": {},
   "outputs": [],
   "source": [
    "c1&c2 # Vector logico. Indica con TRUE los valores de x que estan en ambos vectores lógicos."
   ]
  },
  {
   "cell_type": "code",
   "execution_count": null,
   "id": "096921d4-0a0f-4f56-a854-eb1194431650",
   "metadata": {},
   "outputs": [],
   "source": [
    "x[c1&c2] # Muestra los valores de x que cumplen ambas condiciones."
   ]
  },
  {
   "cell_type": "code",
   "execution_count": null,
   "id": "dd05171f-ccd0-4895-8b96-cc976dc5df35",
   "metadata": {},
   "outputs": [],
   "source": [
    "c1|c2 # Vector logico. Indica si los valores de x cumplen una condicion u otra."
   ]
  },
  {
   "cell_type": "code",
   "execution_count": null,
   "id": "bdbb1e99-d323-4ef4-8517-20dd9d2b31e3",
   "metadata": {},
   "outputs": [],
   "source": [
    "x[c1|c2] # Muestra los valores de x que cumplen una u otra condicion."
   ]
  },
  {
   "cell_type": "markdown",
   "id": "3672d1e3-52c9-46ff-aba3-bc7ef8523e49",
   "metadata": {},
   "source": [
    "Los vectores lógicos pueden usarse en aritmética ordinaria, en cuyo caso se\n",
    "transforman a vectores numéricos, de la forma: FALSO se convierte en 0 y\n",
    "VERDADERO se convierte en 1. Por ejemplo a partir de los resultados anteriores podemos obtener el número de elementos de x que son mayores de 6 de varias formas:"
   ]
  },
  {
   "cell_type": "code",
   "execution_count": null,
   "id": "3ee0a0b0-21aa-4530-b41d-cb9cc32d7ad4",
   "metadata": {},
   "outputs": [],
   "source": [
    "sum(c1)"
   ]
  },
  {
   "cell_type": "code",
   "execution_count": null,
   "id": "72d6320e-6891-4e0e-abac-61ff21166b46",
   "metadata": {},
   "outputs": [],
   "source": [
    "sum(x>6)"
   ]
  },
  {
   "cell_type": "markdown",
   "id": "9c8ff5ff-5872-4a02-af59-7089b806830d",
   "metadata": {},
   "source": [
    "Notar que la orden: "
   ]
  },
  {
   "cell_type": "code",
   "execution_count": null,
   "id": "aa60b6d9-02b9-40eb-94e5-24b4265185ed",
   "metadata": {},
   "outputs": [],
   "source": [
    "length(c1)"
   ]
  },
  {
   "cell_type": "markdown",
   "id": "0f8ef32a-cc60-46bc-9158-c4f7b02c3c72",
   "metadata": {},
   "source": [
    "devuelve 5, que es la longitud del vector c1 independientemente de que los valores sean TRUE o FALSE. \n",
    "\n",
    "Podemos saber las posiciones de esos valores de x mayores o iguales a 6 con la orden: "
   ]
  },
  {
   "cell_type": "code",
   "execution_count": null,
   "id": "f17bf812-924b-43e5-a655-224e558a891e",
   "metadata": {},
   "outputs": [],
   "source": [
    "which(x>=6)"
   ]
  },
  {
   "cell_type": "markdown",
   "id": "0a9acb2b-07e0-44e4-b4ec-2441ef321585",
   "metadata": {},
   "source": [
    "Los elementos de x que corresponden a la posición 4 y 5 y que por tanto son valores mayores o iguales a 6 se obtendrían con cualquiera de estas órdenes:"
   ]
  },
  {
   "cell_type": "code",
   "execution_count": null,
   "id": "0e286495-c61b-4bdc-8855-3c958bbb0971",
   "metadata": {},
   "outputs": [],
   "source": [
    "x[which(x>=6)]"
   ]
  },
  {
   "cell_type": "code",
   "execution_count": null,
   "id": "07f0205c-b70b-4cfd-b4aa-80bdd1b63ebf",
   "metadata": {},
   "outputs": [],
   "source": [
    "x[c1]"
   ]
  },
  {
   "cell_type": "markdown",
   "id": "2f705b5d-9e64-4675-9aa4-82e061d896c7",
   "metadata": {},
   "source": [
    "Las funciones `sum()`, `length()` y `which()` las usaremos en numerosas ocasiones en esta asignatura por lo que es importante familiarizarse con ellas.  \n",
    "\n",
    "### Vector de caracteres\n",
    "\n",
    "Los caracteres y los vectores de caracteres se usan con frecuencia en R, por\n",
    "ejemplo como etiquetas de figuras. Cuando es necesario, se indican mediante una secuencia de caracteres entre comillas, por ejemplo:"
   ]
  },
  {
   "cell_type": "code",
   "execution_count": null,
   "id": "9de1d9ae-674e-4807-bc70-2b2b18e3a61d",
   "metadata": {},
   "outputs": [],
   "source": [
    "labs <- c(\"X\", \"Y\", \"Z\"); labs\n",
    "class(labs)"
   ]
  },
  {
   "cell_type": "markdown",
   "id": "06d03bf1-c3c1-4b18-92c0-29957b93627b",
   "metadata": {},
   "source": [
    "## Matrices\n",
    "\n",
    "Otra estructura común es la matriz de datos. Podemos crear una matriz de la forma:"
   ]
  },
  {
   "cell_type": "code",
   "execution_count": null,
   "id": "f4e8ee15-3577-4391-afcd-74d7d39b803f",
   "metadata": {},
   "outputs": [],
   "source": [
    "M <- matrix(c(1,2,3,4,5,6), nrow=2, ncol=3);M\n",
    "class(M)"
   ]
  },
  {
   "cell_type": "markdown",
   "id": "0e714e75-38f2-48cb-8e42-dbf852ee166d",
   "metadata": {},
   "source": [
    "Al igual que con vectores podemos seleccionar elementos de la matriz indicando sus índices de filas y columnas entre corchetes y separados por coma. Por ejemplo:"
   ]
  },
  {
   "cell_type": "code",
   "execution_count": null,
   "id": "60ae09e4-8708-42fe-b0b6-2e0125464d54",
   "metadata": {},
   "outputs": [],
   "source": [
    "# Fila 2\n",
    "M[2,]"
   ]
  },
  {
   "cell_type": "code",
   "execution_count": null,
   "id": "8b2b633b-62b6-4122-9e76-bf6562cb53aa",
   "metadata": {},
   "outputs": [],
   "source": [
    "# Columna 3\n",
    "M[,3]"
   ]
  },
  {
   "cell_type": "code",
   "execution_count": null,
   "id": "432f57fd-b46a-41d5-934d-5811a597d0b9",
   "metadata": {},
   "outputs": [],
   "source": [
    "# Elemento de la fila 1 y la columna 2:\n",
    "M[1,2]"
   ]
  },
  {
   "cell_type": "markdown",
   "id": "60562cf5-8659-4169-9af0-189415882e15",
   "metadata": {},
   "source": [
    "Los vectores y matrices pueden usarse en expresiones aritméticas, en cuyo\n",
    "caso las operaciones se realizan elemento a elemento. Los operadores\n",
    "aritméticos elementales son los habituales `+, -, *, /` y `^` para elevar a\n",
    "una potencia. Además están disponibles las funciones `log()`, `exp()`, `sin()`, `cos()`, `tan()` y `sqrt()` siendo esta última la función que calcula la raíz cuadrada. Como se observa al ejecutar las órdenes siguientes, las operaciones se realizan sobre cada uno de los elementos."
   ]
  },
  {
   "cell_type": "code",
   "execution_count": null,
   "id": "78d368ed-83b9-4361-9e95-d52a05803dd5",
   "metadata": {},
   "outputs": [],
   "source": [
    "1/x"
   ]
  },
  {
   "cell_type": "code",
   "execution_count": null,
   "id": "f1e9d7a8-8aaa-4cb8-9a66-e76a549ea494",
   "metadata": {},
   "outputs": [],
   "source": [
    "M*M"
   ]
  },
  {
   "cell_type": "code",
   "execution_count": null,
   "id": "4264fc72-ac66-4ad8-9cdd-5dd9092d85e4",
   "metadata": {},
   "outputs": [],
   "source": [
    "exp(x)"
   ]
  },
  {
   "cell_type": "markdown",
   "id": "a0ad1208-92cb-43d2-8343-baeeec522909",
   "metadata": {},
   "source": [
    "Existen muchas más funciones como por ejemplo `max(x)` y `min(x)` que seleccionan respectivamente el mayor y el menor elemento de un vector (x en este caso), `range(x)` cuyo valor es el vector de longitud dos conteniendo el mínimo y el\n",
    "máximo, `length(x)` que devuelve el número de elementos o longitud de x, `sum(x)` que calcula la suma de todos los elementos de x, `prod(x)` que calcula el producto de todos ellos o `sort(x)` que ordena los elementos de x de menor a mayor. \n",
    "\n",
    "Como ya se comentó al principio se puede obtener más ayuda acerca de\n",
    "estas funciones con el comando `help()`."
   ]
  },
  {
   "cell_type": "markdown",
   "id": "410861f6-e337-49c8-96ee-6d86b887f3db",
   "metadata": {
    "editable": true,
    "slideshow": {
     "slide_type": ""
    },
    "tags": []
   },
   "source": [
    "<span style=\"color:blue\">\n",
    "<strong>PRACTICA TÚ MISMO</strong>\n",
    "</span>\n",
    "\n",
    "- En una script de RStudio crea la siguiente matriz de datos: `m <- matrix(1:15, nrow=3)` e intenta adivinar los resultados de las siguientes instrucciones antes de ejecutarlas:\n",
    "    1. dim(m)\n",
    "    2. ncol(m)\n",
    "    3. nrow(m)\n",
    "    4. which(m>=5 & m<=8)  \n",
    "\n",
    "- A partir de la matriz creada en el ejercicio anterior:\n",
    "    1. Extrae la primera fila.\n",
    "    2. Extrae el segundo elemento de la tercera columna."
   ]
  },
  {
   "cell_type": "markdown",
   "id": "626d2cb1-e5e5-4073-8ffe-9d11e35a429b",
   "metadata": {},
   "source": [
    "## Arrays\n",
    "\n",
    "Son objetos de R que pueden guardar datos del mismo tipo en más de dos dimensiones. Por ejemplo, podemos crear el siguiente array de tres dimensiones: "
   ]
  },
  {
   "cell_type": "code",
   "execution_count": null,
   "id": "b7c0cbc7-baef-4849-bac7-c443d60dd56b",
   "metadata": {},
   "outputs": [],
   "source": [
    "x <- seq(1,36,2)\n",
    "arr <- array(x, dim = c(3,3,2))\n",
    "class(arr) # Para obtener la clase del objeto\n",
    "dim(arr)   # Dimension de arr"
   ]
  },
  {
   "cell_type": "markdown",
   "id": "7e93211f-b115-43d2-bd9d-81632c9074eb",
   "metadata": {},
   "source": [
    "En este caso para seleccionar elementos de este array lo haremos como con matrices pero teniendo en cuenta todas sus dimensiones. Por ejemplo podemos obtener el elemento de la primera fila, tercera columna y posicion dos de la tercera dimension como:"
   ]
  },
  {
   "cell_type": "code",
   "execution_count": null,
   "id": "ab7db4f3-b615-4188-a51d-0efe264e251e",
   "metadata": {},
   "outputs": [],
   "source": [
    "arr[1,3,2] "
   ]
  },
  {
   "cell_type": "markdown",
   "id": "cc8c0572-cdd9-4531-82f7-2969db223edf",
   "metadata": {},
   "source": [
    "O todos los elementos de la segunda columna ejecutando la orden: "
   ]
  },
  {
   "cell_type": "code",
   "execution_count": null,
   "id": "ed8f84c8-23d8-4a69-a3bd-250cf9cee264",
   "metadata": {},
   "outputs": [],
   "source": [
    "arr[,2,]   "
   ]
  },
  {
   "cell_type": "markdown",
   "id": "b0fefb07-b1f5-4d15-9ce2-74ea2e282e57",
   "metadata": {},
   "source": [
    "## Factores\n",
    "\n",
    "Los factores son vectores especiales para representar variables categóricas. Las variables categóricas toman un número pequeño de posibles valores (categorías) que se identifican con etiquetas (*labels*). \n",
    "\n",
    "Para convertir un vector en un factor empleamos la funcion `factor()`. Por ejemplo, tenemos los datos de un grupo de personas que son el nombre, la edad y el nivel de actividad fisica realizada: "
   ]
  },
  {
   "cell_type": "code",
   "execution_count": null,
   "id": "5ec9d4c3-404c-4a55-b174-20b09e75eb14",
   "metadata": {},
   "outputs": [],
   "source": [
    "nombre <- c(\"ana\", \"luis\", \"elena\", \"amparo\", \"blanca\", \"ana\", \"blanca\", \"luis\")\n",
    "edad <- c(23, 24, 45, 67, 32, 56, 78, 45)\n",
    "actividad <- c(\"baja\", \"media\", \"media\", \"media\", \"alta\", \"alta\", \"baja\", \"media\")"
   ]
  },
  {
   "cell_type": "markdown",
   "id": "95eadf5a-bb40-4ccd-8231-1913ef94ca74",
   "metadata": {},
   "source": [
    "Los vectores actividad y nombre son variables no numéricas que podemos categorizar transformándolas a tipo factor con la función `factor()`. Como ejemplo vamos a transformar el vector actividad ejecutando las siguientes órdenes: "
   ]
  },
  {
   "cell_type": "code",
   "execution_count": null,
   "id": "131ff4d2-b507-423b-9d38-092253ae9095",
   "metadata": {},
   "outputs": [],
   "source": [
    "class(actividad) \n",
    "factividad <- factor(actividad); factividad # transformamos a factor\n",
    "class(factividad) # devuelve la clase de la variable transformada a factor (\"factor\")"
   ]
  },
  {
   "cell_type": "markdown",
   "id": "a06a88de-0a54-4e47-88c6-84d6ecb265e7",
   "metadata": {},
   "source": [
    "Vemos como la clase de es vector ha cambiado de *character* a *factor*. \n",
    "\n",
    "La variable actividad contiene tres categorías que, al transformarla a factor, R ordena por defecto alfabéticamente, como se observa en la etiqueta `Levels` de la variable *factividad* (alta, baja, media). Sin embargo este orden no es el correcto ya que al ser una variable ordinal las categorías deben ir de menos a más actividad (baja, media, alta). Debemos cambiar el orden de *Levels* con la función `ordered()`. Este cambio lo conseguimos ejecutando los comandos: "
   ]
  },
  {
   "cell_type": "code",
   "execution_count": null,
   "id": "a474abaa-bb85-4acf-9d16-287ba9ee4f16",
   "metadata": {
    "scrolled": true
   },
   "outputs": [],
   "source": [
    "ordered_actividad <- ordered(factividad, levels=c( \"baja\", \"media\", \"alta\"))\n",
    "ordered_actividad"
   ]
  },
  {
   "cell_type": "markdown",
   "id": "de635925-7640-473c-9a80-373087e12436",
   "metadata": {},
   "source": [
    "Ahora `Levels` si que va de menos a más. \n",
    "\n",
    "Establecer el orden correcto de las categorías de las variables ordinales es importante ya que afecta a posibles usos posteriores de la variable. Por ejemplo, observa la diferencia de dibujar un gráfico de barras de la variable *actividad* respecto al gráfico de la variable *ordered_actividad*: "
   ]
  },
  {
   "cell_type": "code",
   "execution_count": null,
   "id": "e0d782aa-2226-4bcc-8c60-b1edad56da7b",
   "metadata": {},
   "outputs": [],
   "source": [
    "barplot(table(actividad))\n",
    "barplot(table(ordered_actividad))"
   ]
  },
  {
   "cell_type": "markdown",
   "id": "493c6f85-9137-4066-b944-af32391350c5",
   "metadata": {},
   "source": [
    "El segundo gráfico es el correcto ya que el eje horizontal muestra las categorías ordenadas de menos a más. "
   ]
  },
  {
   "cell_type": "markdown",
   "id": "4fc94f05-f643-4779-a576-db25b06c4aed",
   "metadata": {},
   "source": [
    "## Listas\n",
    "\n",
    "Como hemos visto antes un vector no puede contener distintos tipos de datos, para ello se utilizan las listas. Una lista es una estructura de datos que contienen un conjunto de elementos indexados que pueden ser de diferente tipo (carácter, numérico, etc). Generalmente cada objeto de la lista se identifica con un nombre y puede tener distinto número de elementos. Veamos un ejemplo: "
   ]
  },
  {
   "cell_type": "code",
   "execution_count": null,
   "id": "fc7b8959-07cc-4b01-af95-6879fb6c3d8a",
   "metadata": {},
   "outputs": [],
   "source": [
    "lista <- list(grupo=1, alumnos=c(\"Maria\", \"Juan\", \"Adela\"), practicas=3, notas=c(8, 7.5, 8.7))\n",
    "class(lista) # Clase \"list\"\n",
    "str(lista)   # Muestra los objetos que contiene"
   ]
  },
  {
   "cell_type": "markdown",
   "id": "ff764b57-5af7-4bf5-8cd8-0ef628e2a6a4",
   "metadata": {},
   "source": [
    "El comando `str()` nos muestra la información contenida en la lista de una forma muy compacta. \n",
    "\n",
    "Los elementos de una lista se obtienen con el operador `$` o bien con los dobles corchetes `[[ ]]`:"
   ]
  },
  {
   "cell_type": "code",
   "execution_count": null,
   "id": "9be39acc-b6e7-4b6a-9042-b18c70710ce6",
   "metadata": {},
   "outputs": [],
   "source": [
    "lista$alumnos\n",
    "lista[[2]] "
   ]
  },
  {
   "cell_type": "markdown",
   "id": "ca5998f9-aefc-40ac-b23f-560ac5c4778a",
   "metadata": {},
   "source": [
    "## Tabla de datos (data frame)\n",
    "\n",
    "Una tabla de datos o data frame es un objeto de datos de dos dimensiones (filas y columnas), una generalización de las matrices donde cada columna puede contener tipos de datos distintos al resto de columnas, manteniendo todas la misma longitud. Es lo que más se parece a una tabla de datos de cualquier paquete estadístico estandar. Se crean con la función\n",
    "`data.frame()`. En un data frame, los vectores de texto se transforman automáticamente en factores donde número de categorías o niveles vendrá determinado por el número de valores diferentes que contenga el vector. \n",
    "\n",
    "Vamos a definir un data frame con los datos del grupo de personas definido anteriormente. Notar como a cada variable le asignamos un nombre concreto que será el de la columna del data frame:"
   ]
  },
  {
   "cell_type": "code",
   "execution_count": null,
   "id": "fc7f29db-3a46-4eda-be23-9e5fe2aeb384",
   "metadata": {},
   "outputs": [],
   "source": [
    "datos <- data.frame(Nombre=nombre, Edad=edad, Actividad=ordered_actividad)\n",
    "datos"
   ]
  },
  {
   "cell_type": "markdown",
   "id": "1af2cd7a-7862-4730-810b-553fa97e708d",
   "metadata": {},
   "source": [
    "Al ejecutar el nombre del data frame creado podemos ver los datos que contiene con los nombres de columna asignados: *Nombre*, *Edad* y *Actividad*.\n",
    "\n",
    "Podemos seleccionar columnas concretas de un data frame usando los corchetes de forma similar a la usada para seleccionar elementos de una matriz. Por ejemplo la orden `datos[,2]` nos mostraría los valores de la columna *Edad*. \n",
    "\n",
    "Para acceder al vector que forma una de las columnas de un data frame también se puede usar el operador `$` después del nombre del data frame y a continuación el nombre de la columna que se quiere seleccionar. Por ejemplo ejecutando la orden: "
   ]
  },
  {
   "cell_type": "code",
   "execution_count": null,
   "id": "b2541d33-9fa2-4d8e-8e20-2c543105caa8",
   "metadata": {},
   "outputs": [],
   "source": [
    "datos$Nombre"
   ]
  },
  {
   "cell_type": "markdown",
   "id": "5cf74886-b00e-4a51-8e57-32ecaa1cf7af",
   "metadata": {},
   "source": [
    "obtendríamos los valores de la columna *Nombres*. \n",
    "\n",
    "Si queremos añadir otras variables a un data frame únicamente es necesario definir un nuevo vector del mismo tamaño que los anteriores. Por ejemplo vamos a crear un vector con los pesos, y dar el nombre a la nueva columna del data frame de la forma: "
   ]
  },
  {
   "cell_type": "code",
   "execution_count": null,
   "id": "bcc11741-655d-44be-a83e-847030b35e4f",
   "metadata": {},
   "outputs": [],
   "source": [
    "pesos <- c(56, 67, 87, 68, 79, 75, 76, 57) # Vector con los pesos\n",
    "datos$Peso <- pesos # Incluye una nueva columna llamada Peso en el data frame datos\n",
    "datos"
   ]
  },
  {
   "cell_type": "markdown",
   "id": "00fe4c0a-2f64-4d2a-88d8-eb5cb655eb9e",
   "metadata": {},
   "source": [
    "Para editar un data frame definido podemos usar la funcion `edit(dataframe)`. Sin embargo la forma mas común de definir un data frame en R es abriendo un fichero que ya contenga los datos, como se verá más adelante.\n",
    "\n",
    "Por ejemplo, la base de datos `Auto` cargada antes de la librería ISLR es un data frame: "
   ]
  },
  {
   "cell_type": "code",
   "execution_count": null,
   "id": "86fc59b9-0d96-42ce-956f-9454f02ecf61",
   "metadata": {},
   "outputs": [],
   "source": [
    "class(Auto)"
   ]
  },
  {
   "cell_type": "markdown",
   "id": "b880cfc4-ce47-4ea4-8073-029ff548419f",
   "metadata": {},
   "source": [
    "Como ese data frame tiene muchas filas, podemos usar la función `head()` para mostrar solo la cabecera de esa tabla de datos y conocer así las variables que contiene. "
   ]
  },
  {
   "cell_type": "code",
   "execution_count": null,
   "id": "363e2de8-4759-4739-8385-b7deb413fdce",
   "metadata": {},
   "outputs": [],
   "source": [
    "head(Auto) "
   ]
  },
  {
   "cell_type": "markdown",
   "id": "14b0e7ba-a312-4bb1-9dce-0deaf5412da8",
   "metadata": {},
   "source": [
    "También nos puede interesar acceder a alguna de las variables que contiene ese data frame y realizar operaciones aritméticas con ellas, en el caso de ser una variable numérica. Por ejemplo vamos a calcular la media del número de cilindros con la función `mean()`:"
   ]
  },
  {
   "cell_type": "code",
   "execution_count": null,
   "id": "6d8a021d-c1b3-4bed-bcef-129730066df1",
   "metadata": {},
   "outputs": [],
   "source": [
    "class(Auto$cylinders)\n",
    "mean(Auto$cylinders)"
   ]
  },
  {
   "cell_type": "markdown",
   "id": "437a0f41-7630-43c9-8013-2fca20404e21",
   "metadata": {},
   "source": [
    "Con el comando `attach()` aplicado al nombre de un data frame, las columnas de ese data frame pasan a ser\n",
    "variables de tipo vector simplificando así el código anterior en el que usábamos el operador `$` para acceder a las variables del data frame. Eso sí en cada sesión de trabajo con R **ejecutar la función attach una sola vez a un mismo data frame**. \n",
    "\n",
    "El comando `dettach()` deshace la acción de `attach()` y debe ejecutarse una vez finalizado el análisis de ese data frame para que las variables ya no queden cargadas en esa sesión de R. "
   ]
  },
  {
   "cell_type": "code",
   "execution_count": null,
   "id": "947ae91b-d3d3-4dda-b2d5-5dbf57d8ece0",
   "metadata": {},
   "outputs": [],
   "source": [
    "attach(Auto)"
   ]
  },
  {
   "cell_type": "code",
   "execution_count": null,
   "id": "8d32823a-5bc6-45e2-a251-b8402c824c69",
   "metadata": {},
   "outputs": [],
   "source": [
    "mean(cylinders) "
   ]
  },
  {
   "cell_type": "markdown",
   "id": "ed0b4a4d-7fad-41fb-9a3c-c30f557b22c6",
   "metadata": {},
   "source": [
    "Como vemos una vez aplicada la orden `attach` al data frame Auto podemos llamar directamente a las variables por el nombre de la columna en lugar de escribir `Auto$cylinders`. \n",
    "\n",
    "Trabajando con las variables de esa misma muestra, podemos determinar por ejemplo el número de vehículos que tienen 6 cilindros o más. "
   ]
  },
  {
   "cell_type": "code",
   "execution_count": null,
   "id": "cda36969-08c1-4664-bf17-e97157090aa4",
   "metadata": {},
   "outputs": [],
   "source": [
    "sum(cylinders>=6)"
   ]
  },
  {
   "cell_type": "markdown",
   "id": "a1caa15c-d30b-47aa-8819-371e072a69bd",
   "metadata": {},
   "source": [
    "o el porcentaje de coches *toyota corolla*: "
   ]
  },
  {
   "cell_type": "code",
   "execution_count": null,
   "id": "e9d57e2f-4ccb-423f-a8a7-be6a7071eaec",
   "metadata": {},
   "outputs": [],
   "source": [
    "sum(name==\"toyota corolla\")/length(name)*100\n",
    "round_val <- round(sum(name==\"toyota corolla\")/length(name)*100, 2); round_val # Redondeamos el valor anterior a dos decimales\n",
    "sprintf(\"La muestra contiene un %s%% de coches Toyota Corolla\", round_val) # Permite escribir el resultado con un formato"
   ]
  },
  {
   "cell_type": "markdown",
   "id": "7cb01d71-6994-43a9-a1e8-ceb6de9affac",
   "metadata": {},
   "source": [
    "Prestad atención a la salida de ejecutar `cylinders>=6` y `name=='toyota corolla'`. "
   ]
  },
  {
   "cell_type": "code",
   "execution_count": null,
   "id": "f4e52caf-22fa-46ee-893f-576ca62cfd6f",
   "metadata": {},
   "outputs": [],
   "source": [
    "cylinders>=6 \n",
    "name=='toyota corolla'"
   ]
  },
  {
   "cell_type": "markdown",
   "id": "829499f1-e6f2-4ba9-b61c-85b854f1999d",
   "metadata": {},
   "source": [
    "En ambos casos obtenemos un vector de verdaderos y falsos (TRUE/FALSE) dependiendo de si cada vehículo cumple o no la condición\n",
    "correspondiente. Como ya sabemos, al aplicar la función `sum()` (suma) a un vector de valores\n",
    "lógicos, TRUE es considerado como 1 y FALSE como cero, obteniendo el número de casos que cumplen la condición. \n",
    "\n",
    "La generación de vectores de este tipo es muy útil para seleccionar grupos de individuos que cumplen una determinada\n",
    "condición en una muestra de datos y se utilizará mucho en otras prácticas. Por ejemplo, podemos obtener el nombre de aquellos vehículos con 6 o más cilindros y que además sean del año 70 de la forma:"
   ]
  },
  {
   "cell_type": "code",
   "execution_count": null,
   "id": "ea8248c3-3542-4bfb-9d76-03c3887c83e1",
   "metadata": {
    "scrolled": true
   },
   "outputs": [],
   "source": [
    "name[cylinders>=6 & year==70] \n",
    "detach(Auto)"
   ]
  },
  {
   "cell_type": "markdown",
   "id": "835dc46e-50e7-467c-9c18-f5b39bd945d0",
   "metadata": {},
   "source": [
    "Notar que en la orden anterior hemos usado el `&` para concatenar dos condiciones. "
   ]
  },
  {
   "cell_type": "markdown",
   "id": "eaa73967-18f2-48bf-a8a4-ef8f4e7b86bb",
   "metadata": {},
   "source": [
    "<span style=\"color:blue\">\n",
    "<strong>PRACTICA TÚ MISMO</strong>\n",
    "</span>\n",
    "\n",
    "En una nueva script de RStudio, crea un nuevo data frame llamado *alumnos*, con las siguientes variables. Analiza si el tipo de variable es el adecuado (numérica, categórica) en cada caso y de no ser así corrígelo. "
   ]
  },
  {
   "cell_type": "markdown",
   "id": "739e3f5f-f33f-4ff1-8fc5-e07c7b16b4c2",
   "metadata": {},
   "source": [
    "<div><img alt=\"\" src=\"./figuras/tabla_alumnos.png\" width=\"200\"/></div>"
   ]
  },
  {
   "cell_type": "markdown",
   "id": "c68a37ea-8ffe-4f94-9e15-0e119c1fb49a",
   "metadata": {},
   "source": [
    "Con el data frame generado analiza los resultados de las siguientes instrucciones:\n",
    "1. alumnos[2,]\n",
    "2. alumnos[3,4]\n",
    "3. alumnos[alumnos$Edad>20]\n",
    "\n",
    "¿Cuál es la diferencia entre ejecutar alumnos[Edad>20,] y Edad[Edad>20]? Recuerda que para poder llamar directamente a la columna *Edad*, antes hay que ejecutar la función `attach(alumnos)`.\n",
    "\n",
    "¿Qué se obtiene al ejecutar la orden Altura[Edad>20 & Sexo==\"M\"]\n",
    "\n",
    "No te olvides de ejecutar la orden `detach(alumnos)` cuando hayas terminado con este data frame. "
   ]
  },
  {
   "cell_type": "markdown",
   "id": "4901f148-2c15-4a49-ad4d-8b65ef3141b5",
   "metadata": {},
   "source": [
    "# Creación de funciones \n",
    "\n",
    "El usuario puede crear sus propias funciones para realizar una tarea específica. Además estas se pueden empaquetar en grupos y tener siempre disponibles para todas las sesiones. La sintaxis es sencilla:"
   ]
  },
  {
   "cell_type": "markdown",
   "id": "f6421fc1-58ea-42ca-bba7-8ba5fd06e7e8",
   "metadata": {},
   "source": [
    "<div><img alt=\"\" src=\"./figuras/funcion.png\" width=\"400\"/></div>"
   ]
  },
  {
   "cell_type": "markdown",
   "id": "0032f3f8-e61b-41a2-b890-1a6268fe0dae",
   "metadata": {},
   "source": [
    "Por ejemplo, "
   ]
  },
  {
   "cell_type": "code",
   "execution_count": null,
   "id": "ce16f9eb-aa74-4ccd-8493-79d8c2cef463",
   "metadata": {},
   "outputs": [],
   "source": [
    "mi_primera_funcion <- function(x){\n",
    "  f <- sqrt(1-exp(-x^2))\n",
    "  return (f)\n",
    "}"
   ]
  },
  {
   "cell_type": "markdown",
   "id": "2ca1216b-a484-44df-8829-1809708888c9",
   "metadata": {},
   "source": [
    "Una vez guardada en un fichero la función creada, el comando `source(\"mi_primera_funcion.R\")` nos permitirá usarla cuando sea necesario. Notar que si la función no la hemos guardado en el directorio en el que estamos trabajando, al llamar a la función con la orden `source`, debemos indicar la ruta completa donde está guardada: `source(\"ruta_del_directorio_de_trabajo/mi_primera_funcion.R\")`. Como se ha indicado anteriormente, se recomienda crear un directorio de trabajo para las prácticas en el que vayamos guardando todo y utilizar la función `setwd()` para establecer ese directorio como el de trabajo en la sesión de R que tenemos abierta. De esta forma simplificamos el código de R ya que no tendremos que escribir la ruta completa cada vez que queramos llamar a una función propia, abrir un fichero de datos, guardar una figura, etc. \n",
    "\n",
    "Vamos a aplicar la función definida arriba al valor 3 de la forma: "
   ]
  },
  {
   "cell_type": "code",
   "execution_count": null,
   "id": "0681d146-4b2c-4b32-ba92-f1c11b05cb2b",
   "metadata": {},
   "outputs": [],
   "source": [
    "mi_primera_funcion(3)"
   ]
  },
  {
   "cell_type": "markdown",
   "id": "5b8f829f-dcc3-4ada-aab5-e591e8dd709b",
   "metadata": {},
   "source": [
    "<span style=\"color:blue\">\n",
    "<strong>PRACTICA TÚ MISMO</strong>\n",
    "</span>\n",
    "\n",
    "Crear una función que obtenga las soluciones de una ecuación de segundo grado. Y probarla para la ecuación $x^2+5x-16=0$"
   ]
  },
  {
   "cell_type": "markdown",
   "id": "e58507e3-62e8-4b27-87c6-294b53967c78",
   "metadata": {},
   "source": [
    "# Trabajar con ficheros de datos desde R\n",
    "\n",
    "Existen diferentes funciones de R para abrir ficheros de datos que debemos conocer ya que el uso de una u otra función depende del formato del fichero usado para guardar los datos. A continuación analizamos distintos casos.  \n",
    "\n",
    "## Cargar datos (ficheros .rda)\n",
    "Desde R se pueden cargar datos directamente de ficheros con formato propio de R. Estos ficheros tienen extensión **.rda**. La funcion `load()` nos permite cargar los datos contenidos en este tipo de ficheros.\n",
    "\n",
    "Como ejemplo, vamos a cargar desde R los datos del fichero *Pulsaciones.rda* disponible en la página web de la asignatura. Debemos indicar entre comillas el nombre del fichero. Recordar que si ese fichero no está en nuestro directorio de trabajo debemos indicar la ruta completa aunque siempre es mejor establecer al comienzo de cada programa nuestro directorio de trabajo con `setwd()`."
   ]
  },
  {
   "cell_type": "code",
   "execution_count": null,
   "id": "2889016b-272a-4984-9d44-e3c4e98138f8",
   "metadata": {},
   "outputs": [],
   "source": [
    "# Establecemos directorio de trabajo\n",
    "setwd(\"data/\") \n",
    "# Cargamos los datos\n",
    "load(\"Pulsaciones.rda\") \n",
    "# Muestra cabecera del data frame\n",
    "head(Pulsaciones)"
   ]
  },
  {
   "cell_type": "markdown",
   "id": "6d25787e-2942-497a-9acb-4d99d5640eb1",
   "metadata": {},
   "source": [
    "Si ejecutais esa orden desde RStudio, en la ventana superior derecha de RStudio titulada *Global Environment* aparece el data frame *Pulsaciones* que contiene registros de 92 personas de diferentes variables (visualizar el contenido haciendo doble click sobre Pulsaciones). \n",
    "\n",
    "A una parte de los individuos de esta muestra se les pidió que corrieran durante un tiempo y a otros no. La primera columna (*Pulso1*) contiene datos del pulso de cada individuo al inicio de la prueba, la columna 2 (*Pulso2*) recoge el pulso de los individuos al finalizar la prueba. La columna 3 (*Correr*) indica si el individuo es del grupo de los que corrieron en la prueba o no. La columna 4 (*Fumar*) recoge si fuma o no fuma, la columna 5 (*Sexo*) indica si es hombre o mujer. Las columnas 6 (*Altura*) y 7 (*Peso*) recogen los datos de la altura (cm) y el peso (Kg) respectivamente. Por último la columna 8 (*Actividad*) indica que tipo de actividad física realiza el individuo normalmente en su vida diaria: baja, media o alta.\n",
    "\n",
    "Además en RStudio se puede abrir un fichero con extensión .rda directamente desde el menú Archivo, opción Abrir fichero pero la función asociada a esa orden no quedaría guardada en nuestra script, por lo que siempre se recomienda el uso de la función `load()`."
   ]
  },
  {
   "cell_type": "markdown",
   "id": "741a8a1d-9fb5-4d6e-8077-1c33f251d298",
   "metadata": {},
   "source": [
    "## Importar datos\n",
    "\n",
    "Para utilizar otro tipo de datos guardados en ASCII (con extensión .csv o .txt por ejemplo), los cuáles no son ficheros de datos nativos de R, se necesita importar esos datos indicando ciertas características sobre el formato en el que están almacenados los datos en el fichero. Entre otras cosas nos interesa conocer si el fichero tiene cabeceras con los nombres de las columnas, como están separadas unas columnas de otras (espacios, la coma, punto y coma etc) o que carácter codifica el decimal (el punto, la coma). Para ello RStudio nos permite ver el contenido del fichero (sin cargar los datos) desde la opción *Abrir* del Menú *Archivo*. Otra opción para ver el contenido del fichero sería utilizar un editor de texto como el Block de Notas por ejemplo. \n",
    "\n",
    "Una vez que hemos visto el formato en el que están guardados los datos, podemos utilizar alguna de las funciones que se indican a continuación para importar esos datos, prestando especial atención a los argumentos que debemos especificar en cada una de ellas. \n",
    "\n",
    "Una función muy utilizada para importar este tipo de ficheros no nativos de R es `read.table()`. Esta función automáticamente convierte los datos en un data frame. Importamos ahora los datos del fichero *santander.txt* disponible en la web de la asignatura, asignando un nombre al data frame. Este fichero contiene los datos de temperatura media mensual medida en Santander\n",
    "desde 1950 hasta 2003."
   ]
  },
  {
   "cell_type": "code",
   "execution_count": null,
   "id": "51b0ed7b-9d44-46d0-8e22-b5f7a3dd46c7",
   "metadata": {},
   "outputs": [],
   "source": [
    "santander1 <- read.table(\"santander.txt\"); head(santander1)"
   ]
  },
  {
   "cell_type": "code",
   "execution_count": null,
   "id": "20cb26fb-a99a-4005-8033-7f5031145231",
   "metadata": {},
   "outputs": [],
   "source": [
    "santander2 <- read.table(\"santander.txt\", header=TRUE); head(santander2)"
   ]
  },
  {
   "cell_type": "markdown",
   "id": "b170ee19-2c04-4bdd-aa83-0593b234cb67",
   "metadata": {},
   "source": [
    "Comparar el resultado de estas dos órdenes. Fíjate bien en las diferencias e indica cuál es la correcta y por qué. "
   ]
  },
  {
   "cell_type": "markdown",
   "id": "3dc70adb-27d6-4684-a657-7b417fe7493e",
   "metadata": {},
   "source": [
    "Si consultas la ayuda de `read.table()` en las primeras líneas aparece lo siguiente: "
   ]
  },
  {
   "cell_type": "markdown",
   "id": "8b305a3c-b626-44fc-9d00-f7e98baa05c4",
   "metadata": {},
   "source": [
    "<div><img alt=\"\" src=\"./figuras/help_readtable.png\" width=\"700\"/></div>"
   ]
  },
  {
   "cell_type": "markdown",
   "id": "ba8bd8f4-8423-40d0-ae71-86f3e363439d",
   "metadata": {},
   "source": [
    "El argumento *header* debe ser TRUE o FALSE dependiendo de si la primera fila del fichero contiene el nombre de las variables o no. Por defecto en la función `read.table()` ese argumento toma el valor FALSE (no tiene cabeceras). Sin embargo, como ya vimos en el paso anterior cuando abrimos el fichero *santander.txt*, en la primera fila aparecen los nombres de las columnas, por lo que debemos indicar la opción *header=TRUE*. \n",
    "\n",
    "Otra opción disponible en esta función es *sep* que representa el delimitador o separador de campos (variables en este caso). Por defecto esta opción toma como separador de campos el espacio en blanco, pero se pueden especificar otros si es necesario. \n",
    "\n",
    "De forma parecida trabajan otras funciones como `read.csv()` o `read.csv2()`. Consultar la ayuda de estas funciones para ver que valores toman esos argumentos por defecto. \n",
    "\n",
    "Desde R también se pueden importar ficheros creados con la hoja de cálculo Excel de Microsoft Office, aquellos con extensión *.xls*. La funcion `read_xls()`, incluida en la librería `readxl()`, nos permite leer este tipo de ficheros. Cargar esa librería con el comando `library(\"readxl\")`. Si no está ya instalada en R esa librería, instalarla (una sola vez) con el\n",
    "comando `install.packages(\"readxl\")` y cargarla después. \n",
    "\n",
    "En cualquier caso también se pueden guardar los datos de los fichero *.xls* con formato *csv* desde una hoja de cálculo e importarlos después desde R con alguna de las funciones anteriores. \n",
    "\n",
    "Como vemos, dependiendo de como se han almacenado los datos en el fichero, la función que debemos usar para abrirlo desde R es distinta. En algunos casos también es posible hacerlo a través de ciertos menús de RStudio, pero resulta más conveniente el uso de las funciones ya que lo ideal es que estas órdenes queden guardadas en nuestro programa para usos futuros del código de R. "
   ]
  },
  {
   "cell_type": "markdown",
   "id": "82140262-cdf8-4155-8735-73332ebd34c1",
   "metadata": {},
   "source": [
    "<span style=\"color:blue\">\n",
    "<strong>PRACTICA TÚ MISMO</strong>\n",
    "</span>\n",
    "\n",
    "Abre una nueva script en RStudio. Utilizando los datos del fichero *Pulsaciones.rda*:\n",
    "1. Calcular el número de personas que miden menos de 183 cm.\n",
    "2. Calcular el porcentaje de personas que miden menos de 183 cm.\n",
    "3. Determinar las mujeres que miden menos de 170 cm."
   ]
  },
  {
   "cell_type": "markdown",
   "id": "d5397f7d-41e6-499e-9118-d228850afe67",
   "metadata": {},
   "source": [
    "# Representaciones gráficas\n",
    "\n",
    "Los gráficos básicos en 2-D se encuentran en el paquete base de R (plot, hist, boxplot, etc.). En la práctica siguiente analizaremos en detalles este tipo de gráficos, aquí solo mostramos algunas funciones básicas importantes de las representaciones gráficas como son:\n",
    "* `plot()`: por defecto genera un gráfico de puntos.\n",
    "* `lines()`: añade líneas a un gráfico.\n",
    "* `points()`: añade puntos a un gráfico.\n",
    "* `text()`: añade etiquetas de texto a un gráfico.\n",
    "* `title()`: añade un título, subtítulo o etiquetas a los ejes X e Y.\n",
    "* `axis()`: modifica los ticks de los ejes y sus etiquetas.\n",
    "\n",
    "Veamos un ejemplo usando el fichero de datos *Pulsaciones.rda* en el que vamos añadiendo distintos aspectos que mejoran el gráfico utilizando las funciones anteriores."
   ]
  },
  {
   "cell_type": "code",
   "execution_count": null,
   "id": "56e2a05a-da70-48af-8a68-e9b8f1764f7c",
   "metadata": {},
   "outputs": [],
   "source": [
    "attach(Pulsaciones)\n",
    "plot(Altura, Peso)"
   ]
  },
  {
   "cell_type": "markdown",
   "id": "139cfda8-b332-429e-b1a3-8882f1f73287",
   "metadata": {},
   "source": [
    "Ajustamos el rango de valores del eje Y con la opción *ylim* (lo mismo podríamos hacer con *xlim* para el eje X) y añadimos una línea horizontal en rojo para un valor del peso de 85 kg. El argumento *lwd* controla la anchura de la línea y *col* el color. Además incluimos con `points()` una cruz (el tipo de símbolo se controla con el argumento *pch*) para un peso de 85 Kg y una altura de 190 cm en color azul. "
   ]
  },
  {
   "cell_type": "code",
   "execution_count": null,
   "id": "169f85e7-2cad-4b85-a7fc-cc4a38a6aff7",
   "metadata": {},
   "outputs": [],
   "source": [
    "plot(Altura, Peso, ylim=c(40,100)) \n",
    "lines(c(160,190), c(85,85), col=\"red\", lwd=2)\n",
    "points(c(190), c(85), pch=3, col=\"blue\", lwd=3)"
   ]
  },
  {
   "cell_type": "markdown",
   "id": "2af95037-28bf-442c-9e9b-df8b062ab495",
   "metadata": {},
   "source": [
    "Podemos añadir más puntos en otro color, texto, título y diferentes colores a los ejes de la forma: "
   ]
  },
  {
   "cell_type": "code",
   "execution_count": null,
   "id": "27b2db38-6d0b-4a4d-a2c8-425105d0ed34",
   "metadata": {},
   "outputs": [],
   "source": [
    "plot(Altura, Peso, ylim=c(40,100)) \n",
    "lines(c(160,190), c(85,85), col=\"red\", lwd=2)\n",
    "points(c(190), c(85), pch=3, col=\"blue\", lwd=3)\n",
    "points(c(175,180), c(60,65), pch=3, col=\"green\", lwd=4)\n",
    "text(185, 60, \"Fake point\", col=\"darkgreen\", cex=2)\n",
    "title(main=\"Grafico de prueba\", cex.main=1.5)\n",
    "axis(1, col=\"purple\") # Eje X\n",
    "axis(2, col=\"orange\") # Eje Y"
   ]
  },
  {
   "cell_type": "markdown",
   "id": "4b2e2f9c-2b1d-4a91-8192-ee8cbde1bcb4",
   "metadata": {},
   "source": [
    "Existen muchos parámetros de estas funciones que pueden ser sobreescritos usando la función `par()` (consulta la ayuda para más detalles). Por ejemplo: "
   ]
  },
  {
   "cell_type": "code",
   "execution_count": null,
   "id": "2baef853-5f99-4ee7-b5be-c7d617841a4a",
   "metadata": {},
   "outputs": [],
   "source": [
    "plot(Altura, Peso) # Grafico original\n",
    "par(\"pch\") # Simbolo del gráfico usado por defecto.\n",
    "par(\"lwd\") # Anchura de línea usada por defecto\n",
    "par(pch=2) # Modifica el simbolo usado por defecto\n",
    "par(lwd=4) # Modifica la anchura de las lineas definida por defecto\n",
    "plot(Altura, Peso) # Al pintar de nuevo el grafico se incluyen los cambios anteriores\n",
    "detach(Pulsaciones)"
   ]
  },
  {
   "cell_type": "markdown",
   "id": "45b9b21f-9463-43c1-af84-c7a73648dc14",
   "metadata": {},
   "source": [
    "<span style=\"color:blue\">\n",
    "<strong>PRACTICA TÚ MISMO</strong>\n",
    "</span>\n",
    "\n",
    "El fichero de datos *santander.txt* contiene los datos de temperatura media mensual medida en Santander desde 1950 hasta 2003. Se pide:\n",
    "1. Representar las temperaturas medias registradas en febrero durante el periodo 1950-1960. A la vista del gráfico indicar en qué año se registró la temperatura más baja.\n",
    "2. Representar las temperaturas medias de julio y agosto (con distitno color) entre los años 1970 y 1980 (ambos incluidos) y encontrar gráficamente en qué años ésta fue mayor en julio."
   ]
  }
 ],
 "metadata": {
  "kernelspec": {
   "display_name": "R",
   "language": "R",
   "name": "ir"
  },
  "language_info": {
   "codemirror_mode": "r",
   "file_extension": ".r",
   "mimetype": "text/x-r-source",
   "name": "R",
   "pygments_lexer": "r",
   "version": "4.3.3"
  }
 },
 "nbformat": 4,
 "nbformat_minor": 5
}
