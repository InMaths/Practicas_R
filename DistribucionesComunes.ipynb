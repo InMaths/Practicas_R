{
 "cells": [
  {
   "cell_type": "markdown",
   "id": "ee5433b9-7510-403d-9c29-ffad96c51ac5",
   "metadata": {},
   "source": [
    "<div style=\"text-align: center; font-size: 30px;\">\n",
    "Prácticas de Estadística<br/>\n",
    "</div>\n",
    "<div style=\"text-align: center; font-size: 30px;\">\n",
    "Distribuciones de probabilidad comunes\n",
    "</div>\n",
    "<div style=\"text-align: center; font-size: 16px; font-style: italic\">\n",
    "Material elaborado por M. Dolores Frías, Jesús Fernández y Carmen M. Sordo profesores del Departamento de Matemática Aplicada y Ciencias de la Computación de la Universidad de Cantabria.\n",
    "</div>"
   ]
  },
  {
   "cell_type": "markdown",
   "id": "b77abfbd-c549-4202-82df-802ce74d5f59",
   "metadata": {},
   "source": [
    "# Objetivos\n",
    "\n",
    "El concepto de variable aleatoria nos permite trabajar matemáticamente con los resultados de un\n",
    "experimento aleatorio y caracterizar por completo la probabilidad de ocurrencia de cualquier suceso\n",
    "asociado al experimento. En la práctica, muchas situaciones se caracterizan por las mismas variables\n",
    "aleatorias (salvo algún parámetro a definir para ajustar la función de distribución a la situación\n",
    "concreta). Estas variables aleatorias comunes nos permiten abordar numerosas situaciones prácticas\n",
    "y resolver problemas realistas. \n",
    "\n",
    "El uso del ordenador, y de R en particular, nos va a permitir evaluar\n",
    "probabilidades de sucesos asociados a experimentos aleatorios comunes, incluyendo aquellas situaciones\n",
    "para las que no hemos visto una expresión analítica sencilla en la teoría. Además, nos permirirá simular\n",
    "muestras aleatorias de estos experimentos comunes y representar las funciones de probabilidad, densidad de probabilidad o de distribución de estas distribuciones.\n",
    "\n",
    "# Distribuciones de probabilidad en R\n",
    "\n",
    "En teoría hemos visto fórmulas analíticas para las funciones de probabilidad\n",
    "($p_X(x)$) o densidad de probabilidad ($f_X(x)$) de varios modelos de distribuciones comunes.\n",
    "Hay distribuciones para las que la función de distribución ($F_X(x)$), a pesar\n",
    "de ser fácilmente calculable mediante un sumatorio o una integral, resulta\n",
    "demasiado laboriosa como para realizarla a mano o con una calculadora de\n",
    "bolsillo. \n",
    "\n",
    "El paquete básico de R proporciona funciones de probabilidad, densidad de probabilidad y distribución para todas las variables aleatorias comunes vistas en clase y alguna más.\n",
    "\n",
    "La siguiente tabla muestra en negrita las distribuciones vistas en clase, junto con su nombre en R y los parámetros que se pueden pasar a las funciones. Como veis en la tabla hay más distribuciones comunes de las estudiadas en clase."
   ]
  },
  {
   "cell_type": "markdown",
   "id": "057a020b-4432-4e4e-bc8e-313e497968d4",
   "metadata": {},
   "source": [
    "<div><img alt=\"Resumen distribuciones comunes\" src=\"./figuras/tabla_distcomunes.png\" width=\"400\"/></div>"
   ]
  },
  {
   "cell_type": "markdown",
   "id": "ef739da9-3d5c-4fc7-8379-6f6d7c9e794f",
   "metadata": {
    "editable": true,
    "slideshow": {
     "slide_type": ""
    },
    "tags": []
   },
   "source": [
    "## Función de probabilidad y densidad de probabilidad\n",
    "\n",
    "Para cada una de estas variables aleatorias, R proporciona una función de\n",
    "probabilidad si la variable es discreta o de densidad de probabilidad si la variable es continua, añadiendo el prefijo `d` en ambos casos al nombre que R asigna a esa distribución común. En cada caso habrá que proporcionar,\n",
    "como mínimo, el valor de la variable para el que se quiere calcular la\n",
    "probabilidad o densidad de probabilidad además de los\n",
    "parámetros de la distribución común, de una forma muy parecida a la notación que\n",
    "usamos en clase. \n",
    "\n",
    "Como se observa en la tabla anterior, los parámetros de entrada son distintos para\n",
    "cada distribución por lo que se recomienda consultar la ayuda en cada caso.\n",
    "Por ejemplo la orden `?dbinom` nos indica el uso de esta función:"
   ]
  },
  {
   "cell_type": "code",
   "execution_count": null,
   "id": "436e3caa-cabc-4eb6-97dd-8f8280d72058",
   "metadata": {},
   "outputs": [],
   "source": [
    "?dbinom"
   ]
  },
  {
   "cell_type": "markdown",
   "id": "40fe9cc2-6648-4d47-bf46-bf9bdc60620f",
   "metadata": {
    "editable": true,
    "slideshow": {
     "slide_type": ""
    },
    "tags": []
   },
   "source": [
    "donde `x` representa el valor de la variable aleatoria para el que se quiere evaluar la función de probabilidad ($p_X(x)=P(X=x)$), `size` es el tamaño de la muestra (n) y `prob` es la probabilidad de éxito (p) del\n",
    "suceso de Bernoulli.\n",
    "\n",
    "Por ejemplo, para calcular la función de probabilidad binomial evaluada en 7, en el que tenemos 20 sucesos de Bernoulli independientes entre si y todos con la misma probabilidad de éxito 0.5, es decir \n",
    "\n",
    "$p_{B(20;0;5)}(7)\\equiv p_{B(7; 20 ; 0 ; 5)}$ \n",
    "\n",
    "ejecutamos la siguiente orden:"
   ]
  },
  {
   "cell_type": "code",
   "execution_count": null,
   "id": "bbf7a2c1-8d38-4e85-a5cf-5225a643b385",
   "metadata": {},
   "outputs": [],
   "source": [
    "# P(X=7) con X ~ B(20, 0.5)\n",
    "n <- 20\n",
    "p <- 0.5\n",
    "dbinom(7, n, p)"
   ]
  },
  {
   "cell_type": "markdown",
   "id": "d56dac86-73cf-4784-96eb-c6288c1662d9",
   "metadata": {},
   "source": [
    "Como sabemos, esta probabilidad se correspondería, por ejemplo, con la de obtener 7 caras en 20 lanzamientos de una moneda ya que en este experimento aleatorio la probabilidad de éxito es 0.5.\n",
    "\n",
    "Cuando la variables a estudio es una variable aleatoria continua, el prefijo d proporciona el valor de la función densidad de probabilidad evaluada en un valor concreto de esa variable aleatoria. Por ejemplo:\n"
   ]
  },
  {
   "cell_type": "code",
   "execution_count": null,
   "id": "567ad8fb-b2ca-4930-b13c-d66306832536",
   "metadata": {
    "scrolled": true
   },
   "outputs": [],
   "source": [
    "dnorm(170, 150, 0.8)"
   ]
  },
  {
   "cell_type": "markdown",
   "id": "23e64808-c3fb-46f4-97c2-462df3c0c5a7",
   "metadata": {},
   "source": [
    "proporciona el valor de la función de densidad de una variable aleatoria normal ($F_{N(150,0.8)}(170)$) con media 150 y desviación estándar 0.8, evaluada en 170.  \n",
    "\n",
    "## Función de distribución\n",
    "\n",
    "De la misma forma, mediante el prefijo `p`, obtenemos la función de distribución. \n",
    "\n",
    "Por ejemplo, la probabilidad de obtener 7 caras o menos en 20 lanzamientos de una moneda\n",
    "\n",
    "$F_{B(20;0;5)}(7)\\equiv F_{B(7;20;0;5)}$\n",
    "\n",
    "se obtiene en R como:"
   ]
  },
  {
   "cell_type": "code",
   "execution_count": null,
   "id": "f53b8617-6767-40cd-9d59-792c4ea2c903",
   "metadata": {},
   "outputs": [],
   "source": [
    "# P(X<=7) con X ~ B(20, 0.5)\n",
    "pbinom(7, 20, 0.5)"
   ]
  },
  {
   "cell_type": "markdown",
   "id": "c93120fe-f0ac-4d6f-ac69-4fc0eae78dec",
   "metadata": {},
   "source": [
    "Nótese que, de nuevo, el primer argumento de la función es el valor de la variable aleatoria para el que queremos evaluar la función de distribución y, a continuación, los parámetros necesarios en el orden en que aparecen en\n",
    "la tabla anterior.\n",
    "\n",
    "Para entender mejor como calcular las distintas opciones de R vamos a resolver un ejercicio tipo como los de los ejemplos resueltos en clase. De esta manera podemos usar R para comprobar los resultados que obtengamos aplicando\n",
    "las fórmulas vistas en clase. \n",
    "\n",
    "*Un lote de procesadores de ordenador contiene un 40% de unidades defectuosas. Cuando se detecta el error ya han sido instalados todos los procesadores del lote en los ordenadores. Por esta razón el responsable del departamento de calidad decide realizar una revisión de algunos ordenadores que incorporan un\n",
    "procesador de dicho lote. Considerará que un ordenador es defectuoso si lo es\n",
    "el procesador.*\n",
    "\n",
    "1. *Calcular la probabilidad de que menos de 4 equipos lleven instalado un procesador defectuoso de un total de 20 ordenadores revisados.*\n",
    "\n",
    "La variable aleatoria X representa el número de ordenadores defectuosos de un total de 20 revisados. Esta variable sigue una distribución binomial, B(n=20, p=0.4), ya que el experimento consiste en repetir sucesos de Bernoulli (el experimento de analizar un ordenador tiene dos posibles resultados: éxito (tiene instalado un procesador defectuoso) o fracaso (el procesador está bien)), además estos sucesos son independientes y todos tienen la misma probabilidad de éxito p=0.4.\n",
    "\n",
    "Luego la probabilidad que nos piden es $P(X\\leq 3) = F_{B(20,0.4)}(3)$: "
   ]
  },
  {
   "cell_type": "code",
   "execution_count": null,
   "id": "2f89baf4-af5d-4e10-a0de-e4796077911e",
   "metadata": {},
   "outputs": [],
   "source": [
    "# P(X<=3) con X ~ B(20, 0.4)\n",
    "n <- 20\n",
    "p <- 0.4\n",
    "pbinom(3,n,p)"
   ]
  },
  {
   "cell_type": "markdown",
   "id": "13ee9c45-1189-4f12-85bd-bfc07fb02a29",
   "metadata": {},
   "source": [
    "Es decir, la probabilidad de que menos de 4 ordenadores lleven instalado un procesador defectuoso de un total de 20 ordenadores revisados es de 0.01596116.\n",
    "\n",
    "Nótese que, el primer argumento de la función es el valor de la variable aleatoria en el que queremos evaluar la función de distribución y, a continuación, los parámetros necesarios en el orden en que aparecen en la tabla anterior (`size, prob`).\n",
    "\n",
    "2. *¿Y la probabilidad de que más de 3 sean defectuosos?*\n",
    "   \n",
    "Nuestra variable aleatoria X es la misma, número de ordenadores defectuosos de un total de 20 revisados, sigue comportándose como una distribución binomial, B(n=20, p=0.4). La probabilidad que debemos calcular en este caso será $P(X>3) = 1-F_{B(20,0.4)}(3)$ que vendrá dada por:"
   ]
  },
  {
   "cell_type": "code",
   "execution_count": null,
   "id": "1e4ce049-b18e-4fe2-b3e3-4372db11fe98",
   "metadata": {},
   "outputs": [],
   "source": [
    "# P(X>3) con X ~ B(20, 0.4)\n",
    "1-pbinom(3,n,p)"
   ]
  },
  {
   "cell_type": "markdown",
   "id": "1f19febe-a95a-4ded-abe2-f1db07f05557",
   "metadata": {},
   "source": [
    "Obtenemos que la probabilidad de que más de 3 ordenadores lleven instalado un procesador defectuoso de un total de 20 ordenadores revisados es de 0.9840388.\n",
    "\n",
    "Si nos fijamos en la ayuda obtenida antes, esta función permite calcular P(X>3) directamente cambiando el argumento `lower.tail` a FALSE. "
   ]
  },
  {
   "cell_type": "code",
   "execution_count": null,
   "id": "5be55fae-058c-4f51-ab58-2a91a918e1ec",
   "metadata": {},
   "outputs": [],
   "source": [
    "pbinom(3,n,p, lower.tail=FALSE)"
   ]
  },
  {
   "cell_type": "markdown",
   "id": "bcf59e57-d0cd-4425-9a12-b80c3d416ba6",
   "metadata": {},
   "source": [
    "3. *¿Y la probabilidad de que 5 de esos 20 ordenadores revisados sean defectuosos?*\n",
    "   \n",
    "Nuestra variable aleatoria tampoco cambia en este caso X cuenta el número de ordenadores defectuosos de un total de 20 revisados que sigue una distribución binomial, B(n=20, p=0.4). Sin embargo en este caso debemos calcular $P(X=5) = p_{B(20,0.4)}(5)$ que vendrá dada por:"
   ]
  },
  {
   "cell_type": "code",
   "execution_count": null,
   "id": "641543b1-1e2f-47a1-9eba-df8f29fdeeaf",
   "metadata": {},
   "outputs": [],
   "source": [
    "# P(X=5) con X ~ B(20, 0.4)\n",
    "dbinom(5,n,p)"
   ]
  },
  {
   "cell_type": "markdown",
   "id": "9fb5e6f1-f444-4de0-9151-eaca290956fd",
   "metadata": {},
   "source": [
    "Por tanto, la probabilidad de que 5 ordenadores lleven instalado un procesador defectuoso de un total de 20 ordenadores revisados es de 0.07464702.\n",
    "\n",
    "4. *Calcular la probabilidad de encontrar el primer ordenador defectuoso al examinar el séptimo equipo.*\n",
    "\n",
    "En este caso la variable aleatoria si cambia ya que en este experimento estamos interesados en contar el número de ordenadores revisados hasta encontrar el primero defectuoso. Esta nueva variable que llamaremos Y, sigue una distribución geométrica, G(p=0.4) ya que cuenta el número de sucesos de Bernoulli realizados, independientes entre si y con la misma probabilidad de éxito, hasta que aparece el primer éxito (procesador defectuoso).\n",
    "\n",
    "La probabilidad que debemos calcular será $P(Y = 7) = p_{G(0,4)}(7)$ que calculada con la formulación vista en clase resulta ser 0.0186624.\n",
    "\n",
    "Como vereis en la ayuda de la distribución geométrica (`?dgeom`), R define la variable geométrica de forma distinta a como lo hemos hecho en clase ya que considera la variable aleatoria (K) como el número de fracasos antes de obtener el primer éxito en una serie de sucesos de Bernouilli independientes y con la misma probabilidad individual de éxito. \n",
    "\n",
    "En teorı́a hemos definido la variable geométrica, como aquella que cuenta el número de intentos hasta el primer éxito. Es decir, $Y = K + 1$ (K no cuenta el éxito) y la función de probabilidad vista en teorı́a se puede obtener de la que da R a partir de:\n",
    "\n",
    "$p_Y(y) = P(Y = y) = P(K + 1 = y) = P(K = y − 1) = p_K(y − 1)$\n",
    "\n",
    "De acuerdo con esta definición si K es la variable aleatoria número de fracasos hasta obtener el primer éxito, en R la probabilidad que nos piden calcular ($P(K = 6)$) vendrá dada por:"
   ]
  },
  {
   "cell_type": "code",
   "execution_count": null,
   "id": "c0131db1-a848-4139-a1ce-8fd4ffd8db9b",
   "metadata": {},
   "outputs": [],
   "source": [
    "# P(Y=7) con Y ~ G(0.4)\n",
    "dgeom(6,0.4)"
   ]
  },
  {
   "cell_type": "markdown",
   "id": "0757ef45-457b-42e5-8489-03c45aaac7e3",
   "metadata": {},
   "source": [
    "Como vemos, se trata de una versión desplazada de la que usamos en teorı́a. Podrı́amos definir unas funciones de R nuevas que nos permitan hacer los cálculos según la definición de variable aleatoria geométrica que manejamos en teoría de la forma:"
   ]
  },
  {
   "cell_type": "code",
   "execution_count": null,
   "id": "95d6abe3-4561-4031-ae2f-6355dd5b85af",
   "metadata": {},
   "outputs": [],
   "source": [
    "# Funcion de probabilidad de G(p)\n",
    "dG <- function(x,p) {dgeom(x-1,p)}\n",
    "# Funcion de distribucion de G(p)\n",
    "pG <- function(x,p) {pgeom(x-1,p)}"
   ]
  },
  {
   "cell_type": "markdown",
   "id": "aa4b9f3d-a332-4235-9a89-49637dd0961a",
   "metadata": {},
   "source": [
    "y de esta manera el valor de la probabilidad que nos piden $P(Y = 7)$ se calcuları́a como:"
   ]
  },
  {
   "cell_type": "code",
   "execution_count": null,
   "id": "748819b3-f2d2-434c-8630-450a9048fa8d",
   "metadata": {},
   "outputs": [],
   "source": [
    "# P(Y=7) con Y ~ G(0.4)\n",
    "dG(7,0.4)"
   ]
  },
  {
   "cell_type": "markdown",
   "id": "3b02e7ca-4ffd-46d6-8386-814cacccb28f",
   "metadata": {},
   "source": [
    "resultando que la probabilidad de encontrar el primer ordenador defectuoso al examinar el séptimo equipo es de 0.0186624.\n",
    "\n",
    "5. *Calcular la probabilidad de que el décimo ordenador revisado sea el cuarto no defectuoso.*\n",
    "   \n",
    "En este caso definimos una nueva variable aleatoria W, que será el número de ordenadores revisados hasta encontrar el cuarto ordenador defectuoso. Esta variable sigue una distribución binomial negativa, BN(r=4,p=0.6) ya que contamos el número de sucesos de Bernoulli realizados, independientes entre si y con la misma probabilidad de éxito, hasta que aparece el cuarto éxito (procesador defectuoso).\n",
    "\n",
    "La probabilidad que debemos calcular será $P(W = 10) = p_{BN(4,0,6)}(10)$ que calculada con la formulación vista en teorı́a resulta ser 0.04459069.\n",
    "\n",
    "Si consultais la ayuda de la distribución Binomial Negativa que ofrece R (`?dnbinom`), observareis que esta distribución considera como variable aleatoria K el número de fracasos antes de obtener un número r de éxitos en vez de la definición que hemos utilizado en clase para la variable binomial negativa que cuenta el número de intentos hasta conseguir el éxito r. Es decir, $W = K + r$. \n",
    "\n",
    "La variable K sigue también una distribución binomial negativa cuya función de probabilidad es de la forma\n",
    "\n",
    "$ p_K(k)=\\left(\\begin{array}{c}\n",
    "k+r-1\\\\r-1\n",
    "\\end{array}\\right) p^r (1-p)^k,\\;\\; k\\geq 0\n",
    "$\n",
    "\n",
    "De acuerdo con esta definición, en R la probabilidad que nos piden calcular vendrá dada por:"
   ]
  },
  {
   "cell_type": "code",
   "execution_count": null,
   "id": "688423d5-d006-42e7-b641-3f231c2276b7",
   "metadata": {},
   "outputs": [],
   "source": [
    "# P(W=10) con W ~ BN(4,0.4)\n",
    "dnbinom(6,4,0.6)"
   ]
  },
  {
   "cell_type": "markdown",
   "id": "6e171a1e-0f68-4c73-83a9-fb157729f966",
   "metadata": {},
   "source": [
    "resultando que la probabilidad de que el décimo ordenador revisado sea el cuarto no defectuoso es de 0.04459069."
   ]
  },
  {
   "cell_type": "markdown",
   "id": "8e03a8fb-2fed-4d9a-b66a-2c7833e5744a",
   "metadata": {},
   "source": [
    "La definición de R de la variable aleatoria hipergeométrica, tampoco es idéntica a la vista en clase. Al igual que hicimos para la variable geométrica, se pueden definir en R funciones para representar las definiciones de las variables binomial negativa e hipergeométrica vistas en teorı́a. Utilizar la ayuda de R para ver las definiciones de estas dos variables (`?dhyper` y `?dnbinom`)."
   ]
  },
  {
   "cell_type": "markdown",
   "id": "5abc78d5-538d-4510-9a8d-88dd1ddb7009",
   "metadata": {},
   "source": [
    "## Función cuantil\n",
    "\n",
    "Para cada una de las variables aleatorias indicadas, se puede obtener la función cuantil ($F_X^{-1}(p)$) mediante el prefijo `q`. \n",
    "\n",
    "Tomando como ejemplo el primer apartado del ejercicio de los procesadores, en el que obteníamos que $P(X\\leq 3) = F_{B(20,0.4)}(3)=0.01596116$, podemos obtener el menor valor de $X$ ($c$) tal que $P(X\\le c)> 0.01596116$ dado que $X\\sim B(20,0.4)$:"
   ]
  },
  {
   "cell_type": "code",
   "execution_count": null,
   "id": "dbddbe6b-09b9-470d-8959-9284f22e5b94",
   "metadata": {},
   "outputs": [],
   "source": [
    "# P(X<=c) con X ~ B(20, 0.4)\n",
    "qbinom(0.01596116,n,p)"
   ]
  },
  {
   "cell_type": "markdown",
   "id": "831bddf6-150b-4914-9407-bc86204285f1",
   "metadata": {},
   "source": [
    "que resulta ser 3 equipos. Nótese que, en este caso, el primer argumento es la probabilidad y a continuación se colocan los argumentos en el orden indicado en la tabla.\n",
    "\n",
    "El primer cuartil de esa misma distribución vendrá dado por:"
   ]
  },
  {
   "cell_type": "code",
   "execution_count": null,
   "id": "26f35d04-4ffb-4e25-a9c2-24885a153528",
   "metadata": {},
   "outputs": [],
   "source": [
    "# Q1 con X ~ B(20, 0.4)\n",
    "qbinom(0.25,n,p)"
   ]
  },
  {
   "cell_type": "markdown",
   "id": "9d8d7522-a9e5-4793-a0d1-8c12c7adb281",
   "metadata": {},
   "source": [
    "Se puede comprobar que realmente el valor de la variable x=6 es el primer cuartil: "
   ]
  },
  {
   "cell_type": "code",
   "execution_count": null,
   "id": "78f5b1e9-fd39-405a-a009-a807a9b76367",
   "metadata": {},
   "outputs": [],
   "source": [
    "# P(X<=5) con X ~ B(20, 0.4)\n",
    "pbinom(5,n,p)"
   ]
  },
  {
   "cell_type": "markdown",
   "id": "08092c19-46b2-4e7c-8253-e174fd4647ff",
   "metadata": {},
   "source": [
    "para x=5, el valor de función de distribución es menor de 0.25 luego calculamos que ocurre con x=6: "
   ]
  },
  {
   "cell_type": "code",
   "execution_count": null,
   "id": "10736481-ad63-4c91-851a-b76c567be7d4",
   "metadata": {},
   "outputs": [],
   "source": [
    "# P(X<=6) con X ~ B(20, 0.4)\n",
    "pbinom(6,n,p)"
   ]
  },
  {
   "cell_type": "markdown",
   "id": "59173c71-4b49-494d-805f-9d521550f48c",
   "metadata": {},
   "source": [
    "aqui se supera el valor 0.25, luego Q1=6 ordenadores. \n",
    "\n",
    "Como ya comentamos antes, en R la definición de una variable geométrica, es una version desplazada de la que usamos en teorı́a, por lo que podrı́amos también definir una nueva función de R para calcular los cuantiles para esta distribución de acuerdo a la definición de clase:"
   ]
  },
  {
   "cell_type": "code",
   "execution_count": null,
   "id": "06ce225f-33ed-4daa-9fbb-07d22346dae2",
   "metadata": {},
   "outputs": [],
   "source": [
    "# Funcion cuantil de G(p)\n",
    "qG <- function(x,p) {1+qgeom(x,p)}"
   ]
  },
  {
   "cell_type": "markdown",
   "id": "8e93a744-3100-4f60-8f6c-928afaa08605",
   "metadata": {},
   "source": [
    "Que podríamos usar por ejemplo para determinar la mediana ($C_{0.5}$) de una distribución G(0.4)."
   ]
  },
  {
   "cell_type": "code",
   "execution_count": null,
   "id": "0d9fe2fe-e5be-414a-91b2-68d71e4fa81e",
   "metadata": {},
   "outputs": [],
   "source": [
    "# P(Y<=y)>=0.5 con Y ~ G(0.4)\n",
    "qG(0.5,0.4)"
   ]
  },
  {
   "cell_type": "markdown",
   "id": "2c5fb98e-aac0-4fbe-ad22-22411fda9d08",
   "metadata": {},
   "source": [
    "<div class=\"alert alert-block alert-info\">\n",
    "<strong>PRACTICA TÚ MISMO</strong>\n",
    "\n",
    "- Definir unas nuevas funciones (BN y HG, con prefijos d, p y q) que correspondan con las definiciones vistas en clase para la binomial negativa e hipergeométrica.\n",
    "    \n",
    "- Dada una variable aleatoria X que sigue una B(200,0.4). Se pide:\n",
    "  1. $P(X<71)$\n",
    "  2. $P(X\\geq 90)$\n",
    "  3. $F_X(100)$\n",
    "  4. $P(X\\leq x)\\geq0.4$\n",
    "  5. $P(X\\geq x)\\geq0.8$\n",
    "  6. $P(X=60)$\n",
    "     \n",
    "</n>\n",
    "\n",
    "- Una variable aleatoria X se distribuye uniformemente en el intervalo (2, 4). Se pide:\n",
    "  1. $P(X<2.5)$\n",
    "  2. $P(X\\geq 3.2)$\n",
    "  3. $P(2.2 < X < 3.5)$\n",
    "  4. $P(X\\leq x)=0.4$\n",
    "  5. $P(X\\geq x)=0.8$\n",
    "  6. $F_X(2.7)$\n",
    "\n",
    "</n>\n",
    "\n",
    "- La centralita telefónica de un hotel recibe un número de llamadas por minuto que sigue una ley de Poisson con\n",
    "parámetro $\\lambda=0.5$. Determinar la probabilidad de que en un minuto al azar:\n",
    "  1. se reciba una única llamada.\n",
    "  2. se reciban un máximo de dos llamadas.\n",
    "  3. la centralita quede bloqueada, sabiendo que no puede realizar más de 3 conexiones por minuto.\n",
    "\n",
    "</div>"
   ]
  },
  {
   "cell_type": "markdown",
   "id": "3c94765b-9456-41df-b2c6-9132c506c465",
   "metadata": {},
   "source": [
    "## Muestras aleatorias\n",
    "\n",
    "Por último, el prefijo `r` (abreviatura de *random*) nos permite obtener valores aleatorios (random) de una determinada variable aleatoria. Es decir, nos permite obtener valores concretos $x$ de una variable aleatoria $X$. O, dicho de otra forma, simular un experimento que siga una cierta distribución. \n",
    "\n",
    "Con las funciones de distribución comunes podemos simular experimentos con variables contínuas y discretas con un campo de existencia infinito numerable. \n",
    "\n",
    "Por ejemplo podemos obtener una muestra aleatoria tomada de una distribución binomial $B(20,0.5)$:"
   ]
  },
  {
   "cell_type": "code",
   "execution_count": null,
   "id": "486bbd09-c634-45e8-a231-ae667ca2afa0",
   "metadata": {},
   "outputs": [],
   "source": [
    "# Valores aleatorios de X ~ B(20,0.5)\n",
    "n <- 20\n",
    "p <- 0.5\n",
    "rbinom(10,n,p)"
   ]
  },
  {
   "cell_type": "markdown",
   "id": "beba0d8a-bb24-4ca9-a70a-d23750ee695c",
   "metadata": {},
   "source": [
    "Estos serían 10 posibles resultados de un experimento binomial en el que se realizan 20 experimentos de Bernoulli con probabilidad de éxito 0.5. Es decir el primer valor indica cuantos éxitos se han obtenido al realizar 20 experimentos de Bernoulli. Cada vez que se repite el comando anterior, los valores obtenidos cambian ya que se trata de un experimento aleatorio.  \n",
    "\n",
    "De la misma forma se pueden obtener muestras aleatorias de cualquier otra distribución:"
   ]
  },
  {
   "cell_type": "code",
   "execution_count": null,
   "id": "d236713c-208c-48ee-884a-3769165697fe",
   "metadata": {},
   "outputs": [],
   "source": [
    "rnorm(15)          # Muestra de tamaño 15 de N(0,1)\n",
    "rnorm(10, 165, 5)  # Muestra de tamaño 10 de N(165,sd=5)\n",
    "rpois(10, 5)       # Muestra de tamaño 10 de Po(5)"
   ]
  },
  {
   "cell_type": "markdown",
   "id": "75344bd2-f5b5-4b82-84f9-de7938efc23b",
   "metadata": {},
   "source": [
    "Como veis las funciones de R correspondientes a la distribución normal toman como parámetros la media y la desviación estándar, no la varianza. Además en el caso en el que estemos trabajando con la distribución normal estándar (N(0,1)) no es necesario indicar estos dos parámetros ya que son los que toma por defecto.\n",
    "\n",
    "# Representando distribuciones de probabilidad\n",
    "\n",
    "En R es posible dibujar las funciones de distribución (o cualquier otra función)\n",
    "mediante la función `curve`. Por ejemplo, para dibujar la función\n",
    "de densidad normal tipificada entre -4 y 4, utilizaremos:"
   ]
  },
  {
   "cell_type": "code",
   "execution_count": null,
   "id": "6c744088-43c2-4622-8467-d7efb8306743",
   "metadata": {},
   "outputs": [],
   "source": [
    "# N(0,1)\n",
    "curve(dnorm(x), -4, 4)"
   ]
  },
  {
   "cell_type": "markdown",
   "id": "8ebf3555-153c-4972-b922-01adaadf52f5",
   "metadata": {},
   "source": [
    "El nombre `x` que colocamos como primer argumento lo utiliza la función `curve` y lo interpreta como la variable independiente a representar.\n",
    "\n",
    "Podemos mejorar un poco el aspecto del gráfico utilizando los argumentos habituales en funciones de representación. Por ejemplo, etiquetar los ejes (con `xlab` e `ylab`), cambiar el color (`col`) o la anchura (`lwd`) de la línea o ponerle un título (`main`) al gráfico:"
   ]
  },
  {
   "cell_type": "code",
   "execution_count": null,
   "id": "62d82504-5072-4dc2-a667-8512f5ae068d",
   "metadata": {},
   "outputs": [],
   "source": [
    "curve(dnorm(x), from=-4, to=4, col=\"red\", lwd=3, ylab=\"Densidad de probabilidad\", main=\"Función densidad de probabilidad de una N(0,1)\")"
   ]
  },
  {
   "cell_type": "markdown",
   "id": "904a7b15-f46d-494f-9dc7-21933c38d513",
   "metadata": {},
   "source": [
    "Podemos añadir otra curva al mismo gráfico con el argumento `add=TRUE` :"
   ]
  },
  {
   "cell_type": "code",
   "execution_count": null,
   "id": "858b296f-51b0-44bf-8c72-e384f8c415be",
   "metadata": {},
   "outputs": [],
   "source": [
    "# N(0,1)\n",
    "curve(dnorm(x), from=-4, to=4, col=\"red\", lwd=3, ylab=\"Densidad de probabilidad\")\n",
    "# t(4)\n",
    "curve(dt(x, 4), col=\"blue\", lwd=3, add=TRUE)"
   ]
  },
  {
   "cell_type": "markdown",
   "id": "e350c72c-9eaf-403a-81c2-8b6db9897c72",
   "metadata": {},
   "source": [
    "En este caso hemos añadido la función de densidad de la variable t de Student con 4 grados de libertad. Esta es otra ditribución común también con forma de campana. \n",
    "\n",
    "Ya que aparecen dos líneas en el mismo gráfico, debemos distinguirlas mediante una leyenda:"
   ]
  },
  {
   "cell_type": "code",
   "execution_count": null,
   "id": "b904cbc5-6406-477d-9164-eb2844211f3e",
   "metadata": {},
   "outputs": [],
   "source": [
    "# N(0,1)\n",
    "curve(dnorm(x), from=-4, to=4, col=\"red\", lwd=3, ylab=\"Densidad de probabilidad\")\n",
    "# t(4)\n",
    "curve(dt(x, 4), col=\"blue\", lwd=3, add=TRUE)\n",
    "legend(-4, 0.4, legend=c(\"N(0,1)\", \"t(4)\"), col=c(\"red\",\"blue\"), lwd=3)"
   ]
  },
  {
   "cell_type": "markdown",
   "id": "5ab63720-34a1-4128-af99-ea5365f0b768",
   "metadata": {},
   "source": [
    "Los dos primeros argumentos de la función `legend` dan la posición de la esquina superior izquierda de la leyenda. La gráfica resultante muestra las dos funciones de densidad: la distribución N(0,1) en rojo y t de Student con 4 grados de libertad en azul.\n",
    "\n",
    "Cambiando el valor de los grados de libertad, se puede ver como la variable t de Student tiende a la normal tipificada a medida que aumentamos los grados de libertad.\n",
    "\n",
    "Para dibujar una función de probabibilidad discreta podemos utilizar la función `plot`. Por ejemplo, para representar la función de probabilidad binomial B(n=30, p=0.5), (que podría representar la función de probabilidad de la variable aleatoria que cuenta el número de caras al lanzar una moneda 30 veces), podemos ejecutar los siguientes comandos:"
   ]
  },
  {
   "cell_type": "code",
   "execution_count": null,
   "id": "297b06bf-dc99-43d0-a01f-45ca58ca2036",
   "metadata": {},
   "outputs": [],
   "source": [
    "# Funcion de probabilidad B(30,0.5)\n",
    "n <- 30\n",
    "p <- 0.5\n",
    "x.i <- 0:n\n",
    "plot(x.i, dbinom(x.i,n,p), type=\"h\", lwd=4, xlab=\"x\", \n",
    "     ylab=expression('p'[B(n,p)]*'(x)'), main=\"Función de probabilidad, B(30,0.5)\")"
   ]
  },
  {
   "cell_type": "markdown",
   "id": "2bc73ded-a35d-4fe5-91a4-a7f29760a4a8",
   "metadata": {},
   "source": [
    "En la Figura anterior, como cabía esperar, se observa que hay una mayor probabilidad de obtener el mismo número de caras que de cruces, mientras que es muy poco probable obtener todas o casi todas caras así como ninguna o\n",
    "casi ninguna cara. Probar a cambiar el valor de p en el código anterior para valores próximos a 0 o próximos a 1. Observar los cambios en el gráfico. \n",
    "\n",
    "Cabe destacar como en el código anterior se ha utilizado el argumento\n",
    "`type=\"h\"` para que la función `plot` dibuje impulsos en cada valor\n",
    "en lugar de unir los puntos con líneas. \n",
    "\n",
    "Las funciones de distribución de variables discretas se pueden dibujar con sus saltos definiendo la siguiente función:"
   ]
  },
  {
   "cell_type": "code",
   "execution_count": null,
   "id": "df2f57f1-322b-4960-a0fb-862e4d2a1664",
   "metadata": {},
   "outputs": [],
   "source": [
    "dibuja.FX.discreta <- function(pdist, rng, ...){\n",
    "x.i <- seq(floor(rng[1]),ceiling(rng[2]))\n",
    "x.i <- x.i[pdist(x.i, ...)-pdist(x.i-1, ...)!=0]\n",
    "y.i <- pdist(x.i, ...)\n",
    "ym1.i <- pdist(x.i-1, ...)\n",
    "plot(2,xlim=rng, ylim=c(0,1),xlab=\"x\",ylab=\"Funcion de distribucion\")\n",
    "segments(x.i, y.i, x.i+1, y.i, lwd=2)\n",
    "segments(rng[1],0,x.i[1],0, lwd=2)\n",
    "segments(x.i[length(x.i)], 1, rng[2],1, lwd=2)\n",
    "segments(x.i, ym1.i, x.i, y.i, lty=\"dotted\")\n",
    "points(x.i, y.i, pch=20)\n",
    "}"
   ]
  },
  {
   "cell_type": "markdown",
   "id": "aa6ac2fc-53d2-4f7e-b465-9e82a9d86e3d",
   "metadata": {},
   "source": [
    "a la que llamaremos en el siguiente código que representa la función de distribución de una B(10,0.8): "
   ]
  },
  {
   "cell_type": "code",
   "execution_count": null,
   "id": "8d52198d-d630-4c49-9f4e-7dbf4e76fb05",
   "metadata": {},
   "outputs": [],
   "source": [
    "rango <- c(-1,15) # Rango a dibujar\n",
    "# FX(x) con X~B(10,0.8)\n",
    "dibuja.FX.discreta(pbinom, rango, 10,0.8)"
   ]
  },
  {
   "cell_type": "markdown",
   "id": "8bbb5982-40ea-497a-b0cb-bbc3824bed2b",
   "metadata": {},
   "source": [
    "Y en este caso para representar la función de distribución de una Po(5):"
   ]
  },
  {
   "cell_type": "code",
   "execution_count": null,
   "id": "375c3124-8e74-41f7-897a-2841eaa16924",
   "metadata": {},
   "outputs": [],
   "source": [
    "# FX(x) con X~Po(5)\n",
    "dibuja.FX.discreta(ppois, rango, 5)"
   ]
  },
  {
   "cell_type": "markdown",
   "id": "7c1f5939-a72a-40e5-abec-9b3a1ff4976a",
   "metadata": {},
   "source": [
    "Podemos combinar la función anterior con la función `curve` para comprobar como la distribución binomial tiende a la normal cuando n es suficientemente\n",
    "grande y la p no está proxima a 0 ni a 1:"
   ]
  },
  {
   "cell_type": "code",
   "execution_count": null,
   "id": "6818c81c-8fab-48ea-8021-26da6db0272b",
   "metadata": {},
   "outputs": [],
   "source": [
    "# B(30,0.5)\n",
    "n <- 30\n",
    "p <- 0.5\n",
    "rango <- c(5,25)\n",
    "media <- n*p\n",
    "desv <- sqrt(n*p*(1-p))\n",
    "# FX(x) con X~B(30,0.5)\n",
    "dibuja.FX.discreta(pbinom, rango, n, p)\n",
    "# Aproximacion Normal\n",
    "curve(pnorm(x,media,desv), col=\"red\", add=TRUE)\n",
    "# Aproximacion Normal con correccion por continuidad\n",
    "curve(pnorm(x+0.5,media,desv), col=\"blue\", add=TRUE)\n",
    "# Error aproximacion\n",
    "lines(0:n, abs(pbinom(0:n,n,p)-pnorm(0:n,media,desv)), type=\"h\",lwd=3)"
   ]
  },
  {
   "cell_type": "markdown",
   "id": "c27c5bc9-d3ac-442a-a59b-221ea61c8654",
   "metadata": {},
   "source": [
    "En la gráfica resultante está representa la función de distribución de una variable B(30, 0.5) en negro y su aproximación con la distribución normal con y sin corrección por continuidad en azul y rojo respectivamente. \n",
    "\n",
    "Las barras verticales dibujadas en la parte inferior del gráfico indican el error que se comente al aproximar esa distribución binomial por una normal, el cual se calcula en la misma función `lines` del código anterior."
   ]
  },
  {
   "cell_type": "markdown",
   "id": "8089c26e-c7a1-45fa-8297-0069a9842a12",
   "metadata": {},
   "source": [
    "<div class=\"alert alert-block alert-info\">\n",
    "<strong>PRACTICA TÚ MISMO</strong>\n",
    "\n",
    "- Si lanzamos un dado 288 veces, calcúlese la probabilidad de obtener 5 ó 6 puntos más de 90 veces y menos de 120.\n",
    "Comprobar el valor obtenido mediante la representación de la función de distribución asociada a este experimento.\n",
    "     \n",
    "</n>\n",
    "\n",
    "- Un ingeniero tiene una probabilidad 0.02 de cometer un error de consideración al realizar un proyecto. \n",
    "  1. Determinar la probabilidad de cometer 2 errores si realiza 20 proyectos.\n",
    "  2. Calcular la probabilidad de cometer el primer error al realizar el sexto proyecto.\n",
    "  3. Si cometer 10 errores supone su expulsión de la empresa, calcular la probabilidad de ser expulsado si realiza 40 proyectos.\n",
    "  4. ¿y la de ser explusado tras realizar el proyecto número 15?\n",
    "\n",
    "</n>\n",
    "\n",
    "- La estatura de 1000 estudiantes de bachillerato está distribuida normalmente con una media de 168 cm y una desviación típica de 5 cm. \n",
    "    1. Representar la función de densidad de esta distribución.\n",
    "    2. Entre qué valores en torno a la media se encontrará el 95% de los alumnos.\n",
    "    3. Entre qué valores en torno a la media se encontrará el 50% de los alumnos.\n",
    "    4. A partir de qué altura se encontrará el 15% de los alumnos más cualificados.\n",
    "    5. A partir de qué altura se encontrá el 5% de los alumnos más cualificados. \n",
    "\n",
    "</div>"
   ]
  }
 ],
 "metadata": {
  "kernelspec": {
   "display_name": "R",
   "language": "R",
   "name": "ir"
  },
  "language_info": {
   "codemirror_mode": "r",
   "file_extension": ".r",
   "mimetype": "text/x-r-source",
   "name": "R",
   "pygments_lexer": "r",
   "version": "4.3.3"
  }
 },
 "nbformat": 4,
 "nbformat_minor": 5
}
