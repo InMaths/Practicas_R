{
 "cells": [
  {
   "cell_type": "markdown",
   "id": "ee5433b9-7510-403d-9c29-ffad96c51ac5",
   "metadata": {},
   "source": [
    "<div style=\"text-align: center; font-size: 30px;\">\n",
    "Prácticas de Estadística<br/>\n",
    "</div>\n",
    "<div style=\"text-align: center; font-size: 30px;\">\n",
    "Inferencia y Contraste de Hipótesis\n",
    "</div>\n",
    "<div style=\"text-align: center; font-size: 16px; font-style: italic\">\n",
    "Material elaborado por M. Dolores Frías, Jesús Fernández y Carmen M. Sordo profesores del Departamento de Matemática Aplicada y Ciencias de la Computación de la Universidad de Cantabria.\n",
    "</div>"
   ]
  },
  {
   "cell_type": "markdown",
   "id": "b77abfbd-c549-4202-82df-802ce74d5f59",
   "metadata": {},
   "source": [
    "# Objetivos\n",
    "\n",
    "En esta práctica vamos a utilizar las opciones de R para aplicar el análisis inferencial ya sea para calcular intervalos de confianza o resolver contraste de hipótesis. Como ya hemos visto en clase, vamos a estudiar una muestra pequeña y representativa de la población, para extraer conclusiones sobre parámetros de la población. En particular nos vamos a centrar en obtener información de las principales características de la\n",
    "población como son la proporción, la media y la varianza.\n",
    "\n",
    "En cuanto a la forma de calcular intervalos de confianza, en R no hay una función  específica para calcularlos sino que forman parte de la información que se general al programar un contraste de hipótesis.\n",
    "\n",
    "# Significado del intervalo de confianza\n",
    "\n",
    "Comenzaremos analizando el significado del intervalo de confianza. El objetivo del  intervalo de confianza es dar una cierta garantía de la presencia del parámetro de la población dentro de un intervalo construido a partir de una muestra.\n",
    "\n",
    "Podemos plantearnos la siguiente pregunta: ¿Es 0.5 la probabilidad de obtener cara al lanzar una moneda?\n",
    "\n",
    "Para contestar esta cuestión vamos a realizar el siguiente experimento:\n",
    "\n",
    "Lanzamos una moneda 30 veces, y estimamos el valor de la proporción de obtener caras al lanzar una moneda (P) a partir de la proporción de caras obtenidas (p=pest) en esos 30 lanzamientos. Como ya sabemos de prácticas anteriores, podemos simular el lanzamiento de las 30 monedas con la función `rbinom` ya que tenemos 30 sucesos de Bernouilli, todos independientes entre si y con la misma probabilidad de éxito (P=0.5):\n"
   ]
  },
  {
   "cell_type": "code",
   "execution_count": null,
   "id": "436e3caa-cabc-4eb6-97dd-8f8280d72058",
   "metadata": {},
   "outputs": [],
   "source": [
    "n <- 30 # 30 lanzamientos de una moneda\n",
    "P <- 0.5 # Probabilidad de obtener cara en un lanzamiento\n",
    "pest <- rbinom(1,n,P)/n; pest # Proporcion muestral"
   ]
  },
  {
   "cell_type": "markdown",
   "id": "40fe9cc2-6648-4d47-bf46-bf9bdc60620f",
   "metadata": {
    "editable": true,
    "slideshow": {
     "slide_type": ""
    },
    "tags": []
   },
   "source": [
    "Repetimos el experimento de lanzar 30 veces la moneda 50 veces (m=50) y calculamos la proporción de caras obtenidas para cada una de los m experimentos."
   ]
  },
  {
   "cell_type": "code",
   "execution_count": null,
   "id": "bbf7a2c1-8d38-4e85-a5cf-5225a643b385",
   "metadata": {},
   "outputs": [],
   "source": [
    "m <- 50  # veces que se repite el experimento\n",
    "pest <- rbinom(m,n,P)/n; pest # Proporcion muestral para cada experimento"
   ]
  },
  {
   "cell_type": "markdown",
   "id": "d56dac86-73cf-4784-96eb-c6288c1662d9",
   "metadata": {},
   "source": [
    "En la variable `pest` se guarda la proporción de caras obtenidas al lanzar 30 monedas en cada uno de los 50 experimentos realizados.\n",
    "\n",
    "Fijamos el nivel de confianza $1-\\alpha = 0.95$ y, asumiendo que la distribución de  proporciones muestrales sigue una Normal ya que n es suficientemente grande, calculamos el intervalo de confianza correspondiente a  cada una de las 50 muestras de la forma:\n",
    "\n",
    "$p \\pm z_{\\alpha/2} \\sqrt {{{p(1-p)} \\over n}}$ "
   ]
  },
  {
   "cell_type": "code",
   "execution_count": null,
   "id": "567ad8fb-b2ca-4930-b13c-d66306832536",
   "metadata": {
    "scrolled": true
   },
   "outputs": [],
   "source": [
    "# Nivel de significacion\n",
    "alfa <- 0.05 \n",
    "z <- qnorm(1-alfa/2)\n",
    "e <- z*sqrt(pest*(1-pest)/n); e # Valor del error para cada experimento"
   ]
  },
  {
   "cell_type": "markdown",
   "id": "23e64808-c3fb-46f4-97c2-462df3c0c5a7",
   "metadata": {},
   "source": [
    "Representamos los m = 50 intervalos de confianza resultantes con el comando:"
   ]
  },
  {
   "cell_type": "code",
   "execution_count": null,
   "id": "f53b8617-6767-40cd-9d59-792c4ea2c903",
   "metadata": {},
   "outputs": [],
   "source": [
    "# Intervalos de confianza\n",
    "matplot(rbind(pest-e, pest+e),rbind(1:m,1:m),type=\"l\",lty=1, xlim=c(0,1),\n",
    "        ylab=\"m\", xlab=\"[p-e, p+e]\", main=\"Confidence intervals of P\")"
   ]
  },
  {
   "cell_type": "markdown",
   "id": "c93120fe-f0ac-4d6f-ac69-4fc0eae78dec",
   "metadata": {},
   "source": [
    "Marcamos con una línea vertical el valor P=0.5"
   ]
  },
  {
   "cell_type": "code",
   "execution_count": null,
   "id": "2f89baf4-af5d-4e10-a0de-e4796077911e",
   "metadata": {},
   "outputs": [],
   "source": [
    "# Intervalos de confianza\n",
    "matplot(rbind(pest-e, pest+e),rbind(1:m,1:m),type=\"l\",lty=1, xlim=c(0,1),\n",
    "        ylab=\"m\", xlab=\"[p-e, p+e]\", main=\"Confidence intervals of P\")\n",
    "# Añadimos linea vertical \n",
    "abline(v=P)"
   ]
  },
  {
   "cell_type": "markdown",
   "id": "13ee9c45-1189-4f12-85bd-bfc07fb02a29",
   "metadata": {},
   "source": [
    "¿Qué observas? ¿El intervalo de confianza depende de la muestra elegida? \n",
    "\n",
    "¿Todos los intervalos de confianza dibujados atrapan a la proporción de la población (P)?"
   ]
  },
  {
   "cell_type": "markdown",
   "id": "04cd981a-36a9-4556-b9a1-835bbe96ccf1",
   "metadata": {},
   "source": [
    "<div class=\"alert alert-block alert-info\">\n",
    "<strong>PRACTICA TÚ MISMO</strong>\n",
    "\n",
    "Realizar ahora el experimento 10000 veces y comprobar con que probabilidad el valor de la proporción poblacional se encuentran dentro del intervalo de confianza calculado para cada muestra. Debéis programar con R este cálculo determinando el número de intervalos obtenidos que contienen a P. Probar para diferentes niveles de confianza (95% y 99%). \n",
    "\n",
    "¿Qué ocurre con los intervalos de confianza obtenidos si se aumenta o disminuye el nivel de confianza?\n",
    "\n",
    "¿Qué porcentaje de intervalos contienen el valor de la proporción 0.5? ¿Qué relación existe entre ese porcentaje y el nivel de confianza considerado?\n",
    "\n",
    "Prueba ahora lo siguiente. Para un nivel de confianza dado (por ejemplo 0.95), ¿qué ocurre con el intervalo de confianza cuando aumentas el tamaño de la muestra? Prueba con los valores n=100 y 300 por ejemplo. \n",
    "</div>\n"
   ]
  },
  {
   "cell_type": "markdown",
   "id": "1f19febe-a95a-4ded-abe2-f1db07f05557",
   "metadata": {},
   "source": [
    "# Inferencia y contraste de hipótesis con una muestra\n",
    "\n",
    "En esta práctica vamos a ver como realizar con R la estimación y contraste de parámetros de una sola población. En particular nos centraremos en tres parámetros: proporción, media y varianza de la población.\n",
    "\n",
    "## 1. Proporciones\n",
    "\n",
    "### Intervalo de confianza de proporciones\n",
    "\n",
    "Como sabemos una opción para poder calcular proporciones, es considerar una muestra de una variable tipo factor, para que podamos agrupar los individuos según ese factor o  categoría. También es posible calcular proporciones para una variable numérica determinando cuantos elementos cumplen una determinada condición establecida, por ejemplo que la variable sea menor o mayor que un determinado valor.\n",
    "\n",
    "El fichero de datos *Pulsaciones.rda* con el que ya hemos trabajado, contiene varias columnas que son factores y nos permitirán calcular fácilmente valores de la proporción. En concreto, las columnas *Corre*, *Fuma* y *Sexo* son variables categóricas que clasifican a las personas según una cierta propiedad (haber corrido en la prueba o no, fumar o no, ser hombre o mujer) por lo que podremos calcular la proporción de personas con\n",
    "esa propiedad en nuestra muestra (estimación puntual) y el intervalo de confianza para esa proporción en la población.\n",
    "\n",
    "Vamos a estimar la proporción de la población (P) mediante una estimación puntual y un intervalo de confianza para el siguiente ejemplo utilizando los datos de *Pulsaciones.rda*. Para ello en primer lugar debéis cargar correctamente los datos de ese fichero, como ya hemos hecho en prácticas anteriores. Una vez cargados los datos en R, estimamos puntualmente la proporción de individuos que fuman de la población (P)."
   ]
  },
  {
   "cell_type": "code",
   "execution_count": null,
   "id": "5be55fae-058c-4f51-ab58-2a91a918e1ec",
   "metadata": {},
   "outputs": [],
   "source": [
    "# Establecemos directorio de trabajo\n",
    "setwd(\"data/\") \n",
    "# Cargamos los datos\n",
    "load(\"Pulsaciones.rda\")\n",
    "attach(Pulsaciones)\n",
    "# Calculo de la proporcion de fumadores\n",
    "fuman <- sum(Fumar==\"fuma\")\n",
    "n <- length(Fumar)\n",
    "p <- fuman/n; p"
   ]
  },
  {
   "cell_type": "markdown",
   "id": "bcf59e57-d0cd-4425-9a12-b80c3d416ba6",
   "metadata": {},
   "source": [
    "Del resultado anterior obtenemos la estimación puntual de la proporción de fumadores de la población que resulta de 0.304. \n",
    "\n",
    "Como sabemos la estimación puntual no nos informa sobre la precisión de esa estimación de P. Para solventar este aspecto vamos a estimar P a partir del intervalo de confianza, el cuál si que proporciona información acerca de la confianza con la estamos estimando el parámetro de la población.\n",
    "   \n",
    "Pogramamos con R el cálculo del intervalo de confianza para la proporción de individuos que fuman en la población con una confianza del 95% utilizando la fórmulación vista en clase:\n",
    "\n",
    "$p \\pm z_{\\alpha/2} \\sqrt {{{p(1-p)} \\over n}}$"
   ]
  },
  {
   "cell_type": "code",
   "execution_count": null,
   "id": "641543b1-1e2f-47a1-9eba-df8f29fdeeaf",
   "metadata": {},
   "outputs": [],
   "source": [
    "# Intervalo de confianza de la proporcion de fumadores\n",
    "alfa <- 0.05\n",
    "z <- qnorm(1-alfa/2)\n",
    "e <- z*sqrt(p*(1-p)/n)\n",
    "conclusion <- \"La proporcion de fumadores de la poblacion se encuentra en el intervalo\"\n",
    "sprintf(\"%s [%6.3f, %6.3f] con una confianza del %2d%s\", conclusion, p-e, p+e, (1-alfa)*100, \"%\")"
   ]
  },
  {
   "cell_type": "markdown",
   "id": "9fb5e6f1-f444-4de0-9151-eaca290956fd",
   "metadata": {},
   "source": [
    "Con la función `sprintf` podemos escribir una conclusión final mezclando caracteres (`strings` que se indican con `%s`) con valores numéricos ya sean números reales (`%6.3f`) o enteros (`%2d`). Por ejemplo `%6.3f` incluiria en la salida un número real (f de flotante) con 6 caracteres de los cuales 3 son decimales. Los valores numéricos o caracteres que se asignan a cada orden de esa línea que comienza con un % son los que aparecen al final entre comas.\n",
    "\n",
    "En R existe una función (`prop.test`) que permite calcular la estimación puntual y por intervalos de P además de, como veremos más adelante, resolver contrastes de hipótesis de proporciones. "
   ]
  },
  {
   "cell_type": "code",
   "execution_count": null,
   "id": "c0131db1-a848-4139-a1ce-8fd4ffd8db9b",
   "metadata": {},
   "outputs": [],
   "source": [
    "prop.test(fuman, n, conf.level=1-alfa)"
   ]
  },
  {
   "cell_type": "markdown",
   "id": "0757ef45-457b-42e5-8489-03c45aaac7e3",
   "metadata": {},
   "source": [
    "El resultado nos muestra gran cantidad de información. Sin embargo, al estar interesados en la estimación puntual y por intervalos de la proporción de fumadores de la población, solo nos interesa el resultado obtenido del intervalo de confianza para el nivel de confianza dado (`95 percent confidence interval:`) que resulta ser [0.2149697, 0.4102950] y la estimación puntual de la proporción de fumadores de la población (`sample estimates: p`) cuyo valor es 0.3043478.\n",
    "\n",
    "Compara este resultado del intervalo de confianza, con el valor calculado antes en el que programamos con R la fórmula de clase. La diferencia que se observa es debida a que en R la fórmula implementada en la función `prop.test` para el cálculo del intervalo de confianza de una proporción viene dada por el *intervalo de Wilson*:\n",
    "\n",
    "$\\frac{{{p + \\frac{{1}}{{2n}}  z_{\\alpha / 2}^2  \\pm z_{\\alpha / 2} \\sqrt {\\frac{{p\\left( {1 - p} \\right)}}{n} + \\frac{{z_{\\alpha / 2}^2}} {{4n^2}} }} }} {{ {1 + \\frac{{1}}{n}} z_{\\alpha / 2}^2 }}$\n",
    "\n",
    "Esta es una versión mejorada de la aproximación normal que hemos visto en teoría. Mientras que la estimación vista en teoría sólo debe considerarse bajo las condiciones que conocemos, el intervalo de Wilson da\n",
    "buenos resultados incluso con tamaños de muestra pequeños.\n",
    "\n",
    "Además, como se muestra en la ayuda de `prop.test`, esta función aplica por defecto la corrección por continuidad de Yates (`correct=TRUE`) que nosotros tampoco hemos considerado en teoría."
   ]
  },
  {
   "cell_type": "markdown",
   "id": "3b02e7ca-4ffd-46d6-8386-814cacccb28f",
   "metadata": {},
   "source": [
    "### Contraste de proporciones\n",
    "\n",
    "Como hemos comentado antes, `prop.test` también nos permite resolver contrastes de hipótesis de proporciones configurando de forma adecuada los distintos argumentos de la función. Consultar la ayuda de `prop.test` para ver todos los argumentos que admite.\n",
    "\n",
    "En este sentido nos podemos plantear si, a partir de la muestra, se acepta o no la hipótesis nula de que la proporción de fumadores es igual a la de no fumadores, es decir $H_0: P=0.5$ y por tanto la hipótesis alternativa vendrá dada como que la proporción de fumadores de la población es distinta a ese valor $H_1: P\\neq 0.5$. Se trata por tanto de un contraste bilateral de proporciones el cual se programa en la función `prop.test` con el argumento `alternative=\"two.sided\"`. Además debemos incluir que el valor a contrastar es 0.5 con el argumento `p=0.5`.\n"
   ]
  },
  {
   "cell_type": "code",
   "execution_count": null,
   "id": "688423d5-d006-42e7-b641-3f231c2276b7",
   "metadata": {},
   "outputs": [],
   "source": [
    "prop.test(fuman, n, alternative = \"two.sided\", p=0.5, conf.level=1-alfa)"
   ]
  },
  {
   "cell_type": "markdown",
   "id": "6e171a1e-0f68-4c73-83a9-fb157729f966",
   "metadata": {},
   "source": [
    "Estos dos argumentos (`alternative=\"two.sided\"` y `p=0.5`) son los que toma por defecto la función por lo que el resultado que obtenemos es exactamente el mismo que antes. Es decir, al calcular el intervalo de confianza anterior estábamos también resolviendo ese contraste bilateral.\n",
    "\n",
    "Centrémonos ahora en el resultado obtenido para el p-valor que es el que nos va a permitir decidir si se acepta o se rechaza la hipótesis nula. Según el contraste de hipótesis planteado, en el que se pone en duda si la proporción de fumadores de la población es igual a la de no fumadores ($H_0:P=0.5$, $H_1:P \\neq 0.5$), observamos que la muestra con la que hemos trabajado ha dado evidencias suficientes para rechazar la hipótesis nula con una confianza del 95%, ya que el p-valor (`p-value = 0.0002633`) es menor que el $\\alpha$ considerado (0.05). Por tanto se acepta la hipótesis alternativa, es decir, aceptamos que el 50% de la población no son fumadores con una confianza del 95%.\n",
    "\n",
    "A esta misma conclusión llegamos si en vez de analizar el p-valor consideramos el resultado obtenido para el intervalo de confianza, ya que en este ejemplo se plantea un contraste bilateral. Se observa que el intervalo de confianza obtenido no incluye al valor $P=0.5$, luego, como no podía ser de otra forma, se llega a la misma conclusión. \n",
    "\n",
    "De la misma manera que hemos aplicado el contraste para este ejemplo en el que la hipótesis alternativa es de desigualdad, se podrían definir las hipótesis de un contrastes unilateral (por la izquierda o por la derecha), de acuerdo al problema analizado, sin más que definir de forma adecuada el tipo de hipótesis alternativa en la opción `alternative` y asignar el valor correspondiente a contrastar. Consultar la ayuda de `prop.test` para determinar los valores posibles de la opción `alternative` dependiendo del tipo de contraste. En particular el argumento `alternative` se debe igualar al valor *less* para indicar que se trata de un contraste unilateral por la izquierda o al valor *greater* para indicar un contraste unilateral por la derecha."
   ]
  },
  {
   "cell_type": "markdown",
   "id": "8e03a8fb-2fed-4d9a-b66a-2c7833e5744a",
   "metadata": {},
   "source": [
    "<div class=\"alert alert-block alert-info\">\n",
    "<strong>PRACTICA TÚ MISMO</strong>\n",
    "    \n",
    "- Con los datos del fichero *Pulsaciones.rda*:\n",
    "  1. Calcular el intervalo de confianza para la proporción de mujeres que fuman con una confianza del 95%.\n",
    "  2. Según los resultados obtenidos en el apartado anterior, se puede aceptar la hipótesis de que la proporción de mujeres que fuman es la misma que las que no fuman. Justifica la respuesta.\n",
    "  3. Calcular el intervalo de confianza para la proporción de individuos con Pulso2 superando las 100 pulsaciones de entre los que corrieron, con una confianza del 95%.\n",
    "  4. Calcular el intervalo de confianza para la proporción de individuos con altura superior a 180 y peso superior a 85kg, con una confianza del 99%.\n",
    "\n",
    "<br>\n",
    "\n",
    "  - Cierta medicina en tabletas ha sido comprobada eficaz en el alivio de una alergia en al menos el 60% de los pacientes. El fabricante ha desarrollado una versión soluble del producto y desea comprobar si la medicina en esta forma es igual de eficaz. Se toma una muestra de 40 personas que tienen la alergia. El nuevo producto alivió a 19 de ellos. ¿Hay suficiente evidencia para sugerir que la introducción de la versión soluble ha alterado la eficacia de la medicina? Realiza el contraste usando $\\alpha=0.01$ y encuentra el nivel crítico del contraste (p-valor).\n",
    "\n",
    "</div>\n"
   ]
  },
  {
   "cell_type": "markdown",
   "id": "5abc78d5-538d-4510-9a8d-88dd1ddb7009",
   "metadata": {},
   "source": [
    "## 2. Medias\n",
    "\n",
    "### Intervalo de confianza de medias\n",
    "\n",
    "El intervalo de confianza de medias en R también se obtiene a partir de la función que resuelve contrastes de hipótesis de medias `t.test`, planteando un contraste bilateral. Consultar la ayuda de esta función para conocer que argumentos admite.\n",
    "\n",
    "Para familiarizarnos con la función `t.test`, vamos a seguir trabajando con los datos del fichero *pulsaciones.rda* para estimar el intervalo de confianza de la altura media de la población para un $\\alpha=0.05$. La orden a ejecutar en este caso sería:"
   ]
  },
  {
   "cell_type": "code",
   "execution_count": null,
   "id": "dbddbe6b-09b9-470d-8959-9284f22e5b94",
   "metadata": {},
   "outputs": [],
   "source": [
    "# Intervalo de confianza de medias\n",
    "alfa <- 0.05\n",
    "t.test(Altura, conf.level=1-alfa)"
   ]
  },
  {
   "cell_type": "markdown",
   "id": "831bddf6-150b-4914-9407-bc86204285f1",
   "metadata": {},
   "source": [
    "donde entre otros valores aparecen calculados los dos que nos interesan: el intervalo de confianza de la media poblacional (*95 percent confidence interval*) y su estimador puntual (la media muestral, *mean of x*).\n",
    "\n",
    "R calcula el intervalo de confianza mediante la expresión $\\bar{x} \\pm t_{n-1,\\alpha/2}\\frac{S}{\\sqrt{n}}$ que es el más adecuado cuando no se conoce la varianza poblacional (caso más habitual). El cuantil $t_{n-1,\\alpha/2}$ se puede calcular como `qt(1-alfa/2,n-1)`. Es decir, podríamos haber obtenido el mismo resultado del intervalo de confianza ejecutando los siguientes comandos:"
   ]
  },
  {
   "cell_type": "code",
   "execution_count": null,
   "id": "26f35d04-4ffb-4e25-a9c2-24885a153528",
   "metadata": {},
   "outputs": [],
   "source": [
    "# Intervalo de confianza de medias\n",
    "x <- Altura\n",
    "n <- length(x)\n",
    "t <- qt(1-alfa/2,n-1)\n",
    "lim.inf <- mean(x) - t*sd(x)/sqrt(n)\n",
    "lim.sup <- mean(x) + t*sd(x)/sqrt(n)\n",
    "conclusion <- \"La altura media de la poblacion se encuentra en el intervalo\"\n",
    "sprintf(\"%s [%6.3f, %6.3f] con una confianza del %2d%s\", conclusion, lim.inf, lim.sup, (1-alfa)*100, \"%\")"
   ]
  },
  {
   "cell_type": "markdown",
   "id": "9d8d7522-a9e5-4793-a0d1-8c12c7adb281",
   "metadata": {},
   "source": [
    "Sin embargo la función `t.test` simplifica el cálculo (una sola línea de código) y además nos proporciona mucha más información.\n",
    "\n",
    "\n",
    "### Contraste de medias\n",
    "\n",
    "Analicemos ahora un ejemplo para ver como resolver contrastes de hipótesis de una media con la función `t.test`, a través del p-valor.\n",
    "\n",
    "*Estudios recientes afirman que la altura de la población a estudio es superior a 180 cm. A la vista de la muestra recogida en el fichero *Pulsaciones.rda* ¿podemos aceptar dicha hipótesis con un nivel de confianza del 99%?*\n",
    "\n",
    "En este caso el contraste que se plantea es el siguiente:\n",
    "\n",
    "$H_0: \\mu\\geq 180$\n",
    "\n",
    "$H_1: \\mu< 180$\n",
    "\n",
    "Como vemos se trata de un contraste unilateral por la izquierda en el que el valor de $\\mu$ a contrastar es de $180$ cm. Por tanto la orden a ejecutar será:"
   ]
  },
  {
   "cell_type": "code",
   "execution_count": null,
   "id": "78f5b1e9-fd39-405a-a009-a807a9b76367",
   "metadata": {},
   "outputs": [],
   "source": [
    "# Contraste unilateral izquierdo de medias\n",
    "t.test(Altura, alternative='less', mu=180, conf.level=.99)"
   ]
  },
  {
   "cell_type": "markdown",
   "id": "59173c71-4b49-494d-805f-9d521550f48c",
   "metadata": {},
   "source": [
    "La opción *alternative* se iguala ahora al valor *less* para indicar que se trata de un contraste unilateral por la izquierda. Además a se ha incluido el argumento *mu=180* con el valor a contrastar.\n",
    "\n",
    "En la consola obtenemos el valor del estadístico de contraste (t), el número de grados de libertad (`df`, del inglés *degree of freedom*) y el p-valor entre otros. Del valor obtenido para el p-valor (`p-value = 6.845e-08`) se puede concluir que la muestra analizada muestra evidencias suficientes para rechazar la hipótesis nula con una confianza del 99\\%, ya que obtenemos un p-valor menor que el nivel de significación considerado en este ejemplo (0.01). Por tanto, se acepta que la altura de la población a estudio es menor de 180 cm con una confianza del 99%."
   ]
  },
  {
   "cell_type": "markdown",
   "id": "2c5fb98e-aac0-4fbe-ad22-22411fda9d08",
   "metadata": {},
   "source": [
    "<div class=\"alert alert-block alert-info\">\n",
    "<strong>PRACTICA TÚ MISMO</strong>\n",
    " \n",
    "- Con los datos del fichero *Pulsaciones.rda*:\n",
    "\n",
    "  1. Calcular el intervalo de confianza para el peso medio de las mujeres con $\\alpha=0.05$.\n",
    "  2. Determinar el intervalo de confianza para la media del incremento del pulso (Pulso2-Pulso1) para los individuos que corrieron $\\alpha=0.1$.\n",
    "  3. Estudios recientes afirman que la altura media de las mujeres de esta población es $\\mu=167$ cm. A la vista de estos datos, ¿podemos aceptar dicha hipótesis con un nivel de confianza del 99%? Justificar el resultado.\n",
    "     \n",
    "</n>\n",
    "\n",
    "- En cincuenta días lectivos consecutivos y a la misma hora se ha observado el número de terminales de una universidad conectados a internet. Los resultados están en el fichero *terminales.dat*. En base a esos datos,\n",
    "\n",
    "  1. Dar los intervalos de confianza al 95% y 99.5% para el número medio de terminales conectados a internet. Comentar los resultados. \n",
    "  2. Suponiendo que la población sigue una distribución normal, calcular intervalos de confianza al 90% y 95% para la varianza del número de terminales conectados a internet. NOTA: En R no existe una función que calcule intervalos de confianza de una varianza por lo que debéis programar una función que devuelva los valores del límite inferior y el superior del intervalo de confianza según la formulación vista en clase y así tenerla disponible para aplicarla en cualquier otro ejemplo.\n",
    "\n",
    "</n>\n",
    "\n",
    "- El pH del suelo es una variable importante cuando se diseñan estructuras que estarán en contacto con el terreno. El propietario de un solar posible lugar de construcción afirma que el pH del suelo no es superior a 6.5. Se han tomado 9 muestras del suelo del terreno, obteniéndose los siguientes resultados: 7.3 6.5 6.4 6.1 6 6.5 6.2 5.8 6.7.\n",
    "  \n",
    "  Suponiendo que la variable pH sigue una distribución normal, responde a las siguientes cuestiones.  \n",
    "  1. Hallar un intervalo de confianza para el pH medio con un nivel de significación del 10%.\n",
    "  2. ¿Se puede aceptar la afirmación del propietario del solar con un riesgo de $\\alpha=0.05$?\n",
    "\n",
    "</div>"
   ]
  }
 ],
 "metadata": {
  "kernelspec": {
   "display_name": "R",
   "language": "R",
   "name": "ir"
  },
  "language_info": {
   "codemirror_mode": "r",
   "file_extension": ".r",
   "mimetype": "text/x-r-source",
   "name": "R",
   "pygments_lexer": "r",
   "version": "4.3.3"
  }
 },
 "nbformat": 4,
 "nbformat_minor": 5
}
