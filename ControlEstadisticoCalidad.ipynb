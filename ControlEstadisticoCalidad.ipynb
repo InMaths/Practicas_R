{
 "cells": [
  {
   "cell_type": "markdown",
   "id": "ee5433b9-7510-403d-9c29-ffad96c51ac5",
   "metadata": {},
   "source": [
    "<div style=\"text-align: center; font-size: 30px;\">\n",
    "Prácticas de Estadística<br/>\n",
    "</div>\n",
    "<div style=\"text-align: center; font-size: 30px;\">\n",
    "Gráficos de control estadístico de la calidad\n",
    "</div>\n",
    "<div style=\"text-align: center; font-size: 16px; font-style: italic\">\n",
    "Material elaborado por M. Dolores Frías, Jesús Fernández y Carmen M. Sordo profesores del Departamento de Matemática Aplicada y Ciencias de la Computación de la Universidad de Cantabria.\n",
    "</div>"
   ]
  },
  {
   "cell_type": "markdown",
   "id": "b77abfbd-c549-4202-82df-802ce74d5f59",
   "metadata": {},
   "source": [
    "# Objetivos\n",
    "\n",
    "En esta práctica vamos a utilizar R para representar los gráficos de control de Shewhart. En particular nos centraremos solo en los tipos de gráficos vistos en clase: gráficos c, gráficos np y gráficos X y R.              \n",
    "\n",
    "Consideraremos una serie de ejemplos que nos permitan hacer los cálculos\n",
    "necesarios para representar las variables correspondientes en los gráficos de\n",
    "control. Además veremos como seleccionar las opciones más adecuadas en las\n",
    "representaciones gráficas con R de forma que se pueda concluir si el sistema\n",
    "analizado está en estado de control o fuera de control.\n",
    "\n",
    "En R existe un paquete específico de control de calidad con el que se pueden\n",
    "representar los gráficos de Shewhart. Se trata del paquete *Quality\n",
    "Control Charts* (*qcc*) que debemos instalar (si no lo está ya con la orden `install.packages(\"qcc\")`) y cargar (`library(qcc)`). Recordar que la instalación solo debe hacerse una vez, mientras que la librería se debe cargar en cada sesión que abramos de R en la que queramos usar dicha librería.\n",
    "\n",
    "En esta práctica vamos a comparar los gráficos que proporciona la librería `qcc` con los que podemos obtener cuando programamos las fórmulas vistas en clase. Vereis que es mucho más eficiente utilizar esta librería. "
   ]
  },
  {
   "cell_type": "code",
   "execution_count": null,
   "id": "54760928-b7fa-422b-a116-2cd9fcf8b8b0",
   "metadata": {},
   "outputs": [],
   "source": [
    "# Instalacion de la libreria\n",
    "install.packages(\"qcc\")\n",
    "# Carga de la libreria\n",
    "library(qcc)"
   ]
  },
  {
   "cell_type": "markdown",
   "id": "5f29045e-3155-4dfd-af82-7d1414d2a14e",
   "metadata": {},
   "source": [
    "# Gráfico c\n",
    "\n",
    "Comenzaremos analizando en detalle como obtener la representación del gráfico c a través de un ejemplo. Recordad que este tipo de gráfico analiza el número total de defectos durante sucesivos intervalos de tiempo o espacio de longitud fija.\n",
    "\n",
    "*Un pequeño restaurante de carretera ha recogido todos los meses durante dos años el número de quejas que ha recidido en relación a los servicios que presta. Realiza un gráfico de control e indica si el proceso se encuentra bajo control o no, utilizando los datos recogidos en el fichero quejas.xls*.\n",
    "\n",
    "En primer lugar cargamos el fichero de datos. La función `read_excel` incluida en el paquete `readxl` nos permite leer ficheros de excel (.xls). Como ya sabemos también es posible guardar esos datos en formato *csv* desde una hoja de cálculo e importar los datos de ese fichero .csv directamente desde R con las órdenes que ya conocemos. "
   ]
  },
  {
   "cell_type": "code",
   "execution_count": null,
   "id": "3c0b22b4-20ef-405b-984c-a5eb8867a491",
   "metadata": {},
   "outputs": [],
   "source": [
    "install.packages(\"readxl\") # Ejecutar solo si gdata no esta instalada.\n",
    "library(readxl) # Contiene la funcion read_excel"
   ]
  },
  {
   "cell_type": "code",
   "execution_count": null,
   "id": "c97b3667-6c32-44c6-b0c9-7c6d8f0396ba",
   "metadata": {},
   "outputs": [],
   "source": [
    "# Establecemos directorio de trabajo\n",
    "setwd(\"data/\") \n",
    "# Se importan los datos\n",
    "quejas <- read_excel(\"quejas.xls\")\n",
    "attach(quejas)\n",
    "head(quejas) # Muestra las primeras filas del fichero"
   ]
  },
  {
   "cell_type": "markdown",
   "id": "87874266-87b9-4d3d-9603-bf0672480bc2",
   "metadata": {},
   "source": [
    "La variable a analizar en este caso es el número de quejas al mes que se reciben en el restaurante. Al tratarse de una variable de Poisson (Po($\\lambda$=c)) utilizaremos un gráfico tipo c. "
   ]
  },
  {
   "cell_type": "code",
   "execution_count": null,
   "id": "436e3caa-cabc-4eb6-97dd-8f8280d72058",
   "metadata": {},
   "outputs": [],
   "source": [
    "# Representacion de la variable\n",
    "plot(Quejas, type=\"l\", lwd=2, col=\"black\", main=\"Grafico c\", \n",
    "     ylab=\"Número de quejas\", xlab=\"Meses\")"
   ]
  },
  {
   "cell_type": "markdown",
   "id": "40fe9cc2-6648-4d47-bf46-bf9bdc60620f",
   "metadata": {
    "editable": true,
    "slideshow": {
     "slide_type": ""
    },
    "tags": []
   },
   "source": [
    "Ya que no disponemos de un valor histórico de c, debemos calcular el límite central (CL, del inglés Central Line) y los límites superior (UCL, del inglés Upper Control Limit) e inferior de control (LCL, del inglés Lower Control Limit) con los datos de la  muestra utilizando la formulación de clase. Antes de eso debemos comprobar si la variable de Poisson que estamos analizando se puede aproximar con una distribución Normal (es decir comprobar si $\\lambda=c>5$)."
   ]
  },
  {
   "cell_type": "code",
   "execution_count": null,
   "id": "bbf7a2c1-8d38-4e85-a5cf-5225a643b385",
   "metadata": {},
   "outputs": [],
   "source": [
    "# Condiciones de validez. c>5\n",
    "c <- mean(Quejas); c "
   ]
  },
  {
   "cell_type": "markdown",
   "id": "f774d69e-c0b6-43fb-b47b-acb3435ec0d5",
   "metadata": {},
   "source": [
    "Ya que se cumple que c>5, calculamos los límites de control. "
   ]
  },
  {
   "cell_type": "code",
   "execution_count": null,
   "id": "bf85d61f-2fd2-4651-835e-1dd4517a2632",
   "metadata": {},
   "outputs": [],
   "source": [
    "# Limites de control \n",
    "CL <- c; CL\n",
    "LCL <- CL-3*sqrt(CL); LCL\n",
    "UCL <- CL+3*sqrt(CL); UCL"
   ]
  },
  {
   "cell_type": "markdown",
   "id": "d56dac86-73cf-4784-96eb-c6288c1662d9",
   "metadata": {},
   "source": [
    "Como el valor de LCL que obtenemos es negativo debemos llevar este límite a 0 ya que el número de quejas no puede ser negativo. "
   ]
  },
  {
   "cell_type": "code",
   "execution_count": null,
   "id": "3a2462d6-fdf8-460d-97b7-55ee75bec711",
   "metadata": {},
   "outputs": [],
   "source": [
    "LCL <- 0"
   ]
  },
  {
   "cell_type": "markdown",
   "id": "fb8b3a77-440c-4c90-a299-604280d49353",
   "metadata": {},
   "source": [
    "Representamos esos límites en el gráfico con la función `abline` que nos permite trazar fácilmente rectas en un gráfico ya creado. Acceder a la ayuda de esta función para más detalles."
   ]
  },
  {
   "cell_type": "code",
   "execution_count": null,
   "id": "567ad8fb-b2ca-4930-b13c-d66306832536",
   "metadata": {
    "scrolled": true
   },
   "outputs": [],
   "source": [
    "# Representacion de la variable\n",
    "plot(Quejas, type=\"l\", lwd=2, col=\"black\", main=\"Grafico c\", \n",
    "     ylab=\"Número de quejas\", xlab=\"Meses\")\n",
    "# Representacion de los limites\n",
    "abline(h=CL, col=\"blue\", lwd=2)\n",
    "abline(h=c(LCL,UCL), col=\"red\", lwd=2, lty=2)"
   ]
  },
  {
   "cell_type": "markdown",
   "id": "23e64808-c3fb-46f4-97c2-462df3c0c5a7",
   "metadata": {},
   "source": [
    "Este es el gráfico resultante usando funciones de R para dibujar que ya conocemos. Sin embargo, de forma más sencilla y con una sola línea de código, la librería `qcc` nos permite obtener ese mismo gráfico con la orden:"
   ]
  },
  {
   "cell_type": "code",
   "execution_count": null,
   "id": "f53b8617-6767-40cd-9d59-792c4ea2c903",
   "metadata": {},
   "outputs": [],
   "source": [
    "# Grafico c\n",
    "qcc(Quejas, type=\"c\", xlab=\"Meses\", ylab=\"Número de quejas\", title=\"Gráfico c\")"
   ]
  },
  {
   "cell_type": "markdown",
   "id": "c93120fe-f0ac-4d6f-ac69-4fc0eae78dec",
   "metadata": {},
   "source": [
    "Consultar la ayuda de la función *qcc* para ver por ejemplo que otro tipo de gráfico de control se puede obtener a través del argumento *type*, para ver como se podría introducir un valor histórico para c, en caso de conocerlo, o bien para ver como mejorar el gráfico añadiendo etiquetas a los ejes o título al gráfico.\n",
    "\n",
    "También podemos guardar la información que se muestra en el gráfico anterior en un objeto de clase *qcc* y usar esos valores para otros cálculos posteriores. "
   ]
  },
  {
   "cell_type": "code",
   "execution_count": null,
   "id": "2f89baf4-af5d-4e10-a0de-e4796077911e",
   "metadata": {},
   "outputs": [],
   "source": [
    "# Grafico c\n",
    "cplot <- qcc(Quejas, type=\"c\", xlab=\"Meses\", ylab=\"Número de quejas\", title=\"Gráfico c\")\n",
    "class(cplot)\n",
    "cplot$limits # Muestra los valores de LCL y UCL\n",
    "cplot$violations$beyond.limits # Indica la posicion de los valores fuera de los limites."
   ]
  },
  {
   "cell_type": "markdown",
   "id": "13ee9c45-1189-4f12-85bd-bfc07fb02a29",
   "metadata": {},
   "source": [
    "Del gráfico obtenido observamos que hay un punto fuera de los límites de control (en el mes 14), por tanto el proceso no está en estado de control. Habría que analizar que ha dado lugar a ese valor tan alto de quejas para ese mes concreto.\n",
    "\n",
    "Al haber utilizado los datos de la muestra para calcular los límites debemos repetir el gráfico eliminando ese punto situado por encima del límite superior con objeto de ver si aparecen otras alarmas enmascaradas."
   ]
  },
  {
   "cell_type": "code",
   "execution_count": null,
   "id": "91c0c33b-0373-4f47-98f7-895be1cd3cca",
   "metadata": {},
   "outputs": [],
   "source": [
    "# Se eliminan las alarmas\n",
    "new_Quejas <- Quejas[-cplot$violations$beyond.limits]\n",
    "# Representamos el grafico de nuevo\n",
    "cplot <-  qcc(new_Quejas, type=\"c\", xlab=\"Meses\", ylab=\"Número de quejas\", title=\"Gráfico c\")"
   ]
  },
  {
   "cell_type": "markdown",
   "id": "9b8f0001-8e6b-4cc2-8a01-6e247f7cf589",
   "metadata": {},
   "source": [
    "Como vemos ya no se detectan más valores de la variable fuera de los límites. \n",
    "\n",
    "Recordar que una vez que todos los puntos están dentro de los límites superior e inferior, debemos analizar si hay otro tipo de alarmas como rachas, tendencia, superestabilidad, etc. En algunos casos veremos que el propio R destaca con puntos amarillos algunas de estas alarmas. En cualquier caso podemos añadir al último gráfico obtenido las líneas correspondientes a $CL \\pm \\sigma$ y $CL \\pm 2\\sigma$ ya que son necesarias para determinar algunas de estas alarmas. Para ello podemos ejecutar los siguientes comandos:"
   ]
  },
  {
   "cell_type": "code",
   "execution_count": null,
   "id": "9f5a16f9-4470-4fb5-b598-021e6ce38fb9",
   "metadata": {},
   "outputs": [],
   "source": [
    "LC <- cplot$center\n",
    "sigma <- cplot$std.dev\n",
    "# Limites para +-sigma y +-2sigma\n",
    "warn.limits.1 <- c(LC-sigma, LC+sigma)  # calcula LC-sigma, LC+sigma\n",
    "warn.limits.2 <- c(LC-2*sigma, LC+2*sigma) # calcula LC-2*sigma, LC+2*sigma\n",
    "# Grafico con todos los limites\n",
    "plot(cplot, restore.par=FALSE, xlab=\"Meses\", ylab=\"Número de quejas\", title=\"Gráfico c\") \n",
    "abline(h=warn.limits.1, col=\"red\", lty=2) \n",
    "abline(h=warn.limits.2, col=\"red\", lty=2)\n",
    "detach(quejas) "
   ]
  },
  {
   "cell_type": "markdown",
   "id": "88e99e66-fadf-4955-be38-26f8304af90d",
   "metadata": {},
   "source": [
    "La opción `restore.par` que hemos usado en la función `plot` anterior es un valor lógico que nos permite restaurar o no los parametros de un gráfico ya realizado. Si queremos añadir puntos o lineas a ese gráfico ya creado, como en este caso, establecemos este argumento como FALSE, es decir, que no cambien esos parámetros del gráfico inicial.\n",
    "\n",
    "Observando el gráfico anterior vemos que no hay ninguna otra alarma de las mencionadas antes. \n",
    "\n",
    "Por último recordar que una vez terminado el estudio con un data frame, debemos *desenganchar* ese data frame con la orden `detach`. De lo contrario, puede haber confusión si cargamos una variable que tiene el mismo nombre que la columna del data frame que ya fue *adjuntado* con la orden `attach`."
   ]
  },
  {
   "cell_type": "markdown",
   "id": "0d85a8bf-c890-47ea-b243-267e1aabf70d",
   "metadata": {},
   "source": [
    "# Gráfico np\n",
    "\n",
    "Veamos ahora como representar un gráfico np. Recordemos que este tipo de gráfico se emplea para representar una variable aleatoria que cuenta la cantidad de unidades defectuosas en una muestra de tamaño n. Como sabemos esta variable sigue una distribución Binomial, B(n,p). \n",
    "\n",
    "Vamos a analizar este tipo de gráfico para el siguiente ejemplo.\n",
    "\n",
    "*Una empresa fabrica pequeñas piezas de PVC mediante un proceso mecanizado. Al analizar las piezas se puede determinar si estas tienen las dimensiones adecuadas o no, en cuyo caso se considera defectuosa. La empresa quiere elaborar un gráfico de control para controlar el número de piezas defectuosas producidas por la máquina. Para ello se seleccionaron 30 muestras de tamaño 50 cuyos datos se encuentran en el fichero pvc.xls. Construya el gráfico de control para la empresa y analice la información obtenida.*\n",
    "\n",
    "Comenzamos importando los datos del fichero:"
   ]
  },
  {
   "cell_type": "code",
   "execution_count": null,
   "id": "59dab06c-1673-410c-aaf5-6b7d301f4c5d",
   "metadata": {},
   "outputs": [],
   "source": [
    "# Se importan los datos\n",
    "pvc <- read_excel(\"pvc.xls\")\n",
    "attach(pvc)\n",
    "head(pvc) # Muestra las primeras filas del fichero"
   ]
  },
  {
   "cell_type": "markdown",
   "id": "8da84d00-9c02-44bf-bc31-30847bdda43f",
   "metadata": {},
   "source": [
    "Comprobamos si podemos suponer que la variable Binomial sigue una distribución Normal ($np>5$ y $n(1-p)>5$) a partir de los datos de la muestra ya que no disponemos del valor histórico de la probabilidad de éxito (p)."
   ]
  },
  {
   "cell_type": "code",
   "execution_count": null,
   "id": "89fe545c-18d2-4ccb-958c-ebdc0742234d",
   "metadata": {},
   "outputs": [],
   "source": [
    "n <- 50 # Tamaño de muestra\n",
    "k <- nrow(pvc) # Numero de muestras analizadas\n",
    "# Probabilidad de exito\n",
    "p_i <- defectuosas/n\n",
    "p <- mean(p_i); p\n",
    "# Condiciones de validez\n",
    "n*p; n*(1-p)"
   ]
  },
  {
   "cell_type": "markdown",
   "id": "80d67fb4-2a44-4721-9561-7a3ad50ed122",
   "metadata": {},
   "source": [
    "Como vemos las dos condiciones necesarias se cumplen en este caso por lo que procedemos a calcular los límites de control y representar el gráfico np. Lo hacemos primero usando funciones de R que ya conocemos para representar datos. "
   ]
  },
  {
   "cell_type": "code",
   "execution_count": null,
   "id": "3e74922e-ed36-48f3-995e-bdef0417d5d5",
   "metadata": {},
   "outputs": [],
   "source": [
    "# Limites de control\n",
    "CL <- mean(defectuosas); CL\n",
    "LCL <- CL-3*sqrt(CL*(1-p)); LCL\n",
    "UCL <- CL+3*sqrt(CL*(1-p)); UCL\n",
    "# Grafico np\n",
    "plot(muestra, defectuosas, type=\"l\", lwd=2, col=\"black\", main=\"Grafico np\",\n",
    "     ylim=c(0,25), xlab=\"Número de muestra\", ylab=\"Número de piezas defectuosas\")\n",
    "abline(h=CL, col=\"blue\", lwd=2)\n",
    "abline(h=c(LCL,UCL), col=\"red\", lwd=2, lty=2)"
   ]
  },
  {
   "cell_type": "markdown",
   "id": "7ea57770-86f3-4891-aaf5-015ecfe4d238",
   "metadata": {},
   "source": [
    "La librería `qcc` nos permite obtener ese mismo gráfico más fácilmente y con más información con la orden:"
   ]
  },
  {
   "cell_type": "code",
   "execution_count": null,
   "id": "a406b4cd-d26d-4985-9b1b-f74d8c49bb03",
   "metadata": {},
   "outputs": [],
   "source": [
    "npplot <- qcc(defectuosas, type = \"np\", sizes=n, xlab=\"Número de muestra\",\n",
    "    ylab=\"Número de piezas defectuosas\", title=\"Grafico np\")"
   ]
  },
  {
   "cell_type": "markdown",
   "id": "4f3fc1e6-23fa-41ce-8a2e-1fab31a68824",
   "metadata": {},
   "source": [
    "Se observa que hay dos puntos por encima del límite superior de control, luego el proceso no se encuentra en estado de control. Habría que investigar que ha dado lugar a esos dos valores con un número de piezas defectuosas tan alto para poder evitar que el problema se repita en el proceso de fabricación. \n",
    "\n",
    "Además, dado que los límites se han calculado a partir de los datos muestrales y no de un valor histórico de p, debemos repetir el gráfico eliminando las muestras que han generado esas alarmas con el fin de comprobar si aparecen otras alarmas. Si eso ocurre habría que eliminarlas e investigar también su causa. \n",
    "\n",
    "Repite el gráfico elimando esas alarmas. ¿Qué observas en el nuevo gráfico? \n",
    "\n",
    "Recordar que, una vez que todos los puntos están dentro de los límites de control superior e inferior, debemos analizar si hay otro tipo de alarmas como rachas, tendencia, superestabilidad, etc. Realiza este análisis e indica si observas alguna alarma de este tipo. \n",
    "\n",
    "Una vez terminado con ese data frame debemos ejecutar la orden:"
   ]
  },
  {
   "cell_type": "code",
   "execution_count": null,
   "id": "5be55fae-058c-4f51-ab58-2a91a918e1ec",
   "metadata": {},
   "outputs": [],
   "source": [
    "detach(pvc)"
   ]
  },
  {
   "cell_type": "markdown",
   "id": "bcf59e57-d0cd-4425-9a12-b80c3d416ba6",
   "metadata": {},
   "source": [
    "# Gráficos X y R\n",
    "\n",
    "Estos son gráficos de control que analizan dos características de tipo continuo: la media (gráfico X) y la variabilidad a través del rango (gráfico R). Analizaremos estos gráficos de control a partir del siguiente ejemplo.\n",
    "\n",
    "*En una fábrica que produce tuberías se han medido los diámetros (en mm) de 16 tuberías. En el fichero tuberias.txt se muestran los datos obtenidos a lo largo de 8 intervalos de muestreo sucesivos, en cada uno de los cuales se han seleccionado al azar 2 tuberías para medir sus diámetros xt1 y xt2. ¿Puede decirse que la media y la variabilidad del proceso están bajo control?*\n",
    "\n",
    "Al tratarse de la variable aleatoria del diámetro de la tubería, debemos analizar el gráfico X y el R de forma simultánea. \n",
    "\n",
    "Primero importamos los datos del fichero:"
   ]
  },
  {
   "cell_type": "code",
   "execution_count": null,
   "id": "641543b1-1e2f-47a1-9eba-df8f29fdeeaf",
   "metadata": {},
   "outputs": [],
   "source": [
    "# Importamos los datos\n",
    "tuberias <- read.csv(\"tuberias.txt\", sep=\"\")\n",
    "head(tuberias)"
   ]
  },
  {
   "cell_type": "markdown",
   "id": "05feaa1a-a3cf-4e48-ae4a-8746061d36b3",
   "metadata": {},
   "source": [
    "Calculamos ahora los datos necesarios para representar el gráfico X. En este caso como el tamaño de muestra es 2, el coeficiente $d_2$ tendrá un valor de 1.128. "
   ]
  },
  {
   "cell_type": "code",
   "execution_count": null,
   "id": "578a141a-fddf-4a24-8a59-79db5fef2e79",
   "metadata": {},
   "outputs": [],
   "source": [
    "# Valor del coeficiente d2 para n=2\n",
    "d2 <- 1.128 \n",
    "# Tamaño de la muestra\n",
    "n <- ncol(tuberias)\n",
    "# Calculo de la media por filas\n",
    "xbar <- apply(tuberias,1,mean)\n",
    "# Calculo del rango por filas\n",
    "R_t <- as.vector(diff(apply(tuberias,1,range)))\n",
    "# Rango medio\n",
    "Rbar <- mean(R_t)\n",
    "# Estimador de la desviacion tipica de la media muestral\n",
    "sigma_xbar <- Rbar/(d2*sqrt(n))\n",
    "# Calculo de los limites\n",
    "CL  <- mean(xbar); CL\n",
    "LCL <- CL-3*sigma_xbar; LCL\n",
    "UCL <- CL+3*sigma_xbar; UCL"
   ]
  },
  {
   "cell_type": "markdown",
   "id": "a30dc239-63ac-4d45-91b8-98db110130ae",
   "metadata": {},
   "source": [
    "Una vez calculados los límites de control obtenemos el gráfico X de la forma: "
   ]
  },
  {
   "cell_type": "code",
   "execution_count": null,
   "id": "c0131db1-a848-4139-a1ce-8fd4ffd8db9b",
   "metadata": {},
   "outputs": [],
   "source": [
    "# Grafico X\n",
    "plot(xbar, type=\"l\", lwd=2, col=\"black\", main=\"Grafico X\", ylab=\"Diámetro (mm)\", \n",
    "  xlab=\"Número de muestra\", ylim=c(75,85))\n",
    "abline(h=CL, col=\"blue\", lwd=2)\n",
    "abline(h=c(LCL,UCL), col=\"red\", lwd=2, lty=2)"
   ]
  },
  {
   "cell_type": "markdown",
   "id": "0757ef45-457b-42e5-8489-03c45aaac7e3",
   "metadata": {},
   "source": [
    "Del gráfico X anterior podemos concluir que no hay alarmas debidas a valores por encima del límite superior ni por debajo del límite inferior de control.  \n",
    "\n",
    "Hacemos ahora los cálculos necesarios para representar la variabilidad del proceso a través del gráfico R. El coeficiente que necesitamos en este caso es: $d_R=1.323$. "
   ]
  },
  {
   "cell_type": "code",
   "execution_count": null,
   "id": "688423d5-d006-42e7-b641-3f231c2276b7",
   "metadata": {},
   "outputs": [],
   "source": [
    "# Calculo de los limites\n",
    "dR <- 1.323\n",
    "# Estimador de la desviacion tipica del rango muestral\n",
    "sigma_R <- Rbar/dR\n",
    "CL <- Rbar; CL\n",
    "LCL <- CL-3*sigma_R; LCL\n",
    "LCL <- 0\n",
    "UCL <- CL+3*sigma_R; UCL"
   ]
  },
  {
   "cell_type": "markdown",
   "id": "6e171a1e-0f68-4c73-83a9-fb157729f966",
   "metadata": {},
   "source": [
    "LCL es un valor negativo que en este caso no tiene sentido puesto que la variable es una distancia, por lo que hemos establecido su valor como cero."
   ]
  },
  {
   "cell_type": "code",
   "execution_count": null,
   "id": "dbddbe6b-09b9-470d-8959-9284f22e5b94",
   "metadata": {},
   "outputs": [],
   "source": [
    "# Grafico R\n",
    "plot(R_t, type=\"l\", lwd=2, col=\"black\", main=\"Grafico R\", ylab=\"Diámetro (mm)\", \n",
    "  xlab=\"Número de muestra\", ylim=c(0,5))\n",
    "abline(h=CL, col=\"blue\", lwd=2)\n",
    "abline(h=c(LCL,UCL), col=\"red\", lwd=2, lty=2)"
   ]
  },
  {
   "cell_type": "markdown",
   "id": "831bddf6-150b-4914-9407-bc86204285f1",
   "metadata": {},
   "source": [
    "Observamos que también la variabilidad del proceso está bajo control. Recordar que si en alguno de los gráficos hubiéramos obtenido algún punto fuera de los límites sería necesario, eliminar esas alarmas y repetir ambos gráficos aunque solo se hayan observado alarmas en uno de ellos. Debemos repetirlos ya que los límites de ambos han sido calculados a partir de los datos de la muestra.\n",
    "\n",
    "La librería `qcc` nos permite obtener una versión más completa de estos dos gráficos, además de proporcionar información adicional. Para ello ejecutando los comandos:"
   ]
  },
  {
   "cell_type": "code",
   "execution_count": null,
   "id": "26f35d04-4ffb-4e25-a9c2-24885a153528",
   "metadata": {},
   "outputs": [],
   "source": [
    "# Grafico tipo X\n",
    "Xplot <- qcc(tuberias, type=\"xbar\", xlab=\"Número de muestra\", ylab=\"Diámetro (mm)\", \n",
    "             title=\"Gráfico X\")\n",
    "# Grafico tipo R\n",
    "Rplot <- qcc(tuberias, type=\"R\", xlab=\"Número de muestra\", ylab=\"Diámetro (mm)\", \n",
    "             title=\"Gráfico R\")"
   ]
  },
  {
   "cell_type": "markdown",
   "id": "9d8d7522-a9e5-4793-a0d1-8c12c7adb281",
   "metadata": {},
   "source": [
    "Como siempre, una vez que todos los puntos están dentro de los límites, debemos analizar si hay otro tipo de alarmas como rachas, tendencia, superestabilidad, etc.\n",
    "Hacerlo y comprobar si existe alguna alarma de este tipo."
   ]
  },
  {
   "cell_type": "markdown",
   "id": "2c5fb98e-aac0-4fbe-ad22-22411fda9d08",
   "metadata": {},
   "source": [
    "<div class=\"alert alert-block alert-info\">\n",
    "<strong>PRACTICA TÚ MISMO</strong>\n",
    " \n",
    "- En una fábrica de azulejos se hornean azulejos de un metro de largo y 0.33 de ancho. Debido a la dimensión de los azulejos es normal que en algunos casos los azulejos muestren deformidades. Con el fin de controlar este problema, la fábrica realiza un control de calidad entre los azulejos fabricados en un mismo día. En el fichero *azulejos.xls* se recogen el número de deformidades contabilizadas en las muestras de azulejos analizadas en distintos días de producción. Realice un gráfico de control y determine el estado del proceso de fabricación de azulejos.\n",
    "   \n",
    "</n>\n",
    "\n",
    "- La fabrica de azulejos está ahora interesada en estudiar la cantidad de unidades defectuosas en la muestra. A partir de los datos del fichero *azulejos.xls* represente el gráfico de control correspondiente y determine el estado del proceso si se sabe que cada día se selecciona una muestra de 25 azulejos para realizar el control de calidad.\n",
    "\n",
    "</n>\n",
    "\n",
    "- Una fábrica de pasta alimentaria ha sacado al mercado un nuevo tipo de pasta baja en grasa. El departamento de calidad de la empresa ha ido tomando muestras de la producción generada a intervalos de tiempo regulares con el fin de controlar el porcentaje de grasa por 100gr de producto.  El fichero *pasta.xls* recoge los resultados de los sucesivos análisis realizados agrupados de cinco en cinco. Utilizando estos datos, estudie si la media y la variabilidad del proceso de fabricación están bajo control.\n",
    "\n",
    "</n>\n",
    "\n",
    "- Una fábrica de productos mecanizados lleva la cuenta del número de piezas defectuosas que producen cada día. Los datos recogidos en el último mes son los siguientes:\n",
    "\n",
    "  19 10 20 12 16 14 27 20 17 12 14 10 14 21  9 17 18 18 13 15 12 11 20 10 13 14 17 19 16 13\n",
    "\n",
    "  Representar los datos en un gráfico de Shewhart adecuado y determinar si hay alarmas en el sistema. \n",
    "\n",
    "</div>"
   ]
  }
 ],
 "metadata": {
  "kernelspec": {
   "display_name": "R",
   "language": "R",
   "name": "ir"
  },
  "language_info": {
   "codemirror_mode": "r",
   "file_extension": ".r",
   "mimetype": "text/x-r-source",
   "name": "R",
   "pygments_lexer": "r",
   "version": "4.3.3"
  }
 },
 "nbformat": 4,
 "nbformat_minor": 5
}
