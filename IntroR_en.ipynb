{
 "cells": [
  {
   "cell_type": "markdown",
   "id": "b2952046-39cf-4efd-8ace-2c6e89f8fab0",
   "metadata": {},
   "source": [
    "<div style=\"text-align: center; font-size: 30px;\">\n",
    "Statistics Labs<br/>\n",
    "</div>\n",
    "<div style=\"text-align: center; font-size: 30px;\">\n",
    "Introduction to R \n",
    "</div>\n",
    "<div style=\"text-align: center; font-size: 16px; font-style: italic\">\n",
    "Material prepared by M. Dolores Frías, Jesús Fernández, and Carmen M. Sordo, senior lectures from the Department of Applied Mathematics and Computer Science at the University of Cantabria.\n",
    "</div>"
   ]
  },
  {
   "cell_type": "markdown",
   "id": "b77abfbd-c549-4202-82df-802ce74d5f59",
   "metadata": {},
   "source": [
    "[R](http://www.r-project.org)  is an open-source programming language consisting of a collection of free software programs (in the [GNU](http://gnu.org/philosophy/free-sw.es.html) sense) designed for statistical data analysis. It allows performing everything from simple descriptive analyses (such as frequency tables, mean calculation, correlations, etc.) to more complex procedures (such as hypothesis testing, analysis of variance, principal component analysis, etc.). Only a few of the analytical possibilities offered by R will be covered in this course.\n",
    "\n",
    "R enables three essential functions: (1) reading data, (2) specifying the type of analysis to be performed on that data, and (3) displaying the results obtained after the analyses. Selecting an appropriate methodology for a given study, as well as interpreting the results, is the responsibility of the researcher or software user. For this reason, it is necessary for the user to understand the theoretical foundation of the various statistical methods available to ensure that both the application of the analysis and the interpretation of the results are conducted effectively.\n",
    "\n",
    "Over the past decades, R has established itself both academically and scientifically. Additionally, many companies now use it for data science (Facebook, Twitter, Google, Airbnb, IBM, etc.), as it allows for more advanced analyses than traditional spreadsheets."
   ]
  },
  {
   "cell_type": "markdown",
   "id": "be9fce17-ff4c-44c6-aa43-476635725c50",
   "metadata": {},
   "source": [
    "<div><img alt=\"Página web del proyecto R\" src=\"./figuras/RStudioWeb.png\" width=\"600\"/></div>\n",
    "\n",
    "*Figure 1: Official webpage of the R project.\n",
    "R Core Team. (2023). R: A language and environment for statistical computing. R Foundation for Statistical Computing. https://www.R-project.org/* \n",
    "\n",
    "# Objectives\n",
    "\n",
    "This manual aims to familiarize students with the R language and enable them to use it as a tool for statistical applications through the practical exercises presented in the course. To achieve this, students are encouraged to execute each R command introduced in the practice scripts, as well as to complete the exercises provided in the\n",
    "<span style=\"color:blue\">\n",
    "<strong>PRACTICE ON YOUR OWN</strong>\n",
    "</span>, sections, which will help reinforce the concepts.\n",
    "\n",
    "All the files used in this manual can be downloaded from the course webpage on the Moodle platform of the University of Cantabria."
   ]
  },
  {
   "cell_type": "markdown",
   "id": "9f150303-34d5-4548-a084-0c8d1a15b864",
   "metadata": {},
   "source": [
    "# Installation of R\n",
    "\n",
    "One of the advantages of R is that it is cross-platform. Below are the main steps for installing it on different operating systems.  \n",
    "\n",
    "## Microsoft Windows\n",
    "\n",
    "Follow these steps to install the software:\n",
    "\n",
    " 1. Download the executable file from the [R](http://cran.r-project.org/bin/windows/base/) project page.\n",
    " 2. Run the downloaded file.\n",
    " 3. Run the R program, now installed.\n",
    "\n",
    "## Linux\n",
    "\n",
    "From the main R page, you can access downloads for different versions of [Linux](http://cran.r-project.org/bin/linux/): Debian, Fedora, Redhat, Suse, and Ubuntu. It is recommended to follow the instructions provided on the website for each specific case.\n",
    "\n",
    "## MacOS\n",
    "\n",
    "Before proceeding with the installation of R, review the necessary requirements on the following [website](http://r.research.att.com/tools/).  \n",
    "Through this [link](http://cran.r-project.org/bin/macosx/), you can access the R installation for MacOS. Follow the instructions provided on the same webpage."
   ]
  },
  {
   "attachments": {},
   "cell_type": "markdown",
   "id": "35398c98-20de-4c63-8577-c25c0ddbb8ac",
   "metadata": {},
   "source": [
    "# Getting Started with R\n",
    "\n",
    "The objective of this first practice is for the student to learn how to use the R program.\n",
    "\n",
    "## Starting a Session\n",
    "\n",
    "After launching the program, the R user interface (R GUI, Graphical User Interface) includes the *R Console*, where the R version is displayed along with information on how to access the usage license details.\n",
    "\n",
    "<div><img alt=\"R Console\" src=\"./figuras/RConsole.png\" width=\"600\"/></div>\n",
    "\n",
    "*Figure 2: R Console*"
   ]
  },
  {
   "cell_type": "markdown",
   "id": "5309316b-c1d8-496d-ac48-4fe5a0590ca9",
   "metadata": {},
   "source": [
    "Additionally, the console provides several useful commands to obtain help regarding different R functions, such as `help()` or `help.start()`.  \n",
    "It also indicates how to exit R using the function `q()`.\n",
    "\n",
    "R is interactive, as it responds through an interpreter to the inputs received in the console. As shown in the previous figure, try executing the command *help(mean)* in the console. The complete help documentation for the `mean` function will open in a browser."
   ]
  },
  {
   "cell_type": "markdown",
   "id": "40fe9cc2-6648-4d47-bf46-bf9bdc60620f",
   "metadata": {},
   "source": [
    "# RStudio\n",
    "\n",
    "The console is not the most efficient way to work with R, as we often need to correct previously executed code, modify it, rerun it, or create our own functions. Several tools allow us to work with R in a much more user-friendly way by creating our own code files or scripts, which we can save and retrieve later. In our case, we will use the *RStudio Desktop* development environment, which allows us to work with R (as long as R is installed first) while offering many additional functionalities.\n",
    "\n",
    "[RStudio](http://rstudio.org/) is a GUI (Graphical User Interface) for R, programmed in C, cross-platform (Windows, Linux, and Mac), and open-source, developed and maintained by the company Posit PBC. This tool integrates various environments while preserving the command-based philosophy of R, adding several features that make programming in R more accessible. Another way to define RStudio is as a free and open-source Integrated Development Environment (IDE) for R.\n",
    "\n",
    "Among other things, RStudio allows us to:\n",
    "1. Open multiple scripts simultaneously.\n",
    "2. Execute code snippets by simply selecting them in the script.\n",
    "3. Display the workspace.\n",
    "4. Show the objects in the workspace.\n",
    "5. Integrate help documentation.\n",
    "6. Include additional libraries that can be activated in each session.\n",
    "\n",
    "Once R is installed on our computer, we can install RStudio easily by running the installation file [downloaded](https://posit.co/downloads/) from its official website. Additionally, RStudio can also be used in the cloud via the following link: [https://posit.cloud/](https://posit.cloud/).\n",
    "\n",
    "<div><img alt=\"RStudio Desktop\" src=\"./figuras/RStudio_en.png\" width=\"600\"/></div>\n",
    "\n",
    "*Figure 3: RStudio Desktop* \n",
    "\n",
    "As shown in the figure above, RStudio allows us to create our own code files (the command editing window in the upper-left quadrant), where we can write all our R commands. These files can be saved and reopened at any time for later use. If the command editing window does not appear when starting RStudio, it can be opened by going to the menu *File -> New File -> R script* or by clicking on the first icon on the left, which represents a blank sheet with a \"+\" symbol. This will open a blank text editor where we can start writing R commands to execute. In this first quadrant of the RStudio environment, we can have multiple R scripts open simultaneously."
   ]
  },
  {
   "cell_type": "markdown",
   "id": "a0cef577-bfec-4b04-8135-7fb66f199698",
   "metadata": {
    "editable": true,
    "slideshow": {
     "slide_type": ""
    },
    "tags": []
   },
   "source": [
    "To work in a more organized manner, whenever you use RStudio installed on your computer, it is recommended to first create a working directory for the practical exercises of this course. As a best practice, remember that directory or file names should not contain special characters such as \"ñ\", accents, or spaces, as they may cause issues when trying to open them in any programming language.\n",
    "\n",
    "In the created working directory, we will store the R code files we generate (scripts), data files, graphs, etc. Once this directory has been created on your computer, you need to open RStudio and set it as the working directory at the beginning of the session. To do this, execute the `setwd` (**set** **w**orking **d**irectory) function specifying the complete path of the directory you created, for example:\n",
    "\n",
    "```R\n",
    "setwd(\"C:/Desktop/Statistics/P0\")\n",
    "\n",
    "```\n",
    "\n",
    "You can always check the contents of the current working directory in RStudio by running the command `dir()`. In the execution window (lower-left quadrant of RStudio, see previous figure), a list of all files in that directory will be displayed.\n",
    "\n",
    "R command files have the .R extension, so every time you create an R script, you should save it with this extension. In RStudio, go to the menu *File -> Save As...*.\n",
    "\n",
    "Although this guide suggests running R code in this environment for better practice tracking, you can also execute the same commands in the RStudio you installed on your computer. Simply copy the lines of code provided here and paste them into the RStudio command window. By selecting these lines with the mouse and clicking the `Run` button in RStudio or pressing Ctrl+Enter, the commands will be executed, and the results will appear in the execution window. During the practical sessions in the classroom, you will be working directly in RStudio, so you should install both R and RStudio on your computer and get used to working within RStudio for example, by solving the exercises in this guide directly there.\n",
    "\n",
    "In any program written in any programming language, it is important to include short comments that indicate what each part of the code does. In R, comments can be added by starting a line with the **#** symbol.\n",
    "\n",
    "As an example, let's execute the following lines of code directly. These lines compute the mean value of a vector containing the numbers 1, 2, and 3. Notice how comments are written (each line starts with #) and how a data vector is created in R. Keep in mind that R is case-sensitive, so x and X will be considered different vectors."
   ]
  },
  {
   "cell_type": "code",
   "execution_count": 1,
   "id": "9ec658f1-7b67-4136-bb18-5a8c1d01190f",
   "metadata": {},
   "outputs": [
    {
     "data": {
      "text/html": [
       "2"
      ],
      "text/latex": [
       "2"
      ],
      "text/markdown": [
       "2"
      ],
      "text/plain": [
       "[1] 2"
      ]
     },
     "metadata": {},
     "output_type": "display_data"
    }
   ],
   "source": [
    "# Create a vector\n",
    "x <- c(1,2,3)\n",
    "# Compute the mean\n",
    "mean(x)"
   ]
  },
  {
   "cell_type": "markdown",
   "id": "1f19febe-a95a-4ded-abe2-f1db07f05557",
   "metadata": {},
   "source": [
    "If you run this code in the RStudio installed on your computer, the variables created while executing the R code will appear in the upper-right quadrant (Environment tab). For example, after running the previous code, `x` should appear as the name of the vector we created, indicating that it is a numeric variable (*num*) and that it contains three elements (*[1:3]*).\n",
    "\n",
    "Note that the assignment operator `<-` is not the usual operator found in other programming languages. Assignment in R consists of two characters, `<` (less than) and `-` (hyphen), which must always be combined and point toward the object receiving the value of the expression (`x` in this case). Assignment can also be performed using the `assign()` function."
   ]
  },
  {
   "cell_type": "code",
   "execution_count": 2,
   "id": "d60efeea-1d3b-4218-bf97-780bdf6ae88b",
   "metadata": {},
   "outputs": [],
   "source": [
    "assign(\"x\", c(11.2, 4.5, 12.3, 7.8, 10.3))"
   ]
  },
  {
   "cell_type": "markdown",
   "id": "34885ac4-deba-4d65-a40a-db10256cdcd7",
   "metadata": {},
   "source": [
    "The usual assignment operator `<-` can be interpreted as a shorthand for the `assign()` function.\n",
    "\n",
    "Additionally, when an assignment is performed, the result does not appear in the console as it does with the code we just executed. To view the assigned value, you need to type the variable name and execute that line, or alternatively, write everything on the same line when creating a variable. Below, we illustrate both cases:"
   ]
  },
  {
   "cell_type": "code",
   "execution_count": 3,
   "id": "8abc3eef-2570-406c-b578-92be702b20ab",
   "metadata": {},
   "outputs": [
    {
     "data": {
      "text/html": [
       "<style>\n",
       ".list-inline {list-style: none; margin:0; padding: 0}\n",
       ".list-inline>li {display: inline-block}\n",
       ".list-inline>li:not(:last-child)::after {content: \"\\00b7\"; padding: 0 .5ex}\n",
       "</style>\n",
       "<ol class=list-inline><li>11.2</li><li>4.5</li><li>12.3</li><li>7.8</li><li>10.3</li></ol>\n"
      ],
      "text/latex": [
       "\\begin{enumerate*}\n",
       "\\item 11.2\n",
       "\\item 4.5\n",
       "\\item 12.3\n",
       "\\item 7.8\n",
       "\\item 10.3\n",
       "\\end{enumerate*}\n"
      ],
      "text/markdown": [
       "1. 11.2\n",
       "2. 4.5\n",
       "3. 12.3\n",
       "4. 7.8\n",
       "5. 10.3\n",
       "\n",
       "\n"
      ],
      "text/plain": [
       "[1] 11.2  4.5 12.3  7.8 10.3"
      ]
     },
     "metadata": {},
     "output_type": "display_data"
    },
    {
     "data": {
      "text/html": [
       "<style>\n",
       ".list-inline {list-style: none; margin:0; padding: 0}\n",
       ".list-inline>li {display: inline-block}\n",
       ".list-inline>li:not(:last-child)::after {content: \"\\00b7\"; padding: 0 .5ex}\n",
       "</style>\n",
       "<ol class=list-inline><li>1</li><li>2</li><li>3</li></ol>\n"
      ],
      "text/latex": [
       "\\begin{enumerate*}\n",
       "\\item 1\n",
       "\\item 2\n",
       "\\item 3\n",
       "\\end{enumerate*}\n"
      ],
      "text/markdown": [
       "1. 1\n",
       "2. 2\n",
       "3. 3\n",
       "\n",
       "\n"
      ],
      "text/plain": [
       "[1] 1 2 3"
      ]
     },
     "metadata": {},
     "output_type": "display_data"
    }
   ],
   "source": [
    "# Create a vector\n",
    "assign(\"x\", c(11.2, 4.5, 12.3, 7.8, 10.3))\n",
    "# Show the vector\n",
    "x\n",
    "# Create and display the content of the vector in a single line\n",
    "y <- c(1,2,3); y"
   ]
  },
  {
   "cell_type": "markdown",
   "id": "73ce9b57-495f-4e1b-a70b-f00d9385933a",
   "metadata": {},
   "source": [
    "Note that when executing multiple commands on the same line, they must be separated by a `;`.\n",
    "\n",
    "If an expression is used as a standalone command (i.e., it is not assigned to a variable name), its value is printed on the screen and lost since it is not stored in any variable.\n",
    "\n",
    "Thus, when executing the following command:"
   ]
  },
  {
   "cell_type": "code",
   "execution_count": 4,
   "id": "3c2a87d8-cf7e-472f-b3f0-c63af6276a44",
   "metadata": {},
   "outputs": [
    {
     "data": {
      "text/html": [
       "<style>\n",
       ".list-inline {list-style: none; margin:0; padding: 0}\n",
       ".list-inline>li {display: inline-block}\n",
       ".list-inline>li:not(:last-child)::after {content: \"\\00b7\"; padding: 0 .5ex}\n",
       "</style>\n",
       "<ol class=list-inline><li>1</li><li>0.5</li><li>0.333333333333333</li></ol>\n"
      ],
      "text/latex": [
       "\\begin{enumerate*}\n",
       "\\item 1\n",
       "\\item 0.5\n",
       "\\item 0.333333333333333\n",
       "\\end{enumerate*}\n"
      ],
      "text/markdown": [
       "1. 1\n",
       "2. 0.5\n",
       "3. 0.333333333333333\n",
       "\n",
       "\n"
      ],
      "text/plain": [
       "[1] 1.0000000 0.5000000 0.3333333"
      ]
     },
     "metadata": {},
     "output_type": "display_data"
    }
   ],
   "source": [
    "1/y"
   ]
  },
  {
   "cell_type": "markdown",
   "id": "5bb01e11-94aa-4cf4-8a9e-bd79314dc5cb",
   "metadata": {},
   "source": [
    "the screen will display the inverses of the five values in the vector `y`. However, since no variable name has been assigned to store the result, it will not be saved (no new variable will appear in the Environment tab of RStudio). Of course, the value of `y` remains unchanged."
   ]
  },
  {
   "cell_type": "markdown",
   "id": "e7efa099-fc37-49a4-9dc0-2f63b7f37694",
   "metadata": {},
   "source": [
    "In the bottom-right corner of RStudio (see previous figure), there are several tabs that provide different options:\n",
    "\n",
    "1. **Files**: Displays a list of directories and files contained in the working directory.\n",
    "2. **Plot**: A window where the graphs generated during analysis are displayed.\n",
    "3. **Packages**: Lists the currently activated R packages (marked with a checkmark) as well as additional packages that are not active but can be enabled if other functions are needed that are not included in the default R installation. See the *Section on Installing and Using R Libraries* for more details.\n",
    "4. **Help**: Displays the documentation for R functions.\n",
    "5. **Viewer**: This window is used to display maps and other elements resulting from executed code.\n",
    "6. **Presentation**: Displays HTML presentations."
   ]
  },
  {
   "cell_type": "markdown",
   "id": "9d96b659-4690-4d71-bdd7-f0b063eb5b24",
   "metadata": {},
   "source": [
    "# Help in R\n",
    "\n",
    "R provides different ways to search for help depending on our needs. All help options will be displayed in the bottom-right quadrant of RStudio, under the *Help* tab. For example, try executing the following help commands in the RStudio execution window:\n",
    "\n",
    "`help()` Displays a general help window about R.\n",
    "\n",
    "`help.start()` Launches a comprehensive help manual in HTML format, using the system's default web browser.\n",
    "\n",
    "`help(mean)` Opens a help window for the `mean` function, which calculates the arithmetic mean.\n",
    "\n",
    "`?mean` Equivalent to the previous example.\n",
    "\n",
    "`help(\"[\")` Provides help on the `[` character, which is a special character in the R language.\n",
    "\n",
    "`apropos(\"mean\")` Lists functions whose names contain the specified string, in this case, `mean`.\n",
    "\n",
    "`help.search(\"mean\")` Searches for information about objects or functions related to the specified string, either in their names or in the keywords of their documentation.\n"
   ]
  },
  {
   "cell_type": "markdown",
   "id": "8358fd34-18d1-44bd-8b50-dee44ba2562b",
   "metadata": {},
   "source": [
    "# Installing and Using Libraries in R\n",
    "\n",
    "The basic installation of R, which is installed by default, contains a limited number of libraries that allow us to apply the most commonly used functions. However, in many cases, we may need to perform analyses that are not included in this basic package. Due to the open-source and collaborative nature of R, it is highly likely that another user has already addressed and solved the problem, making their solution available in the form of a library for the entire R user community, completely free of charge. Thanks to R's open and collaborative philosophy, we can directly install and use these libraries.\n",
    "\n",
    "The first step, and often the most challenging, is to search online for an available solution in an R library. If found, we may encounter one of the following situations:\n",
    "\n",
    "1. The package is available in the **CRAN** (*Comprehensive R Archive Network*) repository. This is the simplest case, as it can be installed directly from RStudio by running the command `install.packages(\"LibraryName\")`, where the library name is enclosed in quotes. Once installed, the package is loaded using the command `library(\"LibraryName\")` in the R script where it is needed. Library installation is only required the first time, but activating or loading it with the `library()` command must be done each time an R session is started if we wish to use the functions of an installed library that was not included in the basic package.\n",
    "\n",
    "2. If the package is not available in R's official repository, we need to download it locally from the website that offers it. If the package is compressed, the installation function allows loading it from the local folder where the compressed file is stored. Depending on the operating system, the compressed file will have a different extension (e.g., `.zip` in Windows), though this is usually explicitly defined. In this case, we need to run the following command:  \n",
    "   `install.packages(\"LibraryName.tar.gz\", repos=NULL, type=\"source\")`\n",
    "\n",
    "3. Finally, we may want to load a function that we have programmed ourselves or downloaded locally, but which is not a library. In this case, we can use the command `source(\"MyFunction.R\")`. The limitation of this command is that it must be reapplied every time a change is made to the function itself.\n",
    "\n",
    "As an example of the concepts explained in this section, install the *ISLR* library from CRAN using RStudio:"
   ]
  },
  {
   "cell_type": "code",
   "execution_count": 5,
   "id": "4e295079-033b-4a5a-921b-6491eff52a43",
   "metadata": {},
   "outputs": [
    {
     "name": "stderr",
     "output_type": "stream",
     "text": [
      "Updating HTML index of packages in '.Library'\n",
      "\n",
      "Making 'packages.html' ...\n",
      " done\n",
      "\n"
     ]
    }
   ],
   "source": [
    "# Install the library\n",
    "install.packages(\"ISLR\") "
   ]
  },
  {
   "cell_type": "code",
   "execution_count": 6,
   "id": "9a7e48b7-b385-4ed6-bdfc-caf59c83e2e0",
   "metadata": {},
   "outputs": [],
   "source": [
    "# Load the libreria\n",
    "library(\"ISLR\")"
   ]
  },
  {
   "cell_type": "markdown",
   "id": "2199ecc0-aedf-4ef6-8718-bd9d5f9adc6e",
   "metadata": {},
   "source": [
    "This library contains a collection of datasets used in the book *An Introduction to Statistical Learning with Applications in R* by G. James. Once the library is installed and loaded, you can view the data contained in the *Auto* dataset by executing the command `Auto`, or use the command `help(Auto)` to see a description of the data in that dataset."
   ]
  },
  {
   "cell_type": "code",
   "execution_count": 7,
   "id": "22a1177c-f5fb-4c93-8575-39388799043d",
   "metadata": {},
   "outputs": [
    {
     "data": {
      "text/html": [
       "<table class=\"dataframe\">\n",
       "<caption>A data.frame: 392 × 9</caption>\n",
       "<thead>\n",
       "\t<tr><th></th><th scope=col>mpg</th><th scope=col>cylinders</th><th scope=col>displacement</th><th scope=col>horsepower</th><th scope=col>weight</th><th scope=col>acceleration</th><th scope=col>year</th><th scope=col>origin</th><th scope=col>name</th></tr>\n",
       "\t<tr><th></th><th scope=col>&lt;dbl&gt;</th><th scope=col>&lt;dbl&gt;</th><th scope=col>&lt;dbl&gt;</th><th scope=col>&lt;dbl&gt;</th><th scope=col>&lt;dbl&gt;</th><th scope=col>&lt;dbl&gt;</th><th scope=col>&lt;dbl&gt;</th><th scope=col>&lt;dbl&gt;</th><th scope=col>&lt;fct&gt;</th></tr>\n",
       "</thead>\n",
       "<tbody>\n",
       "\t<tr><th scope=row>1</th><td>18</td><td>8</td><td>307</td><td>130</td><td>3504</td><td>12.0</td><td>70</td><td>1</td><td>chevrolet chevelle malibu   </td></tr>\n",
       "\t<tr><th scope=row>2</th><td>15</td><td>8</td><td>350</td><td>165</td><td>3693</td><td>11.5</td><td>70</td><td>1</td><td>buick skylark 320           </td></tr>\n",
       "\t<tr><th scope=row>3</th><td>18</td><td>8</td><td>318</td><td>150</td><td>3436</td><td>11.0</td><td>70</td><td>1</td><td>plymouth satellite          </td></tr>\n",
       "\t<tr><th scope=row>4</th><td>16</td><td>8</td><td>304</td><td>150</td><td>3433</td><td>12.0</td><td>70</td><td>1</td><td>amc rebel sst               </td></tr>\n",
       "\t<tr><th scope=row>5</th><td>17</td><td>8</td><td>302</td><td>140</td><td>3449</td><td>10.5</td><td>70</td><td>1</td><td>ford torino                 </td></tr>\n",
       "\t<tr><th scope=row>6</th><td>15</td><td>8</td><td>429</td><td>198</td><td>4341</td><td>10.0</td><td>70</td><td>1</td><td>ford galaxie 500            </td></tr>\n",
       "\t<tr><th scope=row>7</th><td>14</td><td>8</td><td>454</td><td>220</td><td>4354</td><td> 9.0</td><td>70</td><td>1</td><td>chevrolet impala            </td></tr>\n",
       "\t<tr><th scope=row>8</th><td>14</td><td>8</td><td>440</td><td>215</td><td>4312</td><td> 8.5</td><td>70</td><td>1</td><td>plymouth fury iii           </td></tr>\n",
       "\t<tr><th scope=row>9</th><td>14</td><td>8</td><td>455</td><td>225</td><td>4425</td><td>10.0</td><td>70</td><td>1</td><td>pontiac catalina            </td></tr>\n",
       "\t<tr><th scope=row>10</th><td>15</td><td>8</td><td>390</td><td>190</td><td>3850</td><td> 8.5</td><td>70</td><td>1</td><td>amc ambassador dpl          </td></tr>\n",
       "\t<tr><th scope=row>11</th><td>15</td><td>8</td><td>383</td><td>170</td><td>3563</td><td>10.0</td><td>70</td><td>1</td><td>dodge challenger se         </td></tr>\n",
       "\t<tr><th scope=row>12</th><td>14</td><td>8</td><td>340</td><td>160</td><td>3609</td><td> 8.0</td><td>70</td><td>1</td><td>plymouth 'cuda 340          </td></tr>\n",
       "\t<tr><th scope=row>13</th><td>15</td><td>8</td><td>400</td><td>150</td><td>3761</td><td> 9.5</td><td>70</td><td>1</td><td>chevrolet monte carlo       </td></tr>\n",
       "\t<tr><th scope=row>14</th><td>14</td><td>8</td><td>455</td><td>225</td><td>3086</td><td>10.0</td><td>70</td><td>1</td><td>buick estate wagon (sw)     </td></tr>\n",
       "\t<tr><th scope=row>15</th><td>24</td><td>4</td><td>113</td><td> 95</td><td>2372</td><td>15.0</td><td>70</td><td>3</td><td>toyota corona mark ii       </td></tr>\n",
       "\t<tr><th scope=row>16</th><td>22</td><td>6</td><td>198</td><td> 95</td><td>2833</td><td>15.5</td><td>70</td><td>1</td><td>plymouth duster             </td></tr>\n",
       "\t<tr><th scope=row>17</th><td>18</td><td>6</td><td>199</td><td> 97</td><td>2774</td><td>15.5</td><td>70</td><td>1</td><td>amc hornet                  </td></tr>\n",
       "\t<tr><th scope=row>18</th><td>21</td><td>6</td><td>200</td><td> 85</td><td>2587</td><td>16.0</td><td>70</td><td>1</td><td>ford maverick               </td></tr>\n",
       "\t<tr><th scope=row>19</th><td>27</td><td>4</td><td> 97</td><td> 88</td><td>2130</td><td>14.5</td><td>70</td><td>3</td><td>datsun pl510                </td></tr>\n",
       "\t<tr><th scope=row>20</th><td>26</td><td>4</td><td> 97</td><td> 46</td><td>1835</td><td>20.5</td><td>70</td><td>2</td><td>volkswagen 1131 deluxe sedan</td></tr>\n",
       "\t<tr><th scope=row>21</th><td>25</td><td>4</td><td>110</td><td> 87</td><td>2672</td><td>17.5</td><td>70</td><td>2</td><td>peugeot 504                 </td></tr>\n",
       "\t<tr><th scope=row>22</th><td>24</td><td>4</td><td>107</td><td> 90</td><td>2430</td><td>14.5</td><td>70</td><td>2</td><td>audi 100 ls                 </td></tr>\n",
       "\t<tr><th scope=row>23</th><td>25</td><td>4</td><td>104</td><td> 95</td><td>2375</td><td>17.5</td><td>70</td><td>2</td><td>saab 99e                    </td></tr>\n",
       "\t<tr><th scope=row>24</th><td>26</td><td>4</td><td>121</td><td>113</td><td>2234</td><td>12.5</td><td>70</td><td>2</td><td>bmw 2002                    </td></tr>\n",
       "\t<tr><th scope=row>25</th><td>21</td><td>6</td><td>199</td><td> 90</td><td>2648</td><td>15.0</td><td>70</td><td>1</td><td>amc gremlin                 </td></tr>\n",
       "\t<tr><th scope=row>26</th><td>10</td><td>8</td><td>360</td><td>215</td><td>4615</td><td>14.0</td><td>70</td><td>1</td><td>ford f250                   </td></tr>\n",
       "\t<tr><th scope=row>27</th><td>10</td><td>8</td><td>307</td><td>200</td><td>4376</td><td>15.0</td><td>70</td><td>1</td><td>chevy c20                   </td></tr>\n",
       "\t<tr><th scope=row>28</th><td>11</td><td>8</td><td>318</td><td>210</td><td>4382</td><td>13.5</td><td>70</td><td>1</td><td>dodge d200                  </td></tr>\n",
       "\t<tr><th scope=row>29</th><td> 9</td><td>8</td><td>304</td><td>193</td><td>4732</td><td>18.5</td><td>70</td><td>1</td><td>hi 1200d                    </td></tr>\n",
       "\t<tr><th scope=row>30</th><td>27</td><td>4</td><td> 97</td><td> 88</td><td>2130</td><td>14.5</td><td>71</td><td>3</td><td>datsun pl510                </td></tr>\n",
       "\t<tr><th scope=row>⋮</th><td>⋮</td><td>⋮</td><td>⋮</td><td>⋮</td><td>⋮</td><td>⋮</td><td>⋮</td><td>⋮</td><td>⋮</td></tr>\n",
       "\t<tr><th scope=row>368</th><td>28</td><td>4</td><td>112</td><td> 88</td><td>2605</td><td>19.6</td><td>82</td><td>1</td><td>chevrolet cavalier               </td></tr>\n",
       "\t<tr><th scope=row>369</th><td>27</td><td>4</td><td>112</td><td> 88</td><td>2640</td><td>18.6</td><td>82</td><td>1</td><td>chevrolet cavalier wagon         </td></tr>\n",
       "\t<tr><th scope=row>370</th><td>34</td><td>4</td><td>112</td><td> 88</td><td>2395</td><td>18.0</td><td>82</td><td>1</td><td>chevrolet cavalier 2-door        </td></tr>\n",
       "\t<tr><th scope=row>371</th><td>31</td><td>4</td><td>112</td><td> 85</td><td>2575</td><td>16.2</td><td>82</td><td>1</td><td>pontiac j2000 se hatchback       </td></tr>\n",
       "\t<tr><th scope=row>372</th><td>29</td><td>4</td><td>135</td><td> 84</td><td>2525</td><td>16.0</td><td>82</td><td>1</td><td>dodge aries se                   </td></tr>\n",
       "\t<tr><th scope=row>373</th><td>27</td><td>4</td><td>151</td><td> 90</td><td>2735</td><td>18.0</td><td>82</td><td>1</td><td>pontiac phoenix                  </td></tr>\n",
       "\t<tr><th scope=row>374</th><td>24</td><td>4</td><td>140</td><td> 92</td><td>2865</td><td>16.4</td><td>82</td><td>1</td><td>ford fairmont futura             </td></tr>\n",
       "\t<tr><th scope=row>375</th><td>36</td><td>4</td><td>105</td><td> 74</td><td>1980</td><td>15.3</td><td>82</td><td>2</td><td>volkswagen rabbit l              </td></tr>\n",
       "\t<tr><th scope=row>376</th><td>37</td><td>4</td><td> 91</td><td> 68</td><td>2025</td><td>18.2</td><td>82</td><td>3</td><td>mazda glc custom l               </td></tr>\n",
       "\t<tr><th scope=row>377</th><td>31</td><td>4</td><td> 91</td><td> 68</td><td>1970</td><td>17.6</td><td>82</td><td>3</td><td>mazda glc custom                 </td></tr>\n",
       "\t<tr><th scope=row>378</th><td>38</td><td>4</td><td>105</td><td> 63</td><td>2125</td><td>14.7</td><td>82</td><td>1</td><td>plymouth horizon miser           </td></tr>\n",
       "\t<tr><th scope=row>379</th><td>36</td><td>4</td><td> 98</td><td> 70</td><td>2125</td><td>17.3</td><td>82</td><td>1</td><td>mercury lynx l                   </td></tr>\n",
       "\t<tr><th scope=row>380</th><td>36</td><td>4</td><td>120</td><td> 88</td><td>2160</td><td>14.5</td><td>82</td><td>3</td><td>nissan stanza xe                 </td></tr>\n",
       "\t<tr><th scope=row>381</th><td>36</td><td>4</td><td>107</td><td> 75</td><td>2205</td><td>14.5</td><td>82</td><td>3</td><td>honda accord                     </td></tr>\n",
       "\t<tr><th scope=row>382</th><td>34</td><td>4</td><td>108</td><td> 70</td><td>2245</td><td>16.9</td><td>82</td><td>3</td><td>toyota corolla                   </td></tr>\n",
       "\t<tr><th scope=row>383</th><td>38</td><td>4</td><td> 91</td><td> 67</td><td>1965</td><td>15.0</td><td>82</td><td>3</td><td>honda civic                      </td></tr>\n",
       "\t<tr><th scope=row>384</th><td>32</td><td>4</td><td> 91</td><td> 67</td><td>1965</td><td>15.7</td><td>82</td><td>3</td><td>honda civic (auto)               </td></tr>\n",
       "\t<tr><th scope=row>385</th><td>38</td><td>4</td><td> 91</td><td> 67</td><td>1995</td><td>16.2</td><td>82</td><td>3</td><td>datsun 310 gx                    </td></tr>\n",
       "\t<tr><th scope=row>386</th><td>25</td><td>6</td><td>181</td><td>110</td><td>2945</td><td>16.4</td><td>82</td><td>1</td><td>buick century limited            </td></tr>\n",
       "\t<tr><th scope=row>387</th><td>38</td><td>6</td><td>262</td><td> 85</td><td>3015</td><td>17.0</td><td>82</td><td>1</td><td>oldsmobile cutlass ciera (diesel)</td></tr>\n",
       "\t<tr><th scope=row>388</th><td>26</td><td>4</td><td>156</td><td> 92</td><td>2585</td><td>14.5</td><td>82</td><td>1</td><td>chrysler lebaron medallion       </td></tr>\n",
       "\t<tr><th scope=row>389</th><td>22</td><td>6</td><td>232</td><td>112</td><td>2835</td><td>14.7</td><td>82</td><td>1</td><td>ford granada l                   </td></tr>\n",
       "\t<tr><th scope=row>390</th><td>32</td><td>4</td><td>144</td><td> 96</td><td>2665</td><td>13.9</td><td>82</td><td>3</td><td>toyota celica gt                 </td></tr>\n",
       "\t<tr><th scope=row>391</th><td>36</td><td>4</td><td>135</td><td> 84</td><td>2370</td><td>13.0</td><td>82</td><td>1</td><td>dodge charger 2.2                </td></tr>\n",
       "\t<tr><th scope=row>392</th><td>27</td><td>4</td><td>151</td><td> 90</td><td>2950</td><td>17.3</td><td>82</td><td>1</td><td>chevrolet camaro                 </td></tr>\n",
       "\t<tr><th scope=row>393</th><td>27</td><td>4</td><td>140</td><td> 86</td><td>2790</td><td>15.6</td><td>82</td><td>1</td><td>ford mustang gl                  </td></tr>\n",
       "\t<tr><th scope=row>394</th><td>44</td><td>4</td><td> 97</td><td> 52</td><td>2130</td><td>24.6</td><td>82</td><td>2</td><td>vw pickup                        </td></tr>\n",
       "\t<tr><th scope=row>395</th><td>32</td><td>4</td><td>135</td><td> 84</td><td>2295</td><td>11.6</td><td>82</td><td>1</td><td>dodge rampage                    </td></tr>\n",
       "\t<tr><th scope=row>396</th><td>28</td><td>4</td><td>120</td><td> 79</td><td>2625</td><td>18.6</td><td>82</td><td>1</td><td>ford ranger                      </td></tr>\n",
       "\t<tr><th scope=row>397</th><td>31</td><td>4</td><td>119</td><td> 82</td><td>2720</td><td>19.4</td><td>82</td><td>1</td><td>chevy s-10                       </td></tr>\n",
       "</tbody>\n",
       "</table>\n"
      ],
      "text/latex": [
       "A data.frame: 392 × 9\n",
       "\\begin{tabular}{r|lllllllll}\n",
       "  & mpg & cylinders & displacement & horsepower & weight & acceleration & year & origin & name\\\\\n",
       "  & <dbl> & <dbl> & <dbl> & <dbl> & <dbl> & <dbl> & <dbl> & <dbl> & <fct>\\\\\n",
       "\\hline\n",
       "\t1 & 18 & 8 & 307 & 130 & 3504 & 12.0 & 70 & 1 & chevrolet chevelle malibu   \\\\\n",
       "\t2 & 15 & 8 & 350 & 165 & 3693 & 11.5 & 70 & 1 & buick skylark 320           \\\\\n",
       "\t3 & 18 & 8 & 318 & 150 & 3436 & 11.0 & 70 & 1 & plymouth satellite          \\\\\n",
       "\t4 & 16 & 8 & 304 & 150 & 3433 & 12.0 & 70 & 1 & amc rebel sst               \\\\\n",
       "\t5 & 17 & 8 & 302 & 140 & 3449 & 10.5 & 70 & 1 & ford torino                 \\\\\n",
       "\t6 & 15 & 8 & 429 & 198 & 4341 & 10.0 & 70 & 1 & ford galaxie 500            \\\\\n",
       "\t7 & 14 & 8 & 454 & 220 & 4354 &  9.0 & 70 & 1 & chevrolet impala            \\\\\n",
       "\t8 & 14 & 8 & 440 & 215 & 4312 &  8.5 & 70 & 1 & plymouth fury iii           \\\\\n",
       "\t9 & 14 & 8 & 455 & 225 & 4425 & 10.0 & 70 & 1 & pontiac catalina            \\\\\n",
       "\t10 & 15 & 8 & 390 & 190 & 3850 &  8.5 & 70 & 1 & amc ambassador dpl          \\\\\n",
       "\t11 & 15 & 8 & 383 & 170 & 3563 & 10.0 & 70 & 1 & dodge challenger se         \\\\\n",
       "\t12 & 14 & 8 & 340 & 160 & 3609 &  8.0 & 70 & 1 & plymouth 'cuda 340          \\\\\n",
       "\t13 & 15 & 8 & 400 & 150 & 3761 &  9.5 & 70 & 1 & chevrolet monte carlo       \\\\\n",
       "\t14 & 14 & 8 & 455 & 225 & 3086 & 10.0 & 70 & 1 & buick estate wagon (sw)     \\\\\n",
       "\t15 & 24 & 4 & 113 &  95 & 2372 & 15.0 & 70 & 3 & toyota corona mark ii       \\\\\n",
       "\t16 & 22 & 6 & 198 &  95 & 2833 & 15.5 & 70 & 1 & plymouth duster             \\\\\n",
       "\t17 & 18 & 6 & 199 &  97 & 2774 & 15.5 & 70 & 1 & amc hornet                  \\\\\n",
       "\t18 & 21 & 6 & 200 &  85 & 2587 & 16.0 & 70 & 1 & ford maverick               \\\\\n",
       "\t19 & 27 & 4 &  97 &  88 & 2130 & 14.5 & 70 & 3 & datsun pl510                \\\\\n",
       "\t20 & 26 & 4 &  97 &  46 & 1835 & 20.5 & 70 & 2 & volkswagen 1131 deluxe sedan\\\\\n",
       "\t21 & 25 & 4 & 110 &  87 & 2672 & 17.5 & 70 & 2 & peugeot 504                 \\\\\n",
       "\t22 & 24 & 4 & 107 &  90 & 2430 & 14.5 & 70 & 2 & audi 100 ls                 \\\\\n",
       "\t23 & 25 & 4 & 104 &  95 & 2375 & 17.5 & 70 & 2 & saab 99e                    \\\\\n",
       "\t24 & 26 & 4 & 121 & 113 & 2234 & 12.5 & 70 & 2 & bmw 2002                    \\\\\n",
       "\t25 & 21 & 6 & 199 &  90 & 2648 & 15.0 & 70 & 1 & amc gremlin                 \\\\\n",
       "\t26 & 10 & 8 & 360 & 215 & 4615 & 14.0 & 70 & 1 & ford f250                   \\\\\n",
       "\t27 & 10 & 8 & 307 & 200 & 4376 & 15.0 & 70 & 1 & chevy c20                   \\\\\n",
       "\t28 & 11 & 8 & 318 & 210 & 4382 & 13.5 & 70 & 1 & dodge d200                  \\\\\n",
       "\t29 &  9 & 8 & 304 & 193 & 4732 & 18.5 & 70 & 1 & hi 1200d                    \\\\\n",
       "\t30 & 27 & 4 &  97 &  88 & 2130 & 14.5 & 71 & 3 & datsun pl510                \\\\\n",
       "\t⋮ & ⋮ & ⋮ & ⋮ & ⋮ & ⋮ & ⋮ & ⋮ & ⋮ & ⋮\\\\\n",
       "\t368 & 28 & 4 & 112 &  88 & 2605 & 19.6 & 82 & 1 & chevrolet cavalier               \\\\\n",
       "\t369 & 27 & 4 & 112 &  88 & 2640 & 18.6 & 82 & 1 & chevrolet cavalier wagon         \\\\\n",
       "\t370 & 34 & 4 & 112 &  88 & 2395 & 18.0 & 82 & 1 & chevrolet cavalier 2-door        \\\\\n",
       "\t371 & 31 & 4 & 112 &  85 & 2575 & 16.2 & 82 & 1 & pontiac j2000 se hatchback       \\\\\n",
       "\t372 & 29 & 4 & 135 &  84 & 2525 & 16.0 & 82 & 1 & dodge aries se                   \\\\\n",
       "\t373 & 27 & 4 & 151 &  90 & 2735 & 18.0 & 82 & 1 & pontiac phoenix                  \\\\\n",
       "\t374 & 24 & 4 & 140 &  92 & 2865 & 16.4 & 82 & 1 & ford fairmont futura             \\\\\n",
       "\t375 & 36 & 4 & 105 &  74 & 1980 & 15.3 & 82 & 2 & volkswagen rabbit l              \\\\\n",
       "\t376 & 37 & 4 &  91 &  68 & 2025 & 18.2 & 82 & 3 & mazda glc custom l               \\\\\n",
       "\t377 & 31 & 4 &  91 &  68 & 1970 & 17.6 & 82 & 3 & mazda glc custom                 \\\\\n",
       "\t378 & 38 & 4 & 105 &  63 & 2125 & 14.7 & 82 & 1 & plymouth horizon miser           \\\\\n",
       "\t379 & 36 & 4 &  98 &  70 & 2125 & 17.3 & 82 & 1 & mercury lynx l                   \\\\\n",
       "\t380 & 36 & 4 & 120 &  88 & 2160 & 14.5 & 82 & 3 & nissan stanza xe                 \\\\\n",
       "\t381 & 36 & 4 & 107 &  75 & 2205 & 14.5 & 82 & 3 & honda accord                     \\\\\n",
       "\t382 & 34 & 4 & 108 &  70 & 2245 & 16.9 & 82 & 3 & toyota corolla                   \\\\\n",
       "\t383 & 38 & 4 &  91 &  67 & 1965 & 15.0 & 82 & 3 & honda civic                      \\\\\n",
       "\t384 & 32 & 4 &  91 &  67 & 1965 & 15.7 & 82 & 3 & honda civic (auto)               \\\\\n",
       "\t385 & 38 & 4 &  91 &  67 & 1995 & 16.2 & 82 & 3 & datsun 310 gx                    \\\\\n",
       "\t386 & 25 & 6 & 181 & 110 & 2945 & 16.4 & 82 & 1 & buick century limited            \\\\\n",
       "\t387 & 38 & 6 & 262 &  85 & 3015 & 17.0 & 82 & 1 & oldsmobile cutlass ciera (diesel)\\\\\n",
       "\t388 & 26 & 4 & 156 &  92 & 2585 & 14.5 & 82 & 1 & chrysler lebaron medallion       \\\\\n",
       "\t389 & 22 & 6 & 232 & 112 & 2835 & 14.7 & 82 & 1 & ford granada l                   \\\\\n",
       "\t390 & 32 & 4 & 144 &  96 & 2665 & 13.9 & 82 & 3 & toyota celica gt                 \\\\\n",
       "\t391 & 36 & 4 & 135 &  84 & 2370 & 13.0 & 82 & 1 & dodge charger 2.2                \\\\\n",
       "\t392 & 27 & 4 & 151 &  90 & 2950 & 17.3 & 82 & 1 & chevrolet camaro                 \\\\\n",
       "\t393 & 27 & 4 & 140 &  86 & 2790 & 15.6 & 82 & 1 & ford mustang gl                  \\\\\n",
       "\t394 & 44 & 4 &  97 &  52 & 2130 & 24.6 & 82 & 2 & vw pickup                        \\\\\n",
       "\t395 & 32 & 4 & 135 &  84 & 2295 & 11.6 & 82 & 1 & dodge rampage                    \\\\\n",
       "\t396 & 28 & 4 & 120 &  79 & 2625 & 18.6 & 82 & 1 & ford ranger                      \\\\\n",
       "\t397 & 31 & 4 & 119 &  82 & 2720 & 19.4 & 82 & 1 & chevy s-10                       \\\\\n",
       "\\end{tabular}\n"
      ],
      "text/markdown": [
       "\n",
       "A data.frame: 392 × 9\n",
       "\n",
       "| <!--/--> | mpg &lt;dbl&gt; | cylinders &lt;dbl&gt; | displacement &lt;dbl&gt; | horsepower &lt;dbl&gt; | weight &lt;dbl&gt; | acceleration &lt;dbl&gt; | year &lt;dbl&gt; | origin &lt;dbl&gt; | name &lt;fct&gt; |\n",
       "|---|---|---|---|---|---|---|---|---|---|\n",
       "| 1 | 18 | 8 | 307 | 130 | 3504 | 12.0 | 70 | 1 | chevrolet chevelle malibu    |\n",
       "| 2 | 15 | 8 | 350 | 165 | 3693 | 11.5 | 70 | 1 | buick skylark 320            |\n",
       "| 3 | 18 | 8 | 318 | 150 | 3436 | 11.0 | 70 | 1 | plymouth satellite           |\n",
       "| 4 | 16 | 8 | 304 | 150 | 3433 | 12.0 | 70 | 1 | amc rebel sst                |\n",
       "| 5 | 17 | 8 | 302 | 140 | 3449 | 10.5 | 70 | 1 | ford torino                  |\n",
       "| 6 | 15 | 8 | 429 | 198 | 4341 | 10.0 | 70 | 1 | ford galaxie 500             |\n",
       "| 7 | 14 | 8 | 454 | 220 | 4354 |  9.0 | 70 | 1 | chevrolet impala             |\n",
       "| 8 | 14 | 8 | 440 | 215 | 4312 |  8.5 | 70 | 1 | plymouth fury iii            |\n",
       "| 9 | 14 | 8 | 455 | 225 | 4425 | 10.0 | 70 | 1 | pontiac catalina             |\n",
       "| 10 | 15 | 8 | 390 | 190 | 3850 |  8.5 | 70 | 1 | amc ambassador dpl           |\n",
       "| 11 | 15 | 8 | 383 | 170 | 3563 | 10.0 | 70 | 1 | dodge challenger se          |\n",
       "| 12 | 14 | 8 | 340 | 160 | 3609 |  8.0 | 70 | 1 | plymouth 'cuda 340           |\n",
       "| 13 | 15 | 8 | 400 | 150 | 3761 |  9.5 | 70 | 1 | chevrolet monte carlo        |\n",
       "| 14 | 14 | 8 | 455 | 225 | 3086 | 10.0 | 70 | 1 | buick estate wagon (sw)      |\n",
       "| 15 | 24 | 4 | 113 |  95 | 2372 | 15.0 | 70 | 3 | toyota corona mark ii        |\n",
       "| 16 | 22 | 6 | 198 |  95 | 2833 | 15.5 | 70 | 1 | plymouth duster              |\n",
       "| 17 | 18 | 6 | 199 |  97 | 2774 | 15.5 | 70 | 1 | amc hornet                   |\n",
       "| 18 | 21 | 6 | 200 |  85 | 2587 | 16.0 | 70 | 1 | ford maverick                |\n",
       "| 19 | 27 | 4 |  97 |  88 | 2130 | 14.5 | 70 | 3 | datsun pl510                 |\n",
       "| 20 | 26 | 4 |  97 |  46 | 1835 | 20.5 | 70 | 2 | volkswagen 1131 deluxe sedan |\n",
       "| 21 | 25 | 4 | 110 |  87 | 2672 | 17.5 | 70 | 2 | peugeot 504                  |\n",
       "| 22 | 24 | 4 | 107 |  90 | 2430 | 14.5 | 70 | 2 | audi 100 ls                  |\n",
       "| 23 | 25 | 4 | 104 |  95 | 2375 | 17.5 | 70 | 2 | saab 99e                     |\n",
       "| 24 | 26 | 4 | 121 | 113 | 2234 | 12.5 | 70 | 2 | bmw 2002                     |\n",
       "| 25 | 21 | 6 | 199 |  90 | 2648 | 15.0 | 70 | 1 | amc gremlin                  |\n",
       "| 26 | 10 | 8 | 360 | 215 | 4615 | 14.0 | 70 | 1 | ford f250                    |\n",
       "| 27 | 10 | 8 | 307 | 200 | 4376 | 15.0 | 70 | 1 | chevy c20                    |\n",
       "| 28 | 11 | 8 | 318 | 210 | 4382 | 13.5 | 70 | 1 | dodge d200                   |\n",
       "| 29 |  9 | 8 | 304 | 193 | 4732 | 18.5 | 70 | 1 | hi 1200d                     |\n",
       "| 30 | 27 | 4 |  97 |  88 | 2130 | 14.5 | 71 | 3 | datsun pl510                 |\n",
       "| ⋮ | ⋮ | ⋮ | ⋮ | ⋮ | ⋮ | ⋮ | ⋮ | ⋮ | ⋮ |\n",
       "| 368 | 28 | 4 | 112 |  88 | 2605 | 19.6 | 82 | 1 | chevrolet cavalier                |\n",
       "| 369 | 27 | 4 | 112 |  88 | 2640 | 18.6 | 82 | 1 | chevrolet cavalier wagon          |\n",
       "| 370 | 34 | 4 | 112 |  88 | 2395 | 18.0 | 82 | 1 | chevrolet cavalier 2-door         |\n",
       "| 371 | 31 | 4 | 112 |  85 | 2575 | 16.2 | 82 | 1 | pontiac j2000 se hatchback        |\n",
       "| 372 | 29 | 4 | 135 |  84 | 2525 | 16.0 | 82 | 1 | dodge aries se                    |\n",
       "| 373 | 27 | 4 | 151 |  90 | 2735 | 18.0 | 82 | 1 | pontiac phoenix                   |\n",
       "| 374 | 24 | 4 | 140 |  92 | 2865 | 16.4 | 82 | 1 | ford fairmont futura              |\n",
       "| 375 | 36 | 4 | 105 |  74 | 1980 | 15.3 | 82 | 2 | volkswagen rabbit l               |\n",
       "| 376 | 37 | 4 |  91 |  68 | 2025 | 18.2 | 82 | 3 | mazda glc custom l                |\n",
       "| 377 | 31 | 4 |  91 |  68 | 1970 | 17.6 | 82 | 3 | mazda glc custom                  |\n",
       "| 378 | 38 | 4 | 105 |  63 | 2125 | 14.7 | 82 | 1 | plymouth horizon miser            |\n",
       "| 379 | 36 | 4 |  98 |  70 | 2125 | 17.3 | 82 | 1 | mercury lynx l                    |\n",
       "| 380 | 36 | 4 | 120 |  88 | 2160 | 14.5 | 82 | 3 | nissan stanza xe                  |\n",
       "| 381 | 36 | 4 | 107 |  75 | 2205 | 14.5 | 82 | 3 | honda accord                      |\n",
       "| 382 | 34 | 4 | 108 |  70 | 2245 | 16.9 | 82 | 3 | toyota corolla                    |\n",
       "| 383 | 38 | 4 |  91 |  67 | 1965 | 15.0 | 82 | 3 | honda civic                       |\n",
       "| 384 | 32 | 4 |  91 |  67 | 1965 | 15.7 | 82 | 3 | honda civic (auto)                |\n",
       "| 385 | 38 | 4 |  91 |  67 | 1995 | 16.2 | 82 | 3 | datsun 310 gx                     |\n",
       "| 386 | 25 | 6 | 181 | 110 | 2945 | 16.4 | 82 | 1 | buick century limited             |\n",
       "| 387 | 38 | 6 | 262 |  85 | 3015 | 17.0 | 82 | 1 | oldsmobile cutlass ciera (diesel) |\n",
       "| 388 | 26 | 4 | 156 |  92 | 2585 | 14.5 | 82 | 1 | chrysler lebaron medallion        |\n",
       "| 389 | 22 | 6 | 232 | 112 | 2835 | 14.7 | 82 | 1 | ford granada l                    |\n",
       "| 390 | 32 | 4 | 144 |  96 | 2665 | 13.9 | 82 | 3 | toyota celica gt                  |\n",
       "| 391 | 36 | 4 | 135 |  84 | 2370 | 13.0 | 82 | 1 | dodge charger 2.2                 |\n",
       "| 392 | 27 | 4 | 151 |  90 | 2950 | 17.3 | 82 | 1 | chevrolet camaro                  |\n",
       "| 393 | 27 | 4 | 140 |  86 | 2790 | 15.6 | 82 | 1 | ford mustang gl                   |\n",
       "| 394 | 44 | 4 |  97 |  52 | 2130 | 24.6 | 82 | 2 | vw pickup                         |\n",
       "| 395 | 32 | 4 | 135 |  84 | 2295 | 11.6 | 82 | 1 | dodge rampage                     |\n",
       "| 396 | 28 | 4 | 120 |  79 | 2625 | 18.6 | 82 | 1 | ford ranger                       |\n",
       "| 397 | 31 | 4 | 119 |  82 | 2720 | 19.4 | 82 | 1 | chevy s-10                        |\n",
       "\n"
      ],
      "text/plain": [
       "    mpg cylinders displacement horsepower weight acceleration year origin\n",
       "1   18  8         307          130        3504   12.0         70   1     \n",
       "2   15  8         350          165        3693   11.5         70   1     \n",
       "3   18  8         318          150        3436   11.0         70   1     \n",
       "4   16  8         304          150        3433   12.0         70   1     \n",
       "5   17  8         302          140        3449   10.5         70   1     \n",
       "6   15  8         429          198        4341   10.0         70   1     \n",
       "7   14  8         454          220        4354    9.0         70   1     \n",
       "8   14  8         440          215        4312    8.5         70   1     \n",
       "9   14  8         455          225        4425   10.0         70   1     \n",
       "10  15  8         390          190        3850    8.5         70   1     \n",
       "11  15  8         383          170        3563   10.0         70   1     \n",
       "12  14  8         340          160        3609    8.0         70   1     \n",
       "13  15  8         400          150        3761    9.5         70   1     \n",
       "14  14  8         455          225        3086   10.0         70   1     \n",
       "15  24  4         113           95        2372   15.0         70   3     \n",
       "16  22  6         198           95        2833   15.5         70   1     \n",
       "17  18  6         199           97        2774   15.5         70   1     \n",
       "18  21  6         200           85        2587   16.0         70   1     \n",
       "19  27  4          97           88        2130   14.5         70   3     \n",
       "20  26  4          97           46        1835   20.5         70   2     \n",
       "21  25  4         110           87        2672   17.5         70   2     \n",
       "22  24  4         107           90        2430   14.5         70   2     \n",
       "23  25  4         104           95        2375   17.5         70   2     \n",
       "24  26  4         121          113        2234   12.5         70   2     \n",
       "25  21  6         199           90        2648   15.0         70   1     \n",
       "26  10  8         360          215        4615   14.0         70   1     \n",
       "27  10  8         307          200        4376   15.0         70   1     \n",
       "28  11  8         318          210        4382   13.5         70   1     \n",
       "29   9  8         304          193        4732   18.5         70   1     \n",
       "30  27  4          97           88        2130   14.5         71   3     \n",
       "⋮   ⋮   ⋮         ⋮            ⋮          ⋮      ⋮            ⋮    ⋮     \n",
       "368 28  4         112           88        2605   19.6         82   1     \n",
       "369 27  4         112           88        2640   18.6         82   1     \n",
       "370 34  4         112           88        2395   18.0         82   1     \n",
       "371 31  4         112           85        2575   16.2         82   1     \n",
       "372 29  4         135           84        2525   16.0         82   1     \n",
       "373 27  4         151           90        2735   18.0         82   1     \n",
       "374 24  4         140           92        2865   16.4         82   1     \n",
       "375 36  4         105           74        1980   15.3         82   2     \n",
       "376 37  4          91           68        2025   18.2         82   3     \n",
       "377 31  4          91           68        1970   17.6         82   3     \n",
       "378 38  4         105           63        2125   14.7         82   1     \n",
       "379 36  4          98           70        2125   17.3         82   1     \n",
       "380 36  4         120           88        2160   14.5         82   3     \n",
       "381 36  4         107           75        2205   14.5         82   3     \n",
       "382 34  4         108           70        2245   16.9         82   3     \n",
       "383 38  4          91           67        1965   15.0         82   3     \n",
       "384 32  4          91           67        1965   15.7         82   3     \n",
       "385 38  4          91           67        1995   16.2         82   3     \n",
       "386 25  6         181          110        2945   16.4         82   1     \n",
       "387 38  6         262           85        3015   17.0         82   1     \n",
       "388 26  4         156           92        2585   14.5         82   1     \n",
       "389 22  6         232          112        2835   14.7         82   1     \n",
       "390 32  4         144           96        2665   13.9         82   3     \n",
       "391 36  4         135           84        2370   13.0         82   1     \n",
       "392 27  4         151           90        2950   17.3         82   1     \n",
       "393 27  4         140           86        2790   15.6         82   1     \n",
       "394 44  4          97           52        2130   24.6         82   2     \n",
       "395 32  4         135           84        2295   11.6         82   1     \n",
       "396 28  4         120           79        2625   18.6         82   1     \n",
       "397 31  4         119           82        2720   19.4         82   1     \n",
       "    name                             \n",
       "1   chevrolet chevelle malibu        \n",
       "2   buick skylark 320                \n",
       "3   plymouth satellite               \n",
       "4   amc rebel sst                    \n",
       "5   ford torino                      \n",
       "6   ford galaxie 500                 \n",
       "7   chevrolet impala                 \n",
       "8   plymouth fury iii                \n",
       "9   pontiac catalina                 \n",
       "10  amc ambassador dpl               \n",
       "11  dodge challenger se              \n",
       "12  plymouth 'cuda 340               \n",
       "13  chevrolet monte carlo            \n",
       "14  buick estate wagon (sw)          \n",
       "15  toyota corona mark ii            \n",
       "16  plymouth duster                  \n",
       "17  amc hornet                       \n",
       "18  ford maverick                    \n",
       "19  datsun pl510                     \n",
       "20  volkswagen 1131 deluxe sedan     \n",
       "21  peugeot 504                      \n",
       "22  audi 100 ls                      \n",
       "23  saab 99e                         \n",
       "24  bmw 2002                         \n",
       "25  amc gremlin                      \n",
       "26  ford f250                        \n",
       "27  chevy c20                        \n",
       "28  dodge d200                       \n",
       "29  hi 1200d                         \n",
       "30  datsun pl510                     \n",
       "⋮   ⋮                                \n",
       "368 chevrolet cavalier               \n",
       "369 chevrolet cavalier wagon         \n",
       "370 chevrolet cavalier 2-door        \n",
       "371 pontiac j2000 se hatchback       \n",
       "372 dodge aries se                   \n",
       "373 pontiac phoenix                  \n",
       "374 ford fairmont futura             \n",
       "375 volkswagen rabbit l              \n",
       "376 mazda glc custom l               \n",
       "377 mazda glc custom                 \n",
       "378 plymouth horizon miser           \n",
       "379 mercury lynx l                   \n",
       "380 nissan stanza xe                 \n",
       "381 honda accord                     \n",
       "382 toyota corolla                   \n",
       "383 honda civic                      \n",
       "384 honda civic (auto)               \n",
       "385 datsun 310 gx                    \n",
       "386 buick century limited            \n",
       "387 oldsmobile cutlass ciera (diesel)\n",
       "388 chrysler lebaron medallion       \n",
       "389 ford granada l                   \n",
       "390 toyota celica gt                 \n",
       "391 dodge charger 2.2                \n",
       "392 chevrolet camaro                 \n",
       "393 ford mustang gl                  \n",
       "394 vw pickup                        \n",
       "395 dodge rampage                    \n",
       "396 ford ranger                      \n",
       "397 chevy s-10                       "
      ]
     },
     "metadata": {},
     "output_type": "display_data"
    }
   ],
   "source": [
    "Auto"
   ]
  },
  {
   "cell_type": "code",
   "execution_count": 8,
   "id": "8c6078db-3bdd-419e-b374-03aa76d2bb33",
   "metadata": {},
   "outputs": [
    {
     "data": {
      "text/html": [
       "\n",
       "<table style=\"width: 100%;\"><tr><td>Auto {ISLR}</td><td style=\"text-align: right;\">R Documentation</td></tr></table>\n",
       "\n",
       "<h2 id='Auto'>\n",
       "Auto Data Set\n",
       "</h2>\n",
       "\n",
       "<h3>Description</h3>\n",
       "\n",
       "<p>Gas mileage, horsepower, and other information for 392 vehicles.</p>\n",
       "\n",
       "\n",
       "<h3>Usage</h3>\n",
       "\n",
       "<pre><code class='language-R'>Auto</code></pre>\n",
       "\n",
       "\n",
       "<h3>Format</h3>\n",
       "\n",
       "<p>A data frame with 392 observations on the following 9 variables.\n",
       "</p>\n",
       "\n",
       "<dl>\n",
       "<dt><code>mpg</code></dt><dd><p>miles per gallon</p>\n",
       "</dd>\n",
       "<dt><code>cylinders</code></dt><dd><p>Number of cylinders between 4 and 8</p>\n",
       "</dd>\n",
       "<dt><code>displacement</code></dt><dd><p>Engine displacement (cu. inches)</p>\n",
       "</dd>\n",
       "<dt><code>horsepower</code></dt><dd><p>Engine horsepower</p>\n",
       "</dd>\n",
       "<dt><code>weight</code></dt><dd><p>Vehicle weight (lbs.)</p>\n",
       "</dd>\n",
       "<dt><code>acceleration</code></dt><dd><p>Time to accelerate from 0 to 60 mph (sec.)</p>\n",
       "</dd>\n",
       "<dt><code>year</code></dt><dd><p>Model year (modulo 100)</p>\n",
       "</dd>\n",
       "<dt><code>origin</code></dt><dd><p>Origin of car (1. American, 2. European, 3. Japanese)</p>\n",
       "</dd>\n",
       "<dt><code>name</code></dt><dd><p>Vehicle name</p>\n",
       "</dd></dl>\n",
       "\n",
       "<p>The orginal data contained 408 observations but 16 observations with\n",
       "missing values were removed.</p>\n",
       "\n",
       "\n",
       "<h3>Source</h3>\n",
       "\n",
       "<p>This dataset was taken from the StatLib library which is maintained at Carnegie Mellon University. The dataset was used in the 1983 American Statistical Association Exposition.\n",
       "</p>\n",
       "\n",
       "\n",
       "<h3>References</h3>\n",
       "\n",
       "<p>James, G., Witten, D., Hastie, T., and Tibshirani, R. (2013)\n",
       "<em>An Introduction to Statistical Learning with applications in R</em>,\n",
       "<a href=\"https://www.statlearning.com\">https://www.statlearning.com</a>,\n",
       "Springer-Verlag, New York\n",
       "</p>\n",
       "\n",
       "\n",
       "<h3>Examples</h3>\n",
       "\n",
       "<pre><code class='language-R'>pairs(Auto)\n",
       "attach(Auto)\n",
       "hist(mpg)\n",
       "</code></pre>\n",
       "\n",
       "<hr /><div style=\"text-align: center;\">[Package <em>ISLR</em> version 1.4 ]</div>\n",
       "</div>"
      ],
      "text/latex": [
       "\\inputencoding{utf8}\n",
       "\\HeaderA{Auto}{Auto Data Set}{Auto}\n",
       "\\keyword{datasets}{Auto}\n",
       "%\n",
       "\\begin{Description}\n",
       "Gas mileage, horsepower, and other information for 392 vehicles.\n",
       "\\end{Description}\n",
       "%\n",
       "\\begin{Usage}\n",
       "\\begin{verbatim}\n",
       "Auto\n",
       "\\end{verbatim}\n",
       "\\end{Usage}\n",
       "%\n",
       "\\begin{Format}\n",
       "A data frame with 392 observations on the following 9 variables.\n",
       "\\begin{description}\n",
       "\n",
       "\\item[\\code{mpg}] miles per gallon\n",
       "\\item[\\code{cylinders}] Number of cylinders between 4 and 8\n",
       "\\item[\\code{displacement}] Engine displacement (cu. inches)\n",
       "\\item[\\code{horsepower}] Engine horsepower\n",
       "\\item[\\code{weight}] Vehicle weight (lbs.)\n",
       "\\item[\\code{acceleration}] Time to accelerate from 0 to 60 mph (sec.)\n",
       "\\item[\\code{year}] Model year (modulo 100)\n",
       "\\item[\\code{origin}] Origin of car (1. American, 2. European, 3. Japanese)\n",
       "\\item[\\code{name}] Vehicle name\n",
       "\\end{description}\n",
       "\n",
       "\n",
       "The orginal data contained 408 observations but 16 observations with\n",
       "missing values were removed.\n",
       "\\end{Format}\n",
       "%\n",
       "\\begin{Source}\n",
       "This dataset was taken from the StatLib library which is maintained at Carnegie Mellon University. The dataset was used in the 1983 American Statistical Association Exposition.\n",
       "\\end{Source}\n",
       "%\n",
       "\\begin{References}\n",
       "James, G., Witten, D., Hastie, T., and Tibshirani, R. (2013)\n",
       "\\emph{An Introduction to Statistical Learning with applications in R},\n",
       "\\url{https://www.statlearning.com},\n",
       "Springer-Verlag, New York\n",
       "\\end{References}\n",
       "%\n",
       "\\begin{Examples}\n",
       "\\begin{ExampleCode}\n",
       "pairs(Auto)\n",
       "attach(Auto)\n",
       "hist(mpg)\n",
       "\\end{ExampleCode}\n",
       "\\end{Examples}"
      ],
      "text/plain": [
       "Auto                   package:ISLR                    R Documentation\n",
       "\n",
       "_\bA_\bu_\bt_\bo _\bD_\ba_\bt_\ba _\bS_\be_\bt\n",
       "\n",
       "_\bD_\be_\bs_\bc_\br_\bi_\bp_\bt_\bi_\bo_\bn:\n",
       "\n",
       "     Gas mileage, horsepower, and other information for 392 vehicles.\n",
       "\n",
       "_\bU_\bs_\ba_\bg_\be:\n",
       "\n",
       "     Auto\n",
       "     \n",
       "_\bF_\bo_\br_\bm_\ba_\bt:\n",
       "\n",
       "     A data frame with 392 observations on the following 9 variables.\n",
       "\n",
       "     ‘mpg’ miles per gallon\n",
       "\n",
       "     ‘cylinders’ Number of cylinders between 4 and 8\n",
       "\n",
       "     ‘displacement’ Engine displacement (cu. inches)\n",
       "\n",
       "     ‘horsepower’ Engine horsepower\n",
       "\n",
       "     ‘weight’ Vehicle weight (lbs.)\n",
       "\n",
       "     ‘acceleration’ Time to accelerate from 0 to 60 mph (sec.)\n",
       "\n",
       "     ‘year’ Model year (modulo 100)\n",
       "\n",
       "     ‘origin’ Origin of car (1. American, 2. European, 3. Japanese)\n",
       "\n",
       "     ‘name’ Vehicle name\n",
       "\n",
       "     The orginal data contained 408 observations but 16 observations\n",
       "     with missing values were removed.\n",
       "\n",
       "_\bS_\bo_\bu_\br_\bc_\be:\n",
       "\n",
       "     This dataset was taken from the StatLib library which is\n",
       "     maintained at Carnegie Mellon University. The dataset was used in\n",
       "     the 1983 American Statistical Association Exposition.\n",
       "\n",
       "_\bR_\be_\bf_\be_\br_\be_\bn_\bc_\be_\bs:\n",
       "\n",
       "     James, G., Witten, D., Hastie, T., and Tibshirani, R. (2013) _An\n",
       "     Introduction to Statistical Learning with applications in R_,\n",
       "     <https://www.statlearning.com>, Springer-Verlag, New York\n",
       "\n",
       "_\bE_\bx_\ba_\bm_\bp_\bl_\be_\bs:\n",
       "\n",
       "     pairs(Auto)\n",
       "     attach(Auto)\n",
       "     hist(mpg)\n",
       "     "
      ]
     },
     "metadata": {},
     "output_type": "display_data"
    }
   ],
   "source": [
    "help(Auto)"
   ]
  },
  {
   "cell_type": "markdown",
   "id": "e8a8d47b-a5a8-49b7-9d49-bb37f7dc7db6",
   "metadata": {},
   "source": [
    "As described in the help documentation, this dataset consists of 392 vehicles with 9 different variables. We will use this dataset in a later example."
   ]
  },
  {
   "cell_type": "markdown",
   "id": "7fc4c65b-5473-42d2-a763-d4c01e199297",
   "metadata": {},
   "source": [
    "# Data Types and Structures in R\n",
    "\n",
    "The most common data types in R are:\n",
    "\n",
    "1. **Numeric**: Data containing real numbers.\n",
    "2. **Logical**: Data that can only have logical values of true (`TRUE`) or false (`FALSE`).\n",
    "3. **Complex**: Data containing complex numbers.\n",
    "4. **Character**: Data containing any type of character.\n",
    "\n",
    "Using the `mode()` function in R, we can determine the data type of the following elements that we will create:"
   ]
  },
  {
   "cell_type": "code",
   "execution_count": 9,
   "id": "a1eec8b5-d18a-4989-96b8-8e59b272218a",
   "metadata": {},
   "outputs": [
    {
     "data": {
      "text/html": [
       "'numeric'"
      ],
      "text/latex": [
       "'numeric'"
      ],
      "text/markdown": [
       "'numeric'"
      ],
      "text/plain": [
       "[1] \"numeric\""
      ]
     },
     "metadata": {},
     "output_type": "display_data"
    }
   ],
   "source": [
    "# Create a numeric variable\n",
    "x1 <- 2\n",
    "mode(x1)  "
   ]
  },
  {
   "cell_type": "code",
   "execution_count": 10,
   "id": "cccd3047-2dc5-4fe8-b611-6e6b2d96a2e4",
   "metadata": {},
   "outputs": [
    {
     "data": {
      "text/html": [
       "'logical'"
      ],
      "text/latex": [
       "'logical'"
      ],
      "text/markdown": [
       "'logical'"
      ],
      "text/plain": [
       "[1] \"logical\""
      ]
     },
     "metadata": {},
     "output_type": "display_data"
    }
   ],
   "source": [
    "# Create a logical variable\n",
    "x2 <- TRUE  \n",
    "mode(x2)  "
   ]
  },
  {
   "cell_type": "code",
   "execution_count": 11,
   "id": "a2299d1c-ac6c-464c-8cb3-35564b71c5ac",
   "metadata": {},
   "outputs": [
    {
     "data": {
      "text/html": [
       "'complex'"
      ],
      "text/latex": [
       "'complex'"
      ],
      "text/markdown": [
       "'complex'"
      ],
      "text/plain": [
       "[1] \"complex\""
      ]
     },
     "metadata": {},
     "output_type": "display_data"
    }
   ],
   "source": [
    "# Create a complex variable\n",
    "x3 <- 3+4i  \n",
    "mode(x3)  "
   ]
  },
  {
   "cell_type": "code",
   "execution_count": 12,
   "id": "70ea43ac-db1e-47a2-a56b-ec745751b7f6",
   "metadata": {},
   "outputs": [
    {
     "data": {
      "text/html": [
       "'character'"
      ],
      "text/latex": [
       "'character'"
      ],
      "text/markdown": [
       "'character'"
      ],
      "text/plain": [
       "[1] \"character\""
      ]
     },
     "metadata": {},
     "output_type": "display_data"
    }
   ],
   "source": [
    "# Create a character variable\n",
    "x4 <- \"Ana\"\n",
    "mode(x4)  "
   ]
  },
  {
   "cell_type": "markdown",
   "id": "2def27ba-b5a2-4d3f-9c10-e429baefcc1b",
   "metadata": {},
   "source": [
    "R uses different data structures, which we will explore in detail in the following sections:\n",
    "\n",
    "1. **Vectors**: One-dimensional arrays that can only contain values of the same type, whether numeric, alphanumeric, or logical. As we already know, vectors are created using the `c()` function (a contraction of `combine()`).\n",
    "2. **Matrices**: A two-dimensional structure with the *dim* attribute, which defines the number of rows and columns. They are created using the `matrix()` function.\n",
    "3. **Arrays**: Similar to matrices but can have more than two dimensions.\n",
    "4. **Factors**: A special type of vector used to represent categorical variables.\n",
    "5. **Lists**: An ordered collection of data where the stored elements can be of different types and sizes.\n",
    "6. **Data Frame** (*Data Table*): A generalization of matrices, where each column can store a different data type. However, all columns must have the same length.\n",
    "\n",
    "The `class()` function, which we will use in the following sections, indicates the class to which each of these objects belongs.\n"
   ]
  },
  {
   "cell_type": "markdown",
   "id": "f8cec81c-f3de-4b11-b400-d62d99975400",
   "metadata": {},
   "source": [
    "## Vectors\n",
    "\n",
    "The simplest structure in R is the vector, which is a collection of elements of the same type. To create a vector `x` consisting of five numbers, for example, 11.2, 4.5, 12.3, 7.8, and 10.3, we use the `c()` function, separating the elements with commas:"
   ]
  },
  {
   "cell_type": "code",
   "execution_count": 13,
   "id": "8222482f-1acf-40dc-bd79-e09cb502536a",
   "metadata": {},
   "outputs": [
    {
     "data": {
      "text/html": [
       "<style>\n",
       ".list-inline {list-style: none; margin:0; padding: 0}\n",
       ".list-inline>li {display: inline-block}\n",
       ".list-inline>li:not(:last-child)::after {content: \"\\00b7\"; padding: 0 .5ex}\n",
       "</style>\n",
       "<ol class=list-inline><li>11.2</li><li>4.5</li><li>12.3</li><li>7.8</li><li>10.3</li></ol>\n"
      ],
      "text/latex": [
       "\\begin{enumerate*}\n",
       "\\item 11.2\n",
       "\\item 4.5\n",
       "\\item 12.3\n",
       "\\item 7.8\n",
       "\\item 10.3\n",
       "\\end{enumerate*}\n"
      ],
      "text/markdown": [
       "1. 11.2\n",
       "2. 4.5\n",
       "3. 12.3\n",
       "4. 7.8\n",
       "5. 10.3\n",
       "\n",
       "\n"
      ],
      "text/plain": [
       "[1] 11.2  4.5 12.3  7.8 10.3"
      ]
     },
     "metadata": {},
     "output_type": "display_data"
    }
   ],
   "source": [
    "x <- c(11.2, 4.5, 12.3, 7.8, 10.3); x"
   ]
  },
  {
   "cell_type": "markdown",
   "id": "fb4096b5-45e5-4c5a-890a-4123dec4384c",
   "metadata": {},
   "source": [
    "A single number, by itself, is considered a vector of length one.\n",
    "\n",
    "If the following assignment is made:"
   ]
  },
  {
   "cell_type": "code",
   "execution_count": 14,
   "id": "d1459b25-087c-4083-9a56-1e92547c0baf",
   "metadata": {},
   "outputs": [],
   "source": [
    "y <- c(x, 0, x)"
   ]
  },
  {
   "cell_type": "markdown",
   "id": "08dde711-c545-4af1-868b-e4cdd226d56d",
   "metadata": {},
   "source": [
    "a vector `y` will be created with 11 elements, consisting of two copies of `x` with a zero in between. \n",
    "\n",
    "Remember that when an assignment is made, the result is not printed on the screen. To view it, you need to call the newly created variable:"
   ]
  },
  {
   "cell_type": "code",
   "execution_count": 15,
   "id": "791b4d60-c892-42d7-a1f4-bbb99d54ab84",
   "metadata": {},
   "outputs": [
    {
     "data": {
      "text/html": [
       "<style>\n",
       ".list-inline {list-style: none; margin:0; padding: 0}\n",
       ".list-inline>li {display: inline-block}\n",
       ".list-inline>li:not(:last-child)::after {content: \"\\00b7\"; padding: 0 .5ex}\n",
       "</style>\n",
       "<ol class=list-inline><li>11.2</li><li>4.5</li><li>12.3</li><li>7.8</li><li>10.3</li><li>0</li><li>11.2</li><li>4.5</li><li>12.3</li><li>7.8</li><li>10.3</li></ol>\n"
      ],
      "text/latex": [
       "\\begin{enumerate*}\n",
       "\\item 11.2\n",
       "\\item 4.5\n",
       "\\item 12.3\n",
       "\\item 7.8\n",
       "\\item 10.3\n",
       "\\item 0\n",
       "\\item 11.2\n",
       "\\item 4.5\n",
       "\\item 12.3\n",
       "\\item 7.8\n",
       "\\item 10.3\n",
       "\\end{enumerate*}\n"
      ],
      "text/markdown": [
       "1. 11.2\n",
       "2. 4.5\n",
       "3. 12.3\n",
       "4. 7.8\n",
       "5. 10.3\n",
       "6. 0\n",
       "7. 11.2\n",
       "8. 4.5\n",
       "9. 12.3\n",
       "10. 7.8\n",
       "11. 10.3\n",
       "\n",
       "\n"
      ],
      "text/plain": [
       " [1] 11.2  4.5 12.3  7.8 10.3  0.0 11.2  4.5 12.3  7.8 10.3"
      ]
     },
     "metadata": {},
     "output_type": "display_data"
    }
   ],
   "source": [
    "y"
   ]
  },
  {
   "cell_type": "markdown",
   "id": "9152116f-1555-4671-9ff4-3faae11e2d34",
   "metadata": {},
   "source": [
    "You may be interested in selecting a specific value from the vector, for example, the value 12.3 from the vector `x`. To do this, you simply need to know the position of that element in the vector and execute the following command:"
   ]
  },
  {
   "cell_type": "code",
   "execution_count": 16,
   "id": "351fc7fc-661e-426b-8544-e64ce97ed784",
   "metadata": {},
   "outputs": [
    {
     "data": {
      "text/html": [
       "12.3"
      ],
      "text/latex": [
       "12.3"
      ],
      "text/markdown": [
       "12.3"
      ],
      "text/plain": [
       "[1] 12.3"
      ]
     },
     "metadata": {},
     "output_type": "display_data"
    }
   ],
   "source": [
    "x[3]"
   ]
  },
  {
   "cell_type": "markdown",
   "id": "223c3728-ff9a-4719-8352-2a172aeb3839",
   "metadata": {},
   "source": [
    "Or retrieve the first three elements of the vector `x` using:"
   ]
  },
  {
   "cell_type": "code",
   "execution_count": 17,
   "id": "8184cbed-c9a9-4d21-af4f-38f43cda8095",
   "metadata": {},
   "outputs": [
    {
     "data": {
      "text/html": [
       "<style>\n",
       ".list-inline {list-style: none; margin:0; padding: 0}\n",
       ".list-inline>li {display: inline-block}\n",
       ".list-inline>li:not(:last-child)::after {content: \"\\00b7\"; padding: 0 .5ex}\n",
       "</style>\n",
       "<ol class=list-inline><li>11.2</li><li>4.5</li><li>12.3</li></ol>\n"
      ],
      "text/latex": [
       "\\begin{enumerate*}\n",
       "\\item 11.2\n",
       "\\item 4.5\n",
       "\\item 12.3\n",
       "\\end{enumerate*}\n"
      ],
      "text/markdown": [
       "1. 11.2\n",
       "2. 4.5\n",
       "3. 12.3\n",
       "\n",
       "\n"
      ],
      "text/plain": [
       "[1] 11.2  4.5 12.3"
      ]
     },
     "metadata": {},
     "output_type": "display_data"
    }
   ],
   "source": [
    "x[1:3]"
   ]
  },
  {
   "cell_type": "markdown",
   "id": "7a8c448f-8aad-4063-b686-bd661dbabd19",
   "metadata": {},
   "source": [
    "Note that, unlike other programming languages, R reserves parentheses for executing functions, while square brackets are used to access elements of a vector, or as we will see later, elements of a matrix or an array."
   ]
  },
  {
   "cell_type": "markdown",
   "id": "5cde8ad7-ff08-4fbe-930e-75aac7be521c",
   "metadata": {},
   "source": [
    "<div class=\"alert alert-block alert-info\">\n",
    "<strong>PRACTICE ON YOUR OWN</strong>\n",
    "\n",
    "- Open a script in RStudio and use the `seq()` function (check the help documentation to see how this function works) to create the following vectors:\n",
    "\n",
    "    55, 56, 57, 58, 59  \n",
    "    1, 3, 5, 7, 9, 11  \n",
    "\n",
    "- Create a vector `x` with the following elements: 1, 3, 5, 7, and 9. Try to predict the results of the following commands before executing them:\n",
    "    1. `x > 5`\n",
    "    2. `which(x > 5)`\n",
    "    3. `sum(x > 5)`\n",
    "    4. `sum(x[x > 5])`\n",
    "      \n",
    "- Using the vector `x` created in the previous exercise:\n",
    "    1. Extract the element in position 2 of `x`.\n",
    "    2. Extract, using a single command, the three elements of `x` that occupy positions 2 to 4.\n",
    "</div>"
   ]
  },
  {
   "cell_type": "markdown",
   "id": "a0cd07f5-2aa4-4759-99b1-f3f0ec1dbab0",
   "metadata": {},
   "source": [
    "### Logical Vectors\n",
    "\n",
    "In addition to numeric vectors, R allows the manipulation of logical values. The elements of a logical vector can have the values `TRUE`, `FALSE`, and `NA` (for \"Not Available\")."
   ]
  },
  {
   "cell_type": "code",
   "execution_count": 18,
   "id": "fa2ebd60-135d-4f6c-9e91-ecfe1f0cc5e9",
   "metadata": {},
   "outputs": [
    {
     "data": {
      "text/html": [
       "<style>\n",
       ".list-inline {list-style: none; margin:0; padding: 0}\n",
       ".list-inline>li {display: inline-block}\n",
       ".list-inline>li:not(:last-child)::after {content: \"\\00b7\"; padding: 0 .5ex}\n",
       "</style>\n",
       "<ol class=list-inline><li>1</li><li>3</li><li>5</li><li>7</li><li>9</li></ol>\n"
      ],
      "text/latex": [
       "\\begin{enumerate*}\n",
       "\\item 1\n",
       "\\item 3\n",
       "\\item 5\n",
       "\\item 7\n",
       "\\item 9\n",
       "\\end{enumerate*}\n"
      ],
      "text/markdown": [
       "1. 1\n",
       "2. 3\n",
       "3. 5\n",
       "4. 7\n",
       "5. 9\n",
       "\n",
       "\n"
      ],
      "text/plain": [
       "[1] 1 3 5 7 9"
      ]
     },
     "metadata": {},
     "output_type": "display_data"
    },
    {
     "data": {
      "text/html": [
       "'numeric'"
      ],
      "text/latex": [
       "'numeric'"
      ],
      "text/markdown": [
       "'numeric'"
      ],
      "text/plain": [
       "[1] \"numeric\""
      ]
     },
     "metadata": {},
     "output_type": "display_data"
    }
   ],
   "source": [
    "x <- seq(1,10,2); x\n",
    "class(x)"
   ]
  },
  {
   "cell_type": "code",
   "execution_count": 19,
   "id": "13484b07-e3b7-4091-bd1c-66f1e98fb742",
   "metadata": {},
   "outputs": [
    {
     "data": {
      "text/html": [
       "<style>\n",
       ".list-inline {list-style: none; margin:0; padding: 0}\n",
       ".list-inline>li {display: inline-block}\n",
       ".list-inline>li:not(:last-child)::after {content: \"\\00b7\"; padding: 0 .5ex}\n",
       "</style>\n",
       "<ol class=list-inline><li>FALSE</li><li>FALSE</li><li>FALSE</li><li>TRUE</li><li>TRUE</li></ol>\n"
      ],
      "text/latex": [
       "\\begin{enumerate*}\n",
       "\\item FALSE\n",
       "\\item FALSE\n",
       "\\item FALSE\n",
       "\\item TRUE\n",
       "\\item TRUE\n",
       "\\end{enumerate*}\n"
      ],
      "text/markdown": [
       "1. FALSE\n",
       "2. FALSE\n",
       "3. FALSE\n",
       "4. TRUE\n",
       "5. TRUE\n",
       "\n",
       "\n"
      ],
      "text/plain": [
       "[1] FALSE FALSE FALSE  TRUE  TRUE"
      ]
     },
     "metadata": {},
     "output_type": "display_data"
    }
   ],
   "source": [
    "c1 <- x>6; c1 # Logical vector. Indicates the values of x that meet or don't meet the condition"
   ]
  },
  {
   "cell_type": "code",
   "execution_count": 20,
   "id": "f35428a3-62a6-4d4f-a1b9-dba44fb8ded4",
   "metadata": {},
   "outputs": [
    {
     "data": {
      "text/html": [
       "<style>\n",
       ".list-inline {list-style: none; margin:0; padding: 0}\n",
       ".list-inline>li {display: inline-block}\n",
       ".list-inline>li:not(:last-child)::after {content: \"\\00b7\"; padding: 0 .5ex}\n",
       "</style>\n",
       "<ol class=list-inline><li>FALSE</li><li>FALSE</li><li>FALSE</li><li>TRUE</li><li>FALSE</li></ol>\n"
      ],
      "text/latex": [
       "\\begin{enumerate*}\n",
       "\\item FALSE\n",
       "\\item FALSE\n",
       "\\item FALSE\n",
       "\\item TRUE\n",
       "\\item FALSE\n",
       "\\end{enumerate*}\n"
      ],
      "text/markdown": [
       "1. FALSE\n",
       "2. FALSE\n",
       "3. FALSE\n",
       "4. TRUE\n",
       "5. FALSE\n",
       "\n",
       "\n"
      ],
      "text/plain": [
       "[1] FALSE FALSE FALSE  TRUE FALSE"
      ]
     },
     "metadata": {},
     "output_type": "display_data"
    }
   ],
   "source": [
    "c2 <- x==7; c2"
   ]
  },
  {
   "cell_type": "markdown",
   "id": "1e317cef-33e4-4efb-a595-f7a7c158f88a",
   "metadata": {},
   "source": [
    "Logical operators include `<`, `<=`, `>`, `>=`, `==` for exact equality, and `!=` for inequality. \n",
    "\n",
    "Additionally, if `c1` and `c2` are logical expressions:\n",
    "- `c1 & c2` represents their intersection (i.e., elements that are in both `c1` **and** `c2`).\n",
    "- `c1 | c2` represents their union (i.e., elements that are in either `c1` **or** `c2`).\n",
    "- `!c1` represents the negation of `c1`."
   ]
  },
  {
   "cell_type": "code",
   "execution_count": 21,
   "id": "b183942f-3de8-45e4-9751-d7101be3c21e",
   "metadata": {},
   "outputs": [
    {
     "data": {
      "text/html": [
       "<style>\n",
       ".list-inline {list-style: none; margin:0; padding: 0}\n",
       ".list-inline>li {display: inline-block}\n",
       ".list-inline>li:not(:last-child)::after {content: \"\\00b7\"; padding: 0 .5ex}\n",
       "</style>\n",
       "<ol class=list-inline><li>FALSE</li><li>FALSE</li><li>FALSE</li><li>TRUE</li><li>FALSE</li></ol>\n"
      ],
      "text/latex": [
       "\\begin{enumerate*}\n",
       "\\item FALSE\n",
       "\\item FALSE\n",
       "\\item FALSE\n",
       "\\item TRUE\n",
       "\\item FALSE\n",
       "\\end{enumerate*}\n"
      ],
      "text/markdown": [
       "1. FALSE\n",
       "2. FALSE\n",
       "3. FALSE\n",
       "4. TRUE\n",
       "5. FALSE\n",
       "\n",
       "\n"
      ],
      "text/plain": [
       "[1] FALSE FALSE FALSE  TRUE FALSE"
      ]
     },
     "metadata": {},
     "output_type": "display_data"
    }
   ],
   "source": [
    "c1&c2 # Logical vector. Indicates with TRUE the values of x that are in both logical vectors."
   ]
  },
  {
   "cell_type": "code",
   "execution_count": 22,
   "id": "096921d4-0a0f-4f56-a854-eb1194431650",
   "metadata": {},
   "outputs": [
    {
     "data": {
      "text/html": [
       "7"
      ],
      "text/latex": [
       "7"
      ],
      "text/markdown": [
       "7"
      ],
      "text/plain": [
       "[1] 7"
      ]
     },
     "metadata": {},
     "output_type": "display_data"
    }
   ],
   "source": [
    "x[c1&c2] # Shows the values of x that meet both conditions."
   ]
  },
  {
   "cell_type": "code",
   "execution_count": 23,
   "id": "dd05171f-ccd0-4895-8b96-cc976dc5df35",
   "metadata": {},
   "outputs": [
    {
     "data": {
      "text/html": [
       "<style>\n",
       ".list-inline {list-style: none; margin:0; padding: 0}\n",
       ".list-inline>li {display: inline-block}\n",
       ".list-inline>li:not(:last-child)::after {content: \"\\00b7\"; padding: 0 .5ex}\n",
       "</style>\n",
       "<ol class=list-inline><li>FALSE</li><li>FALSE</li><li>FALSE</li><li>TRUE</li><li>TRUE</li></ol>\n"
      ],
      "text/latex": [
       "\\begin{enumerate*}\n",
       "\\item FALSE\n",
       "\\item FALSE\n",
       "\\item FALSE\n",
       "\\item TRUE\n",
       "\\item TRUE\n",
       "\\end{enumerate*}\n"
      ],
      "text/markdown": [
       "1. FALSE\n",
       "2. FALSE\n",
       "3. FALSE\n",
       "4. TRUE\n",
       "5. TRUE\n",
       "\n",
       "\n"
      ],
      "text/plain": [
       "[1] FALSE FALSE FALSE  TRUE  TRUE"
      ]
     },
     "metadata": {},
     "output_type": "display_data"
    }
   ],
   "source": [
    "c1|c2 # Logical vector. Indicates whether the values of x meet one condition or the other."
   ]
  },
  {
   "cell_type": "code",
   "execution_count": 24,
   "id": "bdbb1e99-d323-4ef4-8517-20dd9d2b31e3",
   "metadata": {},
   "outputs": [
    {
     "data": {
      "text/html": [
       "<style>\n",
       ".list-inline {list-style: none; margin:0; padding: 0}\n",
       ".list-inline>li {display: inline-block}\n",
       ".list-inline>li:not(:last-child)::after {content: \"\\00b7\"; padding: 0 .5ex}\n",
       "</style>\n",
       "<ol class=list-inline><li>7</li><li>9</li></ol>\n"
      ],
      "text/latex": [
       "\\begin{enumerate*}\n",
       "\\item 7\n",
       "\\item 9\n",
       "\\end{enumerate*}\n"
      ],
      "text/markdown": [
       "1. 7\n",
       "2. 9\n",
       "\n",
       "\n"
      ],
      "text/plain": [
       "[1] 7 9"
      ]
     },
     "metadata": {},
     "output_type": "display_data"
    }
   ],
   "source": [
    "x[c1|c2] # Shows the values of x that meet either condition."
   ]
  },
  {
   "cell_type": "markdown",
   "id": "3672d1e3-52c9-46ff-aba3-bc7ef8523e49",
   "metadata": {},
   "source": [
    "Logical vectors can be used in ordinary arithmetic, in which case they are converted into numeric vectors:  \n",
    "- FALSE is converted to 0.  \n",
    "- TRUE is converted to 1.\n",
    "  \n",
    "For example, based on the previous results, we can determine the number of elements in `x` that are greater than 6 in several ways:"
   ]
  },
  {
   "cell_type": "code",
   "execution_count": 25,
   "id": "3ee0a0b0-21aa-4530-b41d-cb9cc32d7ad4",
   "metadata": {},
   "outputs": [
    {
     "data": {
      "text/html": [
       "2"
      ],
      "text/latex": [
       "2"
      ],
      "text/markdown": [
       "2"
      ],
      "text/plain": [
       "[1] 2"
      ]
     },
     "metadata": {},
     "output_type": "display_data"
    }
   ],
   "source": [
    "sum(c1)"
   ]
  },
  {
   "cell_type": "code",
   "execution_count": 26,
   "id": "72d6320e-6891-4e0e-abac-61ff21166b46",
   "metadata": {},
   "outputs": [
    {
     "data": {
      "text/html": [
       "2"
      ],
      "text/latex": [
       "2"
      ],
      "text/markdown": [
       "2"
      ],
      "text/plain": [
       "[1] 2"
      ]
     },
     "metadata": {},
     "output_type": "display_data"
    }
   ],
   "source": [
    "sum(x>6)"
   ]
  },
  {
   "cell_type": "markdown",
   "id": "9c8ff5ff-5872-4a02-af59-7089b806830d",
   "metadata": {},
   "source": [
    "Note that the command:"
   ]
  },
  {
   "cell_type": "code",
   "execution_count": 27,
   "id": "aa60b6d9-02b9-40eb-94e5-24b4265185ed",
   "metadata": {},
   "outputs": [
    {
     "data": {
      "text/html": [
       "5"
      ],
      "text/latex": [
       "5"
      ],
      "text/markdown": [
       "5"
      ],
      "text/plain": [
       "[1] 5"
      ]
     },
     "metadata": {},
     "output_type": "display_data"
    }
   ],
   "source": [
    "length(c1)"
   ]
  },
  {
   "cell_type": "markdown",
   "id": "0f8ef32a-cc60-46bc-9158-c4f7b02c3c72",
   "metadata": {},
   "source": [
    "returns 5, which is the length of vector c1, regardless of whether the values are TRUE or FALSE.\n",
    "\n",
    "We can find the positions of the values in x that are greater than or equal to 6 using the command:"
   ]
  },
  {
   "cell_type": "code",
   "execution_count": 28,
   "id": "f17bf812-924b-43e5-a655-224e558a891e",
   "metadata": {},
   "outputs": [
    {
     "data": {
      "text/html": [
       "<style>\n",
       ".list-inline {list-style: none; margin:0; padding: 0}\n",
       ".list-inline>li {display: inline-block}\n",
       ".list-inline>li:not(:last-child)::after {content: \"\\00b7\"; padding: 0 .5ex}\n",
       "</style>\n",
       "<ol class=list-inline><li>4</li><li>5</li></ol>\n"
      ],
      "text/latex": [
       "\\begin{enumerate*}\n",
       "\\item 4\n",
       "\\item 5\n",
       "\\end{enumerate*}\n"
      ],
      "text/markdown": [
       "1. 4\n",
       "2. 5\n",
       "\n",
       "\n"
      ],
      "text/plain": [
       "[1] 4 5"
      ]
     },
     "metadata": {},
     "output_type": "display_data"
    }
   ],
   "source": [
    "which(x>=6)"
   ]
  },
  {
   "cell_type": "markdown",
   "id": "0a9acb2b-07e0-44e4-b4ec-2441ef321585",
   "metadata": {},
   "source": [
    "The elements of x that correspond to positions 4 and 5 (and are therefore greater than or equal to 6) can be obtained with either of the following commands:"
   ]
  },
  {
   "cell_type": "code",
   "execution_count": 29,
   "id": "0e286495-c61b-4bdc-8855-3c958bbb0971",
   "metadata": {},
   "outputs": [
    {
     "data": {
      "text/html": [
       "<style>\n",
       ".list-inline {list-style: none; margin:0; padding: 0}\n",
       ".list-inline>li {display: inline-block}\n",
       ".list-inline>li:not(:last-child)::after {content: \"\\00b7\"; padding: 0 .5ex}\n",
       "</style>\n",
       "<ol class=list-inline><li>7</li><li>9</li></ol>\n"
      ],
      "text/latex": [
       "\\begin{enumerate*}\n",
       "\\item 7\n",
       "\\item 9\n",
       "\\end{enumerate*}\n"
      ],
      "text/markdown": [
       "1. 7\n",
       "2. 9\n",
       "\n",
       "\n"
      ],
      "text/plain": [
       "[1] 7 9"
      ]
     },
     "metadata": {},
     "output_type": "display_data"
    }
   ],
   "source": [
    "x[which(x>=6)]"
   ]
  },
  {
   "cell_type": "code",
   "execution_count": 30,
   "id": "07f0205c-b70b-4cfd-b4aa-80bdd1b63ebf",
   "metadata": {},
   "outputs": [
    {
     "data": {
      "text/html": [
       "<style>\n",
       ".list-inline {list-style: none; margin:0; padding: 0}\n",
       ".list-inline>li {display: inline-block}\n",
       ".list-inline>li:not(:last-child)::after {content: \"\\00b7\"; padding: 0 .5ex}\n",
       "</style>\n",
       "<ol class=list-inline><li>7</li><li>9</li></ol>\n"
      ],
      "text/latex": [
       "\\begin{enumerate*}\n",
       "\\item 7\n",
       "\\item 9\n",
       "\\end{enumerate*}\n"
      ],
      "text/markdown": [
       "1. 7\n",
       "2. 9\n",
       "\n",
       "\n"
      ],
      "text/plain": [
       "[1] 7 9"
      ]
     },
     "metadata": {},
     "output_type": "display_data"
    }
   ],
   "source": [
    "x[c1]"
   ]
  },
  {
   "cell_type": "markdown",
   "id": "2f705b5d-9e64-4675-9aa4-82e061d896c7",
   "metadata": {},
   "source": [
    "The functions `sum()`, `length()`, and `which()` will be used frequently in this course, so it is important to become familiar with them.\n",
    "\n",
    "### Character Vectors\n",
    "\n",
    "Characters and character vectors are commonly used in R, for example, as figure labels. When needed, they are indicated using a sequence of characters enclosed in quotation marks, such as:"
   ]
  },
  {
   "cell_type": "code",
   "execution_count": 31,
   "id": "9de1d9ae-674e-4807-bc70-2b2b18e3a61d",
   "metadata": {},
   "outputs": [
    {
     "data": {
      "text/html": [
       "<style>\n",
       ".list-inline {list-style: none; margin:0; padding: 0}\n",
       ".list-inline>li {display: inline-block}\n",
       ".list-inline>li:not(:last-child)::after {content: \"\\00b7\"; padding: 0 .5ex}\n",
       "</style>\n",
       "<ol class=list-inline><li>'X'</li><li>'Y'</li><li>'Z'</li></ol>\n"
      ],
      "text/latex": [
       "\\begin{enumerate*}\n",
       "\\item 'X'\n",
       "\\item 'Y'\n",
       "\\item 'Z'\n",
       "\\end{enumerate*}\n"
      ],
      "text/markdown": [
       "1. 'X'\n",
       "2. 'Y'\n",
       "3. 'Z'\n",
       "\n",
       "\n"
      ],
      "text/plain": [
       "[1] \"X\" \"Y\" \"Z\""
      ]
     },
     "metadata": {},
     "output_type": "display_data"
    },
    {
     "data": {
      "text/html": [
       "'character'"
      ],
      "text/latex": [
       "'character'"
      ],
      "text/markdown": [
       "'character'"
      ],
      "text/plain": [
       "[1] \"character\""
      ]
     },
     "metadata": {},
     "output_type": "display_data"
    }
   ],
   "source": [
    "labs <- c(\"X\", \"Y\", \"Z\"); labs\n",
    "class(labs)"
   ]
  },
  {
   "cell_type": "markdown",
   "id": "06d03bf1-c3c1-4b18-92c0-29957b93627b",
   "metadata": {},
   "source": [
    "## Matrices\n",
    "\n",
    "Another common data structure is the matrix. We can create a matrix using the following syntax:"
   ]
  },
  {
   "cell_type": "code",
   "execution_count": 32,
   "id": "f4e8ee15-3577-4391-afcd-74d7d39b803f",
   "metadata": {},
   "outputs": [
    {
     "data": {
      "text/html": [
       "<table class=\"dataframe\">\n",
       "<caption>A matrix: 2 × 3 of type dbl</caption>\n",
       "<tbody>\n",
       "\t<tr><td>1</td><td>3</td><td>5</td></tr>\n",
       "\t<tr><td>2</td><td>4</td><td>6</td></tr>\n",
       "</tbody>\n",
       "</table>\n"
      ],
      "text/latex": [
       "A matrix: 2 × 3 of type dbl\n",
       "\\begin{tabular}{lll}\n",
       "\t 1 & 3 & 5\\\\\n",
       "\t 2 & 4 & 6\\\\\n",
       "\\end{tabular}\n"
      ],
      "text/markdown": [
       "\n",
       "A matrix: 2 × 3 of type dbl\n",
       "\n",
       "| 1 | 3 | 5 |\n",
       "| 2 | 4 | 6 |\n",
       "\n"
      ],
      "text/plain": [
       "     [,1] [,2] [,3]\n",
       "[1,] 1    3    5   \n",
       "[2,] 2    4    6   "
      ]
     },
     "metadata": {},
     "output_type": "display_data"
    },
    {
     "data": {
      "text/html": [
       "<style>\n",
       ".list-inline {list-style: none; margin:0; padding: 0}\n",
       ".list-inline>li {display: inline-block}\n",
       ".list-inline>li:not(:last-child)::after {content: \"\\00b7\"; padding: 0 .5ex}\n",
       "</style>\n",
       "<ol class=list-inline><li>'matrix'</li><li>'array'</li></ol>\n"
      ],
      "text/latex": [
       "\\begin{enumerate*}\n",
       "\\item 'matrix'\n",
       "\\item 'array'\n",
       "\\end{enumerate*}\n"
      ],
      "text/markdown": [
       "1. 'matrix'\n",
       "2. 'array'\n",
       "\n",
       "\n"
      ],
      "text/plain": [
       "[1] \"matrix\" \"array\" "
      ]
     },
     "metadata": {},
     "output_type": "display_data"
    }
   ],
   "source": [
    "M <- matrix(c(1,2,3,4,5,6), nrow=2, ncol=3);M\n",
    "class(M)"
   ]
  },
  {
   "cell_type": "markdown",
   "id": "0e714e75-38f2-48cb-8e42-dbf852ee166d",
   "metadata": {},
   "source": [
    "Just like with vectors, we can select elements from the matrix by specifying their row and column indices within square brackets, separated by a comma. For example:"
   ]
  },
  {
   "cell_type": "code",
   "execution_count": 33,
   "id": "60ae09e4-8708-42fe-b0b6-2e0125464d54",
   "metadata": {},
   "outputs": [
    {
     "data": {
      "text/html": [
       "<style>\n",
       ".list-inline {list-style: none; margin:0; padding: 0}\n",
       ".list-inline>li {display: inline-block}\n",
       ".list-inline>li:not(:last-child)::after {content: \"\\00b7\"; padding: 0 .5ex}\n",
       "</style>\n",
       "<ol class=list-inline><li>2</li><li>4</li><li>6</li></ol>\n"
      ],
      "text/latex": [
       "\\begin{enumerate*}\n",
       "\\item 2\n",
       "\\item 4\n",
       "\\item 6\n",
       "\\end{enumerate*}\n"
      ],
      "text/markdown": [
       "1. 2\n",
       "2. 4\n",
       "3. 6\n",
       "\n",
       "\n"
      ],
      "text/plain": [
       "[1] 2 4 6"
      ]
     },
     "metadata": {},
     "output_type": "display_data"
    }
   ],
   "source": [
    "# Select values in row 2\n",
    "M[2,]"
   ]
  },
  {
   "cell_type": "code",
   "execution_count": 34,
   "id": "8b2b633b-62b6-4122-9e76-bf6562cb53aa",
   "metadata": {},
   "outputs": [
    {
     "data": {
      "text/html": [
       "<style>\n",
       ".list-inline {list-style: none; margin:0; padding: 0}\n",
       ".list-inline>li {display: inline-block}\n",
       ".list-inline>li:not(:last-child)::after {content: \"\\00b7\"; padding: 0 .5ex}\n",
       "</style>\n",
       "<ol class=list-inline><li>5</li><li>6</li></ol>\n"
      ],
      "text/latex": [
       "\\begin{enumerate*}\n",
       "\\item 5\n",
       "\\item 6\n",
       "\\end{enumerate*}\n"
      ],
      "text/markdown": [
       "1. 5\n",
       "2. 6\n",
       "\n",
       "\n"
      ],
      "text/plain": [
       "[1] 5 6"
      ]
     },
     "metadata": {},
     "output_type": "display_data"
    }
   ],
   "source": [
    "# Select values in column 3\n",
    "M[,3]"
   ]
  },
  {
   "cell_type": "code",
   "execution_count": 35,
   "id": "432f57fd-b46a-41d5-934d-5811a597d0b9",
   "metadata": {},
   "outputs": [
    {
     "data": {
      "text/html": [
       "3"
      ],
      "text/latex": [
       "3"
      ],
      "text/markdown": [
       "3"
      ],
      "text/plain": [
       "[1] 3"
      ]
     },
     "metadata": {},
     "output_type": "display_data"
    }
   ],
   "source": [
    "# Element in first row, second column\n",
    "M[1,2]"
   ]
  },
  {
   "cell_type": "markdown",
   "id": "60562cf5-8659-4169-9af0-189415882e15",
   "metadata": {},
   "source": [
    "Vectors and matrices can be used in arithmetic expressions, in which case the operations are performed element-wise. The basic arithmetic operators are the usual `+, -, *, /`, and `^` for exponentiation. Additionally, functions such as `log()`, `exp()`, `sin()`, `cos()`, `tan()`, and `sqrt()` are available, with `sqrt()` being the function that calculates the square root. As seen when executing the following commands, operations are applied to each element individually."
   ]
  },
  {
   "cell_type": "code",
   "execution_count": 36,
   "id": "78d368ed-83b9-4361-9e95-d52a05803dd5",
   "metadata": {},
   "outputs": [
    {
     "data": {
      "text/html": [
       "<style>\n",
       ".list-inline {list-style: none; margin:0; padding: 0}\n",
       ".list-inline>li {display: inline-block}\n",
       ".list-inline>li:not(:last-child)::after {content: \"\\00b7\"; padding: 0 .5ex}\n",
       "</style>\n",
       "<ol class=list-inline><li>1</li><li>0.333333333333333</li><li>0.2</li><li>0.142857142857143</li><li>0.111111111111111</li></ol>\n"
      ],
      "text/latex": [
       "\\begin{enumerate*}\n",
       "\\item 1\n",
       "\\item 0.333333333333333\n",
       "\\item 0.2\n",
       "\\item 0.142857142857143\n",
       "\\item 0.111111111111111\n",
       "\\end{enumerate*}\n"
      ],
      "text/markdown": [
       "1. 1\n",
       "2. 0.333333333333333\n",
       "3. 0.2\n",
       "4. 0.142857142857143\n",
       "5. 0.111111111111111\n",
       "\n",
       "\n"
      ],
      "text/plain": [
       "[1] 1.0000000 0.3333333 0.2000000 0.1428571 0.1111111"
      ]
     },
     "metadata": {},
     "output_type": "display_data"
    }
   ],
   "source": [
    "1/x"
   ]
  },
  {
   "cell_type": "code",
   "execution_count": 37,
   "id": "f1e9d7a8-8aaa-4cb8-9a66-e76a549ea494",
   "metadata": {},
   "outputs": [
    {
     "data": {
      "text/html": [
       "<table class=\"dataframe\">\n",
       "<caption>A matrix: 2 × 3 of type dbl</caption>\n",
       "<tbody>\n",
       "\t<tr><td>1</td><td> 9</td><td>25</td></tr>\n",
       "\t<tr><td>4</td><td>16</td><td>36</td></tr>\n",
       "</tbody>\n",
       "</table>\n"
      ],
      "text/latex": [
       "A matrix: 2 × 3 of type dbl\n",
       "\\begin{tabular}{lll}\n",
       "\t 1 &  9 & 25\\\\\n",
       "\t 4 & 16 & 36\\\\\n",
       "\\end{tabular}\n"
      ],
      "text/markdown": [
       "\n",
       "A matrix: 2 × 3 of type dbl\n",
       "\n",
       "| 1 |  9 | 25 |\n",
       "| 4 | 16 | 36 |\n",
       "\n"
      ],
      "text/plain": [
       "     [,1] [,2] [,3]\n",
       "[1,] 1     9   25  \n",
       "[2,] 4    16   36  "
      ]
     },
     "metadata": {},
     "output_type": "display_data"
    }
   ],
   "source": [
    "M*M"
   ]
  },
  {
   "cell_type": "code",
   "execution_count": 38,
   "id": "4264fc72-ac66-4ad8-9cdd-5dd9092d85e4",
   "metadata": {},
   "outputs": [
    {
     "data": {
      "text/html": [
       "<style>\n",
       ".list-inline {list-style: none; margin:0; padding: 0}\n",
       ".list-inline>li {display: inline-block}\n",
       ".list-inline>li:not(:last-child)::after {content: \"\\00b7\"; padding: 0 .5ex}\n",
       "</style>\n",
       "<ol class=list-inline><li>2.71828182845905</li><li>20.0855369231877</li><li>148.413159102577</li><li>1096.63315842846</li><li>8103.08392757538</li></ol>\n"
      ],
      "text/latex": [
       "\\begin{enumerate*}\n",
       "\\item 2.71828182845905\n",
       "\\item 20.0855369231877\n",
       "\\item 148.413159102577\n",
       "\\item 1096.63315842846\n",
       "\\item 8103.08392757538\n",
       "\\end{enumerate*}\n"
      ],
      "text/markdown": [
       "1. 2.71828182845905\n",
       "2. 20.0855369231877\n",
       "3. 148.413159102577\n",
       "4. 1096.63315842846\n",
       "5. 8103.08392757538\n",
       "\n",
       "\n"
      ],
      "text/plain": [
       "[1]    2.718282   20.085537  148.413159 1096.633158 8103.083928"
      ]
     },
     "metadata": {},
     "output_type": "display_data"
    }
   ],
   "source": [
    "exp(x)"
   ]
  },
  {
   "cell_type": "markdown",
   "id": "a0ad1208-92cb-43d2-8343-baeeec522909",
   "metadata": {},
   "source": [
    "There are many more functions available, such as:\n",
    "- `max(x)`: Returns the largest element in a vector x.\n",
    "- `min(x)`: Returns the smallest element in a vector x.\n",
    "- `range(x)`: Returns a two-element vector containing the minimum and maximum values.\n",
    "- `length(x)`: Returns the number of elements (length) of x.\n",
    "- `sum(x)`: Computes the sum of all elements in x.\n",
    "- `prod(x)`: Computes the product of all elements in x.\n",
    "- `sort(x)`: Sorts the elements of x in ascending order.\n",
    "\n",
    "As mentioned earlier, more information about these functions can be obtained using the `help()` command."
   ]
  },
  {
   "cell_type": "markdown",
   "id": "410861f6-e337-49c8-96ee-6d86b887f3db",
   "metadata": {
    "editable": true,
    "slideshow": {
     "slide_type": ""
    },
    "tags": []
   },
   "source": [
    "<div class=\"alert alert-block alert-info\">\n",
    "<strong>PRACTICE ON YOUR OWN</strong>\n",
    "    \n",
    "- In an RStudio script, create the following data matrix: `m <- matrix(1:15, nrow=3)` and try to predict the results of the following commands before executing them:\n",
    "    1. `dim(m)`\n",
    "    2. `ncol(m)`\n",
    "    3. `nrow(m)`\n",
    "    4. `which(m >= 5 & m <= 8)`\n",
    "\n",
    "- Using the matrix created in the previous exercise:\n",
    "    1. Extract the first row.\n",
    "    2. Extract the second element of the third column.\n",
    "</div>"
   ]
  },
  {
   "cell_type": "markdown",
   "id": "626d2cb1-e5e5-4073-8ffe-9d11e35a429b",
   "metadata": {},
   "source": [
    "## Arrays\n",
    "\n",
    "Arrays in R are objects that can store data of the same type in more than two dimensions. For example, we can create the following three-dimensional array:"
   ]
  },
  {
   "cell_type": "code",
   "execution_count": 39,
   "id": "b7c0cbc7-baef-4849-bac7-c443d60dd56b",
   "metadata": {},
   "outputs": [
    {
     "data": {
      "text/html": [
       "'array'"
      ],
      "text/latex": [
       "'array'"
      ],
      "text/markdown": [
       "'array'"
      ],
      "text/plain": [
       "[1] \"array\""
      ]
     },
     "metadata": {},
     "output_type": "display_data"
    },
    {
     "data": {
      "text/html": [
       "<style>\n",
       ".list-inline {list-style: none; margin:0; padding: 0}\n",
       ".list-inline>li {display: inline-block}\n",
       ".list-inline>li:not(:last-child)::after {content: \"\\00b7\"; padding: 0 .5ex}\n",
       "</style>\n",
       "<ol class=list-inline><li>3</li><li>3</li><li>2</li></ol>\n"
      ],
      "text/latex": [
       "\\begin{enumerate*}\n",
       "\\item 3\n",
       "\\item 3\n",
       "\\item 2\n",
       "\\end{enumerate*}\n"
      ],
      "text/markdown": [
       "1. 3\n",
       "2. 3\n",
       "3. 2\n",
       "\n",
       "\n"
      ],
      "text/plain": [
       "[1] 3 3 2"
      ]
     },
     "metadata": {},
     "output_type": "display_data"
    }
   ],
   "source": [
    "x <- seq(1,36,2)\n",
    "arr <- array(x, dim = c(3,3,2))\n",
    "class(arr) \n",
    "dim(arr)   "
   ]
  },
  {
   "cell_type": "markdown",
   "id": "7e93211f-b115-43d2-bd9d-81632c9074eb",
   "metadata": {},
   "source": [
    "To select elements from an array, we follow the same approach as with matrices but considering all its dimensions. For example, we can retrieve the element in the first row, third column, and second position of the third dimension using:"
   ]
  },
  {
   "cell_type": "code",
   "execution_count": 40,
   "id": "ab7db4f3-b615-4188-a51d-0efe264e251e",
   "metadata": {},
   "outputs": [
    {
     "data": {
      "text/html": [
       "31"
      ],
      "text/latex": [
       "31"
      ],
      "text/markdown": [
       "31"
      ],
      "text/plain": [
       "[1] 31"
      ]
     },
     "metadata": {},
     "output_type": "display_data"
    }
   ],
   "source": [
    "arr[1,3,2] "
   ]
  },
  {
   "cell_type": "markdown",
   "id": "cc8c0572-cdd9-4531-82f7-2969db223edf",
   "metadata": {},
   "source": [
    "Or retrieve all elements from the second column by executing the command:"
   ]
  },
  {
   "cell_type": "code",
   "execution_count": 41,
   "id": "ed8f84c8-23d8-4a69-a3bd-250cf9cee264",
   "metadata": {},
   "outputs": [
    {
     "data": {
      "text/html": [
       "<table class=\"dataframe\">\n",
       "<caption>A matrix: 3 × 2 of type dbl</caption>\n",
       "<tbody>\n",
       "\t<tr><td> 7</td><td>25</td></tr>\n",
       "\t<tr><td> 9</td><td>27</td></tr>\n",
       "\t<tr><td>11</td><td>29</td></tr>\n",
       "</tbody>\n",
       "</table>\n"
      ],
      "text/latex": [
       "A matrix: 3 × 2 of type dbl\n",
       "\\begin{tabular}{ll}\n",
       "\t  7 & 25\\\\\n",
       "\t  9 & 27\\\\\n",
       "\t 11 & 29\\\\\n",
       "\\end{tabular}\n"
      ],
      "text/markdown": [
       "\n",
       "A matrix: 3 × 2 of type dbl\n",
       "\n",
       "|  7 | 25 |\n",
       "|  9 | 27 |\n",
       "| 11 | 29 |\n",
       "\n"
      ],
      "text/plain": [
       "     [,1] [,2]\n",
       "[1,]  7   25  \n",
       "[2,]  9   27  \n",
       "[3,] 11   29  "
      ]
     },
     "metadata": {},
     "output_type": "display_data"
    }
   ],
   "source": [
    "arr[,2,]   "
   ]
  },
  {
   "cell_type": "markdown",
   "id": "b0fefb07-b1f5-4d15-9ce2-74ea2e282e57",
   "metadata": {},
   "source": [
    "## Factors\n",
    "\n",
    "Factors are special types of vectors used to represent categorical variables. Categorical variables take a small number of possible values (categories) that are identified using labels.\n",
    "\n",
    "To convert a vector into a factor, we use the `factor()` function. For example, consider a dataset containing a group of people with their name, age, and level of physical activity:"
   ]
  },
  {
   "cell_type": "code",
   "execution_count": 42,
   "id": "5ec9d4c3-404c-4a55-b174-20b09e75eb14",
   "metadata": {},
   "outputs": [],
   "source": [
    "names <- c(\"ana\", \"luis\", \"elena\", \"amparo\", \"blanca\", \"ana\", \"blanca\", \"luis\")\n",
    "age <- c(23, 24, 45, 67, 32, 56, 78, 45)\n",
    "activity <- c(\"low\", \"medium\", \"medium\", \"medium\", \"high\", \"high\", \"low\", \"medium\")"
   ]
  },
  {
   "cell_type": "markdown",
   "id": "95eadf5a-bb40-4ccd-8231-1913ef94ca74",
   "metadata": {},
   "source": [
    "The vectors activity and name are non-numeric variables that we can categorize by transforming them into factors using the `factor()` function. As an example, we transform the activity vector by executing the following commands:"
   ]
  },
  {
   "cell_type": "code",
   "execution_count": 43,
   "id": "131ff4d2-b507-423b-9d38-092253ae9095",
   "metadata": {},
   "outputs": [
    {
     "data": {
      "text/html": [
       "'character'"
      ],
      "text/latex": [
       "'character'"
      ],
      "text/markdown": [
       "'character'"
      ],
      "text/plain": [
       "[1] \"character\""
      ]
     },
     "metadata": {},
     "output_type": "display_data"
    },
    {
     "data": {
      "text/html": [
       "<style>\n",
       ".list-inline {list-style: none; margin:0; padding: 0}\n",
       ".list-inline>li {display: inline-block}\n",
       ".list-inline>li:not(:last-child)::after {content: \"\\00b7\"; padding: 0 .5ex}\n",
       "</style>\n",
       "<ol class=list-inline><li>low</li><li>medium</li><li>medium</li><li>medium</li><li>high</li><li>high</li><li>low</li><li>medium</li></ol>\n",
       "\n",
       "<details>\n",
       "\t<summary style=display:list-item;cursor:pointer>\n",
       "\t\t<strong>Levels</strong>:\n",
       "\t</summary>\n",
       "\t<style>\n",
       "\t.list-inline {list-style: none; margin:0; padding: 0}\n",
       "\t.list-inline>li {display: inline-block}\n",
       "\t.list-inline>li:not(:last-child)::after {content: \"\\00b7\"; padding: 0 .5ex}\n",
       "\t</style>\n",
       "\t<ol class=list-inline><li>'high'</li><li>'low'</li><li>'medium'</li></ol>\n",
       "</details>"
      ],
      "text/latex": [
       "\\begin{enumerate*}\n",
       "\\item low\n",
       "\\item medium\n",
       "\\item medium\n",
       "\\item medium\n",
       "\\item high\n",
       "\\item high\n",
       "\\item low\n",
       "\\item medium\n",
       "\\end{enumerate*}\n",
       "\n",
       "\\emph{Levels}: \\begin{enumerate*}\n",
       "\\item 'high'\n",
       "\\item 'low'\n",
       "\\item 'medium'\n",
       "\\end{enumerate*}\n"
      ],
      "text/markdown": [
       "1. low\n",
       "2. medium\n",
       "3. medium\n",
       "4. medium\n",
       "5. high\n",
       "6. high\n",
       "7. low\n",
       "8. medium\n",
       "\n",
       "\n",
       "\n",
       "**Levels**: 1. 'high'\n",
       "2. 'low'\n",
       "3. 'medium'\n",
       "\n",
       "\n"
      ],
      "text/plain": [
       "[1] low    medium medium medium high   high   low    medium\n",
       "Levels: high low medium"
      ]
     },
     "metadata": {},
     "output_type": "display_data"
    },
    {
     "data": {
      "text/html": [
       "'factor'"
      ],
      "text/latex": [
       "'factor'"
      ],
      "text/markdown": [
       "'factor'"
      ],
      "text/plain": [
       "[1] \"factor\""
      ]
     },
     "metadata": {},
     "output_type": "display_data"
    }
   ],
   "source": [
    "class(activity) \n",
    "factivity <- factor(activity); factivity # transformamos a factor\n",
    "class(factivity) # devuelve la clase de la variable transformada a factor (\"factor\")"
   ]
  },
  {
   "cell_type": "markdown",
   "id": "a06a88de-0a54-4e47-88c6-84d6ecb265e7",
   "metadata": {},
   "source": [
    "We can see that the class of this vector has changed from *character* to *factor*.\n",
    "\n",
    "The activity variable contains three categories, which R, by default, orders alphabetically when converted to a factor, as observed in the `Levels` label of the factivity variable (alta, baja, media). However, this order is incorrect since, as an ordinal variable, the categories should be arranged from the lowest to the highest activity level (high, low, medium). We can change the order of the categories using the `ordered()` function. This adjustment is made by executing the following commands:"
   ]
  },
  {
   "cell_type": "code",
   "execution_count": 44,
   "id": "a474abaa-bb85-4acf-9d16-287ba9ee4f16",
   "metadata": {
    "scrolled": true
   },
   "outputs": [
    {
     "data": {
      "text/html": [
       "<style>\n",
       ".list-inline {list-style: none; margin:0; padding: 0}\n",
       ".list-inline>li {display: inline-block}\n",
       ".list-inline>li:not(:last-child)::after {content: \"\\00b7\"; padding: 0 .5ex}\n",
       "</style>\n",
       "<ol class=list-inline><li>low</li><li>medium</li><li>medium</li><li>medium</li><li>high</li><li>high</li><li>low</li><li>medium</li></ol>\n",
       "\n",
       "<details>\n",
       "\t<summary style=display:list-item;cursor:pointer>\n",
       "\t\t<strong>Levels</strong>:\n",
       "\t</summary>\n",
       "\t<style>\n",
       "\t.list-inline {list-style: none; margin:0; padding: 0}\n",
       "\t.list-inline>li {display: inline-block}\n",
       "\t.list-inline>li:not(:last-child)::after {content: \"\\00b7\"; padding: 0 .5ex}\n",
       "\t</style>\n",
       "\t<ol class=list-inline><li>'low'</li><li>'medium'</li><li>'high'</li></ol>\n",
       "</details>"
      ],
      "text/latex": [
       "\\begin{enumerate*}\n",
       "\\item low\n",
       "\\item medium\n",
       "\\item medium\n",
       "\\item medium\n",
       "\\item high\n",
       "\\item high\n",
       "\\item low\n",
       "\\item medium\n",
       "\\end{enumerate*}\n",
       "\n",
       "\\emph{Levels}: \\begin{enumerate*}\n",
       "\\item 'low'\n",
       "\\item 'medium'\n",
       "\\item 'high'\n",
       "\\end{enumerate*}\n"
      ],
      "text/markdown": [
       "1. low\n",
       "2. medium\n",
       "3. medium\n",
       "4. medium\n",
       "5. high\n",
       "6. high\n",
       "7. low\n",
       "8. medium\n",
       "\n",
       "\n",
       "\n",
       "**Levels**: 1. 'low'\n",
       "2. 'medium'\n",
       "3. 'high'\n",
       "\n",
       "\n"
      ],
      "text/plain": [
       "[1] low    medium medium medium high   high   low    medium\n",
       "Levels: low < medium < high"
      ]
     },
     "metadata": {},
     "output_type": "display_data"
    }
   ],
   "source": [
    "ordered_activity <- ordered(factivity, levels=c( \"low\", \"medium\", \"high\"))\n",
    "ordered_activity"
   ]
  },
  {
   "cell_type": "markdown",
   "id": "de635925-7640-473c-9a80-373087e12436",
   "metadata": {},
   "source": [
    "Now, `Levels` are correctly ordered from lowest to highest.\n",
    "\n",
    "Setting the correct order of categories in ordinal variables is important because it affects their potential usage in later analyses. For example, observe the difference between drawing a bar plot for the `activity` variable and one for the `ordered_activity` variable:"
   ]
  },
  {
   "cell_type": "code",
   "execution_count": 45,
   "id": "e0d782aa-2226-4bcc-8c60-b1edad56da7b",
   "metadata": {},
   "outputs": [
    {
     "data": {
      "image/png": "[encoded data removed]",
      "text/plain": [
       "plot without title"
      ]
     },
     "metadata": {
      "image/png": {
       "height": 420,
       "width": 420
      }
     },
     "output_type": "display_data"
    },
    {
     "data": {
      "image/png": "[encoded data removed]",
      "text/plain": [
       "plot without title"
      ]
     },
     "metadata": {
      "image/png": {
       "height": 420,
       "width": 420
      }
     },
     "output_type": "display_data"
    }
   ],
   "source": [
    "barplot(table(activity))\n",
    "barplot(table(ordered_activity))"
   ]
  },
  {
   "cell_type": "markdown",
   "id": "493c6f85-9137-4066-b944-af32391350c5",
   "metadata": {},
   "source": [
    "The second plot is correct because the horizontal axis displays the categories in the correct order, from lowest to highest."
   ]
  },
  {
   "cell_type": "markdown",
   "id": "4fc94f05-f643-4779-a576-db25b06c4aed",
   "metadata": {},
   "source": [
    "## Lists\n",
    "\n",
    "As we have seen before, a vector cannot contain different types of data. For this purpose, lists are used. A list is a data structure that contains a set of indexed elements that can be of different types (character, numeric, etc.). Generally, each object in the list is identified by a name and can contain a different number of elements. Let's look at an example:"
   ]
  },
  {
   "cell_type": "code",
   "execution_count": 46,
   "id": "fc7b8959-07cc-4b01-af95-6879fb6c3d8a",
   "metadata": {},
   "outputs": [
    {
     "data": {
      "text/html": [
       "'list'"
      ],
      "text/latex": [
       "'list'"
      ],
      "text/markdown": [
       "'list'"
      ],
      "text/plain": [
       "[1] \"list\""
      ]
     },
     "metadata": {},
     "output_type": "display_data"
    },
    {
     "name": "stdout",
     "output_type": "stream",
     "text": [
      "List of 4\n",
      " $ group   : num 1\n",
      " $ students: chr [1:3] \"Maria\" \"Juan\" \"Adela\"\n",
      " $ labs    : num 3\n",
      " $ marks   : num [1:3] 8 7.5 8.7\n"
     ]
    }
   ],
   "source": [
    "student_list <- list(group=1, students=c(\"Maria\", \"Juan\", \"Adela\"), labs=3, marks=c(8, 7.5, 8.7))\n",
    "class(student_list) # Class \"list\"\n",
    "str(student_list)   # Display the objects it contains"
   ]
  },
  {
   "cell_type": "markdown",
   "id": "ff764b57-5af7-4bf5-8cd8-0ef628e2a6a4",
   "metadata": {},
   "source": [
    "The `str()` command displays the information contained in the list in a very compact format.\n",
    "\n",
    "The elements of a list can be accessed using the `$` operator or double square brackets `[[ ]]`:"
   ]
  },
  {
   "cell_type": "code",
   "execution_count": 47,
   "id": "9be39acc-b6e7-4b6a-9042-b18c70710ce6",
   "metadata": {},
   "outputs": [
    {
     "data": {
      "text/html": [
       "<style>\n",
       ".list-inline {list-style: none; margin:0; padding: 0}\n",
       ".list-inline>li {display: inline-block}\n",
       ".list-inline>li:not(:last-child)::after {content: \"\\00b7\"; padding: 0 .5ex}\n",
       "</style>\n",
       "<ol class=list-inline><li>'Maria'</li><li>'Juan'</li><li>'Adela'</li></ol>\n"
      ],
      "text/latex": [
       "\\begin{enumerate*}\n",
       "\\item 'Maria'\n",
       "\\item 'Juan'\n",
       "\\item 'Adela'\n",
       "\\end{enumerate*}\n"
      ],
      "text/markdown": [
       "1. 'Maria'\n",
       "2. 'Juan'\n",
       "3. 'Adela'\n",
       "\n",
       "\n"
      ],
      "text/plain": [
       "[1] \"Maria\" \"Juan\"  \"Adela\""
      ]
     },
     "metadata": {},
     "output_type": "display_data"
    },
    {
     "data": {
      "text/html": [
       "<style>\n",
       ".list-inline {list-style: none; margin:0; padding: 0}\n",
       ".list-inline>li {display: inline-block}\n",
       ".list-inline>li:not(:last-child)::after {content: \"\\00b7\"; padding: 0 .5ex}\n",
       "</style>\n",
       "<ol class=list-inline><li>'Maria'</li><li>'Juan'</li><li>'Adela'</li></ol>\n"
      ],
      "text/latex": [
       "\\begin{enumerate*}\n",
       "\\item 'Maria'\n",
       "\\item 'Juan'\n",
       "\\item 'Adela'\n",
       "\\end{enumerate*}\n"
      ],
      "text/markdown": [
       "1. 'Maria'\n",
       "2. 'Juan'\n",
       "3. 'Adela'\n",
       "\n",
       "\n"
      ],
      "text/plain": [
       "[1] \"Maria\" \"Juan\"  \"Adela\""
      ]
     },
     "metadata": {},
     "output_type": "display_data"
    }
   ],
   "source": [
    "student_list$students\n",
    "student_list[[2]] "
   ]
  },
  {
   "cell_type": "markdown",
   "id": "ca5998f9-aefc-40ac-b23f-560ac5c4778a",
   "metadata": {},
   "source": [
    "## Data Frame\n",
    "\n",
    "A data frame is a two-dimensional data object (rows and columns), a generalization of matrices where each column can contain different data types while maintaining the same length across all columns. It closely resembles a data table in any standard statistical package. Data frames are created using the `data.frame()` function. \n",
    "\n",
    "In a data frame, text vectors are automatically converted into factors, where the number of categories or levels is determined by the number of unique values in the vector.\n",
    "\n",
    "Let's define a data frame using the dataset of the group of students mentioned earlier. Note that each variable is assigned a specific name, which will become the column name in the data frame:"
   ]
  },
  {
   "cell_type": "code",
   "execution_count": 48,
   "id": "fc7f29db-3a46-4eda-be23-9e5fe2aeb384",
   "metadata": {},
   "outputs": [
    {
     "data": {
      "text/html": [
       "<table class=\"dataframe\">\n",
       "<caption>A data.frame: 8 × 3</caption>\n",
       "<thead>\n",
       "\t<tr><th scope=col>Name</th><th scope=col>Age</th><th scope=col>Activity</th></tr>\n",
       "\t<tr><th scope=col>&lt;chr&gt;</th><th scope=col>&lt;dbl&gt;</th><th scope=col>&lt;ord&gt;</th></tr>\n",
       "</thead>\n",
       "<tbody>\n",
       "\t<tr><td>ana   </td><td>23</td><td>low   </td></tr>\n",
       "\t<tr><td>luis  </td><td>24</td><td>medium</td></tr>\n",
       "\t<tr><td>elena </td><td>45</td><td>medium</td></tr>\n",
       "\t<tr><td>amparo</td><td>67</td><td>medium</td></tr>\n",
       "\t<tr><td>blanca</td><td>32</td><td>high  </td></tr>\n",
       "\t<tr><td>ana   </td><td>56</td><td>high  </td></tr>\n",
       "\t<tr><td>blanca</td><td>78</td><td>low   </td></tr>\n",
       "\t<tr><td>luis  </td><td>45</td><td>medium</td></tr>\n",
       "</tbody>\n",
       "</table>\n"
      ],
      "text/latex": [
       "A data.frame: 8 × 3\n",
       "\\begin{tabular}{lll}\n",
       " Name & Age & Activity\\\\\n",
       " <chr> & <dbl> & <ord>\\\\\n",
       "\\hline\n",
       "\t ana    & 23 & low   \\\\\n",
       "\t luis   & 24 & medium\\\\\n",
       "\t elena  & 45 & medium\\\\\n",
       "\t amparo & 67 & medium\\\\\n",
       "\t blanca & 32 & high  \\\\\n",
       "\t ana    & 56 & high  \\\\\n",
       "\t blanca & 78 & low   \\\\\n",
       "\t luis   & 45 & medium\\\\\n",
       "\\end{tabular}\n"
      ],
      "text/markdown": [
       "\n",
       "A data.frame: 8 × 3\n",
       "\n",
       "| Name &lt;chr&gt; | Age &lt;dbl&gt; | Activity &lt;ord&gt; |\n",
       "|---|---|---|\n",
       "| ana    | 23 | low    |\n",
       "| luis   | 24 | medium |\n",
       "| elena  | 45 | medium |\n",
       "| amparo | 67 | medium |\n",
       "| blanca | 32 | high   |\n",
       "| ana    | 56 | high   |\n",
       "| blanca | 78 | low    |\n",
       "| luis   | 45 | medium |\n",
       "\n"
      ],
      "text/plain": [
       "  Name   Age Activity\n",
       "1 ana    23  low     \n",
       "2 luis   24  medium  \n",
       "3 elena  45  medium  \n",
       "4 amparo 67  medium  \n",
       "5 blanca 32  high    \n",
       "6 ana    56  high    \n",
       "7 blanca 78  low     \n",
       "8 luis   45  medium  "
      ]
     },
     "metadata": {},
     "output_type": "display_data"
    }
   ],
   "source": [
    "student_dat <- data.frame(Name=names, Age=age, Activity=ordered_activity)\n",
    "student_dat"
   ]
  },
  {
   "cell_type": "markdown",
   "id": "1af2cd7a-7862-4730-810b-553fa97e708d",
   "metadata": {},
   "source": [
    "When executing the name of the created data frame, we can see the data it contains along with the assigned column names: *Name*, *Age*, and *Activity*.\n",
    "\n",
    "We can select specific columns from a data frame using square brackets, similar to how we select elements in a matrix. For example, the command `student_dat[,2]` would display the values in the *Age* column.\n",
    "\n",
    "Another way to access a column in a data frame is by using the `$` operator, followed by the name of the column. For example, by executing the following command:"
   ]
  },
  {
   "cell_type": "code",
   "execution_count": 49,
   "id": "b2541d33-9fa2-4d8e-8e20-2c543105caa8",
   "metadata": {},
   "outputs": [
    {
     "data": {
      "text/html": [
       "<style>\n",
       ".list-inline {list-style: none; margin:0; padding: 0}\n",
       ".list-inline>li {display: inline-block}\n",
       ".list-inline>li:not(:last-child)::after {content: \"\\00b7\"; padding: 0 .5ex}\n",
       "</style>\n",
       "<ol class=list-inline><li>'ana'</li><li>'luis'</li><li>'elena'</li><li>'amparo'</li><li>'blanca'</li><li>'ana'</li><li>'blanca'</li><li>'luis'</li></ol>\n"
      ],
      "text/latex": [
       "\\begin{enumerate*}\n",
       "\\item 'ana'\n",
       "\\item 'luis'\n",
       "\\item 'elena'\n",
       "\\item 'amparo'\n",
       "\\item 'blanca'\n",
       "\\item 'ana'\n",
       "\\item 'blanca'\n",
       "\\item 'luis'\n",
       "\\end{enumerate*}\n"
      ],
      "text/markdown": [
       "1. 'ana'\n",
       "2. 'luis'\n",
       "3. 'elena'\n",
       "4. 'amparo'\n",
       "5. 'blanca'\n",
       "6. 'ana'\n",
       "7. 'blanca'\n",
       "8. 'luis'\n",
       "\n",
       "\n"
      ],
      "text/plain": [
       "[1] \"ana\"    \"luis\"   \"elena\"  \"amparo\" \"blanca\" \"ana\"    \"blanca\" \"luis\"  "
      ]
     },
     "metadata": {},
     "output_type": "display_data"
    }
   ],
   "source": [
    "student_dat$Name"
   ]
  },
  {
   "cell_type": "markdown",
   "id": "5cf74886-b00e-4a51-8e57-32ecaa1cf7af",
   "metadata": {},
   "source": [
    "we would obtain the values from the *Nombre* column.\n",
    "\n",
    "If we want to add other variables to a data frame, we simply need to define a new vector of the same length as the existing columns. For example, let's create a vector with the weights and assign it as a new column in the data frame using the following approach:"
   ]
  },
  {
   "cell_type": "code",
   "execution_count": 50,
   "id": "ec4166b6-f90f-4291-a083-aca043e0b00e",
   "metadata": {},
   "outputs": [
    {
     "data": {
      "text/html": [
       "<table class=\"dataframe\">\n",
       "<caption>A data.frame: 8 × 4</caption>\n",
       "<thead>\n",
       "\t<tr><th scope=col>Name</th><th scope=col>Age</th><th scope=col>Activity</th><th scope=col>Weight</th></tr>\n",
       "\t<tr><th scope=col>&lt;chr&gt;</th><th scope=col>&lt;dbl&gt;</th><th scope=col>&lt;ord&gt;</th><th scope=col>&lt;dbl&gt;</th></tr>\n",
       "</thead>\n",
       "<tbody>\n",
       "\t<tr><td>ana   </td><td>23</td><td>low   </td><td>56</td></tr>\n",
       "\t<tr><td>luis  </td><td>24</td><td>medium</td><td>67</td></tr>\n",
       "\t<tr><td>elena </td><td>45</td><td>medium</td><td>87</td></tr>\n",
       "\t<tr><td>amparo</td><td>67</td><td>medium</td><td>68</td></tr>\n",
       "\t<tr><td>blanca</td><td>32</td><td>high  </td><td>79</td></tr>\n",
       "\t<tr><td>ana   </td><td>56</td><td>high  </td><td>75</td></tr>\n",
       "\t<tr><td>blanca</td><td>78</td><td>low   </td><td>76</td></tr>\n",
       "\t<tr><td>luis  </td><td>45</td><td>medium</td><td>57</td></tr>\n",
       "</tbody>\n",
       "</table>\n"
      ],
      "text/latex": [
       "A data.frame: 8 × 4\n",
       "\\begin{tabular}{llll}\n",
       " Name & Age & Activity & Weight\\\\\n",
       " <chr> & <dbl> & <ord> & <dbl>\\\\\n",
       "\\hline\n",
       "\t ana    & 23 & low    & 56\\\\\n",
       "\t luis   & 24 & medium & 67\\\\\n",
       "\t elena  & 45 & medium & 87\\\\\n",
       "\t amparo & 67 & medium & 68\\\\\n",
       "\t blanca & 32 & high   & 79\\\\\n",
       "\t ana    & 56 & high   & 75\\\\\n",
       "\t blanca & 78 & low    & 76\\\\\n",
       "\t luis   & 45 & medium & 57\\\\\n",
       "\\end{tabular}\n"
      ],
      "text/markdown": [
       "\n",
       "A data.frame: 8 × 4\n",
       "\n",
       "| Name &lt;chr&gt; | Age &lt;dbl&gt; | Activity &lt;ord&gt; | Weight &lt;dbl&gt; |\n",
       "|---|---|---|---|\n",
       "| ana    | 23 | low    | 56 |\n",
       "| luis   | 24 | medium | 67 |\n",
       "| elena  | 45 | medium | 87 |\n",
       "| amparo | 67 | medium | 68 |\n",
       "| blanca | 32 | high   | 79 |\n",
       "| ana    | 56 | high   | 75 |\n",
       "| blanca | 78 | low    | 76 |\n",
       "| luis   | 45 | medium | 57 |\n",
       "\n"
      ],
      "text/plain": [
       "  Name   Age Activity Weight\n",
       "1 ana    23  low      56    \n",
       "2 luis   24  medium   67    \n",
       "3 elena  45  medium   87    \n",
       "4 amparo 67  medium   68    \n",
       "5 blanca 32  high     79    \n",
       "6 ana    56  high     75    \n",
       "7 blanca 78  low      76    \n",
       "8 luis   45  medium   57    "
      ]
     },
     "metadata": {},
     "output_type": "display_data"
    }
   ],
   "source": [
    "weights <- c(56, 67, 87, 68, 79, 75, 76, 57) # Vector con los pesos\n",
    "student_dat$Weight <- weights # Incluye una nueva columna llamada Peso en el data frame datos\n",
    "student_dat"
   ]
  },
  {
   "cell_type": "markdown",
   "id": "00fe4c0a-2f64-4d2a-88d8-eb5cb655eb9e",
   "metadata": {},
   "source": [
    "To edit a defined data frame, we can use the function `edit(dataframe)`. However, the most common way to define a data frame in R is by loading a file that already contains the data, as we will see later.\n",
    "\n",
    "For example, the `Auto` dataset, which was previously loaded from the ISLR library, is a data frame:"
   ]
  },
  {
   "cell_type": "code",
   "execution_count": 51,
   "id": "86fc59b9-0d96-42ce-956f-9454f02ecf61",
   "metadata": {},
   "outputs": [
    {
     "data": {
      "text/html": [
       "'data.frame'"
      ],
      "text/latex": [
       "'data.frame'"
      ],
      "text/markdown": [
       "'data.frame'"
      ],
      "text/plain": [
       "[1] \"data.frame\""
      ]
     },
     "metadata": {},
     "output_type": "display_data"
    }
   ],
   "source": [
    "class(Auto)"
   ]
  },
  {
   "cell_type": "markdown",
   "id": "b880cfc4-ce47-4ea4-8073-029ff548419f",
   "metadata": {},
   "source": [
    "Since this data frame contains many rows, we can use the `head()` function to display only the first few rows and get an overview of the variables it contains."
   ]
  },
  {
   "cell_type": "code",
   "execution_count": 52,
   "id": "363e2de8-4759-4739-8385-b7deb413fdce",
   "metadata": {},
   "outputs": [
    {
     "data": {
      "text/html": [
       "<table class=\"dataframe\">\n",
       "<caption>A data.frame: 6 × 9</caption>\n",
       "<thead>\n",
       "\t<tr><th></th><th scope=col>mpg</th><th scope=col>cylinders</th><th scope=col>displacement</th><th scope=col>horsepower</th><th scope=col>weight</th><th scope=col>acceleration</th><th scope=col>year</th><th scope=col>origin</th><th scope=col>name</th></tr>\n",
       "\t<tr><th></th><th scope=col>&lt;dbl&gt;</th><th scope=col>&lt;dbl&gt;</th><th scope=col>&lt;dbl&gt;</th><th scope=col>&lt;dbl&gt;</th><th scope=col>&lt;dbl&gt;</th><th scope=col>&lt;dbl&gt;</th><th scope=col>&lt;dbl&gt;</th><th scope=col>&lt;dbl&gt;</th><th scope=col>&lt;fct&gt;</th></tr>\n",
       "</thead>\n",
       "<tbody>\n",
       "\t<tr><th scope=row>1</th><td>18</td><td>8</td><td>307</td><td>130</td><td>3504</td><td>12.0</td><td>70</td><td>1</td><td>chevrolet chevelle malibu</td></tr>\n",
       "\t<tr><th scope=row>2</th><td>15</td><td>8</td><td>350</td><td>165</td><td>3693</td><td>11.5</td><td>70</td><td>1</td><td>buick skylark 320        </td></tr>\n",
       "\t<tr><th scope=row>3</th><td>18</td><td>8</td><td>318</td><td>150</td><td>3436</td><td>11.0</td><td>70</td><td>1</td><td>plymouth satellite       </td></tr>\n",
       "\t<tr><th scope=row>4</th><td>16</td><td>8</td><td>304</td><td>150</td><td>3433</td><td>12.0</td><td>70</td><td>1</td><td>amc rebel sst            </td></tr>\n",
       "\t<tr><th scope=row>5</th><td>17</td><td>8</td><td>302</td><td>140</td><td>3449</td><td>10.5</td><td>70</td><td>1</td><td>ford torino              </td></tr>\n",
       "\t<tr><th scope=row>6</th><td>15</td><td>8</td><td>429</td><td>198</td><td>4341</td><td>10.0</td><td>70</td><td>1</td><td>ford galaxie 500         </td></tr>\n",
       "</tbody>\n",
       "</table>\n"
      ],
      "text/latex": [
       "A data.frame: 6 × 9\n",
       "\\begin{tabular}{r|lllllllll}\n",
       "  & mpg & cylinders & displacement & horsepower & weight & acceleration & year & origin & name\\\\\n",
       "  & <dbl> & <dbl> & <dbl> & <dbl> & <dbl> & <dbl> & <dbl> & <dbl> & <fct>\\\\\n",
       "\\hline\n",
       "\t1 & 18 & 8 & 307 & 130 & 3504 & 12.0 & 70 & 1 & chevrolet chevelle malibu\\\\\n",
       "\t2 & 15 & 8 & 350 & 165 & 3693 & 11.5 & 70 & 1 & buick skylark 320        \\\\\n",
       "\t3 & 18 & 8 & 318 & 150 & 3436 & 11.0 & 70 & 1 & plymouth satellite       \\\\\n",
       "\t4 & 16 & 8 & 304 & 150 & 3433 & 12.0 & 70 & 1 & amc rebel sst            \\\\\n",
       "\t5 & 17 & 8 & 302 & 140 & 3449 & 10.5 & 70 & 1 & ford torino              \\\\\n",
       "\t6 & 15 & 8 & 429 & 198 & 4341 & 10.0 & 70 & 1 & ford galaxie 500         \\\\\n",
       "\\end{tabular}\n"
      ],
      "text/markdown": [
       "\n",
       "A data.frame: 6 × 9\n",
       "\n",
       "| <!--/--> | mpg &lt;dbl&gt; | cylinders &lt;dbl&gt; | displacement &lt;dbl&gt; | horsepower &lt;dbl&gt; | weight &lt;dbl&gt; | acceleration &lt;dbl&gt; | year &lt;dbl&gt; | origin &lt;dbl&gt; | name &lt;fct&gt; |\n",
       "|---|---|---|---|---|---|---|---|---|---|\n",
       "| 1 | 18 | 8 | 307 | 130 | 3504 | 12.0 | 70 | 1 | chevrolet chevelle malibu |\n",
       "| 2 | 15 | 8 | 350 | 165 | 3693 | 11.5 | 70 | 1 | buick skylark 320         |\n",
       "| 3 | 18 | 8 | 318 | 150 | 3436 | 11.0 | 70 | 1 | plymouth satellite        |\n",
       "| 4 | 16 | 8 | 304 | 150 | 3433 | 12.0 | 70 | 1 | amc rebel sst             |\n",
       "| 5 | 17 | 8 | 302 | 140 | 3449 | 10.5 | 70 | 1 | ford torino               |\n",
       "| 6 | 15 | 8 | 429 | 198 | 4341 | 10.0 | 70 | 1 | ford galaxie 500          |\n",
       "\n"
      ],
      "text/plain": [
       "  mpg cylinders displacement horsepower weight acceleration year origin\n",
       "1 18  8         307          130        3504   12.0         70   1     \n",
       "2 15  8         350          165        3693   11.5         70   1     \n",
       "3 18  8         318          150        3436   11.0         70   1     \n",
       "4 16  8         304          150        3433   12.0         70   1     \n",
       "5 17  8         302          140        3449   10.5         70   1     \n",
       "6 15  8         429          198        4341   10.0         70   1     \n",
       "  name                     \n",
       "1 chevrolet chevelle malibu\n",
       "2 buick skylark 320        \n",
       "3 plymouth satellite       \n",
       "4 amc rebel sst            \n",
       "5 ford torino              \n",
       "6 ford galaxie 500         "
      ]
     },
     "metadata": {},
     "output_type": "display_data"
    }
   ],
   "source": [
    "head(Auto) "
   ]
  },
  {
   "cell_type": "markdown",
   "id": "14b0e7ba-a312-4bb1-9dce-0deaf5412da8",
   "metadata": {},
   "source": [
    "We may also want to access a specific variable within the data frame and perform arithmetic operations on it, provided it is a numeric variable. For example, we can calculate the average number of cylinders using the `mean()` function:"
   ]
  },
  {
   "cell_type": "code",
   "execution_count": 53,
   "id": "6d8a021d-c1b3-4bed-bcef-129730066df1",
   "metadata": {},
   "outputs": [
    {
     "data": {
      "text/html": [
       "'numeric'"
      ],
      "text/latex": [
       "'numeric'"
      ],
      "text/markdown": [
       "'numeric'"
      ],
      "text/plain": [
       "[1] \"numeric\""
      ]
     },
     "metadata": {},
     "output_type": "display_data"
    },
    {
     "data": {
      "text/html": [
       "5.4719387755102"
      ],
      "text/latex": [
       "5.4719387755102"
      ],
      "text/markdown": [
       "5.4719387755102"
      ],
      "text/plain": [
       "[1] 5.471939"
      ]
     },
     "metadata": {},
     "output_type": "display_data"
    }
   ],
   "source": [
    "class(Auto$cylinders)\n",
    "mean(Auto$cylinders)"
   ]
  },
  {
   "cell_type": "markdown",
   "id": "437a0f41-7630-43c9-8013-2fca20404e21",
   "metadata": {},
   "source": [
    "By applying the `attach()` command to a data frame, its columns become individual vector-type variables, simplifying the previous code where we used the `$` operator to access data frame variables. However, in each R session, **the `attach()` function should only be executed once per data frame**.\n",
    "\n",
    "The `detach()` command reverses the effect of `attach()` and should be executed once the analysis of that data frame is complete, ensuring that the variables are no longer loaded in the R session."
   ]
  },
  {
   "cell_type": "code",
   "execution_count": 54,
   "id": "947ae91b-d3d3-4dda-b2d5-5dbf57d8ece0",
   "metadata": {},
   "outputs": [],
   "source": [
    "attach(Auto)"
   ]
  },
  {
   "cell_type": "code",
   "execution_count": 55,
   "id": "8d32823a-5bc6-45e2-a251-b8402c824c69",
   "metadata": {},
   "outputs": [
    {
     "data": {
      "text/html": [
       "5.4719387755102"
      ],
      "text/latex": [
       "5.4719387755102"
      ],
      "text/markdown": [
       "5.4719387755102"
      ],
      "text/plain": [
       "[1] 5.471939"
      ]
     },
     "metadata": {},
     "output_type": "display_data"
    }
   ],
   "source": [
    "mean(cylinders) "
   ]
  },
  {
   "cell_type": "markdown",
   "id": "ed0b4a4d-7fad-41fb-9a3c-c30f557b22c6",
   "metadata": {},
   "source": [
    "As we can see, once the `attach` command is applied to the Auto data frame, we can refer to variables directly by their column names instead of writing `Auto$cylinders`.\n",
    "\n",
    "Working with the variables in this dataset, we can determine, for example, the number of vehicles that have 6 or more cylinders:"
   ]
  },
  {
   "cell_type": "code",
   "execution_count": 56,
   "id": "cda36969-08c1-4664-bf17-e97157090aa4",
   "metadata": {},
   "outputs": [
    {
     "data": {
      "text/html": [
       "186"
      ],
      "text/latex": [
       "186"
      ],
      "text/markdown": [
       "186"
      ],
      "text/plain": [
       "[1] 186"
      ]
     },
     "metadata": {},
     "output_type": "display_data"
    }
   ],
   "source": [
    "sum(cylinders>=6)"
   ]
  },
  {
   "cell_type": "markdown",
   "id": "a1caa15c-d30b-47aa-8819-371e072a69bd",
   "metadata": {},
   "source": [
    "Or the percentage of *toyota corolla* cars:"
   ]
  },
  {
   "cell_type": "code",
   "execution_count": 57,
   "id": "e9d57e2f-4ccb-423f-a8a7-be6a7071eaec",
   "metadata": {},
   "outputs": [
    {
     "data": {
      "text/html": [
       "1.27551020408163"
      ],
      "text/latex": [
       "1.27551020408163"
      ],
      "text/markdown": [
       "1.27551020408163"
      ],
      "text/plain": [
       "[1] 1.27551"
      ]
     },
     "metadata": {},
     "output_type": "display_data"
    },
    {
     "data": {
      "text/html": [
       "1.28"
      ],
      "text/latex": [
       "1.28"
      ],
      "text/markdown": [
       "1.28"
      ],
      "text/plain": [
       "[1] 1.28"
      ]
     },
     "metadata": {},
     "output_type": "display_data"
    },
    {
     "data": {
      "text/html": [
       "'La muestra contiene un 1.28% de coches Toyota Corolla'"
      ],
      "text/latex": [
       "'La muestra contiene un 1.28\\% de coches Toyota Corolla'"
      ],
      "text/markdown": [
       "'La muestra contiene un 1.28% de coches Toyota Corolla'"
      ],
      "text/plain": [
       "[1] \"La muestra contiene un 1.28% de coches Toyota Corolla\""
      ]
     },
     "metadata": {},
     "output_type": "display_data"
    }
   ],
   "source": [
    "sum(name==\"toyota corolla\")/length(name)*100\n",
    "round_val <- round(sum(name==\"toyota corolla\")/length(name)*100, 2); round_val # Redondeamos el valor anterior a dos decimales\n",
    "sprintf(\"La muestra contiene un %s%% de coches Toyota Corolla\", round_val) # Permite escribir el resultado con un formato"
   ]
  },
  {
   "cell_type": "markdown",
   "id": "7cb01d71-6994-43a9-a1e8-ceb6de9affac",
   "metadata": {},
   "source": [
    "Pay close attention to the output of executing `cylinders >= 6` and `name == 'toyota corolla'`."
   ]
  },
  {
   "cell_type": "code",
   "execution_count": 58,
   "id": "f4e52caf-22fa-46ee-893f-576ca62cfd6f",
   "metadata": {},
   "outputs": [
    {
     "data": {
      "text/html": [
       "<style>\n",
       ".list-inline {list-style: none; margin:0; padding: 0}\n",
       ".list-inline>li {display: inline-block}\n",
       ".list-inline>li:not(:last-child)::after {content: \"\\00b7\"; padding: 0 .5ex}\n",
       "</style>\n",
       "<ol class=list-inline><li>TRUE</li><li>TRUE</li><li>TRUE</li><li>TRUE</li><li>TRUE</li><li>TRUE</li><li>TRUE</li><li>TRUE</li><li>TRUE</li><li>TRUE</li><li>TRUE</li><li>TRUE</li><li>TRUE</li><li>TRUE</li><li>FALSE</li><li>TRUE</li><li>TRUE</li><li>TRUE</li><li>FALSE</li><li>FALSE</li><li>FALSE</li><li>FALSE</li><li>FALSE</li><li>FALSE</li><li>TRUE</li><li>TRUE</li><li>TRUE</li><li>TRUE</li><li>TRUE</li><li>FALSE</li><li>FALSE</li><li>FALSE</li><li>TRUE</li><li>TRUE</li><li>TRUE</li><li>TRUE</li><li>TRUE</li><li>TRUE</li><li>TRUE</li><li>TRUE</li><li>TRUE</li><li>TRUE</li><li>TRUE</li><li>TRUE</li><li>TRUE</li><li>FALSE</li><li>TRUE</li><li>TRUE</li><li>FALSE</li><li>FALSE</li><li>FALSE</li><li>FALSE</li><li>FALSE</li><li>FALSE</li><li>FALSE</li><li>FALSE</li><li>FALSE</li><li>FALSE</li><li>FALSE</li><li>FALSE</li><li>FALSE</li><li>TRUE</li><li>TRUE</li><li>TRUE</li><li>TRUE</li><li>TRUE</li><li>TRUE</li><li>TRUE</li><li>TRUE</li><li>TRUE</li><li>FALSE</li><li>TRUE</li><li>TRUE</li><li>TRUE</li><li>TRUE</li><li>FALSE</li><li>FALSE</li><li>FALSE</li><li>FALSE</li><li>FALSE</li><li>FALSE</li><li>FALSE</li><li>FALSE</li><li>FALSE</li><li>TRUE</li><li>TRUE</li><li>TRUE</li><li>TRUE</li><li>TRUE</li><li>TRUE</li><li>TRUE</li><li>TRUE</li><li>TRUE</li><li>TRUE</li><li>TRUE</li><li>TRUE</li><li>TRUE</li><li>TRUE</li><li>TRUE</li><li>TRUE</li><li>TRUE</li><li>FALSE</li><li>TRUE</li><li>TRUE</li><li>TRUE</li><li>TRUE</li><li>TRUE</li><li>FALSE</li><li>FALSE</li><li>FALSE</li><li>FALSE</li><li>FALSE</li><li>TRUE</li><li>FALSE</li><li>TRUE</li><li>TRUE</li><li>FALSE</li><li>FALSE</li><li>FALSE</li><li>FALSE</li><li>TRUE</li><li>FALSE</li><li>TRUE</li><li>TRUE</li><li>TRUE</li><li>TRUE</li><li>TRUE</li><li>FALSE</li><li>FALSE</li><li>FALSE</li><li>FALSE</li><li>TRUE</li><li>TRUE</li><li>TRUE</li><li>TRUE</li><li>TRUE</li><li>TRUE</li><li>TRUE</li><li>TRUE</li><li>FALSE</li><li>FALSE</li><li>FALSE</li><li>FALSE</li><li>FALSE</li><li>FALSE</li><li>FALSE</li><li>FALSE</li><li>FALSE</li><li>FALSE</li><li>FALSE</li><li>TRUE</li><li>TRUE</li><li>TRUE</li><li>TRUE</li><li>TRUE</li><li>TRUE</li><li>TRUE</li><li>TRUE</li><li>TRUE</li><li>TRUE</li><li>TRUE</li><li>TRUE</li><li>TRUE</li><li>TRUE</li><li>TRUE</li><li>FALSE</li><li>FALSE</li><li>TRUE</li><li>FALSE</li><li>FALSE</li><li>FALSE</li><li>FALSE</li><li>TRUE</li><li>FALSE</li><li>TRUE</li><li>FALSE</li><li>FALSE</li><li>FALSE</li><li>FALSE</li><li>FALSE</li><li>FALSE</li><li>FALSE</li><li>FALSE</li><li>FALSE</li><li>FALSE</li><li>TRUE</li><li>TRUE</li><li>TRUE</li><li>TRUE</li><li>TRUE</li><li>TRUE</li><li>TRUE</li><li>TRUE</li><li>FALSE</li><li>FALSE</li><li>FALSE</li><li>FALSE</li><li>TRUE</li><li>TRUE</li><li>TRUE</li><li>TRUE</li><li>FALSE</li><li>FALSE</li><li>FALSE</li><li>FALSE</li><li>FALSE</li><li>TRUE</li><li>FALSE</li><li>TRUE</li><li>TRUE</li><li>TRUE</li><li>TRUE</li><li>TRUE</li><li>TRUE</li><li>FALSE</li><li>FALSE</li><li>FALSE</li><li>FALSE</li><li>FALSE</li><li>TRUE</li><li>TRUE</li><li>TRUE</li><li>TRUE</li><li>TRUE</li><li>TRUE</li><li>TRUE</li><li>TRUE</li><li>TRUE</li><li>TRUE</li><li>TRUE</li><li>TRUE</li><li>FALSE</li><li>FALSE</li><li>FALSE</li><li>FALSE</li><li>FALSE</li><li>FALSE</li><li>FALSE</li><li>FALSE</li><li>TRUE</li><li>FALSE</li><li>FALSE</li><li>FALSE</li><li>FALSE</li><li>FALSE</li><li>FALSE</li><li>FALSE</li><li>TRUE</li><li>TRUE</li><li>TRUE</li><li>TRUE</li><li>TRUE</li><li>TRUE</li><li>FALSE</li><li>TRUE</li><li>TRUE</li><li>TRUE</li><li>TRUE</li><li>TRUE</li><li>TRUE</li><li>TRUE</li><li>TRUE</li><li>TRUE</li><li>TRUE</li><li>FALSE</li><li>FALSE</li><li>FALSE</li><li>FALSE</li><li>FALSE</li><li>FALSE</li><li>FALSE</li><li>FALSE</li><li>FALSE</li><li>TRUE</li><li>FALSE</li><li>TRUE</li><li>FALSE</li><li>FALSE</li><li>TRUE</li><li>TRUE</li><li>FALSE</li><li>TRUE</li><li>TRUE</li><li>TRUE</li><li>TRUE</li><li>TRUE</li><li>TRUE</li><li>TRUE</li><li>TRUE</li><li>TRUE</li><li>TRUE</li><li>FALSE</li><li>FALSE</li><li>FALSE</li><li>FALSE</li><li>FALSE</li><li>TRUE</li><li>FALSE</li><li>TRUE</li><li>FALSE</li><li>FALSE</li><li>FALSE</li><li>FALSE</li><li>FALSE</li><li>TRUE</li><li>TRUE</li><li>FALSE</li><li>FALSE</li><li>FALSE</li><li>FALSE</li><li>FALSE</li><li>FALSE</li><li>FALSE</li><li>FALSE</li><li>TRUE</li><li>FALSE</li><li>FALSE</li><li>FALSE</li><li>FALSE</li><li>FALSE</li><li>FALSE</li><li>FALSE</li><li>FALSE</li><li>FALSE</li><li>FALSE</li><li>FALSE</li><li>FALSE</li><li>FALSE</li><li>FALSE</li><li>FALSE</li><li>TRUE</li><li>FALSE</li><li>FALSE</li><li>FALSE</li><li>FALSE</li><li>FALSE</li><li>FALSE</li><li>TRUE</li><li>FALSE</li><li>FALSE</li><li>FALSE</li><li>FALSE</li><li>FALSE</li><li>FALSE</li><li>FALSE</li><li>FALSE</li><li>FALSE</li><li>FALSE</li><li>FALSE</li><li>FALSE</li><li>FALSE</li><li>FALSE</li><li>FALSE</li><li>FALSE</li><li>FALSE</li><li>TRUE</li><li>TRUE</li><li>TRUE</li><li>TRUE</li><li>TRUE</li><li>TRUE</li><li>TRUE</li><li>FALSE</li><li>FALSE</li><li>FALSE</li><li>FALSE</li><li>FALSE</li><li>FALSE</li><li>FALSE</li><li>FALSE</li><li>FALSE</li><li>FALSE</li><li>FALSE</li><li>FALSE</li><li>FALSE</li><li>FALSE</li><li>FALSE</li><li>FALSE</li><li>FALSE</li><li>FALSE</li><li>TRUE</li><li>TRUE</li><li>FALSE</li><li>TRUE</li><li>FALSE</li><li>FALSE</li><li>FALSE</li><li>FALSE</li><li>FALSE</li><li>FALSE</li><li>FALSE</li><li>FALSE</li></ol>\n"
      ],
      "text/latex": [
       "\\begin{enumerate*}\n",
       "\\item TRUE\n",
       "\\item TRUE\n",
       "\\item TRUE\n",
       "\\item TRUE\n",
       "\\item TRUE\n",
       "\\item TRUE\n",
       "\\item TRUE\n",
       "\\item TRUE\n",
       "\\item TRUE\n",
       "\\item TRUE\n",
       "\\item TRUE\n",
       "\\item TRUE\n",
       "\\item TRUE\n",
       "\\item TRUE\n",
       "\\item FALSE\n",
       "\\item TRUE\n",
       "\\item TRUE\n",
       "\\item TRUE\n",
       "\\item FALSE\n",
       "\\item FALSE\n",
       "\\item FALSE\n",
       "\\item FALSE\n",
       "\\item FALSE\n",
       "\\item FALSE\n",
       "\\item TRUE\n",
       "\\item TRUE\n",
       "\\item TRUE\n",
       "\\item TRUE\n",
       "\\item TRUE\n",
       "\\item FALSE\n",
       "\\item FALSE\n",
       "\\item FALSE\n",
       "\\item TRUE\n",
       "\\item TRUE\n",
       "\\item TRUE\n",
       "\\item TRUE\n",
       "\\item TRUE\n",
       "\\item TRUE\n",
       "\\item TRUE\n",
       "\\item TRUE\n",
       "\\item TRUE\n",
       "\\item TRUE\n",
       "\\item TRUE\n",
       "\\item TRUE\n",
       "\\item TRUE\n",
       "\\item FALSE\n",
       "\\item TRUE\n",
       "\\item TRUE\n",
       "\\item FALSE\n",
       "\\item FALSE\n",
       "\\item FALSE\n",
       "\\item FALSE\n",
       "\\item FALSE\n",
       "\\item FALSE\n",
       "\\item FALSE\n",
       "\\item FALSE\n",
       "\\item FALSE\n",
       "\\item FALSE\n",
       "\\item FALSE\n",
       "\\item FALSE\n",
       "\\item FALSE\n",
       "\\item TRUE\n",
       "\\item TRUE\n",
       "\\item TRUE\n",
       "\\item TRUE\n",
       "\\item TRUE\n",
       "\\item TRUE\n",
       "\\item TRUE\n",
       "\\item TRUE\n",
       "\\item TRUE\n",
       "\\item FALSE\n",
       "\\item TRUE\n",
       "\\item TRUE\n",
       "\\item TRUE\n",
       "\\item TRUE\n",
       "\\item FALSE\n",
       "\\item FALSE\n",
       "\\item FALSE\n",
       "\\item FALSE\n",
       "\\item FALSE\n",
       "\\item FALSE\n",
       "\\item FALSE\n",
       "\\item FALSE\n",
       "\\item FALSE\n",
       "\\item TRUE\n",
       "\\item TRUE\n",
       "\\item TRUE\n",
       "\\item TRUE\n",
       "\\item TRUE\n",
       "\\item TRUE\n",
       "\\item TRUE\n",
       "\\item TRUE\n",
       "\\item TRUE\n",
       "\\item TRUE\n",
       "\\item TRUE\n",
       "\\item TRUE\n",
       "\\item TRUE\n",
       "\\item TRUE\n",
       "\\item TRUE\n",
       "\\item TRUE\n",
       "\\item TRUE\n",
       "\\item FALSE\n",
       "\\item TRUE\n",
       "\\item TRUE\n",
       "\\item TRUE\n",
       "\\item TRUE\n",
       "\\item TRUE\n",
       "\\item FALSE\n",
       "\\item FALSE\n",
       "\\item FALSE\n",
       "\\item FALSE\n",
       "\\item FALSE\n",
       "\\item TRUE\n",
       "\\item FALSE\n",
       "\\item TRUE\n",
       "\\item TRUE\n",
       "\\item FALSE\n",
       "\\item FALSE\n",
       "\\item FALSE\n",
       "\\item FALSE\n",
       "\\item TRUE\n",
       "\\item FALSE\n",
       "\\item TRUE\n",
       "\\item TRUE\n",
       "\\item TRUE\n",
       "\\item TRUE\n",
       "\\item TRUE\n",
       "\\item FALSE\n",
       "\\item FALSE\n",
       "\\item FALSE\n",
       "\\item FALSE\n",
       "\\item TRUE\n",
       "\\item TRUE\n",
       "\\item TRUE\n",
       "\\item TRUE\n",
       "\\item TRUE\n",
       "\\item TRUE\n",
       "\\item TRUE\n",
       "\\item TRUE\n",
       "\\item FALSE\n",
       "\\item FALSE\n",
       "\\item FALSE\n",
       "\\item FALSE\n",
       "\\item FALSE\n",
       "\\item FALSE\n",
       "\\item FALSE\n",
       "\\item FALSE\n",
       "\\item FALSE\n",
       "\\item FALSE\n",
       "\\item FALSE\n",
       "\\item TRUE\n",
       "\\item TRUE\n",
       "\\item TRUE\n",
       "\\item TRUE\n",
       "\\item TRUE\n",
       "\\item TRUE\n",
       "\\item TRUE\n",
       "\\item TRUE\n",
       "\\item TRUE\n",
       "\\item TRUE\n",
       "\\item TRUE\n",
       "\\item TRUE\n",
       "\\item TRUE\n",
       "\\item TRUE\n",
       "\\item TRUE\n",
       "\\item FALSE\n",
       "\\item FALSE\n",
       "\\item TRUE\n",
       "\\item FALSE\n",
       "\\item FALSE\n",
       "\\item FALSE\n",
       "\\item FALSE\n",
       "\\item TRUE\n",
       "\\item FALSE\n",
       "\\item TRUE\n",
       "\\item FALSE\n",
       "\\item FALSE\n",
       "\\item FALSE\n",
       "\\item FALSE\n",
       "\\item FALSE\n",
       "\\item FALSE\n",
       "\\item FALSE\n",
       "\\item FALSE\n",
       "\\item FALSE\n",
       "\\item FALSE\n",
       "\\item TRUE\n",
       "\\item TRUE\n",
       "\\item TRUE\n",
       "\\item TRUE\n",
       "\\item TRUE\n",
       "\\item TRUE\n",
       "\\item TRUE\n",
       "\\item TRUE\n",
       "\\item FALSE\n",
       "\\item FALSE\n",
       "\\item FALSE\n",
       "\\item FALSE\n",
       "\\item TRUE\n",
       "\\item TRUE\n",
       "\\item TRUE\n",
       "\\item TRUE\n",
       "\\item FALSE\n",
       "\\item FALSE\n",
       "\\item FALSE\n",
       "\\item FALSE\n",
       "\\item FALSE\n",
       "\\item TRUE\n",
       "\\item FALSE\n",
       "\\item TRUE\n",
       "\\item TRUE\n",
       "\\item TRUE\n",
       "\\item TRUE\n",
       "\\item TRUE\n",
       "\\item TRUE\n",
       "\\item FALSE\n",
       "\\item FALSE\n",
       "\\item FALSE\n",
       "\\item FALSE\n",
       "\\item FALSE\n",
       "\\item TRUE\n",
       "\\item TRUE\n",
       "\\item TRUE\n",
       "\\item TRUE\n",
       "\\item TRUE\n",
       "\\item TRUE\n",
       "\\item TRUE\n",
       "\\item TRUE\n",
       "\\item TRUE\n",
       "\\item TRUE\n",
       "\\item TRUE\n",
       "\\item TRUE\n",
       "\\item FALSE\n",
       "\\item FALSE\n",
       "\\item FALSE\n",
       "\\item FALSE\n",
       "\\item FALSE\n",
       "\\item FALSE\n",
       "\\item FALSE\n",
       "\\item FALSE\n",
       "\\item TRUE\n",
       "\\item FALSE\n",
       "\\item FALSE\n",
       "\\item FALSE\n",
       "\\item FALSE\n",
       "\\item FALSE\n",
       "\\item FALSE\n",
       "\\item FALSE\n",
       "\\item TRUE\n",
       "\\item TRUE\n",
       "\\item TRUE\n",
       "\\item TRUE\n",
       "\\item TRUE\n",
       "\\item TRUE\n",
       "\\item FALSE\n",
       "\\item TRUE\n",
       "\\item TRUE\n",
       "\\item TRUE\n",
       "\\item TRUE\n",
       "\\item TRUE\n",
       "\\item TRUE\n",
       "\\item TRUE\n",
       "\\item TRUE\n",
       "\\item TRUE\n",
       "\\item TRUE\n",
       "\\item FALSE\n",
       "\\item FALSE\n",
       "\\item FALSE\n",
       "\\item FALSE\n",
       "\\item FALSE\n",
       "\\item FALSE\n",
       "\\item FALSE\n",
       "\\item FALSE\n",
       "\\item FALSE\n",
       "\\item TRUE\n",
       "\\item FALSE\n",
       "\\item TRUE\n",
       "\\item FALSE\n",
       "\\item FALSE\n",
       "\\item TRUE\n",
       "\\item TRUE\n",
       "\\item FALSE\n",
       "\\item TRUE\n",
       "\\item TRUE\n",
       "\\item TRUE\n",
       "\\item TRUE\n",
       "\\item TRUE\n",
       "\\item TRUE\n",
       "\\item TRUE\n",
       "\\item TRUE\n",
       "\\item TRUE\n",
       "\\item TRUE\n",
       "\\item FALSE\n",
       "\\item FALSE\n",
       "\\item FALSE\n",
       "\\item FALSE\n",
       "\\item FALSE\n",
       "\\item TRUE\n",
       "\\item FALSE\n",
       "\\item TRUE\n",
       "\\item FALSE\n",
       "\\item FALSE\n",
       "\\item FALSE\n",
       "\\item FALSE\n",
       "\\item FALSE\n",
       "\\item TRUE\n",
       "\\item TRUE\n",
       "\\item FALSE\n",
       "\\item FALSE\n",
       "\\item FALSE\n",
       "\\item FALSE\n",
       "\\item FALSE\n",
       "\\item FALSE\n",
       "\\item FALSE\n",
       "\\item FALSE\n",
       "\\item TRUE\n",
       "\\item FALSE\n",
       "\\item FALSE\n",
       "\\item FALSE\n",
       "\\item FALSE\n",
       "\\item FALSE\n",
       "\\item FALSE\n",
       "\\item FALSE\n",
       "\\item FALSE\n",
       "\\item FALSE\n",
       "\\item FALSE\n",
       "\\item FALSE\n",
       "\\item FALSE\n",
       "\\item FALSE\n",
       "\\item FALSE\n",
       "\\item FALSE\n",
       "\\item TRUE\n",
       "\\item FALSE\n",
       "\\item FALSE\n",
       "\\item FALSE\n",
       "\\item FALSE\n",
       "\\item FALSE\n",
       "\\item FALSE\n",
       "\\item TRUE\n",
       "\\item FALSE\n",
       "\\item FALSE\n",
       "\\item FALSE\n",
       "\\item FALSE\n",
       "\\item FALSE\n",
       "\\item FALSE\n",
       "\\item FALSE\n",
       "\\item FALSE\n",
       "\\item FALSE\n",
       "\\item FALSE\n",
       "\\item FALSE\n",
       "\\item FALSE\n",
       "\\item FALSE\n",
       "\\item FALSE\n",
       "\\item FALSE\n",
       "\\item FALSE\n",
       "\\item FALSE\n",
       "\\item TRUE\n",
       "\\item TRUE\n",
       "\\item TRUE\n",
       "\\item TRUE\n",
       "\\item TRUE\n",
       "\\item TRUE\n",
       "\\item TRUE\n",
       "\\item FALSE\n",
       "\\item FALSE\n",
       "\\item FALSE\n",
       "\\item FALSE\n",
       "\\item FALSE\n",
       "\\item FALSE\n",
       "\\item FALSE\n",
       "\\item FALSE\n",
       "\\item FALSE\n",
       "\\item FALSE\n",
       "\\item FALSE\n",
       "\\item FALSE\n",
       "\\item FALSE\n",
       "\\item FALSE\n",
       "\\item FALSE\n",
       "\\item FALSE\n",
       "\\item FALSE\n",
       "\\item FALSE\n",
       "\\item TRUE\n",
       "\\item TRUE\n",
       "\\item FALSE\n",
       "\\item TRUE\n",
       "\\item FALSE\n",
       "\\item FALSE\n",
       "\\item FALSE\n",
       "\\item FALSE\n",
       "\\item FALSE\n",
       "\\item FALSE\n",
       "\\item FALSE\n",
       "\\item FALSE\n",
       "\\end{enumerate*}\n"
      ],
      "text/markdown": [
       "1. TRUE\n",
       "2. TRUE\n",
       "3. TRUE\n",
       "4. TRUE\n",
       "5. TRUE\n",
       "6. TRUE\n",
       "7. TRUE\n",
       "8. TRUE\n",
       "9. TRUE\n",
       "10. TRUE\n",
       "11. TRUE\n",
       "12. TRUE\n",
       "13. TRUE\n",
       "14. TRUE\n",
       "15. FALSE\n",
       "16. TRUE\n",
       "17. TRUE\n",
       "18. TRUE\n",
       "19. FALSE\n",
       "20. FALSE\n",
       "21. FALSE\n",
       "22. FALSE\n",
       "23. FALSE\n",
       "24. FALSE\n",
       "25. TRUE\n",
       "26. TRUE\n",
       "27. TRUE\n",
       "28. TRUE\n",
       "29. TRUE\n",
       "30. FALSE\n",
       "31. FALSE\n",
       "32. FALSE\n",
       "33. TRUE\n",
       "34. TRUE\n",
       "35. TRUE\n",
       "36. TRUE\n",
       "37. TRUE\n",
       "38. TRUE\n",
       "39. TRUE\n",
       "40. TRUE\n",
       "41. TRUE\n",
       "42. TRUE\n",
       "43. TRUE\n",
       "44. TRUE\n",
       "45. TRUE\n",
       "46. FALSE\n",
       "47. TRUE\n",
       "48. TRUE\n",
       "49. FALSE\n",
       "50. FALSE\n",
       "51. FALSE\n",
       "52. FALSE\n",
       "53. FALSE\n",
       "54. FALSE\n",
       "55. FALSE\n",
       "56. FALSE\n",
       "57. FALSE\n",
       "58. FALSE\n",
       "59. FALSE\n",
       "60. FALSE\n",
       "61. FALSE\n",
       "62. TRUE\n",
       "63. TRUE\n",
       "64. TRUE\n",
       "65. TRUE\n",
       "66. TRUE\n",
       "67. TRUE\n",
       "68. TRUE\n",
       "69. TRUE\n",
       "70. TRUE\n",
       "71. FALSE\n",
       "72. TRUE\n",
       "73. TRUE\n",
       "74. TRUE\n",
       "75. TRUE\n",
       "76. FALSE\n",
       "77. FALSE\n",
       "78. FALSE\n",
       "79. FALSE\n",
       "80. FALSE\n",
       "81. FALSE\n",
       "82. FALSE\n",
       "83. FALSE\n",
       "84. FALSE\n",
       "85. TRUE\n",
       "86. TRUE\n",
       "87. TRUE\n",
       "88. TRUE\n",
       "89. TRUE\n",
       "90. TRUE\n",
       "91. TRUE\n",
       "92. TRUE\n",
       "93. TRUE\n",
       "94. TRUE\n",
       "95. TRUE\n",
       "96. TRUE\n",
       "97. TRUE\n",
       "98. TRUE\n",
       "99. TRUE\n",
       "100. TRUE\n",
       "101. TRUE\n",
       "102. FALSE\n",
       "103. TRUE\n",
       "104. TRUE\n",
       "105. TRUE\n",
       "106. TRUE\n",
       "107. TRUE\n",
       "108. FALSE\n",
       "109. FALSE\n",
       "110. FALSE\n",
       "111. FALSE\n",
       "112. FALSE\n",
       "113. TRUE\n",
       "114. FALSE\n",
       "115. TRUE\n",
       "116. TRUE\n",
       "117. FALSE\n",
       "118. FALSE\n",
       "119. FALSE\n",
       "120. FALSE\n",
       "121. TRUE\n",
       "122. FALSE\n",
       "123. TRUE\n",
       "124. TRUE\n",
       "125. TRUE\n",
       "126. TRUE\n",
       "127. TRUE\n",
       "128. FALSE\n",
       "129. FALSE\n",
       "130. FALSE\n",
       "131. FALSE\n",
       "132. TRUE\n",
       "133. TRUE\n",
       "134. TRUE\n",
       "135. TRUE\n",
       "136. TRUE\n",
       "137. TRUE\n",
       "138. TRUE\n",
       "139. TRUE\n",
       "140. FALSE\n",
       "141. FALSE\n",
       "142. FALSE\n",
       "143. FALSE\n",
       "144. FALSE\n",
       "145. FALSE\n",
       "146. FALSE\n",
       "147. FALSE\n",
       "148. FALSE\n",
       "149. FALSE\n",
       "150. FALSE\n",
       "151. TRUE\n",
       "152. TRUE\n",
       "153. TRUE\n",
       "154. TRUE\n",
       "155. TRUE\n",
       "156. TRUE\n",
       "157. TRUE\n",
       "158. TRUE\n",
       "159. TRUE\n",
       "160. TRUE\n",
       "161. TRUE\n",
       "162. TRUE\n",
       "163. TRUE\n",
       "164. TRUE\n",
       "165. TRUE\n",
       "166. FALSE\n",
       "167. FALSE\n",
       "168. TRUE\n",
       "169. FALSE\n",
       "170. FALSE\n",
       "171. FALSE\n",
       "172. FALSE\n",
       "173. TRUE\n",
       "174. FALSE\n",
       "175. TRUE\n",
       "176. FALSE\n",
       "177. FALSE\n",
       "178. FALSE\n",
       "179. FALSE\n",
       "180. FALSE\n",
       "181. FALSE\n",
       "182. FALSE\n",
       "183. FALSE\n",
       "184. FALSE\n",
       "185. FALSE\n",
       "186. TRUE\n",
       "187. TRUE\n",
       "188. TRUE\n",
       "189. TRUE\n",
       "190. TRUE\n",
       "191. TRUE\n",
       "192. TRUE\n",
       "193. TRUE\n",
       "194. FALSE\n",
       "195. FALSE\n",
       "196. FALSE\n",
       "197. FALSE\n",
       "198. TRUE\n",
       "199. TRUE\n",
       "200. TRUE\n",
       "201. TRUE\n",
       "202. FALSE\n",
       "203. FALSE\n",
       "204. FALSE\n",
       "205. FALSE\n",
       "206. FALSE\n",
       "207. TRUE\n",
       "208. FALSE\n",
       "209. TRUE\n",
       "210. TRUE\n",
       "211. TRUE\n",
       "212. TRUE\n",
       "213. TRUE\n",
       "214. TRUE\n",
       "215. FALSE\n",
       "216. FALSE\n",
       "217. FALSE\n",
       "218. FALSE\n",
       "219. FALSE\n",
       "220. TRUE\n",
       "221. TRUE\n",
       "222. TRUE\n",
       "223. TRUE\n",
       "224. TRUE\n",
       "225. TRUE\n",
       "226. TRUE\n",
       "227. TRUE\n",
       "228. TRUE\n",
       "229. TRUE\n",
       "230. TRUE\n",
       "231. TRUE\n",
       "232. FALSE\n",
       "233. FALSE\n",
       "234. FALSE\n",
       "235. FALSE\n",
       "236. FALSE\n",
       "237. FALSE\n",
       "238. FALSE\n",
       "239. FALSE\n",
       "240. TRUE\n",
       "241. FALSE\n",
       "242. FALSE\n",
       "243. FALSE\n",
       "244. FALSE\n",
       "245. FALSE\n",
       "246. FALSE\n",
       "247. FALSE\n",
       "248. TRUE\n",
       "249. TRUE\n",
       "250. TRUE\n",
       "251. TRUE\n",
       "252. TRUE\n",
       "253. TRUE\n",
       "254. FALSE\n",
       "255. TRUE\n",
       "256. TRUE\n",
       "257. TRUE\n",
       "258. TRUE\n",
       "259. TRUE\n",
       "260. TRUE\n",
       "261. TRUE\n",
       "262. TRUE\n",
       "263. TRUE\n",
       "264. TRUE\n",
       "265. FALSE\n",
       "266. FALSE\n",
       "267. FALSE\n",
       "268. FALSE\n",
       "269. FALSE\n",
       "270. FALSE\n",
       "271. FALSE\n",
       "272. FALSE\n",
       "273. FALSE\n",
       "274. TRUE\n",
       "275. FALSE\n",
       "276. TRUE\n",
       "277. FALSE\n",
       "278. FALSE\n",
       "279. TRUE\n",
       "280. TRUE\n",
       "281. FALSE\n",
       "282. TRUE\n",
       "283. TRUE\n",
       "284. TRUE\n",
       "285. TRUE\n",
       "286. TRUE\n",
       "287. TRUE\n",
       "288. TRUE\n",
       "289. TRUE\n",
       "290. TRUE\n",
       "291. TRUE\n",
       "292. FALSE\n",
       "293. FALSE\n",
       "294. FALSE\n",
       "295. FALSE\n",
       "296. FALSE\n",
       "297. TRUE\n",
       "298. FALSE\n",
       "299. TRUE\n",
       "300. FALSE\n",
       "301. FALSE\n",
       "302. FALSE\n",
       "303. FALSE\n",
       "304. FALSE\n",
       "305. TRUE\n",
       "306. TRUE\n",
       "307. FALSE\n",
       "308. FALSE\n",
       "309. FALSE\n",
       "310. FALSE\n",
       "311. FALSE\n",
       "312. FALSE\n",
       "313. FALSE\n",
       "314. FALSE\n",
       "315. TRUE\n",
       "316. FALSE\n",
       "317. FALSE\n",
       "318. FALSE\n",
       "319. FALSE\n",
       "320. FALSE\n",
       "321. FALSE\n",
       "322. FALSE\n",
       "323. FALSE\n",
       "324. FALSE\n",
       "325. FALSE\n",
       "326. FALSE\n",
       "327. FALSE\n",
       "328. FALSE\n",
       "329. FALSE\n",
       "330. FALSE\n",
       "331. TRUE\n",
       "332. FALSE\n",
       "333. FALSE\n",
       "334. FALSE\n",
       "335. FALSE\n",
       "336. FALSE\n",
       "337. FALSE\n",
       "338. TRUE\n",
       "339. FALSE\n",
       "340. FALSE\n",
       "341. FALSE\n",
       "342. FALSE\n",
       "343. FALSE\n",
       "344. FALSE\n",
       "345. FALSE\n",
       "346. FALSE\n",
       "347. FALSE\n",
       "348. FALSE\n",
       "349. FALSE\n",
       "350. FALSE\n",
       "351. FALSE\n",
       "352. FALSE\n",
       "353. FALSE\n",
       "354. FALSE\n",
       "355. FALSE\n",
       "356. TRUE\n",
       "357. TRUE\n",
       "358. TRUE\n",
       "359. TRUE\n",
       "360. TRUE\n",
       "361. TRUE\n",
       "362. TRUE\n",
       "363. FALSE\n",
       "364. FALSE\n",
       "365. FALSE\n",
       "366. FALSE\n",
       "367. FALSE\n",
       "368. FALSE\n",
       "369. FALSE\n",
       "370. FALSE\n",
       "371. FALSE\n",
       "372. FALSE\n",
       "373. FALSE\n",
       "374. FALSE\n",
       "375. FALSE\n",
       "376. FALSE\n",
       "377. FALSE\n",
       "378. FALSE\n",
       "379. FALSE\n",
       "380. FALSE\n",
       "381. TRUE\n",
       "382. TRUE\n",
       "383. FALSE\n",
       "384. TRUE\n",
       "385. FALSE\n",
       "386. FALSE\n",
       "387. FALSE\n",
       "388. FALSE\n",
       "389. FALSE\n",
       "390. FALSE\n",
       "391. FALSE\n",
       "392. FALSE\n",
       "\n",
       "\n"
      ],
      "text/plain": [
       "  [1]  TRUE  TRUE  TRUE  TRUE  TRUE  TRUE  TRUE  TRUE  TRUE  TRUE  TRUE  TRUE\n",
       " [13]  TRUE  TRUE FALSE  TRUE  TRUE  TRUE FALSE FALSE FALSE FALSE FALSE FALSE\n",
       " [25]  TRUE  TRUE  TRUE  TRUE  TRUE FALSE FALSE FALSE  TRUE  TRUE  TRUE  TRUE\n",
       " [37]  TRUE  TRUE  TRUE  TRUE  TRUE  TRUE  TRUE  TRUE  TRUE FALSE  TRUE  TRUE\n",
       " [49] FALSE FALSE FALSE FALSE FALSE FALSE FALSE FALSE FALSE FALSE FALSE FALSE\n",
       " [61] FALSE  TRUE  TRUE  TRUE  TRUE  TRUE  TRUE  TRUE  TRUE  TRUE FALSE  TRUE\n",
       " [73]  TRUE  TRUE  TRUE FALSE FALSE FALSE FALSE FALSE FALSE FALSE FALSE FALSE\n",
       " [85]  TRUE  TRUE  TRUE  TRUE  TRUE  TRUE  TRUE  TRUE  TRUE  TRUE  TRUE  TRUE\n",
       " [97]  TRUE  TRUE  TRUE  TRUE  TRUE FALSE  TRUE  TRUE  TRUE  TRUE  TRUE FALSE\n",
       "[109] FALSE FALSE FALSE FALSE  TRUE FALSE  TRUE  TRUE FALSE FALSE FALSE FALSE\n",
       "[121]  TRUE FALSE  TRUE  TRUE  TRUE  TRUE  TRUE FALSE FALSE FALSE FALSE  TRUE\n",
       "[133]  TRUE  TRUE  TRUE  TRUE  TRUE  TRUE  TRUE FALSE FALSE FALSE FALSE FALSE\n",
       "[145] FALSE FALSE FALSE FALSE FALSE FALSE  TRUE  TRUE  TRUE  TRUE  TRUE  TRUE\n",
       "[157]  TRUE  TRUE  TRUE  TRUE  TRUE  TRUE  TRUE  TRUE  TRUE FALSE FALSE  TRUE\n",
       "[169] FALSE FALSE FALSE FALSE  TRUE FALSE  TRUE FALSE FALSE FALSE FALSE FALSE\n",
       "[181] FALSE FALSE FALSE FALSE FALSE  TRUE  TRUE  TRUE  TRUE  TRUE  TRUE  TRUE\n",
       "[193]  TRUE FALSE FALSE FALSE FALSE  TRUE  TRUE  TRUE  TRUE FALSE FALSE FALSE\n",
       "[205] FALSE FALSE  TRUE FALSE  TRUE  TRUE  TRUE  TRUE  TRUE  TRUE FALSE FALSE\n",
       "[217] FALSE FALSE FALSE  TRUE  TRUE  TRUE  TRUE  TRUE  TRUE  TRUE  TRUE  TRUE\n",
       "[229]  TRUE  TRUE  TRUE FALSE FALSE FALSE FALSE FALSE FALSE FALSE FALSE  TRUE\n",
       "[241] FALSE FALSE FALSE FALSE FALSE FALSE FALSE  TRUE  TRUE  TRUE  TRUE  TRUE\n",
       "[253]  TRUE FALSE  TRUE  TRUE  TRUE  TRUE  TRUE  TRUE  TRUE  TRUE  TRUE  TRUE\n",
       "[265] FALSE FALSE FALSE FALSE FALSE FALSE FALSE FALSE FALSE  TRUE FALSE  TRUE\n",
       "[277] FALSE FALSE  TRUE  TRUE FALSE  TRUE  TRUE  TRUE  TRUE  TRUE  TRUE  TRUE\n",
       "[289]  TRUE  TRUE  TRUE FALSE FALSE FALSE FALSE FALSE  TRUE FALSE  TRUE FALSE\n",
       "[301] FALSE FALSE FALSE FALSE  TRUE  TRUE FALSE FALSE FALSE FALSE FALSE FALSE\n",
       "[313] FALSE FALSE  TRUE FALSE FALSE FALSE FALSE FALSE FALSE FALSE FALSE FALSE\n",
       "[325] FALSE FALSE FALSE FALSE FALSE FALSE  TRUE FALSE FALSE FALSE FALSE FALSE\n",
       "[337] FALSE  TRUE FALSE FALSE FALSE FALSE FALSE FALSE FALSE FALSE FALSE FALSE\n",
       "[349] FALSE FALSE FALSE FALSE FALSE FALSE FALSE  TRUE  TRUE  TRUE  TRUE  TRUE\n",
       "[361]  TRUE  TRUE FALSE FALSE FALSE FALSE FALSE FALSE FALSE FALSE FALSE FALSE\n",
       "[373] FALSE FALSE FALSE FALSE FALSE FALSE FALSE FALSE  TRUE  TRUE FALSE  TRUE\n",
       "[385] FALSE FALSE FALSE FALSE FALSE FALSE FALSE FALSE"
      ]
     },
     "metadata": {},
     "output_type": "display_data"
    },
    {
     "data": {
      "text/html": [
       "<style>\n",
       ".list-inline {list-style: none; margin:0; padding: 0}\n",
       ".list-inline>li {display: inline-block}\n",
       ".list-inline>li:not(:last-child)::after {content: \"\\00b7\"; padding: 0 .5ex}\n",
       "</style>\n",
       "<ol class=list-inline><li>FALSE</li><li>FALSE</li><li>FALSE</li><li>FALSE</li><li>FALSE</li><li>FALSE</li><li>FALSE</li><li>FALSE</li><li>FALSE</li><li>FALSE</li><li>FALSE</li><li>FALSE</li><li>FALSE</li><li>FALSE</li><li>FALSE</li><li>FALSE</li><li>FALSE</li><li>FALSE</li><li>FALSE</li><li>FALSE</li><li>FALSE</li><li>FALSE</li><li>FALSE</li><li>FALSE</li><li>FALSE</li><li>FALSE</li><li>FALSE</li><li>FALSE</li><li>FALSE</li><li>FALSE</li><li>FALSE</li><li>FALSE</li><li>FALSE</li><li>FALSE</li><li>FALSE</li><li>FALSE</li><li>FALSE</li><li>FALSE</li><li>FALSE</li><li>FALSE</li><li>FALSE</li><li>FALSE</li><li>FALSE</li><li>FALSE</li><li>FALSE</li><li>FALSE</li><li>FALSE</li><li>FALSE</li><li>FALSE</li><li>FALSE</li><li>FALSE</li><li>FALSE</li><li>FALSE</li><li>FALSE</li><li>FALSE</li><li>FALSE</li><li>FALSE</li><li>FALSE</li><li>FALSE</li><li>FALSE</li><li>FALSE</li><li>FALSE</li><li>FALSE</li><li>FALSE</li><li>FALSE</li><li>FALSE</li><li>FALSE</li><li>FALSE</li><li>FALSE</li><li>FALSE</li><li>FALSE</li><li>FALSE</li><li>FALSE</li><li>FALSE</li><li>FALSE</li><li>FALSE</li><li>FALSE</li><li>FALSE</li><li>FALSE</li><li>FALSE</li><li>FALSE</li><li>FALSE</li><li>FALSE</li><li>FALSE</li><li>FALSE</li><li>FALSE</li><li>FALSE</li><li>FALSE</li><li>FALSE</li><li>FALSE</li><li>FALSE</li><li>FALSE</li><li>FALSE</li><li>FALSE</li><li>FALSE</li><li>FALSE</li><li>FALSE</li><li>FALSE</li><li>FALSE</li><li>FALSE</li><li>FALSE</li><li>FALSE</li><li>FALSE</li><li>FALSE</li><li>FALSE</li><li>FALSE</li><li>FALSE</li><li>FALSE</li><li>FALSE</li><li>FALSE</li><li>FALSE</li><li>FALSE</li><li>FALSE</li><li>FALSE</li><li>FALSE</li><li>FALSE</li><li>FALSE</li><li>FALSE</li><li>FALSE</li><li>FALSE</li><li>FALSE</li><li>FALSE</li><li>FALSE</li><li>FALSE</li><li>FALSE</li><li>FALSE</li><li>FALSE</li><li>FALSE</li><li>FALSE</li><li>FALSE</li><li>FALSE</li><li>FALSE</li><li>FALSE</li><li>FALSE</li><li>FALSE</li><li>FALSE</li><li>FALSE</li><li>FALSE</li><li>FALSE</li><li>FALSE</li><li>FALSE</li><li>FALSE</li><li>FALSE</li><li>FALSE</li><li>FALSE</li><li>FALSE</li><li>FALSE</li><li>FALSE</li><li>FALSE</li><li>FALSE</li><li>FALSE</li><li>FALSE</li><li>FALSE</li><li>FALSE</li><li>FALSE</li><li>FALSE</li><li>FALSE</li><li>FALSE</li><li>FALSE</li><li>FALSE</li><li>FALSE</li><li>FALSE</li><li>FALSE</li><li>FALSE</li><li>FALSE</li><li>TRUE</li><li>FALSE</li><li>FALSE</li><li>FALSE</li><li>FALSE</li><li>FALSE</li><li>FALSE</li><li>FALSE</li><li>FALSE</li><li>FALSE</li><li>FALSE</li><li>FALSE</li><li>FALSE</li><li>FALSE</li><li>FALSE</li><li>FALSE</li><li>FALSE</li><li>FALSE</li><li>FALSE</li><li>FALSE</li><li>FALSE</li><li>FALSE</li><li>FALSE</li><li>FALSE</li><li>FALSE</li><li>FALSE</li><li>FALSE</li><li>FALSE</li><li>FALSE</li><li>FALSE</li><li>FALSE</li><li>FALSE</li><li>FALSE</li><li>FALSE</li><li>FALSE</li><li>FALSE</li><li>FALSE</li><li>FALSE</li><li>TRUE</li><li>FALSE</li><li>FALSE</li><li>FALSE</li><li>FALSE</li><li>FALSE</li><li>FALSE</li><li>FALSE</li><li>FALSE</li><li>FALSE</li><li>FALSE</li><li>FALSE</li><li>FALSE</li><li>FALSE</li><li>FALSE</li><li>FALSE</li><li>FALSE</li><li>FALSE</li><li>FALSE</li><li>FALSE</li><li>FALSE</li><li>FALSE</li><li>FALSE</li><li>FALSE</li><li>FALSE</li><li>FALSE</li><li>FALSE</li><li>FALSE</li><li>FALSE</li><li>FALSE</li><li>FALSE</li><li>FALSE</li><li>FALSE</li><li>FALSE</li><li>FALSE</li><li>FALSE</li><li>FALSE</li><li>FALSE</li><li>FALSE</li><li>FALSE</li><li>FALSE</li><li>FALSE</li><li>FALSE</li><li>FALSE</li><li>FALSE</li><li>FALSE</li><li>FALSE</li><li>FALSE</li><li>FALSE</li><li>FALSE</li><li>FALSE</li><li>FALSE</li><li>FALSE</li><li>FALSE</li><li>FALSE</li><li>FALSE</li><li>FALSE</li><li>FALSE</li><li>FALSE</li><li>FALSE</li><li>FALSE</li><li>FALSE</li><li>FALSE</li><li>FALSE</li><li>FALSE</li><li>FALSE</li><li>FALSE</li><li>FALSE</li><li>FALSE</li><li>FALSE</li><li>FALSE</li><li>FALSE</li><li>FALSE</li><li>FALSE</li><li>FALSE</li><li>FALSE</li><li>FALSE</li><li>FALSE</li><li>FALSE</li><li>FALSE</li><li>FALSE</li><li>FALSE</li><li>FALSE</li><li>FALSE</li><li>FALSE</li><li>FALSE</li><li>FALSE</li><li>FALSE</li><li>FALSE</li><li>FALSE</li><li>FALSE</li><li>FALSE</li><li>FALSE</li><li>FALSE</li><li>FALSE</li><li>FALSE</li><li>FALSE</li><li>FALSE</li><li>FALSE</li><li>FALSE</li><li>FALSE</li><li>FALSE</li><li>FALSE</li><li>FALSE</li><li>FALSE</li><li>FALSE</li><li>FALSE</li><li>FALSE</li><li>FALSE</li><li>FALSE</li><li>FALSE</li><li>FALSE</li><li>FALSE</li><li>FALSE</li><li>FALSE</li><li>FALSE</li><li>TRUE</li><li>FALSE</li><li>FALSE</li><li>FALSE</li><li>FALSE</li><li>FALSE</li><li>FALSE</li><li>FALSE</li><li>FALSE</li><li>FALSE</li><li>FALSE</li><li>FALSE</li><li>FALSE</li><li>FALSE</li><li>FALSE</li><li>FALSE</li><li>FALSE</li><li>FALSE</li><li>FALSE</li><li>FALSE</li><li>FALSE</li><li>FALSE</li><li>FALSE</li><li>FALSE</li><li>FALSE</li><li>FALSE</li><li>FALSE</li><li>FALSE</li><li>FALSE</li><li>FALSE</li><li>FALSE</li><li>FALSE</li><li>TRUE</li><li>FALSE</li><li>FALSE</li><li>FALSE</li><li>FALSE</li><li>FALSE</li><li>FALSE</li><li>FALSE</li><li>FALSE</li><li>FALSE</li><li>FALSE</li><li>FALSE</li><li>FALSE</li><li>FALSE</li><li>FALSE</li><li>FALSE</li><li>FALSE</li><li>FALSE</li><li>FALSE</li><li>FALSE</li><li>FALSE</li><li>FALSE</li><li>FALSE</li><li>FALSE</li><li>FALSE</li><li>TRUE</li><li>FALSE</li><li>FALSE</li><li>FALSE</li><li>FALSE</li><li>FALSE</li><li>FALSE</li><li>FALSE</li><li>FALSE</li><li>FALSE</li><li>FALSE</li><li>FALSE</li><li>FALSE</li><li>FALSE</li><li>FALSE</li><li>FALSE</li></ol>\n"
      ],
      "text/latex": [
       "\\begin{enumerate*}\n",
       "\\item FALSE\n",
       "\\item FALSE\n",
       "\\item FALSE\n",
       "\\item FALSE\n",
       "\\item FALSE\n",
       "\\item FALSE\n",
       "\\item FALSE\n",
       "\\item FALSE\n",
       "\\item FALSE\n",
       "\\item FALSE\n",
       "\\item FALSE\n",
       "\\item FALSE\n",
       "\\item FALSE\n",
       "\\item FALSE\n",
       "\\item FALSE\n",
       "\\item FALSE\n",
       "\\item FALSE\n",
       "\\item FALSE\n",
       "\\item FALSE\n",
       "\\item FALSE\n",
       "\\item FALSE\n",
       "\\item FALSE\n",
       "\\item FALSE\n",
       "\\item FALSE\n",
       "\\item FALSE\n",
       "\\item FALSE\n",
       "\\item FALSE\n",
       "\\item FALSE\n",
       "\\item FALSE\n",
       "\\item FALSE\n",
       "\\item FALSE\n",
       "\\item FALSE\n",
       "\\item FALSE\n",
       "\\item FALSE\n",
       "\\item FALSE\n",
       "\\item FALSE\n",
       "\\item FALSE\n",
       "\\item FALSE\n",
       "\\item FALSE\n",
       "\\item FALSE\n",
       "\\item FALSE\n",
       "\\item FALSE\n",
       "\\item FALSE\n",
       "\\item FALSE\n",
       "\\item FALSE\n",
       "\\item FALSE\n",
       "\\item FALSE\n",
       "\\item FALSE\n",
       "\\item FALSE\n",
       "\\item FALSE\n",
       "\\item FALSE\n",
       "\\item FALSE\n",
       "\\item FALSE\n",
       "\\item FALSE\n",
       "\\item FALSE\n",
       "\\item FALSE\n",
       "\\item FALSE\n",
       "\\item FALSE\n",
       "\\item FALSE\n",
       "\\item FALSE\n",
       "\\item FALSE\n",
       "\\item FALSE\n",
       "\\item FALSE\n",
       "\\item FALSE\n",
       "\\item FALSE\n",
       "\\item FALSE\n",
       "\\item FALSE\n",
       "\\item FALSE\n",
       "\\item FALSE\n",
       "\\item FALSE\n",
       "\\item FALSE\n",
       "\\item FALSE\n",
       "\\item FALSE\n",
       "\\item FALSE\n",
       "\\item FALSE\n",
       "\\item FALSE\n",
       "\\item FALSE\n",
       "\\item FALSE\n",
       "\\item FALSE\n",
       "\\item FALSE\n",
       "\\item FALSE\n",
       "\\item FALSE\n",
       "\\item FALSE\n",
       "\\item FALSE\n",
       "\\item FALSE\n",
       "\\item FALSE\n",
       "\\item FALSE\n",
       "\\item FALSE\n",
       "\\item FALSE\n",
       "\\item FALSE\n",
       "\\item FALSE\n",
       "\\item FALSE\n",
       "\\item FALSE\n",
       "\\item FALSE\n",
       "\\item FALSE\n",
       "\\item FALSE\n",
       "\\item FALSE\n",
       "\\item FALSE\n",
       "\\item FALSE\n",
       "\\item FALSE\n",
       "\\item FALSE\n",
       "\\item FALSE\n",
       "\\item FALSE\n",
       "\\item FALSE\n",
       "\\item FALSE\n",
       "\\item FALSE\n",
       "\\item FALSE\n",
       "\\item FALSE\n",
       "\\item FALSE\n",
       "\\item FALSE\n",
       "\\item FALSE\n",
       "\\item FALSE\n",
       "\\item FALSE\n",
       "\\item FALSE\n",
       "\\item FALSE\n",
       "\\item FALSE\n",
       "\\item FALSE\n",
       "\\item FALSE\n",
       "\\item FALSE\n",
       "\\item FALSE\n",
       "\\item FALSE\n",
       "\\item FALSE\n",
       "\\item FALSE\n",
       "\\item FALSE\n",
       "\\item FALSE\n",
       "\\item FALSE\n",
       "\\item FALSE\n",
       "\\item FALSE\n",
       "\\item FALSE\n",
       "\\item FALSE\n",
       "\\item FALSE\n",
       "\\item FALSE\n",
       "\\item FALSE\n",
       "\\item FALSE\n",
       "\\item FALSE\n",
       "\\item FALSE\n",
       "\\item FALSE\n",
       "\\item FALSE\n",
       "\\item FALSE\n",
       "\\item FALSE\n",
       "\\item FALSE\n",
       "\\item FALSE\n",
       "\\item FALSE\n",
       "\\item FALSE\n",
       "\\item FALSE\n",
       "\\item FALSE\n",
       "\\item FALSE\n",
       "\\item FALSE\n",
       "\\item FALSE\n",
       "\\item FALSE\n",
       "\\item FALSE\n",
       "\\item FALSE\n",
       "\\item FALSE\n",
       "\\item FALSE\n",
       "\\item FALSE\n",
       "\\item FALSE\n",
       "\\item FALSE\n",
       "\\item FALSE\n",
       "\\item FALSE\n",
       "\\item FALSE\n",
       "\\item FALSE\n",
       "\\item FALSE\n",
       "\\item FALSE\n",
       "\\item FALSE\n",
       "\\item FALSE\n",
       "\\item TRUE\n",
       "\\item FALSE\n",
       "\\item FALSE\n",
       "\\item FALSE\n",
       "\\item FALSE\n",
       "\\item FALSE\n",
       "\\item FALSE\n",
       "\\item FALSE\n",
       "\\item FALSE\n",
       "\\item FALSE\n",
       "\\item FALSE\n",
       "\\item FALSE\n",
       "\\item FALSE\n",
       "\\item FALSE\n",
       "\\item FALSE\n",
       "\\item FALSE\n",
       "\\item FALSE\n",
       "\\item FALSE\n",
       "\\item FALSE\n",
       "\\item FALSE\n",
       "\\item FALSE\n",
       "\\item FALSE\n",
       "\\item FALSE\n",
       "\\item FALSE\n",
       "\\item FALSE\n",
       "\\item FALSE\n",
       "\\item FALSE\n",
       "\\item FALSE\n",
       "\\item FALSE\n",
       "\\item FALSE\n",
       "\\item FALSE\n",
       "\\item FALSE\n",
       "\\item FALSE\n",
       "\\item FALSE\n",
       "\\item FALSE\n",
       "\\item FALSE\n",
       "\\item FALSE\n",
       "\\item FALSE\n",
       "\\item TRUE\n",
       "\\item FALSE\n",
       "\\item FALSE\n",
       "\\item FALSE\n",
       "\\item FALSE\n",
       "\\item FALSE\n",
       "\\item FALSE\n",
       "\\item FALSE\n",
       "\\item FALSE\n",
       "\\item FALSE\n",
       "\\item FALSE\n",
       "\\item FALSE\n",
       "\\item FALSE\n",
       "\\item FALSE\n",
       "\\item FALSE\n",
       "\\item FALSE\n",
       "\\item FALSE\n",
       "\\item FALSE\n",
       "\\item FALSE\n",
       "\\item FALSE\n",
       "\\item FALSE\n",
       "\\item FALSE\n",
       "\\item FALSE\n",
       "\\item FALSE\n",
       "\\item FALSE\n",
       "\\item FALSE\n",
       "\\item FALSE\n",
       "\\item FALSE\n",
       "\\item FALSE\n",
       "\\item FALSE\n",
       "\\item FALSE\n",
       "\\item FALSE\n",
       "\\item FALSE\n",
       "\\item FALSE\n",
       "\\item FALSE\n",
       "\\item FALSE\n",
       "\\item FALSE\n",
       "\\item FALSE\n",
       "\\item FALSE\n",
       "\\item FALSE\n",
       "\\item FALSE\n",
       "\\item FALSE\n",
       "\\item FALSE\n",
       "\\item FALSE\n",
       "\\item FALSE\n",
       "\\item FALSE\n",
       "\\item FALSE\n",
       "\\item FALSE\n",
       "\\item FALSE\n",
       "\\item FALSE\n",
       "\\item FALSE\n",
       "\\item FALSE\n",
       "\\item FALSE\n",
       "\\item FALSE\n",
       "\\item FALSE\n",
       "\\item FALSE\n",
       "\\item FALSE\n",
       "\\item FALSE\n",
       "\\item FALSE\n",
       "\\item FALSE\n",
       "\\item FALSE\n",
       "\\item FALSE\n",
       "\\item FALSE\n",
       "\\item FALSE\n",
       "\\item FALSE\n",
       "\\item FALSE\n",
       "\\item FALSE\n",
       "\\item FALSE\n",
       "\\item FALSE\n",
       "\\item FALSE\n",
       "\\item FALSE\n",
       "\\item FALSE\n",
       "\\item FALSE\n",
       "\\item FALSE\n",
       "\\item FALSE\n",
       "\\item FALSE\n",
       "\\item FALSE\n",
       "\\item FALSE\n",
       "\\item FALSE\n",
       "\\item FALSE\n",
       "\\item FALSE\n",
       "\\item FALSE\n",
       "\\item FALSE\n",
       "\\item FALSE\n",
       "\\item FALSE\n",
       "\\item FALSE\n",
       "\\item FALSE\n",
       "\\item FALSE\n",
       "\\item FALSE\n",
       "\\item FALSE\n",
       "\\item FALSE\n",
       "\\item FALSE\n",
       "\\item FALSE\n",
       "\\item FALSE\n",
       "\\item FALSE\n",
       "\\item FALSE\n",
       "\\item FALSE\n",
       "\\item FALSE\n",
       "\\item FALSE\n",
       "\\item FALSE\n",
       "\\item FALSE\n",
       "\\item FALSE\n",
       "\\item FALSE\n",
       "\\item FALSE\n",
       "\\item FALSE\n",
       "\\item FALSE\n",
       "\\item FALSE\n",
       "\\item FALSE\n",
       "\\item FALSE\n",
       "\\item FALSE\n",
       "\\item FALSE\n",
       "\\item FALSE\n",
       "\\item FALSE\n",
       "\\item FALSE\n",
       "\\item FALSE\n",
       "\\item FALSE\n",
       "\\item TRUE\n",
       "\\item FALSE\n",
       "\\item FALSE\n",
       "\\item FALSE\n",
       "\\item FALSE\n",
       "\\item FALSE\n",
       "\\item FALSE\n",
       "\\item FALSE\n",
       "\\item FALSE\n",
       "\\item FALSE\n",
       "\\item FALSE\n",
       "\\item FALSE\n",
       "\\item FALSE\n",
       "\\item FALSE\n",
       "\\item FALSE\n",
       "\\item FALSE\n",
       "\\item FALSE\n",
       "\\item FALSE\n",
       "\\item FALSE\n",
       "\\item FALSE\n",
       "\\item FALSE\n",
       "\\item FALSE\n",
       "\\item FALSE\n",
       "\\item FALSE\n",
       "\\item FALSE\n",
       "\\item FALSE\n",
       "\\item FALSE\n",
       "\\item FALSE\n",
       "\\item FALSE\n",
       "\\item FALSE\n",
       "\\item FALSE\n",
       "\\item FALSE\n",
       "\\item TRUE\n",
       "\\item FALSE\n",
       "\\item FALSE\n",
       "\\item FALSE\n",
       "\\item FALSE\n",
       "\\item FALSE\n",
       "\\item FALSE\n",
       "\\item FALSE\n",
       "\\item FALSE\n",
       "\\item FALSE\n",
       "\\item FALSE\n",
       "\\item FALSE\n",
       "\\item FALSE\n",
       "\\item FALSE\n",
       "\\item FALSE\n",
       "\\item FALSE\n",
       "\\item FALSE\n",
       "\\item FALSE\n",
       "\\item FALSE\n",
       "\\item FALSE\n",
       "\\item FALSE\n",
       "\\item FALSE\n",
       "\\item FALSE\n",
       "\\item FALSE\n",
       "\\item FALSE\n",
       "\\item TRUE\n",
       "\\item FALSE\n",
       "\\item FALSE\n",
       "\\item FALSE\n",
       "\\item FALSE\n",
       "\\item FALSE\n",
       "\\item FALSE\n",
       "\\item FALSE\n",
       "\\item FALSE\n",
       "\\item FALSE\n",
       "\\item FALSE\n",
       "\\item FALSE\n",
       "\\item FALSE\n",
       "\\item FALSE\n",
       "\\item FALSE\n",
       "\\item FALSE\n",
       "\\end{enumerate*}\n"
      ],
      "text/markdown": [
       "1. FALSE\n",
       "2. FALSE\n",
       "3. FALSE\n",
       "4. FALSE\n",
       "5. FALSE\n",
       "6. FALSE\n",
       "7. FALSE\n",
       "8. FALSE\n",
       "9. FALSE\n",
       "10. FALSE\n",
       "11. FALSE\n",
       "12. FALSE\n",
       "13. FALSE\n",
       "14. FALSE\n",
       "15. FALSE\n",
       "16. FALSE\n",
       "17. FALSE\n",
       "18. FALSE\n",
       "19. FALSE\n",
       "20. FALSE\n",
       "21. FALSE\n",
       "22. FALSE\n",
       "23. FALSE\n",
       "24. FALSE\n",
       "25. FALSE\n",
       "26. FALSE\n",
       "27. FALSE\n",
       "28. FALSE\n",
       "29. FALSE\n",
       "30. FALSE\n",
       "31. FALSE\n",
       "32. FALSE\n",
       "33. FALSE\n",
       "34. FALSE\n",
       "35. FALSE\n",
       "36. FALSE\n",
       "37. FALSE\n",
       "38. FALSE\n",
       "39. FALSE\n",
       "40. FALSE\n",
       "41. FALSE\n",
       "42. FALSE\n",
       "43. FALSE\n",
       "44. FALSE\n",
       "45. FALSE\n",
       "46. FALSE\n",
       "47. FALSE\n",
       "48. FALSE\n",
       "49. FALSE\n",
       "50. FALSE\n",
       "51. FALSE\n",
       "52. FALSE\n",
       "53. FALSE\n",
       "54. FALSE\n",
       "55. FALSE\n",
       "56. FALSE\n",
       "57. FALSE\n",
       "58. FALSE\n",
       "59. FALSE\n",
       "60. FALSE\n",
       "61. FALSE\n",
       "62. FALSE\n",
       "63. FALSE\n",
       "64. FALSE\n",
       "65. FALSE\n",
       "66. FALSE\n",
       "67. FALSE\n",
       "68. FALSE\n",
       "69. FALSE\n",
       "70. FALSE\n",
       "71. FALSE\n",
       "72. FALSE\n",
       "73. FALSE\n",
       "74. FALSE\n",
       "75. FALSE\n",
       "76. FALSE\n",
       "77. FALSE\n",
       "78. FALSE\n",
       "79. FALSE\n",
       "80. FALSE\n",
       "81. FALSE\n",
       "82. FALSE\n",
       "83. FALSE\n",
       "84. FALSE\n",
       "85. FALSE\n",
       "86. FALSE\n",
       "87. FALSE\n",
       "88. FALSE\n",
       "89. FALSE\n",
       "90. FALSE\n",
       "91. FALSE\n",
       "92. FALSE\n",
       "93. FALSE\n",
       "94. FALSE\n",
       "95. FALSE\n",
       "96. FALSE\n",
       "97. FALSE\n",
       "98. FALSE\n",
       "99. FALSE\n",
       "100. FALSE\n",
       "101. FALSE\n",
       "102. FALSE\n",
       "103. FALSE\n",
       "104. FALSE\n",
       "105. FALSE\n",
       "106. FALSE\n",
       "107. FALSE\n",
       "108. FALSE\n",
       "109. FALSE\n",
       "110. FALSE\n",
       "111. FALSE\n",
       "112. FALSE\n",
       "113. FALSE\n",
       "114. FALSE\n",
       "115. FALSE\n",
       "116. FALSE\n",
       "117. FALSE\n",
       "118. FALSE\n",
       "119. FALSE\n",
       "120. FALSE\n",
       "121. FALSE\n",
       "122. FALSE\n",
       "123. FALSE\n",
       "124. FALSE\n",
       "125. FALSE\n",
       "126. FALSE\n",
       "127. FALSE\n",
       "128. FALSE\n",
       "129. FALSE\n",
       "130. FALSE\n",
       "131. FALSE\n",
       "132. FALSE\n",
       "133. FALSE\n",
       "134. FALSE\n",
       "135. FALSE\n",
       "136. FALSE\n",
       "137. FALSE\n",
       "138. FALSE\n",
       "139. FALSE\n",
       "140. FALSE\n",
       "141. FALSE\n",
       "142. FALSE\n",
       "143. FALSE\n",
       "144. FALSE\n",
       "145. FALSE\n",
       "146. FALSE\n",
       "147. FALSE\n",
       "148. FALSE\n",
       "149. FALSE\n",
       "150. FALSE\n",
       "151. FALSE\n",
       "152. FALSE\n",
       "153. FALSE\n",
       "154. FALSE\n",
       "155. FALSE\n",
       "156. FALSE\n",
       "157. FALSE\n",
       "158. FALSE\n",
       "159. FALSE\n",
       "160. FALSE\n",
       "161. FALSE\n",
       "162. FALSE\n",
       "163. FALSE\n",
       "164. FALSE\n",
       "165. FALSE\n",
       "166. TRUE\n",
       "167. FALSE\n",
       "168. FALSE\n",
       "169. FALSE\n",
       "170. FALSE\n",
       "171. FALSE\n",
       "172. FALSE\n",
       "173. FALSE\n",
       "174. FALSE\n",
       "175. FALSE\n",
       "176. FALSE\n",
       "177. FALSE\n",
       "178. FALSE\n",
       "179. FALSE\n",
       "180. FALSE\n",
       "181. FALSE\n",
       "182. FALSE\n",
       "183. FALSE\n",
       "184. FALSE\n",
       "185. FALSE\n",
       "186. FALSE\n",
       "187. FALSE\n",
       "188. FALSE\n",
       "189. FALSE\n",
       "190. FALSE\n",
       "191. FALSE\n",
       "192. FALSE\n",
       "193. FALSE\n",
       "194. FALSE\n",
       "195. FALSE\n",
       "196. FALSE\n",
       "197. FALSE\n",
       "198. FALSE\n",
       "199. FALSE\n",
       "200. FALSE\n",
       "201. FALSE\n",
       "202. FALSE\n",
       "203. FALSE\n",
       "204. TRUE\n",
       "205. FALSE\n",
       "206. FALSE\n",
       "207. FALSE\n",
       "208. FALSE\n",
       "209. FALSE\n",
       "210. FALSE\n",
       "211. FALSE\n",
       "212. FALSE\n",
       "213. FALSE\n",
       "214. FALSE\n",
       "215. FALSE\n",
       "216. FALSE\n",
       "217. FALSE\n",
       "218. FALSE\n",
       "219. FALSE\n",
       "220. FALSE\n",
       "221. FALSE\n",
       "222. FALSE\n",
       "223. FALSE\n",
       "224. FALSE\n",
       "225. FALSE\n",
       "226. FALSE\n",
       "227. FALSE\n",
       "228. FALSE\n",
       "229. FALSE\n",
       "230. FALSE\n",
       "231. FALSE\n",
       "232. FALSE\n",
       "233. FALSE\n",
       "234. FALSE\n",
       "235. FALSE\n",
       "236. FALSE\n",
       "237. FALSE\n",
       "238. FALSE\n",
       "239. FALSE\n",
       "240. FALSE\n",
       "241. FALSE\n",
       "242. FALSE\n",
       "243. FALSE\n",
       "244. FALSE\n",
       "245. FALSE\n",
       "246. FALSE\n",
       "247. FALSE\n",
       "248. FALSE\n",
       "249. FALSE\n",
       "250. FALSE\n",
       "251. FALSE\n",
       "252. FALSE\n",
       "253. FALSE\n",
       "254. FALSE\n",
       "255. FALSE\n",
       "256. FALSE\n",
       "257. FALSE\n",
       "258. FALSE\n",
       "259. FALSE\n",
       "260. FALSE\n",
       "261. FALSE\n",
       "262. FALSE\n",
       "263. FALSE\n",
       "264. FALSE\n",
       "265. FALSE\n",
       "266. FALSE\n",
       "267. FALSE\n",
       "268. FALSE\n",
       "269. FALSE\n",
       "270. FALSE\n",
       "271. FALSE\n",
       "272. FALSE\n",
       "273. FALSE\n",
       "274. FALSE\n",
       "275. FALSE\n",
       "276. FALSE\n",
       "277. FALSE\n",
       "278. FALSE\n",
       "279. FALSE\n",
       "280. FALSE\n",
       "281. FALSE\n",
       "282. FALSE\n",
       "283. FALSE\n",
       "284. FALSE\n",
       "285. FALSE\n",
       "286. FALSE\n",
       "287. FALSE\n",
       "288. FALSE\n",
       "289. FALSE\n",
       "290. FALSE\n",
       "291. FALSE\n",
       "292. FALSE\n",
       "293. FALSE\n",
       "294. FALSE\n",
       "295. FALSE\n",
       "296. FALSE\n",
       "297. FALSE\n",
       "298. FALSE\n",
       "299. FALSE\n",
       "300. FALSE\n",
       "301. FALSE\n",
       "302. FALSE\n",
       "303. FALSE\n",
       "304. FALSE\n",
       "305. FALSE\n",
       "306. FALSE\n",
       "307. FALSE\n",
       "308. FALSE\n",
       "309. FALSE\n",
       "310. FALSE\n",
       "311. FALSE\n",
       "312. FALSE\n",
       "313. FALSE\n",
       "314. FALSE\n",
       "315. FALSE\n",
       "316. FALSE\n",
       "317. FALSE\n",
       "318. FALSE\n",
       "319. FALSE\n",
       "320. TRUE\n",
       "321. FALSE\n",
       "322. FALSE\n",
       "323. FALSE\n",
       "324. FALSE\n",
       "325. FALSE\n",
       "326. FALSE\n",
       "327. FALSE\n",
       "328. FALSE\n",
       "329. FALSE\n",
       "330. FALSE\n",
       "331. FALSE\n",
       "332. FALSE\n",
       "333. FALSE\n",
       "334. FALSE\n",
       "335. FALSE\n",
       "336. FALSE\n",
       "337. FALSE\n",
       "338. FALSE\n",
       "339. FALSE\n",
       "340. FALSE\n",
       "341. FALSE\n",
       "342. FALSE\n",
       "343. FALSE\n",
       "344. FALSE\n",
       "345. FALSE\n",
       "346. FALSE\n",
       "347. FALSE\n",
       "348. FALSE\n",
       "349. FALSE\n",
       "350. FALSE\n",
       "351. FALSE\n",
       "352. TRUE\n",
       "353. FALSE\n",
       "354. FALSE\n",
       "355. FALSE\n",
       "356. FALSE\n",
       "357. FALSE\n",
       "358. FALSE\n",
       "359. FALSE\n",
       "360. FALSE\n",
       "361. FALSE\n",
       "362. FALSE\n",
       "363. FALSE\n",
       "364. FALSE\n",
       "365. FALSE\n",
       "366. FALSE\n",
       "367. FALSE\n",
       "368. FALSE\n",
       "369. FALSE\n",
       "370. FALSE\n",
       "371. FALSE\n",
       "372. FALSE\n",
       "373. FALSE\n",
       "374. FALSE\n",
       "375. FALSE\n",
       "376. FALSE\n",
       "377. TRUE\n",
       "378. FALSE\n",
       "379. FALSE\n",
       "380. FALSE\n",
       "381. FALSE\n",
       "382. FALSE\n",
       "383. FALSE\n",
       "384. FALSE\n",
       "385. FALSE\n",
       "386. FALSE\n",
       "387. FALSE\n",
       "388. FALSE\n",
       "389. FALSE\n",
       "390. FALSE\n",
       "391. FALSE\n",
       "392. FALSE\n",
       "\n",
       "\n"
      ],
      "text/plain": [
       "  [1] FALSE FALSE FALSE FALSE FALSE FALSE FALSE FALSE FALSE FALSE FALSE FALSE\n",
       " [13] FALSE FALSE FALSE FALSE FALSE FALSE FALSE FALSE FALSE FALSE FALSE FALSE\n",
       " [25] FALSE FALSE FALSE FALSE FALSE FALSE FALSE FALSE FALSE FALSE FALSE FALSE\n",
       " [37] FALSE FALSE FALSE FALSE FALSE FALSE FALSE FALSE FALSE FALSE FALSE FALSE\n",
       " [49] FALSE FALSE FALSE FALSE FALSE FALSE FALSE FALSE FALSE FALSE FALSE FALSE\n",
       " [61] FALSE FALSE FALSE FALSE FALSE FALSE FALSE FALSE FALSE FALSE FALSE FALSE\n",
       " [73] FALSE FALSE FALSE FALSE FALSE FALSE FALSE FALSE FALSE FALSE FALSE FALSE\n",
       " [85] FALSE FALSE FALSE FALSE FALSE FALSE FALSE FALSE FALSE FALSE FALSE FALSE\n",
       " [97] FALSE FALSE FALSE FALSE FALSE FALSE FALSE FALSE FALSE FALSE FALSE FALSE\n",
       "[109] FALSE FALSE FALSE FALSE FALSE FALSE FALSE FALSE FALSE FALSE FALSE FALSE\n",
       "[121] FALSE FALSE FALSE FALSE FALSE FALSE FALSE FALSE FALSE FALSE FALSE FALSE\n",
       "[133] FALSE FALSE FALSE FALSE FALSE FALSE FALSE FALSE FALSE FALSE FALSE FALSE\n",
       "[145] FALSE FALSE FALSE FALSE FALSE FALSE FALSE FALSE FALSE FALSE FALSE FALSE\n",
       "[157] FALSE FALSE FALSE FALSE FALSE FALSE FALSE FALSE FALSE  TRUE FALSE FALSE\n",
       "[169] FALSE FALSE FALSE FALSE FALSE FALSE FALSE FALSE FALSE FALSE FALSE FALSE\n",
       "[181] FALSE FALSE FALSE FALSE FALSE FALSE FALSE FALSE FALSE FALSE FALSE FALSE\n",
       "[193] FALSE FALSE FALSE FALSE FALSE FALSE FALSE FALSE FALSE FALSE FALSE  TRUE\n",
       "[205] FALSE FALSE FALSE FALSE FALSE FALSE FALSE FALSE FALSE FALSE FALSE FALSE\n",
       "[217] FALSE FALSE FALSE FALSE FALSE FALSE FALSE FALSE FALSE FALSE FALSE FALSE\n",
       "[229] FALSE FALSE FALSE FALSE FALSE FALSE FALSE FALSE FALSE FALSE FALSE FALSE\n",
       "[241] FALSE FALSE FALSE FALSE FALSE FALSE FALSE FALSE FALSE FALSE FALSE FALSE\n",
       "[253] FALSE FALSE FALSE FALSE FALSE FALSE FALSE FALSE FALSE FALSE FALSE FALSE\n",
       "[265] FALSE FALSE FALSE FALSE FALSE FALSE FALSE FALSE FALSE FALSE FALSE FALSE\n",
       "[277] FALSE FALSE FALSE FALSE FALSE FALSE FALSE FALSE FALSE FALSE FALSE FALSE\n",
       "[289] FALSE FALSE FALSE FALSE FALSE FALSE FALSE FALSE FALSE FALSE FALSE FALSE\n",
       "[301] FALSE FALSE FALSE FALSE FALSE FALSE FALSE FALSE FALSE FALSE FALSE FALSE\n",
       "[313] FALSE FALSE FALSE FALSE FALSE FALSE FALSE  TRUE FALSE FALSE FALSE FALSE\n",
       "[325] FALSE FALSE FALSE FALSE FALSE FALSE FALSE FALSE FALSE FALSE FALSE FALSE\n",
       "[337] FALSE FALSE FALSE FALSE FALSE FALSE FALSE FALSE FALSE FALSE FALSE FALSE\n",
       "[349] FALSE FALSE FALSE  TRUE FALSE FALSE FALSE FALSE FALSE FALSE FALSE FALSE\n",
       "[361] FALSE FALSE FALSE FALSE FALSE FALSE FALSE FALSE FALSE FALSE FALSE FALSE\n",
       "[373] FALSE FALSE FALSE FALSE  TRUE FALSE FALSE FALSE FALSE FALSE FALSE FALSE\n",
       "[385] FALSE FALSE FALSE FALSE FALSE FALSE FALSE FALSE"
      ]
     },
     "metadata": {},
     "output_type": "display_data"
    }
   ],
   "source": [
    "cylinders>=6 \n",
    "name=='toyota corolla'"
   ]
  },
  {
   "cell_type": "markdown",
   "id": "829499f1-e6f2-4ba9-b61c-85b854f1999d",
   "metadata": {},
   "source": [
    "In both cases, we obtain a vector of logical values (`TRUE/FALSE`), depending on whether each vehicle meets the corresponding condition. As we already know, when applying the `sum()` function to a logical vector, TRUE is considered as 1 and FALSE as 0, resulting in the number of cases that satisfy the condition.\n",
    "\n",
    "Generating vectors of this type is very useful for selecting groups of individuals that meet a specific condition within a dataset, and it will be used frequently in future exercises. \n",
    "\n",
    "For example, we can obtain the names of vehicles that have 6 or more cylinders and are from the year 1970 using:"
   ]
  },
  {
   "cell_type": "code",
   "execution_count": 59,
   "id": "ea8248c3-3542-4bfb-9d76-03c3887c83e1",
   "metadata": {
    "scrolled": true
   },
   "outputs": [
    {
     "data": {
      "text/html": [
       "<style>\n",
       ".list-inline {list-style: none; margin:0; padding: 0}\n",
       ".list-inline>li {display: inline-block}\n",
       ".list-inline>li:not(:last-child)::after {content: \"\\00b7\"; padding: 0 .5ex}\n",
       "</style>\n",
       "<ol class=list-inline><li>chevrolet chevelle malibu</li><li>buick skylark 320</li><li>plymouth satellite</li><li>amc rebel sst</li><li>ford torino</li><li>ford galaxie 500</li><li>chevrolet impala</li><li>plymouth fury iii</li><li>pontiac catalina</li><li>amc ambassador dpl</li><li>dodge challenger se</li><li>plymouth 'cuda 340</li><li>chevrolet monte carlo</li><li>buick estate wagon (sw)</li><li>plymouth duster</li><li>amc hornet</li><li>ford maverick</li><li>amc gremlin</li><li>ford f250</li><li>chevy c20</li><li>dodge d200</li><li>hi 1200d</li></ol>\n",
       "\n",
       "<details>\n",
       "\t<summary style=display:list-item;cursor:pointer>\n",
       "\t\t<strong>Levels</strong>:\n",
       "\t</summary>\n",
       "\t<style>\n",
       "\t.list-inline {list-style: none; margin:0; padding: 0}\n",
       "\t.list-inline>li {display: inline-block}\n",
       "\t.list-inline>li:not(:last-child)::after {content: \"\\00b7\"; padding: 0 .5ex}\n",
       "\t</style>\n",
       "\t<ol class=list-inline><li>'amc ambassador brougham'</li><li>'amc ambassador dpl'</li><li>'amc ambassador sst'</li><li>'amc concord'</li><li>'amc concord d/l'</li><li>'amc concord dl 6'</li><li>'amc gremlin'</li><li>'amc hornet'</li><li>'amc hornet sportabout (sw)'</li><li>'amc matador'</li><li>'amc matador (sw)'</li><li>'amc pacer'</li><li>'amc pacer d/l'</li><li>'amc rebel sst'</li><li>'amc spirit dl'</li><li>'audi 100 ls'</li><li>'audi 100ls'</li><li>'audi 4000'</li><li>'audi 5000'</li><li>'audi 5000s (diesel)'</li><li>'audi fox'</li><li>'bmw 2002'</li><li>'bmw 320i'</li><li>'buick century'</li><li>'buick century 350'</li><li>'buick century limited'</li><li>'buick century luxus (sw)'</li><li>'buick century special'</li><li>'buick electra 225 custom'</li><li>'buick estate wagon (sw)'</li><li>'buick lesabre custom'</li><li>'buick opel isuzu deluxe'</li><li>'buick regal sport coupe (turbo)'</li><li>'buick skyhawk'</li><li>'buick skylark'</li><li>'buick skylark 320'</li><li>'buick skylark limited'</li><li>'cadillac eldorado'</li><li>'cadillac seville'</li><li>'capri ii'</li><li>'chevroelt chevelle malibu'</li><li>'chevrolet bel air'</li><li>'chevrolet camaro'</li><li>'chevrolet caprice classic'</li><li>'chevrolet cavalier'</li><li>'chevrolet cavalier 2-door'</li><li>'chevrolet cavalier wagon'</li><li>'chevrolet chevelle concours (sw)'</li><li>'chevrolet chevelle malibu'</li><li>'chevrolet chevelle malibu classic'</li><li>'chevrolet chevette'</li><li>'chevrolet citation'</li><li>'chevrolet concours'</li><li>'chevrolet impala'</li><li>'chevrolet malibu'</li><li>'chevrolet malibu classic (sw)'</li><li>'chevrolet monte carlo'</li><li>'chevrolet monte carlo landau'</li><li>'chevrolet monte carlo s'</li><li>'chevrolet monza 2+2'</li><li>'chevrolet nova'</li><li>'chevrolet nova custom'</li><li>'chevrolet vega'</li><li>'chevrolet vega (sw)'</li><li>'chevrolet vega 2300'</li><li>'chevrolet woody'</li><li>'chevy c10'</li><li>'chevy c20'</li><li>'chevy s-10'</li><li>'chrysler cordoba'</li><li>'chrysler lebaron medallion'</li><li>'chrysler lebaron salon'</li><li>'chrysler lebaron town @ country (sw)'</li><li>'chrysler new yorker brougham'</li><li>'chrysler newport royal'</li><li>'datsun 1200'</li><li>'datsun 200-sx'</li><li>'datsun 200sx'</li><li>'datsun 210'</li><li>'datsun 210 mpg'</li><li>'datsun 280-zx'</li><li>'datsun 310'</li><li>'datsun 310 gx'</li><li>'datsun 510'</li><li>'datsun 510 (sw)'</li><li>'datsun 510 hatchback'</li><li>'datsun 610'</li><li>'datsun 710'</li><li>'datsun 810'</li><li>'datsun 810 maxima'</li><li>'datsun b-210'</li><li>'datsun b210'</li><li>'datsun b210 gx'</li><li>'datsun f-10 hatchback'</li><li>'datsun pl510'</li><li>'dodge aries se'</li><li>'dodge aries wagon (sw)'</li><li>'dodge aspen'</li><li>'dodge aspen 6'</li><li>'dodge aspen se'</li><li>'dodge challenger se'</li><li>'dodge charger 2.2'</li><li>'dodge colt'</li><li>'dodge colt (sw)'</li><li>'dodge colt hardtop'</li><li>'dodge colt hatchback custom'</li><li>'dodge colt m/m'</li><li>'dodge coronet brougham'</li><li>'dodge coronet custom'</li><li>'dodge coronet custom (sw)'</li><li>'dodge d100'</li><li>'dodge d200'</li><li>'dodge dart custom'</li><li>'dodge diplomat'</li><li>'dodge magnum xe'</li><li>'dodge monaco (sw)'</li><li>'dodge monaco brougham'</li><li>'dodge omni'</li><li>'dodge rampage'</li><li>'dodge st. regis'</li><li>'fiat 124 sport coupe'</li><li>'fiat 124 tc'</li><li>'fiat 124b'</li><li>'fiat 128'</li><li>'fiat 131'</li><li>'fiat strada custom'</li><li>'fiat x1.9'</li><li>'ford country'</li><li>'ford country squire (sw)'</li><li>'ford escort 2h'</li><li>'ford escort 4w'</li><li>'ford f108'</li><li>'ford f250'</li><li>'ford fairmont'</li><li>'ford fairmont (auto)'</li><li>'ford fairmont (man)'</li><li>'ford fairmont 4'</li><li>'ford fairmont futura'</li><li>'ford fiesta'</li><li>'ford futura'</li><li>'ford galaxie 500'</li><li>'ford gran torino'</li><li>'ford gran torino (sw)'</li><li>'ford granada'</li><li>'ford granada ghia'</li><li>'ford granada gl'</li><li>'ford granada l'</li><li>'ford ltd'</li><li>'ford ltd landau'</li><li>'ford maverick'</li><li>'ford mustang'</li><li>'ford mustang cobra'</li><li>'ford mustang gl'</li><li>'ford mustang ii'</li><li>'ford mustang ii 2+2'</li><li>'ford pinto'</li><li>'ford pinto (sw)'</li><li>'ford pinto runabout'</li><li>'ford ranger'</li><li>'ford thunderbird'</li><li>'ford torino'</li><li>'ford torino 500'</li><li>'hi 1200d'</li><li>'honda accord'</li><li>'honda accord cvcc'</li><li>'honda accord lx'</li><li>'honda civic'</li><li>'honda civic (auto)'</li><li>'honda civic 1300'</li><li>'honda civic 1500 gl'</li><li>'honda civic cvcc'</li><li>'honda prelude'</li><li>'maxda glc deluxe'</li><li>'maxda rx3'</li><li>'mazda 626'</li><li>'mazda glc'</li><li>'mazda glc 4'</li><li>'mazda glc custom'</li><li>'mazda glc custom l'</li><li>'mazda glc deluxe'</li><li>'mazda rx-4'</li><li>'mazda rx-7 gs'</li><li>'mazda rx2 coupe'</li><li>'mercedes-benz 240d'</li><li>'mercedes-benz 280s'</li><li>'mercedes benz 300d'</li><li>'mercury capri 2000'</li><li>'mercury capri v6'</li><li>'mercury cougar brougham'</li><li>'mercury grand marquis'</li><li>'mercury lynx l'</li><li>'mercury marquis'</li><li>'mercury marquis brougham'</li><li>'mercury monarch'</li><li>'mercury monarch ghia'</li><li>'mercury zephyr'</li><li>'mercury zephyr 6'</li><li>'nissan stanza xe'</li><li>'oldsmobile cutlass ciera (diesel)'</li><li>'oldsmobile cutlass ls'</li><li>'oldsmobile cutlass salon brougham'</li><li>'oldsmobile cutlass supreme'</li><li>'oldsmobile delta 88 royale'</li><li>'oldsmobile omega'</li><li>'oldsmobile omega brougham'</li><li>'oldsmobile starfire sx'</li><li>'oldsmobile vista cruiser'</li><li>'opel 1900'</li><li>'opel manta'</li><li>'peugeot 304'</li><li>'peugeot 504'</li><li>'peugeot 504 (sw)'</li><li>'peugeot 505s turbo diesel'</li><li>'peugeot 604sl'</li><li>'plymouth \\'cuda 340'</li><li>'plymouth arrow gs'</li><li>'plymouth champ'</li><li>'plymouth cricket'</li><li>'plymouth custom suburb'</li><li>'plymouth duster'</li><li>'plymouth fury'</li><li>'plymouth fury gran sedan'</li><li>'plymouth fury iii'</li><li>'plymouth grand fury'</li><li>'plymouth horizon'</li><li>'plymouth horizon 4'</li><li>'plymouth horizon miser'</li><li>'plymouth horizon tc3'</li><li>'plymouth reliant'</li><li>'plymouth sapporo'</li><li>'plymouth satellite'</li><li>'plymouth satellite custom'</li><li>'plymouth satellite custom (sw)'</li><li>'plymouth satellite sebring'</li><li>'plymouth valiant'</li><li>'plymouth valiant custom'</li><li>'plymouth volare'</li><li>'plymouth volare custom'</li><li>'plymouth volare premier v8'</li><li>'pontiac astro'</li><li>'pontiac catalina'</li><li>'pontiac catalina brougham'</li><li>'pontiac firebird'</li><li>'pontiac grand prix'</li><li>'pontiac grand prix lj'</li><li>'pontiac j2000 se hatchback'</li><li>'pontiac lemans v6'</li><li>'pontiac phoenix'</li><li>'pontiac phoenix lj'</li><li>'pontiac safari (sw)'</li><li>'pontiac sunbird coupe'</li><li>'pontiac ventura sj'</li><li>'renault 12 (sw)'</li><li>'renault 12tl'</li><li>'renault 18i'</li><li>'renault 5 gtl'</li><li>'renault lecar deluxe'</li><li>'saab 99e'</li><li>'saab 99gle'</li><li>'saab 99le'</li><li>'subaru'</li><li>'subaru dl'</li><li>'toyota carina'</li><li>'toyota celica gt'</li><li>'toyota celica gt liftback'</li><li>'toyota corolla'</li><li>'toyota corolla 1200'</li><li>'toyota corolla 1600 (sw)'</li><li>'toyota corolla liftback'</li><li>'toyota corolla tercel'</li><li>'toyota corona'</li><li>'toyota corona hardtop'</li><li>'toyota corona liftback'</li><li>'toyota corona mark ii'</li><li>'toyota cressida'</li><li>'toyota mark ii'</li><li>'toyota starlet'</li><li>'toyota tercel'</li><li>'toyouta corona mark ii (sw)'</li><li>'triumph tr7 coupe'</li><li>'vokswagen rabbit'</li><li>'volkswagen 1131 deluxe sedan'</li><li>'volkswagen 411 (sw)'</li><li>'volkswagen dasher'</li><li>'volkswagen jetta'</li><li>'volkswagen model 111'</li><li>'volkswagen rabbit'</li><li>'volkswagen rabbit custom'</li><li>'volkswagen rabbit custom diesel'</li><li>'volkswagen rabbit l'</li><li>'volkswagen scirocco'</li><li>'volkswagen super beetle'</li><li>'volkswagen type 3'</li><li>'volvo 144ea'</li><li>'volvo 145e (sw)'</li><li>'volvo 244dl'</li><li>'volvo 245'</li><li>'volvo 264gl'</li><li>'volvo diesel'</li><li>'vw dasher (diesel)'</li><li>'vw pickup'</li><li>'vw rabbit'</li><li>'vw rabbit c (diesel)'</li><li>'vw rabbit custom'</li></ol>\n",
       "</details>"
      ],
      "text/latex": [
       "\\begin{enumerate*}\n",
       "\\item chevrolet chevelle malibu\n",
       "\\item buick skylark 320\n",
       "\\item plymouth satellite\n",
       "\\item amc rebel sst\n",
       "\\item ford torino\n",
       "\\item ford galaxie 500\n",
       "\\item chevrolet impala\n",
       "\\item plymouth fury iii\n",
       "\\item pontiac catalina\n",
       "\\item amc ambassador dpl\n",
       "\\item dodge challenger se\n",
       "\\item plymouth 'cuda 340\n",
       "\\item chevrolet monte carlo\n",
       "\\item buick estate wagon (sw)\n",
       "\\item plymouth duster\n",
       "\\item amc hornet\n",
       "\\item ford maverick\n",
       "\\item amc gremlin\n",
       "\\item ford f250\n",
       "\\item chevy c20\n",
       "\\item dodge d200\n",
       "\\item hi 1200d\n",
       "\\end{enumerate*}\n",
       "\n",
       "\\emph{Levels}: \\begin{enumerate*}\n",
       "\\item 'amc ambassador brougham'\n",
       "\\item 'amc ambassador dpl'\n",
       "\\item 'amc ambassador sst'\n",
       "\\item 'amc concord'\n",
       "\\item 'amc concord d/l'\n",
       "\\item 'amc concord dl 6'\n",
       "\\item 'amc gremlin'\n",
       "\\item 'amc hornet'\n",
       "\\item 'amc hornet sportabout (sw)'\n",
       "\\item 'amc matador'\n",
       "\\item 'amc matador (sw)'\n",
       "\\item 'amc pacer'\n",
       "\\item 'amc pacer d/l'\n",
       "\\item 'amc rebel sst'\n",
       "\\item 'amc spirit dl'\n",
       "\\item 'audi 100 ls'\n",
       "\\item 'audi 100ls'\n",
       "\\item 'audi 4000'\n",
       "\\item 'audi 5000'\n",
       "\\item 'audi 5000s (diesel)'\n",
       "\\item 'audi fox'\n",
       "\\item 'bmw 2002'\n",
       "\\item 'bmw 320i'\n",
       "\\item 'buick century'\n",
       "\\item 'buick century 350'\n",
       "\\item 'buick century limited'\n",
       "\\item 'buick century luxus (sw)'\n",
       "\\item 'buick century special'\n",
       "\\item 'buick electra 225 custom'\n",
       "\\item 'buick estate wagon (sw)'\n",
       "\\item 'buick lesabre custom'\n",
       "\\item 'buick opel isuzu deluxe'\n",
       "\\item 'buick regal sport coupe (turbo)'\n",
       "\\item 'buick skyhawk'\n",
       "\\item 'buick skylark'\n",
       "\\item 'buick skylark 320'\n",
       "\\item 'buick skylark limited'\n",
       "\\item 'cadillac eldorado'\n",
       "\\item 'cadillac seville'\n",
       "\\item 'capri ii'\n",
       "\\item 'chevroelt chevelle malibu'\n",
       "\\item 'chevrolet bel air'\n",
       "\\item 'chevrolet camaro'\n",
       "\\item 'chevrolet caprice classic'\n",
       "\\item 'chevrolet cavalier'\n",
       "\\item 'chevrolet cavalier 2-door'\n",
       "\\item 'chevrolet cavalier wagon'\n",
       "\\item 'chevrolet chevelle concours (sw)'\n",
       "\\item 'chevrolet chevelle malibu'\n",
       "\\item 'chevrolet chevelle malibu classic'\n",
       "\\item 'chevrolet chevette'\n",
       "\\item 'chevrolet citation'\n",
       "\\item 'chevrolet concours'\n",
       "\\item 'chevrolet impala'\n",
       "\\item 'chevrolet malibu'\n",
       "\\item 'chevrolet malibu classic (sw)'\n",
       "\\item 'chevrolet monte carlo'\n",
       "\\item 'chevrolet monte carlo landau'\n",
       "\\item 'chevrolet monte carlo s'\n",
       "\\item 'chevrolet monza 2+2'\n",
       "\\item 'chevrolet nova'\n",
       "\\item 'chevrolet nova custom'\n",
       "\\item 'chevrolet vega'\n",
       "\\item 'chevrolet vega (sw)'\n",
       "\\item 'chevrolet vega 2300'\n",
       "\\item 'chevrolet woody'\n",
       "\\item 'chevy c10'\n",
       "\\item 'chevy c20'\n",
       "\\item 'chevy s-10'\n",
       "\\item 'chrysler cordoba'\n",
       "\\item 'chrysler lebaron medallion'\n",
       "\\item 'chrysler lebaron salon'\n",
       "\\item 'chrysler lebaron town @ country (sw)'\n",
       "\\item 'chrysler new yorker brougham'\n",
       "\\item 'chrysler newport royal'\n",
       "\\item 'datsun 1200'\n",
       "\\item 'datsun 200-sx'\n",
       "\\item 'datsun 200sx'\n",
       "\\item 'datsun 210'\n",
       "\\item 'datsun 210 mpg'\n",
       "\\item 'datsun 280-zx'\n",
       "\\item 'datsun 310'\n",
       "\\item 'datsun 310 gx'\n",
       "\\item 'datsun 510'\n",
       "\\item 'datsun 510 (sw)'\n",
       "\\item 'datsun 510 hatchback'\n",
       "\\item 'datsun 610'\n",
       "\\item 'datsun 710'\n",
       "\\item 'datsun 810'\n",
       "\\item 'datsun 810 maxima'\n",
       "\\item 'datsun b-210'\n",
       "\\item 'datsun b210'\n",
       "\\item 'datsun b210 gx'\n",
       "\\item 'datsun f-10 hatchback'\n",
       "\\item 'datsun pl510'\n",
       "\\item 'dodge aries se'\n",
       "\\item 'dodge aries wagon (sw)'\n",
       "\\item 'dodge aspen'\n",
       "\\item 'dodge aspen 6'\n",
       "\\item 'dodge aspen se'\n",
       "\\item 'dodge challenger se'\n",
       "\\item 'dodge charger 2.2'\n",
       "\\item 'dodge colt'\n",
       "\\item 'dodge colt (sw)'\n",
       "\\item 'dodge colt hardtop'\n",
       "\\item 'dodge colt hatchback custom'\n",
       "\\item 'dodge colt m/m'\n",
       "\\item 'dodge coronet brougham'\n",
       "\\item 'dodge coronet custom'\n",
       "\\item 'dodge coronet custom (sw)'\n",
       "\\item 'dodge d100'\n",
       "\\item 'dodge d200'\n",
       "\\item 'dodge dart custom'\n",
       "\\item 'dodge diplomat'\n",
       "\\item 'dodge magnum xe'\n",
       "\\item 'dodge monaco (sw)'\n",
       "\\item 'dodge monaco brougham'\n",
       "\\item 'dodge omni'\n",
       "\\item 'dodge rampage'\n",
       "\\item 'dodge st. regis'\n",
       "\\item 'fiat 124 sport coupe'\n",
       "\\item 'fiat 124 tc'\n",
       "\\item 'fiat 124b'\n",
       "\\item 'fiat 128'\n",
       "\\item 'fiat 131'\n",
       "\\item 'fiat strada custom'\n",
       "\\item 'fiat x1.9'\n",
       "\\item 'ford country'\n",
       "\\item 'ford country squire (sw)'\n",
       "\\item 'ford escort 2h'\n",
       "\\item 'ford escort 4w'\n",
       "\\item 'ford f108'\n",
       "\\item 'ford f250'\n",
       "\\item 'ford fairmont'\n",
       "\\item 'ford fairmont (auto)'\n",
       "\\item 'ford fairmont (man)'\n",
       "\\item 'ford fairmont 4'\n",
       "\\item 'ford fairmont futura'\n",
       "\\item 'ford fiesta'\n",
       "\\item 'ford futura'\n",
       "\\item 'ford galaxie 500'\n",
       "\\item 'ford gran torino'\n",
       "\\item 'ford gran torino (sw)'\n",
       "\\item 'ford granada'\n",
       "\\item 'ford granada ghia'\n",
       "\\item 'ford granada gl'\n",
       "\\item 'ford granada l'\n",
       "\\item 'ford ltd'\n",
       "\\item 'ford ltd landau'\n",
       "\\item 'ford maverick'\n",
       "\\item 'ford mustang'\n",
       "\\item 'ford mustang cobra'\n",
       "\\item 'ford mustang gl'\n",
       "\\item 'ford mustang ii'\n",
       "\\item 'ford mustang ii 2+2'\n",
       "\\item 'ford pinto'\n",
       "\\item 'ford pinto (sw)'\n",
       "\\item 'ford pinto runabout'\n",
       "\\item 'ford ranger'\n",
       "\\item 'ford thunderbird'\n",
       "\\item 'ford torino'\n",
       "\\item 'ford torino 500'\n",
       "\\item 'hi 1200d'\n",
       "\\item 'honda accord'\n",
       "\\item 'honda accord cvcc'\n",
       "\\item 'honda accord lx'\n",
       "\\item 'honda civic'\n",
       "\\item 'honda civic (auto)'\n",
       "\\item 'honda civic 1300'\n",
       "\\item 'honda civic 1500 gl'\n",
       "\\item 'honda civic cvcc'\n",
       "\\item 'honda prelude'\n",
       "\\item 'maxda glc deluxe'\n",
       "\\item 'maxda rx3'\n",
       "\\item 'mazda 626'\n",
       "\\item 'mazda glc'\n",
       "\\item 'mazda glc 4'\n",
       "\\item 'mazda glc custom'\n",
       "\\item 'mazda glc custom l'\n",
       "\\item 'mazda glc deluxe'\n",
       "\\item 'mazda rx-4'\n",
       "\\item 'mazda rx-7 gs'\n",
       "\\item 'mazda rx2 coupe'\n",
       "\\item 'mercedes-benz 240d'\n",
       "\\item 'mercedes-benz 280s'\n",
       "\\item 'mercedes benz 300d'\n",
       "\\item 'mercury capri 2000'\n",
       "\\item 'mercury capri v6'\n",
       "\\item 'mercury cougar brougham'\n",
       "\\item 'mercury grand marquis'\n",
       "\\item 'mercury lynx l'\n",
       "\\item 'mercury marquis'\n",
       "\\item 'mercury marquis brougham'\n",
       "\\item 'mercury monarch'\n",
       "\\item 'mercury monarch ghia'\n",
       "\\item 'mercury zephyr'\n",
       "\\item 'mercury zephyr 6'\n",
       "\\item 'nissan stanza xe'\n",
       "\\item 'oldsmobile cutlass ciera (diesel)'\n",
       "\\item 'oldsmobile cutlass ls'\n",
       "\\item 'oldsmobile cutlass salon brougham'\n",
       "\\item 'oldsmobile cutlass supreme'\n",
       "\\item 'oldsmobile delta 88 royale'\n",
       "\\item 'oldsmobile omega'\n",
       "\\item 'oldsmobile omega brougham'\n",
       "\\item 'oldsmobile starfire sx'\n",
       "\\item 'oldsmobile vista cruiser'\n",
       "\\item 'opel 1900'\n",
       "\\item 'opel manta'\n",
       "\\item 'peugeot 304'\n",
       "\\item 'peugeot 504'\n",
       "\\item 'peugeot 504 (sw)'\n",
       "\\item 'peugeot 505s turbo diesel'\n",
       "\\item 'peugeot 604sl'\n",
       "\\item 'plymouth \\textbackslash{}'cuda 340'\n",
       "\\item 'plymouth arrow gs'\n",
       "\\item 'plymouth champ'\n",
       "\\item 'plymouth cricket'\n",
       "\\item 'plymouth custom suburb'\n",
       "\\item 'plymouth duster'\n",
       "\\item 'plymouth fury'\n",
       "\\item 'plymouth fury gran sedan'\n",
       "\\item 'plymouth fury iii'\n",
       "\\item 'plymouth grand fury'\n",
       "\\item 'plymouth horizon'\n",
       "\\item 'plymouth horizon 4'\n",
       "\\item 'plymouth horizon miser'\n",
       "\\item 'plymouth horizon tc3'\n",
       "\\item 'plymouth reliant'\n",
       "\\item 'plymouth sapporo'\n",
       "\\item 'plymouth satellite'\n",
       "\\item 'plymouth satellite custom'\n",
       "\\item 'plymouth satellite custom (sw)'\n",
       "\\item 'plymouth satellite sebring'\n",
       "\\item 'plymouth valiant'\n",
       "\\item 'plymouth valiant custom'\n",
       "\\item 'plymouth volare'\n",
       "\\item 'plymouth volare custom'\n",
       "\\item 'plymouth volare premier v8'\n",
       "\\item 'pontiac astro'\n",
       "\\item 'pontiac catalina'\n",
       "\\item 'pontiac catalina brougham'\n",
       "\\item 'pontiac firebird'\n",
       "\\item 'pontiac grand prix'\n",
       "\\item 'pontiac grand prix lj'\n",
       "\\item 'pontiac j2000 se hatchback'\n",
       "\\item 'pontiac lemans v6'\n",
       "\\item 'pontiac phoenix'\n",
       "\\item 'pontiac phoenix lj'\n",
       "\\item 'pontiac safari (sw)'\n",
       "\\item 'pontiac sunbird coupe'\n",
       "\\item 'pontiac ventura sj'\n",
       "\\item 'renault 12 (sw)'\n",
       "\\item 'renault 12tl'\n",
       "\\item 'renault 18i'\n",
       "\\item 'renault 5 gtl'\n",
       "\\item 'renault lecar deluxe'\n",
       "\\item 'saab 99e'\n",
       "\\item 'saab 99gle'\n",
       "\\item 'saab 99le'\n",
       "\\item 'subaru'\n",
       "\\item 'subaru dl'\n",
       "\\item 'toyota carina'\n",
       "\\item 'toyota celica gt'\n",
       "\\item 'toyota celica gt liftback'\n",
       "\\item 'toyota corolla'\n",
       "\\item 'toyota corolla 1200'\n",
       "\\item 'toyota corolla 1600 (sw)'\n",
       "\\item 'toyota corolla liftback'\n",
       "\\item 'toyota corolla tercel'\n",
       "\\item 'toyota corona'\n",
       "\\item 'toyota corona hardtop'\n",
       "\\item 'toyota corona liftback'\n",
       "\\item 'toyota corona mark ii'\n",
       "\\item 'toyota cressida'\n",
       "\\item 'toyota mark ii'\n",
       "\\item 'toyota starlet'\n",
       "\\item 'toyota tercel'\n",
       "\\item 'toyouta corona mark ii (sw)'\n",
       "\\item 'triumph tr7 coupe'\n",
       "\\item 'vokswagen rabbit'\n",
       "\\item 'volkswagen 1131 deluxe sedan'\n",
       "\\item 'volkswagen 411 (sw)'\n",
       "\\item 'volkswagen dasher'\n",
       "\\item 'volkswagen jetta'\n",
       "\\item 'volkswagen model 111'\n",
       "\\item 'volkswagen rabbit'\n",
       "\\item 'volkswagen rabbit custom'\n",
       "\\item 'volkswagen rabbit custom diesel'\n",
       "\\item 'volkswagen rabbit l'\n",
       "\\item 'volkswagen scirocco'\n",
       "\\item 'volkswagen super beetle'\n",
       "\\item 'volkswagen type 3'\n",
       "\\item 'volvo 144ea'\n",
       "\\item 'volvo 145e (sw)'\n",
       "\\item 'volvo 244dl'\n",
       "\\item 'volvo 245'\n",
       "\\item 'volvo 264gl'\n",
       "\\item 'volvo diesel'\n",
       "\\item 'vw dasher (diesel)'\n",
       "\\item 'vw pickup'\n",
       "\\item 'vw rabbit'\n",
       "\\item 'vw rabbit c (diesel)'\n",
       "\\item 'vw rabbit custom'\n",
       "\\end{enumerate*}\n"
      ],
      "text/markdown": [
       "1. chevrolet chevelle malibu\n",
       "2. buick skylark 320\n",
       "3. plymouth satellite\n",
       "4. amc rebel sst\n",
       "5. ford torino\n",
       "6. ford galaxie 500\n",
       "7. chevrolet impala\n",
       "8. plymouth fury iii\n",
       "9. pontiac catalina\n",
       "10. amc ambassador dpl\n",
       "11. dodge challenger se\n",
       "12. plymouth 'cuda 340\n",
       "13. chevrolet monte carlo\n",
       "14. buick estate wagon (sw)\n",
       "15. plymouth duster\n",
       "16. amc hornet\n",
       "17. ford maverick\n",
       "18. amc gremlin\n",
       "19. ford f250\n",
       "20. chevy c20\n",
       "21. dodge d200\n",
       "22. hi 1200d\n",
       "\n",
       "\n",
       "\n",
       "**Levels**: 1. 'amc ambassador brougham'\n",
       "2. 'amc ambassador dpl'\n",
       "3. 'amc ambassador sst'\n",
       "4. 'amc concord'\n",
       "5. 'amc concord d/l'\n",
       "6. 'amc concord dl 6'\n",
       "7. 'amc gremlin'\n",
       "8. 'amc hornet'\n",
       "9. 'amc hornet sportabout (sw)'\n",
       "10. 'amc matador'\n",
       "11. 'amc matador (sw)'\n",
       "12. 'amc pacer'\n",
       "13. 'amc pacer d/l'\n",
       "14. 'amc rebel sst'\n",
       "15. 'amc spirit dl'\n",
       "16. 'audi 100 ls'\n",
       "17. 'audi 100ls'\n",
       "18. 'audi 4000'\n",
       "19. 'audi 5000'\n",
       "20. 'audi 5000s (diesel)'\n",
       "21. 'audi fox'\n",
       "22. 'bmw 2002'\n",
       "23. 'bmw 320i'\n",
       "24. 'buick century'\n",
       "25. 'buick century 350'\n",
       "26. 'buick century limited'\n",
       "27. 'buick century luxus (sw)'\n",
       "28. 'buick century special'\n",
       "29. 'buick electra 225 custom'\n",
       "30. 'buick estate wagon (sw)'\n",
       "31. 'buick lesabre custom'\n",
       "32. 'buick opel isuzu deluxe'\n",
       "33. 'buick regal sport coupe (turbo)'\n",
       "34. 'buick skyhawk'\n",
       "35. 'buick skylark'\n",
       "36. 'buick skylark 320'\n",
       "37. 'buick skylark limited'\n",
       "38. 'cadillac eldorado'\n",
       "39. 'cadillac seville'\n",
       "40. 'capri ii'\n",
       "41. 'chevroelt chevelle malibu'\n",
       "42. 'chevrolet bel air'\n",
       "43. 'chevrolet camaro'\n",
       "44. 'chevrolet caprice classic'\n",
       "45. 'chevrolet cavalier'\n",
       "46. 'chevrolet cavalier 2-door'\n",
       "47. 'chevrolet cavalier wagon'\n",
       "48. 'chevrolet chevelle concours (sw)'\n",
       "49. 'chevrolet chevelle malibu'\n",
       "50. 'chevrolet chevelle malibu classic'\n",
       "51. 'chevrolet chevette'\n",
       "52. 'chevrolet citation'\n",
       "53. 'chevrolet concours'\n",
       "54. 'chevrolet impala'\n",
       "55. 'chevrolet malibu'\n",
       "56. 'chevrolet malibu classic (sw)'\n",
       "57. 'chevrolet monte carlo'\n",
       "58. 'chevrolet monte carlo landau'\n",
       "59. 'chevrolet monte carlo s'\n",
       "60. 'chevrolet monza 2+2'\n",
       "61. 'chevrolet nova'\n",
       "62. 'chevrolet nova custom'\n",
       "63. 'chevrolet vega'\n",
       "64. 'chevrolet vega (sw)'\n",
       "65. 'chevrolet vega 2300'\n",
       "66. 'chevrolet woody'\n",
       "67. 'chevy c10'\n",
       "68. 'chevy c20'\n",
       "69. 'chevy s-10'\n",
       "70. 'chrysler cordoba'\n",
       "71. 'chrysler lebaron medallion'\n",
       "72. 'chrysler lebaron salon'\n",
       "73. 'chrysler lebaron town @ country (sw)'\n",
       "74. 'chrysler new yorker brougham'\n",
       "75. 'chrysler newport royal'\n",
       "76. 'datsun 1200'\n",
       "77. 'datsun 200-sx'\n",
       "78. 'datsun 200sx'\n",
       "79. 'datsun 210'\n",
       "80. 'datsun 210 mpg'\n",
       "81. 'datsun 280-zx'\n",
       "82. 'datsun 310'\n",
       "83. 'datsun 310 gx'\n",
       "84. 'datsun 510'\n",
       "85. 'datsun 510 (sw)'\n",
       "86. 'datsun 510 hatchback'\n",
       "87. 'datsun 610'\n",
       "88. 'datsun 710'\n",
       "89. 'datsun 810'\n",
       "90. 'datsun 810 maxima'\n",
       "91. 'datsun b-210'\n",
       "92. 'datsun b210'\n",
       "93. 'datsun b210 gx'\n",
       "94. 'datsun f-10 hatchback'\n",
       "95. 'datsun pl510'\n",
       "96. 'dodge aries se'\n",
       "97. 'dodge aries wagon (sw)'\n",
       "98. 'dodge aspen'\n",
       "99. 'dodge aspen 6'\n",
       "100. 'dodge aspen se'\n",
       "101. 'dodge challenger se'\n",
       "102. 'dodge charger 2.2'\n",
       "103. 'dodge colt'\n",
       "104. 'dodge colt (sw)'\n",
       "105. 'dodge colt hardtop'\n",
       "106. 'dodge colt hatchback custom'\n",
       "107. 'dodge colt m/m'\n",
       "108. 'dodge coronet brougham'\n",
       "109. 'dodge coronet custom'\n",
       "110. 'dodge coronet custom (sw)'\n",
       "111. 'dodge d100'\n",
       "112. 'dodge d200'\n",
       "113. 'dodge dart custom'\n",
       "114. 'dodge diplomat'\n",
       "115. 'dodge magnum xe'\n",
       "116. 'dodge monaco (sw)'\n",
       "117. 'dodge monaco brougham'\n",
       "118. 'dodge omni'\n",
       "119. 'dodge rampage'\n",
       "120. 'dodge st. regis'\n",
       "121. 'fiat 124 sport coupe'\n",
       "122. 'fiat 124 tc'\n",
       "123. 'fiat 124b'\n",
       "124. 'fiat 128'\n",
       "125. 'fiat 131'\n",
       "126. 'fiat strada custom'\n",
       "127. 'fiat x1.9'\n",
       "128. 'ford country'\n",
       "129. 'ford country squire (sw)'\n",
       "130. 'ford escort 2h'\n",
       "131. 'ford escort 4w'\n",
       "132. 'ford f108'\n",
       "133. 'ford f250'\n",
       "134. 'ford fairmont'\n",
       "135. 'ford fairmont (auto)'\n",
       "136. 'ford fairmont (man)'\n",
       "137. 'ford fairmont 4'\n",
       "138. 'ford fairmont futura'\n",
       "139. 'ford fiesta'\n",
       "140. 'ford futura'\n",
       "141. 'ford galaxie 500'\n",
       "142. 'ford gran torino'\n",
       "143. 'ford gran torino (sw)'\n",
       "144. 'ford granada'\n",
       "145. 'ford granada ghia'\n",
       "146. 'ford granada gl'\n",
       "147. 'ford granada l'\n",
       "148. 'ford ltd'\n",
       "149. 'ford ltd landau'\n",
       "150. 'ford maverick'\n",
       "151. 'ford mustang'\n",
       "152. 'ford mustang cobra'\n",
       "153. 'ford mustang gl'\n",
       "154. 'ford mustang ii'\n",
       "155. 'ford mustang ii 2+2'\n",
       "156. 'ford pinto'\n",
       "157. 'ford pinto (sw)'\n",
       "158. 'ford pinto runabout'\n",
       "159. 'ford ranger'\n",
       "160. 'ford thunderbird'\n",
       "161. 'ford torino'\n",
       "162. 'ford torino 500'\n",
       "163. 'hi 1200d'\n",
       "164. 'honda accord'\n",
       "165. 'honda accord cvcc'\n",
       "166. 'honda accord lx'\n",
       "167. 'honda civic'\n",
       "168. 'honda civic (auto)'\n",
       "169. 'honda civic 1300'\n",
       "170. 'honda civic 1500 gl'\n",
       "171. 'honda civic cvcc'\n",
       "172. 'honda prelude'\n",
       "173. 'maxda glc deluxe'\n",
       "174. 'maxda rx3'\n",
       "175. 'mazda 626'\n",
       "176. 'mazda glc'\n",
       "177. 'mazda glc 4'\n",
       "178. 'mazda glc custom'\n",
       "179. 'mazda glc custom l'\n",
       "180. 'mazda glc deluxe'\n",
       "181. 'mazda rx-4'\n",
       "182. 'mazda rx-7 gs'\n",
       "183. 'mazda rx2 coupe'\n",
       "184. 'mercedes-benz 240d'\n",
       "185. 'mercedes-benz 280s'\n",
       "186. 'mercedes benz 300d'\n",
       "187. 'mercury capri 2000'\n",
       "188. 'mercury capri v6'\n",
       "189. 'mercury cougar brougham'\n",
       "190. 'mercury grand marquis'\n",
       "191. 'mercury lynx l'\n",
       "192. 'mercury marquis'\n",
       "193. 'mercury marquis brougham'\n",
       "194. 'mercury monarch'\n",
       "195. 'mercury monarch ghia'\n",
       "196. 'mercury zephyr'\n",
       "197. 'mercury zephyr 6'\n",
       "198. 'nissan stanza xe'\n",
       "199. 'oldsmobile cutlass ciera (diesel)'\n",
       "200. 'oldsmobile cutlass ls'\n",
       "201. 'oldsmobile cutlass salon brougham'\n",
       "202. 'oldsmobile cutlass supreme'\n",
       "203. 'oldsmobile delta 88 royale'\n",
       "204. 'oldsmobile omega'\n",
       "205. 'oldsmobile omega brougham'\n",
       "206. 'oldsmobile starfire sx'\n",
       "207. 'oldsmobile vista cruiser'\n",
       "208. 'opel 1900'\n",
       "209. 'opel manta'\n",
       "210. 'peugeot 304'\n",
       "211. 'peugeot 504'\n",
       "212. 'peugeot 504 (sw)'\n",
       "213. 'peugeot 505s turbo diesel'\n",
       "214. 'peugeot 604sl'\n",
       "215. 'plymouth \\'cuda 340'\n",
       "216. 'plymouth arrow gs'\n",
       "217. 'plymouth champ'\n",
       "218. 'plymouth cricket'\n",
       "219. 'plymouth custom suburb'\n",
       "220. 'plymouth duster'\n",
       "221. 'plymouth fury'\n",
       "222. 'plymouth fury gran sedan'\n",
       "223. 'plymouth fury iii'\n",
       "224. 'plymouth grand fury'\n",
       "225. 'plymouth horizon'\n",
       "226. 'plymouth horizon 4'\n",
       "227. 'plymouth horizon miser'\n",
       "228. 'plymouth horizon tc3'\n",
       "229. 'plymouth reliant'\n",
       "230. 'plymouth sapporo'\n",
       "231. 'plymouth satellite'\n",
       "232. 'plymouth satellite custom'\n",
       "233. 'plymouth satellite custom (sw)'\n",
       "234. 'plymouth satellite sebring'\n",
       "235. 'plymouth valiant'\n",
       "236. 'plymouth valiant custom'\n",
       "237. 'plymouth volare'\n",
       "238. 'plymouth volare custom'\n",
       "239. 'plymouth volare premier v8'\n",
       "240. 'pontiac astro'\n",
       "241. 'pontiac catalina'\n",
       "242. 'pontiac catalina brougham'\n",
       "243. 'pontiac firebird'\n",
       "244. 'pontiac grand prix'\n",
       "245. 'pontiac grand prix lj'\n",
       "246. 'pontiac j2000 se hatchback'\n",
       "247. 'pontiac lemans v6'\n",
       "248. 'pontiac phoenix'\n",
       "249. 'pontiac phoenix lj'\n",
       "250. 'pontiac safari (sw)'\n",
       "251. 'pontiac sunbird coupe'\n",
       "252. 'pontiac ventura sj'\n",
       "253. 'renault 12 (sw)'\n",
       "254. 'renault 12tl'\n",
       "255. 'renault 18i'\n",
       "256. 'renault 5 gtl'\n",
       "257. 'renault lecar deluxe'\n",
       "258. 'saab 99e'\n",
       "259. 'saab 99gle'\n",
       "260. 'saab 99le'\n",
       "261. 'subaru'\n",
       "262. 'subaru dl'\n",
       "263. 'toyota carina'\n",
       "264. 'toyota celica gt'\n",
       "265. 'toyota celica gt liftback'\n",
       "266. 'toyota corolla'\n",
       "267. 'toyota corolla 1200'\n",
       "268. 'toyota corolla 1600 (sw)'\n",
       "269. 'toyota corolla liftback'\n",
       "270. 'toyota corolla tercel'\n",
       "271. 'toyota corona'\n",
       "272. 'toyota corona hardtop'\n",
       "273. 'toyota corona liftback'\n",
       "274. 'toyota corona mark ii'\n",
       "275. 'toyota cressida'\n",
       "276. 'toyota mark ii'\n",
       "277. 'toyota starlet'\n",
       "278. 'toyota tercel'\n",
       "279. 'toyouta corona mark ii (sw)'\n",
       "280. 'triumph tr7 coupe'\n",
       "281. 'vokswagen rabbit'\n",
       "282. 'volkswagen 1131 deluxe sedan'\n",
       "283. 'volkswagen 411 (sw)'\n",
       "284. 'volkswagen dasher'\n",
       "285. 'volkswagen jetta'\n",
       "286. 'volkswagen model 111'\n",
       "287. 'volkswagen rabbit'\n",
       "288. 'volkswagen rabbit custom'\n",
       "289. 'volkswagen rabbit custom diesel'\n",
       "290. 'volkswagen rabbit l'\n",
       "291. 'volkswagen scirocco'\n",
       "292. 'volkswagen super beetle'\n",
       "293. 'volkswagen type 3'\n",
       "294. 'volvo 144ea'\n",
       "295. 'volvo 145e (sw)'\n",
       "296. 'volvo 244dl'\n",
       "297. 'volvo 245'\n",
       "298. 'volvo 264gl'\n",
       "299. 'volvo diesel'\n",
       "300. 'vw dasher (diesel)'\n",
       "301. 'vw pickup'\n",
       "302. 'vw rabbit'\n",
       "303. 'vw rabbit c (diesel)'\n",
       "304. 'vw rabbit custom'\n",
       "\n",
       "\n"
      ],
      "text/plain": [
       " [1] chevrolet chevelle malibu buick skylark 320        \n",
       " [3] plymouth satellite        amc rebel sst            \n",
       " [5] ford torino               ford galaxie 500         \n",
       " [7] chevrolet impala          plymouth fury iii        \n",
       " [9] pontiac catalina          amc ambassador dpl       \n",
       "[11] dodge challenger se       plymouth 'cuda 340       \n",
       "[13] chevrolet monte carlo     buick estate wagon (sw)  \n",
       "[15] plymouth duster           amc hornet               \n",
       "[17] ford maverick             amc gremlin              \n",
       "[19] ford f250                 chevy c20                \n",
       "[21] dodge d200                hi 1200d                 \n",
       "304 Levels: amc ambassador brougham amc ambassador dpl ... vw rabbit custom"
      ]
     },
     "metadata": {},
     "output_type": "display_data"
    }
   ],
   "source": [
    "name[cylinders>=6 & year==70] \n",
    "detach(Auto)"
   ]
  },
  {
   "cell_type": "markdown",
   "id": "835dc46e-50e7-467c-9c18-f5b39bd945d0",
   "metadata": {},
   "source": [
    "Note that in the previous command, we used `&` to concatenate two conditions."
   ]
  },
  {
   "cell_type": "markdown",
   "id": "eaa73967-18f2-48bf-a8a4-ef8f4e7b86bb",
   "metadata": {},
   "source": [
    "<div class=\"alert alert-block alert-info\">\n",
    "<strong>PRACTICE ON YOUR OWN</strong>\n",
    "    \n",
    "In a new RStudio script, create a new data frame called *students* with the following variables. Analyze whether each variable type is appropriate (numeric, categorical), and if not, correct it accordingly.\n",
    "<div><img alt=\"\" src=\"./figuras/tabla_alumnos_en.png\" width=\"200\"/></div>\n",
    "\n",
    "Using the generated data frame, analyze the results of the following commands:\n",
    "1. `students[2,]`\n",
    "2. `students[3,4]`\n",
    "3. `students[students$Age > 20, ]`\n",
    "\n",
    "What is the difference between executing `students[Age > 20,]` and `Age[Age > 20]`?  \n",
    "Remember that to reference the *Age* column directly, you need to execute `attach(students)` first.\n",
    "\n",
    "What is obtained when executing the command `Height[Age > 20 & Sex == \"M\"]`?\n",
    "\n",
    "Don't forget to run `detach(students)` when you have finished working with this data frame.\n",
    "</div>\n",
    "\n"
   ]
  },
  {
   "cell_type": "markdown",
   "id": "4901f148-2c15-4a49-ad4d-8b65ef3141b5",
   "metadata": {},
   "source": [
    "# Creating Functions\n",
    "\n",
    "Users can create their own functions to perform specific tasks. Additionally, these functions can be grouped into packages and made available for all sessions. The syntax is straightforward:"
   ]
  },
  {
   "cell_type": "markdown",
   "id": "f6421fc1-58ea-42ca-bba7-8ba5fd06e7e8",
   "metadata": {},
   "source": [
    "<div><img alt=\"\" src=\"./figuras/funcion_en.png\" width=\"400\"/></div>"
   ]
  },
  {
   "cell_type": "markdown",
   "id": "2b20df65-a9c9-4ade-809d-22582e2ae9ad",
   "metadata": {},
   "source": [
    "For example:"
   ]
  },
  {
   "cell_type": "code",
   "execution_count": 60,
   "id": "ce16f9eb-aa74-4ccd-8493-79d8c2cef463",
   "metadata": {},
   "outputs": [],
   "source": [
    "first_function <- function(x){\n",
    "  f <- sqrt(1-exp(-x^2))\n",
    "  return (f)\n",
    "}"
   ]
  },
  {
   "cell_type": "markdown",
   "id": "2ca1216b-a484-44df-8829-1809708888c9",
   "metadata": {},
   "source": [
    "Once the created function is saved in a file, the command `source(\"first_function.R\")` will allow us to use it whenever needed. \n",
    "\n",
    "Note that if the function is not saved in the current working directory, when calling the function with the `source` command, we must specify the full path where the file is stored:  \n",
    "`source(\"working_directory_path/first_function.R\")`.  \n",
    "\n",
    "As mentioned earlier, it is recommended to create a dedicated working directory for the exercises, where all related files can be saved. Using the `setwd()` function to set this directory as the working directory in the current R session simplifies the code, as we won’t need to specify the full path every time we want to call a custom function, open a data file, save a figure, etc.\n",
    "\n",
    "Now, let's apply the previously defined function to the value 3 as follows:"
   ]
  },
  {
   "cell_type": "code",
   "execution_count": 61,
   "id": "0681d146-4b2c-4b32-ba92-f1c11b05cb2b",
   "metadata": {},
   "outputs": [
    {
     "data": {
      "text/html": [
       "0.999938293194092"
      ],
      "text/latex": [
       "0.999938293194092"
      ],
      "text/markdown": [
       "0.999938293194092"
      ],
      "text/plain": [
       "[1] 0.9999383"
      ]
     },
     "metadata": {},
     "output_type": "display_data"
    }
   ],
   "source": [
    "first_function(3)"
   ]
  },
  {
   "cell_type": "markdown",
   "id": "5b8f829f-dcc3-4ada-aab5-e591e8dd709b",
   "metadata": {},
   "source": [
    "<div class=\"alert alert-block alert-info\">\n",
    "<strong>PRACTICE ON YOUR OWN</strong>\n",
    "\n",
    "Create a function that calculates the solutions of a quadratic equation. Then, test it using the equation:  \n",
    "$x^2+5x-16=0$\n",
    "</div>"
   ]
  },
  {
   "cell_type": "markdown",
   "id": "e58507e3-62e8-4b27-87c6-294b53967c78",
   "metadata": {},
   "source": [
    "# Working with Data Files in R\n",
    "\n",
    "R provides different functions to open data files, and it is essential to know them since the choice of function depends on the format of the file being used. Below, we analyze different cases.\n",
    "\n",
    "## Loading Data (.rda Files)\n",
    "\n",
    "In R, data can be loaded directly from files using R's own format. These files have the **.rda** extension. The `load()` function allows us to import data stored in this type of file.\n",
    "\n",
    "As an example, let's load data from the file *pulsations.rda*, which is available on the course webpage. The filename must be enclosed in quotation marks. Remember that if the file is not located in our working directory, we must specify the full path. However, it is always best to set the working directory at the beginning of each script using `setwd()`."
   ]
  },
  {
   "cell_type": "code",
   "execution_count": 62,
   "id": "2889016b-272a-4984-9d44-e3c4e98138f8",
   "metadata": {},
   "outputs": [
    {
     "data": {
      "text/html": [
       "<table class=\"dataframe\">\n",
       "<caption>A data.frame: 6 × 8</caption>\n",
       "<thead>\n",
       "\t<tr><th></th><th scope=col>Pulse1</th><th scope=col>Pulse2</th><th scope=col>Run</th><th scope=col>Smoke</th><th scope=col>Sex</th><th scope=col>Height</th><th scope=col>Weight</th><th scope=col>Activity</th></tr>\n",
       "\t<tr><th></th><th scope=col>&lt;int&gt;</th><th scope=col>&lt;int&gt;</th><th scope=col>&lt;fct&gt;</th><th scope=col>&lt;fct&gt;</th><th scope=col>&lt;fct&gt;</th><th scope=col>&lt;dbl&gt;</th><th scope=col>&lt;dbl&gt;</th><th scope=col>&lt;fct&gt;</th></tr>\n",
       "</thead>\n",
       "<tbody>\n",
       "\t<tr><th scope=row>1</th><td>64</td><td>88</td><td>Yes</td><td>No </td><td>Male</td><td>168.2</td><td>61.95</td><td>Medium</td></tr>\n",
       "\t<tr><th scope=row>2</th><td>58</td><td>70</td><td>Yes</td><td>No </td><td>Male</td><td>182.9</td><td>66.31</td><td>Medium</td></tr>\n",
       "\t<tr><th scope=row>3</th><td>62</td><td>76</td><td>Yes</td><td>Yes</td><td>Male</td><td>187.0</td><td>71.38</td><td>High  </td></tr>\n",
       "\t<tr><th scope=row>4</th><td>66</td><td>78</td><td>Yes</td><td>Yes</td><td>Male</td><td>185.9</td><td>88.26</td><td>Low   </td></tr>\n",
       "\t<tr><th scope=row>5</th><td>64</td><td>80</td><td>Yes</td><td>No </td><td>Male</td><td>175.2</td><td>68.64</td><td>Medium</td></tr>\n",
       "\t<tr><th scope=row>6</th><td>74</td><td>84</td><td>Yes</td><td>No </td><td>Male</td><td>184.7</td><td>74.31</td><td>Low   </td></tr>\n",
       "</tbody>\n",
       "</table>\n"
      ],
      "text/latex": [
       "A data.frame: 6 × 8\n",
       "\\begin{tabular}{r|llllllll}\n",
       "  & Pulse1 & Pulse2 & Run & Smoke & Sex & Height & Weight & Activity\\\\\n",
       "  & <int> & <int> & <fct> & <fct> & <fct> & <dbl> & <dbl> & <fct>\\\\\n",
       "\\hline\n",
       "\t1 & 64 & 88 & Yes & No  & Male & 168.2 & 61.95 & Medium\\\\\n",
       "\t2 & 58 & 70 & Yes & No  & Male & 182.9 & 66.31 & Medium\\\\\n",
       "\t3 & 62 & 76 & Yes & Yes & Male & 187.0 & 71.38 & High  \\\\\n",
       "\t4 & 66 & 78 & Yes & Yes & Male & 185.9 & 88.26 & Low   \\\\\n",
       "\t5 & 64 & 80 & Yes & No  & Male & 175.2 & 68.64 & Medium\\\\\n",
       "\t6 & 74 & 84 & Yes & No  & Male & 184.7 & 74.31 & Low   \\\\\n",
       "\\end{tabular}\n"
      ],
      "text/markdown": [
       "\n",
       "A data.frame: 6 × 8\n",
       "\n",
       "| <!--/--> | Pulse1 &lt;int&gt; | Pulse2 &lt;int&gt; | Run &lt;fct&gt; | Smoke &lt;fct&gt; | Sex &lt;fct&gt; | Height &lt;dbl&gt; | Weight &lt;dbl&gt; | Activity &lt;fct&gt; |\n",
       "|---|---|---|---|---|---|---|---|---|\n",
       "| 1 | 64 | 88 | Yes | No  | Male | 168.2 | 61.95 | Medium |\n",
       "| 2 | 58 | 70 | Yes | No  | Male | 182.9 | 66.31 | Medium |\n",
       "| 3 | 62 | 76 | Yes | Yes | Male | 187.0 | 71.38 | High   |\n",
       "| 4 | 66 | 78 | Yes | Yes | Male | 185.9 | 88.26 | Low    |\n",
       "| 5 | 64 | 80 | Yes | No  | Male | 175.2 | 68.64 | Medium |\n",
       "| 6 | 74 | 84 | Yes | No  | Male | 184.7 | 74.31 | Low    |\n",
       "\n"
      ],
      "text/plain": [
       "  Pulse1 Pulse2 Run Smoke Sex  Height Weight Activity\n",
       "1 64     88     Yes No    Male 168.2  61.95  Medium  \n",
       "2 58     70     Yes No    Male 182.9  66.31  Medium  \n",
       "3 62     76     Yes Yes   Male 187.0  71.38  High    \n",
       "4 66     78     Yes Yes   Male 185.9  88.26  Low     \n",
       "5 64     80     Yes No    Male 175.2  68.64  Medium  \n",
       "6 74     84     Yes No    Male 184.7  74.31  Low     "
      ]
     },
     "metadata": {},
     "output_type": "display_data"
    }
   ],
   "source": [
    "# Establecemos directorio de trabajo\n",
    "setwd(\"data/\") \n",
    "# Cargamos los datos\n",
    "load(\"pulsations.rda\") \n",
    "# Muestra cabecera del data frame\n",
    "head(pulsations)"
   ]
  },
  {
   "cell_type": "markdown",
   "id": "6d25787e-2942-497a-9acb-4d99d5640eb1",
   "metadata": {},
   "source": [
    "When you run this command from RStudio, the *Global Environment* pane in the upper-right corner will display the data frame *pulsations*, which contains records for 92 individuals across different variables (you can view the content by double-clicking on *pulsations*).\n",
    "\n",
    "In this dataset, some individuals were asked to run for a certain period, while others were not. The first column (*Pulse1*) contains heart rate data for each individual at the beginning of the test, while the second column (*Pulsoe*) records the heart rate at the end of the test. The third column (*Run*) indicates whether the individual was in the running group or not. The fourth column (*Smoke*) shows whether the individual smokes or not, and the fifth column (*Sex*) indicates whether the individual is male or female. The sixth (*Height*) and seventh (*Weight*) columns record the height (cm) and weight (kg) of each individual, respectively. Lastly, the eighth column (*Activity*) indicates the type of physical activity the individual typically engages in daily: low, medium, or high.\n",
    "\n",
    "Additionally, in RStudio, you can open an `.rda` file directly from the *File* menu using the *Open File* option, but the function associated with this action will not be saved in your script. Therefore, it is always recommended to use the `load()` function."
   ]
  },
  {
   "cell_type": "markdown",
   "id": "741a8a1d-9fb5-4d6e-8077-1c33f251d298",
   "metadata": {},
   "source": [
    "## Importing Data\n",
    "\n",
    "To use data stored in ASCII format (e.g., with `.csv` or `.txt` extensions), which are not native R data files, we need to import these data by specifying certain characteristics about the format in which the data is stored. Among other things, we need to know if the file has headers with the column names, how the columns are separated (spaces, commas, semicolons, etc.), or what character is used to represent the decimal (a point or a comma). \n",
    "\n",
    "For this, RStudio allows us to view the file's content (without loading the data) through the *Open* option in the *File* menu. Another way to view the file's content is to use a text editor, such as Notepad.\n",
    "\n",
    "Once we know the format in which the data is stored, we can use one of the following functions to import the data, paying special attention to the arguments we need to specify for each function.\n",
    "\n",
    "A commonly used function to import non-native R files is `read.table()`. This function automatically converts the data into a data frame. \n",
    "\n",
    "Let’s now import the data from the file *santander.txt*, which is available on the course website, and assign a name to the data frame. This file contains the monthly average temperature data measured in Santander from 1950 to 2003."
   ]
  },
  {
   "cell_type": "code",
   "execution_count": 63,
   "id": "51b0ed7b-9d44-46d0-8e22-b5f7a3dd46c7",
   "metadata": {},
   "outputs": [
    {
     "data": {
      "text/html": [
       "<table class=\"dataframe\">\n",
       "<caption>A data.frame: 6 × 13</caption>\n",
       "<thead>\n",
       "\t<tr><th></th><th scope=col>V1</th><th scope=col>V2</th><th scope=col>V3</th><th scope=col>V4</th><th scope=col>V5</th><th scope=col>V6</th><th scope=col>V7</th><th scope=col>V8</th><th scope=col>V9</th><th scope=col>V10</th><th scope=col>V11</th><th scope=col>V12</th><th scope=col>V13</th></tr>\n",
       "\t<tr><th></th><th scope=col>&lt;chr&gt;</th><th scope=col>&lt;chr&gt;</th><th scope=col>&lt;chr&gt;</th><th scope=col>&lt;chr&gt;</th><th scope=col>&lt;chr&gt;</th><th scope=col>&lt;chr&gt;</th><th scope=col>&lt;chr&gt;</th><th scope=col>&lt;chr&gt;</th><th scope=col>&lt;chr&gt;</th><th scope=col>&lt;chr&gt;</th><th scope=col>&lt;chr&gt;</th><th scope=col>&lt;chr&gt;</th><th scope=col>&lt;chr&gt;</th></tr>\n",
       "</thead>\n",
       "<tbody>\n",
       "\t<tr><th scope=row>1</th><td>yr  </td><td>ene</td><td>feb </td><td>mar </td><td>abr </td><td>may </td><td>jun </td><td>jul </td><td>ago </td><td>sep </td><td>oct </td><td>nov </td><td>dic </td></tr>\n",
       "\t<tr><th scope=row>2</th><td>1950</td><td>8.5</td><td>11.6</td><td>11.5</td><td>11.0</td><td>15.2</td><td>18.9</td><td>20.7</td><td>19.7</td><td>17.7</td><td>15.9</td><td>13.5</td><td>8.1 </td></tr>\n",
       "\t<tr><th scope=row>3</th><td>1951</td><td>9.2</td><td>8.8 </td><td>10.2</td><td>11.4</td><td>12.1</td><td>16.5</td><td>18.9</td><td>18.3</td><td>18.4</td><td>14.1</td><td>11.8</td><td>9.8 </td></tr>\n",
       "\t<tr><th scope=row>4</th><td>1952</td><td>7.4</td><td>7.8 </td><td>13.1</td><td>12.2</td><td>15.5</td><td>18.3</td><td>19.1</td><td>19.4</td><td>15.9</td><td>15.8</td><td>11.6</td><td>9.4 </td></tr>\n",
       "\t<tr><th scope=row>5</th><td>1953</td><td>6.6</td><td>6.6 </td><td>11.4</td><td>13.0</td><td>15.4</td><td>15.5</td><td>18.1</td><td>19.8</td><td>17.3</td><td>14.9</td><td>13.3</td><td>13.4</td></tr>\n",
       "\t<tr><th scope=row>6</th><td>1954</td><td>8.0</td><td>6.3 </td><td>10.9</td><td>13.3</td><td>13.0</td><td>15.5</td><td>16.8</td><td>18.1</td><td>17.9</td><td>17.3</td><td>13.8</td><td>10.7</td></tr>\n",
       "</tbody>\n",
       "</table>\n"
      ],
      "text/latex": [
       "A data.frame: 6 × 13\n",
       "\\begin{tabular}{r|lllllllllllll}\n",
       "  & V1 & V2 & V3 & V4 & V5 & V6 & V7 & V8 & V9 & V10 & V11 & V12 & V13\\\\\n",
       "  & <chr> & <chr> & <chr> & <chr> & <chr> & <chr> & <chr> & <chr> & <chr> & <chr> & <chr> & <chr> & <chr>\\\\\n",
       "\\hline\n",
       "\t1 & yr   & ene & feb  & mar  & abr  & may  & jun  & jul  & ago  & sep  & oct  & nov  & dic \\\\\n",
       "\t2 & 1950 & 8.5 & 11.6 & 11.5 & 11.0 & 15.2 & 18.9 & 20.7 & 19.7 & 17.7 & 15.9 & 13.5 & 8.1 \\\\\n",
       "\t3 & 1951 & 9.2 & 8.8  & 10.2 & 11.4 & 12.1 & 16.5 & 18.9 & 18.3 & 18.4 & 14.1 & 11.8 & 9.8 \\\\\n",
       "\t4 & 1952 & 7.4 & 7.8  & 13.1 & 12.2 & 15.5 & 18.3 & 19.1 & 19.4 & 15.9 & 15.8 & 11.6 & 9.4 \\\\\n",
       "\t5 & 1953 & 6.6 & 6.6  & 11.4 & 13.0 & 15.4 & 15.5 & 18.1 & 19.8 & 17.3 & 14.9 & 13.3 & 13.4\\\\\n",
       "\t6 & 1954 & 8.0 & 6.3  & 10.9 & 13.3 & 13.0 & 15.5 & 16.8 & 18.1 & 17.9 & 17.3 & 13.8 & 10.7\\\\\n",
       "\\end{tabular}\n"
      ],
      "text/markdown": [
       "\n",
       "A data.frame: 6 × 13\n",
       "\n",
       "| <!--/--> | V1 &lt;chr&gt; | V2 &lt;chr&gt; | V3 &lt;chr&gt; | V4 &lt;chr&gt; | V5 &lt;chr&gt; | V6 &lt;chr&gt; | V7 &lt;chr&gt; | V8 &lt;chr&gt; | V9 &lt;chr&gt; | V10 &lt;chr&gt; | V11 &lt;chr&gt; | V12 &lt;chr&gt; | V13 &lt;chr&gt; |\n",
       "|---|---|---|---|---|---|---|---|---|---|---|---|---|---|\n",
       "| 1 | yr   | ene | feb  | mar  | abr  | may  | jun  | jul  | ago  | sep  | oct  | nov  | dic  |\n",
       "| 2 | 1950 | 8.5 | 11.6 | 11.5 | 11.0 | 15.2 | 18.9 | 20.7 | 19.7 | 17.7 | 15.9 | 13.5 | 8.1  |\n",
       "| 3 | 1951 | 9.2 | 8.8  | 10.2 | 11.4 | 12.1 | 16.5 | 18.9 | 18.3 | 18.4 | 14.1 | 11.8 | 9.8  |\n",
       "| 4 | 1952 | 7.4 | 7.8  | 13.1 | 12.2 | 15.5 | 18.3 | 19.1 | 19.4 | 15.9 | 15.8 | 11.6 | 9.4  |\n",
       "| 5 | 1953 | 6.6 | 6.6  | 11.4 | 13.0 | 15.4 | 15.5 | 18.1 | 19.8 | 17.3 | 14.9 | 13.3 | 13.4 |\n",
       "| 6 | 1954 | 8.0 | 6.3  | 10.9 | 13.3 | 13.0 | 15.5 | 16.8 | 18.1 | 17.9 | 17.3 | 13.8 | 10.7 |\n",
       "\n"
      ],
      "text/plain": [
       "  V1   V2  V3   V4   V5   V6   V7   V8   V9   V10  V11  V12  V13 \n",
       "1 yr   ene feb  mar  abr  may  jun  jul  ago  sep  oct  nov  dic \n",
       "2 1950 8.5 11.6 11.5 11.0 15.2 18.9 20.7 19.7 17.7 15.9 13.5 8.1 \n",
       "3 1951 9.2 8.8  10.2 11.4 12.1 16.5 18.9 18.3 18.4 14.1 11.8 9.8 \n",
       "4 1952 7.4 7.8  13.1 12.2 15.5 18.3 19.1 19.4 15.9 15.8 11.6 9.4 \n",
       "5 1953 6.6 6.6  11.4 13.0 15.4 15.5 18.1 19.8 17.3 14.9 13.3 13.4\n",
       "6 1954 8.0 6.3  10.9 13.3 13.0 15.5 16.8 18.1 17.9 17.3 13.8 10.7"
      ]
     },
     "metadata": {},
     "output_type": "display_data"
    }
   ],
   "source": [
    "santander1 <- read.table(\"santander.txt\"); head(santander1)"
   ]
  },
  {
   "cell_type": "code",
   "execution_count": 64,
   "id": "20cb26fb-a99a-4005-8033-7f5031145231",
   "metadata": {},
   "outputs": [
    {
     "data": {
      "text/html": [
       "<table class=\"dataframe\">\n",
       "<caption>A data.frame: 6 × 13</caption>\n",
       "<thead>\n",
       "\t<tr><th></th><th scope=col>yr</th><th scope=col>ene</th><th scope=col>feb</th><th scope=col>mar</th><th scope=col>abr</th><th scope=col>may</th><th scope=col>jun</th><th scope=col>jul</th><th scope=col>ago</th><th scope=col>sep</th><th scope=col>oct</th><th scope=col>nov</th><th scope=col>dic</th></tr>\n",
       "\t<tr><th></th><th scope=col>&lt;int&gt;</th><th scope=col>&lt;dbl&gt;</th><th scope=col>&lt;dbl&gt;</th><th scope=col>&lt;dbl&gt;</th><th scope=col>&lt;dbl&gt;</th><th scope=col>&lt;dbl&gt;</th><th scope=col>&lt;dbl&gt;</th><th scope=col>&lt;dbl&gt;</th><th scope=col>&lt;dbl&gt;</th><th scope=col>&lt;dbl&gt;</th><th scope=col>&lt;dbl&gt;</th><th scope=col>&lt;dbl&gt;</th><th scope=col>&lt;dbl&gt;</th></tr>\n",
       "</thead>\n",
       "<tbody>\n",
       "\t<tr><th scope=row>1</th><td>1950</td><td> 8.5</td><td>11.6</td><td>11.5</td><td>11.0</td><td>15.2</td><td>18.9</td><td>20.7</td><td>19.7</td><td>17.7</td><td>15.9</td><td>13.5</td><td> 8.1</td></tr>\n",
       "\t<tr><th scope=row>2</th><td>1951</td><td> 9.2</td><td> 8.8</td><td>10.2</td><td>11.4</td><td>12.1</td><td>16.5</td><td>18.9</td><td>18.3</td><td>18.4</td><td>14.1</td><td>11.8</td><td> 9.8</td></tr>\n",
       "\t<tr><th scope=row>3</th><td>1952</td><td> 7.4</td><td> 7.8</td><td>13.1</td><td>12.2</td><td>15.5</td><td>18.3</td><td>19.1</td><td>19.4</td><td>15.9</td><td>15.8</td><td>11.6</td><td> 9.4</td></tr>\n",
       "\t<tr><th scope=row>4</th><td>1953</td><td> 6.6</td><td> 6.6</td><td>11.4</td><td>13.0</td><td>15.4</td><td>15.5</td><td>18.1</td><td>19.8</td><td>17.3</td><td>14.9</td><td>13.3</td><td>13.4</td></tr>\n",
       "\t<tr><th scope=row>5</th><td>1954</td><td> 8.0</td><td> 6.3</td><td>10.9</td><td>13.3</td><td>13.0</td><td>15.5</td><td>16.8</td><td>18.1</td><td>17.9</td><td>17.3</td><td>13.8</td><td>10.7</td></tr>\n",
       "\t<tr><th scope=row>6</th><td>1955</td><td>12.0</td><td> 9.7</td><td> 9.7</td><td>12.8</td><td>14.9</td><td>17.3</td><td>20.2</td><td>21.3</td><td>18.9</td><td>14.3</td><td>12.3</td><td>12.0</td></tr>\n",
       "</tbody>\n",
       "</table>\n"
      ],
      "text/latex": [
       "A data.frame: 6 × 13\n",
       "\\begin{tabular}{r|lllllllllllll}\n",
       "  & yr & ene & feb & mar & abr & may & jun & jul & ago & sep & oct & nov & dic\\\\\n",
       "  & <int> & <dbl> & <dbl> & <dbl> & <dbl> & <dbl> & <dbl> & <dbl> & <dbl> & <dbl> & <dbl> & <dbl> & <dbl>\\\\\n",
       "\\hline\n",
       "\t1 & 1950 &  8.5 & 11.6 & 11.5 & 11.0 & 15.2 & 18.9 & 20.7 & 19.7 & 17.7 & 15.9 & 13.5 &  8.1\\\\\n",
       "\t2 & 1951 &  9.2 &  8.8 & 10.2 & 11.4 & 12.1 & 16.5 & 18.9 & 18.3 & 18.4 & 14.1 & 11.8 &  9.8\\\\\n",
       "\t3 & 1952 &  7.4 &  7.8 & 13.1 & 12.2 & 15.5 & 18.3 & 19.1 & 19.4 & 15.9 & 15.8 & 11.6 &  9.4\\\\\n",
       "\t4 & 1953 &  6.6 &  6.6 & 11.4 & 13.0 & 15.4 & 15.5 & 18.1 & 19.8 & 17.3 & 14.9 & 13.3 & 13.4\\\\\n",
       "\t5 & 1954 &  8.0 &  6.3 & 10.9 & 13.3 & 13.0 & 15.5 & 16.8 & 18.1 & 17.9 & 17.3 & 13.8 & 10.7\\\\\n",
       "\t6 & 1955 & 12.0 &  9.7 &  9.7 & 12.8 & 14.9 & 17.3 & 20.2 & 21.3 & 18.9 & 14.3 & 12.3 & 12.0\\\\\n",
       "\\end{tabular}\n"
      ],
      "text/markdown": [
       "\n",
       "A data.frame: 6 × 13\n",
       "\n",
       "| <!--/--> | yr &lt;int&gt; | ene &lt;dbl&gt; | feb &lt;dbl&gt; | mar &lt;dbl&gt; | abr &lt;dbl&gt; | may &lt;dbl&gt; | jun &lt;dbl&gt; | jul &lt;dbl&gt; | ago &lt;dbl&gt; | sep &lt;dbl&gt; | oct &lt;dbl&gt; | nov &lt;dbl&gt; | dic &lt;dbl&gt; |\n",
       "|---|---|---|---|---|---|---|---|---|---|---|---|---|---|\n",
       "| 1 | 1950 |  8.5 | 11.6 | 11.5 | 11.0 | 15.2 | 18.9 | 20.7 | 19.7 | 17.7 | 15.9 | 13.5 |  8.1 |\n",
       "| 2 | 1951 |  9.2 |  8.8 | 10.2 | 11.4 | 12.1 | 16.5 | 18.9 | 18.3 | 18.4 | 14.1 | 11.8 |  9.8 |\n",
       "| 3 | 1952 |  7.4 |  7.8 | 13.1 | 12.2 | 15.5 | 18.3 | 19.1 | 19.4 | 15.9 | 15.8 | 11.6 |  9.4 |\n",
       "| 4 | 1953 |  6.6 |  6.6 | 11.4 | 13.0 | 15.4 | 15.5 | 18.1 | 19.8 | 17.3 | 14.9 | 13.3 | 13.4 |\n",
       "| 5 | 1954 |  8.0 |  6.3 | 10.9 | 13.3 | 13.0 | 15.5 | 16.8 | 18.1 | 17.9 | 17.3 | 13.8 | 10.7 |\n",
       "| 6 | 1955 | 12.0 |  9.7 |  9.7 | 12.8 | 14.9 | 17.3 | 20.2 | 21.3 | 18.9 | 14.3 | 12.3 | 12.0 |\n",
       "\n"
      ],
      "text/plain": [
       "  yr   ene  feb  mar  abr  may  jun  jul  ago  sep  oct  nov  dic \n",
       "1 1950  8.5 11.6 11.5 11.0 15.2 18.9 20.7 19.7 17.7 15.9 13.5  8.1\n",
       "2 1951  9.2  8.8 10.2 11.4 12.1 16.5 18.9 18.3 18.4 14.1 11.8  9.8\n",
       "3 1952  7.4  7.8 13.1 12.2 15.5 18.3 19.1 19.4 15.9 15.8 11.6  9.4\n",
       "4 1953  6.6  6.6 11.4 13.0 15.4 15.5 18.1 19.8 17.3 14.9 13.3 13.4\n",
       "5 1954  8.0  6.3 10.9 13.3 13.0 15.5 16.8 18.1 17.9 17.3 13.8 10.7\n",
       "6 1955 12.0  9.7  9.7 12.8 14.9 17.3 20.2 21.3 18.9 14.3 12.3 12.0"
      ]
     },
     "metadata": {},
     "output_type": "display_data"
    }
   ],
   "source": [
    "santander2 <- read.table(\"santander.txt\", header=TRUE); head(santander2)"
   ]
  },
  {
   "cell_type": "markdown",
   "id": "b170ee19-2c04-4bdd-aa83-0593b234cb67",
   "metadata": {},
   "source": [
    "Compare the results of the two previous commands. Pay close attention to the differences and indicate which one is correct and why.\n",
    "\n",
    "If you consult the help documentation for `read.table()`, the following appears in the first few lines:"
   ]
  },
  {
   "cell_type": "markdown",
   "id": "8b305a3c-b626-44fc-9d00-f7e98baa05c4",
   "metadata": {},
   "source": [
    "<div><img alt=\"\" src=\"./figuras/help_readtable.png\" width=\"700\"/></div>"
   ]
  },
  {
   "cell_type": "markdown",
   "id": "ba8bd8f4-8423-40d0-ae71-86f3e363439d",
   "metadata": {},
   "source": [
    "The *header* argument should be set to TRUE or FALSE depending on whether the first row of the file contains the variable names. By default, the `read.table()` function assigns FALSE to this argument (meaning there are no headers). However, as we saw in the previous step when we opened the *santander.txt* file, the first row contains the column names, so we must specify the option `header=TRUE`.\n",
    "\n",
    "Another option available in this function is *sep*, which represents the field delimiter or separator (in this case, separating the variables). By default, this option uses a space as the field separator, but you can specify other separators if necessary.\n",
    "\n",
    "Other functions such as `read.csv()` or `read.csv2()` work similarly. You can consult the help documentation for these functions to see the default values for their arguments.\n",
    "\n",
    "R also allows importing files created with the Microsoft Office Excel spreadsheet, those with the *.xls* extension. The function `read_xls()`, which is part of the `readxl()` package, enables reading these types of files. To load this package, use the command `library(\"readxl\")`. If it is not already installed in R, install it (only once) with the command `install.packages(\"readxl\")` and then load it.\n",
    "\n",
    "In any case, you can also save *.xls* files in *csv* format from a spreadsheet and import them into R using one of the functions mentioned above.\n",
    "\n",
    "As we can see, depending on how the data is stored in the file, the function we need to use to open it in R differs. In some cases, it is also possible to do this via certain RStudio menus, but it is more convenient to use the functions directly, as these commands should ideally be saved in our program for future use of the R code."
   ]
  },
  {
   "cell_type": "markdown",
   "id": "82140262-cdf8-4155-8735-73332ebd34c1",
   "metadata": {},
   "source": [
    "<div class=\"alert alert-block alert-info\">\n",
    "<strong>PRACTICE ON YOUR OWN</strong>\n",
    "\n",
    "Open a new script in RStudio. Using the data from the *pulsations.rda* file:\n",
    "1. Calculate the number of people who are shorter than 183 cm.\n",
    "2. Calculate the percentage of people who are shorter than 183 cm.\n",
    "3. Determine the women who are shorter than 170 cm.\n",
    "</div>"
   ]
  },
  {
   "cell_type": "markdown",
   "id": "d5397f7d-41e6-499e-9118-d228850afe67",
   "metadata": {},
   "source": [
    "# Graphical Representations\n",
    "\n",
    "Basic 2-D graphics are included in R's base package (such as `plot`, `hist`, `boxplot`, etc.). In the next practice, we will analyze these types of graphs in detail. Here, we will briefly show some essential functions for graphical representations, including:\n",
    "\n",
    "* `plot()`: By default, it generates a scatter plot.\n",
    "* `lines()`: Adds lines to a graph.\n",
    "* `points()`: Adds points to a graph.\n",
    "* `text()`: Adds text labels to a graph.\n",
    "* `title()`: Adds a title, subtitle, or labels to the X and Y axes.\n",
    "* `axis()`: Modifies axis ticks and their labels.\n",
    "\n",
    "Let’s look at an example using the *pulsations.rda* dataset, where we progressively enhance the graph using the above functions."
   ]
  },
  {
   "cell_type": "code",
   "execution_count": 65,
   "id": "56e2a05a-da70-48af-8a68-e9b8f1764f7c",
   "metadata": {},
   "outputs": [
    {
     "data": {
      "image/png": "[encoded data removed]",
      "text/plain": [
       "plot without title"
      ]
     },
     "metadata": {
      "image/png": {
       "height": 420,
       "width": 420
      }
     },
     "output_type": "display_data"
    }
   ],
   "source": [
    "attach(pulsations)\n",
    "plot(Height, Weight)"
   ]
  },
  {
   "cell_type": "markdown",
   "id": "139cfda8-b332-429e-b1a3-8882f1f73287",
   "metadata": {},
   "source": [
    "We adjust the range of values for the Y-axis using the *ylim* option (similarly, we could do this with *xlim* for the X-axis) and add a horizontal red line at a weight value of 85 kg. The *lwd* argument controls the line width, and *col* controls the color. Additionally, we include a cross symbol at a weight of 85 kg and a height of 190 cm using `points()` (the symbol type is controlled by the *pch* argument), and color set to blue."
   ]
  },
  {
   "cell_type": "code",
   "execution_count": 66,
   "id": "169f85e7-2cad-4b85-a7fc-cc4a38a6aff7",
   "metadata": {},
   "outputs": [
    {
     "data": {
      "image/png": "[encoded data removed]",
      "text/plain": [
       "plot without title"
      ]
     },
     "metadata": {
      "image/png": {
       "height": 420,
       "width": 420
      }
     },
     "output_type": "display_data"
    }
   ],
   "source": [
    "plot(Height, Weight, ylim=c(40,100)) \n",
    "lines(c(160,190), c(85,85), col=\"red\", lwd=2)\n",
    "points(c(190), c(85), pch=3, col=\"blue\", lwd=3)"
   ]
  },
  {
   "cell_type": "markdown",
   "id": "2af95037-28bf-442c-9e9b-df8b062ab495",
   "metadata": {},
   "source": [
    "We can add more points in a different color, text, title, and modify axis colors as follows:"
   ]
  },
  {
   "cell_type": "code",
   "execution_count": 67,
   "id": "27b2db38-6d0b-4a4d-a2c8-425105d0ed34",
   "metadata": {},
   "outputs": [
    {
     "data": {
      "image/png": "[encoded data removed]",
      "text/plain": [
       "Plot with title “Scatterplot”"
      ]
     },
     "metadata": {
      "image/png": {
       "height": 420,
       "width": 420
      }
     },
     "output_type": "display_data"
    }
   ],
   "source": [
    "plot(Height, Weight, ylim=c(40,100)) \n",
    "lines(c(160,190), c(85,85), col=\"red\", lwd=2)\n",
    "points(c(190), c(85), pch=3, col=\"blue\", lwd=3)\n",
    "points(c(175,180), c(60,65), pch=3, col=\"green\", lwd=4)\n",
    "text(185, 60, \"Fake point\", col=\"darkgreen\", cex=2)\n",
    "title(main=\"Scatterplot\", cex.main=1.5)\n",
    "axis(1, col=\"purple\") # Eje X\n",
    "axis(2, col=\"orange\") # Eje Y"
   ]
  },
  {
   "cell_type": "markdown",
   "id": "4b2e2f9c-2b1d-4a91-8192-ee8cbde1bcb4",
   "metadata": {},
   "source": [
    "There are many parameters for these functions that can be overwritten using the `par()` function (check the help documentation for more details). For example:"
   ]
  },
  {
   "cell_type": "code",
   "execution_count": 68,
   "id": "2baef853-5f99-4ee7-b5be-c7d617841a4a",
   "metadata": {},
   "outputs": [
    {
     "data": {
      "text/html": [
       "1"
      ],
      "text/latex": [
       "1"
      ],
      "text/markdown": [
       "1"
      ],
      "text/plain": [
       "[1] 1"
      ]
     },
     "metadata": {},
     "output_type": "display_data"
    },
    {
     "data": {
      "text/html": [
       "1"
      ],
      "text/latex": [
       "1"
      ],
      "text/markdown": [
       "1"
      ],
      "text/plain": [
       "[1] 1"
      ]
     },
     "metadata": {},
     "output_type": "display_data"
    },
    {
     "data": {
      "image/png": "[encoded data removed]",
      "text/plain": [
       "plot without title"
      ]
     },
     "metadata": {
      "image/png": {
       "height": 420,
       "width": 420
      }
     },
     "output_type": "display_data"
    },
    {
     "data": {
      "image/png": "[encoded data removed]",
      "text/plain": [
       "plot without title"
      ]
     },
     "metadata": {
      "image/png": {
       "height": 420,
       "width": 420
      }
     },
     "output_type": "display_data"
    }
   ],
   "source": [
    "plot(Height, Weight) # Original plot\n",
    "par(\"pch\") # Default symbol used in the plot\n",
    "par(\"lwd\") # Default line width used\n",
    "par(pch=2) # Modify the default symbol\n",
    "par(lwd=4) # Modify the default line width\n",
    "plot(Height, Weight) # Re-plotting includes the previous changes\n",
    "detach(pulsations)"
   ]
  },
  {
   "cell_type": "markdown",
   "id": "45b9b21f-9463-43c1-af84-c7a73648dc14",
   "metadata": {},
   "source": [
    "<div class=\"alert alert-block alert-info\">\n",
    "<strong>PRACTICE ON YOUR OWN</strong>\n",
    "\n",
    "The data file *santander.txt* contains the monthly average temperature data recorded in Santander from 1950 to 2003. The tasks are as follows:\n",
    "\n",
    "1. Plot the average temperatures recorded in February during the 1950-1960 period. Based on the graph, indicate the year with the lowest temperature.\n",
    "2. Plot the average temperatures for July and August (using different colors) between the years 1970 and 1980 (inclusive), and visually identify in which years the temperature was higher in July.\n",
    "</div>"
   ]
  }
 ],
 "metadata": {
  "kernelspec": {
   "display_name": "R",
   "language": "R",
   "name": "ir"
  },
  "language_info": {
   "codemirror_mode": "r",
   "file_extension": ".r",
   "mimetype": "text/x-r-source",
   "name": "R",
   "pygments_lexer": "r",
   "version": "4.3.3"
  }
 },
 "nbformat": 4,
 "nbformat_minor": 5
}
