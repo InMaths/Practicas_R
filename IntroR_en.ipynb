{
 "cells": [
  {
   "cell_type": "markdown",
   "id": "b2952046-39cf-4efd-8ace-2c6e89f8fab0",
   "metadata": {},
   "source": [
    "<div style=\"text-align: center; font-size: 30px;\">\n",
    "Statistics Labs<br/>\n",
    "</div>\n",
    "<div style=\"text-align: center; font-size: 30px;\">\n",
    "Introduction to R \n",
    "</div>\n",
    "<div style=\"text-align: center; font-size: 16px; font-style: italic\">\n",
    "Material prepared by M. Dolores Frías, Jesús Fernández, and Carmen M. Sordo, senior lectures from the Department of Applied Mathematics and Computer Science at the University of Cantabria.\n",
    "</div>"
   ]
  },
  {
   "cell_type": "markdown",
   "id": "b77abfbd-c549-4202-82df-802ce74d5f59",
   "metadata": {},
   "source": [
    "[R](http://www.r-project.org)  is an open-source programming language consisting of a collection of free software programs (in the [GNU](http://gnu.org/philosophy/free-sw.es.html) sense) designed for statistical data analysis. It allows performing everything from simple descriptive analyses (such as frequency tables, mean calculation, correlations, etc.) to more complex procedures (such as hypothesis testing, analysis of variance, principal component analysis, etc.). Only a few of the analytical possibilities offered by R will be covered in this course.\n",
    "\n",
    "R enables three essential functions: (1) reading data, (2) specifying the type of analysis to be performed on that data, and (3) displaying the results obtained after the analyses. Selecting an appropriate methodology for a given study, as well as interpreting the results, is the responsibility of the researcher or software user. For this reason, it is necessary for the user to understand the theoretical foundation of the various statistical methods available to ensure that both the application of the analysis and the interpretation of the results are conducted effectively.\n",
    "\n",
    "Over the past decades, R has established itself both academically and scientifically. Additionally, many companies now use it for data science (Facebook, Twitter, Google, Airbnb, IBM, etc.), as it allows for more advanced analyses than traditional spreadsheets."
   ]
  },
  {
   "cell_type": "markdown",
   "id": "be9fce17-ff4c-44c6-aa43-476635725c50",
   "metadata": {},
   "source": [
    "<div><img alt=\"Página web del proyecto R\" src=\"./figuras/RStudioWeb.png\" width=\"600\"/></div>\n",
    "\n",
    "*Figure 1: Official webpage of the R project.\n",
    "R Core Team. (2023). R: A language and environment for statistical computing. R Foundation for Statistical Computing. https://www.R-project.org/* \n",
    "\n",
    "# Objectives\n",
    "\n",
    "This manual aims to familiarize students with the R language and enable them to use it as a tool for statistical applications through the practical exercises presented in the course. To achieve this, students are encouraged to execute each R command introduced in the practice scripts, as well as to complete the exercises provided in the\n",
    "<span style=\"color:blue\">\n",
    "<strong>PRACTICE ON YOUR OWN</strong>\n",
    "</span>, sections, which will help reinforce the concepts.\n",
    "\n",
    "All the files used in this manual can be downloaded from the course webpage on the Moodle platform of the University of Cantabria."
   ]
  },
  {
   "cell_type": "markdown",
   "id": "9f150303-34d5-4548-a084-0c8d1a15b864",
   "metadata": {},
   "source": [
    "# Installation of R\n",
    "\n",
    "One of the advantages of R is that it is cross-platform. Below are the main steps for installing it on different operating systems.  \n",
    "\n",
    "## Microsoft Windows\n",
    "\n",
    "Follow these steps to install the software:\n",
    "\n",
    " 1. Download the executable file from the [R](http://cran.r-project.org/bin/windows/base/) project page.\n",
    " 2. Run the downloaded file.\n",
    " 3. Run the R program, now installed.\n",
    "\n",
    "## Linux\n",
    "\n",
    "From the main R page, you can access downloads for different versions of [Linux](http://cran.r-project.org/bin/linux/): Debian, Fedora, Redhat, Suse, and Ubuntu. It is recommended to follow the instructions provided on the website for each specific case.\n",
    "\n",
    "## MacOS\n",
    "\n",
    "Before proceeding with the installation of R, review the necessary requirements on the following [website](http://r.research.att.com/tools/).  \n",
    "Through this [link](http://cran.r-project.org/bin/macosx/), you can access the R installation for MacOS. Follow the instructions provided on the same webpage."
   ]
  },
  {
   "attachments": {},
   "cell_type": "markdown",
   "id": "35398c98-20de-4c63-8577-c25c0ddbb8ac",
   "metadata": {},
   "source": [
    "# Getting Started with R\n",
    "\n",
    "The objective of this first practice is for the student to learn how to use the R program.\n",
    "\n",
    "## Starting a Session\n",
    "\n",
    "After launching the program, the R user interface (R GUI, Graphical User Interface) includes the *R Console*, where the R version is displayed along with information on how to access the usage license details.\n",
    "\n",
    "<div><img alt=\"R Console\" src=\"./figuras/RConsole.png\" width=\"600\"/></div>\n",
    "\n",
    "*Figure 2: R Console*"
   ]
  },
  {
   "cell_type": "markdown",
   "id": "5309316b-c1d8-496d-ac48-4fe5a0590ca9",
   "metadata": {},
   "source": [
    "Additionally, the console provides several useful commands to obtain help regarding different R functions, such as `help()` or `help.start()`.  \n",
    "It also indicates how to exit R using the function `q()`.\n",
    "\n",
    "R is interactive, as it responds through an interpreter to the inputs received in the console. As shown in the previous figure, try executing the command *help(mean)* in the console. The complete help documentation for the `mean` function will open in a browser."
   ]
  },
  {
   "cell_type": "markdown",
   "id": "40fe9cc2-6648-4d47-bf46-bf9bdc60620f",
   "metadata": {},
   "source": [
    "# RStudio\n",
    "\n",
    "The console is not the most efficient way to work with R, as we often need to correct previously executed code, modify it, rerun it, or create our own functions. Several tools allow us to work with R in a much more user-friendly way by creating our own code files or scripts, which we can save and retrieve later. In our case, we will use the *RStudio Desktop* development environment, which allows us to work with R (as long as R is installed first) while offering many additional functionalities.\n",
    "\n",
    "[RStudio](http://rstudio.org/) is a GUI (Graphical User Interface) for R, programmed in C, cross-platform (Windows, Linux, and Mac), and open-source, developed and maintained by the company Posit PBC. This tool integrates various environments while preserving the command-based philosophy of R, adding several features that make programming in R more accessible. Another way to define RStudio is as a free and open-source Integrated Development Environment (IDE) for R.\n",
    "\n",
    "Among other things, RStudio allows us to:\n",
    "1. Open multiple scripts simultaneously.\n",
    "2. Execute code snippets by simply selecting them in the script.\n",
    "3. Display the workspace.\n",
    "4. Show the objects in the workspace.\n",
    "5. Integrate help documentation.\n",
    "6. Include additional libraries that can be activated in each session.\n",
    "\n",
    "Once R is installed on our computer, we can install RStudio easily by running the installation file [downloaded](https://posit.co/downloads/) from its official website. Additionally, RStudio can also be used in the cloud via the following link: [https://posit.cloud/](https://posit.cloud/).\n",
    "\n",
    "<div><img alt=\"RStudio Desktop\" src=\"./figuras/RStudio_en.png\" width=\"600\"/></div>\n",
    "\n",
    "*Figure 3: RStudio Desktop* \n",
    "\n",
    "As shown in the figure above, RStudio allows us to create our own code files (the command editing window in the upper-left quadrant), where we can write all our R commands. These files can be saved and reopened at any time for later use. If the command editing window does not appear when starting RStudio, it can be opened by going to the menu *File -> New File -> R script* or by clicking on the first icon on the left, which represents a blank sheet with a \"+\" symbol. This will open a blank text editor where we can start writing R commands to execute. In this first quadrant of the RStudio environment, we can have multiple R scripts open simultaneously."
   ]
  },
  {
   "cell_type": "markdown",
   "id": "a0cef577-bfec-4b04-8135-7fb66f199698",
   "metadata": {
    "editable": true,
    "slideshow": {
     "slide_type": ""
    },
    "tags": []
   },
   "source": [
    "To work in a more organized manner, whenever you use RStudio installed on your computer, it is recommended to first create a working directory for the practical exercises of this course. As a best practice, remember that directory or file names should not contain special characters such as \"ñ\", accents, or spaces, as they may cause issues when trying to open them in any programming language.\n",
    "\n",
    "In the created working directory, we will store the R code files we generate (scripts), data files, graphs, etc. Once this directory has been created on your computer, you need to open RStudio and set it as the working directory at the beginning of the session. To do this, execute the `setwd` (**set** **w**orking **d**irectory) function specifying the complete path of the directory you created, for example:\n",
    "\n",
    "```R\n",
    "setwd(\"C:/Desktop/Statistics/P0\")\n",
    "\n",
    "```\n",
    "\n",
    "You can always check the contents of the current working directory in RStudio by running the command `dir()`. In the execution window (lower-left quadrant of RStudio, see previous figure), a list of all files in that directory will be displayed.\n",
    "\n",
    "R command files have the .R extension, so every time you create an R script, you should save it with this extension. In RStudio, go to the menu *File -> Save As...*.\n",
    "\n",
    "Although this guide suggests running R code in this environment for better practice tracking, you can also execute the same commands in the RStudio you installed on your computer. Simply copy the lines of code provided here and paste them into the RStudio command window. By selecting these lines with the mouse and clicking the `Run` button in RStudio or pressing Ctrl+Enter, the commands will be executed, and the results will appear in the execution window. During the practical sessions in the classroom, you will be working directly in RStudio, so you should install both R and RStudio on your computer and get used to working within RStudio for example, by solving the exercises in this guide directly there.\n",
    "\n",
    "In any program written in any programming language, it is important to include short comments that indicate what each part of the code does. In R, comments can be added by starting a line with the **#** symbol.\n",
    "\n",
    "As an example, let's execute the following lines of code directly. These lines compute the mean value of a vector containing the numbers 1, 2, and 3. Notice how comments are written (each line starts with #) and how a data vector is created in R. Keep in mind that R is case-sensitive, so x and X will be considered different vectors."
   ]
  },
  {
   "cell_type": "code",
   "execution_count": null,
   "id": "9ec658f1-7b67-4136-bb18-5a8c1d01190f",
   "metadata": {},
   "outputs": [],
   "source": [
    "# Create a vector\n",
    "x <- c(1,2,3)\n",
    "# Compute the mean\n",
    "mean(x)"
   ]
  },
  {
   "cell_type": "markdown",
   "id": "1f19febe-a95a-4ded-abe2-f1db07f05557",
   "metadata": {},
   "source": [
    "If you run this code in the RStudio installed on your computer, the variables created while executing the R code will appear in the upper-right quadrant (Environment tab). For example, after running the previous code, `x` should appear as the name of the vector we created, indicating that it is a numeric variable (*num*) and that it contains three elements (*[1:3]*).\n",
    "\n",
    "Note that the assignment operator `<-` is not the usual operator found in other programming languages. Assignment in R consists of two characters, `<` (less than) and `-` (hyphen), which must always be combined and point toward the object receiving the value of the expression (`x` in this case). Assignment can also be performed using the `assign()` function."
   ]
  },
  {
   "cell_type": "code",
   "execution_count": null,
   "id": "d60efeea-1d3b-4218-bf97-780bdf6ae88b",
   "metadata": {},
   "outputs": [],
   "source": [
    "assign(\"x\", c(11.2, 4.5, 12.3, 7.8, 10.3))"
   ]
  },
  {
   "cell_type": "markdown",
   "id": "34885ac4-deba-4d65-a40a-db10256cdcd7",
   "metadata": {},
   "source": [
    "The usual assignment operator `<-` can be interpreted as a shorthand for the `assign()` function.\n",
    "\n",
    "Additionally, when an assignment is performed, the result does not appear in the console as it does with the code we just executed. To view the assigned value, you need to type the variable name and execute that line, or alternatively, write everything on the same line when creating a variable. Below, we illustrate both cases:"
   ]
  },
  {
   "cell_type": "code",
   "execution_count": null,
   "id": "8abc3eef-2570-406c-b578-92be702b20ab",
   "metadata": {},
   "outputs": [],
   "source": [
    "# Create a vector\n",
    "assign(\"x\", c(11.2, 4.5, 12.3, 7.8, 10.3))\n",
    "# Show the vector\n",
    "x\n",
    "# Create and display the content of the vector in a single line\n",
    "y <- c(1,2,3); y"
   ]
  },
  {
   "cell_type": "markdown",
   "id": "73ce9b57-495f-4e1b-a70b-f00d9385933a",
   "metadata": {},
   "source": [
    "Note that when executing multiple commands on the same line, they must be separated by a `;`.\n",
    "\n",
    "If an expression is used as a standalone command (i.e., it is not assigned to a variable name), its value is printed on the screen and lost since it is not stored in any variable.\n",
    "\n",
    "Thus, when executing the following command:"
   ]
  },
  {
   "cell_type": "code",
   "execution_count": null,
   "id": "3c2a87d8-cf7e-472f-b3f0-c63af6276a44",
   "metadata": {},
   "outputs": [],
   "source": [
    "1/y"
   ]
  },
  {
   "cell_type": "markdown",
   "id": "5bb01e11-94aa-4cf4-8a9e-bd79314dc5cb",
   "metadata": {},
   "source": [
    "the screen will display the inverses of the five values in the vector `y`. However, since no variable name has been assigned to store the result, it will not be saved (no new variable will appear in the Environment tab of RStudio). Of course, the value of `y` remains unchanged."
   ]
  },
  {
   "cell_type": "markdown",
   "id": "e7efa099-fc37-49a4-9dc0-2f63b7f37694",
   "metadata": {},
   "source": [
    "In the bottom-right corner of RStudio (see previous figure), there are several tabs that provide different options:\n",
    "\n",
    "1. **Files**: Displays a list of directories and files contained in the working directory.\n",
    "2. **Plot**: A window where the graphs generated during analysis are displayed.\n",
    "3. **Packages**: Lists the currently activated R packages (marked with a checkmark) as well as additional packages that are not active but can be enabled if other functions are needed that are not included in the default R installation. See the *Section on Installing and Using R Libraries* for more details.\n",
    "4. **Help**: Displays the documentation for R functions.\n",
    "5. **Viewer**: This window is used to display maps and other elements resulting from executed code.\n",
    "6. **Presentation**: Displays HTML presentations."
   ]
  },
  {
   "cell_type": "markdown",
   "id": "9d96b659-4690-4d71-bdd7-f0b063eb5b24",
   "metadata": {},
   "source": [
    "# Help in R\n",
    "\n",
    "R provides different ways to search for help depending on our needs. All help options will be displayed in the bottom-right quadrant of RStudio, under the *Help* tab. For example, try executing the following help commands in the RStudio execution window:\n",
    "\n",
    "`help()` Displays a general help window about R.\n",
    "\n",
    "`help.start()` Launches a comprehensive help manual in HTML format, using the system's default web browser.\n",
    "\n",
    "`help(mean)` Opens a help window for the `mean` function, which calculates the arithmetic mean.\n",
    "\n",
    "`?mean` Equivalent to the previous example.\n",
    "\n",
    "`help(\"[\")` Provides help on the `[` character, which is a special character in the R language.\n",
    "\n",
    "`apropos(\"mean\")` Lists functions whose names contain the specified string, in this case, `mean`.\n",
    "\n",
    "`help.search(\"mean\")` Searches for information about objects or functions related to the specified string, either in their names or in the keywords of their documentation.\n"
   ]
  },
  {
   "cell_type": "markdown",
   "id": "8358fd34-18d1-44bd-8b50-dee44ba2562b",
   "metadata": {},
   "source": [
    "# Installing and Using Libraries in R\n",
    "\n",
    "The basic installation of R, which is installed by default, contains a limited number of libraries that allow us to apply the most commonly used functions. However, in many cases, we may need to perform analyses that are not included in this basic package. Due to the open-source and collaborative nature of R, it is highly likely that another user has already addressed and solved the problem, making their solution available in the form of a library for the entire R user community, completely free of charge. Thanks to R's open and collaborative philosophy, we can directly install and use these libraries.\n",
    "\n",
    "The first step, and often the most challenging, is to search online for an available solution in an R library. If found, we may encounter one of the following situations:\n",
    "\n",
    "1. The package is available in the **CRAN** (*Comprehensive R Archive Network*) repository. This is the simplest case, as it can be installed directly from RStudio by running the command `install.packages(\"LibraryName\")`, where the library name is enclosed in quotes. Once installed, the package is loaded using the command `library(\"LibraryName\")` in the R script where it is needed. Library installation is only required the first time, but activating or loading it with the `library()` command must be done each time an R session is started if we wish to use the functions of an installed library that was not included in the basic package.\n",
    "\n",
    "2. If the package is not available in R's official repository, we need to download it locally from the website that offers it. If the package is compressed, the installation function allows loading it from the local folder where the compressed file is stored. Depending on the operating system, the compressed file will have a different extension (e.g., `.zip` in Windows), though this is usually explicitly defined. In this case, we need to run the following command:  \n",
    "   `install.packages(\"LibraryName.tar.gz\", repos=NULL, type=\"source\")`\n",
    "\n",
    "3. Finally, we may want to load a function that we have programmed ourselves or downloaded locally, but which is not a library. In this case, we can use the command `source(\"MyFunction.R\")`. The limitation of this command is that it must be reapplied every time a change is made to the function itself.\n",
    "\n",
    "As an example of the concepts explained in this section, install the *ISLR* library from CRAN using RStudio:"
   ]
  },
  {
   "cell_type": "code",
   "execution_count": null,
   "id": "4e295079-033b-4a5a-921b-6491eff52a43",
   "metadata": {},
   "outputs": [],
   "source": [
    "# Install the library\n",
    "install.packages(\"ISLR\") "
   ]
  },
  {
   "cell_type": "code",
   "execution_count": null,
   "id": "9a7e48b7-b385-4ed6-bdfc-caf59c83e2e0",
   "metadata": {},
   "outputs": [],
   "source": [
    "# Load the libreria\n",
    "library(\"ISLR\")"
   ]
  },
  {
   "cell_type": "markdown",
   "id": "2199ecc0-aedf-4ef6-8718-bd9d5f9adc6e",
   "metadata": {},
   "source": [
    "This library contains a collection of datasets used in the book *An Introduction to Statistical Learning with Applications in R* by G. James. Once the library is installed and loaded, you can view the data contained in the *Auto* dataset by executing the command `Auto`, or use the command `help(Auto)` to see a description of the data in that dataset."
   ]
  },
  {
   "cell_type": "code",
   "execution_count": null,
   "id": "22a1177c-f5fb-4c93-8575-39388799043d",
   "metadata": {},
   "outputs": [],
   "source": [
    "Auto"
   ]
  },
  {
   "cell_type": "code",
   "execution_count": null,
   "id": "8c6078db-3bdd-419e-b374-03aa76d2bb33",
   "metadata": {},
   "outputs": [],
   "source": [
    "help(Auto)"
   ]
  },
  {
   "cell_type": "markdown",
   "id": "e8a8d47b-a5a8-49b7-9d49-bb37f7dc7db6",
   "metadata": {},
   "source": [
    "As described in the help documentation, this dataset consists of 392 vehicles with 9 different variables. We will use this dataset in a later example."
   ]
  },
  {
   "cell_type": "markdown",
   "id": "7fc4c65b-5473-42d2-a763-d4c01e199297",
   "metadata": {},
   "source": [
    "# Data Types and Structures in R\n",
    "\n",
    "The most common data types in R are:\n",
    "\n",
    "1. **Numeric**: Data containing real numbers.\n",
    "2. **Logical**: Data that can only have logical values of true (`TRUE`) or false (`FALSE`).\n",
    "3. **Complex**: Data containing complex numbers.\n",
    "4. **Character**: Data containing any type of character.\n",
    "\n",
    "Using the `mode()` function in R, we can determine the data type of the following elements that we will create:"
   ]
  },
  {
   "cell_type": "code",
   "execution_count": null,
   "id": "a1eec8b5-d18a-4989-96b8-8e59b272218a",
   "metadata": {},
   "outputs": [],
   "source": [
    "# Create a numeric variable\n",
    "x1 <- 2\n",
    "mode(x1)  "
   ]
  },
  {
   "cell_type": "code",
   "execution_count": null,
   "id": "cccd3047-2dc5-4fe8-b611-6e6b2d96a2e4",
   "metadata": {},
   "outputs": [],
   "source": [
    "# Create a logical variable\n",
    "x2 <- TRUE  \n",
    "mode(x2)  "
   ]
  },
  {
   "cell_type": "code",
   "execution_count": null,
   "id": "a2299d1c-ac6c-464c-8cb3-35564b71c5ac",
   "metadata": {},
   "outputs": [],
   "source": [
    "# Create a complex variable\n",
    "x3 <- 3+4i  \n",
    "mode(x3)  "
   ]
  },
  {
   "cell_type": "code",
   "execution_count": null,
   "id": "70ea43ac-db1e-47a2-a56b-ec745751b7f6",
   "metadata": {},
   "outputs": [],
   "source": [
    "# Create a character variable\n",
    "x4 <- \"Ana\"\n",
    "mode(x4)  "
   ]
  },
  {
   "cell_type": "markdown",
   "id": "2def27ba-b5a2-4d3f-9c10-e429baefcc1b",
   "metadata": {},
   "source": [
    "R uses different data structures, which we will explore in detail in the following sections:\n",
    "\n",
    "1. **Vectors**: One-dimensional arrays that can only contain values of the same type, whether numeric, alphanumeric, or logical. As we already know, vectors are created using the `c()` function (a contraction of `combine()`).\n",
    "2. **Matrices**: A two-dimensional structure with the *dim* attribute, which defines the number of rows and columns. They are created using the `matrix()` function.\n",
    "3. **Arrays**: Similar to matrices but can have more than two dimensions.\n",
    "4. **Factors**: A special type of vector used to represent categorical variables.\n",
    "5. **Lists**: An ordered collection of data where the stored elements can be of different types and sizes.\n",
    "6. **Data Frame** (*Data Table*): A generalization of matrices, where each column can store a different data type. However, all columns must have the same length.\n",
    "\n",
    "The `class()` function, which we will use in the following sections, indicates the class to which each of these objects belongs.\n"
   ]
  },
  {
   "cell_type": "markdown",
   "id": "f8cec81c-f3de-4b11-b400-d62d99975400",
   "metadata": {},
   "source": [
    "## Vectors\n",
    "\n",
    "The simplest structure in R is the vector, which is a collection of elements of the same type. To create a vector `x` consisting of five numbers, for example, 11.2, 4.5, 12.3, 7.8, and 10.3, we use the `c()` function, separating the elements with commas:"
   ]
  },
  {
   "cell_type": "code",
   "execution_count": null,
   "id": "8222482f-1acf-40dc-bd79-e09cb502536a",
   "metadata": {},
   "outputs": [],
   "source": [
    "x <- c(11.2, 4.5, 12.3, 7.8, 10.3); x"
   ]
  },
  {
   "cell_type": "markdown",
   "id": "fb4096b5-45e5-4c5a-890a-4123dec4384c",
   "metadata": {},
   "source": [
    "A single number, by itself, is considered a vector of length one.\n",
    "\n",
    "If the following assignment is made:"
   ]
  },
  {
   "cell_type": "code",
   "execution_count": null,
   "id": "d1459b25-087c-4083-9a56-1e92547c0baf",
   "metadata": {},
   "outputs": [],
   "source": [
    "y <- c(x, 0, x)"
   ]
  },
  {
   "cell_type": "markdown",
   "id": "08dde711-c545-4af1-868b-e4cdd226d56d",
   "metadata": {},
   "source": [
    "a vector `y` will be created with 11 elements, consisting of two copies of `x` with a zero in between. \n",
    "\n",
    "Remember that when an assignment is made, the result is not printed on the screen. To view it, you need to call the newly created variable:"
   ]
  },
  {
   "cell_type": "code",
   "execution_count": null,
   "id": "791b4d60-c892-42d7-a1f4-bbb99d54ab84",
   "metadata": {},
   "outputs": [],
   "source": [
    "y"
   ]
  },
  {
   "cell_type": "markdown",
   "id": "9152116f-1555-4671-9ff4-3faae11e2d34",
   "metadata": {},
   "source": [
    "You may be interested in selecting a specific value from the vector, for example, the value 12.3 from the vector `x`. To do this, you simply need to know the position of that element in the vector and execute the following command:"
   ]
  },
  {
   "cell_type": "code",
   "execution_count": null,
   "id": "351fc7fc-661e-426b-8544-e64ce97ed784",
   "metadata": {},
   "outputs": [],
   "source": [
    "x[3]"
   ]
  },
  {
   "cell_type": "markdown",
   "id": "223c3728-ff9a-4719-8352-2a172aeb3839",
   "metadata": {},
   "source": [
    "Or retrieve the first three elements of the vector `x` using:"
   ]
  },
  {
   "cell_type": "code",
   "execution_count": null,
   "id": "8184cbed-c9a9-4d21-af4f-38f43cda8095",
   "metadata": {},
   "outputs": [],
   "source": [
    "x[1:3]"
   ]
  },
  {
   "cell_type": "markdown",
   "id": "7a8c448f-8aad-4063-b686-bd661dbabd19",
   "metadata": {},
   "source": [
    "Note that, unlike other programming languages, R reserves parentheses for executing functions, while square brackets are used to access elements of a vector, or as we will see later, elements of a matrix or an array."
   ]
  },
  {
   "cell_type": "markdown",
   "id": "5cde8ad7-ff08-4fbe-930e-75aac7be521c",
   "metadata": {},
   "source": [
    "<div class=\"alert alert-block alert-info\">\n",
    "<strong>PRACTICE ON YOUR OWN</strong>\n",
    "\n",
    "- Open a script in RStudio and use the `seq()` function (check the help documentation to see how this function works) to create the following vectors:\n",
    "\n",
    "    55, 56, 57, 58, 59  \n",
    "    1, 3, 5, 7, 9, 11  \n",
    "\n",
    "- Create a vector `x` with the following elements: 1, 3, 5, 7, and 9. Try to predict the results of the following commands before executing them:\n",
    "    1. `x > 5`\n",
    "    2. `which(x > 5)`\n",
    "    3. `sum(x > 5)`\n",
    "    4. `sum(x[x > 5])`\n",
    "      \n",
    "- Using the vector `x` created in the previous exercise:\n",
    "    1. Extract the element in position 2 of `x`.\n",
    "    2. Extract, using a single command, the three elements of `x` that occupy positions 2 to 4.\n",
    "</div>"
   ]
  },
  {
   "cell_type": "markdown",
   "id": "a0cd07f5-2aa4-4759-99b1-f3f0ec1dbab0",
   "metadata": {},
   "source": [
    "### Logical Vectors\n",
    "\n",
    "In addition to numeric vectors, R allows the manipulation of logical values. The elements of a logical vector can have the values `TRUE`, `FALSE`, and `NA` (for \"Not Available\")."
   ]
  },
  {
   "cell_type": "code",
   "execution_count": null,
   "id": "fa2ebd60-135d-4f6c-9e91-ecfe1f0cc5e9",
   "metadata": {},
   "outputs": [],
   "source": [
    "x <- seq(1,10,2); x\n",
    "class(x)"
   ]
  },
  {
   "cell_type": "code",
   "execution_count": null,
   "id": "13484b07-e3b7-4091-bd1c-66f1e98fb742",
   "metadata": {},
   "outputs": [],
   "source": [
    "c1 <- x>6; c1 # Logical vector. Indicates the values of x that meet or don't meet the condition"
   ]
  },
  {
   "cell_type": "code",
   "execution_count": null,
   "id": "f35428a3-62a6-4d4f-a1b9-dba44fb8ded4",
   "metadata": {},
   "outputs": [],
   "source": [
    "c2 <- x==7; c2"
   ]
  },
  {
   "cell_type": "markdown",
   "id": "1e317cef-33e4-4efb-a595-f7a7c158f88a",
   "metadata": {},
   "source": [
    "Logical operators include `<`, `<=`, `>`, `>=`, `==` for exact equality, and `!=` for inequality. \n",
    "\n",
    "Additionally, if `c1` and `c2` are logical expressions:\n",
    "- `c1 & c2` represents their intersection (i.e., elements that are in both `c1` **and** `c2`).\n",
    "- `c1 | c2` represents their union (i.e., elements that are in either `c1` **or** `c2`).\n",
    "- `!c1` represents the negation of `c1`."
   ]
  },
  {
   "cell_type": "code",
   "execution_count": null,
   "id": "b183942f-3de8-45e4-9751-d7101be3c21e",
   "metadata": {},
   "outputs": [],
   "source": [
    "c1&c2 # Logical vector. Indicates with TRUE the values of x that are in both logical vectors."
   ]
  },
  {
   "cell_type": "code",
   "execution_count": null,
   "id": "096921d4-0a0f-4f56-a854-eb1194431650",
   "metadata": {},
   "outputs": [],
   "source": [
    "x[c1&c2] # Shows the values of x that meet both conditions."
   ]
  },
  {
   "cell_type": "code",
   "execution_count": null,
   "id": "dd05171f-ccd0-4895-8b96-cc976dc5df35",
   "metadata": {},
   "outputs": [],
   "source": [
    "c1|c2 # Logical vector. Indicates whether the values of x meet one condition or the other."
   ]
  },
  {
   "cell_type": "code",
   "execution_count": null,
   "id": "bdbb1e99-d323-4ef4-8517-20dd9d2b31e3",
   "metadata": {},
   "outputs": [],
   "source": [
    "x[c1|c2] # Shows the values of x that meet either condition."
   ]
  },
  {
   "cell_type": "markdown",
   "id": "3672d1e3-52c9-46ff-aba3-bc7ef8523e49",
   "metadata": {},
   "source": [
    "Logical vectors can be used in ordinary arithmetic, in which case they are converted into numeric vectors:  \n",
    "- FALSE is converted to 0.  \n",
    "- TRUE is converted to 1.\n",
    "  \n",
    "For example, based on the previous results, we can determine the number of elements in `x` that are greater than 6 in several ways:"
   ]
  },
  {
   "cell_type": "code",
   "execution_count": null,
   "id": "3ee0a0b0-21aa-4530-b41d-cb9cc32d7ad4",
   "metadata": {},
   "outputs": [],
   "source": [
    "sum(c1)"
   ]
  },
  {
   "cell_type": "code",
   "execution_count": null,
   "id": "72d6320e-6891-4e0e-abac-61ff21166b46",
   "metadata": {},
   "outputs": [],
   "source": [
    "sum(x>6)"
   ]
  },
  {
   "cell_type": "markdown",
   "id": "9c8ff5ff-5872-4a02-af59-7089b806830d",
   "metadata": {},
   "source": [
    "Note that the command:"
   ]
  },
  {
   "cell_type": "code",
   "execution_count": null,
   "id": "aa60b6d9-02b9-40eb-94e5-24b4265185ed",
   "metadata": {},
   "outputs": [],
   "source": [
    "length(c1)"
   ]
  },
  {
   "cell_type": "markdown",
   "id": "0f8ef32a-cc60-46bc-9158-c4f7b02c3c72",
   "metadata": {},
   "source": [
    "returns 5, which is the length of vector c1, regardless of whether the values are TRUE or FALSE.\n",
    "\n",
    "We can find the positions of the values in x that are greater than or equal to 6 using the command:"
   ]
  },
  {
   "cell_type": "code",
   "execution_count": null,
   "id": "f17bf812-924b-43e5-a655-224e558a891e",
   "metadata": {},
   "outputs": [],
   "source": [
    "which(x>=6)"
   ]
  },
  {
   "cell_type": "markdown",
   "id": "0a9acb2b-07e0-44e4-b4ec-2441ef321585",
   "metadata": {},
   "source": [
    "The elements of x that correspond to positions 4 and 5 (and are therefore greater than or equal to 6) can be obtained with either of the following commands:"
   ]
  },
  {
   "cell_type": "code",
   "execution_count": null,
   "id": "0e286495-c61b-4bdc-8855-3c958bbb0971",
   "metadata": {},
   "outputs": [],
   "source": [
    "x[which(x>=6)]"
   ]
  },
  {
   "cell_type": "code",
   "execution_count": null,
   "id": "07f0205c-b70b-4cfd-b4aa-80bdd1b63ebf",
   "metadata": {},
   "outputs": [],
   "source": [
    "x[c1]"
   ]
  },
  {
   "cell_type": "markdown",
   "id": "2f705b5d-9e64-4675-9aa4-82e061d896c7",
   "metadata": {},
   "source": [
    "The functions `sum()`, `length()`, and `which()` will be used frequently in this course, so it is important to become familiar with them.\n",
    "\n",
    "### Character Vectors\n",
    "\n",
    "Characters and character vectors are commonly used in R, for example, as figure labels. When needed, they are indicated using a sequence of characters enclosed in quotation marks, such as:"
   ]
  },
  {
   "cell_type": "code",
   "execution_count": null,
   "id": "9de1d9ae-674e-4807-bc70-2b2b18e3a61d",
   "metadata": {},
   "outputs": [],
   "source": [
    "labs <- c(\"X\", \"Y\", \"Z\"); labs\n",
    "class(labs)"
   ]
  },
  {
   "cell_type": "markdown",
   "id": "06d03bf1-c3c1-4b18-92c0-29957b93627b",
   "metadata": {},
   "source": [
    "## Matrices\n",
    "\n",
    "Another common data structure is the matrix. We can create a matrix using the following syntax:"
   ]
  },
  {
   "cell_type": "code",
   "execution_count": null,
   "id": "f4e8ee15-3577-4391-afcd-74d7d39b803f",
   "metadata": {},
   "outputs": [],
   "source": [
    "M <- matrix(c(1,2,3,4,5,6), nrow=2, ncol=3);M\n",
    "class(M)"
   ]
  },
  {
   "cell_type": "markdown",
   "id": "0e714e75-38f2-48cb-8e42-dbf852ee166d",
   "metadata": {},
   "source": [
    "Just like with vectors, we can select elements from the matrix by specifying their row and column indices within square brackets, separated by a comma. For example:"
   ]
  },
  {
   "cell_type": "code",
   "execution_count": null,
   "id": "60ae09e4-8708-42fe-b0b6-2e0125464d54",
   "metadata": {},
   "outputs": [],
   "source": [
    "# Select values in row 2\n",
    "M[2,]"
   ]
  },
  {
   "cell_type": "code",
   "execution_count": null,
   "id": "8b2b633b-62b6-4122-9e76-bf6562cb53aa",
   "metadata": {},
   "outputs": [],
   "source": [
    "# Select values in column 3\n",
    "M[,3]"
   ]
  },
  {
   "cell_type": "code",
   "execution_count": null,
   "id": "432f57fd-b46a-41d5-934d-5811a597d0b9",
   "metadata": {},
   "outputs": [],
   "source": [
    "# Element in first row, second column\n",
    "M[1,2]"
   ]
  },
  {
   "cell_type": "markdown",
   "id": "60562cf5-8659-4169-9af0-189415882e15",
   "metadata": {},
   "source": [
    "Vectors and matrices can be used in arithmetic expressions, in which case the operations are performed element-wise. The basic arithmetic operators are the usual `+, -, *, /`, and `^` for exponentiation. Additionally, functions such as `log()`, `exp()`, `sin()`, `cos()`, `tan()`, and `sqrt()` are available, with `sqrt()` being the function that calculates the square root. As seen when executing the following commands, operations are applied to each element individually."
   ]
  },
  {
   "cell_type": "code",
   "execution_count": null,
   "id": "78d368ed-83b9-4361-9e95-d52a05803dd5",
   "metadata": {},
   "outputs": [],
   "source": [
    "1/x"
   ]
  },
  {
   "cell_type": "code",
   "execution_count": null,
   "id": "f1e9d7a8-8aaa-4cb8-9a66-e76a549ea494",
   "metadata": {},
   "outputs": [],
   "source": [
    "M*M"
   ]
  },
  {
   "cell_type": "code",
   "execution_count": null,
   "id": "4264fc72-ac66-4ad8-9cdd-5dd9092d85e4",
   "metadata": {},
   "outputs": [],
   "source": [
    "exp(x)"
   ]
  },
  {
   "cell_type": "markdown",
   "id": "a0ad1208-92cb-43d2-8343-baeeec522909",
   "metadata": {},
   "source": [
    "There are many more functions available, such as:\n",
    "- `max(x)`: Returns the largest element in a vector x.\n",
    "- `min(x)`: Returns the smallest element in a vector x.\n",
    "- `range(x)`: Returns a two-element vector containing the minimum and maximum values.\n",
    "- `length(x)`: Returns the number of elements (length) of x.\n",
    "- `sum(x)`: Computes the sum of all elements in x.\n",
    "- `prod(x)`: Computes the product of all elements in x.\n",
    "- `sort(x)`: Sorts the elements of x in ascending order.\n",
    "\n",
    "As mentioned earlier, more information about these functions can be obtained using the `help()` command."
   ]
  },
  {
   "cell_type": "markdown",
   "id": "410861f6-e337-49c8-96ee-6d86b887f3db",
   "metadata": {
    "editable": true,
    "slideshow": {
     "slide_type": ""
    },
    "tags": []
   },
   "source": [
    "<div class=\"alert alert-block alert-info\">\n",
    "<strong>PRACTICE ON YOUR OWN</strong>\n",
    "    \n",
    "- In an RStudio script, create the following data matrix: `m <- matrix(1:15, nrow=3)` and try to predict the results of the following commands before executing them:\n",
    "    1. `dim(m)`\n",
    "    2. `ncol(m)`\n",
    "    3. `nrow(m)`\n",
    "    4. `which(m >= 5 & m <= 8)`\n",
    "\n",
    "- Using the matrix created in the previous exercise:\n",
    "    1. Extract the first row.\n",
    "    2. Extract the second element of the third column.\n",
    "</div>"
   ]
  },
  {
   "cell_type": "markdown",
   "id": "626d2cb1-e5e5-4073-8ffe-9d11e35a429b",
   "metadata": {},
   "source": [
    "## Arrays\n",
    "\n",
    "Arrays in R are objects that can store data of the same type in more than two dimensions. For example, we can create the following three-dimensional array:"
   ]
  },
  {
   "cell_type": "code",
   "execution_count": null,
   "id": "b7c0cbc7-baef-4849-bac7-c443d60dd56b",
   "metadata": {},
   "outputs": [],
   "source": [
    "x <- seq(1,36,2)\n",
    "arr <- array(x, dim = c(3,3,2))\n",
    "class(arr) \n",
    "dim(arr)   "
   ]
  },
  {
   "cell_type": "markdown",
   "id": "7e93211f-b115-43d2-bd9d-81632c9074eb",
   "metadata": {},
   "source": [
    "To select elements from an array, we follow the same approach as with matrices but considering all its dimensions. For example, we can retrieve the element in the first row, third column, and second position of the third dimension using:"
   ]
  },
  {
   "cell_type": "code",
   "execution_count": null,
   "id": "ab7db4f3-b615-4188-a51d-0efe264e251e",
   "metadata": {},
   "outputs": [],
   "source": [
    "arr[1,3,2] "
   ]
  },
  {
   "cell_type": "markdown",
   "id": "cc8c0572-cdd9-4531-82f7-2969db223edf",
   "metadata": {},
   "source": [
    "Or retrieve all elements from the second column by executing the command:"
   ]
  },
  {
   "cell_type": "code",
   "execution_count": null,
   "id": "ed8f84c8-23d8-4a69-a3bd-250cf9cee264",
   "metadata": {},
   "outputs": [],
   "source": [
    "arr[,2,]   "
   ]
  },
  {
   "cell_type": "markdown",
   "id": "b0fefb07-b1f5-4d15-9ce2-74ea2e282e57",
   "metadata": {},
   "source": [
    "## Factors\n",
    "\n",
    "Factors are special types of vectors used to represent categorical variables. Categorical variables take a small number of possible values (categories) that are identified using labels.\n",
    "\n",
    "To convert a vector into a factor, we use the `factor()` function. For example, consider a dataset containing a group of people with their name, age, and level of physical activity:"
   ]
  },
  {
   "cell_type": "code",
   "execution_count": null,
   "id": "5ec9d4c3-404c-4a55-b174-20b09e75eb14",
   "metadata": {},
   "outputs": [],
   "source": [
    "names <- c(\"ana\", \"luis\", \"elena\", \"amparo\", \"blanca\", \"ana\", \"blanca\", \"luis\")\n",
    "age <- c(23, 24, 45, 67, 32, 56, 78, 45)\n",
    "activity <- c(\"low\", \"medium\", \"medium\", \"medium\", \"high\", \"high\", \"low\", \"medium\")"
   ]
  },
  {
   "cell_type": "markdown",
   "id": "95eadf5a-bb40-4ccd-8231-1913ef94ca74",
   "metadata": {},
   "source": [
    "The vectors activity and name are non-numeric variables that we can categorize by transforming them into factors using the `factor()` function. As an example, we transform the activity vector by executing the following commands:"
   ]
  },
  {
   "cell_type": "code",
   "execution_count": null,
   "id": "131ff4d2-b507-423b-9d38-092253ae9095",
   "metadata": {},
   "outputs": [],
   "source": [
    "class(activity) \n",
    "factivity <- factor(activity); factivity # transformamos a factor\n",
    "class(factivity) # devuelve la clase de la variable transformada a factor (\"factor\")"
   ]
  },
  {
   "cell_type": "markdown",
   "id": "a06a88de-0a54-4e47-88c6-84d6ecb265e7",
   "metadata": {},
   "source": [
    "We can see that the class of this vector has changed from *character* to *factor*.\n",
    "\n",
    "The activity variable contains three categories, which R, by default, orders alphabetically when converted to a factor, as observed in the `Levels` label of the factivity variable (alta, baja, media). However, this order is incorrect since, as an ordinal variable, the categories should be arranged from the lowest to the highest activity level (high, low, medium). We can change the order of the categories using the `ordered()` function. This adjustment is made by executing the following commands:"
   ]
  },
  {
   "cell_type": "code",
   "execution_count": null,
   "id": "a474abaa-bb85-4acf-9d16-287ba9ee4f16",
   "metadata": {
    "scrolled": true
   },
   "outputs": [],
   "source": [
    "ordered_activity <- ordered(factivity, levels=c( \"low\", \"medium\", \"high\"))\n",
    "ordered_activity"
   ]
  },
  {
   "cell_type": "markdown",
   "id": "de635925-7640-473c-9a80-373087e12436",
   "metadata": {},
   "source": [
    "Now, `Levels` are correctly ordered from lowest to highest.\n",
    "\n",
    "Setting the correct order of categories in ordinal variables is important because it affects their potential usage in later analyses. For example, observe the difference between drawing a bar plot for the `activity` variable and one for the `ordered_activity` variable:"
   ]
  },
  {
   "cell_type": "code",
   "execution_count": null,
   "id": "e0d782aa-2226-4bcc-8c60-b1edad56da7b",
   "metadata": {},
   "outputs": [],
   "source": [
    "barplot(table(activity))\n",
    "barplot(table(ordered_activity))"
   ]
  },
  {
   "cell_type": "markdown",
   "id": "493c6f85-9137-4066-b944-af32391350c5",
   "metadata": {},
   "source": [
    "The second plot is correct because the horizontal axis displays the categories in the correct order, from lowest to highest."
   ]
  },
  {
   "cell_type": "markdown",
   "id": "4fc94f05-f643-4779-a576-db25b06c4aed",
   "metadata": {},
   "source": [
    "## Lists\n",
    "\n",
    "As we have seen before, a vector cannot contain different types of data. For this purpose, lists are used. A list is a data structure that contains a set of indexed elements that can be of different types (character, numeric, etc.). Generally, each object in the list is identified by a name and can contain a different number of elements. Let's look at an example:"
   ]
  },
  {
   "cell_type": "code",
   "execution_count": null,
   "id": "fc7b8959-07cc-4b01-af95-6879fb6c3d8a",
   "metadata": {},
   "outputs": [],
   "source": [
    "student_list <- list(group=1, students=c(\"Maria\", \"Juan\", \"Adela\"), labs=3, marks=c(8, 7.5, 8.7))\n",
    "class(student_list) # Class \"list\"\n",
    "str(student_list)   # Display the objects it contains"
   ]
  },
  {
   "cell_type": "markdown",
   "id": "ff764b57-5af7-4bf5-8cd8-0ef628e2a6a4",
   "metadata": {},
   "source": [
    "The `str()` command displays the information contained in the list in a very compact format.\n",
    "\n",
    "The elements of a list can be accessed using the `$` operator or double square brackets `[[ ]]`:"
   ]
  },
  {
   "cell_type": "code",
   "execution_count": null,
   "id": "9be39acc-b6e7-4b6a-9042-b18c70710ce6",
   "metadata": {},
   "outputs": [],
   "source": [
    "student_list$students\n",
    "student_list[[2]] "
   ]
  },
  {
   "cell_type": "markdown",
   "id": "ca5998f9-aefc-40ac-b23f-560ac5c4778a",
   "metadata": {},
   "source": [
    "## Data Frame\n",
    "\n",
    "A data frame is a two-dimensional data object (rows and columns), a generalization of matrices where each column can contain different data types while maintaining the same length across all columns. It closely resembles a data table in any standard statistical package. Data frames are created using the `data.frame()` function. \n",
    "\n",
    "In a data frame, text vectors are automatically converted into factors, where the number of categories or levels is determined by the number of unique values in the vector.\n",
    "\n",
    "Let's define a data frame using the dataset of the group of students mentioned earlier. Note that each variable is assigned a specific name, which will become the column name in the data frame:"
   ]
  },
  {
   "cell_type": "code",
   "execution_count": null,
   "id": "fc7f29db-3a46-4eda-be23-9e5fe2aeb384",
   "metadata": {},
   "outputs": [],
   "source": [
    "student_dat <- data.frame(Name=names, Age=age, Activity=ordered_activity)\n",
    "student_dat"
   ]
  },
  {
   "cell_type": "markdown",
   "id": "1af2cd7a-7862-4730-810b-553fa97e708d",
   "metadata": {},
   "source": [
    "When executing the name of the created data frame, we can see the data it contains along with the assigned column names: *Name*, *Age*, and *Activity*.\n",
    "\n",
    "We can select specific columns from a data frame using square brackets, similar to how we select elements in a matrix. For example, the command `student_dat[,2]` would display the values in the *Age* column.\n",
    "\n",
    "Another way to access a column in a data frame is by using the `$` operator, followed by the name of the column. For example, by executing the following command:"
   ]
  },
  {
   "cell_type": "code",
   "execution_count": null,
   "id": "b2541d33-9fa2-4d8e-8e20-2c543105caa8",
   "metadata": {},
   "outputs": [],
   "source": [
    "student_dat$Name"
   ]
  },
  {
   "cell_type": "markdown",
   "id": "5cf74886-b00e-4a51-8e57-32ecaa1cf7af",
   "metadata": {},
   "source": [
    "we would obtain the values from the *Nombre* column.\n",
    "\n",
    "If we want to add other variables to a data frame, we simply need to define a new vector of the same length as the existing columns. For example, let's create a vector with the weights and assign it as a new column in the data frame using the following approach:"
   ]
  },
  {
   "cell_type": "code",
   "execution_count": null,
   "id": "ec4166b6-f90f-4291-a083-aca043e0b00e",
   "metadata": {},
   "outputs": [],
   "source": [
    "weights <- c(56, 67, 87, 68, 79, 75, 76, 57) # Vector con los pesos\n",
    "student_dat$Weight <- weights # Incluye una nueva columna llamada Peso en el data frame datos\n",
    "student_dat"
   ]
  },
  {
   "cell_type": "markdown",
   "id": "00fe4c0a-2f64-4d2a-88d8-eb5cb655eb9e",
   "metadata": {},
   "source": [
    "To edit a defined data frame, we can use the function `edit(dataframe)`. However, the most common way to define a data frame in R is by loading a file that already contains the data, as we will see later.\n",
    "\n",
    "For example, the `Auto` dataset, which was previously loaded from the ISLR library, is a data frame:"
   ]
  },
  {
   "cell_type": "code",
   "execution_count": null,
   "id": "86fc59b9-0d96-42ce-956f-9454f02ecf61",
   "metadata": {},
   "outputs": [],
   "source": [
    "class(Auto)"
   ]
  },
  {
   "cell_type": "markdown",
   "id": "b880cfc4-ce47-4ea4-8073-029ff548419f",
   "metadata": {},
   "source": [
    "Since this data frame contains many rows, we can use the `head()` function to display only the first few rows and get an overview of the variables it contains."
   ]
  },
  {
   "cell_type": "code",
   "execution_count": null,
   "id": "363e2de8-4759-4739-8385-b7deb413fdce",
   "metadata": {},
   "outputs": [],
   "source": [
    "head(Auto) "
   ]
  },
  {
   "cell_type": "markdown",
   "id": "14b0e7ba-a312-4bb1-9dce-0deaf5412da8",
   "metadata": {},
   "source": [
    "We may also want to access a specific variable within the data frame and perform arithmetic operations on it, provided it is a numeric variable. For example, we can calculate the average number of cylinders using the `mean()` function:"
   ]
  },
  {
   "cell_type": "code",
   "execution_count": null,
   "id": "6d8a021d-c1b3-4bed-bcef-129730066df1",
   "metadata": {},
   "outputs": [],
   "source": [
    "class(Auto$cylinders)\n",
    "mean(Auto$cylinders)"
   ]
  },
  {
   "cell_type": "markdown",
   "id": "437a0f41-7630-43c9-8013-2fca20404e21",
   "metadata": {},
   "source": [
    "By applying the `attach()` command to a data frame, its columns become individual vector-type variables, simplifying the previous code where we used the `$` operator to access data frame variables. However, in each R session, **the `attach()` function should only be executed once per data frame**.\n",
    "\n",
    "The `detach()` command reverses the effect of `attach()` and should be executed once the analysis of that data frame is complete, ensuring that the variables are no longer loaded in the R session."
   ]
  },
  {
   "cell_type": "code",
   "execution_count": null,
   "id": "947ae91b-d3d3-4dda-b2d5-5dbf57d8ece0",
   "metadata": {},
   "outputs": [],
   "source": [
    "attach(Auto)"
   ]
  },
  {
   "cell_type": "code",
   "execution_count": null,
   "id": "8d32823a-5bc6-45e2-a251-b8402c824c69",
   "metadata": {},
   "outputs": [],
   "source": [
    "mean(cylinders) "
   ]
  },
  {
   "cell_type": "markdown",
   "id": "ed0b4a4d-7fad-41fb-9a3c-c30f557b22c6",
   "metadata": {},
   "source": [
    "As we can see, once the `attach` command is applied to the Auto data frame, we can refer to variables directly by their column names instead of writing `Auto$cylinders`.\n",
    "\n",
    "Working with the variables in this dataset, we can determine, for example, the number of vehicles that have 6 or more cylinders:"
   ]
  },
  {
   "cell_type": "code",
   "execution_count": null,
   "id": "cda36969-08c1-4664-bf17-e97157090aa4",
   "metadata": {},
   "outputs": [],
   "source": [
    "sum(cylinders>=6)"
   ]
  },
  {
   "cell_type": "markdown",
   "id": "a1caa15c-d30b-47aa-8819-371e072a69bd",
   "metadata": {},
   "source": [
    "Or the percentage of *toyota corolla* cars:"
   ]
  },
  {
   "cell_type": "code",
   "execution_count": null,
   "id": "e9d57e2f-4ccb-423f-a8a7-be6a7071eaec",
   "metadata": {},
   "outputs": [],
   "source": [
    "sum(name==\"toyota corolla\")/length(name)*100\n",
    "round_val <- round(sum(name==\"toyota corolla\")/length(name)*100, 2); round_val # Redondeamos el valor anterior a dos decimales\n",
    "sprintf(\"La muestra contiene un %s%% de coches Toyota Corolla\", round_val) # Permite escribir el resultado con un formato"
   ]
  },
  {
   "cell_type": "markdown",
   "id": "7cb01d71-6994-43a9-a1e8-ceb6de9affac",
   "metadata": {},
   "source": [
    "Pay close attention to the output of executing `cylinders >= 6` and `name == 'toyota corolla'`."
   ]
  },
  {
   "cell_type": "code",
   "execution_count": null,
   "id": "f4e52caf-22fa-46ee-893f-576ca62cfd6f",
   "metadata": {},
   "outputs": [],
   "source": [
    "cylinders>=6 \n",
    "name=='toyota corolla'"
   ]
  },
  {
   "cell_type": "markdown",
   "id": "829499f1-e6f2-4ba9-b61c-85b854f1999d",
   "metadata": {},
   "source": [
    "In both cases, we obtain a vector of logical values (`TRUE/FALSE`), depending on whether each vehicle meets the corresponding condition. As we already know, when applying the `sum()` function to a logical vector, TRUE is considered as 1 and FALSE as 0, resulting in the number of cases that satisfy the condition.\n",
    "\n",
    "Generating vectors of this type is very useful for selecting groups of individuals that meet a specific condition within a dataset, and it will be used frequently in future exercises. \n",
    "\n",
    "For example, we can obtain the names of vehicles that have 6 or more cylinders and are from the year 1970 using:"
   ]
  },
  {
   "cell_type": "code",
   "execution_count": null,
   "id": "ea8248c3-3542-4bfb-9d76-03c3887c83e1",
   "metadata": {
    "scrolled": true
   },
   "outputs": [],
   "source": [
    "name[cylinders>=6 & year==70] \n",
    "detach(Auto)"
   ]
  },
  {
   "cell_type": "markdown",
   "id": "835dc46e-50e7-467c-9c18-f5b39bd945d0",
   "metadata": {},
   "source": [
    "Note that in the previous command, we used `&` to concatenate two conditions."
   ]
  },
  {
   "cell_type": "markdown",
   "id": "eaa73967-18f2-48bf-a8a4-ef8f4e7b86bb",
   "metadata": {},
   "source": [
    "<div class=\"alert alert-block alert-info\">\n",
    "<strong>PRACTICE ON YOUR OWN</strong>\n",
    "    \n",
    "In a new RStudio script, create a new data frame called *students* with the following variables. Analyze whether each variable type is appropriate (numeric, categorical), and if not, correct it accordingly.\n",
    "<div><img alt=\"\" src=\"./figuras/tabla_alumnos_en.png\" width=\"200\"/></div>\n",
    "\n",
    "Using the generated data frame, analyze the results of the following commands:\n",
    "1. `students[2,]`\n",
    "2. `students[3,4]`\n",
    "3. `students[students$Age > 20, ]`\n",
    "\n",
    "What is the difference between executing `students[Age > 20,]` and `Age[Age > 20]`?  \n",
    "Remember that to reference the *Age* column directly, you need to execute `attach(students)` first.\n",
    "\n",
    "What is obtained when executing the command `Height[Age > 20 & Sex == \"M\"]`?\n",
    "\n",
    "Don't forget to run `detach(students)` when you have finished working with this data frame.\n",
    "</div>\n",
    "\n"
   ]
  },
  {
   "cell_type": "markdown",
   "id": "4901f148-2c15-4a49-ad4d-8b65ef3141b5",
   "metadata": {},
   "source": [
    "# Creating Functions\n",
    "\n",
    "Users can create their own functions to perform specific tasks. Additionally, these functions can be grouped into packages and made available for all sessions. The syntax is straightforward:"
   ]
  },
  {
   "cell_type": "markdown",
   "id": "f6421fc1-58ea-42ca-bba7-8ba5fd06e7e8",
   "metadata": {},
   "source": [
    "<div><img alt=\"\" src=\"./figuras/funcion_en.png\" width=\"400\"/></div>"
   ]
  },
  {
   "cell_type": "markdown",
   "id": "2b20df65-a9c9-4ade-809d-22582e2ae9ad",
   "metadata": {},
   "source": [
    "For example:"
   ]
  },
  {
   "cell_type": "code",
   "execution_count": null,
   "id": "ce16f9eb-aa74-4ccd-8493-79d8c2cef463",
   "metadata": {},
   "outputs": [],
   "source": [
    "first_function <- function(x){\n",
    "  f <- sqrt(1-exp(-x^2))\n",
    "  return (f)\n",
    "}"
   ]
  },
  {
   "cell_type": "markdown",
   "id": "2ca1216b-a484-44df-8829-1809708888c9",
   "metadata": {},
   "source": [
    "Once the created function is saved in a file, the command `source(\"first_function.R\")` will allow us to use it whenever needed. \n",
    "\n",
    "Note that if the function is not saved in the current working directory, when calling the function with the `source` command, we must specify the full path where the file is stored:  \n",
    "`source(\"working_directory_path/first_function.R\")`.  \n",
    "\n",
    "As mentioned earlier, it is recommended to create a dedicated working directory for the exercises, where all related files can be saved. Using the `setwd()` function to set this directory as the working directory in the current R session simplifies the code, as we won’t need to specify the full path every time we want to call a custom function, open a data file, save a figure, etc.\n",
    "\n",
    "Now, let's apply the previously defined function to the value 3 as follows:"
   ]
  },
  {
   "cell_type": "code",
   "execution_count": null,
   "id": "0681d146-4b2c-4b32-ba92-f1c11b05cb2b",
   "metadata": {},
   "outputs": [],
   "source": [
    "first_function(3)"
   ]
  },
  {
   "cell_type": "markdown",
   "id": "5b8f829f-dcc3-4ada-aab5-e591e8dd709b",
   "metadata": {},
   "source": [
    "<div class=\"alert alert-block alert-info\">\n",
    "<strong>PRACTICE ON YOUR OWN</strong>\n",
    "\n",
    "Create a function that calculates the solutions of a quadratic equation. Then, test it using the equation:  \n",
    "$x^2+5x-16=0$\n",
    "</div>"
   ]
  },
  {
   "cell_type": "markdown",
   "id": "e58507e3-62e8-4b27-87c6-294b53967c78",
   "metadata": {},
   "source": [
    "# Working with Data Files in R\n",
    "\n",
    "R provides different functions to open data files, and it is essential to know them since the choice of function depends on the format of the file being used. Below, we analyze different cases.\n",
    "\n",
    "## Loading Data (.rda Files)\n",
    "\n",
    "In R, data can be loaded directly from files using R's own format. These files have the **.rda** extension. The `load()` function allows us to import data stored in this type of file.\n",
    "\n",
    "As an example, let's load data from the file *pulsations.rda*, which is available on the course webpage. The filename must be enclosed in quotation marks. Remember that if the file is not located in our working directory, we must specify the full path. However, it is always best to set the working directory at the beginning of each script using `setwd()`."
   ]
  },
  {
   "cell_type": "code",
   "execution_count": null,
   "id": "2889016b-272a-4984-9d44-e3c4e98138f8",
   "metadata": {},
   "outputs": [],
   "source": [
    "# Establecemos directorio de trabajo\n",
    "setwd(\"data/\") \n",
    "# Cargamos los datos\n",
    "load(\"pulsations.rda\") \n",
    "# Muestra cabecera del data frame\n",
    "head(pulsations)"
   ]
  },
  {
   "cell_type": "markdown",
   "id": "6d25787e-2942-497a-9acb-4d99d5640eb1",
   "metadata": {},
   "source": [
    "When you run this command from RStudio, the *Global Environment* pane in the upper-right corner will display the data frame *pulsations*, which contains records for 92 individuals across different variables (you can view the content by double-clicking on *pulsations*).\n",
    "\n",
    "In this dataset, some individuals were asked to run for a certain period, while others were not. The first column (*Pulse1*) contains heart rate data for each individual at the beginning of the test, while the second column (*Pulsoe*) records the heart rate at the end of the test. The third column (*Run*) indicates whether the individual was in the running group or not. The fourth column (*Smoke*) shows whether the individual smokes or not, and the fifth column (*Sex*) indicates whether the individual is male or female. The sixth (*Height*) and seventh (*Weight*) columns record the height (cm) and weight (kg) of each individual, respectively. Lastly, the eighth column (*Activity*) indicates the type of physical activity the individual typically engages in daily: low, medium, or high.\n",
    "\n",
    "Additionally, in RStudio, you can open an `.rda` file directly from the *File* menu using the *Open File* option, but the function associated with this action will not be saved in your script. Therefore, it is always recommended to use the `load()` function."
   ]
  },
  {
   "cell_type": "markdown",
   "id": "741a8a1d-9fb5-4d6e-8077-1c33f251d298",
   "metadata": {},
   "source": [
    "## Importing Data\n",
    "\n",
    "To use data stored in ASCII format (e.g., with `.csv` or `.txt` extensions), which are not native R data files, we need to import these data by specifying certain characteristics about the format in which the data is stored. Among other things, we need to know if the file has headers with the column names, how the columns are separated (spaces, commas, semicolons, etc.), or what character is used to represent the decimal (a point or a comma). \n",
    "\n",
    "For this, RStudio allows us to view the file's content (without loading the data) through the *Open* option in the *File* menu. Another way to view the file's content is to use a text editor, such as Notepad.\n",
    "\n",
    "Once we know the format in which the data is stored, we can use one of the following functions to import the data, paying special attention to the arguments we need to specify for each function.\n",
    "\n",
    "A commonly used function to import non-native R files is `read.table()`. This function automatically converts the data into a data frame. \n",
    "\n",
    "Let’s now import the data from the file *santander.txt*, which is available on the course website, and assign a name to the data frame. This file contains the monthly average temperature data measured in Santander from 1950 to 2003."
   ]
  },
  {
   "cell_type": "code",
   "execution_count": null,
   "id": "51b0ed7b-9d44-46d0-8e22-b5f7a3dd46c7",
   "metadata": {},
   "outputs": [],
   "source": [
    "santander1 <- read.table(\"santander.txt\"); head(santander1)"
   ]
  },
  {
   "cell_type": "code",
   "execution_count": null,
   "id": "20cb26fb-a99a-4005-8033-7f5031145231",
   "metadata": {},
   "outputs": [],
   "source": [
    "santander2 <- read.table(\"santander.txt\", header=TRUE); head(santander2)"
   ]
  },
  {
   "cell_type": "markdown",
   "id": "b170ee19-2c04-4bdd-aa83-0593b234cb67",
   "metadata": {},
   "source": [
    "Compare the results of the two previous commands. Pay close attention to the differences and indicate which one is correct and why.\n",
    "\n",
    "If you consult the help documentation for `read.table()`, the following appears in the first few lines:"
   ]
  },
  {
   "cell_type": "markdown",
   "id": "8b305a3c-b626-44fc-9d00-f7e98baa05c4",
   "metadata": {},
   "source": [
    "<div><img alt=\"\" src=\"./figuras/help_readtable.png\" width=\"700\"/></div>"
   ]
  },
  {
   "cell_type": "markdown",
   "id": "ba8bd8f4-8423-40d0-ae71-86f3e363439d",
   "metadata": {},
   "source": [
    "The *header* argument should be set to TRUE or FALSE depending on whether the first row of the file contains the variable names. By default, the `read.table()` function assigns FALSE to this argument (meaning there are no headers). However, as we saw in the previous step when we opened the *santander.txt* file, the first row contains the column names, so we must specify the option `header=TRUE`.\n",
    "\n",
    "Another option available in this function is *sep*, which represents the field delimiter or separator (in this case, separating the variables). By default, this option uses a space as the field separator, but you can specify other separators if necessary.\n",
    "\n",
    "Other functions such as `read.csv()` or `read.csv2()` work similarly. You can consult the help documentation for these functions to see the default values for their arguments.\n",
    "\n",
    "R also allows importing files created with the Microsoft Office Excel spreadsheet, those with the *.xls* extension. The function `read_xls()`, which is part of the `readxl()` package, enables reading these types of files. To load this package, use the command `library(\"readxl\")`. If it is not already installed in R, install it (only once) with the command `install.packages(\"readxl\")` and then load it.\n",
    "\n",
    "In any case, you can also save *.xls* files in *csv* format from a spreadsheet and import them into R using one of the functions mentioned above.\n",
    "\n",
    "As we can see, depending on how the data is stored in the file, the function we need to use to open it in R differs. In some cases, it is also possible to do this via certain RStudio menus, but it is more convenient to use the functions directly, as these commands should ideally be saved in our program for future use of the R code."
   ]
  },
  {
   "cell_type": "markdown",
   "id": "82140262-cdf8-4155-8735-73332ebd34c1",
   "metadata": {},
   "source": [
    "<div class=\"alert alert-block alert-info\">\n",
    "<strong>PRACTICE ON YOUR OWN</strong>\n",
    "\n",
    "Open a new script in RStudio. Using the data from the *pulsations.rda* file:\n",
    "1. Calculate the number of people who are shorter than 183 cm.\n",
    "2. Calculate the percentage of people who are shorter than 183 cm.\n",
    "3. Determine the women who are shorter than 170 cm.\n",
    "</div>"
   ]
  },
  {
   "cell_type": "markdown",
   "id": "d5397f7d-41e6-499e-9118-d228850afe67",
   "metadata": {},
   "source": [
    "# Graphical Representations\n",
    "\n",
    "Basic 2-D graphics are included in R's base package (such as `plot`, `hist`, `boxplot`, etc.). In the next practice, we will analyze these types of graphs in detail. Here, we will briefly show some essential functions for graphical representations, including:\n",
    "\n",
    "* `plot()`: By default, it generates a scatter plot.\n",
    "* `lines()`: Adds lines to a graph.\n",
    "* `points()`: Adds points to a graph.\n",
    "* `text()`: Adds text labels to a graph.\n",
    "* `title()`: Adds a title, subtitle, or labels to the X and Y axes.\n",
    "* `axis()`: Modifies axis ticks and their labels.\n",
    "\n",
    "Let’s look at an example using the *pulsations.rda* dataset, where we progressively enhance the graph using the above functions."
   ]
  },
  {
   "cell_type": "code",
   "execution_count": null,
   "id": "56e2a05a-da70-48af-8a68-e9b8f1764f7c",
   "metadata": {},
   "outputs": [],
   "source": [
    "attach(pulsations)\n",
    "plot(Height, Weight)"
   ]
  },
  {
   "cell_type": "markdown",
   "id": "139cfda8-b332-429e-b1a3-8882f1f73287",
   "metadata": {},
   "source": [
    "We adjust the range of values for the Y-axis using the *ylim* option (similarly, we could do this with *xlim* for the X-axis) and add a horizontal red line at a weight value of 85 kg. The *lwd* argument controls the line width, and *col* controls the color. Additionally, we include a cross symbol at a weight of 85 kg and a height of 190 cm using `points()` (the symbol type is controlled by the *pch* argument), and color set to blue."
   ]
  },
  {
   "cell_type": "code",
   "execution_count": null,
   "id": "169f85e7-2cad-4b85-a7fc-cc4a38a6aff7",
   "metadata": {},
   "outputs": [],
   "source": [
    "plot(Height, Weight, ylim=c(40,100)) \n",
    "lines(c(160,190), c(85,85), col=\"red\", lwd=2)\n",
    "points(c(190), c(85), pch=3, col=\"blue\", lwd=3)"
   ]
  },
  {
   "cell_type": "markdown",
   "id": "2af95037-28bf-442c-9e9b-df8b062ab495",
   "metadata": {},
   "source": [
    "We can add more points in a different color, text, title, and modify axis colors as follows:"
   ]
  },
  {
   "cell_type": "code",
   "execution_count": null,
   "id": "27b2db38-6d0b-4a4d-a2c8-425105d0ed34",
   "metadata": {},
   "outputs": [],
   "source": [
    "plot(Height, Weight, ylim=c(40,100)) \n",
    "lines(c(160,190), c(85,85), col=\"red\", lwd=2)\n",
    "points(c(190), c(85), pch=3, col=\"blue\", lwd=3)\n",
    "points(c(175,180), c(60,65), pch=3, col=\"green\", lwd=4)\n",
    "text(185, 60, \"Fake point\", col=\"darkgreen\", cex=2)\n",
    "title(main=\"Scatterplot\", cex.main=1.5)\n",
    "axis(1, col=\"purple\") # Eje X\n",
    "axis(2, col=\"orange\") # Eje Y"
   ]
  },
  {
   "cell_type": "markdown",
   "id": "4b2e2f9c-2b1d-4a91-8192-ee8cbde1bcb4",
   "metadata": {},
   "source": [
    "There are many parameters for these functions that can be overwritten using the `par()` function (check the help documentation for more details). For example:"
   ]
  },
  {
   "cell_type": "code",
   "execution_count": null,
   "id": "2baef853-5f99-4ee7-b5be-c7d617841a4a",
   "metadata": {},
   "outputs": [],
   "source": [
    "plot(Height, Weight) # Original plot\n",
    "par(\"pch\") # Default symbol used in the plot\n",
    "par(\"lwd\") # Default line width used\n",
    "par(pch=2) # Modify the default symbol\n",
    "par(lwd=4) # Modify the default line width\n",
    "plot(Height, Weight) # Re-plotting includes the previous changes\n",
    "detach(pulsations)"
   ]
  },
  {
   "cell_type": "markdown",
   "id": "45b9b21f-9463-43c1-af84-c7a73648dc14",
   "metadata": {},
   "source": [
    "<div class=\"alert alert-block alert-info\">\n",
    "<strong>PRACTICE ON YOUR OWN</strong>\n",
    "\n",
    "The data file *santander.txt* contains the monthly average temperature data recorded in Santander from 1950 to 2003. The tasks are as follows:\n",
    "\n",
    "1. Plot the average temperatures recorded in February during the 1950-1960 period. Based on the graph, indicate the year with the lowest temperature.\n",
    "2. Plot the average temperatures for July and August (using different colors) between the years 1970 and 1980 (inclusive), and visually identify in which years the temperature was higher in July.\n",
    "</div>"
   ]
  }
 ],
 "metadata": {
  "kernelspec": {
   "display_name": "R",
   "language": "R",
   "name": "ir"
  },
  "language_info": {
   "codemirror_mode": "r",
   "file_extension": ".r",
   "mimetype": "text/x-r-source",
   "name": "R",
   "pygments_lexer": "r",
   "version": "4.3.3"
  }
 },
 "nbformat": 4,
 "nbformat_minor": 5
}
