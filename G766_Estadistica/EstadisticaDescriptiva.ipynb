{
 "cells": [
  {
   "cell_type": "markdown",
   "id": "89e4c580-7cb7-400e-8549-44c7af4a6d65",
   "metadata": {},
   "source": [
    "<div style=\"text-align: center; font-size: 30px;\">\n",
    "Prácticas de Estadística<br/>\n",
    "</div>\n",
    "<div style=\"text-align: center; font-size: 30px;\">\n",
    "Estadística descriptiva\n",
    "</div>\n",
    "<div style=\"text-align: center; font-size: 16px; font-style: italic\">\n",
    "Material elaborado por M. Dolores Frías, Jesús Fernández y Carmen M. Sordo profesores del Departamento de Matemática Aplicada y Ciencias de la Computación de la Universidad de Cantabria.\n",
    "</div>"
   ]
  },
  {
   "cell_type": "markdown",
   "id": "b77abfbd-c549-4202-82df-802ce74d5f59",
   "metadata": {},
   "source": [
    "# Objetivos\n",
    "\n",
    "La aplicación de un análisis estadístico desriptivo a un conjunto de datos es a\n",
    "menudo un primer paso a realizar antes de considerar otros métodos más\n",
    "complejos ya que permite resumir información de los datos además de descubrir\n",
    "posibles regularidades y singularidades de los mismos. \n",
    "\n",
    "En esta práctica aprenderemos como realizar una análisis descriptivo de unos\n",
    "datos con R. Para ello calcularemos ciertas medidas estadísticas vistas en\n",
    "clase, resumiremos los datos en tablas de frecuencias y procederemos a\n",
    "representar algunos de los tipos de gráficos más comunes. Debemos recordar que\n",
    "la metodología aplicada será diferente dependiendo de la naturaleza de los\n",
    "datos objeto del estudio: cualitativo, ordinal, discreto o continuo. \n",
    "\n",
    "Tener en cuenta que R es solo una herramienta que nos permite explorar\n",
    "diferentes muestras de datos, por lo que para utilizarla debidamente debemos\n",
    "conocer que métodos estadísticos debemos aplicar en cada caso y tener la\n",
    "capacidad para analizar e interpretar los resultados obtenidos. \n",
    "\n",
    "En esta práctica solo consideraremos el análisis de una única variable."
   ]
  },
  {
   "cell_type": "markdown",
   "id": "be9fce17-ff4c-44c6-aa43-476635725c50",
   "metadata": {
    "editable": true,
    "slideshow": {
     "slide_type": ""
    },
    "tags": []
   },
   "source": [
    "\n",
    "# Tablas de frecuencia\n",
    "\n",
    "Las tablas son una herramienta muy usada para obtener información resumida de\n",
    "un conjunto de datos, ya que muestran la frecuencia de cada posible valor (o\n",
    "categoría) que puede tomar la variable. La tabla completa de frecuencias\n",
    "incluye información sobre frecuencia absoluta, frecuencia relativa, frecuencia\n",
    "absoluta acumulada y frecuencia relativa acumulada. Recordemos que las tablas\n",
    "se construyen de forma diferente según la naturaleza de la variable ya que si\n",
    "esta es continua o discreta con muchos valores posibles, entonces es necesario\n",
    "clasificar los datos en intervalos. Veamos como obtener tablas de frecuencia en\n",
    "cada caso con R.\n",
    "\n",
    "Para comenzar cargaremos el fichero *Pulsaciones.rda* disponible en la\n",
    "página web de la asignatura, con el que trabajaremos en esta práctica. Este\n",
    "fichero contiene registros de 92 personas de diferentes variables (visualizar\n",
    "el contenido, `head(Pulsaciones)`). A una parte de los individuos de esta\n",
    "muestra se les pide que corran durante un tiempo y a otros no. La primera\n",
    "columna (Pulso1) contiene datos del pulso de cada individuo al inicio de la\n",
    "prueba, la columna 2 (Pulso2) recoge el pulso de los individuos al finalizar la\n",
    "prueba. La columna 3 (Correr) indica si el individuo es del grupo de los que\n",
    "corrieron en la prueba o no. La columna 4 (Fumar) recoge si fuma o no fuma, la\n",
    "columna 5 (Sexo) indica si es hombre o mujer. Las columnas 6 (Altura) y 7\n",
    "(Peso) recogen los datos de la altura (cm) y el peso (Kg) respectivamente. Por\n",
    "último la columna 8 (Actividad) indica que tipo de actividad física realiza\n",
    "el individuo normalmente en su vida diaria: nula, baja, media o alta. \n",
    "\n",
    "Como siempre primero establecer vuestro directorio de trabajo con la orden `setwd`. Por ejemplo si en nuestro ordenador hemos creado la carpeta *C:/Escritorio/Estadistica/P1* donde hemos descargado los ficheros de datos necesarios para esta práctica, entonces desde RStudio al comienzo del programa debemos escribir y ejecutar la orden: \n",
    "```R\n",
    "setwd(\"C:/Escritorio/Estadistica/P1\")\n",
    "\n",
    "```"
   ]
  },
  {
   "cell_type": "code",
   "execution_count": null,
   "id": "221d1b99-2ef2-44a1-9c85-855a56a443a1",
   "metadata": {},
   "outputs": [],
   "source": [
    "# Establecemos el directorio donde tenemos los ficheros de datos en GitHub\n",
    "setwd(\"data/\") \n",
    "# Cargamos los datos del fichero\n",
    "load(\"Pulsaciones.rda\") \n",
    "str(Pulsaciones)\n",
    "attach(Pulsaciones)"
   ]
  },
  {
   "cell_type": "markdown",
   "id": "40fe9cc2-6648-4d47-bf46-bf9bdc60620f",
   "metadata": {
    "editable": true,
    "slideshow": {
     "slide_type": ""
    },
    "tags": []
   },
   "source": [
    "Como vemos el fichero contiene variables de diferente naturaleza como\n",
    "así nos lo muestra la orden `str(Pulsaciones)`. Recordar que el comando\n",
    "`attach` permite tomar las columnas de un data frame como vectores y así aplicar cualquier\n",
    "comando haciendo referencia directamente al nombre de la variable guardada en\n",
    "el data frame. Por ejemplo ahora podemos ejecutar `length(Altura)` en lugar de escribir `length(Pulsaciones$Altura)`. \n",
    "\n",
    "Las tablas de frecuencias para variables cualitativas, semi-cuantitativas\n",
    "(factores) o discretas con pocos valores posibles se pueden obtener\n",
    "directamente aplicando la función `table` a la variable, resultando una\n",
    "tabla donde aparezcen los posibles valores que toma la variable y las\n",
    "frecuencias absolutas en cada caso. Aplicaremos esta función a la variable\n",
    "*Actividad* de la forma:"
   ]
  },
  {
   "cell_type": "code",
   "execution_count": null,
   "id": "7858b9d5-199e-4c1d-8eb8-d0d28ab5e93c",
   "metadata": {},
   "outputs": [],
   "source": [
    "table(Actividad)"
   ]
  },
  {
   "cell_type": "markdown",
   "id": "a0cef577-bfec-4b04-8135-7fb66f199698",
   "metadata": {},
   "source": [
    "Podemos obtener el resto de frecuencias de la tabla de frecuencias de la forma: \n"
   ]
  },
  {
   "cell_type": "code",
   "execution_count": null,
   "id": "9ec658f1-7b67-4136-bb18-5a8c1d01190f",
   "metadata": {
    "editable": true,
    "slideshow": {
     "slide_type": ""
    },
    "tags": []
   },
   "outputs": [],
   "source": [
    "xi <- levels(Actividad) # Categorias\n",
    "ni <- as.vector(table(Actividad)) # Frecuencia absoluta\n",
    "Ni <- cumsum(ni) # Frecuencia absoluta acumulada\n",
    "fi <- ni/sum(ni) # Frecuencia relativa\n",
    "Fi <- cumsum(fi) # Frecuencia relativa acumulada\n",
    "# Mostramos los datos con formato creando un data frame\n",
    "data.frame(xi=xi, ni=ni, Ni=Ni, fi=fi, Fi=Fi) # Muestra la tabla completa"
   ]
  },
  {
   "cell_type": "markdown",
   "id": "1f19febe-a95a-4ded-abe2-f1db07f05557",
   "metadata": {},
   "source": [
    "La orden `as.vector` utilizada en el código anterior, nos permite\n",
    "seleccionar únicamente las frecuencias absolutas de la salida de `table`,\n",
    "que guardamos en la variable `ni` que denota la frecuencia absoluta. Notar\n",
    "también que podemos usar la función `levels`, para sacar las categorías\n",
    "de la variable *Actividad* por ser una variable semi-cuantitativa\n",
    "definida en R como factor (ejectuar `class(Actividad)`).\n",
    "\n",
    "Una vez que tengamos la tabla completa es importante analizar los resultados ya\n",
    "que contiene mucha información sobre la muestra. Por ejemplo, en este caso\n",
    "vemos que la mayoría de los individuos de la muestra realizó una actividad\n",
    "física moderada (66%) o que solo la actividad es baja para 9 personas, un 10%\n",
    "de la muestra. \n",
    "\n",
    "La función `table` también puede aplicarse a variables cuantitativas, devolviendo también los valores de la frecuencia absoluta para cada uno de los valores de la variable. Por ejemplo: \n"
   ]
  },
  {
   "cell_type": "code",
   "execution_count": null,
   "id": "d60efeea-1d3b-4218-bf97-780bdf6ae88b",
   "metadata": {},
   "outputs": [],
   "source": [
    "ni <- as.vector(table(Pulso1))\n",
    "xi <- sort(unique(Pulso1)) # ordena los posibles valores de la variable\n",
    "Ni <- cumsum(ni)\n",
    "fi <- ni/sum(ni)\n",
    "Fi <- cumsum(fi)\n",
    "# Mostramos los datos con formato creando un data frame\n",
    "data.frame(xi=xi, ni=ni, Ni=Ni, fi=fi, Fi=Fi)"
   ]
  },
  {
   "cell_type": "markdown",
   "id": "34885ac4-deba-4d65-a40a-db10256cdcd7",
   "metadata": {},
   "source": [
    "Genera la tabla de frecuencias de la variable *Pulso1*, en la\n",
    "que se observa como la información de esta variable no está resumida de\n",
    "forma adecuada ya que hay muchos valores con frecuencias absolutas muy bajas\n",
    "(1 o 2 individuos con ese pulso). Como ya sabemos, si los datos son continuos o\n",
    "si son discretos con muchos valores diferentes (como en el caso de\n",
    "*Pulso1*), habrá que agruparlos por clases. Para ello podemos utilizar\n",
    "la funcion `cut`, que agrupa los datos en intervalos, pudiendo indicar\n",
    "nosotros mismos cuáles son las clases que queremos crear, como en el código\n",
    "que se muestra a continuación:"
   ]
  },
  {
   "cell_type": "code",
   "execution_count": null,
   "id": "8abc3eef-2570-406c-b578-92be702b20ab",
   "metadata": {},
   "outputs": [],
   "source": [
    "n <- length(Pulso1) # Tamaño de la muestra\n",
    "# Criterio de Sturges. La función floor redondea hacia abajo el valor.\n",
    "nclase <- floor(3/2+log(n)/log(2)) \n",
    "# Rango de la variable\n",
    "range(Pulso1) "
   ]
  },
  {
   "cell_type": "code",
   "execution_count": null,
   "id": "b6196dd2-0d25-42fb-9316-ed43430984a7",
   "metadata": {},
   "outputs": [],
   "source": [
    "# Se crean los intervalos \n",
    "cortes <- seq(44, 105, 7)\n",
    "# Clasificacion de los datos.\n",
    "datos_class <- cut(Pulso1, cortes); datos_class\n",
    "# Frecuencia absoluta\n",
    "ni <- as.vector(table(datos_class))"
   ]
  },
  {
   "cell_type": "markdown",
   "id": "73ce9b57-495f-4e1b-a70b-f00d9385933a",
   "metadata": {},
   "source": [
    "Observa la salida de *datos_class* ya que corresponde a los datos clasificados en los intervalos es decir, a cada valor de *Pulso1* se le ha asignado uno de los intervalos definidos.\n",
    "\n",
    "A partir del vector *ni* se puede calcular el resto de frecuencias para completar la tabla de frecuencias utilizando los siguientes comandos:"
   ]
  },
  {
   "cell_type": "code",
   "execution_count": null,
   "id": "3c2a87d8-cf7e-472f-b3f0-c63af6276a44",
   "metadata": {},
   "outputs": [],
   "source": [
    "# Limites y marcas de clase\n",
    "intervalos <- levels(datos_class)\n",
    "xi <- cortes[1:nclase]+diff(cortes)/2\n",
    "# Frecuencia absoluta acumulada\n",
    "Ni <- cumsum(ni)\n",
    "# Frecuencia relativa\n",
    "fi <- ni / sum(ni)\n",
    "# Frecuencia relativa acumulada\n",
    "Fi <- cumsum(fi)\n",
    "# Mostramos los datos con formato creando un data frame\n",
    "data.frame(\"(Li-1,Li]\"=intervalos,xi,ni,Ni,fi,Fi, check.names=FALSE)"
   ]
  },
  {
   "cell_type": "markdown",
   "id": "5bb01e11-94aa-4cf4-8a9e-bd79314dc5cb",
   "metadata": {},
   "source": [
    "Por defecto la función `cut` cierra los intervalos por la derecha, (ver la\n",
    "variable `datos_class`). Esta función tiene un argumento que permite\n",
    "cambiar esta opción como podéis comprobar consultado la ayuda de la función. \n",
    "\n",
    "Podemos presentar mejor los resultados de la tabla, redondeandor los valores de $f_i$ y $F_i$ a dos decimales con la función `round` de la forma: "
   ]
  },
  {
   "cell_type": "code",
   "execution_count": null,
   "id": "d0e792f5-f13c-4bc3-96b8-6e0e590272ae",
   "metadata": {},
   "outputs": [],
   "source": [
    "data.frame(\"(Li-1,Li]\"=intervalos,xi,ni,Ni,fi=round(fi,2),Fi=round(Fi,2), check.names=FALSE)"
   ]
  },
  {
   "cell_type": "markdown",
   "id": "e7efa099-fc37-49a4-9dc0-2f63b7f37694",
   "metadata": {},
   "source": [
    "<div class=\"alert alert-block alert-info\">\n",
    "<strong>PRACTICA TÚ MISMO</strong>\n",
    "\n",
    "Utilizando los datos del fichero *Pulsaciones.rda*, responde a las siguientes preguntas:\n",
    "1. Calcular la frecuencia absoluta de las mujeres.\n",
    "2. Obtener el porcentaje de fumadores\n",
    "3. Calcular el porcentaje de mujeres que son fumadoras.\n",
    "4. Determinar la frecuencia relativa de las personas que miden menos de 183 cm.\n",
    "5. Determinar la frecuencia relativa de las personas que son mujeres.\n",
    "6. Determinar la frecuencia relativa de las personas que son varones y su práctica deportiva habitual es baja.\n",
    "7. Determinar la frecuencia relativa de las personas que son varones y fuman.\n",
    "8. De entre las mujeres, determinar la frecuencia relativa de las que miden menos de 170 cm.\n",
    "9. Determinar la frecuencia relativa de las personas cuyo pulso en reposo (\\textsf{Pulso1}) es superior a 84.\n",
    "10. Determinar la frecuencia relativa de las personas cuyo pulso es superior a 84 y cuya práctica deportiva habitual no es alta.\n",
    "11. Determinar la frecuencia relativa de las personas tales que su pulso es superior de 84, fuman y son mujer.\n",
    "12. De entre los  personas que fuman,  determinar la frecuencia relativa de los que registran el *Pulso1 superior a 84.\n",
    "</div>"
   ]
  },
  {
   "cell_type": "markdown",
   "id": "9d96b659-4690-4d71-bdd7-f0b063eb5b24",
   "metadata": {
    "editable": true,
    "slideshow": {
     "slide_type": ""
    },
    "tags": []
   },
   "source": [
    "# Estadísticos\n",
    "\n",
    "Son diferentes las funciones que nos permiten resumir información de un\n",
    "conjunto de datos y cada una de ellas informa sobre un aspecto diferente de los\n",
    "datos en un único valor. \n",
    "\n",
    "En esta práctica aprenderemos a calcular diferentes estadísticos con R\n",
    "aplicados a una sola variable. Para ello seguiremos trabajando con los datos\n",
    "del fichero *Pulsaciones.rda.\n",
    "\n",
    "El comando `summary` muestra un breve análisis descriptivo para cada una de\n",
    "las variables contenidas en este data frame. Cabe destacar que en el caso de\n",
    "variables cuantitativas se indican los valores correspondientes al máximo,\n",
    "mínimo, cuartiles y media mientras que para variables cualitativas (que en R se\n",
    "denominan factores), se da la frecuencia absoluta de las categorías en las\n",
    "que se clasifica esa variable (y la de los valores ausentes, si hay alguno)."
   ]
  },
  {
   "cell_type": "code",
   "execution_count": null,
   "id": "34b4610f-2d4b-4a8d-b23d-235d5aba66f1",
   "metadata": {},
   "outputs": [],
   "source": [
    "summary(Pulsaciones)"
   ]
  },
  {
   "cell_type": "markdown",
   "id": "8358fd34-18d1-44bd-8b50-dee44ba2562b",
   "metadata": {},
   "source": [
    "Si hay más de diez variables en el conjunto de datos, R pide confirmación, pues\n",
    "la abundante información puede resultar difícil de visualizar por pantalla.\n",
    "\n",
    "También podemos seleccionar individuos de la muestra que cumplen una\n",
    "determinada condición. Por ejemplo en este caso se calculan los\n",
    "estadísticos básicos de la variable Altura para aquellas personas que\n",
    "fuman:"
   ]
  },
  {
   "cell_type": "code",
   "execution_count": null,
   "id": "4e295079-033b-4a5a-921b-6491eff52a43",
   "metadata": {},
   "outputs": [],
   "source": [
    "summary(Altura) # Estadistica básica de la variable Altura\n",
    "AltFum <- Altura[Fumar==\"fuma\"]\n",
    "summary(AltFum) # Estadistica básica de la variable Altura de los individuos que fuman"
   ]
  },
  {
   "cell_type": "markdown",
   "id": "2199ecc0-aedf-4ef6-8718-bd9d5f9adc6e",
   "metadata": {},
   "source": [
    "Vamos a indicar las funciones que calculan los estadísticos más\n",
    "importantes. Como sabemos estos se dividen en 4 grandes grupos: estadísticos de\n",
    "localización, de dispersión, de posición y de forma."
   ]
  },
  {
   "cell_type": "markdown",
   "id": "e8a8d47b-a5a8-49b7-9d49-bb37f7dc7db6",
   "metadata": {},
   "source": [
    "## Estadísticos de localización\n",
    "\n",
    "Los estadísticos de localización o de tendencia central proporcionan información sobre la tendencia central o el valor alrededor del cual se agrupan los datos. Los más importantes son la media, la mediana y la moda. \n",
    "\n",
    "### Media\n",
    "La media aritmética se calcula con la orden `mean`:"
   ]
  },
  {
   "cell_type": "code",
   "execution_count": null,
   "id": "a1eec8b5-d18a-4989-96b8-8e59b272218a",
   "metadata": {},
   "outputs": [],
   "source": [
    "mean(Altura, na.rm=TRUE)"
   ]
  },
  {
   "cell_type": "markdown",
   "id": "2def27ba-b5a2-4d3f-9c10-e429baefcc1b",
   "metadata": {},
   "source": [
    "El argumento `na.rm=TRUE` es opcional y se utiliza para indicar que hay\n",
    "datos ausentes que no deben ser considerados al calcular ese estadístico. Esta\n",
    "opción está disponible en otras muchas funciones de R.  \n",
    "\n",
    "Calcular la media del vector `c(2,2,2,NA)` considerando la opción\n",
    "`na.rm=TRUE` y sin considerarla para ver la diferencia en el resultado. El\n",
    "valor `NA` significa *Not Available*, es decir que no hay dato\n",
    "registrado para ese caso. En algunos casos podemos encontrar en un conjunto de\n",
    "datos el valor `NaN` cuyo significado es *Not a Number*. El valor\n",
    "`NaN` surge de realizar operaciones del tipo 0/0. La opción\n",
    "`na.rm=TRUE` excluye del cálculo de la media ambos casos. \n",
    "\n",
    "### Mediana \n",
    "\n",
    "En este caso se puede calcular con dos funciones: la función `quantile` indicando el orden del cuantil (0.5 en este caso) o bien con la orden `median`:"
   ]
  },
  {
   "cell_type": "code",
   "execution_count": null,
   "id": "8222482f-1acf-40dc-bd79-e09cb502536a",
   "metadata": {},
   "outputs": [],
   "source": [
    "quantile(Altura, c(0.5))\n",
    "median(Altura)"
   ]
  },
  {
   "cell_type": "markdown",
   "id": "fb4096b5-45e5-4c5a-890a-4123dec4384c",
   "metadata": {},
   "source": [
    "### Moda\n",
    "\n",
    "No hay una función específica en R para calcular la moda de un conjunto de datos pero podemos crear nuestra propia función. Esta función debe tener como entrada el vector de datos y como salida el valor de la moda o modas si es que hay más de una. Un ejemplo de función podría ser: "
   ]
  },
  {
   "cell_type": "code",
   "execution_count": null,
   "id": "d1459b25-087c-4083-9a56-1e92547c0baf",
   "metadata": {},
   "outputs": [],
   "source": [
    "compute.mode <- function(x) {\n",
    "  return(as.numeric(names(which(table(x)==max(table(x))))))\n",
    "}"
   ]
  },
  {
   "cell_type": "markdown",
   "id": "08dde711-c545-4af1-868b-e4cdd226d56d",
   "metadata": {},
   "source": [
    "Comprobamos el uso de esta función para la variable *Pulso1:"
   ]
  },
  {
   "cell_type": "code",
   "execution_count": null,
   "id": "791b4d60-c892-42d7-a1f4-bbb99d54ab84",
   "metadata": {},
   "outputs": [],
   "source": [
    "compute.mode(Pulso1)"
   ]
  },
  {
   "cell_type": "markdown",
   "id": "9152116f-1555-4671-9ff4-3faae11e2d34",
   "metadata": {},
   "source": [
    "## Estadísticos de dispersión\n",
    "\n",
    "Este grupo de estadísticos proporcionan información sobre la dispersión de los datos.  \n",
    "\n",
    "### Cuasi-varianza y cuasi-desviación típica \n",
    "\n",
    "Conviene resaltar que las funciones `var` y `sd` de R calculan la cuasi-varianza y cuasi-desviación típica respectivamente, es decir, lo que calculan exactamente es el resultado de las fórmulas:"
   ]
  },
  {
   "cell_type": "markdown",
   "id": "e5d531d4-74d7-4d7c-a509-13e34079d7ae",
   "metadata": {},
   "source": [
    "<div><img alt=\"\" src=\"./figuras/formula_cuasivar_cuasdesv.png\" width=\"400\"/></div>"
   ]
  },
  {
   "cell_type": "markdown",
   "id": "223c3728-ff9a-4719-8352-2a172aeb3839",
   "metadata": {},
   "source": [
    "La varianza y la desviación típica se pueden calcular a partir de esos resultados sin más que recordar que\n",
    "<div><img alt=\"\" src=\"./figuras/formula_var.png\" width=\"150\"/></div>\n",
    "\n",
    "Crear unas funciones que calculen la varianza y la desviación típica.\n",
    "\n",
    "### Rango o Amplitud\n",
    "\n",
    "Es la diferencia entre el máximo y el mínimo. En R es necesario combinar dos órdenes:"
   ]
  },
  {
   "cell_type": "code",
   "execution_count": null,
   "id": "8184cbed-c9a9-4d21-af4f-38f43cda8095",
   "metadata": {},
   "outputs": [],
   "source": [
    "diff(range(Altura))"
   ]
  },
  {
   "cell_type": "markdown",
   "id": "7a8c448f-8aad-4063-b686-bd661dbabd19",
   "metadata": {},
   "source": [
    "Si esta función se va a utilizar varias veces, es mejor definir una función que haga este cálculo, la cual podemos llamar por ejemplo `amplitud`:"
   ]
  },
  {
   "cell_type": "code",
   "execution_count": null,
   "id": "fa2ebd60-135d-4f6c-9e91-ecfe1f0cc5e9",
   "metadata": {},
   "outputs": [],
   "source": [
    "amplitud <- function(x){diff(range(x))}\n",
    "amplitud(Altura)"
   ]
  },
  {
   "cell_type": "markdown",
   "id": "1e317cef-33e4-4efb-a595-f7a7c158f88a",
   "metadata": {},
   "source": [
    "### Rango intercuartílico \n",
    "\n",
    "Cuantifica la dispersión del 50\\% de los datos centrales una vez ordenados de menor a mayor. Para calcular este estdístico utilizamos la orden `IQR`:"
   ]
  },
  {
   "cell_type": "code",
   "execution_count": null,
   "id": "b183942f-3de8-45e4-9751-d7101be3c21e",
   "metadata": {},
   "outputs": [],
   "source": [
    "IQR(Altura)"
   ]
  },
  {
   "cell_type": "markdown",
   "id": "3672d1e3-52c9-46ff-aba3-bc7ef8523e49",
   "metadata": {},
   "source": [
    "### Coeficiente de variación\n",
    "\n",
    "Tampoco existe una función en el paquete básico de R para calcular este estadístico pero podemos definir la función `CV`, bien en la forma más simple, dividiendo la cuasi-desviación típica entre la media: "
   ]
  },
  {
   "cell_type": "code",
   "execution_count": null,
   "id": "3ee0a0b0-21aa-4530-b41d-cb9cc32d7ad4",
   "metadata": {},
   "outputs": [],
   "source": [
    "CV <- function(x) {sd(x)/mean(x)}\n",
    "CV(Altura)"
   ]
  },
  {
   "cell_type": "markdown",
   "id": "9c8ff5ff-5872-4a02-af59-7089b806830d",
   "metadata": {},
   "source": [
    "o bien para obtener un valor numérico incluso en datos con valores ausentes,"
   ]
  },
  {
   "cell_type": "code",
   "execution_count": null,
   "id": "aa60b6d9-02b9-40eb-94e5-24b4265185ed",
   "metadata": {},
   "outputs": [],
   "source": [
    "CV <- function(x) {sd(x, na.rm=TRUE) / mean(x, na.rm=TRUE)}\n",
    "CV(Altura)"
   ]
  },
  {
   "cell_type": "markdown",
   "id": "0f8ef32a-cc60-46bc-9158-c4f7b02c3c72",
   "metadata": {},
   "source": [
    "## Estadísticos de posición\n",
    "\n",
    "Estas medidas indican el valor de la variable que ocupa una determinada posición en una distribución ordenada de menor a mayor. \n",
    "\n",
    "### Máximo y mínimo: \n",
    "\n",
    "En R se calculan con las funciones `max` y `min`. "
   ]
  },
  {
   "cell_type": "code",
   "execution_count": null,
   "id": "f17bf812-924b-43e5-a655-224e558a891e",
   "metadata": {},
   "outputs": [],
   "source": [
    "max(Altura)\n",
    "min(Altura)\n",
    "range(Altura) #Muestra los dos valores con un único comando. "
   ]
  },
  {
   "cell_type": "markdown",
   "id": "0a9acb2b-07e0-44e4-b4ec-2441ef321585",
   "metadata": {},
   "source": [
    "### Cuantiles\n",
    "\n",
    "Como ya mencionamos es posible calcular cualquier cuantil con la orden `quantile`."
   ]
  },
  {
   "cell_type": "code",
   "execution_count": null,
   "id": "0e286495-c61b-4bdc-8855-3c958bbb0971",
   "metadata": {},
   "outputs": [],
   "source": [
    "quantile(Altura, c(0.25,0.5,0.75)) # Cuartiles"
   ]
  },
  {
   "cell_type": "code",
   "execution_count": null,
   "id": "07f0205c-b70b-4cfd-b4aa-80bdd1b63ebf",
   "metadata": {},
   "outputs": [],
   "source": [
    "quantile(Altura, c(1/3,2/3)) # Terciles"
   ]
  },
  {
   "cell_type": "markdown",
   "id": "2f705b5d-9e64-4675-9aa4-82e061d896c7",
   "metadata": {},
   "source": [
    "Consultar la ayuda de la función `quantile` ya que tiene implementados 9 algoritmos para calcular cuantiles según el valor de la opción `type`. \n",
    "\n",
    "## Estadísticos de forma\n",
    "\n",
    "### Asimetría y curtosis \n",
    "\n",
    "En el paquete básico de R no existen funciones para calcular la asimetría ni la curtosis. Podemos instalar el paquete `moments` que si tiene esas funciones (`kurtosis`, `skewness`), o bien programar nosotros mismos una función para calcular cada uno de estos estadísticos de acuerdo a la formulación vista en clase."
   ]
  },
  {
   "cell_type": "markdown",
   "id": "06d03bf1-c3c1-4b18-92c0-29957b93627b",
   "metadata": {},
   "source": [
    "<div class=\"alert alert-block alert-info\">\n",
    "<strong>PRACTICA TÚ MISMO</strong>\n",
    "\n",
    "- Crea las funciones *curtosis* y *asim* que calculen la curtosis y la asimetría respectivamente. \n",
    "\n",
    "\n",
    "- Contesta a las siguientes preguntas utilizando la muestra de datos del fichero *Pulsaciones.rda*:\n",
    "  1. Rango interquartílico del Peso\n",
    "  2. Varianza del Peso\n",
    "  3. ¿Es la distribución del Peso simétrica?\n",
    "  4. ¿Cuántos hombres hay en la muestra?\n",
    "  5.  ¿Es la distribución del Peso platicúrtica, mesocúrtica o leptocúrtica?\n",
    "  6.  ¿Cuál de las dos variables, Peso o Altura, presenta mayor dispersión?\n",
    "  7.  Calcula la kurtosis de la variable Peso de las personas que no fuman\n",
    "  8.  Calcula la cuasi-desviación típica de la Altura de las mujeres\n",
    "\n",
    "     \n",
    "<br>\n",
    "\n",
    "- A lo largo de un año, los importes de las facturas mensuales de\n",
    "vuestro móvil han sido:\n",
    "\n",
    "     23, 33, 25, 45, 10, 28, 39, 27, 15, 38, 34, 29\n",
    " \n",
    "    1. ¿Cuanto habéis gastado en total en el año?\n",
    "    2. ¿Cuál ha sido el gasto mínimo?,\n",
    "    4. ¿y el máximo?\n",
    "    5. ¿Qué meses han supuesto un gasto menor que el gasto medio?\n",
    "    6. Existe mucha dispersión de unos meses a otros? ?`Cómo estimas esa dispersión?\n",
    "           \n",
    "<br>\n",
    "\n",
    "- El fichero de datos *santander.txt* contiene los datos de temperatura media mensual medida en Santander desde 1950 hasta 2003. Se pide:\n",
    "    1. Calcule la mediana, media y desviación estándar de las temperaturas medias mensuales en enero y julio entre los años 1950 y 1980.\n",
    "    2.  Determine los coeficientes de asimetría y curtosis de las temperaturas medias mensuales de junio, julio y agosto entre los a\\~nos 1950 y 1980. ¿En que caso la serie presenta mayor asimetría?\n",
    "</div>"
   ]
  },
  {
   "cell_type": "markdown",
   "id": "0e714e75-38f2-48cb-8e42-dbf852ee166d",
   "metadata": {},
   "source": [
    "# Representaciones gráficas unidimensionales\n",
    "\n",
    "Las representaciones gráficas permiten captar rápidamente y sin gran esfuerzo las principales características de una distribución de frecuencias. Son un medio complementario, aunque muy importante, para realizar un análisis\n",
    "estadístico descriptivo de una muestra de datos.\n",
    "\n",
    "Describimos aquí sólo aquellos gráficos de interés en nuestro curso.\n",
    "\n",
    "## Gráfico de sectores\n",
    "\n",
    "El gráfico de sectores es recomendable para variables variables cualitativas. Este tipo de representación muestra tamaños relativos para las categorías de la variable. En algunos casos, donde las categorías tienen frecuencias similares, esta no es la mejor manera de mostrar la información ya que al ojo le cuesta diferenciar áreas relativas. La orden en R para dibujar un gráfico de sectores es:"
   ]
  },
  {
   "cell_type": "code",
   "execution_count": null,
   "id": "60ae09e4-8708-42fe-b0b6-2e0125464d54",
   "metadata": {},
   "outputs": [],
   "source": [
    "pie(table(Fumar), main=\"Fumar\")"
   ]
  },
  {
   "cell_type": "markdown",
   "id": "60562cf5-8659-4169-9af0-189415882e15",
   "metadata": {},
   "source": [
    "En este caso con solo dos categorías, el gráfico muestra claramente que el número de no fumadores es mucho superior al número de fumadores. Como se muestra a continuación, el diagrama de barras es una forma preferible de mostrar este tipo de datos ya que el ojo funciona mejor discriminando medidas lineales que tamaños relativos. \n",
    "\n",
    "Es posible mejorar la apariencia de este tipo de gráfico con una serie de parámetros adicionales de la función `pie`. Algunos de las posibilidades son `main` para añadir un título, `col` para definir colores, etc. Consulta la ayuda de esta función para más detalles. "
   ]
  },
  {
   "cell_type": "code",
   "execution_count": null,
   "id": "78d368ed-83b9-4361-9e95-d52a05803dd5",
   "metadata": {},
   "outputs": [],
   "source": [
    "pie(table(Fumar), labels=c(paste(\"No (\",table(Fumar)[1],\"%)\"), \n",
    "                           paste(\"Si (\",table(Fumar)[2],\"%)\")),\n",
    "                  main=\"Consumo de tabaco\") "
   ]
  },
  {
   "cell_type": "markdown",
   "id": "a0ad1208-92cb-43d2-8343-baeeec522909",
   "metadata": {},
   "source": [
    "## Gráfico de barras\n",
    "\n",
    "El diagrama de barras es una herramienta que nos permite visualizar la distribución de variables cualitativas, semi-cuantitativas o discretas con un número pequeño de valores posibles. El comando para representar este tipo de gráficos es `barplot`. "
   ]
  },
  {
   "cell_type": "code",
   "execution_count": null,
   "id": "b7c0cbc7-baef-4849-bac7-c443d60dd56b",
   "metadata": {},
   "outputs": [],
   "source": [
    "barplot(table(Fumar))"
   ]
  },
  {
   "cell_type": "markdown",
   "id": "7e93211f-b115-43d2-bd9d-81632c9074eb",
   "metadata": {},
   "source": [
    "En este caso hemos representado la frecuencia absoluta, pero también es posible representar la frecuencia relativa.\n",
    "\n",
    "También en este tipo de gráfico es posible optimizar su apariencia agregando más argumentos a la función. Algunas de las opciones más frecuentes son: `main` para añadir título al gráfico, `xlab` y `ylab` para proporcionar etiquetas a los ejes, `xlim` y `ylim` para especificar un rango de valores a los ejes, `col` para definir el color de las barras, etc. Echar un vistazo a la ayuda de la función para ver\n",
    "todas las posibilidades."
   ]
  },
  {
   "cell_type": "code",
   "execution_count": null,
   "id": "ab7db4f3-b615-4188-a51d-0efe264e251e",
   "metadata": {},
   "outputs": [],
   "source": [
    "barplot(table(Fumar), ylab=\"ni\", ylim=c(0,70), main=\"Consumo de tabaco\")"
   ]
  },
  {
   "cell_type": "markdown",
   "id": "cc8c0572-cdd9-4531-82f7-2969db223edf",
   "metadata": {},
   "source": [
    "Si comparamos el diagrama de barras obtenido con el gráfico de sectores anterior vemos como para el ojo es mucho más fácil obtener la frecuencia para cada categoría (fumadores y no fumadores) en el gráfico de barras que en el de sectores.\n",
    "\n",
    "Veamos otro ejemplo en este caso para la variable ordinal *Actividad*:"
   ]
  },
  {
   "cell_type": "code",
   "execution_count": null,
   "id": "ed8f84c8-23d8-4a69-a3bd-250cf9cee264",
   "metadata": {},
   "outputs": [],
   "source": [
    "barplot(table(Actividad), xlab=\"Actividad\", ylab=\"ni\")   "
   ]
  },
  {
   "cell_type": "markdown",
   "id": "b0fefb07-b1f5-4d15-9ce2-74ea2e282e57",
   "metadata": {},
   "source": [
    "Observamos que el orden de las categorías que se respresentan en este gráfico no es el correcto ya que esta es una variable ordinal (clasificada como factor en R) por lo que deberían ir de menor a mayor actividad. Esto es debido a que R por defecto coloca por orden alfabético las categorías de las variables\n",
    "ordinales (ejecutar `levels(Actividad)` para verlo) y este es el orden en el que van a aparecer en cualquier cálculo con esta variable. De hecho ya aparecía ese orden en la tabla de frecuencias que obtuvimos para esta misma variable en la Sección Tablas de frecuencia (`table(Actividad)). \n",
    "\n",
    "Para representar los datos en el orden correcto en el diagrama de barras o bien obtener la tabla de frecuencias con las categorias bien ordenadas debemos modificar en la propia variable el orden con el que estas categorías se guardan en su argumento `levels`. Podemos definir una variable con las categorías ordenadas de la forma: "
   ]
  },
  {
   "cell_type": "code",
   "execution_count": null,
   "id": "5ec9d4c3-404c-4a55-b174-20b09e75eb14",
   "metadata": {},
   "outputs": [],
   "source": [
    "actividad.order <- ordered(Actividad, levels=c( \"baja\", \"media\", \"alta\"))\n",
    "levels(actividad.order) "
   ]
  },
  {
   "cell_type": "markdown",
   "id": "08e16468-ba96-4ecc-8d3d-e3e4e3bfdb41",
   "metadata": {},
   "source": [
    "Vemos que en la nueva variable las categorías si están bien ordenadas, de menos a más actividad física, luego repetimos el gráfico para esa variable que acabamos de definir. "
   ]
  },
  {
   "cell_type": "code",
   "execution_count": null,
   "id": "a23a68a0-4218-4e8d-b3b2-1bdfcc670a05",
   "metadata": {},
   "outputs": [],
   "source": [
    "barplot(table(actividad.order), ylab=\"ni\", xlab=\"Actividad\") "
   ]
  },
  {
   "cell_type": "markdown",
   "id": "95eadf5a-bb40-4ccd-8231-1913ef94ca74",
   "metadata": {},
   "source": [
    "## Histograma\n",
    "\n",
    "El histograma es una representación visual de la distribución de frecuencias de una muestra, que permite diferenciar en torno a que valores se agrupa una cantidad relativamente grande de los datos y donde se localizan un menor grupo de datos. Este tipo de gráficos se utiliza para representar la distribución de variables cuantitativas agrupadas en intervalos de clase lo que explica que las barras estén pegadas unas a otras. La forma de mostrar los datos de una muestra en un histograma con R es a través de la función `hist`. "
   ]
  },
  {
   "cell_type": "code",
   "execution_count": null,
   "id": "131ff4d2-b507-423b-9d38-092253ae9095",
   "metadata": {},
   "outputs": [],
   "source": [
    "hist(Altura)"
   ]
  },
  {
   "cell_type": "markdown",
   "id": "a06a88de-0a54-4e47-88c6-84d6ecb265e7",
   "metadata": {},
   "source": [
    "Esta función admite diferentes argumentos para optimizar el histograma. Por ejemplo, es posible definir nosotros mismos los intervalos o clases del histograma o bien elegir uno de\n",
    "los posibles métodos para determinar el número de clases, entre los que se encuentra el criterio de Sturges. Tambien se puede establecer si el intervalo debe cerrarse por la derecha (,] o por la izquierda [,) con el argumento `right=TRUE` o `right=FALSE`. \n",
    "\n",
    "Como para los gráficos ya vistos, es muy recomendable escribir un título en\n",
    "el gráfico así como también las etiquetas en cada uno de los ejes de manera que\n",
    "la figura muestre cuales son las variables representadas. Así podemos mejorar\n",
    "el histograma anterior de la variable *Altura* de la forma:"
   ]
  },
  {
   "cell_type": "code",
   "execution_count": null,
   "id": "a474abaa-bb85-4acf-9d16-287ba9ee4f16",
   "metadata": {
    "scrolled": true
   },
   "outputs": [],
   "source": [
    "# Se crean los intervalos\n",
    "cortes <- seq(153,193,5)\n",
    "# Histograma\n",
    "hist(Altura, breaks=cortes, col=\"darkgray\", main=\"Histograma de frecuencias\", \n",
    "     xlim=c(150, 195), xlab=\"Altura (cm)\", ylab=\"ni\")"
   ]
  },
  {
   "cell_type": "markdown",
   "id": "de635925-7640-473c-9a80-373087e12436",
   "metadata": {},
   "source": [
    "Del gráfico obtenido podemos ver que las alturas de gran parte de los individuos estudiados se concentran en torno a 175 cm y que hay muy pocas personas con una altura por debajo de 158 cm o por encima de 188 cm. De la forma del histograma también podemos ver que la distribución de los datos es asimétrica por la izquierda.\n",
    "\n",
    "La función `hist` por defecto representa la frecuencia absoluta pero podemos obtener como de probable es un determinado intervalo de valores de la variable para esta muestra representando la densidad de probabilidad en lugar del valor absoluto. Para ello cambiamos su argumento `freq` a `FAlSE`. En este caso el área total del histograma es 1. Consultar la ayuda de la función para más detalles. "
   ]
  },
  {
   "cell_type": "code",
   "execution_count": null,
   "id": "e0d782aa-2226-4bcc-8c60-b1edad56da7b",
   "metadata": {},
   "outputs": [],
   "source": [
    "hist(Altura, freq=FALSE, breaks=cortes, col=\"darkgray\", \n",
    "     main=\"Densidad de probabilidad\", xlim=c(150, 195), xlab=\"Altura (cm)\", \n",
    "     ylab=\"Densidad\")"
   ]
  },
  {
   "cell_type": "markdown",
   "id": "493c6f85-9137-4066-b944-af32391350c5",
   "metadata": {},
   "source": [
    "Observar como cambian los valores del eje vertical en este caso. Por ejemplo de este nuevo histograma podemos observar que alrededor de un 2% de indiviuos de esta muestra tienen una altura entre 158 y 163 cm. \n",
    "\n",
    "Además la función `hist` permite guardar su salida en una variable de forma que podamos utilizarla para hacer otros cálculos posteriores. Un ejemplo de uso en otros cálculos puede ser para obtener la tabla de frecuencias de la variable con menos líneas de código que las que programamos en la sección de Tablas de Frecuencia. "
   ]
  },
  {
   "cell_type": "code",
   "execution_count": null,
   "id": "fc7b8959-07cc-4b01-af95-6879fb6c3d8a",
   "metadata": {},
   "outputs": [],
   "source": [
    "h <- hist(Altura, breaks=cortes, plot=F); h"
   ]
  },
  {
   "cell_type": "markdown",
   "id": "6b33e292-045a-40ca-b627-180a03056194",
   "metadata": {},
   "source": [
    "Notar que el objeto de clase histograma creado (`h`) es una lista con 5 componentes: `breaks` guarda los cortes de los intervalos definidos, `counts` almacena el número de observaciones que caen en cada intervalo es\n",
    "decir los valores de la frequencia absoluta, `density` guarda el valor de la densidad de probabilidad de cada intervalo, `mids` almacena las marcas de clase, `xname` guarda el nombre de la variable y `equidist` es un valor\n",
    "lógico que indica si los intervalos están equiespaciados o no. \n",
    "\n",
    "En este caso vamos a usar `mids`, `breaks` y `counts` para completar la tabla de frecuencias de la variable *Altura*."
   ]
  },
  {
   "cell_type": "code",
   "execution_count": null,
   "id": "a05f8ea5-2a3b-480c-bdf7-6342488e737f",
   "metadata": {},
   "outputs": [],
   "source": [
    "# Numero de marcas de clase\n",
    "c <- length(h$mids)\n",
    "# Tabla de frecuencias\n",
    "data.frame(\"(Li-1\"=h$breaks[1:c], \"Li]\"=h$breaks[2:(c+1)], xi=h$mids,\n",
    "            ni=h$counts, check.names=F)"
   ]
  },
  {
   "cell_type": "markdown",
   "id": "ff764b57-5af7-4bf5-8cd8-0ef628e2a6a4",
   "metadata": {},
   "source": [
    "<div class=\"alert alert-block alert-info\">\n",
    "<strong>PRACTICA TÚ MISMO</strong>\n",
    "\n",
    "Utilizando los datos del fichero *Pulsaciones.rda*, representa el histograma de la variable *Peso*. ¿Qué observas? Dibuja los histogramas de los hombres (en rojo) y de las mujeres (en azul) encima del histograma global. Nota: para añadir un histograma a otro ya representado utilizar el argumento `add=TRUE`.\n",
    "</div>"
   ]
  },
  {
   "cell_type": "markdown",
   "id": "ca5998f9-aefc-40ac-b23f-560ac5c4778a",
   "metadata": {},
   "source": [
    "## Diagrama de cajas\n",
    "\n",
    "Los diagramas de cajas (*box plot* en inglés) son muy útiles para representar la distribución de variables cuantitativas. En R se obtienen con la función `boxplot`. Por ejemplo, si queremos representar el diagrama de cajas de la variable *Altura*, la instrucción que debemos ejecutar es la siguiente:"
   ]
  },
  {
   "cell_type": "code",
   "execution_count": null,
   "id": "fc7f29db-3a46-4eda-be23-9e5fe2aeb384",
   "metadata": {},
   "outputs": [],
   "source": [
    "boxplot(Altura, ylab=\"Altura (cm)\", main=\"Diagrama de cajas de la Altura\")"
   ]
  },
  {
   "cell_type": "markdown",
   "id": "1af2cd7a-7862-4730-810b-553fa97e708d",
   "metadata": {},
   "source": [
    "En este caso le hemos añadido título a la figura con el argumento `main`. \n",
    "\n",
    "El comando `boxplot` permite además representar el diagrama de cajas de una determinada variable clasificada por grupos. Por ejemplo, podemos hacer el diagrama de cajas de la variable *Altura* separándola por *Sexo* mediante la instrucción: "
   ]
  },
  {
   "cell_type": "code",
   "execution_count": null,
   "id": "b2541d33-9fa2-4d8e-8e20-2c543105caa8",
   "metadata": {},
   "outputs": [],
   "source": [
    "boxplot(Altura~Sexo, xlab=\"Sexo\", ylab=\"Altura (cm)\", main=\"Diagrama de cajas de la Altura\")"
   ]
  },
  {
   "cell_type": "markdown",
   "id": "5cf74886-b00e-4a51-8e57-32ecaa1cf7af",
   "metadata": {},
   "source": [
    "De la figura anterior podemos ver grandes diferencias entre la altura de los hombres y las mujeres. Por ejemplo, el valor más bajo de la altura de los hombres de esa muestra corresponde con el valor de la mediana de las mujeres, es decir el 50% de las mujeres miden menos que la altura mínima del grupo de los hombres.\n",
    "\n",
    "En el caso en el que una variable presente datos atípicos (*outliers*), estos aparecerán también en el diagrama de cajas representados con círculos, por encima del bigote superior o por debajo del bigote inferior. \n",
    "\n",
    "En algunos casos resulta interesante representar dos figuras en una única ventana para facilitar la comparación. Por ejemplo, puede interesarnos comparar el diagrama de cajas de la variable *Altura* clasificada según el sexo y si los individuos fuman o no. "
   ]
  },
  {
   "cell_type": "code",
   "execution_count": null,
   "id": "bcc11741-655d-44be-a83e-847030b35e4f",
   "metadata": {},
   "outputs": [],
   "source": [
    "# Dividimos la ventana de gráficos en dos\n",
    "par(mfrow=c(1,2), mar=c(5,4,1,1))\n",
    "boxplot(Altura~Sexo, ylab=\"Altura (cm)\")\n",
    "boxplot(Altura~Fumar, ylab=\"Altura (cm)\")"
   ]
  },
  {
   "cell_type": "markdown",
   "id": "00fe4c0a-2f64-4d2a-88d8-eb5cb655eb9e",
   "metadata": {},
   "source": [
    "El argumento `mfrow` usado en la función `par` indica cuantas figuras y el orden en el que se van a integrar las figuras en la ventana de gráficos, 1 fila y dos columnas en este ejemplo *c(1,2)*. El parámetro `mar` controla la amplitud de los márgenes en sentido horario empezando en la base de la ventana de gráficos."
   ]
  },
  {
   "cell_type": "markdown",
   "id": "b880cfc4-ce47-4ea4-8073-029ff548419f",
   "metadata": {},
   "source": [
    "Muchas funciones gráficas de las que hemos visto también permiten añadir un nuevo gráfico al que ya hemos realizado. Para ello en las órdenes de R que ejecutemos debemos incluir la opción `add=TRUE`, o bien de forma abreviada `add=T`."
   ]
  },
  {
   "cell_type": "code",
   "execution_count": null,
   "id": "363e2de8-4759-4739-8385-b7deb413fdce",
   "metadata": {},
   "outputs": [],
   "source": [
    "par(mfrow=c(1,1)) # Vuelve a dibujar un solo panel en la ventana de graficos\n",
    "hist(Altura, main=\"Histograma de Altura\", xlab=\"Altura (cm)\", ylab=\"ni\")\n",
    "boxplot(Altura, add=T, horizontal=T, boxwex=5, border=\"red\",col=\"pink\", lwd=3)"
   ]
  },
  {
   "cell_type": "markdown",
   "id": "14b0e7ba-a312-4bb1-9dce-0deaf5412da8",
   "metadata": {},
   "source": [
    "En este caso se ha dibujado el histograma de la variable *Altura* al que se le ha superpuesto el diagrama de cajas. La combinación de ambas figuras permite analizar muchos más detalles estadísticos del conjunto de datos como el rango intercuartílico, la asimetría, etc. "
   ]
  },
  {
   "cell_type": "markdown",
   "id": "437a0f41-7630-43c9-8013-2fca20404e21",
   "metadata": {},
   "source": [
    "<div class=\"alert alert-block alert-info\">\n",
    "<strong>PRACTICA TÚ MISMO</strong>\n",
    "\n",
    "Utilizando los datos del fichero *Pulsaciones.rda*:\n",
    "1. Representa el diagrama de cajas de la variable *Pulso1*. Observando el gráfico, obtener aproximadamente el valor del pulso mínimo, del máximo, el valor del primer cuartil, de la mediana y del tercer cuartil.\n",
    "2. Calcula una variable que sea la diferencia de *Pulso2* y *Pulso1* y representa un diagrama de cajas de esa nueva variable frente a la variable *Correr.\n",
    "3. Representa por grupos dependiendo de su actividad física (*Actividad*) la variable diferencia de pulsos para aquellos que corrieron.\n",
    "</div>"
   ]
  }
 ],
 "metadata": {
  "kernelspec": {
   "display_name": "R",
   "language": "R",
   "name": "ir"
  },
  "language_info": {
   "codemirror_mode": "r",
   "file_extension": ".r",
   "mimetype": "text/x-r-source",
   "name": "R",
   "pygments_lexer": "r",
   "version": "4.3.3"
  }
 },
 "nbformat": 4,
 "nbformat_minor": 5
}
