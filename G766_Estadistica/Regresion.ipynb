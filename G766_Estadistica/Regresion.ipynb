{
 "cells": [
  {
   "cell_type": "markdown",
   "id": "89e4c580-7cb7-400e-8549-44c7af4a6d65",
   "metadata": {},
   "source": [
    "<div style=\"text-align: center; font-size: 30px;\">\n",
    "Prácticas de Estadística<br/>\n",
    "</div>\n",
    "<div style=\"text-align: center; font-size: 30px;\">\n",
    "Análisis bidimensional y Regresión\n",
    "</div>\n",
    "<div style=\"text-align: center; font-size: 16px; font-style: italic\">\n",
    "Material elaborado por M. Dolores Frías, Jesús Fernández y Carmen M. Sordo profesores del Departamento de Matemática Aplicada y Ciencias de la Computación de la Universidad de Cantabria.\n",
    "</div>"
   ]
  },
  {
   "cell_type": "markdown",
   "id": "b77abfbd-c549-4202-82df-802ce74d5f59",
   "metadata": {},
   "source": [
    "# Objetivos\n",
    "\n",
    "R permite realizar estudios de más de una variable. En particular en esta práctica nos centraremos\n",
    "en el caso de 2 variables con el fin de estudiar el comportamiento de una de ellas a partir de otra.\n",
    "\n",
    "# Análisis descriptivo de variables bidimensionales\n",
    "\n",
    "## Tablas de doble entrada\n",
    "\n",
    "En primer lugar construimos la tabla de doble entrada con dos variables no numéricas que seleccionamos del fichero *Pulsaciones.rda* como son *Actividad* que debemos ordenar de menos a más actividad y *Fumar*."
   ]
  },
  {
   "cell_type": "code",
   "execution_count": 21,
   "id": "6c529025-5488-4377-895c-480aa0c383e0",
   "metadata": {
    "editable": true,
    "slideshow": {
     "slide_type": ""
    },
    "tags": []
   },
   "outputs": [
    {
     "name": "stderr",
     "output_type": "stream",
     "text": [
      "The following objects are masked from Pulsaciones (pos = 3):\n",
      "\n",
      "    Actividad, Altura, Correr, Fumar, Peso, Pulso1, Pulso2, Sexo\n",
      "\n",
      "\n",
      "The following objects are masked from Pulsaciones (pos = 4):\n",
      "\n",
      "    Actividad, Altura, Correr, Fumar, Peso, Pulso1, Pulso2, Sexo\n",
      "\n",
      "\n"
     ]
    },
    {
     "data": {
      "text/plain": [
       "                Tabaco\n",
       "Actividad fisica fuma no fuma\n",
       "           baja     3       6\n",
       "           media   19      42\n",
       "           alta     6      16"
      ]
     },
     "metadata": {},
     "output_type": "display_data"
    }
   ],
   "source": [
    "# Establecemos el directorio donde se almacenan los ficheros de datos en GitHub\n",
    "setwd(\"data/\") \n",
    "# Carga de lo datos del fichero\n",
    "load(\"Pulsaciones.rda\") \n",
    "attach(Pulsaciones)\n",
    "# Ordenamos Actividad\n",
    "actividad.order <- ordered(Actividad, levels=c( \"baja\", \"media\", \"alta\"))\n",
    "# Tabla de doble entrada\n",
    "table(\"Actividad fisica\"=actividad.order, \"Tabaco\"=Fumar)"
   ]
  },
  {
   "cell_type": "markdown",
   "id": "ef739da9-3d5c-4fc7-8379-6f6d7c9e794f",
   "metadata": {
    "editable": true,
    "slideshow": {
     "slide_type": ""
    },
    "tags": []
   },
   "source": [
    "Del resultado de la tabla podemos ver por ejemplo, que la mayoría de las personas que realizan una actividad *media* o *alta* son no fumadores.\n",
    "\n",
    "Como ocurría en el caso unidimensional, si queremos agrupar los datos de variables continuas o discretas con muchos valores posibles debemos agrupar primero los valores en intervalos con la función `cut` indicando de donde a donde va cada uno de los intervalos y si estos se deben cerrar por la derecha o por la izquierda. Así, sabiendo que el criterio de Sturges nos indica que debemos definir 8 intervalos, la tabla de doble entrada para las variables *Pulso1* y *Pulso2* se puede obtener como:"
   ]
  },
  {
   "cell_type": "code",
   "execution_count": 22,
   "id": "436e3caa-cabc-4eb6-97dd-8f8280d72058",
   "metadata": {},
   "outputs": [
    {
     "data": {
      "text/html": [
       "8"
      ],
      "text/latex": [
       "8"
      ],
      "text/markdown": [
       "8"
      ],
      "text/plain": [
       "[1] 8"
      ]
     },
     "metadata": {},
     "output_type": "display_data"
    },
    {
     "data": {
      "text/html": [
       "<style>\n",
       ".list-inline {list-style: none; margin:0; padding: 0}\n",
       ".list-inline>li {display: inline-block}\n",
       ".list-inline>li:not(:last-child)::after {content: \"\\00b7\"; padding: 0 .5ex}\n",
       "</style>\n",
       "<ol class=list-inline><li>48</li><li>100</li></ol>\n"
      ],
      "text/latex": [
       "\\begin{enumerate*}\n",
       "\\item 48\n",
       "\\item 100\n",
       "\\end{enumerate*}\n"
      ],
      "text/markdown": [
       "1. 48\n",
       "2. 100\n",
       "\n",
       "\n"
      ],
      "text/plain": [
       "[1]  48 100"
      ]
     },
     "metadata": {},
     "output_type": "display_data"
    },
    {
     "data": {
      "text/html": [
       "<style>\n",
       ".list-inline {list-style: none; margin:0; padding: 0}\n",
       ".list-inline>li {display: inline-block}\n",
       ".list-inline>li:not(:last-child)::after {content: \"\\00b7\"; padding: 0 .5ex}\n",
       "</style>\n",
       "<ol class=list-inline><li>50</li><li>140</li></ol>\n"
      ],
      "text/latex": [
       "\\begin{enumerate*}\n",
       "\\item 50\n",
       "\\item 140\n",
       "\\end{enumerate*}\n"
      ],
      "text/markdown": [
       "1. 50\n",
       "2. 140\n",
       "\n",
       "\n"
      ],
      "text/plain": [
       "[1]  50 140"
      ]
     },
     "metadata": {},
     "output_type": "display_data"
    },
    {
     "data": {
      "text/plain": [
       "          \n",
       "           [50,62) [62,74) [74,86) [86,98) [98,110) [110,122) [122,134)\n",
       "  (44,51]        1       0       0       0        0         0         0\n",
       "  (51,58]        4       1       0       0        0         0         0\n",
       "  (58,65]        2       9       4       1        2         0         0\n",
       "  (65,72]        0      16       8       1        2         1         0\n",
       "  (72,79]        0       1      11       0        1         2         0\n",
       "  (79,86]        0       0       8       1        1         0         1\n",
       "  (86,93]        0       0       4       5        0         1         0\n",
       "  (93,100]       0       0       0       1        0         2         0\n",
       "          \n",
       "           [134,146)\n",
       "  (44,51]          0\n",
       "  (51,58]          0\n",
       "  (58,65]          0\n",
       "  (65,72]          0\n",
       "  (72,79]          0\n",
       "  (79,86]          0\n",
       "  (86,93]          0\n",
       "  (93,100]         1"
      ]
     },
     "metadata": {},
     "output_type": "display_data"
    }
   ],
   "source": [
    "n <- length(Pulso1)\n",
    "# Criterio de Sturges\n",
    "floor(3/2+log(n)/log(2)) \n",
    "range(Pulso1)\n",
    "range(Pulso2)\n",
    "# Tabla de doble entrada\n",
    "table(cut(Pulso1, seq(44, 105, 7)), cut(Pulso2, seq(50, 150, 12), right=FALSE))"
   ]
  },
  {
   "cell_type": "markdown",
   "id": "40fe9cc2-6648-4d47-bf46-bf9bdc60620f",
   "metadata": {
    "editable": true,
    "slideshow": {
     "slide_type": ""
    },
    "tags": []
   },
   "source": [
    "De la tabla podemos ver que hay 16 personas que tienen un peso mayor de 65 y menor o igual que 72 Kg y una altura mayor o igual que 62 cm y menor de 74 cm. \n",
    "\n",
    "Los valores que se muestran son frecuencias absolutas, pero podríamos obtener las frecuencias relativas sin más que dividir entre el tamaño de la muestra. Vemos en la siguiente tabla que esas 16 personas representan el 17.4% de la muestra."
   ]
  },
  {
   "cell_type": "code",
   "execution_count": 23,
   "id": "bbf7a2c1-8d38-4e85-a5cf-5225a643b385",
   "metadata": {},
   "outputs": [
    {
     "data": {
      "text/plain": [
       "          \n",
       "           [50,62) [62,74) [74,86) [86,98) [98,110) [110,122) [122,134)\n",
       "  (44,51]    0.011   0.000   0.000   0.000    0.000     0.000     0.000\n",
       "  (51,58]    0.043   0.011   0.000   0.000    0.000     0.000     0.000\n",
       "  (58,65]    0.022   0.098   0.043   0.011    0.022     0.000     0.000\n",
       "  (65,72]    0.000   0.174   0.087   0.011    0.022     0.011     0.000\n",
       "  (72,79]    0.000   0.011   0.120   0.000    0.011     0.022     0.000\n",
       "  (79,86]    0.000   0.000   0.087   0.011    0.011     0.000     0.011\n",
       "  (86,93]    0.000   0.000   0.043   0.054    0.000     0.011     0.000\n",
       "  (93,100]   0.000   0.000   0.000   0.011    0.000     0.022     0.000\n",
       "          \n",
       "           [134,146)\n",
       "  (44,51]      0.000\n",
       "  (51,58]      0.000\n",
       "  (58,65]      0.000\n",
       "  (65,72]      0.000\n",
       "  (72,79]      0.000\n",
       "  (79,86]      0.000\n",
       "  (86,93]      0.000\n",
       "  (93,100]     0.011"
      ]
     },
     "metadata": {},
     "output_type": "display_data"
    }
   ],
   "source": [
    "round(table(cut(Pulso1, seq(44, 105, 7)), cut(Pulso2, seq(50, 150, 12), right=FALSE))/n,3)"
   ]
  },
  {
   "cell_type": "markdown",
   "id": "d56dac86-73cf-4784-96eb-c6288c1662d9",
   "metadata": {},
   "source": [
    "## Diagrama de dispersión\n",
    "\n",
    "Con el fin de analizar la relación entre dos variables también resulta\n",
    "interesante la realización de distintos tipos de gráficos como es el\n",
    "diagrama de dispersión analizado en clase. En este caso vamos a estudiar la\n",
    "relación que existe entre las variables *Peso* y *Altura* del fichero *Pulsaciones.rda*:"
   ]
  },
  {
   "cell_type": "code",
   "execution_count": 24,
   "id": "f53b8617-6767-40cd-9d59-792c4ea2c903",
   "metadata": {},
   "outputs": [
    {
     "data": {
      "image/png": "[encoded data removed]",
      "text/plain": [
       "Plot with title “Diagrama de dispersion”"
      ]
     },
     "metadata": {
      "image/png": {
       "height": 420,
       "width": 420
      }
     },
     "output_type": "display_data"
    }
   ],
   "source": [
    "plot(Altura, Peso, main=\"Diagrama de dispersion\", pch=19, xlab=\"Altura (cm)\", ylab=\"Peso (Kg)\")"
   ]
  },
  {
   "cell_type": "markdown",
   "id": "c93120fe-f0ac-4d6f-ac69-4fc0eae78dec",
   "metadata": {},
   "source": [
    "Podemos mejorar la representación anterior utilizando la función `scatterplot`\n",
    "de la librería `car` que debemos instalar (este proceso solo se realiza una\n",
    "vez) y cargar con la función `library`. Recordar que debemos cargar esta\n",
    "librería cada vez que iniciemos R y queramos utilizar alguna función\n",
    "contenida en este paquete. "
   ]
  },
  {
   "cell_type": "code",
   "execution_count": 25,
   "id": "0362e057-cf68-44ed-84ff-32ac1bfc59f4",
   "metadata": {},
   "outputs": [
    {
     "name": "stderr",
     "output_type": "stream",
     "text": [
      "also installing the dependencies ‘cowplot’, ‘ggplot2’, ‘doBy’, ‘pbkrtest’, ‘scales’\n",
      "\n",
      "\n",
      "Warning message in install.packages(\"car\"):\n",
      "“installation of package ‘scales’ had non-zero exit status”\n",
      "Warning message in install.packages(\"car\"):\n",
      "“installation of package ‘ggplot2’ had non-zero exit status”\n",
      "Warning message in install.packages(\"car\"):\n",
      "“installation of package ‘cowplot’ had non-zero exit status”\n",
      "Warning message in install.packages(\"car\"):\n",
      "“installation of package ‘doBy’ had non-zero exit status”\n",
      "Warning message in install.packages(\"car\"):\n",
      "“installation of package ‘pbkrtest’ had non-zero exit status”\n",
      "Warning message in install.packages(\"car\"):\n",
      "“installation of package ‘car’ had non-zero exit status”\n",
      "Updating HTML index of packages in '.Library'\n",
      "\n",
      "Making 'packages.html' ...\n",
      " done\n",
      "\n"
     ]
    }
   ],
   "source": [
    "install.packages('car')\n"
   ]
  },
  {
   "cell_type": "code",
   "execution_count": 26,
   "id": "2f89baf4-af5d-4e10-a0de-e4796077911e",
   "metadata": {},
   "outputs": [
    {
     "ename": "ERROR",
     "evalue": "Error in library(car): there is no package called ‘car’\n",
     "output_type": "error",
     "traceback": [
      "Error in library(car): there is no package called ‘car’\nTraceback:\n",
      "1. library(car)"
     ]
    }
   ],
   "source": [
    "library(car)\n",
    "scatterplot(Peso~Altura, smooth=FALSE)"
   ]
  },
  {
   "cell_type": "markdown",
   "id": "13ee9c45-1189-4f12-85bd-bfc07fb02a29",
   "metadata": {},
   "source": [
    "La función `scatterplot` dibuja la recta de\n",
    "regresión que mejor se ajuste a la nube de puntos considerando el criterio de\n",
    "mínimos cuadrados. Además también dibuja los boxplots de cada variable en\n",
    "su eje correspondiente. Consultar la ayuda de la función `scatterplot` para\n",
    "ver todas las opciones que ofrece.\n",
    "\n",
    "A la vista de la figura, se deduce que existe una relación lineal directa entre ambas variables. Lineal porque la nube de puntos se concentra alrededor de una recta y directa porque cuando una variable aumenta la otra también (pendiente de la recta positiva). Para cuantificar\n",
    "esta relación lineal entre las dos variables vamos a calcular el coeficiente de correlación lineal. La función `cor.test` o `cor` nos proporcionan este valor:"
   ]
  },
  {
   "cell_type": "code",
   "execution_count": null,
   "id": "1e4ce049-b18e-4fe2-b3e3-4372db11fe98",
   "metadata": {},
   "outputs": [],
   "source": [
    "cor(Altura, Peso)"
   ]
  },
  {
   "cell_type": "markdown",
   "id": "1f19febe-a95a-4ded-abe2-f1db07f05557",
   "metadata": {},
   "source": [
    "que por defecto calcula el coeficiente de correlación de Pearson aunque como se indica en la ayuda de esta función también puede calcular el de Kendall o Spearman.\n",
    "\n",
    "Como ya esperábamos el coeficiente de correlación lineal es relativamente alto y positivo (0.7718114) lo que confirma la relación lineal directa entre las variables que ya observábamos en el diagrama de dispersión."
   ]
  },
  {
   "cell_type": "markdown",
   "id": "e7efa099-fc37-49a4-9dc0-2f63b7f37694",
   "metadata": {},
   "source": [
    "<div class=\"alert alert-block alert-info\">\n",
    "<strong>PRACTICA TÚ MISMO</strong>\n",
    "\n",
    "- Representar un diagrama de dispersión de *Pulso1* frente al *Pulso2*.\n",
    "  1. Añadir un título apropiado.\n",
    "  2. ¿Qué sugiere el gráfico sobre la relación entre estas dos variables? \n",
    "  3. Añadir *Correr* como variable de agrupamiento.\n",
    "  4. ¿Difiere mucho la relación entre *Pulso1* y *Pulso2* entre los que corrieron y los que no?\n",
    "\n",
    "</n>\n",
    "\n",
    "- Hacer un diagrama de dispersión de la *Altura* frente al *Peso* separando por sexos y responder a las siguientes preguntas:\n",
    "  1. ¿Aumenta en la misma proporción la altura con el peso en los hombres y en las mujeres?\n",
    "  2. ¿Cuál de los dos grupos presenta un valor de la correlación mayor? Indicar el valor en cada caso. Nota: En este caso se necesita filtrar los datos por *Sexo* antes de calcular el coeficiente de correlación.\n",
    "</div>"
   ]
  },
  {
   "cell_type": "markdown",
   "id": "de968d71-6579-4383-82d9-c10af3528e9d",
   "metadata": {},
   "source": [
    "# Regresión lineal\n",
    "\n",
    "La función `lm` de R es la que nos permite ajustar un modelo de regresión\n",
    "lineal ya sea simple ($\\hat{y}=a+bx$) con la orden `lm(y~x)` o\n",
    "múltiple ($\\hat{y}=\\beta_0+\\beta_1x_1+...+\\beta_px_p$) con la orden\n",
    "`lm(y~x1+x2+...+xp)`. \n",
    "\n",
    "A modo de ejemplo podemos aplicar un modelo de regresión lineal simple\n",
    "considerando la variable *Peso* en función de la *Altura*. La\n",
    "relación lineal entre estas variables ya la estudiamos con el gráfico de\n",
    "dispersión  y el coeficiente de\n",
    "correlación, considerando que este tipo de modelo es adecuado. En primer\n",
    "lugar se indica la variable dependiente (*Peso*), seguido de la variable\n",
    "independiente (*Altura*), separadas por el carácter `~`. "
   ]
  },
  {
   "cell_type": "code",
   "execution_count": 27,
   "id": "5be55fae-058c-4f51-ab58-2a91a918e1ec",
   "metadata": {},
   "outputs": [
    {
     "data": {
      "text/plain": [
       "\n",
       "Call:\n",
       "lm(formula = Peso ~ Altura)\n",
       "\n",
       "Coefficients:\n",
       "(Intercept)       Altura  \n",
       "   -93.8949       0.9152  \n"
      ]
     },
     "metadata": {},
     "output_type": "display_data"
    }
   ],
   "source": [
    "lm(Peso~Altura)"
   ]
  },
  {
   "cell_type": "markdown",
   "id": "bcf59e57-d0cd-4425-9a12-b80c3d416ba6",
   "metadata": {},
   "source": [
    "como resultado obtenemos los valores de los parámetros a y b:\n",
    "\n",
    "$\\hat{y}=-93.89492 + 0.91516x$ \n",
    "\n",
    "Para trabajar mejor con esos valores podemos guardar la salida de `lm` en una variable. Eso nos permite obtener distintos resultados calculados en el ajuste de la forma:"
   ]
  },
  {
   "cell_type": "code",
   "execution_count": 30,
   "id": "641543b1-1e2f-47a1-9eba-df8f29fdeeaf",
   "metadata": {},
   "outputs": [
    {
     "data": {
      "text/html": [
       "<style>\n",
       ".dl-inline {width: auto; margin:0; padding: 0}\n",
       ".dl-inline>dt, .dl-inline>dd {float: none; width: auto; display: inline-block}\n",
       ".dl-inline>dt::after {content: \":\\0020\"; padding-right: .5ex}\n",
       ".dl-inline>dt:not(:first-of-type) {padding-left: .5ex}\n",
       "</style><dl class=dl-inline><dt>(Intercept)</dt><dd>-93.8949207009546</dd><dt>Altura</dt><dd>0.915158497215097</dd></dl>\n"
      ],
      "text/latex": [
       "\\begin{description*}\n",
       "\\item[(Intercept)] -93.8949207009546\n",
       "\\item[Altura] 0.915158497215097\n",
       "\\end{description*}\n"
      ],
      "text/markdown": [
       "(Intercept)\n",
       ":   -93.8949207009546Altura\n",
       ":   0.915158497215097\n",
       "\n"
      ],
      "text/plain": [
       "(Intercept)      Altura \n",
       "-93.8949207   0.9151585 "
      ]
     },
     "metadata": {},
     "output_type": "display_data"
    },
    {
     "data": {
      "text/plain": [
       "\n",
       "Call:\n",
       "lm(formula = Peso ~ Altura)\n",
       "\n",
       "Residuals:\n",
       "     Min       1Q   Median       3Q      Max \n",
       "-13.5727  -4.7486  -0.0001   3.5080  23.2533 \n",
       "\n",
       "Coefficients:\n",
       "             Estimate Std. Error t value Pr(>|t|)    \n",
       "(Intercept) -93.89492   13.88816  -6.761 1.33e-09 ***\n",
       "Altura        0.91516    0.07947  11.515  < 2e-16 ***\n",
       "---\n",
       "Signif. codes:  0 ‘***’ 0.001 ‘**’ 0.01 ‘*’ 0.05 ‘.’ 0.1 ‘ ’ 1\n",
       "\n",
       "Residual standard error: 6.981 on 90 degrees of freedom\n",
       "Multiple R-squared:  0.5957,\tAdjusted R-squared:  0.5912 \n",
       "F-statistic: 132.6 on 1 and 90 DF,  p-value: < 2.2e-16\n"
      ]
     },
     "metadata": {},
     "output_type": "display_data"
    }
   ],
   "source": [
    "RegMod <- lm(Peso~Altura)\n",
    "# parámetros del ajuste\n",
    "coef(RegMod)\n",
    "# Estadística del modelo lineal\n",
    "summary(RegMod)"
   ]
  },
  {
   "cell_type": "markdown",
   "id": "9fb5e6f1-f444-4de0-9151-eaca290956fd",
   "metadata": {},
   "source": [
    "La orden `summary` que se ha ejecutado nos da información adicional\n",
    "sobre los residuos (su mínimo, máximo y cuartiles), los valores del corte con el eje y la pendiente, el error estándar de la estimación ($S_e=\\sqrt{\\frac{E^2}{n-2}}$), el coeficiente de determinación (*R-squared*) y el coeficiente de determinación ajustado (*Adjusted R-squared*), entre otros. \n",
    "\n",
    "Como ya sabemos, el valor del coeficiente de determinación está confinado en el intervalo [0,1] y da información de la bondad del ajuste. Cuanto más próximo esté el valor a 1 mejor se ajusta el modelo a los datos. Normalmente este valor se da en tanto por ciento. En este caso, al tratarse de un modelo de regresión lineal simple, el dato del coeficiente de determinación *R-squared*, se puede calcular como $r^2=\\frac{S^2_n(\\hat y)}{S^2_n(y)}$, e indica la proporción de la variación total de la variable dependiente Y que es explicada por el modelo de regresión o que se debe a la variación en la variable independiente X. \n",
    "\n",
    "En R, el coeficiente de determinación ajustado se calcula como:\n",
    "\n",
    "$R^2_{ajustado} = 1 - \\frac{n-1}{n-(p+1)} (1 - R^2)$\n",
    "\n",
    "siendo n el tamaño de la muestra y p el número de predictores considerados en el modelo. Es decir, penaliza la bondad del ajuste en aquellos casos en los que haya más predictores y el tamaño de la muestra sea pequeño. La diferencia entre ambos coeficientes indica por tanto que hay demasiados predictores en relación con el tamaño de la muestra considerado y por tanto el ajuste del modelo es peor si se considera otro conjunto de datos. \n",
    "\n",
    "Al haber guardado la salida de la función `lm` en una variable, también es posible obtener las series de los residuos $\\epsilon=(y_i-\\hat{y}_i)$ y de los datos ajustados $(\\hat{y}_i)$ con el modelo lineal ejecutando los comandos:"
   ]
  },
  {
   "cell_type": "code",
   "execution_count": 31,
   "id": "dbddbe6b-09b9-470d-8959-9284f22e5b94",
   "metadata": {},
   "outputs": [
    {
     "data": {
      "text/html": [
       "<style>\n",
       ".dl-inline {width: auto; margin:0; padding: 0}\n",
       ".dl-inline>dt, .dl-inline>dd {float: none; width: auto; display: inline-block}\n",
       ".dl-inline>dt::after {content: \":\\0020\"; padding-right: .5ex}\n",
       ".dl-inline>dt:not(:first-of-type) {padding-left: .5ex}\n",
       "</style><dl class=dl-inline><dt>1</dt><dd>1.91526146937518</dd><dt>2</dt><dd>-7.17756843968662</dd><dt>3</dt><dd>-5.85971827826852</dd><dt>4</dt><dd>12.0269560686681</dd><dt>5</dt><dd>2.19915198886964</dd><dt>6</dt><dd>-0.824853734673777</dd><dt>7</dt><dd>-4.67908428940812</dd><dt>8</dt><dd>7.99967077368093</dd><dt>9</dt><dd>17.42910590725</dd><dt>10</dt><dd>-10.9793782430285</dd><dt>11</dt><dd>-5.57397187381267</dd><dt>12</dt><dd>-4.14756843968662</dd><dt>13</dt><dd>1.97731914471792</dd><dt>14</dt><dd>3.77707127271718</dd><dt>15</dt><dd>5.90032780335112</dd><dt>16</dt><dd>6.40001080892093</dd><dt>17</dt><dd>16.1082470871987</dd><dt>18</dt><dd>1.98575721337678</dd><dt>19</dt><dd>3.12815492395939</dd><dt>20</dt><dd>3.15193581631192</dd><dt>21</dt><dd>4.84668515585753</dd><dt>22</dt><dd>1.37367649722435</dd><dt>23</dt><dd>-9.3287442541681</dd><dt>24</dt><dd>2.31267943231411</dd><dt>25</dt><dd>17.0365755287157</dd><dt>26</dt><dd>-4.72835813730847</dd><dt>27</dt><dd>-6.04265781447226</dd><dt>28</dt><dd>-0.95992006864961</dd><dt>29</dt><dd>2.42501359737456</dd><dt>30</dt><dd>-12.2072284044466</dd><dt>31</dt><dd>-13.5726578144723</dd><dt>32</dt><dd>-0.0232687625228167</dd><dt>33</dt><dd>1.16521538775565</dd><dt>34</dt><dd>0.402298892361748</dd><dt>35</dt><dd>-9.10295176809262</dd><dt>36</dt><dd>8.28118662340243</dd><dt>37</dt><dd>-0.684513699433786</dd><dt>38</dt><dd>10.2861202894266</dd><dt>39</dt><dd>2.37428744527491</dd><dt>40</dt><dd>23.2533364619843</dd><dt>41</dt><dd>5.70191277550209</dd><dt>42</dt><dd>0.0230885899835956</dd><dt>43</dt><dd>-4.06546468272437</dd><dt>44</dt><dd>-5.43394883300286</dd><dt>45</dt><dd>-3.76118804637038</dd><dt>46</dt><dd>5.92069087940095</dd><dt>47</dt><dd>0.269445942490011</dd><dt>48</dt><dd>5.93998776811112</dd><dt>49</dt><dd>-8.80216207047079</dd><dt>50</dt><dd>2.84435656770437</dd><dt>51</dt><dd>7.93521538775566</dd><dt>52</dt><dd>-0.293516634523566</dd><dt>53</dt><dd>-5.38030618550926</dd><dt>54</dt><dd>3.85098483302134</dd><dt>55</dt><dd>-11.4494243246481</dd><dt>56</dt><dd>-6.14546468272437</dd><dt>57</dt><dd>-0.33480765305414</dd><dt>58</dt><dd>0.540396925780585</dd><dt>59</dt><dd>9.57849495919943</dd><dt>60</dt><dd>6.12025868092165</dd><dt>61</dt><dd>1.21188973469229</dd><dt>62</dt><dd>1.59521538775566</dd><dt>63</dt><dd>2.77759005752847</dd><dt>64</dt><dd>-8.06057709831982</dd><dt>65</dt><dd>-8.77695749163604</dd><dt>66</dt><dd>-4.48781631168735</dd><dt>67</dt><dd>-6.92263477366243</dd><dt>68</dt><dd>5.66946898329983</dd><dt>69</dt><dd>-1.14867513173866</dd><dt>70</dt><dd>-3.21593738591602</dd><dt>71</dt><dd>-0.721095883131113</dd><dt>72</dt><dd>9.8198781409693</dd><dt>73</dt><dd>3.41836229124779</dd><dt>74</dt><dd>0.264402649324004</dd><dt>75</dt><dd>-5.37566647310546</dd><dt>76</dt><dd>4.24134790907117</dd><dt>77</dt><dd>-3.09715928201714</dd><dt>78</dt><dd>-4.8092630389794</dd><dt>79</dt><dd>-2.79623133953638</dd><dt>80</dt><dd>-4.59774718925789</dd><dt>81</dt><dd>-8.68985094622014</dd><dt>82</dt><dd>-8.27505552505487</dd><dt>83</dt><dd>1.78399349165455</dd><dt>84</dt><dd>-12.506277421156</dd><dt>85</dt><dd>-1.79923999816959</dd><dt>86</dt><dd>-1.71405846014466</dd><dt>87</dt><dd>-9.64285960485335</dd><dt>88</dt><dd>1.68408565489382</dd><dt>89</dt><dd>-3.3499200686496</dd><dt>90</dt><dd>-1.47921695735975</dd><dt>91</dt><dd>6.13736522633757</dd><dt>92</dt><dd>-2.05951091098014</dd></dl>\n"
      ],
      "text/latex": [
       "\\begin{description*}\n",
       "\\item[1] 1.91526146937518\n",
       "\\item[2] -7.17756843968662\n",
       "\\item[3] -5.85971827826852\n",
       "\\item[4] 12.0269560686681\n",
       "\\item[5] 2.19915198886964\n",
       "\\item[6] -0.824853734673777\n",
       "\\item[7] -4.67908428940812\n",
       "\\item[8] 7.99967077368093\n",
       "\\item[9] 17.42910590725\n",
       "\\item[10] -10.9793782430285\n",
       "\\item[11] -5.57397187381267\n",
       "\\item[12] -4.14756843968662\n",
       "\\item[13] 1.97731914471792\n",
       "\\item[14] 3.77707127271718\n",
       "\\item[15] 5.90032780335112\n",
       "\\item[16] 6.40001080892093\n",
       "\\item[17] 16.1082470871987\n",
       "\\item[18] 1.98575721337678\n",
       "\\item[19] 3.12815492395939\n",
       "\\item[20] 3.15193581631192\n",
       "\\item[21] 4.84668515585753\n",
       "\\item[22] 1.37367649722435\n",
       "\\item[23] -9.3287442541681\n",
       "\\item[24] 2.31267943231411\n",
       "\\item[25] 17.0365755287157\n",
       "\\item[26] -4.72835813730847\n",
       "\\item[27] -6.04265781447226\n",
       "\\item[28] -0.95992006864961\n",
       "\\item[29] 2.42501359737456\n",
       "\\item[30] -12.2072284044466\n",
       "\\item[31] -13.5726578144723\n",
       "\\item[32] -0.0232687625228167\n",
       "\\item[33] 1.16521538775565\n",
       "\\item[34] 0.402298892361748\n",
       "\\item[35] -9.10295176809262\n",
       "\\item[36] 8.28118662340243\n",
       "\\item[37] -0.684513699433786\n",
       "\\item[38] 10.2861202894266\n",
       "\\item[39] 2.37428744527491\n",
       "\\item[40] 23.2533364619843\n",
       "\\item[41] 5.70191277550209\n",
       "\\item[42] 0.0230885899835956\n",
       "\\item[43] -4.06546468272437\n",
       "\\item[44] -5.43394883300286\n",
       "\\item[45] -3.76118804637038\n",
       "\\item[46] 5.92069087940095\n",
       "\\item[47] 0.269445942490011\n",
       "\\item[48] 5.93998776811112\n",
       "\\item[49] -8.80216207047079\n",
       "\\item[50] 2.84435656770437\n",
       "\\item[51] 7.93521538775566\n",
       "\\item[52] -0.293516634523566\n",
       "\\item[53] -5.38030618550926\n",
       "\\item[54] 3.85098483302134\n",
       "\\item[55] -11.4494243246481\n",
       "\\item[56] -6.14546468272437\n",
       "\\item[57] -0.33480765305414\n",
       "\\item[58] 0.540396925780585\n",
       "\\item[59] 9.57849495919943\n",
       "\\item[60] 6.12025868092165\n",
       "\\item[61] 1.21188973469229\n",
       "\\item[62] 1.59521538775566\n",
       "\\item[63] 2.77759005752847\n",
       "\\item[64] -8.06057709831982\n",
       "\\item[65] -8.77695749163604\n",
       "\\item[66] -4.48781631168735\n",
       "\\item[67] -6.92263477366243\n",
       "\\item[68] 5.66946898329983\n",
       "\\item[69] -1.14867513173866\n",
       "\\item[70] -3.21593738591602\n",
       "\\item[71] -0.721095883131113\n",
       "\\item[72] 9.8198781409693\n",
       "\\item[73] 3.41836229124779\n",
       "\\item[74] 0.264402649324004\n",
       "\\item[75] -5.37566647310546\n",
       "\\item[76] 4.24134790907117\n",
       "\\item[77] -3.09715928201714\n",
       "\\item[78] -4.8092630389794\n",
       "\\item[79] -2.79623133953638\n",
       "\\item[80] -4.59774718925789\n",
       "\\item[81] -8.68985094622014\n",
       "\\item[82] -8.27505552505487\n",
       "\\item[83] 1.78399349165455\n",
       "\\item[84] -12.506277421156\n",
       "\\item[85] -1.79923999816959\n",
       "\\item[86] -1.71405846014466\n",
       "\\item[87] -9.64285960485335\n",
       "\\item[88] 1.68408565489382\n",
       "\\item[89] -3.3499200686496\n",
       "\\item[90] -1.47921695735975\n",
       "\\item[91] 6.13736522633757\n",
       "\\item[92] -2.05951091098014\n",
       "\\end{description*}\n"
      ],
      "text/markdown": [
       "1\n",
       ":   1.915261469375182\n",
       ":   -7.177568439686623\n",
       ":   -5.859718278268524\n",
       ":   12.02695606866815\n",
       ":   2.199151988869646\n",
       ":   -0.8248537346737777\n",
       ":   -4.679084289408128\n",
       ":   7.999670773680939\n",
       ":   17.4291059072510\n",
       ":   -10.979378243028511\n",
       ":   -5.5739718738126712\n",
       ":   -4.1475684396866213\n",
       ":   1.9773191447179214\n",
       ":   3.7770712727171815\n",
       ":   5.9003278033511216\n",
       ":   6.4000108089209317\n",
       ":   16.108247087198718\n",
       ":   1.9857572133767819\n",
       ":   3.1281549239593920\n",
       ":   3.1519358163119221\n",
       ":   4.8466851558575322\n",
       ":   1.3736764972243523\n",
       ":   -9.328744254168124\n",
       ":   2.3126794323141125\n",
       ":   17.036575528715726\n",
       ":   -4.7283581373084727\n",
       ":   -6.0426578144722628\n",
       ":   -0.9599200686496129\n",
       ":   2.4250135973745630\n",
       ":   -12.207228404446631\n",
       ":   -13.572657814472332\n",
       ":   -0.023268762522816733\n",
       ":   1.1652153877556534\n",
       ":   0.40229889236174835\n",
       ":   -9.1029517680926236\n",
       ":   8.2811866234024337\n",
       ":   -0.68451369943378638\n",
       ":   10.286120289426639\n",
       ":   2.3742874452749140\n",
       ":   23.253336461984341\n",
       ":   5.7019127755020942\n",
       ":   0.023088589983595643\n",
       ":   -4.0654646827243744\n",
       ":   -5.4339488330028645\n",
       ":   -3.7611880463703846\n",
       ":   5.9206908794009547\n",
       ":   0.26944594249001148\n",
       ":   5.9399877681111249\n",
       ":   -8.8021620704707950\n",
       ":   2.8443565677043751\n",
       ":   7.9352153877556652\n",
       ":   -0.29351663452356653\n",
       ":   -5.3803061855092654\n",
       ":   3.8509848330213455\n",
       ":   -11.449424324648156\n",
       ":   -6.1454646827243757\n",
       ":   -0.3348076530541458\n",
       ":   0.54039692578058559\n",
       ":   9.5784949591994360\n",
       ":   6.1202586809216561\n",
       ":   1.2118897346922962\n",
       ":   1.5952153877556663\n",
       ":   2.7775900575284764\n",
       ":   -8.0605770983198265\n",
       ":   -8.7769574916360466\n",
       ":   -4.4878163116873567\n",
       ":   -6.9226347736624368\n",
       ":   5.6694689832998369\n",
       ":   -1.1486751317386670\n",
       ":   -3.2159373859160271\n",
       ":   -0.72109588313111372\n",
       ":   9.819878140969373\n",
       ":   3.4183622912477974\n",
       ":   0.26440264932400475\n",
       ":   -5.3756664731054676\n",
       ":   4.2413479090711777\n",
       ":   -3.0971592820171478\n",
       ":   -4.809263038979479\n",
       ":   -2.7962313395363880\n",
       ":   -4.5977471892578981\n",
       ":   -8.6898509462201482\n",
       ":   -8.2750555250548783\n",
       ":   1.7839934916545584\n",
       ":   -12.50627742115685\n",
       ":   -1.7992399981695986\n",
       ":   -1.7140584601446687\n",
       ":   -9.6428596048533588\n",
       ":   1.6840856548938289\n",
       ":   -3.349920068649690\n",
       ":   -1.4792169573597591\n",
       ":   6.1373652263375792\n",
       ":   -2.05951091098014\n",
       "\n"
      ],
      "text/plain": [
       "           1            2            3            4            5            6 \n",
       "  1.91526147  -7.17756844  -5.85971828  12.02695607   2.19915199  -0.82485373 \n",
       "           7            8            9           10           11           12 \n",
       " -4.67908429   7.99967077  17.42910591 -10.97937824  -5.57397187  -4.14756844 \n",
       "          13           14           15           16           17           18 \n",
       "  1.97731914   3.77707127   5.90032780   6.40001081  16.10824709   1.98575721 \n",
       "          19           20           21           22           23           24 \n",
       "  3.12815492   3.15193582   4.84668516   1.37367650  -9.32874425   2.31267943 \n",
       "          25           26           27           28           29           30 \n",
       " 17.03657553  -4.72835814  -6.04265781  -0.95992007   2.42501360 -12.20722840 \n",
       "          31           32           33           34           35           36 \n",
       "-13.57265781  -0.02326876   1.16521539   0.40229889  -9.10295177   8.28118662 \n",
       "          37           38           39           40           41           42 \n",
       " -0.68451370  10.28612029   2.37428745  23.25333646   5.70191278   0.02308859 \n",
       "          43           44           45           46           47           48 \n",
       " -4.06546468  -5.43394883  -3.76118805   5.92069088   0.26944594   5.93998777 \n",
       "          49           50           51           52           53           54 \n",
       " -8.80216207   2.84435657   7.93521539  -0.29351663  -5.38030619   3.85098483 \n",
       "          55           56           57           58           59           60 \n",
       "-11.44942432  -6.14546468  -0.33480765   0.54039693   9.57849496   6.12025868 \n",
       "          61           62           63           64           65           66 \n",
       "  1.21188973   1.59521539   2.77759006  -8.06057710  -8.77695749  -4.48781631 \n",
       "          67           68           69           70           71           72 \n",
       " -6.92263477   5.66946898  -1.14867513  -3.21593739  -0.72109588   9.81987814 \n",
       "          73           74           75           76           77           78 \n",
       "  3.41836229   0.26440265  -5.37566647   4.24134791  -3.09715928  -4.80926304 \n",
       "          79           80           81           82           83           84 \n",
       " -2.79623134  -4.59774719  -8.68985095  -8.27505553   1.78399349 -12.50627742 \n",
       "          85           86           87           88           89           90 \n",
       " -1.79924000  -1.71405846  -9.64285960   1.68408565  -3.34992007  -1.47921696 \n",
       "          91           92 \n",
       "  6.13736523  -2.05951091 "
      ]
     },
     "metadata": {},
     "output_type": "display_data"
    }
   ],
   "source": [
    "# Residuos\n",
    "residuals(RegMod)"
   ]
  },
  {
   "cell_type": "code",
   "execution_count": 32,
   "id": "cd19a81e-20d0-4541-b11e-5f56554e1924",
   "metadata": {},
   "outputs": [
    {
     "data": {
      "text/html": [
       "<style>\n",
       ".dl-inline {width: auto; margin:0; padding: 0}\n",
       ".dl-inline>dt, .dl-inline>dd {float: none; width: auto; display: inline-block}\n",
       ".dl-inline>dt::after {content: \":\\0020\"; padding-right: .5ex}\n",
       ".dl-inline>dt:not(:first-of-type) {padding-left: .5ex}\n",
       "</style><dl class=dl-inline><dt>1</dt><dd>60.0347385306248</dd><dt>2</dt><dd>73.4875684396866</dd><dt>3</dt><dd>77.2397182782685</dd><dt>4</dt><dd>76.2330439313319</dd><dt>5</dt><dd>66.4408480111304</dd><dt>6</dt><dd>75.1348537346738</dd><dt>7</dt><dd>73.5790842894081</dd><dt>8</dt><dd>77.8803292263191</dd><dt>9</dt><dd>72.48089409275</dd><dt>10</dt><dd>72.3893782430285</dd><dt>11</dt><dd>78.7039718738127</dd><dt>12</dt><dd>73.4875684396866</dd><dt>13</dt><dd>68.3626808552821</dd><dt>14</dt><dd>61.1329287272828</dd><dt>15</dt><dd>71.1996721966489</dd><dt>16</dt><dd>73.0299891910791</dd><dt>17</dt><dd>65.8917529128013</dd><dt>18</dt><dd>74.4942427866232</dd><dt>19</dt><dd>77.9718450760406</dd><dt>20</dt><dd>59.0280641836881</dd><dt>21</dt><dd>72.0233148441425</dd><dt>22</dt><dd>69.1863235027757</dd><dt>23</dt><dd>68.7287442541681</dd><dt>24</dt><dd>80.7173205676859</dd><dt>25</dt><dd>46.6734244712843</dd><dt>26</dt><dd>57.8383581373085</dd><dt>27</dt><dd>65.3426578144722</dd><dt>28</dt><dd>63.9699200686496</dd><dt>29</dt><dd>52.8049864026254</dd><dt>30</dt><dd>68.6372284044466</dd><dt>31</dt><dd>65.3426578144723</dd><dt>32</dt><dd>65.9832687625228</dd><dt>33</dt><dd>66.0747846122443</dd><dt>34</dt><dd>51.1577011076383</dd><dt>35</dt><dd>64.1529517680926</dd><dt>36</dt><dd>77.7888133765976</dd><dt>37</dt><dd>70.2845136994338</dd><dt>38</dt><dd>66.6238797105734</dd><dt>39</dt><dd>68.5457125547251</dd><dt>40</dt><dd>74.0366635380157</dd><dt>41</dt><dd>62.0480872244979</dd><dt>42</dt><dd>66.8069114100164</dd><dt>43</dt><dd>75.7754646827244</dd><dt>44</dt><dd>75.6839488330029</dd><dt>45</dt><dd>71.2911880463704</dd><dt>46</dt><dd>63.329309120599</dd><dt>47</dt><dd>67.63055405751</dd><dt>48</dt><dd>76.0500122318889</dd><dt>49</dt><dd>79.8021620704708</dd><dt>50</dt><dd>59.4856434322956</dd><dt>51</dt><dd>66.0747846122443</dd><dt>52</dt><dd>58.7535166345236</dd><dt>53</dt><dd>74.8603061855093</dd><dt>54</dt><dd>64.5190151669787</dd><dt>55</dt><dd>78.4294243246482</dd><dt>56</dt><dd>75.7754646827244</dd><dt>57</dt><dd>69.0948076530541</dd><dt>58</dt><dd>62.1396030742194</dd><dt>59</dt><dd>73.1215050408006</dd><dt>60</dt><dd>80.2597413190783</dd><dt>61</dt><dd>65.0681102653077</dd><dt>62</dt><dd>66.0747846122443</dd><dt>63</dt><dd>72.5724099424715</dd><dt>64</dt><dd>70.6505770983198</dd><dt>65</dt><dd>72.846957491636</dd><dt>66</dt><dd>66.2578163116873</dd><dt>67</dt><dd>62.3226347736624</dd><dt>68</dt><dd>64.6105310167002</dd><dt>69</dt><dd>59.6686751317387</dd><dt>70</dt><dd>58.295937385916</dd><dt>71</dt><dd>59.2110958831311</dd><dt>72</dt><dd>50.7001218590307</dd><dt>73</dt><dd>50.7916377087522</dd><dt>74</dt><dd>53.445597350676</dd><dt>75</dt><dd>62.5056664731055</dd><dt>76</dt><dd>56.6486520909288</dd><dt>77</dt><dd>59.5771592820171</dd><dt>78</dt><dd>57.2892630389794</dd><dt>79</dt><dd>57.1062313395364</dd><dt>80</dt><dd>57.1977471892579</dd><dt>81</dt><dd>54.9098509462201</dd><dt>82</dt><dd>61.8650555250549</dd><dt>83</dt><dd>67.3560065083454</dd><dt>84</dt><dd>63.146277421156</dd><dt>85</dt><dd>54.2692399981696</dd><dt>86</dt><dd>50.3340584601447</dd><dt>87</dt><dd>52.0728596048533</dd><dt>88</dt><dd>55.2759143451062</dd><dt>89</dt><dd>63.9699200686496</dd><dt>90</dt><dd>51.2492169573598</dd><dt>91</dt><dd>62.3226347736624</dd><dt>92</dt><dd>50.0595109109801</dd></dl>\n"
      ],
      "text/latex": [
       "\\begin{description*}\n",
       "\\item[1] 60.0347385306248\n",
       "\\item[2] 73.4875684396866\n",
       "\\item[3] 77.2397182782685\n",
       "\\item[4] 76.2330439313319\n",
       "\\item[5] 66.4408480111304\n",
       "\\item[6] 75.1348537346738\n",
       "\\item[7] 73.5790842894081\n",
       "\\item[8] 77.8803292263191\n",
       "\\item[9] 72.48089409275\n",
       "\\item[10] 72.3893782430285\n",
       "\\item[11] 78.7039718738127\n",
       "\\item[12] 73.4875684396866\n",
       "\\item[13] 68.3626808552821\n",
       "\\item[14] 61.1329287272828\n",
       "\\item[15] 71.1996721966489\n",
       "\\item[16] 73.0299891910791\n",
       "\\item[17] 65.8917529128013\n",
       "\\item[18] 74.4942427866232\n",
       "\\item[19] 77.9718450760406\n",
       "\\item[20] 59.0280641836881\n",
       "\\item[21] 72.0233148441425\n",
       "\\item[22] 69.1863235027757\n",
       "\\item[23] 68.7287442541681\n",
       "\\item[24] 80.7173205676859\n",
       "\\item[25] 46.6734244712843\n",
       "\\item[26] 57.8383581373085\n",
       "\\item[27] 65.3426578144722\n",
       "\\item[28] 63.9699200686496\n",
       "\\item[29] 52.8049864026254\n",
       "\\item[30] 68.6372284044466\n",
       "\\item[31] 65.3426578144723\n",
       "\\item[32] 65.9832687625228\n",
       "\\item[33] 66.0747846122443\n",
       "\\item[34] 51.1577011076383\n",
       "\\item[35] 64.1529517680926\n",
       "\\item[36] 77.7888133765976\n",
       "\\item[37] 70.2845136994338\n",
       "\\item[38] 66.6238797105734\n",
       "\\item[39] 68.5457125547251\n",
       "\\item[40] 74.0366635380157\n",
       "\\item[41] 62.0480872244979\n",
       "\\item[42] 66.8069114100164\n",
       "\\item[43] 75.7754646827244\n",
       "\\item[44] 75.6839488330029\n",
       "\\item[45] 71.2911880463704\n",
       "\\item[46] 63.329309120599\n",
       "\\item[47] 67.63055405751\n",
       "\\item[48] 76.0500122318889\n",
       "\\item[49] 79.8021620704708\n",
       "\\item[50] 59.4856434322956\n",
       "\\item[51] 66.0747846122443\n",
       "\\item[52] 58.7535166345236\n",
       "\\item[53] 74.8603061855093\n",
       "\\item[54] 64.5190151669787\n",
       "\\item[55] 78.4294243246482\n",
       "\\item[56] 75.7754646827244\n",
       "\\item[57] 69.0948076530541\n",
       "\\item[58] 62.1396030742194\n",
       "\\item[59] 73.1215050408006\n",
       "\\item[60] 80.2597413190783\n",
       "\\item[61] 65.0681102653077\n",
       "\\item[62] 66.0747846122443\n",
       "\\item[63] 72.5724099424715\n",
       "\\item[64] 70.6505770983198\n",
       "\\item[65] 72.846957491636\n",
       "\\item[66] 66.2578163116873\n",
       "\\item[67] 62.3226347736624\n",
       "\\item[68] 64.6105310167002\n",
       "\\item[69] 59.6686751317387\n",
       "\\item[70] 58.295937385916\n",
       "\\item[71] 59.2110958831311\n",
       "\\item[72] 50.7001218590307\n",
       "\\item[73] 50.7916377087522\n",
       "\\item[74] 53.445597350676\n",
       "\\item[75] 62.5056664731055\n",
       "\\item[76] 56.6486520909288\n",
       "\\item[77] 59.5771592820171\n",
       "\\item[78] 57.2892630389794\n",
       "\\item[79] 57.1062313395364\n",
       "\\item[80] 57.1977471892579\n",
       "\\item[81] 54.9098509462201\n",
       "\\item[82] 61.8650555250549\n",
       "\\item[83] 67.3560065083454\n",
       "\\item[84] 63.146277421156\n",
       "\\item[85] 54.2692399981696\n",
       "\\item[86] 50.3340584601447\n",
       "\\item[87] 52.0728596048533\n",
       "\\item[88] 55.2759143451062\n",
       "\\item[89] 63.9699200686496\n",
       "\\item[90] 51.2492169573598\n",
       "\\item[91] 62.3226347736624\n",
       "\\item[92] 50.0595109109801\n",
       "\\end{description*}\n"
      ],
      "text/markdown": [
       "1\n",
       ":   60.03473853062482\n",
       ":   73.48756843968663\n",
       ":   77.23971827826854\n",
       ":   76.23304393133195\n",
       ":   66.44084801113046\n",
       ":   75.13485373467387\n",
       ":   73.57908428940818\n",
       ":   77.88032922631919\n",
       ":   72.4808940927510\n",
       ":   72.389378243028511\n",
       ":   78.703971873812712\n",
       ":   73.487568439686613\n",
       ":   68.362680855282114\n",
       ":   61.132928727282815\n",
       ":   71.199672196648916\n",
       ":   73.029989191079117\n",
       ":   65.891752912801318\n",
       ":   74.494242786623219\n",
       ":   77.971845076040620\n",
       ":   59.028064183688121\n",
       ":   72.023314844142522\n",
       ":   69.186323502775723\n",
       ":   68.728744254168124\n",
       ":   80.717320567685925\n",
       ":   46.673424471284326\n",
       ":   57.838358137308527\n",
       ":   65.342657814472228\n",
       ":   63.969920068649629\n",
       ":   52.804986402625430\n",
       ":   68.637228404446631\n",
       ":   65.342657814472332\n",
       ":   65.983268762522833\n",
       ":   66.074784612244334\n",
       ":   51.157701107638335\n",
       ":   64.152951768092636\n",
       ":   77.788813376597637\n",
       ":   70.284513699433838\n",
       ":   66.623879710573439\n",
       ":   68.545712554725140\n",
       ":   74.036663538015741\n",
       ":   62.048087224497942\n",
       ":   66.806911410016443\n",
       ":   75.775464682724444\n",
       ":   75.683948833002945\n",
       ":   71.291188046370446\n",
       ":   63.32930912059947\n",
       ":   67.6305540575148\n",
       ":   76.050012231888949\n",
       ":   79.802162070470850\n",
       ":   59.485643432295651\n",
       ":   66.074784612244352\n",
       ":   58.753516634523653\n",
       ":   74.860306185509354\n",
       ":   64.519015166978755\n",
       ":   78.429424324648256\n",
       ":   75.775464682724457\n",
       ":   69.094807653054158\n",
       ":   62.139603074219459\n",
       ":   73.121505040800660\n",
       ":   80.259741319078361\n",
       ":   65.068110265307762\n",
       ":   66.074784612244363\n",
       ":   72.572409942471564\n",
       ":   70.650577098319865\n",
       ":   72.84695749163666\n",
       ":   66.257816311687367\n",
       ":   62.322634773662468\n",
       ":   64.610531016700269\n",
       ":   59.668675131738770\n",
       ":   58.29593738591671\n",
       ":   59.211095883131172\n",
       ":   50.700121859030773\n",
       ":   50.791637708752274\n",
       ":   53.44559735067675\n",
       ":   62.505666473105576\n",
       ":   56.648652090928877\n",
       ":   59.577159282017178\n",
       ":   57.289263038979479\n",
       ":   57.106231339536480\n",
       ":   57.197747189257981\n",
       ":   54.909850946220182\n",
       ":   61.865055525054983\n",
       ":   67.356006508345484\n",
       ":   63.14627742115685\n",
       ":   54.269239998169686\n",
       ":   50.334058460144787\n",
       ":   52.072859604853388\n",
       ":   55.275914345106289\n",
       ":   63.969920068649690\n",
       ":   51.249216957359891\n",
       ":   62.322634773662492\n",
       ":   50.0595109109801\n",
       "\n"
      ],
      "text/plain": [
       "       1        2        3        4        5        6        7        8 \n",
       "60.03474 73.48757 77.23972 76.23304 66.44085 75.13485 73.57908 77.88033 \n",
       "       9       10       11       12       13       14       15       16 \n",
       "72.48089 72.38938 78.70397 73.48757 68.36268 61.13293 71.19967 73.02999 \n",
       "      17       18       19       20       21       22       23       24 \n",
       "65.89175 74.49424 77.97185 59.02806 72.02331 69.18632 68.72874 80.71732 \n",
       "      25       26       27       28       29       30       31       32 \n",
       "46.67342 57.83836 65.34266 63.96992 52.80499 68.63723 65.34266 65.98327 \n",
       "      33       34       35       36       37       38       39       40 \n",
       "66.07478 51.15770 64.15295 77.78881 70.28451 66.62388 68.54571 74.03666 \n",
       "      41       42       43       44       45       46       47       48 \n",
       "62.04809 66.80691 75.77546 75.68395 71.29119 63.32931 67.63055 76.05001 \n",
       "      49       50       51       52       53       54       55       56 \n",
       "79.80216 59.48564 66.07478 58.75352 74.86031 64.51902 78.42942 75.77546 \n",
       "      57       58       59       60       61       62       63       64 \n",
       "69.09481 62.13960 73.12151 80.25974 65.06811 66.07478 72.57241 70.65058 \n",
       "      65       66       67       68       69       70       71       72 \n",
       "72.84696 66.25782 62.32263 64.61053 59.66868 58.29594 59.21110 50.70012 \n",
       "      73       74       75       76       77       78       79       80 \n",
       "50.79164 53.44560 62.50567 56.64865 59.57716 57.28926 57.10623 57.19775 \n",
       "      81       82       83       84       85       86       87       88 \n",
       "54.90985 61.86506 67.35601 63.14628 54.26924 50.33406 52.07286 55.27591 \n",
       "      89       90       91       92 \n",
       "63.96992 51.24922 62.32263 50.05951 "
      ]
     },
     "metadata": {},
     "output_type": "display_data"
    }
   ],
   "source": [
    "# Valores de Y estimados\n",
    "fitted(RegMod)"
   ]
  },
  {
   "cell_type": "markdown",
   "id": "704bf44c-ea8a-43f9-b642-eb5e5f53bae0",
   "metadata": {},
   "source": [
    "Con esas series sería posible analizar el ajuste del modelo estudiando el comportamiento de los residuos. Para ello podemos dibujar los residuos frente a los datos estimados y ver como se comporta su media y varianza. R nos proporciona una serie de gráficos de ajuste del modelo (incluido el anterior) a través de las siguientes órdenes:"
   ]
  },
  {
   "cell_type": "code",
   "execution_count": 33,
   "id": "78f5b1e9-fd39-405a-a009-a807a9b76367",
   "metadata": {},
   "outputs": [
    {
     "data": {
      "image/png": "[encoded data removed]",
      "text/plain": [
       "Plot with title “”"
      ]
     },
     "metadata": {
      "image/png": {
       "height": 420,
       "width": 420
      }
     },
     "output_type": "display_data"
    }
   ],
   "source": [
    "layout(matrix(c(1,2,3,4),2,2))\n",
    "plot(RegMod)"
   ]
  },
  {
   "cell_type": "markdown",
   "id": "08092c19-46b2-4e7c-8253-e174fd4647ff",
   "metadata": {},
   "source": [
    "Por ejemplo la primera figura muestra el gráfico de los residuos frente a los valores ajustados que hemos analizado en clase. Recordar que el caso ideal es que la media de los residuos sea cero y la varianza constante. Además la distribución de los puntos debe ser totalmente aleatoria, es decir no debe aparecer ningún patrón en ese gráfico ya que sino indicaría que no hemos modelizado bien los datos. \n",
    "\n",
    "Una vez analizada la bondad de ajuste del modelo y estudiado el comportamiento de los residuos, si consideramos que el modelo es adecuado podemos predecir el valor de la variable dependiente (Ŷ) para un valor concreto de la variable independiente (X). En este caso, podemos obtener el valor del peso para un valor de la altura de 185.7 cm con la orden `predict`:"
   ]
  },
  {
   "cell_type": "code",
   "execution_count": null,
   "id": "10736481-ad63-4c91-851a-b76c567be7d4",
   "metadata": {},
   "outputs": [],
   "source": [
    "newdata <- data.frame(Altura=185.7)\n",
    "predict(RegMod, newdata)"
   ]
  },
  {
   "cell_type": "markdown",
   "id": "59173c71-4b49-494d-805f-9d521550f48c",
   "metadata": {},
   "source": [
    "A partir del modelo ajustado obtenemos que el valor estimado del peso para una\n",
    "altura de 185.7 cm es de 76.05 Kg. \n",
    "\n",
    "En la ayuda de la función `predict`, se indica que es preciso pasarle los\n",
    "datos que se quieren usar para predecir como un data frame con el mismo nombre de la variable que el usado para ajustar el modelo. En otro caso la sentencia\n",
    "anterior dará un error. "
   ]
  },
  {
   "cell_type": "markdown",
   "id": "2c5fb98e-aac0-4fbe-ad22-22411fda9d08",
   "metadata": {},
   "source": [
    "<div class=\"alert alert-block alert-info\">\n",
    "<strong>PRACTICA TÚ MISMO</strong>\n",
    "\n",
    "- Calcular la ecuaciones de la recta de ajuste del *Peso* en función de la *Altura* agrupados por *Sexo* y contestar a las siguientes preguntas:\n",
    "  1. Escribir la ecuación resultante para las mujeres.\n",
    "  2. ¿Cuál es la pendiente de la recta obtenida en el caso de los hombres?\n",
    "  3. ¿Para que *Sexo* el modelo se ajusta mejor? ¿Por qué? \n",
    "\n",
    "</n>\n",
    "\n",
    "- Un ciclista se desplaza en línea recta con un movimiento uniforme para el\n",
    "cual según las leyes de la mecánica su posición x en un instante t\n",
    "vendrá dada por la ecuación $x=x_0+vt$ donde $x_0$ es la posición inicial\n",
    "y v la velocidad.</n>\n",
    "\n",
    "  Se han tomado los siguientes valores de su posición x en metros y el tiempo t en segundos:\n",
    "  \n",
    "    x (metros)  14 26.2 37.7 51 61.8 76 84.2\n",
    "  \n",
    "    t (segundos) 2 4 6 8 10 12 14\n",
    "  </n>\n",
    "\n",
    "    A partir de estos datos estimar:\n",
    "  1. el coeficiente de correlación\n",
    "  2. los valores de la posición inicial y la velocidad del ciclista por medio de una regresión lineal.\n",
    "  3. el espacio recorrido por el ciclista transcurridos 9 segundos.\n",
    "  4. el error estandar de la estimación y la fracción de varianza explicada por el modelo.\n",
    "\n",
    "</div>"
   ]
  }
 ],
 "metadata": {
  "kernelspec": {
   "display_name": "R",
   "language": "R",
   "name": "ir"
  },
  "language_info": {
   "codemirror_mode": "r",
   "file_extension": ".r",
   "mimetype": "text/x-r-source",
   "name": "R",
   "pygments_lexer": "r",
   "version": "4.3.3"
  }
 },
 "nbformat": 4,
 "nbformat_minor": 5
}
