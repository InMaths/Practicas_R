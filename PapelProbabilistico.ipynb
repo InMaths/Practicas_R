{
 "cells": [
  {
   "cell_type": "markdown",
   "id": "9415cf60-2a7f-4695-82b0-22f7aaec7a15",
   "metadata": {},
   "source": [
    "<div style=\"text-align: center; font-size: 30px;\">\n",
    "Prácticas de Estadística<br/>\n",
    "</div>\n",
    "<div style=\"text-align: center; font-size: 30px;\">\n",
    "Papel Probabilístico\n",
    "</div>\n",
    "<div style=\"text-align: center; font-size: 16px; font-style: italic\">\n",
    "Material elaborado por M. Dolores Frías, Jesús Fernández y Carmen M. Sordo profesores del Departamento de Matemática Aplicada y Ciencias de la Computación de la Universidad de Cantabria.\n",
    "</div>"
   ]
  },
  {
   "cell_type": "markdown",
   "id": "b77abfbd-c549-4202-82df-802ce74d5f59",
   "metadata": {},
   "source": [
    "# Objetivos\n",
    "\n",
    "Los métodos gráficos han sido tradicionalmente utilizados en ingeniería\n",
    "debido a su sencillez y utilidad para analizar datos y comprender su\n",
    "estructura. Con la popularización de los ordenadores como herramienta habitual\n",
    "de trabajo, la representación gráfica ha pasado de realizarse manualmente a ser\n",
    "hecha en el ordenador. Uno de los métodos gráficos tradicionales que puede\n",
    "ser fácilmente implementado en R es el basado en el concepto de papel\n",
    "probabilístico.\n",
    "\n",
    "La idea básica del papel probabilístico, de una familia\n",
    "biparamétrica de funciones de distribución,  es modificar las escalas\n",
    "del dibujo de la variable aleatoria y de la probabilidad acumulada, de tal\n",
    "forma que dicha familia se convierta en una familia de rectas. De esta manera,\n",
    "cuando se representa la función de distribución en dicho papel, el\n",
    "aspecto de la gráfica (rectilinea o no) sirve para decidir si los datos\n",
    "proceden de esa familia de distribuciones o no. Además, de la\n",
    "representación pueden obtenerse también los parámetros de la\n",
    "distribución concreta que mejor se ajusta.\n",
    "\n",
    "\n",
    "# Función de distribución empírica (ECDF)\n",
    "\n",
    "Si tomamos una muestra de una población cuya función de distribución\n",
    "desconocemos, podemos construir una *función de distribución muestral*\n",
    "conocida como **función de distribución empírica** (ECDF, del inglés *Empirical Cumulative Distribution Function*. Esta función nos dará la probabilidad de obtener un valor menor o igual que uno dado a la vista de la\n",
    "muestra que hemos obtenido. \n",
    "\n",
    "Para construirla ordenamos los valores $x_i$ que ha tomado la variable en nuestra muestra de tamaño $n$. Al elemento que ocupa el lugar i-ésimo una vez ordenada la muestra se le conoce como **estadístico de\n",
    "orden** $i$, y lo denotaremos por $x_{i:n}$. \n",
    "\n",
    "La función de distribución empírica asigna a cada valor obtenido en la muestra una probabilidad acumulada $i/n$:\n",
    "\n",
    "$S_n(x_{i:n})= \\frac{i}{n}$\n",
    "\n",
    "En realidad, esta función está definida en toda la recta real y tiene forma escalonada. En R, se puede obtener mediante la función `ecdf`:"
   ]
  },
  {
   "cell_type": "code",
   "execution_count": null,
   "id": "436e3caa-cabc-4eb6-97dd-8f8280d72058",
   "metadata": {},
   "outputs": [],
   "source": [
    "x.i <- rnorm(50)       # Tomamos muestra de tamaño 50 de N(0,1)\n",
    "Sn <- ecdf(x.i)        # Construimos su ECDF\n",
    "Sn(1.2)                # Podemos usarla como una función...\n",
    "plot(Sn)               # ... plot la interpreta de forma especial\n",
    "curve(pnorm(x), col=\"red\", add=T)  # Podemos compararla con la dist. de la poblacion de origen\n",
    "legend(\"topleft\", legend=c(\"ecdf(rnorm(50))\", expression(\"F\"[N(0,1)]*\"(x)\")),\n",
    "       col=c(\"black\",\"red\"), lty=1, box.lty=0)"
   ]
  },
  {
   "cell_type": "markdown",
   "id": "ef739da9-3d5c-4fc7-8379-6f6d7c9e794f",
   "metadata": {
    "editable": true,
    "slideshow": {
     "slide_type": ""
    },
    "tags": []
   },
   "source": [
    "Esta función de distribución empírica es la que queremos representar en papel probabilístico, es decir, en un gráfico con nuevas escalas en los ejes, de tal forma que sus puntos queden formando una línea recta en\n",
    "lugar de la curva que hemos obtenido con el código anterior. \n",
    " \n",
    "Sin embargo, en el caso de muchas familias de distribuciones, al valor $1$ (que alcanza\n",
    "$S_n(x_{n:n})$), cuando se le aplica la transformación de escala se\n",
    "transforman en $\\infty $. Por ello, es imposible dibujarlo. Una solución a este\n",
    "problema consiste en usar otras **fórmulas de punteo**, diferentes de\n",
    "$i/n$ para asignar la probabilidad acumulada hasta cada dato de la muestra. La\n",
    "siguiente tabla resume diferentes fórmulas de punteo propuestas por diferentes\n",
    "autores:"
   ]
  },
  {
   "cell_type": "markdown",
   "id": "057a020b-4432-4e4e-bc8e-313e497968d4",
   "metadata": {},
   "source": [
    "<div><img alt=\"Plotting positions\" src=\"./figuras/tabla_punteo_en.png\" width=\"250\"/></div>"
   ]
  },
  {
   "cell_type": "markdown",
   "id": "40fe9cc2-6648-4d47-bf46-bf9bdc60620f",
   "metadata": {
    "editable": true,
    "slideshow": {
     "slide_type": ""
    },
    "tags": []
   },
   "source": [
    "En lo que sigue utilizaremos la fórmula de Hazen, aunque en R podemos utilizar cualquier otra sin mayor dificultad. \n",
    "\n",
    "Para el desarrollo de esta práctica hemos programado una serie de funciones contenidas en el fichero *papeles.R* que entre otras incluye también funciones para calcular estos punteos de la siguiente manera:"
   ]
  },
  {
   "cell_type": "code",
   "execution_count": null,
   "id": "bbf7a2c1-8d38-4e85-a5cf-5225a643b385",
   "metadata": {},
   "outputs": [],
   "source": [
    "source(\"functions/papeles.R\")    # Cargamos el fichero con funciones de esta practica \n",
    "punteo.hazen(50)       # Nos devuelve las probabilidades asignadas por el punteo Hazen"
   ]
  },
  {
   "cell_type": "markdown",
   "id": "c1b93834-8161-4ccf-8e97-e23ddde77b45",
   "metadata": {},
   "source": [
    "Recordar que la orden `source(\"papeles.R\")` solo se debe ejecutar una vez al principio de esta práctica para tener cargadas todas las funciones que necesitamos. Además para que esa orden funcione debemos haber establecido el directorio de trabajo que contiene al fichero con el comando `setwd()`."
   ]
  },
  {
   "cell_type": "code",
   "execution_count": null,
   "id": "d68469f4-5dc3-47d7-a57a-62ac8b93bd4f",
   "metadata": {},
   "outputs": [],
   "source": [
    "punteo.gringorten(50) # Punteo Gringorten"
   ]
  },
  {
   "cell_type": "markdown",
   "id": "d56dac86-73cf-4784-96eb-c6288c1662d9",
   "metadata": {},
   "source": [
    "R dispone también de una función genérica `ppoints(n,a)` que implementa la fórmula $p_{i:n}=\\frac{i-a}{n+(1-2a)}$ que permite calcular estos y otros punteos dependiendo del valor de a. Por ejemplo, los dos casos de arriba se pueden obtener como `ppoints(50,0.5)` (Hazen) y `ppoints(50,0.44)` (Gringorten)."
   ]
  },
  {
   "cell_type": "markdown",
   "id": "23e64808-c3fb-46f4-97c2-462df3c0c5a7",
   "metadata": {},
   "source": [
    "# Fundamentos del papel probabilístico\n",
    "\n",
    "El papel probabilístico es, simplemente, un papel en el que se han cambiado las escalas de tal manera que las funciones de distribución de una cierta familia, cuando se dibujan en él, se convierten en una familia de líneas\n",
    "rectas.\n",
    "\n",
    "Sea $F_X(x;\\theta_1,\\theta_2)$ una familia biparamétrica de funciones de distribución, donde $\\theta_1$ y $\\theta_2$ son los parámetros. Se busca una transformación \n",
    "\\begin{equation}\n",
    "\\xi =g(x)\\quad;\\quad \\eta =h(y)\\quad \\quad \\quad (1)\n",
    "\\end{equation}\n",
    "tal que la familia de curvas\n",
    "\\begin{equation}\n",
    "y=F_X(x;\\theta_1,\\theta_2)\\quad \\quad \\quad (2)\n",
    "\\end{equation}\n",
    "cuando se transforma por by (1) se convierten en una familia de líneas rectas, es decir: \n",
    "\\begin{equation}\n",
    "h(y)=h[F_X(x;\\theta_1,\\theta_2)]=ag(x)+b\\quad \\quad \\Leftrightarrow \\quad \\quad \\eta\n",
    "=a\\xi +b  \\quad \\quad \\quad (3)\n",
    "\\end{equation}\n",
    "donde la variable $\\eta $ se llama variable reducida y $a=a(\\theta_1,\\theta_2)$ y $b=b(\\theta_1,\\theta_2)$ son, respectivamente, la pendiente y la ordenada en el origen de la recta en la que se transforma $F_X(x;\\theta_1,\\theta_2)$.\n",
    "\n",
    "Por tanto, para que exista un papel probabilístico asociado a una cierta\n",
    "familia de funciones de distribución $F_X(x;\\theta_1,\\theta_2)$ se necesita que\n",
    "\\begin{equation}\n",
    "F_X(x;\\theta_1,\\theta_2)=h^{-1}[ag(x)+b]\\quad \\quad \\quad (4)\n",
    "\\end{equation}\n",
    "\n",
    "Dada una familia de distribuciones conocida, tendremos que buscar la forma de\n",
    "las transformaciones $h$ y $g$ que hacen posible el papel probabilístico para esa familia. \n",
    "\n",
    "En esta práctica refrescaremos una de las transformaciones vistas en clase que hace posible el papel normal y analizaremos en detalle la transformación necesaria del papel exponencial. Además de estos dos papeles, también utilizaremos el resto de papeles probabilísticos cuyas transformaciones hemos visto en detalle clase."
   ]
  },
  {
   "cell_type": "markdown",
   "id": "c93120fe-f0ac-4d6f-ac69-4fc0eae78dec",
   "metadata": {},
   "source": [
    "# Papel Normal\n",
    "\n",
    "Si $F_X(x;\\mu , \\sigma )$ es la función de distribución de\n",
    "una variable normal, sabemos que puede ser escrita como:\n",
    "\\begin{equation}\n",
    "F_X(x;\\mu , \\sigma )=\\Phi \\left({{x-\\mu } \\over \\sigma }\\right)\\quad \\quad \\quad (5)  \n",
    "\\end{equation}\n",
    "donde $\\mu $ y $\\sigma $ son la media y la desviación típica, respectivamente, y $\\Phi (x)$ es la función de distribución de la variable normal estándar $F_{N(0,1)}(x)$.\n",
    "\n",
    "Entonces, según (1) y (3), la ecuación (5) is:\n",
    "\\begin{equation}\n",
    "\\xi =g(x)=x\\quad;\\quad\\eta =h(y)=\\Phi ^{-1}(y)\\quad;\\quad a={1 \\over \\sigma\n",
    "}\\quad;\\quad b=-\\frac{\\mu}{\\sigma}\\quad \\quad \\quad (6) \n",
    "\\end{equation}\n",
    "y la familia de líneas rectas es\n",
    "\\begin{equation}\n",
    "\\eta =a\\xi +b={{\\xi -\\mu } \\over \\sigma } \\quad \\quad \\quad (7) \n",
    "\\end{equation}\n",
    "\n",
    "Si los puntos $\\left( g(x_{i:n}), h\\!\\left(\\frac{i-0.5}{n}\\right) \\right) = \\left(x_{i:n}, \\Phi^{-1}\\!\\left(\\frac{i-0.5}{n}\\right) \\right)$ se alinean formando una recta, se acepta la hipótesis de normalidad y la estimación de los\n",
    "parámetros $\\mu $ y $\\sigma $ puede hacerse tras ajustar una recta a los mismos. Notar que haciendo $\\eta =0$ y $\\eta =1$ en (7) se obtiene:\n",
    "\\begin{equation} \\begin{array}{l}\\eta =0\\quad\\Rightarrow \\quad 0={{\\xi -\\mu }\n",
    "\\over \\sigma }\\quad\\Rightarrow \\quad\\xi_{\\eta =0} =\\mu \\\\\n",
    "  \\eta =1\\quad \\Rightarrow \\quad 1={{\\xi -\\mu } \\over \\sigma }\\quad\\Rightarrow\\quad \\xi_{\\eta =1} =\\mu +\\sigma\n",
    "\\end{array} \\end{equation}\n",
    "\n",
    "La siguiente figura muestra un papel probabilístico normal, donde el eje de las ordenadas ha sido transformado por $\\eta =\\Phi ^{-1}(y)$ y el eje de abscisas no ha sufrido transformación alguna. En este papel se representan directamente los puntos de la función de distribución empírica: $\\left( x_{i:n}, \\frac{i-0.5}{n}\\right)$."
   ]
  },
  {
   "cell_type": "markdown",
   "id": "36b09c23-15a0-4b85-91db-1abb128212fe",
   "metadata": {},
   "source": [
    "<div><img alt=\"papel_normal\" src=\"./figuras/papel_normal.png\" width=\"500\"/></div>\n",
    "\n",
    "*Normal probability paper representing data from a sample of size 50 taken from a standardized Normal distribution.* "
   ]
  },
  {
   "cell_type": "markdown",
   "id": "13ee9c45-1189-4f12-85bd-bfc07fb02a29",
   "metadata": {},
   "source": [
    "## Papel Normal en R\n",
    "\n",
    "En R se pueden dibujar fácilmente las transformaciones de los datos necesarias\n",
    "para representar un conjunto de datos en papel normal. Para ello, basta utilizar la función `qnorm` como $h(y)$ para transformar las probabilidades empíricas. Sin embargo, en las instrucciones del fichero *papeles.R* se\n",
    "define una función `papel.normal` que facilita la representación. Para utilizarla basta ejecutar el siguiente código. "
   ]
  },
  {
   "cell_type": "code",
   "execution_count": null,
   "id": "1e4ce049-b18e-4fe2-b3e3-4372db11fe98",
   "metadata": {},
   "outputs": [],
   "source": [
    "load(\"data/normal.rda\")  # carga la variable data\n",
    "papel.normal(data)"
   ]
  },
  {
   "cell_type": "markdown",
   "id": "1f19febe-a95a-4ded-abe2-f1db07f05557",
   "metadata": {},
   "source": [
    "La recta que mejor se ajusta a los datos mediante mínimos cuadrados se puede obtener utilizando el argumento  `show.fit` que como vemos además nos indica en el gráfico el valor de $\\xi_{\\eta=0}=\\mu=-0.04$ y $\\xi_{\\eta=1}=\\mu+\\sigma=1.01$, de los que podemos obtener el valor de los parámetros $\\mu=-0.04$ y $\\sigma=1.05$:"
   ]
  },
  {
   "cell_type": "code",
   "execution_count": null,
   "id": "5be55fae-058c-4f51-ab58-2a91a918e1ec",
   "metadata": {},
   "outputs": [],
   "source": [
    "papel.normal(data, show.fit=TRUE)"
   ]
  },
  {
   "cell_type": "markdown",
   "id": "9fb5e6f1-f444-4de0-9151-eaca290956fd",
   "metadata": {},
   "source": [
    "Notar que la salida de esa función devuelve los valores de $\\mu$ y $\\sigma$ anteriores. Estos dos valores se pueden guardar en una variable para así poder usarlos posteriormente para cualquier otro cálculo. Por ejemplo para calcular una probabilidad como se muestra a continuación:"
   ]
  },
  {
   "cell_type": "code",
   "execution_count": null,
   "id": "641543b1-1e2f-47a1-9eba-df8f29fdeeaf",
   "metadata": {},
   "outputs": [],
   "source": [
    "papelnorm_out <- papel.normal(data, show.fit=TRUE)\n",
    "# P(X<=2) \n",
    "pnorm(2, papelnorm_out$mean, papelnorm_out$sd)"
   ]
  },
  {
   "cell_type": "markdown",
   "id": "0757ef45-457b-42e5-8489-03c45aaac7e3",
   "metadata": {},
   "source": [
    "A menudo, los datos más extremos de una muestra no se ajustan bien a una recta. Esto se debe a que las regiones con poca probabilidad de ocurrencia (las colas de la distribución) necesitan de tamaños de muestra muy grandes para disponer de un número de datos suficiente como para representarlas adecuadamente. Es común que falten valores en rangos que tenían una pequeña probabilidad de ocurrir y que aparezcan valores en otros rangos más improbables. Por esta razón, a veces, es preferible descartar los datos más extremos de la muestra y ajustar la recta únicamente a los valores que realmente se alinean. La función `papel.normal` admite el argumento `trim=N`, para eliminar `N` puntos de cada cola antes de hacer el ajuste lineal. \n",
    "\n",
    "Pruébalo con los datos anteriores y observa el efecto sobre la recta y los parámetros de la distribución:"
   ]
  },
  {
   "cell_type": "code",
   "execution_count": null,
   "id": "95d6abe3-4561-4031-ae2f-6355dd5b85af",
   "metadata": {},
   "outputs": [],
   "source": [
    "papel.normal(data, show.fit=TRUE, trim=3)"
   ]
  },
  {
   "cell_type": "markdown",
   "id": "aa4b9f3d-a332-4235-9a89-49637dd0961a",
   "metadata": {},
   "source": [
    "<div class=\"alert alert-block alert-info\">\n",
    "<strong>PRACTICA TÚ MISMO</strong>\n",
    "\n",
    "- El fichero *resistencias.rda* contiene datos de resistencia a la compresión (en Kg/cm$^2$) de 40 probetas de hormigón.\n",
    "  1. Comprobar si se puede aceptar la hipótesis de que las resistencias se distribuyen de forma normal.\n",
    "  2. Obtener la resistencia media y la desviación típica a partir del modelo normal ajustado.\n",
    "  3. Si se define la resistencia característica como aquella que es superada por el 95% de las muestras y damos por bueno el ajuste anterior ¿Cuál es la resistencia característica de este hormigón?\n",
    "\n",
    "</n>\n",
    "\n",
    "- El fichero *datos_papeles.rda* contiene 4 muestras de 30 datos cada una. Al cargar el fichero, están disponibles en las variables: data1, data2, data3 y data4. Representar las muestras sobre papel normal y en caso de que sea aceptable este modelo, obtener los parámetros de la distribución.\n",
    "\n",
    "</div>"
   ]
  },
  {
   "cell_type": "markdown",
   "id": "3b02e7ca-4ffd-46d6-8386-814cacccb28f",
   "metadata": {},
   "source": [
    "# Papel exponencial\n",
    "\n",
    "El papel probabilístico exponencial transforma la función de distribución exponencial en una línea recta. Vamos a generalizar la variable aleatoria exponencial respecto a la que hemos visto en teoría, añadiéndole un parámetro de localización $x_0$, es decir:\n",
    "\n",
    "$F_{Ex(\\alpha,x_0)}(x) = 1- e^{-\\alpha(x-x_0)} \\qquad \\forall x \\ge x_0$\n",
    "\n",
    "Esta distribución se conoce como distribución exponencial desplazada. Haciendo $x_0=0$ se recupera la distribución exponencial ordinaria. Si hacemos las transformaciones\n",
    "\n",
    "$\\eta = h(y) = -\\ln(1-y) \\qquad \\xi=g(x) = x$\n",
    "\n",
    "podemos escribir la exponencial desplazada como\n",
    "\n",
    "$y = 1- e^{-\\alpha(x-x_0)}\n",
    "\\;\\Rightarrow\\; \\eta = h(y) = -\\ln(1-y) = \\alpha(x-x_0) = \\alpha(\\xi -x_0)$\n",
    "\n",
    "Es decir\n",
    "\n",
    "$\\eta = a\\xi +b$\n",
    "\n",
    "con $a=\\alpha$ y $b=-\\alpha x_0$.\n",
    "\n",
    "De nuevo, los cortes con las rectas $\\eta=0$ y $\\eta=1$, nos permiten obtener los parámetros:\n",
    "\\begin{eqnarray}\n",
    "\\eta = 0 & \\;\\Rightarrow\\; & 0 = \\alpha(\\xi -x_0) \\;\\Rightarrow\\; \\xi_{\\eta=0} = x_0 \\\\\n",
    "\\eta = 1 & \\;\\Rightarrow\\; & 1 = \\alpha(\\xi -x_0) \\;\\Rightarrow\\; \\xi_{\\eta=1} = x_0+\\alpha^{-1}\n",
    "\\end{eqnarray}\n"
   ]
  },
  {
   "cell_type": "markdown",
   "id": "6e171a1e-0f68-4c73-83a9-fb157729f966",
   "metadata": {},
   "source": [
    "## Papel exponencial en R\n",
    "\n",
    "El fichero *papeles.R* incluye la función `papel.exponential` para dibujar fácilmente las transformaciones de los datos necesarias para representar un conjunto de datos en papel exponencial. Para ello, basta hacer:"
   ]
  },
  {
   "cell_type": "code",
   "execution_count": null,
   "id": "dbddbe6b-09b9-470d-8959-9284f22e5b94",
   "metadata": {},
   "outputs": [],
   "source": [
    "data <- rexp(40, 0.5)  # 40 datos aleatorios de una dist. Ex(0.5)\n",
    "papel.exponencial(data)"
   ]
  },
  {
   "cell_type": "markdown",
   "id": "831bddf6-150b-4914-9407-bc86204285f1",
   "metadata": {},
   "source": [
    "Al igual que en el caso de la normal, esta función admite los argumentos `show.fit` y `trim`. Además tiene un argumento `allow.shift=FALSE`, que ajusta la versión no desplazada de la distribución exponencial (es decir, obliga a tener $x_0=0$)."
   ]
  },
  {
   "cell_type": "markdown",
   "id": "9d8d7522-a9e5-4793-a0d1-8c12c7adb281",
   "metadata": {},
   "source": [
    "<div class=\"alert alert-block alert-info\">\n",
    "<strong>PRACTICA TÚ MISMO</strong>\n",
    "\n",
    "Comprobar si alguna de las muestras del fichero *datos_papeles.rda* responde a una distribución exponencial y, en tal caso, obtener sus parámetros.\n",
    "</div>"
   ]
  },
  {
   "cell_type": "markdown",
   "id": "08092c19-46b2-4e7c-8253-e174fd4647ff",
   "metadata": {},
   "source": [
    "# Papel extremal\n",
    "\n",
    "En esta parte de la práctica trataremos el uso del papel probabilístico\n",
    "para el caso de extremos. Nos centraremos por tanto en analizar las colas de la\n",
    "distribución (derecha o izquierda según interese) ya que esta es la única\n",
    "parte de la función de distribución que gobierna el comportamiento de los\n",
    "extremos, ya seán máximos o mínimos.\n",
    "\n",
    "Como ejemplo vamos a considerar la distribuciones Normal y Esponencial, para\n",
    "ilustrar el papel de las colas en el comportamiento de los extremos. Con este\n",
    "fin vamos a utilizar algunas de las funciones contenidas en el fichero\n",
    "*papeles.R* para representar muestras de estas dos distribuciones\n",
    "comunes en el papel probabilístico de Gumbel de máximos y de mínimos. Así podremoas analizar en cada caso el dominio de atracción de los extremos.\n",
    "\n",
    "Usaremos el fichero *distribuciones.rda* que contiene datos provenientes\n",
    "de una distribución $N(\\mu=6, \\sigma=2)$ y $Exp(\\alpha=0.2)$."
   ]
  },
  {
   "cell_type": "code",
   "execution_count": null,
   "id": "10736481-ad63-4c91-851a-b76c567be7d4",
   "metadata": {},
   "outputs": [],
   "source": [
    "# Carga de datos \n",
    "load(\"data/distribuciones.rda\")\n",
    "attach(distribuciones)\n",
    "# Papel probabilistico de Gumbel para maximos\n",
    "papel.maximal(normal, x.transform=\"gumbel\", type=\"l\", lwd=2)\n",
    "title(\"Papel probabilistico de Gumbel para maximos\")\n",
    "papel.maximal.lines(exp, col=\"red\", lwd=2)\n",
    "legend(\"topleft\", legend=c(\"Normal\", \"Exp\"),\n",
    "       col=c(\"black\",\"red\"), lty=1, box.lty=0, bg=\"white\")\n",
    "# Papel probabilistico de Gumbel para minimos\n",
    "papel.minimal(normal, x.transform=\"gumbel\", type=\"l\", lwd=2)\n",
    "title(\"Papel probabilistico de Gumbel para minimos\")\n",
    "papel.minimal.lines(exp, col=\"red\", lwd=2)\n",
    "legend(\"bottomright\", legend=c(\"Normal\", \"Exp\"),\n",
    "       col=c(\"black\",\"red\"), lty=1, box.lty=0, bg=\"white\")\n"
   ]
  },
  {
   "cell_type": "markdown",
   "id": "59173c71-4b49-494d-805f-9d521550f48c",
   "metadata": {},
   "source": [
    "En este caso hemos usado las funciones `papel.maximal.lines`\n",
    "y `papel.minimal.lines` del fichero `papeles.R` que nos permiten\n",
    "añadir la representación de otra muestra al gráfico del papel\n",
    "probabilístico maximal o mininal ya creado. Además, hemos utilizado el\n",
    "argumento `type=\"l\"` que ya conoceis puesto que lo admiten la mayoría de\n",
    "las funciones para dibujar de R usadas en prácticas anteriores, con objeto\n",
    "de representar los datos unidos con una línea en lugar de marcar los valores\n",
    "con puntos.\n",
    "\n",
    "La representación de estas dos distribuciones en el papel probabilístico de\n",
    "Gumbel para máximos, muestra una linealidad de la cola derecha en ambas distribuciones lo que confirma que tanto la distribución Normal como la exponencial pertenecen al dominio de atracción de Gumbel para\n",
    "máximos.\n",
    "\n",
    "Cuando representamos esas dos distribuciones en el papel probabilístico de Gumbel para mínimos, se\n",
    "aprecia la linealidad de la cola izquierda de la distribución Normal, indicando\n",
    "así un dominio de atracción para mínimos tipo Gumbel. En el caso de la\n",
    "exponencial se observa una pendiente vertical al aproximarse a sus límite\n",
    "inferiores. Esto sugiere un dominio de atracción para mínimos tipo Weibull. \n",
    "\n",
    "El análisis de ambas distribuciones confirma los dominios de atracción de los\n",
    "extremos que ya habíamos obtenido en clase para estas dos distribuciones\n",
    "comunes."
   ]
  },
  {
   "cell_type": "markdown",
   "id": "2c5fb98e-aac0-4fbe-ad22-22411fda9d08",
   "metadata": {},
   "source": [
    "<div class=\"alert alert-block alert-info\">\n",
    "<strong>PRACTICA TÚ MISMO</strong>\n",
    "\n",
    "- El fichero *T1007_llamadas_telefonicas.txt* contiene los tiempos en segundos entre $36$\n",
    "llamadas consecutivas realizadas en una central telefónica automática (Castillo y Pruneda, 2001)\n",
    "  1. Cargar estos datos en R.\n",
    "  2. Representar estos datos en papel probabilístico exponencial ¿Puede decirse que la ocurrencia de llamadas a esta centralita sigue un proceso de Poisson homogéneo?\n",
    "  3. Obtener la tasa de ocurrencia de llamadas en la centralita.\n",
    "  4. Estimar el dominio de atracción para mínimos y para máximos.\n",
    "  \n",
    "</div>"
   ]
  }
 ],
 "metadata": {
  "kernelspec": {
   "display_name": "R",
   "language": "R",
   "name": "ir"
  },
  "language_info": {
   "codemirror_mode": "r",
   "file_extension": ".r",
   "mimetype": "text/x-r-source",
   "name": "R",
   "pygments_lexer": "r",
   "version": "4.3.3"
  }
 },
 "nbformat": 4,
 "nbformat_minor": 5
}
